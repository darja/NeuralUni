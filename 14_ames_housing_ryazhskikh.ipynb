{
  "nbformat": 4,
  "nbformat_minor": 0,
  "metadata": {
    "colab": {
      "name": "14_ames_housing_ryazhskikh.ipynb",
      "version": "0.3.2",
      "provenance": [],
      "toc_visible": true,
      "include_colab_link": true
    },
    "kernelspec": {
      "name": "python3",
      "display_name": "Python 3"
    },
    "accelerator": "GPU"
  },
  "cells": [
    {
      "cell_type": "markdown",
      "metadata": {
        "id": "view-in-github",
        "colab_type": "text"
      },
      "source": [
        "<a href=\"https://colab.research.google.com/github/darja/NeuralUni/blob/master/14_ames_housing_ryazhskikh.ipynb\" target=\"_parent\"><img src=\"https://colab.research.google.com/assets/colab-badge.svg\" alt=\"Open In Colab\"/></a>"
      ]
    },
    {
      "cell_type": "markdown",
      "metadata": {
        "id": "fikdeAIiUify",
        "colab_type": "text"
      },
      "source": [
        "# Определение стоимости недвижимости из набора данных Ames Housing\n",
        "\n",
        "Примите условия участия в соревновании - https://www.kaggle.com/c/house-prices-advanced-regression-techniques\n",
        "\n",
        "Улучшайте решение, чтобы занять более высокое место в соревновании. Для этого:\n",
        "\n",
        "1. Изучите подготовку данных в опубликованных решениях:\n",
        "    - https://www.kaggle.com/apapiu/regularized-linear-models\n",
        "    - https://www.kaggle.com/juliencs/a-study-on-regression-applied-to-the-ames-dataset\n",
        "    - https://www.kaggle.com/hugosjoberg/house-prices-prediction-using-keras\n",
        "    - https://www.kaggle.com/diegosiebra/neural-network-model-for-house-prices-keras\n",
        "\n",
        "    Попробуйте применять подходы из этих решений.\n",
        "\n",
        "2. Изменяйте архитектуру нейронной сети:\n",
        "   - Добавьте еще один или два слоя в сеть, удалите один из слоев.\n",
        "   - Изменяйте количество нейронов на каждом слое: уменьшите в два раза, увеличите в два раза.\n",
        "   - Добавьте регуляризацию: Dropout, L2 или L1.\n",
        "   \n",
        "3. Изменяйте метод обучения нейронной сети:\n",
        "    - Используйте разные оптимизаторы ('SGD', 'adam', 'rmsprop', 'adadelta').\n",
        "    - Изменяйте размер мини-выборки.\n",
        "    - Изменяйте размер параметра скорости обучения.\n",
        "\n",
        "4. Удалите выбросы из обучающего набора данных (дома с площадью более 4000).\n",
        "\n",
        "5. Удалите из набора данных признаки с высокой корреляцией (связанные между собой). Смотрите примеры в ноутбуках из пункта 1.\n",
        "\n",
        "6. Добавьте производных признаков в данные для обучения (смотрите примеры в ноутбуках из пункта 1)."
      ]
    },
    {
      "cell_type": "markdown",
      "metadata": {
        "id": "aD8sNavmJSSt",
        "colab_type": "text"
      },
      "source": [
        "# Подготовка окружения"
      ]
    },
    {
      "cell_type": "code",
      "metadata": {
        "id": "fBIgB31IJtEs",
        "colab_type": "code",
        "colab": {}
      },
      "source": [
        "from tensorflow.keras.models import Sequential\n",
        "from tensorflow.keras.layers import Dense\n",
        "from google.colab import files\n",
        "import matplotlib.pyplot as plt\n",
        "import seaborn as sns\n",
        "import numpy as np\n",
        "import pandas as pd\n",
        "%matplotlib inline "
      ],
      "execution_count": 0,
      "outputs": []
    },
    {
      "cell_type": "markdown",
      "metadata": {
        "id": "8ETOkj-KWNMH",
        "colab_type": "text"
      },
      "source": [
        "## Настраиваем Kaggle API"
      ]
    },
    {
      "cell_type": "markdown",
      "metadata": {
        "id": "SAq-tbMwWXw3",
        "colab_type": "text"
      },
      "source": [
        "Загружаем токен для аутентификации"
      ]
    },
    {
      "cell_type": "code",
      "metadata": {
        "id": "7KVZqeP8IO2V",
        "colab_type": "code",
        "outputId": "f50939b1-95d3-47ec-af4b-302030558baa",
        "colab": {
          "resources": {
            "http://localhost:8080/nbextensions/google.colab/files.js": {
              "data": "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",
              "ok": true,
              "headers": [
                [
                  "content-type",
                  "application/javascript"
                ]
              ],
              "status": 200,
              "status_text": ""
            }
          },
          "base_uri": "https://localhost:8080/",
          "height": 71
        }
      },
      "source": [
        "file = files.upload()\n",
        "!mkdir ~/.kaggle\n",
        "!mv kaggle.json ~/.kaggle"
      ],
      "execution_count": 2,
      "outputs": [
        {
          "output_type": "display_data",
          "data": {
            "text/html": [
              "\n",
              "     <input type=\"file\" id=\"files-6585a802-e219-4faf-a149-324410ce94a0\" name=\"files[]\" multiple disabled />\n",
              "     <output id=\"result-6585a802-e219-4faf-a149-324410ce94a0\">\n",
              "      Upload widget is only available when the cell has been executed in the\n",
              "      current browser session. Please rerun this cell to enable.\n",
              "      </output>\n",
              "      <script src=\"/nbextensions/google.colab/files.js\"></script> "
            ],
            "text/plain": [
              "<IPython.core.display.HTML object>"
            ]
          },
          "metadata": {
            "tags": []
          }
        },
        {
          "output_type": "stream",
          "text": [
            "Saving kaggle.json to kaggle.json\n"
          ],
          "name": "stdout"
        }
      ]
    },
    {
      "cell_type": "markdown",
      "metadata": {
        "id": "1cp02pHbIoEV",
        "colab_type": "text"
      },
      "source": [
        "## Загрузка данных"
      ]
    },
    {
      "cell_type": "markdown",
      "metadata": {
        "id": "lLnmiai7Jq9f",
        "colab_type": "text"
      },
      "source": [
        "### Скачивание набора данных"
      ]
    },
    {
      "cell_type": "code",
      "metadata": {
        "id": "m-xlRl9UIqgt",
        "colab_type": "code",
        "outputId": "6fab0602-1759-4dba-b0cf-2f0cc22d9def",
        "colab": {
          "base_uri": "https://localhost:8080/",
          "height": 238
        }
      },
      "source": [
        "!kaggle competitions download -c house-prices-advanced-regression-techniques"
      ],
      "execution_count": 3,
      "outputs": [
        {
          "output_type": "stream",
          "text": [
            "Warning: Your Kaggle API key is readable by other users on this system! To fix this, you can run 'chmod 600 /root/.kaggle/kaggle.json'\n",
            "Downloading sample_submission.csv to /content\n",
            "  0% 0.00/31.2k [00:00<?, ?B/s]\n",
            "100% 31.2k/31.2k [00:00<00:00, 12.0MB/s]\n",
            "Downloading test.csv to /content\n",
            "  0% 0.00/441k [00:00<?, ?B/s]\n",
            "100% 441k/441k [00:00<00:00, 62.2MB/s]\n",
            "Downloading train.csv to /content\n",
            "  0% 0.00/450k [00:00<?, ?B/s]\n",
            "100% 450k/450k [00:00<00:00, 60.4MB/s]\n",
            "Downloading data_description.txt to /content\n",
            "  0% 0.00/13.1k [00:00<?, ?B/s]\n",
            "100% 13.1k/13.1k [00:00<00:00, 12.9MB/s]\n"
          ],
          "name": "stdout"
        }
      ]
    },
    {
      "cell_type": "markdown",
      "metadata": {
        "id": "clE2bF8TZ9Uv",
        "colab_type": "text"
      },
      "source": [
        "### Просмотр данных"
      ]
    },
    {
      "cell_type": "code",
      "metadata": {
        "id": "6IHb5pZQZ8vu",
        "colab_type": "code",
        "colab": {}
      },
      "source": [
        "!head train.csv"
      ],
      "execution_count": 0,
      "outputs": []
    },
    {
      "cell_type": "code",
      "metadata": {
        "id": "t7dIha5jaXV_",
        "colab_type": "code",
        "outputId": "1e73dcdb-78db-4366-e7cb-7c1a720038ee",
        "colab": {
          "base_uri": "https://localhost:8080/",
          "height": 8908
        }
      },
      "source": [
        "!cat data_description.txt"
      ],
      "execution_count": 5,
      "outputs": [
        {
          "output_type": "stream",
          "text": [
            "MSSubClass: Identifies the type of dwelling involved in the sale.\t\n",
            "\n",
            "        20\t1-STORY 1946 & NEWER ALL STYLES\n",
            "        30\t1-STORY 1945 & OLDER\n",
            "        40\t1-STORY W/FINISHED ATTIC ALL AGES\n",
            "        45\t1-1/2 STORY - UNFINISHED ALL AGES\n",
            "        50\t1-1/2 STORY FINISHED ALL AGES\n",
            "        60\t2-STORY 1946 & NEWER\n",
            "        70\t2-STORY 1945 & OLDER\n",
            "        75\t2-1/2 STORY ALL AGES\n",
            "        80\tSPLIT OR MULTI-LEVEL\n",
            "        85\tSPLIT FOYER\n",
            "        90\tDUPLEX - ALL STYLES AND AGES\n",
            "       120\t1-STORY PUD (Planned Unit Development) - 1946 & NEWER\n",
            "       150\t1-1/2 STORY PUD - ALL AGES\n",
            "       160\t2-STORY PUD - 1946 & NEWER\n",
            "       180\tPUD - MULTILEVEL - INCL SPLIT LEV/FOYER\n",
            "       190\t2 FAMILY CONVERSION - ALL STYLES AND AGES\n",
            "\n",
            "MSZoning: Identifies the general zoning classification of the sale.\n",
            "\t\t\n",
            "       A\tAgriculture\n",
            "       C\tCommercial\n",
            "       FV\tFloating Village Residential\n",
            "       I\tIndustrial\n",
            "       RH\tResidential High Density\n",
            "       RL\tResidential Low Density\n",
            "       RP\tResidential Low Density Park \n",
            "       RM\tResidential Medium Density\n",
            "\t\n",
            "LotFrontage: Linear feet of street connected to property\n",
            "\n",
            "LotArea: Lot size in square feet\n",
            "\n",
            "Street: Type of road access to property\n",
            "\n",
            "       Grvl\tGravel\t\n",
            "       Pave\tPaved\n",
            "       \t\n",
            "Alley: Type of alley access to property\n",
            "\n",
            "       Grvl\tGravel\n",
            "       Pave\tPaved\n",
            "       NA \tNo alley access\n",
            "\t\t\n",
            "LotShape: General shape of property\n",
            "\n",
            "       Reg\tRegular\t\n",
            "       IR1\tSlightly irregular\n",
            "       IR2\tModerately Irregular\n",
            "       IR3\tIrregular\n",
            "       \n",
            "LandContour: Flatness of the property\n",
            "\n",
            "       Lvl\tNear Flat/Level\t\n",
            "       Bnk\tBanked - Quick and significant rise from street grade to building\n",
            "       HLS\tHillside - Significant slope from side to side\n",
            "       Low\tDepression\n",
            "\t\t\n",
            "Utilities: Type of utilities available\n",
            "\t\t\n",
            "       AllPub\tAll public Utilities (E,G,W,& S)\t\n",
            "       NoSewr\tElectricity, Gas, and Water (Septic Tank)\n",
            "       NoSeWa\tElectricity and Gas Only\n",
            "       ELO\tElectricity only\t\n",
            "\t\n",
            "LotConfig: Lot configuration\n",
            "\n",
            "       Inside\tInside lot\n",
            "       Corner\tCorner lot\n",
            "       CulDSac\tCul-de-sac\n",
            "       FR2\tFrontage on 2 sides of property\n",
            "       FR3\tFrontage on 3 sides of property\n",
            "\t\n",
            "LandSlope: Slope of property\n",
            "\t\t\n",
            "       Gtl\tGentle slope\n",
            "       Mod\tModerate Slope\t\n",
            "       Sev\tSevere Slope\n",
            "\t\n",
            "Neighborhood: Physical locations within Ames city limits\n",
            "\n",
            "       Blmngtn\tBloomington Heights\n",
            "       Blueste\tBluestem\n",
            "       BrDale\tBriardale\n",
            "       BrkSide\tBrookside\n",
            "       ClearCr\tClear Creek\n",
            "       CollgCr\tCollege Creek\n",
            "       Crawfor\tCrawford\n",
            "       Edwards\tEdwards\n",
            "       Gilbert\tGilbert\n",
            "       IDOTRR\tIowa DOT and Rail Road\n",
            "       MeadowV\tMeadow Village\n",
            "       Mitchel\tMitchell\n",
            "       Names\tNorth Ames\n",
            "       NoRidge\tNorthridge\n",
            "       NPkVill\tNorthpark Villa\n",
            "       NridgHt\tNorthridge Heights\n",
            "       NWAmes\tNorthwest Ames\n",
            "       OldTown\tOld Town\n",
            "       SWISU\tSouth & West of Iowa State University\n",
            "       Sawyer\tSawyer\n",
            "       SawyerW\tSawyer West\n",
            "       Somerst\tSomerset\n",
            "       StoneBr\tStone Brook\n",
            "       Timber\tTimberland\n",
            "       Veenker\tVeenker\n",
            "\t\t\t\n",
            "Condition1: Proximity to various conditions\n",
            "\t\n",
            "       Artery\tAdjacent to arterial street\n",
            "       Feedr\tAdjacent to feeder street\t\n",
            "       Norm\tNormal\t\n",
            "       RRNn\tWithin 200' of North-South Railroad\n",
            "       RRAn\tAdjacent to North-South Railroad\n",
            "       PosN\tNear positive off-site feature--park, greenbelt, etc.\n",
            "       PosA\tAdjacent to postive off-site feature\n",
            "       RRNe\tWithin 200' of East-West Railroad\n",
            "       RRAe\tAdjacent to East-West Railroad\n",
            "\t\n",
            "Condition2: Proximity to various conditions (if more than one is present)\n",
            "\t\t\n",
            "       Artery\tAdjacent to arterial street\n",
            "       Feedr\tAdjacent to feeder street\t\n",
            "       Norm\tNormal\t\n",
            "       RRNn\tWithin 200' of North-South Railroad\n",
            "       RRAn\tAdjacent to North-South Railroad\n",
            "       PosN\tNear positive off-site feature--park, greenbelt, etc.\n",
            "       PosA\tAdjacent to postive off-site feature\n",
            "       RRNe\tWithin 200' of East-West Railroad\n",
            "       RRAe\tAdjacent to East-West Railroad\n",
            "\t\n",
            "BldgType: Type of dwelling\n",
            "\t\t\n",
            "       1Fam\tSingle-family Detached\t\n",
            "       2FmCon\tTwo-family Conversion; originally built as one-family dwelling\n",
            "       Duplx\tDuplex\n",
            "       TwnhsE\tTownhouse End Unit\n",
            "       TwnhsI\tTownhouse Inside Unit\n",
            "\t\n",
            "HouseStyle: Style of dwelling\n",
            "\t\n",
            "       1Story\tOne story\n",
            "       1.5Fin\tOne and one-half story: 2nd level finished\n",
            "       1.5Unf\tOne and one-half story: 2nd level unfinished\n",
            "       2Story\tTwo story\n",
            "       2.5Fin\tTwo and one-half story: 2nd level finished\n",
            "       2.5Unf\tTwo and one-half story: 2nd level unfinished\n",
            "       SFoyer\tSplit Foyer\n",
            "       SLvl\tSplit Level\n",
            "\t\n",
            "OverallQual: Rates the overall material and finish of the house\n",
            "\n",
            "       10\tVery Excellent\n",
            "       9\tExcellent\n",
            "       8\tVery Good\n",
            "       7\tGood\n",
            "       6\tAbove Average\n",
            "       5\tAverage\n",
            "       4\tBelow Average\n",
            "       3\tFair\n",
            "       2\tPoor\n",
            "       1\tVery Poor\n",
            "\t\n",
            "OverallCond: Rates the overall condition of the house\n",
            "\n",
            "       10\tVery Excellent\n",
            "       9\tExcellent\n",
            "       8\tVery Good\n",
            "       7\tGood\n",
            "       6\tAbove Average\t\n",
            "       5\tAverage\n",
            "       4\tBelow Average\t\n",
            "       3\tFair\n",
            "       2\tPoor\n",
            "       1\tVery Poor\n",
            "\t\t\n",
            "YearBuilt: Original construction date\n",
            "\n",
            "YearRemodAdd: Remodel date (same as construction date if no remodeling or additions)\n",
            "\n",
            "RoofStyle: Type of roof\n",
            "\n",
            "       Flat\tFlat\n",
            "       Gable\tGable\n",
            "       Gambrel\tGabrel (Barn)\n",
            "       Hip\tHip\n",
            "       Mansard\tMansard\n",
            "       Shed\tShed\n",
            "\t\t\n",
            "RoofMatl: Roof material\n",
            "\n",
            "       ClyTile\tClay or Tile\n",
            "       CompShg\tStandard (Composite) Shingle\n",
            "       Membran\tMembrane\n",
            "       Metal\tMetal\n",
            "       Roll\tRoll\n",
            "       Tar&Grv\tGravel & Tar\n",
            "       WdShake\tWood Shakes\n",
            "       WdShngl\tWood Shingles\n",
            "\t\t\n",
            "Exterior1st: Exterior covering on house\n",
            "\n",
            "       AsbShng\tAsbestos Shingles\n",
            "       AsphShn\tAsphalt Shingles\n",
            "       BrkComm\tBrick Common\n",
            "       BrkFace\tBrick Face\n",
            "       CBlock\tCinder Block\n",
            "       CemntBd\tCement Board\n",
            "       HdBoard\tHard Board\n",
            "       ImStucc\tImitation Stucco\n",
            "       MetalSd\tMetal Siding\n",
            "       Other\tOther\n",
            "       Plywood\tPlywood\n",
            "       PreCast\tPreCast\t\n",
            "       Stone\tStone\n",
            "       Stucco\tStucco\n",
            "       VinylSd\tVinyl Siding\n",
            "       Wd Sdng\tWood Siding\n",
            "       WdShing\tWood Shingles\n",
            "\t\n",
            "Exterior2nd: Exterior covering on house (if more than one material)\n",
            "\n",
            "       AsbShng\tAsbestos Shingles\n",
            "       AsphShn\tAsphalt Shingles\n",
            "       BrkComm\tBrick Common\n",
            "       BrkFace\tBrick Face\n",
            "       CBlock\tCinder Block\n",
            "       CemntBd\tCement Board\n",
            "       HdBoard\tHard Board\n",
            "       ImStucc\tImitation Stucco\n",
            "       MetalSd\tMetal Siding\n",
            "       Other\tOther\n",
            "       Plywood\tPlywood\n",
            "       PreCast\tPreCast\n",
            "       Stone\tStone\n",
            "       Stucco\tStucco\n",
            "       VinylSd\tVinyl Siding\n",
            "       Wd Sdng\tWood Siding\n",
            "       WdShing\tWood Shingles\n",
            "\t\n",
            "MasVnrType: Masonry veneer type\n",
            "\n",
            "       BrkCmn\tBrick Common\n",
            "       BrkFace\tBrick Face\n",
            "       CBlock\tCinder Block\n",
            "       None\tNone\n",
            "       Stone\tStone\n",
            "\t\n",
            "MasVnrArea: Masonry veneer area in square feet\n",
            "\n",
            "ExterQual: Evaluates the quality of the material on the exterior \n",
            "\t\t\n",
            "       Ex\tExcellent\n",
            "       Gd\tGood\n",
            "       TA\tAverage/Typical\n",
            "       Fa\tFair\n",
            "       Po\tPoor\n",
            "\t\t\n",
            "ExterCond: Evaluates the present condition of the material on the exterior\n",
            "\t\t\n",
            "       Ex\tExcellent\n",
            "       Gd\tGood\n",
            "       TA\tAverage/Typical\n",
            "       Fa\tFair\n",
            "       Po\tPoor\n",
            "\t\t\n",
            "Foundation: Type of foundation\n",
            "\t\t\n",
            "       BrkTil\tBrick & Tile\n",
            "       CBlock\tCinder Block\n",
            "       PConc\tPoured Contrete\t\n",
            "       Slab\tSlab\n",
            "       Stone\tStone\n",
            "       Wood\tWood\n",
            "\t\t\n",
            "BsmtQual: Evaluates the height of the basement\n",
            "\n",
            "       Ex\tExcellent (100+ inches)\t\n",
            "       Gd\tGood (90-99 inches)\n",
            "       TA\tTypical (80-89 inches)\n",
            "       Fa\tFair (70-79 inches)\n",
            "       Po\tPoor (<70 inches\n",
            "       NA\tNo Basement\n",
            "\t\t\n",
            "BsmtCond: Evaluates the general condition of the basement\n",
            "\n",
            "       Ex\tExcellent\n",
            "       Gd\tGood\n",
            "       TA\tTypical - slight dampness allowed\n",
            "       Fa\tFair - dampness or some cracking or settling\n",
            "       Po\tPoor - Severe cracking, settling, or wetness\n",
            "       NA\tNo Basement\n",
            "\t\n",
            "BsmtExposure: Refers to walkout or garden level walls\n",
            "\n",
            "       Gd\tGood Exposure\n",
            "       Av\tAverage Exposure (split levels or foyers typically score average or above)\t\n",
            "       Mn\tMimimum Exposure\n",
            "       No\tNo Exposure\n",
            "       NA\tNo Basement\n",
            "\t\n",
            "BsmtFinType1: Rating of basement finished area\n",
            "\n",
            "       GLQ\tGood Living Quarters\n",
            "       ALQ\tAverage Living Quarters\n",
            "       BLQ\tBelow Average Living Quarters\t\n",
            "       Rec\tAverage Rec Room\n",
            "       LwQ\tLow Quality\n",
            "       Unf\tUnfinshed\n",
            "       NA\tNo Basement\n",
            "\t\t\n",
            "BsmtFinSF1: Type 1 finished square feet\n",
            "\n",
            "BsmtFinType2: Rating of basement finished area (if multiple types)\n",
            "\n",
            "       GLQ\tGood Living Quarters\n",
            "       ALQ\tAverage Living Quarters\n",
            "       BLQ\tBelow Average Living Quarters\t\n",
            "       Rec\tAverage Rec Room\n",
            "       LwQ\tLow Quality\n",
            "       Unf\tUnfinshed\n",
            "       NA\tNo Basement\n",
            "\n",
            "BsmtFinSF2: Type 2 finished square feet\n",
            "\n",
            "BsmtUnfSF: Unfinished square feet of basement area\n",
            "\n",
            "TotalBsmtSF: Total square feet of basement area\n",
            "\n",
            "Heating: Type of heating\n",
            "\t\t\n",
            "       Floor\tFloor Furnace\n",
            "       GasA\tGas forced warm air furnace\n",
            "       GasW\tGas hot water or steam heat\n",
            "       Grav\tGravity furnace\t\n",
            "       OthW\tHot water or steam heat other than gas\n",
            "       Wall\tWall furnace\n",
            "\t\t\n",
            "HeatingQC: Heating quality and condition\n",
            "\n",
            "       Ex\tExcellent\n",
            "       Gd\tGood\n",
            "       TA\tAverage/Typical\n",
            "       Fa\tFair\n",
            "       Po\tPoor\n",
            "\t\t\n",
            "CentralAir: Central air conditioning\n",
            "\n",
            "       N\tNo\n",
            "       Y\tYes\n",
            "\t\t\n",
            "Electrical: Electrical system\n",
            "\n",
            "       SBrkr\tStandard Circuit Breakers & Romex\n",
            "       FuseA\tFuse Box over 60 AMP and all Romex wiring (Average)\t\n",
            "       FuseF\t60 AMP Fuse Box and mostly Romex wiring (Fair)\n",
            "       FuseP\t60 AMP Fuse Box and mostly knob & tube wiring (poor)\n",
            "       Mix\tMixed\n",
            "\t\t\n",
            "1stFlrSF: First Floor square feet\n",
            " \n",
            "2ndFlrSF: Second floor square feet\n",
            "\n",
            "LowQualFinSF: Low quality finished square feet (all floors)\n",
            "\n",
            "GrLivArea: Above grade (ground) living area square feet\n",
            "\n",
            "BsmtFullBath: Basement full bathrooms\n",
            "\n",
            "BsmtHalfBath: Basement half bathrooms\n",
            "\n",
            "FullBath: Full bathrooms above grade\n",
            "\n",
            "HalfBath: Half baths above grade\n",
            "\n",
            "Bedroom: Bedrooms above grade (does NOT include basement bedrooms)\n",
            "\n",
            "Kitchen: Kitchens above grade\n",
            "\n",
            "KitchenQual: Kitchen quality\n",
            "\n",
            "       Ex\tExcellent\n",
            "       Gd\tGood\n",
            "       TA\tTypical/Average\n",
            "       Fa\tFair\n",
            "       Po\tPoor\n",
            "       \t\n",
            "TotRmsAbvGrd: Total rooms above grade (does not include bathrooms)\n",
            "\n",
            "Functional: Home functionality (Assume typical unless deductions are warranted)\n",
            "\n",
            "       Typ\tTypical Functionality\n",
            "       Min1\tMinor Deductions 1\n",
            "       Min2\tMinor Deductions 2\n",
            "       Mod\tModerate Deductions\n",
            "       Maj1\tMajor Deductions 1\n",
            "       Maj2\tMajor Deductions 2\n",
            "       Sev\tSeverely Damaged\n",
            "       Sal\tSalvage only\n",
            "\t\t\n",
            "Fireplaces: Number of fireplaces\n",
            "\n",
            "FireplaceQu: Fireplace quality\n",
            "\n",
            "       Ex\tExcellent - Exceptional Masonry Fireplace\n",
            "       Gd\tGood - Masonry Fireplace in main level\n",
            "       TA\tAverage - Prefabricated Fireplace in main living area or Masonry Fireplace in basement\n",
            "       Fa\tFair - Prefabricated Fireplace in basement\n",
            "       Po\tPoor - Ben Franklin Stove\n",
            "       NA\tNo Fireplace\n",
            "\t\t\n",
            "GarageType: Garage location\n",
            "\t\t\n",
            "       2Types\tMore than one type of garage\n",
            "       Attchd\tAttached to home\n",
            "       Basment\tBasement Garage\n",
            "       BuiltIn\tBuilt-In (Garage part of house - typically has room above garage)\n",
            "       CarPort\tCar Port\n",
            "       Detchd\tDetached from home\n",
            "       NA\tNo Garage\n",
            "\t\t\n",
            "GarageYrBlt: Year garage was built\n",
            "\t\t\n",
            "GarageFinish: Interior finish of the garage\n",
            "\n",
            "       Fin\tFinished\n",
            "       RFn\tRough Finished\t\n",
            "       Unf\tUnfinished\n",
            "       NA\tNo Garage\n",
            "\t\t\n",
            "GarageCars: Size of garage in car capacity\n",
            "\n",
            "GarageArea: Size of garage in square feet\n",
            "\n",
            "GarageQual: Garage quality\n",
            "\n",
            "       Ex\tExcellent\n",
            "       Gd\tGood\n",
            "       TA\tTypical/Average\n",
            "       Fa\tFair\n",
            "       Po\tPoor\n",
            "       NA\tNo Garage\n",
            "\t\t\n",
            "GarageCond: Garage condition\n",
            "\n",
            "       Ex\tExcellent\n",
            "       Gd\tGood\n",
            "       TA\tTypical/Average\n",
            "       Fa\tFair\n",
            "       Po\tPoor\n",
            "       NA\tNo Garage\n",
            "\t\t\n",
            "PavedDrive: Paved driveway\n",
            "\n",
            "       Y\tPaved \n",
            "       P\tPartial Pavement\n",
            "       N\tDirt/Gravel\n",
            "\t\t\n",
            "WoodDeckSF: Wood deck area in square feet\n",
            "\n",
            "OpenPorchSF: Open porch area in square feet\n",
            "\n",
            "EnclosedPorch: Enclosed porch area in square feet\n",
            "\n",
            "3SsnPorch: Three season porch area in square feet\n",
            "\n",
            "ScreenPorch: Screen porch area in square feet\n",
            "\n",
            "PoolArea: Pool area in square feet\n",
            "\n",
            "PoolQC: Pool quality\n",
            "\t\t\n",
            "       Ex\tExcellent\n",
            "       Gd\tGood\n",
            "       TA\tAverage/Typical\n",
            "       Fa\tFair\n",
            "       NA\tNo Pool\n",
            "\t\t\n",
            "Fence: Fence quality\n",
            "\t\t\n",
            "       GdPrv\tGood Privacy\n",
            "       MnPrv\tMinimum Privacy\n",
            "       GdWo\tGood Wood\n",
            "       MnWw\tMinimum Wood/Wire\n",
            "       NA\tNo Fence\n",
            "\t\n",
            "MiscFeature: Miscellaneous feature not covered in other categories\n",
            "\t\t\n",
            "       Elev\tElevator\n",
            "       Gar2\t2nd Garage (if not described in garage section)\n",
            "       Othr\tOther\n",
            "       Shed\tShed (over 100 SF)\n",
            "       TenC\tTennis Court\n",
            "       NA\tNone\n",
            "\t\t\n",
            "MiscVal: $Value of miscellaneous feature\n",
            "\n",
            "MoSold: Month Sold (MM)\n",
            "\n",
            "YrSold: Year Sold (YYYY)\n",
            "\n",
            "SaleType: Type of sale\n",
            "\t\t\n",
            "       WD \tWarranty Deed - Conventional\n",
            "       CWD\tWarranty Deed - Cash\n",
            "       VWD\tWarranty Deed - VA Loan\n",
            "       New\tHome just constructed and sold\n",
            "       COD\tCourt Officer Deed/Estate\n",
            "       Con\tContract 15% Down payment regular terms\n",
            "       ConLw\tContract Low Down payment and low interest\n",
            "       ConLI\tContract Low Interest\n",
            "       ConLD\tContract Low Down\n",
            "       Oth\tOther\n",
            "\t\t\n",
            "SaleCondition: Condition of sale\n",
            "\n",
            "       Normal\tNormal Sale\n",
            "       Abnorml\tAbnormal Sale -  trade, foreclosure, short sale\n",
            "       AdjLand\tAdjoining Land Purchase\n",
            "       Alloca\tAllocation - two linked properties with separate deeds, typically condo with a garage unit\t\n",
            "       Family\tSale between family members\n",
            "       Partial\tHome was not completed when last assessed (associated with New Homes)\n"
          ],
          "name": "stdout"
        }
      ]
    },
    {
      "cell_type": "code",
      "metadata": {
        "id": "3za2m93VaPAX",
        "colab_type": "code",
        "outputId": "a47569bd-fc77-4db9-b740-d3610044599c",
        "colab": {
          "base_uri": "https://localhost:8080/",
          "height": 208
        }
      },
      "source": [
        "!head test.csv"
      ],
      "execution_count": 0,
      "outputs": [
        {
          "output_type": "stream",
          "text": [
            "Id,MSSubClass,MSZoning,LotFrontage,LotArea,Street,Alley,LotShape,LandContour,Utilities,LotConfig,LandSlope,Neighborhood,Condition1,Condition2,BldgType,HouseStyle,OverallQual,OverallCond,YearBuilt,YearRemodAdd,RoofStyle,RoofMatl,Exterior1st,Exterior2nd,MasVnrType,MasVnrArea,ExterQual,ExterCond,Foundation,BsmtQual,BsmtCond,BsmtExposure,BsmtFinType1,BsmtFinSF1,BsmtFinType2,BsmtFinSF2,BsmtUnfSF,TotalBsmtSF,Heating,HeatingQC,CentralAir,Electrical,1stFlrSF,2ndFlrSF,LowQualFinSF,GrLivArea,BsmtFullBath,BsmtHalfBath,FullBath,HalfBath,BedroomAbvGr,KitchenAbvGr,KitchenQual,TotRmsAbvGrd,Functional,Fireplaces,FireplaceQu,GarageType,GarageYrBlt,GarageFinish,GarageCars,GarageArea,GarageQual,GarageCond,PavedDrive,WoodDeckSF,OpenPorchSF,EnclosedPorch,3SsnPorch,ScreenPorch,PoolArea,PoolQC,Fence,MiscFeature,MiscVal,MoSold,YrSold,SaleType,SaleCondition\n",
            "1461,20,RH,80,11622,Pave,NA,Reg,Lvl,AllPub,Inside,Gtl,NAmes,Feedr,Norm,1Fam,1Story,5,6,1961,1961,Gable,CompShg,VinylSd,VinylSd,None,0,TA,TA,CBlock,TA,TA,No,Rec,468,LwQ,144,270,882,GasA,TA,Y,SBrkr,896,0,0,896,0,0,1,0,2,1,TA,5,Typ,0,NA,Attchd,1961,Unf,1,730,TA,TA,Y,140,0,0,0,120,0,NA,MnPrv,NA,0,6,2010,WD,Normal\n",
            "1462,20,RL,81,14267,Pave,NA,IR1,Lvl,AllPub,Corner,Gtl,NAmes,Norm,Norm,1Fam,1Story,6,6,1958,1958,Hip,CompShg,Wd Sdng,Wd Sdng,BrkFace,108,TA,TA,CBlock,TA,TA,No,ALQ,923,Unf,0,406,1329,GasA,TA,Y,SBrkr,1329,0,0,1329,0,0,1,1,3,1,Gd,6,Typ,0,NA,Attchd,1958,Unf,1,312,TA,TA,Y,393,36,0,0,0,0,NA,NA,Gar2,12500,6,2010,WD,Normal\n",
            "1463,60,RL,74,13830,Pave,NA,IR1,Lvl,AllPub,Inside,Gtl,Gilbert,Norm,Norm,1Fam,2Story,5,5,1997,1998,Gable,CompShg,VinylSd,VinylSd,None,0,TA,TA,PConc,Gd,TA,No,GLQ,791,Unf,0,137,928,GasA,Gd,Y,SBrkr,928,701,0,1629,0,0,2,1,3,1,TA,6,Typ,1,TA,Attchd,1997,Fin,2,482,TA,TA,Y,212,34,0,0,0,0,NA,MnPrv,NA,0,3,2010,WD,Normal\n",
            "1464,60,RL,78,9978,Pave,NA,IR1,Lvl,AllPub,Inside,Gtl,Gilbert,Norm,Norm,1Fam,2Story,6,6,1998,1998,Gable,CompShg,VinylSd,VinylSd,BrkFace,20,TA,TA,PConc,TA,TA,No,GLQ,602,Unf,0,324,926,GasA,Ex,Y,SBrkr,926,678,0,1604,0,0,2,1,3,1,Gd,7,Typ,1,Gd,Attchd,1998,Fin,2,470,TA,TA,Y,360,36,0,0,0,0,NA,NA,NA,0,6,2010,WD,Normal\n",
            "1465,120,RL,43,5005,Pave,NA,IR1,HLS,AllPub,Inside,Gtl,StoneBr,Norm,Norm,TwnhsE,1Story,8,5,1992,1992,Gable,CompShg,HdBoard,HdBoard,None,0,Gd,TA,PConc,Gd,TA,No,ALQ,263,Unf,0,1017,1280,GasA,Ex,Y,SBrkr,1280,0,0,1280,0,0,2,0,2,1,Gd,5,Typ,0,NA,Attchd,1992,RFn,2,506,TA,TA,Y,0,82,0,0,144,0,NA,NA,NA,0,1,2010,WD,Normal\n",
            "1466,60,RL,75,10000,Pave,NA,IR1,Lvl,AllPub,Corner,Gtl,Gilbert,Norm,Norm,1Fam,2Story,6,5,1993,1994,Gable,CompShg,HdBoard,HdBoard,None,0,TA,TA,PConc,Gd,TA,No,Unf,0,Unf,0,763,763,GasA,Gd,Y,SBrkr,763,892,0,1655,0,0,2,1,3,1,TA,7,Typ,1,TA,Attchd,1993,Fin,2,440,TA,TA,Y,157,84,0,0,0,0,NA,NA,NA,0,4,2010,WD,Normal\n",
            "1467,20,RL,NA,7980,Pave,NA,IR1,Lvl,AllPub,Inside,Gtl,Gilbert,Norm,Norm,1Fam,1Story,6,7,1992,2007,Gable,CompShg,HdBoard,HdBoard,None,0,TA,Gd,PConc,Gd,TA,No,ALQ,935,Unf,0,233,1168,GasA,Ex,Y,SBrkr,1187,0,0,1187,1,0,2,0,3,1,TA,6,Typ,0,NA,Attchd,1992,Fin,2,420,TA,TA,Y,483,21,0,0,0,0,NA,GdPrv,Shed,500,3,2010,WD,Normal\n",
            "1468,60,RL,63,8402,Pave,NA,IR1,Lvl,AllPub,Inside,Gtl,Gilbert,Norm,Norm,1Fam,2Story,6,5,1998,1998,Gable,CompShg,VinylSd,VinylSd,None,0,TA,TA,PConc,Gd,TA,No,Unf,0,Unf,0,789,789,GasA,Gd,Y,SBrkr,789,676,0,1465,0,0,2,1,3,1,TA,7,Typ,1,Gd,Attchd,1998,Fin,2,393,TA,TA,Y,0,75,0,0,0,0,NA,NA,NA,0,5,2010,WD,Normal\n",
            "1469,20,RL,85,10176,Pave,NA,Reg,Lvl,AllPub,Inside,Gtl,Gilbert,Norm,Norm,1Fam,1Story,7,5,1990,1990,Gable,CompShg,HdBoard,HdBoard,None,0,TA,TA,PConc,Gd,TA,Gd,GLQ,637,Unf,0,663,1300,GasA,Gd,Y,SBrkr,1341,0,0,1341,1,0,1,1,2,1,Gd,5,Typ,1,Po,Attchd,1990,Unf,2,506,TA,TA,Y,192,0,0,0,0,0,NA,NA,NA,0,2,2010,WD,Normal\n"
          ],
          "name": "stdout"
        }
      ]
    },
    {
      "cell_type": "code",
      "metadata": {
        "id": "lMskNKBTbBkv",
        "colab_type": "code",
        "outputId": "6302ab57-2b3f-48c3-b111-ba1d0f7f7e2d",
        "colab": {
          "base_uri": "https://localhost:8080/",
          "height": 188
        }
      },
      "source": [
        "!head sample_submission.csv"
      ],
      "execution_count": 0,
      "outputs": [
        {
          "output_type": "stream",
          "text": [
            "Id,SalePrice\n",
            "1461,169277.0524984\n",
            "1462,187758.393988768\n",
            "1463,183583.683569555\n",
            "1464,179317.47751083\n",
            "1465,150730.079976501\n",
            "1466,177150.989247307\n",
            "1467,172070.659229164\n",
            "1468,175110.956519547\n",
            "1469,162011.698831665\n"
          ],
          "name": "stdout"
        }
      ]
    },
    {
      "cell_type": "markdown",
      "metadata": {
        "id": "MMRB3_zcl6cG",
        "colab_type": "text"
      },
      "source": [
        "### Загрузка набора данных в память"
      ]
    },
    {
      "cell_type": "code",
      "metadata": {
        "id": "IhgI3m4MomFG",
        "colab_type": "code",
        "colab": {}
      },
      "source": [
        "train = pd.read_csv('train.csv')"
      ],
      "execution_count": 0,
      "outputs": []
    },
    {
      "cell_type": "markdown",
      "metadata": {
        "id": "t5kgf3W458kb",
        "colab_type": "text"
      },
      "source": [
        "Выделяем метки (целевую переменную)"
      ]
    },
    {
      "cell_type": "code",
      "metadata": {
        "id": "iOTRtSSl6AMP",
        "colab_type": "code",
        "colab": {}
      },
      "source": [
        "y_train = train['SalePrice']"
      ],
      "execution_count": 0,
      "outputs": []
    },
    {
      "cell_type": "markdown",
      "metadata": {
        "id": "1-nGZWcxpKFV",
        "colab_type": "text"
      },
      "source": [
        "# Описательная статистика (exploratory data analysis)"
      ]
    },
    {
      "cell_type": "markdown",
      "metadata": {
        "id": "B8-5-lemqDfn",
        "colab_type": "text"
      },
      "source": [
        "Исследуем целевую переменную"
      ]
    },
    {
      "cell_type": "code",
      "metadata": {
        "id": "28B0_AjfqGh3",
        "colab_type": "code",
        "outputId": "5cd87666-a4ef-4d08-a092-b32d8b570ed2",
        "colab": {
          "base_uri": "https://localhost:8080/",
          "height": 170
        }
      },
      "source": [
        "y_train.describe()"
      ],
      "execution_count": 6,
      "outputs": [
        {
          "output_type": "execute_result",
          "data": {
            "text/plain": [
              "count      1460.000000\n",
              "mean     180921.195890\n",
              "std       79442.502883\n",
              "min       34900.000000\n",
              "25%      129975.000000\n",
              "50%      163000.000000\n",
              "75%      214000.000000\n",
              "max      755000.000000\n",
              "Name: SalePrice, dtype: float64"
            ]
          },
          "metadata": {
            "tags": []
          },
          "execution_count": 6
        }
      ]
    },
    {
      "cell_type": "code",
      "metadata": {
        "id": "0gjgl9EIqZK3",
        "colab_type": "code",
        "outputId": "e974fd5f-2d1b-4827-c4a1-197a3b8bdcb9",
        "colab": {
          "base_uri": "https://localhost:8080/",
          "height": 269
        }
      },
      "source": [
        "plt.hist(y_train)\n",
        "plt.show()"
      ],
      "execution_count": 7,
      "outputs": [
        {
          "output_type": "display_data",
          "data": {
            "image/png": "[encoded data removed]",
            "text/plain": [
              "<Figure size 432x288 with 1 Axes>"
            ]
          },
          "metadata": {
            "tags": []
          }
        }
      ]
    },
    {
      "cell_type": "markdown",
      "metadata": {
        "id": "3AI56ZVvkIN6",
        "colab_type": "text"
      },
      "source": [
        "Влияние признаков на целевую переменную"
      ]
    },
    {
      "cell_type": "code",
      "metadata": {
        "id": "aiqqdL0vkZ2D",
        "colab_type": "code",
        "outputId": "95bc79d8-3315-49d7-c2c0-e9a0e1af3aa8",
        "colab": {
          "base_uri": "https://localhost:8080/",
          "height": 954
        }
      },
      "source": [
        "corrmat = train.corr()\n",
        "f, ax = plt.subplots(figsize=(30, 15))\n",
        "sns.heatmap(corrmat);"
      ],
      "execution_count": 8,
      "outputs": [
        {
          "output_type": "display_data",
          "data": {
            "image/png": "[encoded data removed]",
            "text/plain": [
              "<Figure size 2160x1080 with 2 Axes>"
            ]
          },
          "metadata": {
            "tags": []
          }
        }
      ]
    },
    {
      "cell_type": "markdown",
      "metadata": {
        "id": "Z8srHK6XO6XK",
        "colab_type": "text"
      },
      "source": [
        "Наименее влиятельные признаки"
      ]
    },
    {
      "cell_type": "code",
      "metadata": {
        "id": "6Lx5rFPFKvXS",
        "colab_type": "code",
        "colab": {
          "base_uri": "https://localhost:8080/",
          "height": 51
        },
        "outputId": "07f1329e-0214-4df1-a463-bb49631e3fa1"
      },
      "source": [
        "salecorr = corrmat[\"SalePrice\"].abs().sort_values()\n",
        "salecorr = salecorr[salecorr < 0.05]\n",
        "less_corr = salecorr.index.values\n",
        "less_corr"
      ],
      "execution_count": 9,
      "outputs": [
        {
          "output_type": "execute_result",
          "data": {
            "text/plain": [
              "array(['BsmtFinSF2', 'BsmtHalfBath', 'MiscVal', 'Id', 'LowQualFinSF',\n",
              "       'YrSold', '3SsnPorch', 'MoSold'], dtype=object)"
            ]
          },
          "metadata": {
            "tags": []
          },
          "execution_count": 9
        }
      ]
    },
    {
      "cell_type": "markdown",
      "metadata": {
        "id": "zR-_B97vlv3J",
        "colab_type": "text"
      },
      "source": [
        "ТОП10 признаков"
      ]
    },
    {
      "cell_type": "code",
      "metadata": {
        "id": "tuT7P3SSlxnI",
        "colab_type": "code",
        "outputId": "feda2317-4479-44a0-a067-d4ae3a1da4e5",
        "colab": {
          "base_uri": "https://localhost:8080/",
          "height": 368
        }
      },
      "source": [
        "k = 10 \n",
        "cols = corrmat.nlargest(k, 'SalePrice')['SalePrice'].index\n",
        "cm = np.corrcoef(train[cols].values.T)\n",
        "sns.set(font_scale=1.25)\n",
        "hm = sns.heatmap(cm, cbar=True, annot=True, square=True, fmt='.2f', annot_kws={'size': 10}, yticklabels=cols.values, xticklabels=cols.values)\n",
        "plt.show()"
      ],
      "execution_count": 10,
      "outputs": [
        {
          "output_type": "display_data",
          "data": {
            "image/png": "[encoded data removed]",
            "text/plain": [
              "<Figure size 432x288 with 2 Axes>"
            ]
          },
          "metadata": {
            "tags": []
          }
        }
      ]
    },
    {
      "cell_type": "markdown",
      "metadata": {
        "id": "dbJjBcZiq5G3",
        "colab_type": "text"
      },
      "source": [
        "Стоимость жилья в зависимости от жилой площади"
      ]
    },
    {
      "cell_type": "code",
      "metadata": {
        "id": "hJDNAVNdqhOl",
        "colab_type": "code",
        "outputId": "e50c9ef6-b996-478f-c62c-2e5b4159103f",
        "colab": {
          "base_uri": "https://localhost:8080/",
          "height": 297
        }
      },
      "source": [
        "plt.scatter(train['GrLivArea'], y_train )\n",
        "plt.xlabel('Жилая площадь')\n",
        "plt.ylabel('Стоимость жилья')\n",
        "plt.show()"
      ],
      "execution_count": 14,
      "outputs": [
        {
          "output_type": "display_data",
          "data": {
            "image/png": "[encoded data removed]",
            "text/plain": [
              "<Figure size 432x288 with 1 Axes>"
            ]
          },
          "metadata": {
            "tags": []
          }
        }
      ]
    },
    {
      "cell_type": "markdown",
      "metadata": {
        "id": "RY52Qla7tDuN",
        "colab_type": "text"
      },
      "source": [
        "Стоимость жилья в зависимости от площади подвала"
      ]
    },
    {
      "cell_type": "code",
      "metadata": {
        "id": "gJN2A84NtGL2",
        "colab_type": "code",
        "outputId": "1a0b12cf-7f1e-4113-bf54-af24a5f835fd",
        "colab": {
          "base_uri": "https://localhost:8080/",
          "height": 297
        }
      },
      "source": [
        "plt.scatter(train['TotalBsmtSF'], y_train )\n",
        "plt.xlabel('Площадь подвала')\n",
        "plt.ylabel('Стоимость жилья')\n",
        "plt.show()"
      ],
      "execution_count": 15,
      "outputs": [
        {
          "output_type": "display_data",
          "data": {
            "image/png": "[encoded data removed]",
            "text/plain": [
              "<Figure size 432x288 with 1 Axes>"
            ]
          },
          "metadata": {
            "tags": []
          }
        }
      ]
    },
    {
      "cell_type": "markdown",
      "metadata": {
        "id": "WFl_q7DgKIQM",
        "colab_type": "text"
      },
      "source": [
        "# Подготовка набора данных для обучения"
      ]
    },
    {
      "cell_type": "markdown",
      "metadata": {
        "id": "K6O51npAGIl4",
        "colab_type": "text"
      },
      "source": [
        "## Утилиты"
      ]
    },
    {
      "cell_type": "code",
      "metadata": {
        "id": "aJwpIznA8TkD",
        "colab_type": "code",
        "colab": {}
      },
      "source": [
        "def clear_data(df):\n",
        "    # Источник - https://www.kaggle.com/juliencs/a-study-on-regression-applied-to-the-ames-dataset  \n",
        "\n",
        "    # Заполняем отсутсвующие значения\n",
        "    # Alley : data description says NA means \"no alley access\"\n",
        "    df[\"Alley\"] = df[\"Alley\"].fillna(\"None\")\n",
        "    # BedroomAbvGr : NA most likely means 0\n",
        "    df.loc[:, \"BedroomAbvGr\"] = df.loc[:, \"BedroomAbvGr\"].fillna(0)\n",
        "    # BsmtQual etc : data description says NA for basement features is \"no basement\"\n",
        "    df.loc[:, \"BsmtQual\"] = df.loc[:, \"BsmtQual\"].fillna(\"No\")\n",
        "    df.loc[:, \"BsmtCond\"] = df.loc[:, \"BsmtCond\"].fillna(\"No\")\n",
        "    df.loc[:, \"BsmtExposure\"] = df.loc[:, \"BsmtExposure\"].fillna(\"No\")\n",
        "    df.loc[:, \"BsmtFinType1\"] = df.loc[:, \"BsmtFinType1\"].fillna(\"No\")\n",
        "    df.loc[:, \"BsmtFinType2\"] = df.loc[:, \"BsmtFinType2\"].fillna(\"No\")\n",
        "    df.loc[:, \"BsmtFullBath\"] = df.loc[:, \"BsmtFullBath\"].fillna(0)\n",
        "    df.loc[:, \"BsmtHalfBath\"] = df.loc[:, \"BsmtHalfBath\"].fillna(0)\n",
        "    df.loc[:, \"BsmtUnfSF\"] = df.loc[:, \"BsmtUnfSF\"].fillna(0)\n",
        "    # CentralAir : NA most likely means No\n",
        "    df.loc[:, \"CentralAir\"] = df.loc[:, \"CentralAir\"].fillna(\"N\")\n",
        "    # Condition : NA most likely means Normal\n",
        "    df.loc[:, \"Condition1\"] = df.loc[:, \"Condition1\"].fillna(\"Norm\")\n",
        "    df.loc[:, \"Condition2\"] = df.loc[:, \"Condition2\"].fillna(\"Norm\")\n",
        "    # EnclosedPorch : NA most likely means no enclosed porch\n",
        "    df.loc[:, \"EnclosedPorch\"] = df.loc[:, \"EnclosedPorch\"].fillna(0)\n",
        "    # External stuff : NA most likely means average\n",
        "    df.loc[:, \"ExterCond\"] = df.loc[:, \"ExterCond\"].fillna(\"TA\")\n",
        "    df.loc[:, \"ExterQual\"] = df.loc[:, \"ExterQual\"].fillna(\"TA\")\n",
        "    # Fence : data description says NA means \"no fence\"\n",
        "    df.loc[:, \"Fence\"] = df.loc[:, \"Fence\"].fillna(\"No\")\n",
        "    # FireplaceQu : data description says NA means \"no fireplace\"\n",
        "    df.loc[:, \"FireplaceQu\"] = df.loc[:, \"FireplaceQu\"].fillna(\"No\")\n",
        "    df.loc[:, \"Fireplaces\"] = df.loc[:, \"Fireplaces\"].fillna(0)\n",
        "    # Functional : data description says NA means typical\n",
        "    df.loc[:, \"Functional\"] = df.loc[:, \"Functional\"].fillna(\"Typ\")\n",
        "    # GarageType etc : data description says NA for garage features is \"no garage\"\n",
        "    df.loc[:, \"GarageType\"] = df.loc[:, \"GarageType\"].fillna(\"No\")\n",
        "    df.loc[:, \"GarageFinish\"] = df.loc[:, \"GarageFinish\"].fillna(\"No\")\n",
        "    df.loc[:, \"GarageQual\"] = df.loc[:, \"GarageQual\"].fillna(\"No\")\n",
        "    df.loc[:, \"GarageCond\"] = df.loc[:, \"GarageCond\"].fillna(\"No\")\n",
        "    df.loc[:, \"GarageArea\"] = df.loc[:, \"GarageArea\"].fillna(0)\n",
        "    df.loc[:, \"GarageCars\"] = df.loc[:, \"GarageCars\"].fillna(0)\n",
        "    # HalfBath : NA most likely means no half baths above grade\n",
        "    df.loc[:, \"HalfBath\"] = df.loc[:, \"HalfBath\"].fillna(0)\n",
        "    # HeatingQC : NA most likely means typical\n",
        "    df.loc[:, \"HeatingQC\"] = df.loc[:, \"HeatingQC\"].fillna(\"TA\")\n",
        "    # KitchenAbvGr : NA most likely means 0\n",
        "    df.loc[:, \"KitchenAbvGr\"] = df.loc[:, \"KitchenAbvGr\"].fillna(0)\n",
        "    # KitchenQual : NA most likely means typical\n",
        "    df.loc[:, \"KitchenQual\"] = df.loc[:, \"KitchenQual\"].fillna(\"TA\")\n",
        "    # LotFrontage : NA most likely means no lot frontage\n",
        "    df.loc[:, \"LotFrontage\"] = df.loc[:, \"LotFrontage\"].fillna(0)\n",
        "    # LotShape : NA most likely means regular\n",
        "    df.loc[:, \"LotShape\"] = df.loc[:, \"LotShape\"].fillna(\"Reg\")\n",
        "    # MasVnrType : NA most likely means no veneer\n",
        "    df.loc[:, \"MasVnrType\"] = df.loc[:, \"MasVnrType\"].fillna(\"None\")\n",
        "    df.loc[:, \"MasVnrArea\"] = df.loc[:, \"MasVnrArea\"].fillna(0)\n",
        "    # MiscFeature : data description says NA means \"no misc feature\"\n",
        "    df.loc[:, \"MiscFeature\"] = df.loc[:, \"MiscFeature\"].fillna(\"No\")\n",
        "    df.loc[:, \"MiscVal\"] = df.loc[:, \"MiscVal\"].fillna(0)\n",
        "    # OpenPorchSF : NA most likely means no open porch\n",
        "    df.loc[:, \"OpenPorchSF\"] = df.loc[:, \"OpenPorchSF\"].fillna(0)\n",
        "    # PavedDrive : NA most likely means not paved\n",
        "    df.loc[:, \"PavedDrive\"] = df.loc[:, \"PavedDrive\"].fillna(\"N\")\n",
        "    # PoolQC : data description says NA means \"no pool\"\n",
        "    df.loc[:, \"PoolQC\"] = df.loc[:, \"PoolQC\"].fillna(\"No\")\n",
        "    df.loc[:, \"PoolArea\"] = df.loc[:, \"PoolArea\"].fillna(0)\n",
        "    # SaleCondition : NA most likely means normal sale\n",
        "    df.loc[:, \"SaleCondition\"] = df.loc[:, \"SaleCondition\"].fillna(\"Normal\")\n",
        "    # ScreenPorch : NA most likely means no screen porch\n",
        "    df.loc[:, \"ScreenPorch\"] = df.loc[:, \"ScreenPorch\"].fillna(0)\n",
        "    # TotRmsAbvGrd : NA most likely means 0\n",
        "    df.loc[:, \"TotRmsAbvGrd\"] = df.loc[:, \"TotRmsAbvGrd\"].fillna(0)\n",
        "    # Utilities : NA most likely means all public utilities\n",
        "    df.loc[:, \"Utilities\"] = df.loc[:, \"Utilities\"].fillna(\"AllPub\")\n",
        "    # WoodDeckSF : NA most likely means no wood deck\n",
        "    df.loc[:, \"WoodDeckSF\"] = df.loc[:, \"WoodDeckSF\"].fillna(0)\n",
        "    \n",
        "    # Представляем некоторые категориальные значения в виде числовых\n",
        "    # если есть информация о порядке\n",
        "    df = df.replace({\"Alley\" : {\"None\" : 0, \"Grvl\" : 1, \"Pave\" : 2},\n",
        "                       \"BsmtCond\" : {\"No\" : 0, \"Po\" : 1, \"Fa\" : 2, \"TA\" : 3, \"Gd\" : 4, \"Ex\" : 5},\n",
        "                       \"BsmtExposure\" : {\"No\" : 0, \"Mn\" : 1, \"Av\": 2, \"Gd\" : 3},\n",
        "                       \"BsmtFinType1\" : {\"No\" : 0, \"Unf\" : 1, \"LwQ\": 2, \"Rec\" : 3, \"BLQ\" : 4, \n",
        "                                         \"ALQ\" : 5, \"GLQ\" : 6},\n",
        "                       \"BsmtFinType2\" : {\"No\" : 0, \"Unf\" : 1, \"LwQ\": 2, \"Rec\" : 3, \"BLQ\" : 4, \n",
        "                                         \"ALQ\" : 5, \"GLQ\" : 6},\n",
        "                       \"BsmtQual\" : {\"No\" : 0, \"Po\" : 1, \"Fa\" : 2, \"TA\": 3, \"Gd\" : 4, \"Ex\" : 5},\n",
        "                       \"ExterCond\" : {\"Po\" : 1, \"Fa\" : 2, \"TA\": 3, \"Gd\": 4, \"Ex\" : 5},\n",
        "                       \"ExterQual\" : {\"Po\" : 1, \"Fa\" : 2, \"TA\": 3, \"Gd\": 4, \"Ex\" : 5},\n",
        "                       \"FireplaceQu\" : {\"No\" : 0, \"Po\" : 1, \"Fa\" : 2, \"TA\" : 3, \"Gd\" : 4, \"Ex\" : 5},\n",
        "                       \"Functional\" : {\"Sal\" : 1, \"Sev\" : 2, \"Maj2\" : 3, \"Maj1\" : 4, \"Mod\": 5, \n",
        "                                       \"Min2\" : 6, \"Min1\" : 7, \"Typ\" : 8},\n",
        "                       \"GarageCond\" : {\"No\" : 0, \"Po\" : 1, \"Fa\" : 2, \"TA\" : 3, \"Gd\" : 4, \"Ex\" : 5},\n",
        "                       \"GarageQual\" : {\"No\" : 0, \"Po\" : 1, \"Fa\" : 2, \"TA\" : 3, \"Gd\" : 4, \"Ex\" : 5},\n",
        "                       \"HeatingQC\" : {\"Po\" : 1, \"Fa\" : 2, \"TA\" : 3, \"Gd\" : 4, \"Ex\" : 5},\n",
        "                       \"KitchenQual\" : {\"Po\" : 1, \"Fa\" : 2, \"TA\" : 3, \"Gd\" : 4, \"Ex\" : 5},\n",
        "                       \"LandSlope\" : {\"Sev\" : 1, \"Mod\" : 2, \"Gtl\" : 3},\n",
        "                       \"LotShape\" : {\"IR3\" : 1, \"IR2\" : 2, \"IR1\" : 3, \"Reg\" : 4},\n",
        "                       \"PavedDrive\" : {\"N\" : 0, \"P\" : 1, \"Y\" : 2},\n",
        "                       \"PoolQC\" : {\"No\" : 0, \"Fa\" : 1, \"TA\" : 2, \"Gd\" : 3, \"Ex\" : 4},\n",
        "                       \"Street\" : {\"Grvl\" : 1, \"Pave\" : 2},\n",
        "                       \"Utilities\" : {\"ELO\" : 1, \"NoSeWa\" : 2, \"NoSewr\" : 3, \"AllPub\" : 4}}\n",
        "                     )    \n",
        "    \n",
        "    # Некоторые числовые переменные на самом деле категориальные\n",
        "    df = df.replace({\"MSSubClass\" : {20 : \"SC20\", 30 : \"SC30\", 40 : \"SC40\", 45 : \"SC45\", \n",
        "                                       50 : \"SC50\", 60 : \"SC60\", 70 : \"SC70\", 75 : \"SC75\", \n",
        "                                       80 : \"SC80\", 85 : \"SC85\", 90 : \"SC90\", 120 : \"SC120\", \n",
        "                                       150 : \"SC150\", 160 : \"SC160\", 180 : \"SC180\", 190 : \"SC190\"},\n",
        "                       \"MoSold\" : {1 : \"Jan\", 2 : \"Feb\", 3 : \"Mar\", 4 : \"Apr\", 5 : \"May\", 6 : \"Jun\",\n",
        "                                   7 : \"Jul\", 8 : \"Aug\", 9 : \"Sep\", 10 : \"Oct\", 11 : \"Nov\", 12 : \"Dec\"}\n",
        "                      })\n",
        "    \n",
        "    return df"
      ],
      "execution_count": 0,
      "outputs": []
    },
    {
      "cell_type": "markdown",
      "metadata": {
        "id": "6aCVM0Lq4iZp",
        "colab_type": "text"
      },
      "source": [
        "MSSubClass: Identifies the type of dwelling involved in the sale.\t\n",
        "\n",
        "        20\t1-STORY 1946 & NEWER ALL STYLES\n",
        "        30\t1-STORY 1945 & OLDER\n",
        "        40\t1-STORY W/FINISHED ATTIC ALL AGES\n",
        "        45\t1-1/2 STORY - UNFINISHED ALL AGES\n",
        "        50\t1-1/2 STORY FINISHED ALL AGES\n",
        "        60\t2-STORY 1946 & NEWER\n",
        "        70\t2-STORY 1945 & OLDER\n",
        "        75\t2-1/2 STORY ALL AGES\n",
        "        80\tSPLIT OR MULTI-LEVEL\n",
        "        85\tSPLIT FOYER\n",
        "        90\tDUPLEX - ALL STYLES AND AGES\n",
        "       120\t1-STORY PUD (Planned Unit Development) - 1946 & NEWER\n",
        "       150\t1-1/2 STORY PUD - ALL AGES\n",
        "       160\t2-STORY PUD - 1946 & NEWER\n",
        "       180\tPUD - MULTILEVEL - INCL SPLIT LEV/FOYER\n",
        "       190\t2 FAMILY CONVERSION - ALL STYLES AND AGES"
      ]
    },
    {
      "cell_type": "markdown",
      "metadata": {
        "id": "htkLbIS7yA6b",
        "colab_type": "text"
      },
      "source": [
        "## Очистка данных"
      ]
    },
    {
      "cell_type": "code",
      "metadata": {
        "id": "Osua3RcyPft_",
        "colab_type": "code",
        "colab": {
          "base_uri": "https://localhost:8080/",
          "height": 253
        },
        "outputId": "9e5f4801-53b8-4abf-e4c4-688e3ed5aebc"
      },
      "source": [
        "train.head()"
      ],
      "execution_count": 12,
      "outputs": [
        {
          "output_type": "execute_result",
          "data": {
            "text/html": [
              "<div>\n",
              "<style scoped>\n",
              "    .dataframe tbody tr th:only-of-type {\n",
              "        vertical-align: middle;\n",
              "    }\n",
              "\n",
              "    .dataframe tbody tr th {\n",
              "        vertical-align: top;\n",
              "    }\n",
              "\n",
              "    .dataframe thead th {\n",
              "        text-align: right;\n",
              "    }\n",
              "</style>\n",
              "<table border=\"1\" class=\"dataframe\">\n",
              "  <thead>\n",
              "    <tr style=\"text-align: right;\">\n",
              "      <th></th>\n",
              "      <th>Id</th>\n",
              "      <th>MSSubClass</th>\n",
              "      <th>MSZoning</th>\n",
              "      <th>LotFrontage</th>\n",
              "      <th>LotArea</th>\n",
              "      <th>Street</th>\n",
              "      <th>Alley</th>\n",
              "      <th>LotShape</th>\n",
              "      <th>LandContour</th>\n",
              "      <th>Utilities</th>\n",
              "      <th>...</th>\n",
              "      <th>PoolArea</th>\n",
              "      <th>PoolQC</th>\n",
              "      <th>Fence</th>\n",
              "      <th>MiscFeature</th>\n",
              "      <th>MiscVal</th>\n",
              "      <th>MoSold</th>\n",
              "      <th>YrSold</th>\n",
              "      <th>SaleType</th>\n",
              "      <th>SaleCondition</th>\n",
              "      <th>SalePrice</th>\n",
              "    </tr>\n",
              "  </thead>\n",
              "  <tbody>\n",
              "    <tr>\n",
              "      <th>0</th>\n",
              "      <td>1</td>\n",
              "      <td>60</td>\n",
              "      <td>RL</td>\n",
              "      <td>65.0</td>\n",
              "      <td>8450</td>\n",
              "      <td>Pave</td>\n",
              "      <td>NaN</td>\n",
              "      <td>Reg</td>\n",
              "      <td>Lvl</td>\n",
              "      <td>AllPub</td>\n",
              "      <td>...</td>\n",
              "      <td>0</td>\n",
              "      <td>NaN</td>\n",
              "      <td>NaN</td>\n",
              "      <td>NaN</td>\n",
              "      <td>0</td>\n",
              "      <td>2</td>\n",
              "      <td>2008</td>\n",
              "      <td>WD</td>\n",
              "      <td>Normal</td>\n",
              "      <td>208500</td>\n",
              "    </tr>\n",
              "    <tr>\n",
              "      <th>1</th>\n",
              "      <td>2</td>\n",
              "      <td>20</td>\n",
              "      <td>RL</td>\n",
              "      <td>80.0</td>\n",
              "      <td>9600</td>\n",
              "      <td>Pave</td>\n",
              "      <td>NaN</td>\n",
              "      <td>Reg</td>\n",
              "      <td>Lvl</td>\n",
              "      <td>AllPub</td>\n",
              "      <td>...</td>\n",
              "      <td>0</td>\n",
              "      <td>NaN</td>\n",
              "      <td>NaN</td>\n",
              "      <td>NaN</td>\n",
              "      <td>0</td>\n",
              "      <td>5</td>\n",
              "      <td>2007</td>\n",
              "      <td>WD</td>\n",
              "      <td>Normal</td>\n",
              "      <td>181500</td>\n",
              "    </tr>\n",
              "    <tr>\n",
              "      <th>2</th>\n",
              "      <td>3</td>\n",
              "      <td>60</td>\n",
              "      <td>RL</td>\n",
              "      <td>68.0</td>\n",
              "      <td>11250</td>\n",
              "      <td>Pave</td>\n",
              "      <td>NaN</td>\n",
              "      <td>IR1</td>\n",
              "      <td>Lvl</td>\n",
              "      <td>AllPub</td>\n",
              "      <td>...</td>\n",
              "      <td>0</td>\n",
              "      <td>NaN</td>\n",
              "      <td>NaN</td>\n",
              "      <td>NaN</td>\n",
              "      <td>0</td>\n",
              "      <td>9</td>\n",
              "      <td>2008</td>\n",
              "      <td>WD</td>\n",
              "      <td>Normal</td>\n",
              "      <td>223500</td>\n",
              "    </tr>\n",
              "    <tr>\n",
              "      <th>3</th>\n",
              "      <td>4</td>\n",
              "      <td>70</td>\n",
              "      <td>RL</td>\n",
              "      <td>60.0</td>\n",
              "      <td>9550</td>\n",
              "      <td>Pave</td>\n",
              "      <td>NaN</td>\n",
              "      <td>IR1</td>\n",
              "      <td>Lvl</td>\n",
              "      <td>AllPub</td>\n",
              "      <td>...</td>\n",
              "      <td>0</td>\n",
              "      <td>NaN</td>\n",
              "      <td>NaN</td>\n",
              "      <td>NaN</td>\n",
              "      <td>0</td>\n",
              "      <td>2</td>\n",
              "      <td>2006</td>\n",
              "      <td>WD</td>\n",
              "      <td>Abnorml</td>\n",
              "      <td>140000</td>\n",
              "    </tr>\n",
              "    <tr>\n",
              "      <th>4</th>\n",
              "      <td>5</td>\n",
              "      <td>60</td>\n",
              "      <td>RL</td>\n",
              "      <td>84.0</td>\n",
              "      <td>14260</td>\n",
              "      <td>Pave</td>\n",
              "      <td>NaN</td>\n",
              "      <td>IR1</td>\n",
              "      <td>Lvl</td>\n",
              "      <td>AllPub</td>\n",
              "      <td>...</td>\n",
              "      <td>0</td>\n",
              "      <td>NaN</td>\n",
              "      <td>NaN</td>\n",
              "      <td>NaN</td>\n",
              "      <td>0</td>\n",
              "      <td>12</td>\n",
              "      <td>2008</td>\n",
              "      <td>WD</td>\n",
              "      <td>Normal</td>\n",
              "      <td>250000</td>\n",
              "    </tr>\n",
              "  </tbody>\n",
              "</table>\n",
              "<p>5 rows × 81 columns</p>\n",
              "</div>"
            ],
            "text/plain": [
              "   Id  MSSubClass MSZoning  LotFrontage  LotArea Street Alley LotShape  \\\n",
              "0   1          60       RL         65.0     8450   Pave   NaN      Reg   \n",
              "1   2          20       RL         80.0     9600   Pave   NaN      Reg   \n",
              "2   3          60       RL         68.0    11250   Pave   NaN      IR1   \n",
              "3   4          70       RL         60.0     9550   Pave   NaN      IR1   \n",
              "4   5          60       RL         84.0    14260   Pave   NaN      IR1   \n",
              "\n",
              "  LandContour Utilities  ... PoolArea PoolQC Fence MiscFeature MiscVal MoSold  \\\n",
              "0         Lvl    AllPub  ...        0    NaN   NaN         NaN       0      2   \n",
              "1         Lvl    AllPub  ...        0    NaN   NaN         NaN       0      5   \n",
              "2         Lvl    AllPub  ...        0    NaN   NaN         NaN       0      9   \n",
              "3         Lvl    AllPub  ...        0    NaN   NaN         NaN       0      2   \n",
              "4         Lvl    AllPub  ...        0    NaN   NaN         NaN       0     12   \n",
              "\n",
              "  YrSold  SaleType  SaleCondition  SalePrice  \n",
              "0   2008        WD         Normal     208500  \n",
              "1   2007        WD         Normal     181500  \n",
              "2   2008        WD         Normal     223500  \n",
              "3   2006        WD        Abnorml     140000  \n",
              "4   2008        WD         Normal     250000  \n",
              "\n",
              "[5 rows x 81 columns]"
            ]
          },
          "metadata": {
            "tags": []
          },
          "execution_count": 12
        }
      ]
    },
    {
      "cell_type": "markdown",
      "metadata": {
        "id": "G6cXeS2mHF3b",
        "colab_type": "text"
      },
      "source": [
        "Удаление колонок с наименьшей корреляцией"
      ]
    },
    {
      "cell_type": "code",
      "metadata": {
        "id": "XSGkku1StT-1",
        "colab_type": "code",
        "colab": {
          "base_uri": "https://localhost:8080/",
          "height": 324
        },
        "outputId": "3ddb23f4-8efb-45c4-e737-9d7b7f6404cf"
      },
      "source": [
        "train = clear_data(train)\n",
        "train.drop(less_corr, axis=1, inplace=True)"
      ],
      "execution_count": 15,
      "outputs": [
        {
          "output_type": "error",
          "ename": "TypeError",
          "evalue": "ignored",
          "traceback": [
            "\u001b[0;31m---------------------------------------------------------------------------\u001b[0m",
            "\u001b[0;31mTypeError\u001b[0m                                 Traceback (most recent call last)",
            "\u001b[0;32m<ipython-input-15-772348c40de1>\u001b[0m in \u001b[0;36m<module>\u001b[0;34m()\u001b[0m\n\u001b[0;32m----> 1\u001b[0;31m \u001b[0mtrain\u001b[0m \u001b[0;34m=\u001b[0m \u001b[0mclear_data\u001b[0m\u001b[0;34m(\u001b[0m\u001b[0mtrain\u001b[0m\u001b[0;34m)\u001b[0m\u001b[0;34m\u001b[0m\u001b[0;34m\u001b[0m\u001b[0m\n\u001b[0m\u001b[1;32m      2\u001b[0m \u001b[0mtrain\u001b[0m\u001b[0;34m.\u001b[0m\u001b[0mdrop\u001b[0m\u001b[0;34m(\u001b[0m\u001b[0mless_corr\u001b[0m\u001b[0;34m,\u001b[0m \u001b[0maxis\u001b[0m\u001b[0;34m=\u001b[0m\u001b[0;36m1\u001b[0m\u001b[0;34m,\u001b[0m \u001b[0minplace\u001b[0m\u001b[0;34m=\u001b[0m\u001b[0;32mTrue\u001b[0m\u001b[0;34m)\u001b[0m\u001b[0;34m\u001b[0m\u001b[0;34m\u001b[0m\u001b[0m\n",
            "\u001b[0;32m<ipython-input-11-38143099d9cc>\u001b[0m in \u001b[0;36mclear_data\u001b[0;34m(df)\u001b[0m\n\u001b[1;32m    100\u001b[0m                        \u001b[0;34m\"PoolQC\"\u001b[0m \u001b[0;34m:\u001b[0m \u001b[0;34m{\u001b[0m\u001b[0;34m\"No\"\u001b[0m \u001b[0;34m:\u001b[0m \u001b[0;36m0\u001b[0m\u001b[0;34m,\u001b[0m \u001b[0;34m\"Fa\"\u001b[0m \u001b[0;34m:\u001b[0m \u001b[0;36m1\u001b[0m\u001b[0;34m,\u001b[0m \u001b[0;34m\"TA\"\u001b[0m \u001b[0;34m:\u001b[0m \u001b[0;36m2\u001b[0m\u001b[0;34m,\u001b[0m \u001b[0;34m\"Gd\"\u001b[0m \u001b[0;34m:\u001b[0m \u001b[0;36m3\u001b[0m\u001b[0;34m,\u001b[0m \u001b[0;34m\"Ex\"\u001b[0m \u001b[0;34m:\u001b[0m \u001b[0;36m4\u001b[0m\u001b[0;34m}\u001b[0m\u001b[0;34m,\u001b[0m\u001b[0;34m\u001b[0m\u001b[0;34m\u001b[0m\u001b[0m\n\u001b[1;32m    101\u001b[0m                        \u001b[0;34m\"Street\"\u001b[0m \u001b[0;34m:\u001b[0m \u001b[0;34m{\u001b[0m\u001b[0;34m\"Grvl\"\u001b[0m \u001b[0;34m:\u001b[0m \u001b[0;36m1\u001b[0m\u001b[0;34m,\u001b[0m \u001b[0;34m\"Pave\"\u001b[0m \u001b[0;34m:\u001b[0m \u001b[0;36m2\u001b[0m\u001b[0;34m}\u001b[0m\u001b[0;34m,\u001b[0m\u001b[0;34m\u001b[0m\u001b[0;34m\u001b[0m\u001b[0m\n\u001b[0;32m--> 102\u001b[0;31m                        \"Utilities\" : {\"ELO\" : 1, \"NoSeWa\" : 2, \"NoSewr\" : 3, \"AllPub\" : 4}}\n\u001b[0m\u001b[1;32m    103\u001b[0m                      )    \n\u001b[1;32m    104\u001b[0m \u001b[0;34m\u001b[0m\u001b[0m\n",
            "\u001b[0;32m/usr/local/lib/python3.6/dist-packages/pandas/core/frame.py\u001b[0m in \u001b[0;36mreplace\u001b[0;34m(self, to_replace, value, inplace, limit, regex, method)\u001b[0m\n\u001b[1;32m   4040\u001b[0m                                               \u001b[0mvalue\u001b[0m\u001b[0;34m=\u001b[0m\u001b[0mvalue\u001b[0m\u001b[0;34m,\u001b[0m \u001b[0minplace\u001b[0m\u001b[0;34m=\u001b[0m\u001b[0minplace\u001b[0m\u001b[0;34m,\u001b[0m\u001b[0;34m\u001b[0m\u001b[0;34m\u001b[0m\u001b[0m\n\u001b[1;32m   4041\u001b[0m                                               \u001b[0mlimit\u001b[0m\u001b[0;34m=\u001b[0m\u001b[0mlimit\u001b[0m\u001b[0;34m,\u001b[0m \u001b[0mregex\u001b[0m\u001b[0;34m=\u001b[0m\u001b[0mregex\u001b[0m\u001b[0;34m,\u001b[0m\u001b[0;34m\u001b[0m\u001b[0;34m\u001b[0m\u001b[0m\n\u001b[0;32m-> 4042\u001b[0;31m                                               method=method)\n\u001b[0m\u001b[1;32m   4043\u001b[0m \u001b[0;34m\u001b[0m\u001b[0m\n\u001b[1;32m   4044\u001b[0m     \u001b[0;34m@\u001b[0m\u001b[0mAppender\u001b[0m\u001b[0;34m(\u001b[0m\u001b[0m_shared_docs\u001b[0m\u001b[0;34m[\u001b[0m\u001b[0;34m'shift'\u001b[0m\u001b[0;34m]\u001b[0m \u001b[0;34m%\u001b[0m \u001b[0m_shared_doc_kwargs\u001b[0m\u001b[0;34m)\u001b[0m\u001b[0;34m\u001b[0m\u001b[0;34m\u001b[0m\u001b[0m\n",
            "\u001b[0;32m/usr/local/lib/python3.6/dist-packages/pandas/core/generic.py\u001b[0m in \u001b[0;36mreplace\u001b[0;34m(self, to_replace, value, inplace, limit, regex, method)\u001b[0m\n\u001b[1;32m   6496\u001b[0m \u001b[0;34m\u001b[0m\u001b[0m\n\u001b[1;32m   6497\u001b[0m             return self.replace(to_replace, value, inplace=inplace,\n\u001b[0;32m-> 6498\u001b[0;31m                                 limit=limit, regex=regex)\n\u001b[0m\u001b[1;32m   6499\u001b[0m         \u001b[0;32melse\u001b[0m\u001b[0;34m:\u001b[0m\u001b[0;34m\u001b[0m\u001b[0;34m\u001b[0m\u001b[0m\n\u001b[1;32m   6500\u001b[0m \u001b[0;34m\u001b[0m\u001b[0m\n",
            "\u001b[0;32m/usr/local/lib/python3.6/dist-packages/pandas/core/frame.py\u001b[0m in \u001b[0;36mreplace\u001b[0;34m(self, to_replace, value, inplace, limit, regex, method)\u001b[0m\n\u001b[1;32m   4040\u001b[0m                                               \u001b[0mvalue\u001b[0m\u001b[0;34m=\u001b[0m\u001b[0mvalue\u001b[0m\u001b[0;34m,\u001b[0m \u001b[0minplace\u001b[0m\u001b[0;34m=\u001b[0m\u001b[0minplace\u001b[0m\u001b[0;34m,\u001b[0m\u001b[0;34m\u001b[0m\u001b[0;34m\u001b[0m\u001b[0m\n\u001b[1;32m   4041\u001b[0m                                               \u001b[0mlimit\u001b[0m\u001b[0;34m=\u001b[0m\u001b[0mlimit\u001b[0m\u001b[0;34m,\u001b[0m \u001b[0mregex\u001b[0m\u001b[0;34m=\u001b[0m\u001b[0mregex\u001b[0m\u001b[0;34m,\u001b[0m\u001b[0;34m\u001b[0m\u001b[0;34m\u001b[0m\u001b[0m\n\u001b[0;32m-> 4042\u001b[0;31m                                               method=method)\n\u001b[0m\u001b[1;32m   4043\u001b[0m \u001b[0;34m\u001b[0m\u001b[0m\n\u001b[1;32m   4044\u001b[0m     \u001b[0;34m@\u001b[0m\u001b[0mAppender\u001b[0m\u001b[0;34m(\u001b[0m\u001b[0m_shared_docs\u001b[0m\u001b[0;34m[\u001b[0m\u001b[0;34m'shift'\u001b[0m\u001b[0;34m]\u001b[0m \u001b[0;34m%\u001b[0m \u001b[0m_shared_doc_kwargs\u001b[0m\u001b[0;34m)\u001b[0m\u001b[0;34m\u001b[0m\u001b[0;34m\u001b[0m\u001b[0m\n",
            "\u001b[0;32m/usr/local/lib/python3.6/dist-packages/pandas/core/generic.py\u001b[0m in \u001b[0;36mreplace\u001b[0;34m(self, to_replace, value, inplace, limit, regex, method)\u001b[0m\n\u001b[1;32m   6515\u001b[0m                                                     \u001b[0mvalue\u001b[0m\u001b[0;34m=\u001b[0m\u001b[0mvalue\u001b[0m\u001b[0;34m[\u001b[0m\u001b[0mc\u001b[0m\u001b[0;34m]\u001b[0m\u001b[0;34m,\u001b[0m\u001b[0;34m\u001b[0m\u001b[0;34m\u001b[0m\u001b[0m\n\u001b[1;32m   6516\u001b[0m                                                     \u001b[0minplace\u001b[0m\u001b[0;34m=\u001b[0m\u001b[0;32mFalse\u001b[0m\u001b[0;34m,\u001b[0m\u001b[0;34m\u001b[0m\u001b[0;34m\u001b[0m\u001b[0m\n\u001b[0;32m-> 6517\u001b[0;31m                                                     regex=regex)\n\u001b[0m\u001b[1;32m   6518\u001b[0m                     \u001b[0;32mreturn\u001b[0m \u001b[0;32mNone\u001b[0m \u001b[0;32mif\u001b[0m \u001b[0minplace\u001b[0m \u001b[0;32melse\u001b[0m \u001b[0mres\u001b[0m\u001b[0;34m\u001b[0m\u001b[0;34m\u001b[0m\u001b[0m\n\u001b[1;32m   6519\u001b[0m \u001b[0;34m\u001b[0m\u001b[0m\n",
            "\u001b[0;32m/usr/local/lib/python3.6/dist-packages/pandas/core/series.py\u001b[0m in \u001b[0;36mreplace\u001b[0;34m(self, to_replace, value, inplace, limit, regex, method)\u001b[0m\n\u001b[1;32m   3843\u001b[0m         return super(Series, self).replace(to_replace=to_replace, value=value,\n\u001b[1;32m   3844\u001b[0m                                            \u001b[0minplace\u001b[0m\u001b[0;34m=\u001b[0m\u001b[0minplace\u001b[0m\u001b[0;34m,\u001b[0m \u001b[0mlimit\u001b[0m\u001b[0;34m=\u001b[0m\u001b[0mlimit\u001b[0m\u001b[0;34m,\u001b[0m\u001b[0;34m\u001b[0m\u001b[0;34m\u001b[0m\u001b[0m\n\u001b[0;32m-> 3845\u001b[0;31m                                            regex=regex, method=method)\n\u001b[0m\u001b[1;32m   3846\u001b[0m \u001b[0;34m\u001b[0m\u001b[0m\n\u001b[1;32m   3847\u001b[0m     \u001b[0;34m@\u001b[0m\u001b[0mAppender\u001b[0m\u001b[0;34m(\u001b[0m\u001b[0mgeneric\u001b[0m\u001b[0;34m.\u001b[0m\u001b[0m_shared_docs\u001b[0m\u001b[0;34m[\u001b[0m\u001b[0;34m'shift'\u001b[0m\u001b[0;34m]\u001b[0m \u001b[0;34m%\u001b[0m \u001b[0m_shared_doc_kwargs\u001b[0m\u001b[0;34m)\u001b[0m\u001b[0;34m\u001b[0m\u001b[0;34m\u001b[0m\u001b[0m\n",
            "\u001b[0;32m/usr/local/lib/python3.6/dist-packages/pandas/core/generic.py\u001b[0m in \u001b[0;36mreplace\u001b[0;34m(self, to_replace, value, inplace, limit, regex, method)\u001b[0m\n\u001b[1;32m   6545\u001b[0m                                                        \u001b[0mdest_list\u001b[0m\u001b[0;34m=\u001b[0m\u001b[0mvalue\u001b[0m\u001b[0;34m,\u001b[0m\u001b[0;34m\u001b[0m\u001b[0;34m\u001b[0m\u001b[0m\n\u001b[1;32m   6546\u001b[0m                                                        \u001b[0minplace\u001b[0m\u001b[0;34m=\u001b[0m\u001b[0minplace\u001b[0m\u001b[0;34m,\u001b[0m\u001b[0;34m\u001b[0m\u001b[0;34m\u001b[0m\u001b[0m\n\u001b[0;32m-> 6547\u001b[0;31m                                                        regex=regex)\n\u001b[0m\u001b[1;32m   6548\u001b[0m \u001b[0;34m\u001b[0m\u001b[0m\n\u001b[1;32m   6549\u001b[0m                 \u001b[0;32melse\u001b[0m\u001b[0;34m:\u001b[0m  \u001b[0;31m# [NA, ''] -> 0\u001b[0m\u001b[0;34m\u001b[0m\u001b[0;34m\u001b[0m\u001b[0m\n",
            "\u001b[0;32m/usr/local/lib/python3.6/dist-packages/pandas/core/internals/managers.py\u001b[0m in \u001b[0;36mreplace_list\u001b[0;34m(self, src_list, dest_list, inplace, regex)\u001b[0m\n\u001b[1;32m    557\u001b[0m             \u001b[0;32mreturn\u001b[0m \u001b[0m_compare_or_regex_search\u001b[0m\u001b[0;34m(\u001b[0m\u001b[0mvalues\u001b[0m\u001b[0;34m,\u001b[0m \u001b[0ms\u001b[0m\u001b[0;34m,\u001b[0m \u001b[0mregex\u001b[0m\u001b[0;34m)\u001b[0m\u001b[0;34m\u001b[0m\u001b[0;34m\u001b[0m\u001b[0m\n\u001b[1;32m    558\u001b[0m \u001b[0;34m\u001b[0m\u001b[0m\n\u001b[0;32m--> 559\u001b[0;31m         \u001b[0mmasks\u001b[0m \u001b[0;34m=\u001b[0m \u001b[0;34m[\u001b[0m\u001b[0mcomp\u001b[0m\u001b[0;34m(\u001b[0m\u001b[0ms\u001b[0m\u001b[0;34m,\u001b[0m \u001b[0mregex\u001b[0m\u001b[0;34m)\u001b[0m \u001b[0;32mfor\u001b[0m \u001b[0mi\u001b[0m\u001b[0;34m,\u001b[0m \u001b[0ms\u001b[0m \u001b[0;32min\u001b[0m \u001b[0menumerate\u001b[0m\u001b[0;34m(\u001b[0m\u001b[0msrc_list\u001b[0m\u001b[0;34m)\u001b[0m\u001b[0;34m]\u001b[0m\u001b[0;34m\u001b[0m\u001b[0;34m\u001b[0m\u001b[0m\n\u001b[0m\u001b[1;32m    560\u001b[0m \u001b[0;34m\u001b[0m\u001b[0m\n\u001b[1;32m    561\u001b[0m         \u001b[0mresult_blocks\u001b[0m \u001b[0;34m=\u001b[0m \u001b[0;34m[\u001b[0m\u001b[0;34m]\u001b[0m\u001b[0;34m\u001b[0m\u001b[0;34m\u001b[0m\u001b[0m\n",
            "\u001b[0;32m/usr/local/lib/python3.6/dist-packages/pandas/core/internals/managers.py\u001b[0m in \u001b[0;36m<listcomp>\u001b[0;34m(.0)\u001b[0m\n\u001b[1;32m    557\u001b[0m             \u001b[0;32mreturn\u001b[0m \u001b[0m_compare_or_regex_search\u001b[0m\u001b[0;34m(\u001b[0m\u001b[0mvalues\u001b[0m\u001b[0;34m,\u001b[0m \u001b[0ms\u001b[0m\u001b[0;34m,\u001b[0m \u001b[0mregex\u001b[0m\u001b[0;34m)\u001b[0m\u001b[0;34m\u001b[0m\u001b[0;34m\u001b[0m\u001b[0m\n\u001b[1;32m    558\u001b[0m \u001b[0;34m\u001b[0m\u001b[0m\n\u001b[0;32m--> 559\u001b[0;31m         \u001b[0mmasks\u001b[0m \u001b[0;34m=\u001b[0m \u001b[0;34m[\u001b[0m\u001b[0mcomp\u001b[0m\u001b[0;34m(\u001b[0m\u001b[0ms\u001b[0m\u001b[0;34m,\u001b[0m \u001b[0mregex\u001b[0m\u001b[0;34m)\u001b[0m \u001b[0;32mfor\u001b[0m \u001b[0mi\u001b[0m\u001b[0;34m,\u001b[0m \u001b[0ms\u001b[0m \u001b[0;32min\u001b[0m \u001b[0menumerate\u001b[0m\u001b[0;34m(\u001b[0m\u001b[0msrc_list\u001b[0m\u001b[0;34m)\u001b[0m\u001b[0;34m]\u001b[0m\u001b[0;34m\u001b[0m\u001b[0;34m\u001b[0m\u001b[0m\n\u001b[0m\u001b[1;32m    560\u001b[0m \u001b[0;34m\u001b[0m\u001b[0m\n\u001b[1;32m    561\u001b[0m         \u001b[0mresult_blocks\u001b[0m \u001b[0;34m=\u001b[0m \u001b[0;34m[\u001b[0m\u001b[0;34m]\u001b[0m\u001b[0;34m\u001b[0m\u001b[0;34m\u001b[0m\u001b[0m\n",
            "\u001b[0;32m/usr/local/lib/python3.6/dist-packages/pandas/core/internals/managers.py\u001b[0m in \u001b[0;36mcomp\u001b[0;34m(s, regex)\u001b[0m\n\u001b[1;32m    555\u001b[0m                 return _compare_or_regex_search(maybe_convert_objects(values),\n\u001b[1;32m    556\u001b[0m                                                 getattr(s, 'asm8'), regex)\n\u001b[0;32m--> 557\u001b[0;31m             \u001b[0;32mreturn\u001b[0m \u001b[0m_compare_or_regex_search\u001b[0m\u001b[0;34m(\u001b[0m\u001b[0mvalues\u001b[0m\u001b[0;34m,\u001b[0m \u001b[0ms\u001b[0m\u001b[0;34m,\u001b[0m \u001b[0mregex\u001b[0m\u001b[0;34m)\u001b[0m\u001b[0;34m\u001b[0m\u001b[0;34m\u001b[0m\u001b[0m\n\u001b[0m\u001b[1;32m    558\u001b[0m \u001b[0;34m\u001b[0m\u001b[0m\n\u001b[1;32m    559\u001b[0m         \u001b[0mmasks\u001b[0m \u001b[0;34m=\u001b[0m \u001b[0;34m[\u001b[0m\u001b[0mcomp\u001b[0m\u001b[0;34m(\u001b[0m\u001b[0ms\u001b[0m\u001b[0;34m,\u001b[0m \u001b[0mregex\u001b[0m\u001b[0;34m)\u001b[0m \u001b[0;32mfor\u001b[0m \u001b[0mi\u001b[0m\u001b[0;34m,\u001b[0m \u001b[0ms\u001b[0m \u001b[0;32min\u001b[0m \u001b[0menumerate\u001b[0m\u001b[0;34m(\u001b[0m\u001b[0msrc_list\u001b[0m\u001b[0;34m)\u001b[0m\u001b[0;34m]\u001b[0m\u001b[0;34m\u001b[0m\u001b[0;34m\u001b[0m\u001b[0m\n",
            "\u001b[0;32m/usr/local/lib/python3.6/dist-packages/pandas/core/internals/managers.py\u001b[0m in \u001b[0;36m_compare_or_regex_search\u001b[0;34m(a, b, regex)\u001b[0m\n\u001b[1;32m   1949\u001b[0m         raise TypeError(\n\u001b[1;32m   1950\u001b[0m             \"Cannot compare types {a!r} and {b!r}\".format(a=type_names[0],\n\u001b[0;32m-> 1951\u001b[0;31m                                                           b=type_names[1]))\n\u001b[0m\u001b[1;32m   1952\u001b[0m     \u001b[0;32mreturn\u001b[0m \u001b[0mresult\u001b[0m\u001b[0;34m\u001b[0m\u001b[0;34m\u001b[0m\u001b[0m\n\u001b[1;32m   1953\u001b[0m \u001b[0;34m\u001b[0m\u001b[0m\n",
            "\u001b[0;31mTypeError\u001b[0m: Cannot compare types 'ndarray(dtype=int64)' and 'str'"
          ]
        }
      ]
    },
    {
      "cell_type": "markdown",
      "metadata": {
        "id": "2JorFOHLH8LQ",
        "colab_type": "text"
      },
      "source": [
        "Удаление SalePrice"
      ]
    },
    {
      "cell_type": "code",
      "metadata": {
        "id": "tXxf_qreHmqZ",
        "colab_type": "code",
        "colab": {}
      },
      "source": [
        "train.drop(\"SalePrice\", axis=1, inplace=True)"
      ],
      "execution_count": 0,
      "outputs": []
    },
    {
      "cell_type": "code",
      "metadata": {
        "id": "IwSt3vqvPxrK",
        "colab_type": "code",
        "colab": {
          "base_uri": "https://localhost:8080/",
          "height": 289
        },
        "outputId": "3de40c2a-a0f5-49a6-f7a1-bc472b61dee5"
      },
      "source": [
        "train.columns"
      ],
      "execution_count": 26,
      "outputs": [
        {
          "output_type": "execute_result",
          "data": {
            "text/plain": [
              "Index(['MSSubClass', 'MSZoning', 'LotFrontage', 'LotArea', 'Street', 'Alley',\n",
              "       'LotShape', 'LandContour', 'Utilities', 'LotConfig', 'LandSlope',\n",
              "       'Neighborhood', 'Condition1', 'Condition2', 'BldgType', 'HouseStyle',\n",
              "       'OverallQual', 'OverallCond', 'YearBuilt', 'YearRemodAdd', 'RoofStyle',\n",
              "       'RoofMatl', 'Exterior1st', 'Exterior2nd', 'MasVnrType', 'MasVnrArea',\n",
              "       'ExterQual', 'ExterCond', 'Foundation', 'BsmtQual', 'BsmtCond',\n",
              "       'BsmtExposure', 'BsmtFinType1', 'BsmtFinSF1', 'BsmtFinType2',\n",
              "       'BsmtUnfSF', 'TotalBsmtSF', 'Heating', 'HeatingQC', 'CentralAir',\n",
              "       'Electrical', '1stFlrSF', '2ndFlrSF', 'GrLivArea', 'BsmtFullBath',\n",
              "       'FullBath', 'HalfBath', 'BedroomAbvGr', 'KitchenAbvGr', 'KitchenQual',\n",
              "       'TotRmsAbvGrd', 'Functional', 'Fireplaces', 'FireplaceQu', 'GarageType',\n",
              "       'GarageYrBlt', 'GarageFinish', 'GarageCars', 'GarageArea', 'GarageQual',\n",
              "       'GarageCond', 'PavedDrive', 'WoodDeckSF', 'OpenPorchSF',\n",
              "       'EnclosedPorch', 'ScreenPorch', 'PoolArea', 'PoolQC', 'Fence',\n",
              "       'MiscFeature', 'SaleType', 'SaleCondition'],\n",
              "      dtype='object')"
            ]
          },
          "metadata": {
            "tags": []
          },
          "execution_count": 26
        }
      ]
    },
    {
      "cell_type": "markdown",
      "metadata": {
        "id": "kwe7Ps3e49uI",
        "colab_type": "text"
      },
      "source": [
        "## Разделяем числовые и категориальные признаки"
      ]
    },
    {
      "cell_type": "code",
      "metadata": {
        "id": "PMwanZXO5n_p",
        "colab_type": "code",
        "colab": {}
      },
      "source": [
        "categorical_features = train.select_dtypes(include = [\"object\"]).columns\n",
        "numerical_features = train.select_dtypes(exclude = [\"object\"]).columns\n",
        "\n",
        "train_numerical = train[numerical_features]\n",
        "train_categorical = train[categorical_features]"
      ],
      "execution_count": 0,
      "outputs": []
    },
    {
      "cell_type": "code",
      "metadata": {
        "id": "P__tZ2R6Qdma",
        "colab_type": "code",
        "colab": {
          "base_uri": "https://localhost:8080/",
          "height": 374
        },
        "outputId": "b3981256-b7d8-45f8-de22-e35f4d571164"
      },
      "source": [
        "print(\"Categorical features:\\n\", categorical_features)\n",
        "print(\"\\n\\nNumerical features:\\n\", numerical_features)"
      ],
      "execution_count": 29,
      "outputs": [
        {
          "output_type": "stream",
          "text": [
            "Categorical features:\n",
            " Index(['MSSubClass', 'MSZoning', 'LandContour', 'LotConfig', 'Neighborhood',\n",
            "       'Condition1', 'Condition2', 'BldgType', 'HouseStyle', 'RoofStyle',\n",
            "       'RoofMatl', 'Exterior1st', 'Exterior2nd', 'MasVnrType', 'Foundation',\n",
            "       'Heating', 'CentralAir', 'Electrical', 'GarageType', 'GarageFinish',\n",
            "       'Fence', 'MiscFeature', 'SaleType', 'SaleCondition'],\n",
            "      dtype='object')\n",
            "\n",
            "\n",
            "Numerical features:\n",
            " Index(['LotFrontage', 'LotArea', 'Street', 'Alley', 'LotShape', 'Utilities',\n",
            "       'LandSlope', 'OverallQual', 'OverallCond', 'YearBuilt', 'YearRemodAdd',\n",
            "       'MasVnrArea', 'ExterQual', 'ExterCond', 'BsmtQual', 'BsmtCond',\n",
            "       'BsmtExposure', 'BsmtFinType1', 'BsmtFinSF1', 'BsmtFinType2',\n",
            "       'BsmtUnfSF', 'TotalBsmtSF', 'HeatingQC', '1stFlrSF', '2ndFlrSF',\n",
            "       'GrLivArea', 'BsmtFullBath', 'FullBath', 'HalfBath', 'BedroomAbvGr',\n",
            "       'KitchenAbvGr', 'KitchenQual', 'TotRmsAbvGrd', 'Functional',\n",
            "       'Fireplaces', 'FireplaceQu', 'GarageYrBlt', 'GarageCars', 'GarageArea',\n",
            "       'GarageQual', 'GarageCond', 'PavedDrive', 'WoodDeckSF', 'OpenPorchSF',\n",
            "       'EnclosedPorch', 'ScreenPorch', 'PoolArea', 'PoolQC'],\n",
            "      dtype='object')\n"
          ],
          "name": "stdout"
        }
      ]
    },
    {
      "cell_type": "markdown",
      "metadata": {
        "id": "83sN-0OU7EIQ",
        "colab_type": "text"
      },
      "source": [
        "## Предварительная обработка числовых признаков"
      ]
    },
    {
      "cell_type": "markdown",
      "metadata": {
        "id": "FjLozLjw7eHw",
        "colab_type": "text"
      },
      "source": [
        "Заполняем пустые значения средними значениями"
      ]
    },
    {
      "cell_type": "code",
      "metadata": {
        "id": "jBwkwxg07J9S",
        "colab_type": "code",
        "outputId": "67ccbd9f-15cf-4fd0-adf8-9dedd711401a",
        "colab": {
          "base_uri": "https://localhost:8080/",
          "height": 51
        }
      },
      "source": [
        "# Количество пустых значений числовых признаков\n",
        "print(\"Empty numbers before processing: \", train_numerical.isnull().values.sum())\n",
        "# Заполняем пустые значения средними значениями\n",
        "train_numerical = train_numerical.fillna(train_numerical.median())\n",
        " \n",
        "# Проверяем количество пустых значений числовых признаков\n",
        "print(\"Empty numbers after processing: \", train_numerical.isnull().values.sum())"
      ],
      "execution_count": 31,
      "outputs": [
        {
          "output_type": "stream",
          "text": [
            "Empty numbers before processing:  81\n",
            "Empty numbers after processing:  0\n"
          ],
          "name": "stdout"
        }
      ]
    },
    {
      "cell_type": "markdown",
      "metadata": {
        "id": "dLeVhYof_cHH",
        "colab_type": "text"
      },
      "source": [
        "Нормализуем числовые признаки"
      ]
    },
    {
      "cell_type": "code",
      "metadata": {
        "id": "trFzdG3m_ewv",
        "colab_type": "code",
        "colab": {}
      },
      "source": [
        "# Среднее значение\n",
        "mean = train_numerical.mean(axis=0)\n",
        "# Стандартное отклонение\n",
        "std = train_numerical.std(axis=0)\n",
        "train_numerical -= mean\n",
        "train_numerical /= std"
      ],
      "execution_count": 0,
      "outputs": []
    },
    {
      "cell_type": "code",
      "metadata": {
        "id": "iIHC2RXQJnHL",
        "colab_type": "code",
        "colab": {
          "base_uri": "https://localhost:8080/",
          "height": 918
        },
        "outputId": "c60e654f-153e-4848-973e-a996fb2c9b32"
      },
      "source": [
        "train_numerical.info()"
      ],
      "execution_count": 43,
      "outputs": [
        {
          "output_type": "stream",
          "text": [
            "<class 'pandas.core.frame.DataFrame'>\n",
            "RangeIndex: 1460 entries, 0 to 1459\n",
            "Data columns (total 48 columns):\n",
            "LotFrontage      1460 non-null float64\n",
            "LotArea          1460 non-null float64\n",
            "Street           1460 non-null float64\n",
            "Alley            1460 non-null float64\n",
            "LotShape         1460 non-null float64\n",
            "Utilities        1460 non-null float64\n",
            "LandSlope        1460 non-null float64\n",
            "OverallQual      1460 non-null float64\n",
            "OverallCond      1460 non-null float64\n",
            "YearBuilt        1460 non-null float64\n",
            "YearRemodAdd     1460 non-null float64\n",
            "MasVnrArea       1460 non-null float64\n",
            "ExterQual        1460 non-null float64\n",
            "ExterCond        1460 non-null float64\n",
            "BsmtQual         1460 non-null float64\n",
            "BsmtCond         1460 non-null float64\n",
            "BsmtExposure     1460 non-null float64\n",
            "BsmtFinType1     1460 non-null float64\n",
            "BsmtFinSF1       1460 non-null float64\n",
            "BsmtFinType2     1460 non-null float64\n",
            "BsmtUnfSF        1460 non-null float64\n",
            "TotalBsmtSF      1460 non-null float64\n",
            "HeatingQC        1460 non-null float64\n",
            "1stFlrSF         1460 non-null float64\n",
            "2ndFlrSF         1460 non-null float64\n",
            "GrLivArea        1460 non-null float64\n",
            "BsmtFullBath     1460 non-null float64\n",
            "FullBath         1460 non-null float64\n",
            "HalfBath         1460 non-null float64\n",
            "BedroomAbvGr     1460 non-null float64\n",
            "KitchenAbvGr     1460 non-null float64\n",
            "KitchenQual      1460 non-null float64\n",
            "TotRmsAbvGrd     1460 non-null float64\n",
            "Functional       1460 non-null float64\n",
            "Fireplaces       1460 non-null float64\n",
            "FireplaceQu      1460 non-null float64\n",
            "GarageYrBlt      1460 non-null float64\n",
            "GarageCars       1460 non-null float64\n",
            "GarageArea       1460 non-null float64\n",
            "GarageQual       1460 non-null float64\n",
            "GarageCond       1460 non-null float64\n",
            "PavedDrive       1460 non-null float64\n",
            "WoodDeckSF       1460 non-null float64\n",
            "OpenPorchSF      1460 non-null float64\n",
            "EnclosedPorch    1460 non-null float64\n",
            "ScreenPorch      1460 non-null float64\n",
            "PoolArea         1460 non-null float64\n",
            "PoolQC           1460 non-null float64\n",
            "dtypes: float64(48)\n",
            "memory usage: 547.6 KB\n"
          ],
          "name": "stdout"
        }
      ]
    },
    {
      "cell_type": "markdown",
      "metadata": {
        "id": "y0wcZNnRyu7V",
        "colab_type": "text"
      },
      "source": [
        "## Предварительная обработка категориальных значений"
      ]
    },
    {
      "cell_type": "code",
      "metadata": {
        "id": "3s9eBTefJOLj",
        "colab_type": "code",
        "colab": {
          "base_uri": "https://localhost:8080/",
          "height": 253
        },
        "outputId": "b967981f-2696-460f-a2a7-48c26b721258"
      },
      "source": [
        "train_categorical.head()"
      ],
      "execution_count": 36,
      "outputs": [
        {
          "output_type": "execute_result",
          "data": {
            "text/html": [
              "<div>\n",
              "<style scoped>\n",
              "    .dataframe tbody tr th:only-of-type {\n",
              "        vertical-align: middle;\n",
              "    }\n",
              "\n",
              "    .dataframe tbody tr th {\n",
              "        vertical-align: top;\n",
              "    }\n",
              "\n",
              "    .dataframe thead th {\n",
              "        text-align: right;\n",
              "    }\n",
              "</style>\n",
              "<table border=\"1\" class=\"dataframe\">\n",
              "  <thead>\n",
              "    <tr style=\"text-align: right;\">\n",
              "      <th></th>\n",
              "      <th>MSSubClass_SC120</th>\n",
              "      <th>MSSubClass_SC160</th>\n",
              "      <th>MSSubClass_SC180</th>\n",
              "      <th>MSSubClass_SC190</th>\n",
              "      <th>MSSubClass_SC20</th>\n",
              "      <th>MSSubClass_SC30</th>\n",
              "      <th>MSSubClass_SC40</th>\n",
              "      <th>MSSubClass_SC45</th>\n",
              "      <th>MSSubClass_SC50</th>\n",
              "      <th>MSSubClass_SC60</th>\n",
              "      <th>...</th>\n",
              "      <th>SaleType_ConLw</th>\n",
              "      <th>SaleType_New</th>\n",
              "      <th>SaleType_Oth</th>\n",
              "      <th>SaleType_WD</th>\n",
              "      <th>SaleCondition_Abnorml</th>\n",
              "      <th>SaleCondition_AdjLand</th>\n",
              "      <th>SaleCondition_Alloca</th>\n",
              "      <th>SaleCondition_Family</th>\n",
              "      <th>SaleCondition_Normal</th>\n",
              "      <th>SaleCondition_Partial</th>\n",
              "    </tr>\n",
              "  </thead>\n",
              "  <tbody>\n",
              "    <tr>\n",
              "      <th>0</th>\n",
              "      <td>0</td>\n",
              "      <td>0</td>\n",
              "      <td>0</td>\n",
              "      <td>0</td>\n",
              "      <td>0</td>\n",
              "      <td>0</td>\n",
              "      <td>0</td>\n",
              "      <td>0</td>\n",
              "      <td>0</td>\n",
              "      <td>1</td>\n",
              "      <td>...</td>\n",
              "      <td>0</td>\n",
              "      <td>0</td>\n",
              "      <td>0</td>\n",
              "      <td>1</td>\n",
              "      <td>0</td>\n",
              "      <td>0</td>\n",
              "      <td>0</td>\n",
              "      <td>0</td>\n",
              "      <td>1</td>\n",
              "      <td>0</td>\n",
              "    </tr>\n",
              "    <tr>\n",
              "      <th>1</th>\n",
              "      <td>0</td>\n",
              "      <td>0</td>\n",
              "      <td>0</td>\n",
              "      <td>0</td>\n",
              "      <td>1</td>\n",
              "      <td>0</td>\n",
              "      <td>0</td>\n",
              "      <td>0</td>\n",
              "      <td>0</td>\n",
              "      <td>0</td>\n",
              "      <td>...</td>\n",
              "      <td>0</td>\n",
              "      <td>0</td>\n",
              "      <td>0</td>\n",
              "      <td>1</td>\n",
              "      <td>0</td>\n",
              "      <td>0</td>\n",
              "      <td>0</td>\n",
              "      <td>0</td>\n",
              "      <td>1</td>\n",
              "      <td>0</td>\n",
              "    </tr>\n",
              "    <tr>\n",
              "      <th>2</th>\n",
              "      <td>0</td>\n",
              "      <td>0</td>\n",
              "      <td>0</td>\n",
              "      <td>0</td>\n",
              "      <td>0</td>\n",
              "      <td>0</td>\n",
              "      <td>0</td>\n",
              "      <td>0</td>\n",
              "      <td>0</td>\n",
              "      <td>1</td>\n",
              "      <td>...</td>\n",
              "      <td>0</td>\n",
              "      <td>0</td>\n",
              "      <td>0</td>\n",
              "      <td>1</td>\n",
              "      <td>0</td>\n",
              "      <td>0</td>\n",
              "      <td>0</td>\n",
              "      <td>0</td>\n",
              "      <td>1</td>\n",
              "      <td>0</td>\n",
              "    </tr>\n",
              "    <tr>\n",
              "      <th>3</th>\n",
              "      <td>0</td>\n",
              "      <td>0</td>\n",
              "      <td>0</td>\n",
              "      <td>0</td>\n",
              "      <td>0</td>\n",
              "      <td>0</td>\n",
              "      <td>0</td>\n",
              "      <td>0</td>\n",
              "      <td>0</td>\n",
              "      <td>0</td>\n",
              "      <td>...</td>\n",
              "      <td>0</td>\n",
              "      <td>0</td>\n",
              "      <td>0</td>\n",
              "      <td>1</td>\n",
              "      <td>1</td>\n",
              "      <td>0</td>\n",
              "      <td>0</td>\n",
              "      <td>0</td>\n",
              "      <td>0</td>\n",
              "      <td>0</td>\n",
              "    </tr>\n",
              "    <tr>\n",
              "      <th>4</th>\n",
              "      <td>0</td>\n",
              "      <td>0</td>\n",
              "      <td>0</td>\n",
              "      <td>0</td>\n",
              "      <td>0</td>\n",
              "      <td>0</td>\n",
              "      <td>0</td>\n",
              "      <td>0</td>\n",
              "      <td>0</td>\n",
              "      <td>1</td>\n",
              "      <td>...</td>\n",
              "      <td>0</td>\n",
              "      <td>0</td>\n",
              "      <td>0</td>\n",
              "      <td>1</td>\n",
              "      <td>0</td>\n",
              "      <td>0</td>\n",
              "      <td>0</td>\n",
              "      <td>0</td>\n",
              "      <td>1</td>\n",
              "      <td>0</td>\n",
              "    </tr>\n",
              "  </tbody>\n",
              "</table>\n",
              "<p>5 rows × 188 columns</p>\n",
              "</div>"
            ],
            "text/plain": [
              "   MSSubClass_SC120  MSSubClass_SC160  MSSubClass_SC180  MSSubClass_SC190  \\\n",
              "0                 0                 0                 0                 0   \n",
              "1                 0                 0                 0                 0   \n",
              "2                 0                 0                 0                 0   \n",
              "3                 0                 0                 0                 0   \n",
              "4                 0                 0                 0                 0   \n",
              "\n",
              "   MSSubClass_SC20  MSSubClass_SC30  MSSubClass_SC40  MSSubClass_SC45  \\\n",
              "0                0                0                0                0   \n",
              "1                1                0                0                0   \n",
              "2                0                0                0                0   \n",
              "3                0                0                0                0   \n",
              "4                0                0                0                0   \n",
              "\n",
              "   MSSubClass_SC50  MSSubClass_SC60  ...  SaleType_ConLw  SaleType_New  \\\n",
              "0                0                1  ...               0             0   \n",
              "1                0                0  ...               0             0   \n",
              "2                0                1  ...               0             0   \n",
              "3                0                0  ...               0             0   \n",
              "4                0                1  ...               0             0   \n",
              "\n",
              "   SaleType_Oth  SaleType_WD  SaleCondition_Abnorml  SaleCondition_AdjLand  \\\n",
              "0             0            1                      0                      0   \n",
              "1             0            1                      0                      0   \n",
              "2             0            1                      0                      0   \n",
              "3             0            1                      1                      0   \n",
              "4             0            1                      0                      0   \n",
              "\n",
              "   SaleCondition_Alloca  SaleCondition_Family  SaleCondition_Normal  \\\n",
              "0                     0                     0                     1   \n",
              "1                     0                     0                     1   \n",
              "2                     0                     0                     1   \n",
              "3                     0                     0                     0   \n",
              "4                     0                     0                     1   \n",
              "\n",
              "   SaleCondition_Partial  \n",
              "0                      0  \n",
              "1                      0  \n",
              "2                      0  \n",
              "3                      0  \n",
              "4                      0  \n",
              "\n",
              "[5 rows x 188 columns]"
            ]
          },
          "metadata": {
            "tags": []
          },
          "execution_count": 36
        }
      ]
    },
    {
      "cell_type": "code",
      "metadata": {
        "id": "aqw99XSs3GUU",
        "colab_type": "code",
        "colab": {}
      },
      "source": [
        "# Преобразование в OHE\n",
        "train_categorical = pd.get_dummies(train_categorical)"
      ],
      "execution_count": 0,
      "outputs": []
    },
    {
      "cell_type": "code",
      "metadata": {
        "id": "cIHvCnwp3I-k",
        "colab_type": "code",
        "outputId": "dedf9f05-6175-4fb3-869d-7d513ce26ae3",
        "colab": {
          "base_uri": "https://localhost:8080/",
          "height": 102
        }
      },
      "source": [
        "train_categorical.info()"
      ],
      "execution_count": 38,
      "outputs": [
        {
          "output_type": "stream",
          "text": [
            "<class 'pandas.core.frame.DataFrame'>\n",
            "RangeIndex: 1460 entries, 0 to 1459\n",
            "Columns: 188 entries, MSSubClass_SC120 to SaleCondition_Partial\n",
            "dtypes: uint8(188)\n",
            "memory usage: 268.1 KB\n"
          ],
          "name": "stdout"
        }
      ]
    },
    {
      "cell_type": "markdown",
      "metadata": {
        "colab_type": "text",
        "id": "3Xa7rDM_8svo"
      },
      "source": [
        "Проверяем количество пустых значений категориальных признаков"
      ]
    },
    {
      "cell_type": "code",
      "metadata": {
        "colab_type": "code",
        "outputId": "8cab8c79-2403-43c9-af6a-21382cc94623",
        "id": "j9_j-nwJ8svq",
        "colab": {
          "base_uri": "https://localhost:8080/",
          "height": 34
        }
      },
      "source": [
        "train_categorical.isnull().values.sum()"
      ],
      "execution_count": 39,
      "outputs": [
        {
          "output_type": "execute_result",
          "data": {
            "text/plain": [
              "0"
            ]
          },
          "metadata": {
            "tags": []
          },
          "execution_count": 39
        }
      ]
    },
    {
      "cell_type": "markdown",
      "metadata": {
        "id": "rgKadPun9S4J",
        "colab_type": "text"
      },
      "source": [
        "## Готовим общий набор данных"
      ]
    },
    {
      "cell_type": "code",
      "metadata": {
        "id": "rO16xu4Q9VmR",
        "colab_type": "code",
        "colab": {}
      },
      "source": [
        "x_train = pd.concat([train_numerical, train_categorical], axis = 1)"
      ],
      "execution_count": 0,
      "outputs": []
    },
    {
      "cell_type": "code",
      "metadata": {
        "id": "JXZ-v-cg9bvR",
        "colab_type": "code",
        "outputId": "53013934-0cce-45f6-85db-ab52fdb5e18d",
        "colab": {
          "base_uri": "https://localhost:8080/",
          "height": 102
        }
      },
      "source": [
        "x_train.info()"
      ],
      "execution_count": 45,
      "outputs": [
        {
          "output_type": "stream",
          "text": [
            "<class 'pandas.core.frame.DataFrame'>\n",
            "RangeIndex: 1460 entries, 0 to 1459\n",
            "Columns: 236 entries, LotFrontage to SaleCondition_Partial\n",
            "dtypes: float64(48), uint8(188)\n",
            "memory usage: 815.6 KB\n"
          ],
          "name": "stdout"
        }
      ]
    },
    {
      "cell_type": "code",
      "metadata": {
        "id": "Zg7VOwTo9cm-",
        "colab_type": "code",
        "outputId": "23e9e4d1-5e91-4292-d7c9-feeeea311192",
        "colab": {
          "base_uri": "https://localhost:8080/",
          "height": 253
        }
      },
      "source": [
        "x_train[:5]"
      ],
      "execution_count": 119,
      "outputs": [
        {
          "output_type": "execute_result",
          "data": {
            "text/html": [
              "<div>\n",
              "<style scoped>\n",
              "    .dataframe tbody tr th:only-of-type {\n",
              "        vertical-align: middle;\n",
              "    }\n",
              "\n",
              "    .dataframe tbody tr th {\n",
              "        vertical-align: top;\n",
              "    }\n",
              "\n",
              "    .dataframe thead th {\n",
              "        text-align: right;\n",
              "    }\n",
              "</style>\n",
              "<table border=\"1\" class=\"dataframe\">\n",
              "  <thead>\n",
              "    <tr style=\"text-align: right;\">\n",
              "      <th></th>\n",
              "      <th>LotFrontage</th>\n",
              "      <th>LotArea</th>\n",
              "      <th>Alley</th>\n",
              "      <th>LotShape</th>\n",
              "      <th>LandSlope</th>\n",
              "      <th>OverallQual</th>\n",
              "      <th>OverallCond</th>\n",
              "      <th>YearBuilt</th>\n",
              "      <th>YearRemodAdd</th>\n",
              "      <th>MasVnrArea</th>\n",
              "      <th>...</th>\n",
              "      <th>SaleType_ConLw</th>\n",
              "      <th>SaleType_New</th>\n",
              "      <th>SaleType_Oth</th>\n",
              "      <th>SaleType_WD</th>\n",
              "      <th>SaleCondition_Abnorml</th>\n",
              "      <th>SaleCondition_AdjLand</th>\n",
              "      <th>SaleCondition_Alloca</th>\n",
              "      <th>SaleCondition_Family</th>\n",
              "      <th>SaleCondition_Normal</th>\n",
              "      <th>SaleCondition_Partial</th>\n",
              "    </tr>\n",
              "  </thead>\n",
              "  <tbody>\n",
              "    <tr>\n",
              "      <th>0</th>\n",
              "      <td>65.0</td>\n",
              "      <td>8450</td>\n",
              "      <td>0</td>\n",
              "      <td>4</td>\n",
              "      <td>3</td>\n",
              "      <td>7</td>\n",
              "      <td>5</td>\n",
              "      <td>2003</td>\n",
              "      <td>2003</td>\n",
              "      <td>196.0</td>\n",
              "      <td>...</td>\n",
              "      <td>0</td>\n",
              "      <td>0</td>\n",
              "      <td>0</td>\n",
              "      <td>1</td>\n",
              "      <td>0</td>\n",
              "      <td>0</td>\n",
              "      <td>0</td>\n",
              "      <td>0</td>\n",
              "      <td>1</td>\n",
              "      <td>0</td>\n",
              "    </tr>\n",
              "    <tr>\n",
              "      <th>1</th>\n",
              "      <td>80.0</td>\n",
              "      <td>9600</td>\n",
              "      <td>0</td>\n",
              "      <td>4</td>\n",
              "      <td>3</td>\n",
              "      <td>6</td>\n",
              "      <td>8</td>\n",
              "      <td>1976</td>\n",
              "      <td>1976</td>\n",
              "      <td>0.0</td>\n",
              "      <td>...</td>\n",
              "      <td>0</td>\n",
              "      <td>0</td>\n",
              "      <td>0</td>\n",
              "      <td>1</td>\n",
              "      <td>0</td>\n",
              "      <td>0</td>\n",
              "      <td>0</td>\n",
              "      <td>0</td>\n",
              "      <td>1</td>\n",
              "      <td>0</td>\n",
              "    </tr>\n",
              "    <tr>\n",
              "      <th>2</th>\n",
              "      <td>68.0</td>\n",
              "      <td>11250</td>\n",
              "      <td>0</td>\n",
              "      <td>3</td>\n",
              "      <td>3</td>\n",
              "      <td>7</td>\n",
              "      <td>5</td>\n",
              "      <td>2001</td>\n",
              "      <td>2002</td>\n",
              "      <td>162.0</td>\n",
              "      <td>...</td>\n",
              "      <td>0</td>\n",
              "      <td>0</td>\n",
              "      <td>0</td>\n",
              "      <td>1</td>\n",
              "      <td>0</td>\n",
              "      <td>0</td>\n",
              "      <td>0</td>\n",
              "      <td>0</td>\n",
              "      <td>1</td>\n",
              "      <td>0</td>\n",
              "    </tr>\n",
              "    <tr>\n",
              "      <th>3</th>\n",
              "      <td>60.0</td>\n",
              "      <td>9550</td>\n",
              "      <td>0</td>\n",
              "      <td>3</td>\n",
              "      <td>3</td>\n",
              "      <td>7</td>\n",
              "      <td>5</td>\n",
              "      <td>1915</td>\n",
              "      <td>1970</td>\n",
              "      <td>0.0</td>\n",
              "      <td>...</td>\n",
              "      <td>0</td>\n",
              "      <td>0</td>\n",
              "      <td>0</td>\n",
              "      <td>1</td>\n",
              "      <td>1</td>\n",
              "      <td>0</td>\n",
              "      <td>0</td>\n",
              "      <td>0</td>\n",
              "      <td>0</td>\n",
              "      <td>0</td>\n",
              "    </tr>\n",
              "    <tr>\n",
              "      <th>4</th>\n",
              "      <td>84.0</td>\n",
              "      <td>14260</td>\n",
              "      <td>0</td>\n",
              "      <td>3</td>\n",
              "      <td>3</td>\n",
              "      <td>8</td>\n",
              "      <td>5</td>\n",
              "      <td>2000</td>\n",
              "      <td>2000</td>\n",
              "      <td>350.0</td>\n",
              "      <td>...</td>\n",
              "      <td>0</td>\n",
              "      <td>0</td>\n",
              "      <td>0</td>\n",
              "      <td>1</td>\n",
              "      <td>0</td>\n",
              "      <td>0</td>\n",
              "      <td>0</td>\n",
              "      <td>0</td>\n",
              "      <td>1</td>\n",
              "      <td>0</td>\n",
              "    </tr>\n",
              "  </tbody>\n",
              "</table>\n",
              "<p>5 rows × 248 columns</p>\n",
              "</div>"
            ],
            "text/plain": [
              "   LotFrontage  LotArea  Alley  LotShape  LandSlope  OverallQual  OverallCond  \\\n",
              "0         65.0     8450      0         4          3            7            5   \n",
              "1         80.0     9600      0         4          3            6            8   \n",
              "2         68.0    11250      0         3          3            7            5   \n",
              "3         60.0     9550      0         3          3            7            5   \n",
              "4         84.0    14260      0         3          3            8            5   \n",
              "\n",
              "   YearBuilt  YearRemodAdd  MasVnrArea  ...  SaleType_ConLw  SaleType_New  \\\n",
              "0       2003          2003       196.0  ...               0             0   \n",
              "1       1976          1976         0.0  ...               0             0   \n",
              "2       2001          2002       162.0  ...               0             0   \n",
              "3       1915          1970         0.0  ...               0             0   \n",
              "4       2000          2000       350.0  ...               0             0   \n",
              "\n",
              "   SaleType_Oth  SaleType_WD  SaleCondition_Abnorml  SaleCondition_AdjLand  \\\n",
              "0             0            1                      0                      0   \n",
              "1             0            1                      0                      0   \n",
              "2             0            1                      0                      0   \n",
              "3             0            1                      1                      0   \n",
              "4             0            1                      0                      0   \n",
              "\n",
              "   SaleCondition_Alloca  SaleCondition_Family  SaleCondition_Normal  \\\n",
              "0                     0                     0                     1   \n",
              "1                     0                     0                     1   \n",
              "2                     0                     0                     1   \n",
              "3                     0                     0                     0   \n",
              "4                     0                     0                     1   \n",
              "\n",
              "   SaleCondition_Partial  \n",
              "0                      0  \n",
              "1                      0  \n",
              "2                      0  \n",
              "3                      0  \n",
              "4                      0  \n",
              "\n",
              "[5 rows x 248 columns]"
            ]
          },
          "metadata": {
            "tags": []
          },
          "execution_count": 119
        }
      ]
    },
    {
      "cell_type": "markdown",
      "metadata": {
        "id": "_Wnz02E5KS9a",
        "colab_type": "text"
      },
      "source": [
        "# Нейронная сеть"
      ]
    },
    {
      "cell_type": "code",
      "metadata": {
        "id": "BaeS8Vmm9mk5",
        "colab_type": "code",
        "colab": {
          "base_uri": "https://localhost:8080/",
          "height": 3896
        },
        "outputId": "daedd6e0-9916-4bba-abeb-4f9646e131ed"
      },
      "source": [
        "model = Sequential()\n",
        "model.add(Dense(200, activation='relu', input_shape=(x_train.shape[1],)))\n",
        "model.add(Dense(100, activation='relu'))\n",
        "model.add(Dense(50, activation='relu'))\n",
        "model.add(Dense(25, activation='relu'))\n",
        "model.add(Dense(1, activation='relu'))\n",
        "\n",
        "model.summary()\n",
        "\n",
        "model.compile(optimizer='adadelta', loss='mse', metrics=['mae'])\n",
        "\n",
        "history = model.fit(x_train, \n",
        "                    y_train, \n",
        "                    epochs=100, \n",
        "                    validation_split=0.1, \n",
        "                    verbose=2)"
      ],
      "execution_count": 46,
      "outputs": [
        {
          "output_type": "stream",
          "text": [
            "WARNING:tensorflow:From /usr/local/lib/python3.6/dist-packages/tensorflow/python/ops/resource_variable_ops.py:435: colocate_with (from tensorflow.python.framework.ops) is deprecated and will be removed in a future version.\n",
            "Instructions for updating:\n",
            "Colocations handled automatically by placer.\n",
            "_________________________________________________________________\n",
            "Layer (type)                 Output Shape              Param #   \n",
            "=================================================================\n",
            "dense (Dense)                (None, 200)               47400     \n",
            "_________________________________________________________________\n",
            "dense_1 (Dense)              (None, 100)               20100     \n",
            "_________________________________________________________________\n",
            "dense_2 (Dense)              (None, 50)                5050      \n",
            "_________________________________________________________________\n",
            "dense_3 (Dense)              (None, 25)                1275      \n",
            "_________________________________________________________________\n",
            "dense_4 (Dense)              (None, 1)                 26        \n",
            "=================================================================\n",
            "Total params: 73,851\n",
            "Trainable params: 73,851\n",
            "Non-trainable params: 0\n",
            "_________________________________________________________________\n",
            "WARNING:tensorflow:From /usr/local/lib/python3.6/dist-packages/tensorflow/python/keras/utils/losses_utils.py:170: to_float (from tensorflow.python.ops.math_ops) is deprecated and will be removed in a future version.\n",
            "Instructions for updating:\n",
            "Use tf.cast instead.\n",
            "Train on 1314 samples, validate on 146 samples\n",
            "WARNING:tensorflow:From /usr/local/lib/python3.6/dist-packages/tensorflow/python/ops/math_ops.py:3066: to_int32 (from tensorflow.python.ops.math_ops) is deprecated and will be removed in a future version.\n",
            "Instructions for updating:\n",
            "Use tf.cast instead.\n",
            "Epoch 1/100\n",
            " - 1s - loss: 19284689581.7839 - mean_absolute_error: 106291.7734 - val_loss: 17192116714.9589 - val_mean_absolute_error: 110306.6094\n",
            "Epoch 2/100\n",
            " - 0s - loss: 3156453521.7291 - mean_absolute_error: 37193.3008 - val_loss: 7241856526.0274 - val_mean_absolute_error: 77525.9609\n",
            "Epoch 3/100\n",
            " - 0s - loss: 1889727310.7336 - mean_absolute_error: 27169.0664 - val_loss: 630277347.9452 - val_mean_absolute_error: 17840.3730\n",
            "Epoch 4/100\n",
            " - 0s - loss: 1282320979.8478 - mean_absolute_error: 21955.5176 - val_loss: 611019610.7397 - val_mean_absolute_error: 17198.8809\n",
            "Epoch 5/100\n",
            " - 0s - loss: 1142069568.1948 - mean_absolute_error: 19614.8262 - val_loss: 1392652388.8219 - val_mean_absolute_error: 27529.7598\n",
            "Epoch 6/100\n",
            " - 0s - loss: 1174172339.2633 - mean_absolute_error: 18856.4980 - val_loss: 607371326.2466 - val_mean_absolute_error: 16946.4961\n",
            "Epoch 7/100\n",
            " - 0s - loss: 952102749.2725 - mean_absolute_error: 17493.1953 - val_loss: 1380791390.6849 - val_mean_absolute_error: 28626.9512\n",
            "Epoch 8/100\n",
            " - 0s - loss: 929668253.8082 - mean_absolute_error: 16892.5684 - val_loss: 1281778438.1370 - val_mean_absolute_error: 28459.5898\n",
            "Epoch 9/100\n",
            " - 0s - loss: 924252018.3623 - mean_absolute_error: 16808.3574 - val_loss: 984981695.1233 - val_mean_absolute_error: 22675.4453\n",
            "Epoch 10/100\n",
            " - 0s - loss: 882676214.9893 - mean_absolute_error: 15899.2451 - val_loss: 527443704.9863 - val_mean_absolute_error: 15787.4385\n",
            "Epoch 11/100\n",
            " - 0s - loss: 853397285.2116 - mean_absolute_error: 15632.0186 - val_loss: 788733062.1370 - val_mean_absolute_error: 19559.7148\n",
            "Epoch 12/100\n",
            " - 0s - loss: 845244050.5814 - mean_absolute_error: 15347.4443 - val_loss: 549076243.2877 - val_mean_absolute_error: 15754.9277\n",
            "Epoch 13/100\n",
            " - 0s - loss: 814660414.2709 - mean_absolute_error: 15090.9365 - val_loss: 558257704.7671 - val_mean_absolute_error: 16562.8770\n",
            "Epoch 14/100\n",
            " - 0s - loss: 806828449.9239 - mean_absolute_error: 14762.6514 - val_loss: 519586179.5068 - val_mean_absolute_error: 15087.4570\n",
            "Epoch 15/100\n",
            " - 0s - loss: 802814866.2161 - mean_absolute_error: 14620.1396 - val_loss: 503095254.3562 - val_mean_absolute_error: 15021.6523\n",
            "Epoch 16/100\n",
            " - 0s - loss: 788877254.1857 - mean_absolute_error: 14612.7773 - val_loss: 516446143.1233 - val_mean_absolute_error: 15025.0342\n",
            "Epoch 17/100\n",
            " - 0s - loss: 782954138.8980 - mean_absolute_error: 14487.2920 - val_loss: 505550098.1918 - val_mean_absolute_error: 15064.2744\n",
            "Epoch 18/100\n",
            " - 0s - loss: 775942801.1218 - mean_absolute_error: 14165.7744 - val_loss: 529987205.9178 - val_mean_absolute_error: 15123.1230\n",
            "Epoch 19/100\n",
            " - 0s - loss: 761961145.1081 - mean_absolute_error: 14458.6650 - val_loss: 568174242.1918 - val_mean_absolute_error: 15800.9131\n",
            "Epoch 20/100\n",
            " - 0s - loss: 769020023.0989 - mean_absolute_error: 14113.8506 - val_loss: 530117879.6712 - val_mean_absolute_error: 14984.6562\n",
            "Epoch 21/100\n",
            " - 0s - loss: 759016595.0441 - mean_absolute_error: 14207.4141 - val_loss: 566866935.6712 - val_mean_absolute_error: 15526.8545\n",
            "Epoch 22/100\n",
            " - 0s - loss: 761045962.5693 - mean_absolute_error: 14110.1738 - val_loss: 513823488.2192 - val_mean_absolute_error: 14778.5410\n",
            "Epoch 23/100\n",
            " - 0s - loss: 759890129.6317 - mean_absolute_error: 13915.0225 - val_loss: 552370845.3699 - val_mean_absolute_error: 15034.6504\n",
            "Epoch 24/100\n",
            " - 0s - loss: 750079441.5099 - mean_absolute_error: 13869.5469 - val_loss: 502343171.5068 - val_mean_absolute_error: 14614.0586\n",
            "Epoch 25/100\n",
            " - 0s - loss: 744548249.2542 - mean_absolute_error: 13877.8389 - val_loss: 501061903.7808 - val_mean_absolute_error: 14556.1289\n",
            "Epoch 26/100\n",
            " - 0s - loss: 741623798.9406 - mean_absolute_error: 13907.9639 - val_loss: 500747965.3699 - val_mean_absolute_error: 14582.4160\n",
            "Epoch 27/100\n",
            " - 0s - loss: 739089657.1081 - mean_absolute_error: 13747.3184 - val_loss: 493693455.7808 - val_mean_absolute_error: 14487.7432\n",
            "Epoch 28/100\n",
            " - 0s - loss: 732680122.0457 - mean_absolute_error: 13589.4639 - val_loss: 515623506.4110 - val_mean_absolute_error: 14602.3701\n",
            "Epoch 29/100\n",
            " - 0s - loss: 730723946.1065 - mean_absolute_error: 13610.7109 - val_loss: 493484018.8493 - val_mean_absolute_error: 14332.7686\n",
            "Epoch 30/100\n",
            " - 0s - loss: 723337834.9346 - mean_absolute_error: 13540.6592 - val_loss: 519119214.4658 - val_mean_absolute_error: 14529.4209\n",
            "Epoch 31/100\n",
            " - 0s - loss: 721772482.6545 - mean_absolute_error: 13587.9150 - val_loss: 508350183.3425 - val_mean_absolute_error: 14370.5049\n",
            "Epoch 32/100\n",
            " - 0s - loss: 720054422.3927 - mean_absolute_error: 13618.4766 - val_loss: 495706686.0274 - val_mean_absolute_error: 14425.6572\n",
            "Epoch 33/100\n",
            " - 0s - loss: 719535942.2831 - mean_absolute_error: 13546.4463 - val_loss: 487528970.5205 - val_mean_absolute_error: 14387.9434\n",
            "Epoch 34/100\n",
            " - 0s - loss: 706492061.4673 - mean_absolute_error: 13399.2090 - val_loss: 485306611.7260 - val_mean_absolute_error: 14294.7148\n",
            "Epoch 35/100\n",
            " - 0s - loss: 700486429.8569 - mean_absolute_error: 13477.9561 - val_loss: 529910243.0685 - val_mean_absolute_error: 14528.9609\n",
            "Epoch 36/100\n",
            " - 0s - loss: 701480106.8128 - mean_absolute_error: 13531.0049 - val_loss: 481705684.3836 - val_mean_absolute_error: 14280.7021\n",
            "Epoch 37/100\n",
            " - 0s - loss: 700075213.3699 - mean_absolute_error: 13446.0605 - val_loss: 510996139.3973 - val_mean_absolute_error: 14363.8359\n",
            "Epoch 38/100\n",
            " - 0s - loss: 696765742.8919 - mean_absolute_error: 13368.7490 - val_loss: 488815314.4110 - val_mean_absolute_error: 14249.1260\n",
            "Epoch 39/100\n",
            " - 0s - loss: 685229128.8645 - mean_absolute_error: 13286.3672 - val_loss: 588567309.5890 - val_mean_absolute_error: 15656.6914\n",
            "Epoch 40/100\n",
            " - 0s - loss: 688378002.0152 - mean_absolute_error: 13361.5908 - val_loss: 508933259.3973 - val_mean_absolute_error: 14095.5107\n",
            "Epoch 41/100\n",
            " - 0s - loss: 678285457.3881 - mean_absolute_error: 13176.0166 - val_loss: 477179008.8767 - val_mean_absolute_error: 14141.6289\n",
            "Epoch 42/100\n",
            " - 0s - loss: 681880003.2542 - mean_absolute_error: 13103.4229 - val_loss: 513701995.6164 - val_mean_absolute_error: 14209.2568\n",
            "Epoch 43/100\n",
            " - 0s - loss: 673738853.3455 - mean_absolute_error: 13154.8994 - val_loss: 490626005.4795 - val_mean_absolute_error: 14240.3066\n",
            "Epoch 44/100\n",
            " - 0s - loss: 678299667.6743 - mean_absolute_error: 13076.9814 - val_loss: 486771352.1096 - val_mean_absolute_error: 14076.5117\n",
            "Epoch 45/100\n",
            " - 0s - loss: 674595825.8995 - mean_absolute_error: 13083.5420 - val_loss: 525141144.5479 - val_mean_absolute_error: 14601.2295\n",
            "Epoch 46/100\n",
            " - 0s - loss: 671647802.4292 - mean_absolute_error: 13147.7246 - val_loss: 501640032.4384 - val_mean_absolute_error: 14122.4463\n",
            "Epoch 47/100\n",
            " - 0s - loss: 667218476.4627 - mean_absolute_error: 12977.3457 - val_loss: 494227960.7671 - val_mean_absolute_error: 14102.8984\n",
            "Epoch 48/100\n",
            " - 0s - loss: 662559012.8463 - mean_absolute_error: 13062.9121 - val_loss: 476080487.0137 - val_mean_absolute_error: 14261.9590\n",
            "Epoch 49/100\n",
            " - 0s - loss: 661981188.8706 - mean_absolute_error: 12955.8750 - val_loss: 594301445.2603 - val_mean_absolute_error: 15364.6338\n",
            "Epoch 50/100\n",
            " - 0s - loss: 657558017.5099 - mean_absolute_error: 13183.5264 - val_loss: 497083376.4384 - val_mean_absolute_error: 14088.9824\n",
            "Epoch 51/100\n",
            " - 0s - loss: 651696757.7930 - mean_absolute_error: 12787.7852 - val_loss: 478884256.8767 - val_mean_absolute_error: 14178.8721\n",
            "Epoch 52/100\n",
            " - 0s - loss: 655100301.9543 - mean_absolute_error: 12887.9941 - val_loss: 492808947.7260 - val_mean_absolute_error: 14149.6611\n",
            "Epoch 53/100\n",
            " - 0s - loss: 635419751.2572 - mean_absolute_error: 12808.9863 - val_loss: 493546233.6438 - val_mean_absolute_error: 15143.4316\n",
            "Epoch 54/100\n",
            " - 0s - loss: 645292158.2222 - mean_absolute_error: 12855.8848 - val_loss: 493998298.7397 - val_mean_absolute_error: 14104.0498\n",
            "Epoch 55/100\n",
            " - 0s - loss: 632150417.3912 - mean_absolute_error: 12701.8330 - val_loss: 493602275.5068 - val_mean_absolute_error: 14016.1143\n",
            "Epoch 56/100\n",
            " - 0s - loss: 627747012.5540 - mean_absolute_error: 12765.9189 - val_loss: 500048177.7534 - val_mean_absolute_error: 14149.1787\n",
            "Epoch 57/100\n",
            " - 0s - loss: 630610417.7595 - mean_absolute_error: 12718.4775 - val_loss: 493610606.9041 - val_mean_absolute_error: 14023.7168\n",
            "Epoch 58/100\n",
            " - 0s - loss: 635010562.6301 - mean_absolute_error: 12695.1963 - val_loss: 475570212.8219 - val_mean_absolute_error: 14114.5791\n",
            "Epoch 59/100\n",
            " - 0s - loss: 625652484.3174 - mean_absolute_error: 12805.5967 - val_loss: 474284251.6164 - val_mean_absolute_error: 13941.9365\n",
            "Epoch 60/100\n",
            " - 0s - loss: 630073483.0807 - mean_absolute_error: 12665.0518 - val_loss: 477104381.5890 - val_mean_absolute_error: 13977.5518\n",
            "Epoch 61/100\n",
            " - 0s - loss: 618907386.7184 - mean_absolute_error: 12725.6328 - val_loss: 519680268.2740 - val_mean_absolute_error: 14024.9229\n",
            "Epoch 62/100\n",
            " - 0s - loss: 623573029.3577 - mean_absolute_error: 12642.0635 - val_loss: 479536422.5753 - val_mean_absolute_error: 14110.1338\n",
            "Epoch 63/100\n",
            " - 0s - loss: 617348461.9787 - mean_absolute_error: 12534.9307 - val_loss: 472899554.6301 - val_mean_absolute_error: 13973.5596\n",
            "Epoch 64/100\n",
            " - 0s - loss: 609054243.7504 - mean_absolute_error: 12738.4482 - val_loss: 474053469.3699 - val_mean_absolute_error: 14013.5225\n",
            "Epoch 65/100\n",
            " - 0s - loss: 612733924.6271 - mean_absolute_error: 12544.6953 - val_loss: 493253061.6986 - val_mean_absolute_error: 13854.3633\n",
            "Epoch 66/100\n",
            " - 0s - loss: 604287879.7199 - mean_absolute_error: 12450.3184 - val_loss: 481858993.9726 - val_mean_absolute_error: 13757.3125\n",
            "Epoch 67/100\n",
            " - 0s - loss: 606927871.5129 - mean_absolute_error: 12481.9746 - val_loss: 507756932.8219 - val_mean_absolute_error: 14051.5293\n",
            "Epoch 68/100\n",
            " - 0s - loss: 603227770.7397 - mean_absolute_error: 12487.3760 - val_loss: 473617279.5616 - val_mean_absolute_error: 14198.9316\n",
            "Epoch 69/100\n",
            " - 0s - loss: 602066084.5419 - mean_absolute_error: 12468.4912 - val_loss: 476784610.1918 - val_mean_absolute_error: 13745.0264\n",
            "Epoch 70/100\n",
            " - 0s - loss: 600230998.8554 - mean_absolute_error: 12354.6436 - val_loss: 504319057.5342 - val_mean_absolute_error: 13936.8213\n",
            "Epoch 71/100\n",
            " - 0s - loss: 595829110.9589 - mean_absolute_error: 12400.7012 - val_loss: 493751055.7808 - val_mean_absolute_error: 14033.7363\n",
            "Epoch 72/100\n",
            " - 0s - loss: 596680288.8767 - mean_absolute_error: 12437.3467 - val_loss: 479046899.7260 - val_mean_absolute_error: 13892.7930\n",
            "Epoch 73/100\n",
            " - 0s - loss: 593393766.2831 - mean_absolute_error: 12354.4834 - val_loss: 505006912.4384 - val_mean_absolute_error: 13923.0820\n",
            "Epoch 74/100\n",
            " - 0s - loss: 588546790.4779 - mean_absolute_error: 12392.2959 - val_loss: 472297808.6575 - val_mean_absolute_error: 14120.2490\n",
            "Epoch 75/100\n",
            " - 0s - loss: 577318229.5282 - mean_absolute_error: 12313.3867 - val_loss: 560745124.3836 - val_mean_absolute_error: 14721.4551\n",
            "Epoch 76/100\n",
            " - 0s - loss: 574081646.8067 - mean_absolute_error: 12286.0205 - val_loss: 475298007.6712 - val_mean_absolute_error: 14028.8047\n",
            "Epoch 77/100\n",
            " - 0s - loss: 578041339.2374 - mean_absolute_error: 12379.6465 - val_loss: 487507558.1370 - val_mean_absolute_error: 13855.9355\n",
            "Epoch 78/100\n",
            " - 0s - loss: 564896354.4231 - mean_absolute_error: 12246.7676 - val_loss: 485026184.7671 - val_mean_absolute_error: 13689.0527\n",
            "Epoch 79/100\n",
            " - 0s - loss: 573242060.3470 - mean_absolute_error: 12269.4395 - val_loss: 523027998.6849 - val_mean_absolute_error: 14372.4023\n",
            "Epoch 80/100\n",
            " - 0s - loss: 572945598.7336 - mean_absolute_error: 12124.7295 - val_loss: 568848359.4521 - val_mean_absolute_error: 15079.9541\n",
            "Epoch 81/100\n",
            " - 0s - loss: 571766212.2070 - mean_absolute_error: 12169.8516 - val_loss: 491417770.0822 - val_mean_absolute_error: 13795.9229\n",
            "Epoch 82/100\n",
            " - 0s - loss: 564521109.8204 - mean_absolute_error: 12117.1260 - val_loss: 488755336.7671 - val_mean_absolute_error: 13741.9092\n",
            "Epoch 83/100\n",
            " - 0s - loss: 552997520.6575 - mean_absolute_error: 12200.8633 - val_loss: 660832655.3425 - val_mean_absolute_error: 16164.2549\n",
            "Epoch 84/100\n",
            " - 0s - loss: 561317690.8037 - mean_absolute_error: 12175.0225 - val_loss: 504777080.9863 - val_mean_absolute_error: 13873.5244\n",
            "Epoch 85/100\n",
            " - 0s - loss: 553733964.7854 - mean_absolute_error: 11997.3555 - val_loss: 536163588.8219 - val_mean_absolute_error: 14043.9248\n",
            "Epoch 86/100\n",
            " - 0s - loss: 550560814.4597 - mean_absolute_error: 11995.6934 - val_loss: 503261068.2740 - val_mean_absolute_error: 13834.3359\n",
            "Epoch 87/100\n",
            " - 0s - loss: 552958676.6971 - mean_absolute_error: 11966.4600 - val_loss: 494190394.7397 - val_mean_absolute_error: 13742.4316\n",
            "Epoch 88/100\n",
            " - 0s - loss: 537685164.9559 - mean_absolute_error: 11872.4473 - val_loss: 514657369.4247 - val_mean_absolute_error: 13766.2002\n",
            "Epoch 89/100\n",
            " - 0s - loss: 536834027.6104 - mean_absolute_error: 11958.1523 - val_loss: 484822099.2877 - val_mean_absolute_error: 13752.9072\n",
            "Epoch 90/100\n",
            " - 0s - loss: 539708333.5936 - mean_absolute_error: 11875.4150 - val_loss: 481564383.1233 - val_mean_absolute_error: 13833.4111\n",
            "Epoch 91/100\n",
            " - 0s - loss: 543347737.9117 - mean_absolute_error: 11875.2529 - val_loss: 540760591.3425 - val_mean_absolute_error: 14218.5723\n",
            "Epoch 92/100\n",
            " - 0s - loss: 538855106.7854 - mean_absolute_error: 11973.1914 - val_loss: 492871202.1918 - val_mean_absolute_error: 13792.5723\n",
            "Epoch 93/100\n",
            " - 0s - loss: 531128108.8828 - mean_absolute_error: 11831.2842 - val_loss: 474225654.7945 - val_mean_absolute_error: 14036.7012\n",
            "Epoch 94/100\n",
            " - 0s - loss: 529384863.3181 - mean_absolute_error: 11748.3965 - val_loss: 519209659.6164 - val_mean_absolute_error: 14311.9580\n",
            "Epoch 95/100\n",
            " - 0s - loss: 522387199.6104 - mean_absolute_error: 11796.7695 - val_loss: 475380784.7671 - val_mean_absolute_error: 13953.9893\n",
            "Epoch 96/100\n",
            " - 0s - loss: 525247623.6469 - mean_absolute_error: 11764.5225 - val_loss: 513377299.2877 - val_mean_absolute_error: 14223.3369\n",
            "Epoch 97/100\n",
            " - 0s - loss: 525626862.9041 - mean_absolute_error: 11746.7979 - val_loss: 480866310.3562 - val_mean_absolute_error: 13587.2783\n",
            "Epoch 98/100\n",
            " - 0s - loss: 517181535.5677 - mean_absolute_error: 11593.3311 - val_loss: 508347715.9452 - val_mean_absolute_error: 14024.9180\n",
            "Epoch 99/100\n",
            " - 0s - loss: 505321108.8950 - mean_absolute_error: 11745.6582 - val_loss: 517515491.9452 - val_mean_absolute_error: 13948.8662\n",
            "Epoch 100/100\n",
            " - 0s - loss: 508138945.3638 - mean_absolute_error: 11529.6123 - val_loss: 487270834.1918 - val_mean_absolute_error: 13758.7539\n"
          ],
          "name": "stdout"
        }
      ]
    },
    {
      "cell_type": "markdown",
      "metadata": {
        "id": "onUXzhekHBmk",
        "colab_type": "text"
      },
      "source": [
        "# Предсказание"
      ]
    },
    {
      "cell_type": "markdown",
      "metadata": {
        "id": "sg1tLyjTsiuJ",
        "colab_type": "text"
      },
      "source": [
        "## Готовим данные для предсказания"
      ]
    },
    {
      "cell_type": "code",
      "metadata": {
        "id": "EuyJxowUslmh",
        "colab_type": "code",
        "colab": {
          "base_uri": "https://localhost:8080/",
          "height": 102
        },
        "outputId": "39a0ad62-4215-45c8-b9b9-66b953305803"
      },
      "source": [
        "test = pd.read_csv('test.csv')\n",
        "\n",
        "test = clear_data(test)\n",
        "\n",
        "# test.drop(less_corr, axis=1, inplace=True)\n",
        "# test.drop(\"SalesPrice\")\n",
        "\n",
        "test_numerical = test[numerical_features]\n",
        "test_categorical = test[categorical_features]\n",
        "\n",
        "# Подготовка числовых признаков\n",
        "test_numerical = test_numerical.fillna(test_numerical.median())\n",
        "test_numerical -= mean\n",
        "test_numerical /= std\n",
        "\n",
        "# Подготовка категориальных признаков\n",
        "test_categorical = pd.get_dummies(test_categorical)\n",
        "additional_columns = []\n",
        "for column in train_categorical.columns:\n",
        "    if column not in test_categorical.columns:\n",
        "        additional_columns.append(column)\n",
        "        test_categorical[column] = 0\n",
        "        \n",
        "# Объединение\n",
        "x_test = pd.concat([test_numerical[train_numerical.columns], test_categorical[train_categorical.columns]], axis = 1)\n",
        "\n",
        "x_test.info()"
      ],
      "execution_count": 51,
      "outputs": [
        {
          "output_type": "stream",
          "text": [
            "<class 'pandas.core.frame.DataFrame'>\n",
            "RangeIndex: 1459 entries, 0 to 1458\n",
            "Columns: 236 entries, LotFrontage to SaleCondition_Partial\n",
            "dtypes: float64(48), int64(15), uint8(173)\n",
            "memory usage: 964.7 KB\n"
          ],
          "name": "stdout"
        }
      ]
    },
    {
      "cell_type": "markdown",
      "metadata": {
        "id": "tFeAAM9gyKNd",
        "colab_type": "text"
      },
      "source": [
        "## Запускаем предсказание"
      ]
    },
    {
      "cell_type": "code",
      "metadata": {
        "id": "B9SSHfwTyJlG",
        "colab_type": "code",
        "colab": {}
      },
      "source": [
        "predictions = model.predict(x_test)"
      ],
      "execution_count": 0,
      "outputs": []
    },
    {
      "cell_type": "code",
      "metadata": {
        "id": "2DcmFSaMz6hg",
        "colab_type": "code",
        "outputId": "2d3cd61e-3388-4e6a-809a-b545d79947af",
        "colab": {
          "base_uri": "https://localhost:8080/",
          "height": 357
        }
      },
      "source": [
        "predictions[:20]"
      ],
      "execution_count": 53,
      "outputs": [
        {
          "output_type": "execute_result",
          "data": {
            "text/plain": [
              "array([[117001.8 ],\n",
              "       [161431.88],\n",
              "       [181307.66],\n",
              "       [193368.2 ],\n",
              "       [197859.53],\n",
              "       [174782.23],\n",
              "       [175690.9 ],\n",
              "       [167264.23],\n",
              "       [184389.9 ],\n",
              "       [131281.38],\n",
              "       [179505.64],\n",
              "       [ 97359.22],\n",
              "       [ 97517.34],\n",
              "       [143972.53],\n",
              "       [117616.05],\n",
              "       [356691.94],\n",
              "       [250546.23],\n",
              "       [286398.4 ],\n",
              "       [280197.6 ],\n",
              "       [475068.12]], dtype=float32)"
            ]
          },
          "metadata": {
            "tags": []
          },
          "execution_count": 53
        }
      ]
    },
    {
      "cell_type": "markdown",
      "metadata": {
        "id": "LVbtj2izKZ5y",
        "colab_type": "text"
      },
      "source": [
        "# Подготовка решения для Kaggle"
      ]
    },
    {
      "cell_type": "markdown",
      "metadata": {
        "id": "d-nbq5mA0OMO",
        "colab_type": "text"
      },
      "source": [
        "## Готовим решение для Kaggle"
      ]
    },
    {
      "cell_type": "code",
      "metadata": {
        "id": "RU4Wz1Lg0Q0G",
        "colab_type": "code",
        "colab": {}
      },
      "source": [
        "out = np.column_stack((test['Id'], predictions))"
      ],
      "execution_count": 0,
      "outputs": []
    },
    {
      "cell_type": "code",
      "metadata": {
        "id": "Y-8Lzye70akf",
        "colab_type": "code",
        "outputId": "97792346-607e-40b5-f0cd-e4d18a58ae50",
        "colab": {
          "base_uri": "https://localhost:8080/",
          "height": 187
        }
      },
      "source": [
        "out[:10]"
      ],
      "execution_count": 55,
      "outputs": [
        {
          "output_type": "execute_result",
          "data": {
            "text/plain": [
              "array([[  1461.      , 117001.796875],\n",
              "       [  1462.      , 161431.875   ],\n",
              "       [  1463.      , 181307.65625 ],\n",
              "       [  1464.      , 193368.203125],\n",
              "       [  1465.      , 197859.53125 ],\n",
              "       [  1466.      , 174782.234375],\n",
              "       [  1467.      , 175690.90625 ],\n",
              "       [  1468.      , 167264.234375],\n",
              "       [  1469.      , 184389.90625 ],\n",
              "       [  1470.      , 131281.375   ]])"
            ]
          },
          "metadata": {
            "tags": []
          },
          "execution_count": 55
        }
      ]
    },
    {
      "cell_type": "code",
      "metadata": {
        "id": "ID6HGH7D1haY",
        "colab_type": "code",
        "colab": {}
      },
      "source": [
        "np.savetxt('submission.csv', out, header=\"Id,SalePrice\", \n",
        "            comments=\"\", fmt=\"%d,%f\")"
      ],
      "execution_count": 0,
      "outputs": []
    },
    {
      "cell_type": "code",
      "metadata": {
        "id": "vyZgHHzs1uZt",
        "colab_type": "code",
        "outputId": "87e600d1-6192-4b60-e281-e674ae899538",
        "colab": {
          "base_uri": "https://localhost:8080/",
          "height": 187
        }
      },
      "source": [
        "!head submission.csv"
      ],
      "execution_count": 57,
      "outputs": [
        {
          "output_type": "stream",
          "text": [
            "Id,SalePrice\n",
            "1461,117001.796875\n",
            "1462,161431.875000\n",
            "1463,181307.656250\n",
            "1464,193368.203125\n",
            "1465,197859.531250\n",
            "1466,174782.234375\n",
            "1467,175690.906250\n",
            "1468,167264.234375\n",
            "1469,184389.906250\n"
          ],
          "name": "stdout"
        }
      ]
    },
    {
      "cell_type": "markdown",
      "metadata": {
        "id": "j1hxNRlw1yGs",
        "colab_type": "text"
      },
      "source": [
        "## Отправляем решение на Kaggle"
      ]
    },
    {
      "cell_type": "code",
      "metadata": {
        "id": "sv0BWDaD10hN",
        "colab_type": "code",
        "outputId": "77631446-75c0-444b-81e2-cc9577985c7d",
        "colab": {
          "base_uri": "https://localhost:8080/",
          "height": 68
        }
      },
      "source": [
        "!kaggle competitions submit -c house-prices-advanced-regression-techniques -m \"Removed less correlated\" -f submission.csv"
      ],
      "execution_count": 58,
      "outputs": [
        {
          "output_type": "stream",
          "text": [
            "Warning: Your Kaggle API key is readable by other users on this system! To fix this, you can run 'chmod 600 /root/.kaggle/kaggle.json'\n",
            "100% 27.0k/27.0k [00:03<00:00, 8.71kB/s]\n",
            "Successfully submitted to House Prices: Advanced Regression Techniques"
          ],
          "name": "stdout"
        }
      ]
    }
  ]
}