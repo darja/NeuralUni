{
  "nbformat": 4,
  "nbformat_minor": 0,
  "metadata": {
    "colab": {
      "name": "14_ames_housing_ryazhskikh.ipynb",
      "version": "0.3.2",
      "provenance": [],
      "toc_visible": true,
      "include_colab_link": true
    },
    "kernelspec": {
      "name": "python3",
      "display_name": "Python 3"
    },
    "accelerator": "GPU"
  },
  "cells": [
    {
      "cell_type": "markdown",
      "metadata": {
        "id": "view-in-github",
        "colab_type": "text"
      },
      "source": [
        "<a href=\"https://colab.research.google.com/github/darja/NeuralUni/blob/master/14_ames_housing_ryazhskikh.ipynb\" target=\"_parent\"><img src=\"https://colab.research.google.com/assets/colab-badge.svg\" alt=\"Open In Colab\"/></a>"
      ]
    },
    {
      "cell_type": "markdown",
      "metadata": {
        "id": "fikdeAIiUify",
        "colab_type": "text"
      },
      "source": [
        "# Определение стоимости недвижимости из набора данных Ames Housing\n",
        "\n",
        "Примите условия участия в соревновании - https://www.kaggle.com/c/house-prices-advanced-regression-techniques\n",
        "\n",
        "Улучшайте решение, чтобы занять более высокое место в соревновании. Для этого:\n",
        "\n",
        "1. Изучите подготовку данных в опубликованных решениях:\n",
        "    - https://www.kaggle.com/apapiu/regularized-linear-models\n",
        "    - https://www.kaggle.com/juliencs/a-study-on-regression-applied-to-the-ames-dataset\n",
        "    - https://www.kaggle.com/hugosjoberg/house-prices-prediction-using-keras\n",
        "    - https://www.kaggle.com/diegosiebra/neural-network-model-for-house-prices-keras\n",
        "\n",
        "    Попробуйте применять подходы из этих решений.\n",
        "\n",
        "2. Изменяйте архитектуру нейронной сети:\n",
        "   - Добавьте еще один или два слоя в сеть, удалите один из слоев.\n",
        "   - Изменяйте количество нейронов на каждом слое: уменьшите в два раза, увеличите в два раза.\n",
        "   - Добавьте регуляризацию: Dropout, L2 или L1.\n",
        "   \n",
        "3. Изменяйте метод обучения нейронной сети:\n",
        "    - Используйте разные оптимизаторы ('SGD', 'adam', 'rmsprop', 'adadelta').\n",
        "    - Изменяйте размер мини-выборки.\n",
        "    - Изменяйте размер параметра скорости обучения.\n",
        "\n",
        "4. Удалите выбросы из обучающего набора данных (дома с площадью более 4000).\n",
        "\n",
        "5. Удалите из набора данных признаки с высокой корреляцией (связанные между собой). Смотрите примеры в ноутбуках из пункта 1.\n",
        "\n",
        "6. Добавьте производных признаков в данные для обучения (смотрите примеры в ноутбуках из пункта 1)."
      ]
    },
    {
      "cell_type": "markdown",
      "metadata": {
        "id": "aD8sNavmJSSt",
        "colab_type": "text"
      },
      "source": [
        "# Подготовка окружения"
      ]
    },
    {
      "cell_type": "code",
      "metadata": {
        "id": "fBIgB31IJtEs",
        "colab_type": "code",
        "colab": {}
      },
      "source": [
        "from tensorflow.keras.models import Sequential\n",
        "from tensorflow.keras.layers import Dense\n",
        "from google.colab import files\n",
        "import matplotlib.pyplot as plt\n",
        "import seaborn as sns\n",
        "import numpy as np\n",
        "import pandas as pd\n",
        "%matplotlib inline "
      ],
      "execution_count": 0,
      "outputs": []
    },
    {
      "cell_type": "markdown",
      "metadata": {
        "id": "8ETOkj-KWNMH",
        "colab_type": "text"
      },
      "source": [
        "## Настраиваем Kaggle API"
      ]
    },
    {
      "cell_type": "markdown",
      "metadata": {
        "id": "SAq-tbMwWXw3",
        "colab_type": "text"
      },
      "source": [
        "Загружаем токен для аутентификации"
      ]
    },
    {
      "cell_type": "code",
      "metadata": {
        "id": "7KVZqeP8IO2V",
        "colab_type": "code",
        "outputId": "23e70556-78a3-4040-c46a-fccd50c05906",
        "colab": {
          "resources": {
            "http://localhost:8080/nbextensions/google.colab/files.js": {
              "data": "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",
              "ok": true,
              "headers": [
                [
                  "content-type",
                  "application/javascript"
                ]
              ],
              "status": 200,
              "status_text": ""
            }
          },
          "base_uri": "https://localhost:8080/",
          "height": 71
        }
      },
      "source": [
        "file = files.upload()\n",
        "!mkdir ~/.kaggle\n",
        "!mv kaggle.json ~/.kaggle"
      ],
      "execution_count": 2,
      "outputs": [
        {
          "output_type": "display_data",
          "data": {
            "text/html": [
              "\n",
              "     <input type=\"file\" id=\"files-49f51744-4e27-4e05-8e73-c1e6cc812f8d\" name=\"files[]\" multiple disabled />\n",
              "     <output id=\"result-49f51744-4e27-4e05-8e73-c1e6cc812f8d\">\n",
              "      Upload widget is only available when the cell has been executed in the\n",
              "      current browser session. Please rerun this cell to enable.\n",
              "      </output>\n",
              "      <script src=\"/nbextensions/google.colab/files.js\"></script> "
            ],
            "text/plain": [
              "<IPython.core.display.HTML object>"
            ]
          },
          "metadata": {
            "tags": []
          }
        },
        {
          "output_type": "stream",
          "text": [
            "Saving kaggle.json to kaggle.json\n"
          ],
          "name": "stdout"
        }
      ]
    },
    {
      "cell_type": "markdown",
      "metadata": {
        "id": "1cp02pHbIoEV",
        "colab_type": "text"
      },
      "source": [
        "## Загрузка данных"
      ]
    },
    {
      "cell_type": "markdown",
      "metadata": {
        "id": "lLnmiai7Jq9f",
        "colab_type": "text"
      },
      "source": [
        "### Скачивание набора данных"
      ]
    },
    {
      "cell_type": "code",
      "metadata": {
        "id": "m-xlRl9UIqgt",
        "colab_type": "code",
        "outputId": "af1842ae-4cb9-4341-bea2-019fef3e7722",
        "colab": {
          "base_uri": "https://localhost:8080/",
          "height": 238
        }
      },
      "source": [
        "!kaggle competitions download -c house-prices-advanced-regression-techniques"
      ],
      "execution_count": 3,
      "outputs": [
        {
          "output_type": "stream",
          "text": [
            "Warning: Your Kaggle API key is readable by other users on this system! To fix this, you can run 'chmod 600 /root/.kaggle/kaggle.json'\n",
            "Downloading sample_submission.csv to /content\n",
            "  0% 0.00/31.2k [00:00<?, ?B/s]\n",
            "100% 31.2k/31.2k [00:00<00:00, 52.9MB/s]\n",
            "Downloading test.csv to /content\n",
            "  0% 0.00/441k [00:00<?, ?B/s]\n",
            "100% 441k/441k [00:00<00:00, 61.5MB/s]\n",
            "Downloading train.csv to /content\n",
            "  0% 0.00/450k [00:00<?, ?B/s]\n",
            "100% 450k/450k [00:00<00:00, 63.3MB/s]\n",
            "Downloading data_description.txt to /content\n",
            "  0% 0.00/13.1k [00:00<?, ?B/s]\n",
            "100% 13.1k/13.1k [00:00<00:00, 13.1MB/s]\n"
          ],
          "name": "stdout"
        }
      ]
    },
    {
      "cell_type": "markdown",
      "metadata": {
        "id": "clE2bF8TZ9Uv",
        "colab_type": "text"
      },
      "source": [
        "### Просмотр данных"
      ]
    },
    {
      "cell_type": "code",
      "metadata": {
        "id": "6IHb5pZQZ8vu",
        "colab_type": "code",
        "colab": {}
      },
      "source": [
        "!head train.csv"
      ],
      "execution_count": 0,
      "outputs": []
    },
    {
      "cell_type": "code",
      "metadata": {
        "id": "t7dIha5jaXV_",
        "colab_type": "code",
        "outputId": "1e73dcdb-78db-4366-e7cb-7c1a720038ee",
        "colab": {
          "base_uri": "https://localhost:8080/",
          "height": 8908
        }
      },
      "source": [
        "!cat data_description.txt"
      ],
      "execution_count": 5,
      "outputs": [
        {
          "output_type": "stream",
          "text": [
            "MSSubClass: Identifies the type of dwelling involved in the sale.\t\n",
            "\n",
            "        20\t1-STORY 1946 & NEWER ALL STYLES\n",
            "        30\t1-STORY 1945 & OLDER\n",
            "        40\t1-STORY W/FINISHED ATTIC ALL AGES\n",
            "        45\t1-1/2 STORY - UNFINISHED ALL AGES\n",
            "        50\t1-1/2 STORY FINISHED ALL AGES\n",
            "        60\t2-STORY 1946 & NEWER\n",
            "        70\t2-STORY 1945 & OLDER\n",
            "        75\t2-1/2 STORY ALL AGES\n",
            "        80\tSPLIT OR MULTI-LEVEL\n",
            "        85\tSPLIT FOYER\n",
            "        90\tDUPLEX - ALL STYLES AND AGES\n",
            "       120\t1-STORY PUD (Planned Unit Development) - 1946 & NEWER\n",
            "       150\t1-1/2 STORY PUD - ALL AGES\n",
            "       160\t2-STORY PUD - 1946 & NEWER\n",
            "       180\tPUD - MULTILEVEL - INCL SPLIT LEV/FOYER\n",
            "       190\t2 FAMILY CONVERSION - ALL STYLES AND AGES\n",
            "\n",
            "MSZoning: Identifies the general zoning classification of the sale.\n",
            "\t\t\n",
            "       A\tAgriculture\n",
            "       C\tCommercial\n",
            "       FV\tFloating Village Residential\n",
            "       I\tIndustrial\n",
            "       RH\tResidential High Density\n",
            "       RL\tResidential Low Density\n",
            "       RP\tResidential Low Density Park \n",
            "       RM\tResidential Medium Density\n",
            "\t\n",
            "LotFrontage: Linear feet of street connected to property\n",
            "\n",
            "LotArea: Lot size in square feet\n",
            "\n",
            "Street: Type of road access to property\n",
            "\n",
            "       Grvl\tGravel\t\n",
            "       Pave\tPaved\n",
            "       \t\n",
            "Alley: Type of alley access to property\n",
            "\n",
            "       Grvl\tGravel\n",
            "       Pave\tPaved\n",
            "       NA \tNo alley access\n",
            "\t\t\n",
            "LotShape: General shape of property\n",
            "\n",
            "       Reg\tRegular\t\n",
            "       IR1\tSlightly irregular\n",
            "       IR2\tModerately Irregular\n",
            "       IR3\tIrregular\n",
            "       \n",
            "LandContour: Flatness of the property\n",
            "\n",
            "       Lvl\tNear Flat/Level\t\n",
            "       Bnk\tBanked - Quick and significant rise from street grade to building\n",
            "       HLS\tHillside - Significant slope from side to side\n",
            "       Low\tDepression\n",
            "\t\t\n",
            "Utilities: Type of utilities available\n",
            "\t\t\n",
            "       AllPub\tAll public Utilities (E,G,W,& S)\t\n",
            "       NoSewr\tElectricity, Gas, and Water (Septic Tank)\n",
            "       NoSeWa\tElectricity and Gas Only\n",
            "       ELO\tElectricity only\t\n",
            "\t\n",
            "LotConfig: Lot configuration\n",
            "\n",
            "       Inside\tInside lot\n",
            "       Corner\tCorner lot\n",
            "       CulDSac\tCul-de-sac\n",
            "       FR2\tFrontage on 2 sides of property\n",
            "       FR3\tFrontage on 3 sides of property\n",
            "\t\n",
            "LandSlope: Slope of property\n",
            "\t\t\n",
            "       Gtl\tGentle slope\n",
            "       Mod\tModerate Slope\t\n",
            "       Sev\tSevere Slope\n",
            "\t\n",
            "Neighborhood: Physical locations within Ames city limits\n",
            "\n",
            "       Blmngtn\tBloomington Heights\n",
            "       Blueste\tBluestem\n",
            "       BrDale\tBriardale\n",
            "       BrkSide\tBrookside\n",
            "       ClearCr\tClear Creek\n",
            "       CollgCr\tCollege Creek\n",
            "       Crawfor\tCrawford\n",
            "       Edwards\tEdwards\n",
            "       Gilbert\tGilbert\n",
            "       IDOTRR\tIowa DOT and Rail Road\n",
            "       MeadowV\tMeadow Village\n",
            "       Mitchel\tMitchell\n",
            "       Names\tNorth Ames\n",
            "       NoRidge\tNorthridge\n",
            "       NPkVill\tNorthpark Villa\n",
            "       NridgHt\tNorthridge Heights\n",
            "       NWAmes\tNorthwest Ames\n",
            "       OldTown\tOld Town\n",
            "       SWISU\tSouth & West of Iowa State University\n",
            "       Sawyer\tSawyer\n",
            "       SawyerW\tSawyer West\n",
            "       Somerst\tSomerset\n",
            "       StoneBr\tStone Brook\n",
            "       Timber\tTimberland\n",
            "       Veenker\tVeenker\n",
            "\t\t\t\n",
            "Condition1: Proximity to various conditions\n",
            "\t\n",
            "       Artery\tAdjacent to arterial street\n",
            "       Feedr\tAdjacent to feeder street\t\n",
            "       Norm\tNormal\t\n",
            "       RRNn\tWithin 200' of North-South Railroad\n",
            "       RRAn\tAdjacent to North-South Railroad\n",
            "       PosN\tNear positive off-site feature--park, greenbelt, etc.\n",
            "       PosA\tAdjacent to postive off-site feature\n",
            "       RRNe\tWithin 200' of East-West Railroad\n",
            "       RRAe\tAdjacent to East-West Railroad\n",
            "\t\n",
            "Condition2: Proximity to various conditions (if more than one is present)\n",
            "\t\t\n",
            "       Artery\tAdjacent to arterial street\n",
            "       Feedr\tAdjacent to feeder street\t\n",
            "       Norm\tNormal\t\n",
            "       RRNn\tWithin 200' of North-South Railroad\n",
            "       RRAn\tAdjacent to North-South Railroad\n",
            "       PosN\tNear positive off-site feature--park, greenbelt, etc.\n",
            "       PosA\tAdjacent to postive off-site feature\n",
            "       RRNe\tWithin 200' of East-West Railroad\n",
            "       RRAe\tAdjacent to East-West Railroad\n",
            "\t\n",
            "BldgType: Type of dwelling\n",
            "\t\t\n",
            "       1Fam\tSingle-family Detached\t\n",
            "       2FmCon\tTwo-family Conversion; originally built as one-family dwelling\n",
            "       Duplx\tDuplex\n",
            "       TwnhsE\tTownhouse End Unit\n",
            "       TwnhsI\tTownhouse Inside Unit\n",
            "\t\n",
            "HouseStyle: Style of dwelling\n",
            "\t\n",
            "       1Story\tOne story\n",
            "       1.5Fin\tOne and one-half story: 2nd level finished\n",
            "       1.5Unf\tOne and one-half story: 2nd level unfinished\n",
            "       2Story\tTwo story\n",
            "       2.5Fin\tTwo and one-half story: 2nd level finished\n",
            "       2.5Unf\tTwo and one-half story: 2nd level unfinished\n",
            "       SFoyer\tSplit Foyer\n",
            "       SLvl\tSplit Level\n",
            "\t\n",
            "OverallQual: Rates the overall material and finish of the house\n",
            "\n",
            "       10\tVery Excellent\n",
            "       9\tExcellent\n",
            "       8\tVery Good\n",
            "       7\tGood\n",
            "       6\tAbove Average\n",
            "       5\tAverage\n",
            "       4\tBelow Average\n",
            "       3\tFair\n",
            "       2\tPoor\n",
            "       1\tVery Poor\n",
            "\t\n",
            "OverallCond: Rates the overall condition of the house\n",
            "\n",
            "       10\tVery Excellent\n",
            "       9\tExcellent\n",
            "       8\tVery Good\n",
            "       7\tGood\n",
            "       6\tAbove Average\t\n",
            "       5\tAverage\n",
            "       4\tBelow Average\t\n",
            "       3\tFair\n",
            "       2\tPoor\n",
            "       1\tVery Poor\n",
            "\t\t\n",
            "YearBuilt: Original construction date\n",
            "\n",
            "YearRemodAdd: Remodel date (same as construction date if no remodeling or additions)\n",
            "\n",
            "RoofStyle: Type of roof\n",
            "\n",
            "       Flat\tFlat\n",
            "       Gable\tGable\n",
            "       Gambrel\tGabrel (Barn)\n",
            "       Hip\tHip\n",
            "       Mansard\tMansard\n",
            "       Shed\tShed\n",
            "\t\t\n",
            "RoofMatl: Roof material\n",
            "\n",
            "       ClyTile\tClay or Tile\n",
            "       CompShg\tStandard (Composite) Shingle\n",
            "       Membran\tMembrane\n",
            "       Metal\tMetal\n",
            "       Roll\tRoll\n",
            "       Tar&Grv\tGravel & Tar\n",
            "       WdShake\tWood Shakes\n",
            "       WdShngl\tWood Shingles\n",
            "\t\t\n",
            "Exterior1st: Exterior covering on house\n",
            "\n",
            "       AsbShng\tAsbestos Shingles\n",
            "       AsphShn\tAsphalt Shingles\n",
            "       BrkComm\tBrick Common\n",
            "       BrkFace\tBrick Face\n",
            "       CBlock\tCinder Block\n",
            "       CemntBd\tCement Board\n",
            "       HdBoard\tHard Board\n",
            "       ImStucc\tImitation Stucco\n",
            "       MetalSd\tMetal Siding\n",
            "       Other\tOther\n",
            "       Plywood\tPlywood\n",
            "       PreCast\tPreCast\t\n",
            "       Stone\tStone\n",
            "       Stucco\tStucco\n",
            "       VinylSd\tVinyl Siding\n",
            "       Wd Sdng\tWood Siding\n",
            "       WdShing\tWood Shingles\n",
            "\t\n",
            "Exterior2nd: Exterior covering on house (if more than one material)\n",
            "\n",
            "       AsbShng\tAsbestos Shingles\n",
            "       AsphShn\tAsphalt Shingles\n",
            "       BrkComm\tBrick Common\n",
            "       BrkFace\tBrick Face\n",
            "       CBlock\tCinder Block\n",
            "       CemntBd\tCement Board\n",
            "       HdBoard\tHard Board\n",
            "       ImStucc\tImitation Stucco\n",
            "       MetalSd\tMetal Siding\n",
            "       Other\tOther\n",
            "       Plywood\tPlywood\n",
            "       PreCast\tPreCast\n",
            "       Stone\tStone\n",
            "       Stucco\tStucco\n",
            "       VinylSd\tVinyl Siding\n",
            "       Wd Sdng\tWood Siding\n",
            "       WdShing\tWood Shingles\n",
            "\t\n",
            "MasVnrType: Masonry veneer type\n",
            "\n",
            "       BrkCmn\tBrick Common\n",
            "       BrkFace\tBrick Face\n",
            "       CBlock\tCinder Block\n",
            "       None\tNone\n",
            "       Stone\tStone\n",
            "\t\n",
            "MasVnrArea: Masonry veneer area in square feet\n",
            "\n",
            "ExterQual: Evaluates the quality of the material on the exterior \n",
            "\t\t\n",
            "       Ex\tExcellent\n",
            "       Gd\tGood\n",
            "       TA\tAverage/Typical\n",
            "       Fa\tFair\n",
            "       Po\tPoor\n",
            "\t\t\n",
            "ExterCond: Evaluates the present condition of the material on the exterior\n",
            "\t\t\n",
            "       Ex\tExcellent\n",
            "       Gd\tGood\n",
            "       TA\tAverage/Typical\n",
            "       Fa\tFair\n",
            "       Po\tPoor\n",
            "\t\t\n",
            "Foundation: Type of foundation\n",
            "\t\t\n",
            "       BrkTil\tBrick & Tile\n",
            "       CBlock\tCinder Block\n",
            "       PConc\tPoured Contrete\t\n",
            "       Slab\tSlab\n",
            "       Stone\tStone\n",
            "       Wood\tWood\n",
            "\t\t\n",
            "BsmtQual: Evaluates the height of the basement\n",
            "\n",
            "       Ex\tExcellent (100+ inches)\t\n",
            "       Gd\tGood (90-99 inches)\n",
            "       TA\tTypical (80-89 inches)\n",
            "       Fa\tFair (70-79 inches)\n",
            "       Po\tPoor (<70 inches\n",
            "       NA\tNo Basement\n",
            "\t\t\n",
            "BsmtCond: Evaluates the general condition of the basement\n",
            "\n",
            "       Ex\tExcellent\n",
            "       Gd\tGood\n",
            "       TA\tTypical - slight dampness allowed\n",
            "       Fa\tFair - dampness or some cracking or settling\n",
            "       Po\tPoor - Severe cracking, settling, or wetness\n",
            "       NA\tNo Basement\n",
            "\t\n",
            "BsmtExposure: Refers to walkout or garden level walls\n",
            "\n",
            "       Gd\tGood Exposure\n",
            "       Av\tAverage Exposure (split levels or foyers typically score average or above)\t\n",
            "       Mn\tMimimum Exposure\n",
            "       No\tNo Exposure\n",
            "       NA\tNo Basement\n",
            "\t\n",
            "BsmtFinType1: Rating of basement finished area\n",
            "\n",
            "       GLQ\tGood Living Quarters\n",
            "       ALQ\tAverage Living Quarters\n",
            "       BLQ\tBelow Average Living Quarters\t\n",
            "       Rec\tAverage Rec Room\n",
            "       LwQ\tLow Quality\n",
            "       Unf\tUnfinshed\n",
            "       NA\tNo Basement\n",
            "\t\t\n",
            "BsmtFinSF1: Type 1 finished square feet\n",
            "\n",
            "BsmtFinType2: Rating of basement finished area (if multiple types)\n",
            "\n",
            "       GLQ\tGood Living Quarters\n",
            "       ALQ\tAverage Living Quarters\n",
            "       BLQ\tBelow Average Living Quarters\t\n",
            "       Rec\tAverage Rec Room\n",
            "       LwQ\tLow Quality\n",
            "       Unf\tUnfinshed\n",
            "       NA\tNo Basement\n",
            "\n",
            "BsmtFinSF2: Type 2 finished square feet\n",
            "\n",
            "BsmtUnfSF: Unfinished square feet of basement area\n",
            "\n",
            "TotalBsmtSF: Total square feet of basement area\n",
            "\n",
            "Heating: Type of heating\n",
            "\t\t\n",
            "       Floor\tFloor Furnace\n",
            "       GasA\tGas forced warm air furnace\n",
            "       GasW\tGas hot water or steam heat\n",
            "       Grav\tGravity furnace\t\n",
            "       OthW\tHot water or steam heat other than gas\n",
            "       Wall\tWall furnace\n",
            "\t\t\n",
            "HeatingQC: Heating quality and condition\n",
            "\n",
            "       Ex\tExcellent\n",
            "       Gd\tGood\n",
            "       TA\tAverage/Typical\n",
            "       Fa\tFair\n",
            "       Po\tPoor\n",
            "\t\t\n",
            "CentralAir: Central air conditioning\n",
            "\n",
            "       N\tNo\n",
            "       Y\tYes\n",
            "\t\t\n",
            "Electrical: Electrical system\n",
            "\n",
            "       SBrkr\tStandard Circuit Breakers & Romex\n",
            "       FuseA\tFuse Box over 60 AMP and all Romex wiring (Average)\t\n",
            "       FuseF\t60 AMP Fuse Box and mostly Romex wiring (Fair)\n",
            "       FuseP\t60 AMP Fuse Box and mostly knob & tube wiring (poor)\n",
            "       Mix\tMixed\n",
            "\t\t\n",
            "1stFlrSF: First Floor square feet\n",
            " \n",
            "2ndFlrSF: Second floor square feet\n",
            "\n",
            "LowQualFinSF: Low quality finished square feet (all floors)\n",
            "\n",
            "GrLivArea: Above grade (ground) living area square feet\n",
            "\n",
            "BsmtFullBath: Basement full bathrooms\n",
            "\n",
            "BsmtHalfBath: Basement half bathrooms\n",
            "\n",
            "FullBath: Full bathrooms above grade\n",
            "\n",
            "HalfBath: Half baths above grade\n",
            "\n",
            "Bedroom: Bedrooms above grade (does NOT include basement bedrooms)\n",
            "\n",
            "Kitchen: Kitchens above grade\n",
            "\n",
            "KitchenQual: Kitchen quality\n",
            "\n",
            "       Ex\tExcellent\n",
            "       Gd\tGood\n",
            "       TA\tTypical/Average\n",
            "       Fa\tFair\n",
            "       Po\tPoor\n",
            "       \t\n",
            "TotRmsAbvGrd: Total rooms above grade (does not include bathrooms)\n",
            "\n",
            "Functional: Home functionality (Assume typical unless deductions are warranted)\n",
            "\n",
            "       Typ\tTypical Functionality\n",
            "       Min1\tMinor Deductions 1\n",
            "       Min2\tMinor Deductions 2\n",
            "       Mod\tModerate Deductions\n",
            "       Maj1\tMajor Deductions 1\n",
            "       Maj2\tMajor Deductions 2\n",
            "       Sev\tSeverely Damaged\n",
            "       Sal\tSalvage only\n",
            "\t\t\n",
            "Fireplaces: Number of fireplaces\n",
            "\n",
            "FireplaceQu: Fireplace quality\n",
            "\n",
            "       Ex\tExcellent - Exceptional Masonry Fireplace\n",
            "       Gd\tGood - Masonry Fireplace in main level\n",
            "       TA\tAverage - Prefabricated Fireplace in main living area or Masonry Fireplace in basement\n",
            "       Fa\tFair - Prefabricated Fireplace in basement\n",
            "       Po\tPoor - Ben Franklin Stove\n",
            "       NA\tNo Fireplace\n",
            "\t\t\n",
            "GarageType: Garage location\n",
            "\t\t\n",
            "       2Types\tMore than one type of garage\n",
            "       Attchd\tAttached to home\n",
            "       Basment\tBasement Garage\n",
            "       BuiltIn\tBuilt-In (Garage part of house - typically has room above garage)\n",
            "       CarPort\tCar Port\n",
            "       Detchd\tDetached from home\n",
            "       NA\tNo Garage\n",
            "\t\t\n",
            "GarageYrBlt: Year garage was built\n",
            "\t\t\n",
            "GarageFinish: Interior finish of the garage\n",
            "\n",
            "       Fin\tFinished\n",
            "       RFn\tRough Finished\t\n",
            "       Unf\tUnfinished\n",
            "       NA\tNo Garage\n",
            "\t\t\n",
            "GarageCars: Size of garage in car capacity\n",
            "\n",
            "GarageArea: Size of garage in square feet\n",
            "\n",
            "GarageQual: Garage quality\n",
            "\n",
            "       Ex\tExcellent\n",
            "       Gd\tGood\n",
            "       TA\tTypical/Average\n",
            "       Fa\tFair\n",
            "       Po\tPoor\n",
            "       NA\tNo Garage\n",
            "\t\t\n",
            "GarageCond: Garage condition\n",
            "\n",
            "       Ex\tExcellent\n",
            "       Gd\tGood\n",
            "       TA\tTypical/Average\n",
            "       Fa\tFair\n",
            "       Po\tPoor\n",
            "       NA\tNo Garage\n",
            "\t\t\n",
            "PavedDrive: Paved driveway\n",
            "\n",
            "       Y\tPaved \n",
            "       P\tPartial Pavement\n",
            "       N\tDirt/Gravel\n",
            "\t\t\n",
            "WoodDeckSF: Wood deck area in square feet\n",
            "\n",
            "OpenPorchSF: Open porch area in square feet\n",
            "\n",
            "EnclosedPorch: Enclosed porch area in square feet\n",
            "\n",
            "3SsnPorch: Three season porch area in square feet\n",
            "\n",
            "ScreenPorch: Screen porch area in square feet\n",
            "\n",
            "PoolArea: Pool area in square feet\n",
            "\n",
            "PoolQC: Pool quality\n",
            "\t\t\n",
            "       Ex\tExcellent\n",
            "       Gd\tGood\n",
            "       TA\tAverage/Typical\n",
            "       Fa\tFair\n",
            "       NA\tNo Pool\n",
            "\t\t\n",
            "Fence: Fence quality\n",
            "\t\t\n",
            "       GdPrv\tGood Privacy\n",
            "       MnPrv\tMinimum Privacy\n",
            "       GdWo\tGood Wood\n",
            "       MnWw\tMinimum Wood/Wire\n",
            "       NA\tNo Fence\n",
            "\t\n",
            "MiscFeature: Miscellaneous feature not covered in other categories\n",
            "\t\t\n",
            "       Elev\tElevator\n",
            "       Gar2\t2nd Garage (if not described in garage section)\n",
            "       Othr\tOther\n",
            "       Shed\tShed (over 100 SF)\n",
            "       TenC\tTennis Court\n",
            "       NA\tNone\n",
            "\t\t\n",
            "MiscVal: $Value of miscellaneous feature\n",
            "\n",
            "MoSold: Month Sold (MM)\n",
            "\n",
            "YrSold: Year Sold (YYYY)\n",
            "\n",
            "SaleType: Type of sale\n",
            "\t\t\n",
            "       WD \tWarranty Deed - Conventional\n",
            "       CWD\tWarranty Deed - Cash\n",
            "       VWD\tWarranty Deed - VA Loan\n",
            "       New\tHome just constructed and sold\n",
            "       COD\tCourt Officer Deed/Estate\n",
            "       Con\tContract 15% Down payment regular terms\n",
            "       ConLw\tContract Low Down payment and low interest\n",
            "       ConLI\tContract Low Interest\n",
            "       ConLD\tContract Low Down\n",
            "       Oth\tOther\n",
            "\t\t\n",
            "SaleCondition: Condition of sale\n",
            "\n",
            "       Normal\tNormal Sale\n",
            "       Abnorml\tAbnormal Sale -  trade, foreclosure, short sale\n",
            "       AdjLand\tAdjoining Land Purchase\n",
            "       Alloca\tAllocation - two linked properties with separate deeds, typically condo with a garage unit\t\n",
            "       Family\tSale between family members\n",
            "       Partial\tHome was not completed when last assessed (associated with New Homes)\n"
          ],
          "name": "stdout"
        }
      ]
    },
    {
      "cell_type": "code",
      "metadata": {
        "id": "3za2m93VaPAX",
        "colab_type": "code",
        "outputId": "a47569bd-fc77-4db9-b740-d3610044599c",
        "colab": {
          "base_uri": "https://localhost:8080/",
          "height": 208
        }
      },
      "source": [
        "!head test.csv"
      ],
      "execution_count": 0,
      "outputs": [
        {
          "output_type": "stream",
          "text": [
            "Id,MSSubClass,MSZoning,LotFrontage,LotArea,Street,Alley,LotShape,LandContour,Utilities,LotConfig,LandSlope,Neighborhood,Condition1,Condition2,BldgType,HouseStyle,OverallQual,OverallCond,YearBuilt,YearRemodAdd,RoofStyle,RoofMatl,Exterior1st,Exterior2nd,MasVnrType,MasVnrArea,ExterQual,ExterCond,Foundation,BsmtQual,BsmtCond,BsmtExposure,BsmtFinType1,BsmtFinSF1,BsmtFinType2,BsmtFinSF2,BsmtUnfSF,TotalBsmtSF,Heating,HeatingQC,CentralAir,Electrical,1stFlrSF,2ndFlrSF,LowQualFinSF,GrLivArea,BsmtFullBath,BsmtHalfBath,FullBath,HalfBath,BedroomAbvGr,KitchenAbvGr,KitchenQual,TotRmsAbvGrd,Functional,Fireplaces,FireplaceQu,GarageType,GarageYrBlt,GarageFinish,GarageCars,GarageArea,GarageQual,GarageCond,PavedDrive,WoodDeckSF,OpenPorchSF,EnclosedPorch,3SsnPorch,ScreenPorch,PoolArea,PoolQC,Fence,MiscFeature,MiscVal,MoSold,YrSold,SaleType,SaleCondition\n",
            "1461,20,RH,80,11622,Pave,NA,Reg,Lvl,AllPub,Inside,Gtl,NAmes,Feedr,Norm,1Fam,1Story,5,6,1961,1961,Gable,CompShg,VinylSd,VinylSd,None,0,TA,TA,CBlock,TA,TA,No,Rec,468,LwQ,144,270,882,GasA,TA,Y,SBrkr,896,0,0,896,0,0,1,0,2,1,TA,5,Typ,0,NA,Attchd,1961,Unf,1,730,TA,TA,Y,140,0,0,0,120,0,NA,MnPrv,NA,0,6,2010,WD,Normal\n",
            "1462,20,RL,81,14267,Pave,NA,IR1,Lvl,AllPub,Corner,Gtl,NAmes,Norm,Norm,1Fam,1Story,6,6,1958,1958,Hip,CompShg,Wd Sdng,Wd Sdng,BrkFace,108,TA,TA,CBlock,TA,TA,No,ALQ,923,Unf,0,406,1329,GasA,TA,Y,SBrkr,1329,0,0,1329,0,0,1,1,3,1,Gd,6,Typ,0,NA,Attchd,1958,Unf,1,312,TA,TA,Y,393,36,0,0,0,0,NA,NA,Gar2,12500,6,2010,WD,Normal\n",
            "1463,60,RL,74,13830,Pave,NA,IR1,Lvl,AllPub,Inside,Gtl,Gilbert,Norm,Norm,1Fam,2Story,5,5,1997,1998,Gable,CompShg,VinylSd,VinylSd,None,0,TA,TA,PConc,Gd,TA,No,GLQ,791,Unf,0,137,928,GasA,Gd,Y,SBrkr,928,701,0,1629,0,0,2,1,3,1,TA,6,Typ,1,TA,Attchd,1997,Fin,2,482,TA,TA,Y,212,34,0,0,0,0,NA,MnPrv,NA,0,3,2010,WD,Normal\n",
            "1464,60,RL,78,9978,Pave,NA,IR1,Lvl,AllPub,Inside,Gtl,Gilbert,Norm,Norm,1Fam,2Story,6,6,1998,1998,Gable,CompShg,VinylSd,VinylSd,BrkFace,20,TA,TA,PConc,TA,TA,No,GLQ,602,Unf,0,324,926,GasA,Ex,Y,SBrkr,926,678,0,1604,0,0,2,1,3,1,Gd,7,Typ,1,Gd,Attchd,1998,Fin,2,470,TA,TA,Y,360,36,0,0,0,0,NA,NA,NA,0,6,2010,WD,Normal\n",
            "1465,120,RL,43,5005,Pave,NA,IR1,HLS,AllPub,Inside,Gtl,StoneBr,Norm,Norm,TwnhsE,1Story,8,5,1992,1992,Gable,CompShg,HdBoard,HdBoard,None,0,Gd,TA,PConc,Gd,TA,No,ALQ,263,Unf,0,1017,1280,GasA,Ex,Y,SBrkr,1280,0,0,1280,0,0,2,0,2,1,Gd,5,Typ,0,NA,Attchd,1992,RFn,2,506,TA,TA,Y,0,82,0,0,144,0,NA,NA,NA,0,1,2010,WD,Normal\n",
            "1466,60,RL,75,10000,Pave,NA,IR1,Lvl,AllPub,Corner,Gtl,Gilbert,Norm,Norm,1Fam,2Story,6,5,1993,1994,Gable,CompShg,HdBoard,HdBoard,None,0,TA,TA,PConc,Gd,TA,No,Unf,0,Unf,0,763,763,GasA,Gd,Y,SBrkr,763,892,0,1655,0,0,2,1,3,1,TA,7,Typ,1,TA,Attchd,1993,Fin,2,440,TA,TA,Y,157,84,0,0,0,0,NA,NA,NA,0,4,2010,WD,Normal\n",
            "1467,20,RL,NA,7980,Pave,NA,IR1,Lvl,AllPub,Inside,Gtl,Gilbert,Norm,Norm,1Fam,1Story,6,7,1992,2007,Gable,CompShg,HdBoard,HdBoard,None,0,TA,Gd,PConc,Gd,TA,No,ALQ,935,Unf,0,233,1168,GasA,Ex,Y,SBrkr,1187,0,0,1187,1,0,2,0,3,1,TA,6,Typ,0,NA,Attchd,1992,Fin,2,420,TA,TA,Y,483,21,0,0,0,0,NA,GdPrv,Shed,500,3,2010,WD,Normal\n",
            "1468,60,RL,63,8402,Pave,NA,IR1,Lvl,AllPub,Inside,Gtl,Gilbert,Norm,Norm,1Fam,2Story,6,5,1998,1998,Gable,CompShg,VinylSd,VinylSd,None,0,TA,TA,PConc,Gd,TA,No,Unf,0,Unf,0,789,789,GasA,Gd,Y,SBrkr,789,676,0,1465,0,0,2,1,3,1,TA,7,Typ,1,Gd,Attchd,1998,Fin,2,393,TA,TA,Y,0,75,0,0,0,0,NA,NA,NA,0,5,2010,WD,Normal\n",
            "1469,20,RL,85,10176,Pave,NA,Reg,Lvl,AllPub,Inside,Gtl,Gilbert,Norm,Norm,1Fam,1Story,7,5,1990,1990,Gable,CompShg,HdBoard,HdBoard,None,0,TA,TA,PConc,Gd,TA,Gd,GLQ,637,Unf,0,663,1300,GasA,Gd,Y,SBrkr,1341,0,0,1341,1,0,1,1,2,1,Gd,5,Typ,1,Po,Attchd,1990,Unf,2,506,TA,TA,Y,192,0,0,0,0,0,NA,NA,NA,0,2,2010,WD,Normal\n"
          ],
          "name": "stdout"
        }
      ]
    },
    {
      "cell_type": "code",
      "metadata": {
        "id": "lMskNKBTbBkv",
        "colab_type": "code",
        "outputId": "6302ab57-2b3f-48c3-b111-ba1d0f7f7e2d",
        "colab": {
          "base_uri": "https://localhost:8080/",
          "height": 188
        }
      },
      "source": [
        "!head sample_submission.csv"
      ],
      "execution_count": 0,
      "outputs": [
        {
          "output_type": "stream",
          "text": [
            "Id,SalePrice\n",
            "1461,169277.0524984\n",
            "1462,187758.393988768\n",
            "1463,183583.683569555\n",
            "1464,179317.47751083\n",
            "1465,150730.079976501\n",
            "1466,177150.989247307\n",
            "1467,172070.659229164\n",
            "1468,175110.956519547\n",
            "1469,162011.698831665\n"
          ],
          "name": "stdout"
        }
      ]
    },
    {
      "cell_type": "markdown",
      "metadata": {
        "id": "MMRB3_zcl6cG",
        "colab_type": "text"
      },
      "source": [
        "### Загрузка набора данных в память"
      ]
    },
    {
      "cell_type": "code",
      "metadata": {
        "id": "IhgI3m4MomFG",
        "colab_type": "code",
        "colab": {}
      },
      "source": [
        "train = pd.read_csv('train.csv')"
      ],
      "execution_count": 0,
      "outputs": []
    },
    {
      "cell_type": "code",
      "metadata": {
        "id": "-K3uOEuppCyu",
        "colab_type": "code",
        "outputId": "47abacff-bc98-4a99-e9a7-2407b73a0e3e",
        "colab": {
          "base_uri": "https://localhost:8080/",
          "height": 253
        }
      },
      "source": [
        "train.head()"
      ],
      "execution_count": 7,
      "outputs": [
        {
          "output_type": "execute_result",
          "data": {
            "text/html": [
              "<div>\n",
              "<style scoped>\n",
              "    .dataframe tbody tr th:only-of-type {\n",
              "        vertical-align: middle;\n",
              "    }\n",
              "\n",
              "    .dataframe tbody tr th {\n",
              "        vertical-align: top;\n",
              "    }\n",
              "\n",
              "    .dataframe thead th {\n",
              "        text-align: right;\n",
              "    }\n",
              "</style>\n",
              "<table border=\"1\" class=\"dataframe\">\n",
              "  <thead>\n",
              "    <tr style=\"text-align: right;\">\n",
              "      <th></th>\n",
              "      <th>Id</th>\n",
              "      <th>MSSubClass</th>\n",
              "      <th>MSZoning</th>\n",
              "      <th>LotFrontage</th>\n",
              "      <th>LotArea</th>\n",
              "      <th>Street</th>\n",
              "      <th>Alley</th>\n",
              "      <th>LotShape</th>\n",
              "      <th>LandContour</th>\n",
              "      <th>Utilities</th>\n",
              "      <th>...</th>\n",
              "      <th>PoolArea</th>\n",
              "      <th>PoolQC</th>\n",
              "      <th>Fence</th>\n",
              "      <th>MiscFeature</th>\n",
              "      <th>MiscVal</th>\n",
              "      <th>MoSold</th>\n",
              "      <th>YrSold</th>\n",
              "      <th>SaleType</th>\n",
              "      <th>SaleCondition</th>\n",
              "      <th>SalePrice</th>\n",
              "    </tr>\n",
              "  </thead>\n",
              "  <tbody>\n",
              "    <tr>\n",
              "      <th>0</th>\n",
              "      <td>1</td>\n",
              "      <td>60</td>\n",
              "      <td>RL</td>\n",
              "      <td>65.0</td>\n",
              "      <td>8450</td>\n",
              "      <td>Pave</td>\n",
              "      <td>NaN</td>\n",
              "      <td>Reg</td>\n",
              "      <td>Lvl</td>\n",
              "      <td>AllPub</td>\n",
              "      <td>...</td>\n",
              "      <td>0</td>\n",
              "      <td>NaN</td>\n",
              "      <td>NaN</td>\n",
              "      <td>NaN</td>\n",
              "      <td>0</td>\n",
              "      <td>2</td>\n",
              "      <td>2008</td>\n",
              "      <td>WD</td>\n",
              "      <td>Normal</td>\n",
              "      <td>208500</td>\n",
              "    </tr>\n",
              "    <tr>\n",
              "      <th>1</th>\n",
              "      <td>2</td>\n",
              "      <td>20</td>\n",
              "      <td>RL</td>\n",
              "      <td>80.0</td>\n",
              "      <td>9600</td>\n",
              "      <td>Pave</td>\n",
              "      <td>NaN</td>\n",
              "      <td>Reg</td>\n",
              "      <td>Lvl</td>\n",
              "      <td>AllPub</td>\n",
              "      <td>...</td>\n",
              "      <td>0</td>\n",
              "      <td>NaN</td>\n",
              "      <td>NaN</td>\n",
              "      <td>NaN</td>\n",
              "      <td>0</td>\n",
              "      <td>5</td>\n",
              "      <td>2007</td>\n",
              "      <td>WD</td>\n",
              "      <td>Normal</td>\n",
              "      <td>181500</td>\n",
              "    </tr>\n",
              "    <tr>\n",
              "      <th>2</th>\n",
              "      <td>3</td>\n",
              "      <td>60</td>\n",
              "      <td>RL</td>\n",
              "      <td>68.0</td>\n",
              "      <td>11250</td>\n",
              "      <td>Pave</td>\n",
              "      <td>NaN</td>\n",
              "      <td>IR1</td>\n",
              "      <td>Lvl</td>\n",
              "      <td>AllPub</td>\n",
              "      <td>...</td>\n",
              "      <td>0</td>\n",
              "      <td>NaN</td>\n",
              "      <td>NaN</td>\n",
              "      <td>NaN</td>\n",
              "      <td>0</td>\n",
              "      <td>9</td>\n",
              "      <td>2008</td>\n",
              "      <td>WD</td>\n",
              "      <td>Normal</td>\n",
              "      <td>223500</td>\n",
              "    </tr>\n",
              "    <tr>\n",
              "      <th>3</th>\n",
              "      <td>4</td>\n",
              "      <td>70</td>\n",
              "      <td>RL</td>\n",
              "      <td>60.0</td>\n",
              "      <td>9550</td>\n",
              "      <td>Pave</td>\n",
              "      <td>NaN</td>\n",
              "      <td>IR1</td>\n",
              "      <td>Lvl</td>\n",
              "      <td>AllPub</td>\n",
              "      <td>...</td>\n",
              "      <td>0</td>\n",
              "      <td>NaN</td>\n",
              "      <td>NaN</td>\n",
              "      <td>NaN</td>\n",
              "      <td>0</td>\n",
              "      <td>2</td>\n",
              "      <td>2006</td>\n",
              "      <td>WD</td>\n",
              "      <td>Abnorml</td>\n",
              "      <td>140000</td>\n",
              "    </tr>\n",
              "    <tr>\n",
              "      <th>4</th>\n",
              "      <td>5</td>\n",
              "      <td>60</td>\n",
              "      <td>RL</td>\n",
              "      <td>84.0</td>\n",
              "      <td>14260</td>\n",
              "      <td>Pave</td>\n",
              "      <td>NaN</td>\n",
              "      <td>IR1</td>\n",
              "      <td>Lvl</td>\n",
              "      <td>AllPub</td>\n",
              "      <td>...</td>\n",
              "      <td>0</td>\n",
              "      <td>NaN</td>\n",
              "      <td>NaN</td>\n",
              "      <td>NaN</td>\n",
              "      <td>0</td>\n",
              "      <td>12</td>\n",
              "      <td>2008</td>\n",
              "      <td>WD</td>\n",
              "      <td>Normal</td>\n",
              "      <td>250000</td>\n",
              "    </tr>\n",
              "  </tbody>\n",
              "</table>\n",
              "<p>5 rows × 81 columns</p>\n",
              "</div>"
            ],
            "text/plain": [
              "   Id  MSSubClass MSZoning  LotFrontage  LotArea Street Alley LotShape  \\\n",
              "0   1          60       RL         65.0     8450   Pave   NaN      Reg   \n",
              "1   2          20       RL         80.0     9600   Pave   NaN      Reg   \n",
              "2   3          60       RL         68.0    11250   Pave   NaN      IR1   \n",
              "3   4          70       RL         60.0     9550   Pave   NaN      IR1   \n",
              "4   5          60       RL         84.0    14260   Pave   NaN      IR1   \n",
              "\n",
              "  LandContour Utilities  ... PoolArea PoolQC Fence MiscFeature MiscVal MoSold  \\\n",
              "0         Lvl    AllPub  ...        0    NaN   NaN         NaN       0      2   \n",
              "1         Lvl    AllPub  ...        0    NaN   NaN         NaN       0      5   \n",
              "2         Lvl    AllPub  ...        0    NaN   NaN         NaN       0      9   \n",
              "3         Lvl    AllPub  ...        0    NaN   NaN         NaN       0      2   \n",
              "4         Lvl    AllPub  ...        0    NaN   NaN         NaN       0     12   \n",
              "\n",
              "  YrSold  SaleType  SaleCondition  SalePrice  \n",
              "0   2008        WD         Normal     208500  \n",
              "1   2007        WD         Normal     181500  \n",
              "2   2008        WD         Normal     223500  \n",
              "3   2006        WD        Abnorml     140000  \n",
              "4   2008        WD         Normal     250000  \n",
              "\n",
              "[5 rows x 81 columns]"
            ]
          },
          "metadata": {
            "tags": []
          },
          "execution_count": 7
        }
      ]
    },
    {
      "cell_type": "code",
      "metadata": {
        "id": "9AsXREgAowRV",
        "colab_type": "code",
        "outputId": "a162c8a4-7976-43f5-c040-d91b79120b89",
        "colab": {
          "base_uri": "https://localhost:8080/",
          "height": 1479
        }
      },
      "source": [
        "train.info()"
      ],
      "execution_count": 8,
      "outputs": [
        {
          "output_type": "stream",
          "text": [
            "<class 'pandas.core.frame.DataFrame'>\n",
            "RangeIndex: 1460 entries, 0 to 1459\n",
            "Data columns (total 81 columns):\n",
            "Id               1460 non-null int64\n",
            "MSSubClass       1460 non-null int64\n",
            "MSZoning         1460 non-null object\n",
            "LotFrontage      1201 non-null float64\n",
            "LotArea          1460 non-null int64\n",
            "Street           1460 non-null object\n",
            "Alley            91 non-null object\n",
            "LotShape         1460 non-null object\n",
            "LandContour      1460 non-null object\n",
            "Utilities        1460 non-null object\n",
            "LotConfig        1460 non-null object\n",
            "LandSlope        1460 non-null object\n",
            "Neighborhood     1460 non-null object\n",
            "Condition1       1460 non-null object\n",
            "Condition2       1460 non-null object\n",
            "BldgType         1460 non-null object\n",
            "HouseStyle       1460 non-null object\n",
            "OverallQual      1460 non-null int64\n",
            "OverallCond      1460 non-null int64\n",
            "YearBuilt        1460 non-null int64\n",
            "YearRemodAdd     1460 non-null int64\n",
            "RoofStyle        1460 non-null object\n",
            "RoofMatl         1460 non-null object\n",
            "Exterior1st      1460 non-null object\n",
            "Exterior2nd      1460 non-null object\n",
            "MasVnrType       1452 non-null object\n",
            "MasVnrArea       1452 non-null float64\n",
            "ExterQual        1460 non-null object\n",
            "ExterCond        1460 non-null object\n",
            "Foundation       1460 non-null object\n",
            "BsmtQual         1423 non-null object\n",
            "BsmtCond         1423 non-null object\n",
            "BsmtExposure     1422 non-null object\n",
            "BsmtFinType1     1423 non-null object\n",
            "BsmtFinSF1       1460 non-null int64\n",
            "BsmtFinType2     1422 non-null object\n",
            "BsmtFinSF2       1460 non-null int64\n",
            "BsmtUnfSF        1460 non-null int64\n",
            "TotalBsmtSF      1460 non-null int64\n",
            "Heating          1460 non-null object\n",
            "HeatingQC        1460 non-null object\n",
            "CentralAir       1460 non-null object\n",
            "Electrical       1459 non-null object\n",
            "1stFlrSF         1460 non-null int64\n",
            "2ndFlrSF         1460 non-null int64\n",
            "LowQualFinSF     1460 non-null int64\n",
            "GrLivArea        1460 non-null int64\n",
            "BsmtFullBath     1460 non-null int64\n",
            "BsmtHalfBath     1460 non-null int64\n",
            "FullBath         1460 non-null int64\n",
            "HalfBath         1460 non-null int64\n",
            "BedroomAbvGr     1460 non-null int64\n",
            "KitchenAbvGr     1460 non-null int64\n",
            "KitchenQual      1460 non-null object\n",
            "TotRmsAbvGrd     1460 non-null int64\n",
            "Functional       1460 non-null object\n",
            "Fireplaces       1460 non-null int64\n",
            "FireplaceQu      770 non-null object\n",
            "GarageType       1379 non-null object\n",
            "GarageYrBlt      1379 non-null float64\n",
            "GarageFinish     1379 non-null object\n",
            "GarageCars       1460 non-null int64\n",
            "GarageArea       1460 non-null int64\n",
            "GarageQual       1379 non-null object\n",
            "GarageCond       1379 non-null object\n",
            "PavedDrive       1460 non-null object\n",
            "WoodDeckSF       1460 non-null int64\n",
            "OpenPorchSF      1460 non-null int64\n",
            "EnclosedPorch    1460 non-null int64\n",
            "3SsnPorch        1460 non-null int64\n",
            "ScreenPorch      1460 non-null int64\n",
            "PoolArea         1460 non-null int64\n",
            "PoolQC           7 non-null object\n",
            "Fence            281 non-null object\n",
            "MiscFeature      54 non-null object\n",
            "MiscVal          1460 non-null int64\n",
            "MoSold           1460 non-null int64\n",
            "YrSold           1460 non-null int64\n",
            "SaleType         1460 non-null object\n",
            "SaleCondition    1460 non-null object\n",
            "SalePrice        1460 non-null int64\n",
            "dtypes: float64(3), int64(35), object(43)\n",
            "memory usage: 924.0+ KB\n"
          ],
          "name": "stdout"
        }
      ]
    },
    {
      "cell_type": "markdown",
      "metadata": {
        "id": "t5kgf3W458kb",
        "colab_type": "text"
      },
      "source": [
        "Выделяем метки (целевую переменную)"
      ]
    },
    {
      "cell_type": "code",
      "metadata": {
        "id": "iOTRtSSl6AMP",
        "colab_type": "code",
        "colab": {}
      },
      "source": [
        "y_train = train['SalePrice']"
      ],
      "execution_count": 0,
      "outputs": []
    },
    {
      "cell_type": "markdown",
      "metadata": {
        "id": "1-nGZWcxpKFV",
        "colab_type": "text"
      },
      "source": [
        "# Описательная статистика (exploratory data analysis)"
      ]
    },
    {
      "cell_type": "markdown",
      "metadata": {
        "id": "B8-5-lemqDfn",
        "colab_type": "text"
      },
      "source": [
        "Исследуем целевую переменную"
      ]
    },
    {
      "cell_type": "code",
      "metadata": {
        "id": "28B0_AjfqGh3",
        "colab_type": "code",
        "outputId": "2bab8159-6fb6-4aa7-de7b-136751cae221",
        "colab": {
          "base_uri": "https://localhost:8080/",
          "height": 170
        }
      },
      "source": [
        "y_train.describe()"
      ],
      "execution_count": 10,
      "outputs": [
        {
          "output_type": "execute_result",
          "data": {
            "text/plain": [
              "count      1460.000000\n",
              "mean     180921.195890\n",
              "std       79442.502883\n",
              "min       34900.000000\n",
              "25%      129975.000000\n",
              "50%      163000.000000\n",
              "75%      214000.000000\n",
              "max      755000.000000\n",
              "Name: SalePrice, dtype: float64"
            ]
          },
          "metadata": {
            "tags": []
          },
          "execution_count": 10
        }
      ]
    },
    {
      "cell_type": "code",
      "metadata": {
        "id": "0gjgl9EIqZK3",
        "colab_type": "code",
        "outputId": "62038ed6-1e47-4cf3-e02a-f6c658a10c56",
        "colab": {
          "base_uri": "https://localhost:8080/",
          "height": 269
        }
      },
      "source": [
        "plt.hist(y_train)\n",
        "plt.show()"
      ],
      "execution_count": 11,
      "outputs": [
        {
          "output_type": "display_data",
          "data": {
            "image/png": "[encoded data removed]",
            "text/plain": [
              "<Figure size 432x288 with 1 Axes>"
            ]
          },
          "metadata": {
            "tags": []
          }
        }
      ]
    },
    {
      "cell_type": "markdown",
      "metadata": {
        "id": "3AI56ZVvkIN6",
        "colab_type": "text"
      },
      "source": [
        "Влияние признаков на целевую переменную"
      ]
    },
    {
      "cell_type": "code",
      "metadata": {
        "id": "aiqqdL0vkZ2D",
        "colab_type": "code",
        "outputId": "6681ce85-13ca-457c-91ab-3faaf894c008",
        "colab": {
          "base_uri": "https://localhost:8080/",
          "height": 608
        }
      },
      "source": [
        "corrmat = train.corr()\n",
        "f, ax = plt.subplots(figsize=(12, 9))\n",
        "sns.heatmap(corrmat, vmax=.8, square=True);"
      ],
      "execution_count": 12,
      "outputs": [
        {
          "output_type": "display_data",
          "data": {
            "image/png": "[encoded data removed]",
            "text/plain": [
              "<Figure size 864x648 with 2 Axes>"
            ]
          },
          "metadata": {
            "tags": []
          }
        }
      ]
    },
    {
      "cell_type": "markdown",
      "metadata": {
        "id": "zR-_B97vlv3J",
        "colab_type": "text"
      },
      "source": [
        "ТОП10 признаков"
      ]
    },
    {
      "cell_type": "code",
      "metadata": {
        "id": "tuT7P3SSlxnI",
        "colab_type": "code",
        "outputId": "c0b1a7a3-965c-4729-b2cc-c1ac2f3b16dd",
        "colab": {
          "base_uri": "https://localhost:8080/",
          "height": 368
        }
      },
      "source": [
        "k = 10 \n",
        "cols = corrmat.nlargest(k, 'SalePrice')['SalePrice'].index\n",
        "cm = np.corrcoef(train[cols].values.T)\n",
        "sns.set(font_scale=1.25)\n",
        "hm = sns.heatmap(cm, cbar=True, annot=True, square=True, fmt='.2f', annot_kws={'size': 10}, yticklabels=cols.values, xticklabels=cols.values)\n",
        "plt.show()"
      ],
      "execution_count": 13,
      "outputs": [
        {
          "output_type": "display_data",
          "data": {
            "image/png": "[encoded data removed]",
            "text/plain": [
              "<Figure size 432x288 with 2 Axes>"
            ]
          },
          "metadata": {
            "tags": []
          }
        }
      ]
    },
    {
      "cell_type": "markdown",
      "metadata": {
        "id": "dbJjBcZiq5G3",
        "colab_type": "text"
      },
      "source": [
        "Стоимость жилья в зависимости от жилой площади"
      ]
    },
    {
      "cell_type": "code",
      "metadata": {
        "id": "hJDNAVNdqhOl",
        "colab_type": "code",
        "outputId": "e50c9ef6-b996-478f-c62c-2e5b4159103f",
        "colab": {
          "base_uri": "https://localhost:8080/",
          "height": 297
        }
      },
      "source": [
        "plt.scatter(train['GrLivArea'], y_train )\n",
        "plt.xlabel('Жилая площадь')\n",
        "plt.ylabel('Стоимость жилья')\n",
        "plt.show()"
      ],
      "execution_count": 14,
      "outputs": [
        {
          "output_type": "display_data",
          "data": {
            "image/png": "[encoded data removed]",
            "text/plain": [
              "<Figure size 432x288 with 1 Axes>"
            ]
          },
          "metadata": {
            "tags": []
          }
        }
      ]
    },
    {
      "cell_type": "markdown",
      "metadata": {
        "id": "RY52Qla7tDuN",
        "colab_type": "text"
      },
      "source": [
        "Стоимость жилья в зависимости от площади подвала"
      ]
    },
    {
      "cell_type": "code",
      "metadata": {
        "id": "gJN2A84NtGL2",
        "colab_type": "code",
        "outputId": "1a0b12cf-7f1e-4113-bf54-af24a5f835fd",
        "colab": {
          "base_uri": "https://localhost:8080/",
          "height": 297
        }
      },
      "source": [
        "plt.scatter(train['TotalBsmtSF'], y_train )\n",
        "plt.xlabel('Площадь подвала')\n",
        "plt.ylabel('Стоимость жилья')\n",
        "plt.show()"
      ],
      "execution_count": 15,
      "outputs": [
        {
          "output_type": "display_data",
          "data": {
            "image/png": "[encoded data removed]",
            "text/plain": [
              "<Figure size 432x288 with 1 Axes>"
            ]
          },
          "metadata": {
            "tags": []
          }
        }
      ]
    },
    {
      "cell_type": "markdown",
      "metadata": {
        "id": "WFl_q7DgKIQM",
        "colab_type": "text"
      },
      "source": [
        "# Подготовка набора данных для обучения"
      ]
    },
    {
      "cell_type": "markdown",
      "metadata": {
        "id": "htkLbIS7yA6b",
        "colab_type": "text"
      },
      "source": [
        "## Очистка данных"
      ]
    },
    {
      "cell_type": "code",
      "metadata": {
        "id": "aJwpIznA8TkD",
        "colab_type": "code",
        "colab": {}
      },
      "source": [
        "def clear_data(df):\n",
        "    # Источник - https://www.kaggle.com/juliencs/a-study-on-regression-applied-to-the-ames-dataset  \n",
        "\n",
        "    # Заполняем отсутсвующие значения\n",
        "    # Alley : data description says NA means \"no alley access\"\n",
        "    df[\"Alley\"] = df[\"Alley\"].fillna(\"None\")\n",
        "    # BedroomAbvGr : NA most likely means 0\n",
        "    df.loc[:, \"BedroomAbvGr\"] = df.loc[:, \"BedroomAbvGr\"].fillna(0)\n",
        "    # BsmtQual etc : data description says NA for basement features is \"no basement\"\n",
        "    df.loc[:, \"BsmtQual\"] = df.loc[:, \"BsmtQual\"].fillna(\"No\")\n",
        "    df.loc[:, \"BsmtCond\"] = df.loc[:, \"BsmtCond\"].fillna(\"No\")\n",
        "    df.loc[:, \"BsmtExposure\"] = df.loc[:, \"BsmtExposure\"].fillna(\"No\")\n",
        "    df.loc[:, \"BsmtFinType1\"] = df.loc[:, \"BsmtFinType1\"].fillna(\"No\")\n",
        "    df.loc[:, \"BsmtFinType2\"] = df.loc[:, \"BsmtFinType2\"].fillna(\"No\")\n",
        "    df.loc[:, \"BsmtFullBath\"] = df.loc[:, \"BsmtFullBath\"].fillna(0)\n",
        "    df.loc[:, \"BsmtHalfBath\"] = df.loc[:, \"BsmtHalfBath\"].fillna(0)\n",
        "    df.loc[:, \"BsmtUnfSF\"] = df.loc[:, \"BsmtUnfSF\"].fillna(0)\n",
        "    # CentralAir : NA most likely means No\n",
        "    df.loc[:, \"CentralAir\"] = df.loc[:, \"CentralAir\"].fillna(\"N\")\n",
        "    # Condition : NA most likely means Normal\n",
        "    df.loc[:, \"Condition1\"] = df.loc[:, \"Condition1\"].fillna(\"Norm\")\n",
        "    df.loc[:, \"Condition2\"] = df.loc[:, \"Condition2\"].fillna(\"Norm\")\n",
        "    # EnclosedPorch : NA most likely means no enclosed porch\n",
        "    df.loc[:, \"EnclosedPorch\"] = df.loc[:, \"EnclosedPorch\"].fillna(0)\n",
        "    # External stuff : NA most likely means average\n",
        "    df.loc[:, \"ExterCond\"] = df.loc[:, \"ExterCond\"].fillna(\"TA\")\n",
        "    df.loc[:, \"ExterQual\"] = df.loc[:, \"ExterQual\"].fillna(\"TA\")\n",
        "    # Fence : data description says NA means \"no fence\"\n",
        "    df.loc[:, \"Fence\"] = df.loc[:, \"Fence\"].fillna(\"No\")\n",
        "    # FireplaceQu : data description says NA means \"no fireplace\"\n",
        "    df.loc[:, \"FireplaceQu\"] = df.loc[:, \"FireplaceQu\"].fillna(\"No\")\n",
        "    df.loc[:, \"Fireplaces\"] = df.loc[:, \"Fireplaces\"].fillna(0)\n",
        "    # Functional : data description says NA means typical\n",
        "    df.loc[:, \"Functional\"] = df.loc[:, \"Functional\"].fillna(\"Typ\")\n",
        "    # GarageType etc : data description says NA for garage features is \"no garage\"\n",
        "    df.loc[:, \"GarageType\"] = df.loc[:, \"GarageType\"].fillna(\"No\")\n",
        "    df.loc[:, \"GarageFinish\"] = df.loc[:, \"GarageFinish\"].fillna(\"No\")\n",
        "    df.loc[:, \"GarageQual\"] = df.loc[:, \"GarageQual\"].fillna(\"No\")\n",
        "    df.loc[:, \"GarageCond\"] = df.loc[:, \"GarageCond\"].fillna(\"No\")\n",
        "    df.loc[:, \"GarageArea\"] = df.loc[:, \"GarageArea\"].fillna(0)\n",
        "    df.loc[:, \"GarageCars\"] = df.loc[:, \"GarageCars\"].fillna(0)\n",
        "    # HalfBath : NA most likely means no half baths above grade\n",
        "    df.loc[:, \"HalfBath\"] = df.loc[:, \"HalfBath\"].fillna(0)\n",
        "    # HeatingQC : NA most likely means typical\n",
        "    df.loc[:, \"HeatingQC\"] = df.loc[:, \"HeatingQC\"].fillna(\"TA\")\n",
        "    # KitchenAbvGr : NA most likely means 0\n",
        "    df.loc[:, \"KitchenAbvGr\"] = df.loc[:, \"KitchenAbvGr\"].fillna(0)\n",
        "    # KitchenQual : NA most likely means typical\n",
        "    df.loc[:, \"KitchenQual\"] = df.loc[:, \"KitchenQual\"].fillna(\"TA\")\n",
        "    # LotFrontage : NA most likely means no lot frontage\n",
        "    df.loc[:, \"LotFrontage\"] = df.loc[:, \"LotFrontage\"].fillna(0)\n",
        "    # LotShape : NA most likely means regular\n",
        "    df.loc[:, \"LotShape\"] = df.loc[:, \"LotShape\"].fillna(\"Reg\")\n",
        "    # MasVnrType : NA most likely means no veneer\n",
        "    df.loc[:, \"MasVnrType\"] = df.loc[:, \"MasVnrType\"].fillna(\"None\")\n",
        "    df.loc[:, \"MasVnrArea\"] = df.loc[:, \"MasVnrArea\"].fillna(0)\n",
        "    # MiscFeature : data description says NA means \"no misc feature\"\n",
        "    df.loc[:, \"MiscFeature\"] = df.loc[:, \"MiscFeature\"].fillna(\"No\")\n",
        "    df.loc[:, \"MiscVal\"] = df.loc[:, \"MiscVal\"].fillna(0)\n",
        "    # OpenPorchSF : NA most likely means no open porch\n",
        "    df.loc[:, \"OpenPorchSF\"] = df.loc[:, \"OpenPorchSF\"].fillna(0)\n",
        "    # PavedDrive : NA most likely means not paved\n",
        "    df.loc[:, \"PavedDrive\"] = df.loc[:, \"PavedDrive\"].fillna(\"N\")\n",
        "    # PoolQC : data description says NA means \"no pool\"\n",
        "    df.loc[:, \"PoolQC\"] = df.loc[:, \"PoolQC\"].fillna(\"No\")\n",
        "    df.loc[:, \"PoolArea\"] = df.loc[:, \"PoolArea\"].fillna(0)\n",
        "    # SaleCondition : NA most likely means normal sale\n",
        "    df.loc[:, \"SaleCondition\"] = df.loc[:, \"SaleCondition\"].fillna(\"Normal\")\n",
        "    # ScreenPorch : NA most likely means no screen porch\n",
        "    df.loc[:, \"ScreenPorch\"] = df.loc[:, \"ScreenPorch\"].fillna(0)\n",
        "    # TotRmsAbvGrd : NA most likely means 0\n",
        "    df.loc[:, \"TotRmsAbvGrd\"] = df.loc[:, \"TotRmsAbvGrd\"].fillna(0)\n",
        "    # Utilities : NA most likely means all public utilities\n",
        "    df.loc[:, \"Utilities\"] = df.loc[:, \"Utilities\"].fillna(\"AllPub\")\n",
        "    # WoodDeckSF : NA most likely means no wood deck\n",
        "    df.loc[:, \"WoodDeckSF\"] = df.loc[:, \"WoodDeckSF\"].fillna(0)\n",
        "    \n",
        "    # Представляем некоторые категориальные значения в виде числовых\n",
        "    # если есть информация о порядке\n",
        "    df = df.replace({\"Alley\" : {\"None\" : 0, \"Grvl\" : 1, \"Pave\" : 2},\n",
        "                       \"BsmtCond\" : {\"No\" : 0, \"Po\" : 1, \"Fa\" : 2, \"TA\" : 3, \"Gd\" : 4, \"Ex\" : 5},\n",
        "                       \"BsmtExposure\" : {\"No\" : 0, \"Mn\" : 1, \"Av\": 2, \"Gd\" : 3},\n",
        "                       \"BsmtFinType1\" : {\"No\" : 0, \"Unf\" : 1, \"LwQ\": 2, \"Rec\" : 3, \"BLQ\" : 4, \n",
        "                                         \"ALQ\" : 5, \"GLQ\" : 6},\n",
        "                       \"BsmtFinType2\" : {\"No\" : 0, \"Unf\" : 1, \"LwQ\": 2, \"Rec\" : 3, \"BLQ\" : 4, \n",
        "                                         \"ALQ\" : 5, \"GLQ\" : 6},\n",
        "                       \"BsmtQual\" : {\"No\" : 0, \"Po\" : 1, \"Fa\" : 2, \"TA\": 3, \"Gd\" : 4, \"Ex\" : 5},\n",
        "                       \"ExterCond\" : {\"Po\" : 1, \"Fa\" : 2, \"TA\": 3, \"Gd\": 4, \"Ex\" : 5},\n",
        "                       \"ExterQual\" : {\"Po\" : 1, \"Fa\" : 2, \"TA\": 3, \"Gd\": 4, \"Ex\" : 5},\n",
        "                       \"FireplaceQu\" : {\"No\" : 0, \"Po\" : 1, \"Fa\" : 2, \"TA\" : 3, \"Gd\" : 4, \"Ex\" : 5},\n",
        "                       \"Functional\" : {\"Sal\" : 1, \"Sev\" : 2, \"Maj2\" : 3, \"Maj1\" : 4, \"Mod\": 5, \n",
        "                                       \"Min2\" : 6, \"Min1\" : 7, \"Typ\" : 8},\n",
        "                       \"GarageCond\" : {\"No\" : 0, \"Po\" : 1, \"Fa\" : 2, \"TA\" : 3, \"Gd\" : 4, \"Ex\" : 5},\n",
        "                       \"GarageQual\" : {\"No\" : 0, \"Po\" : 1, \"Fa\" : 2, \"TA\" : 3, \"Gd\" : 4, \"Ex\" : 5},\n",
        "                       \"HeatingQC\" : {\"Po\" : 1, \"Fa\" : 2, \"TA\" : 3, \"Gd\" : 4, \"Ex\" : 5},\n",
        "                       \"KitchenQual\" : {\"Po\" : 1, \"Fa\" : 2, \"TA\" : 3, \"Gd\" : 4, \"Ex\" : 5},\n",
        "                       \"LandSlope\" : {\"Sev\" : 1, \"Mod\" : 2, \"Gtl\" : 3},\n",
        "                       \"LotShape\" : {\"IR3\" : 1, \"IR2\" : 2, \"IR1\" : 3, \"Reg\" : 4},\n",
        "                       \"PavedDrive\" : {\"N\" : 0, \"P\" : 1, \"Y\" : 2},\n",
        "                       \"PoolQC\" : {\"No\" : 0, \"Fa\" : 1, \"TA\" : 2, \"Gd\" : 3, \"Ex\" : 4},\n",
        "                       \"Street\" : {\"Grvl\" : 1, \"Pave\" : 2},\n",
        "                       \"Utilities\" : {\"ELO\" : 1, \"NoSeWa\" : 2, \"NoSewr\" : 3, \"AllPub\" : 4}}\n",
        "                     )    \n",
        "    \n",
        "    # Некоторые числовые переменные на самом деле категориальные\n",
        "    df = df.replace({\"MSSubClass\" : {20 : \"SC20\", 30 : \"SC30\", 40 : \"SC40\", 45 : \"SC45\", \n",
        "                                       50 : \"SC50\", 60 : \"SC60\", 70 : \"SC70\", 75 : \"SC75\", \n",
        "                                       80 : \"SC80\", 85 : \"SC85\", 90 : \"SC90\", 120 : \"SC120\", \n",
        "                                       150 : \"SC150\", 160 : \"SC160\", 180 : \"SC180\", 190 : \"SC190\"},\n",
        "                       \"MoSold\" : {1 : \"Jan\", 2 : \"Feb\", 3 : \"Mar\", 4 : \"Apr\", 5 : \"May\", 6 : \"Jun\",\n",
        "                                   7 : \"Jul\", 8 : \"Aug\", 9 : \"Sep\", 10 : \"Oct\", 11 : \"Nov\", 12 : \"Dec\"}\n",
        "                      })\n",
        "    \n",
        "    return df"
      ],
      "execution_count": 0,
      "outputs": []
    },
    {
      "cell_type": "markdown",
      "metadata": {
        "id": "6aCVM0Lq4iZp",
        "colab_type": "text"
      },
      "source": [
        "MSSubClass: Identifies the type of dwelling involved in the sale.\t\n",
        "\n",
        "        20\t1-STORY 1946 & NEWER ALL STYLES\n",
        "        30\t1-STORY 1945 & OLDER\n",
        "        40\t1-STORY W/FINISHED ATTIC ALL AGES\n",
        "        45\t1-1/2 STORY - UNFINISHED ALL AGES\n",
        "        50\t1-1/2 STORY FINISHED ALL AGES\n",
        "        60\t2-STORY 1946 & NEWER\n",
        "        70\t2-STORY 1945 & OLDER\n",
        "        75\t2-1/2 STORY ALL AGES\n",
        "        80\tSPLIT OR MULTI-LEVEL\n",
        "        85\tSPLIT FOYER\n",
        "        90\tDUPLEX - ALL STYLES AND AGES\n",
        "       120\t1-STORY PUD (Planned Unit Development) - 1946 & NEWER\n",
        "       150\t1-1/2 STORY PUD - ALL AGES\n",
        "       160\t2-STORY PUD - 1946 & NEWER\n",
        "       180\tPUD - MULTILEVEL - INCL SPLIT LEV/FOYER\n",
        "       190\t2 FAMILY CONVERSION - ALL STYLES AND AGES"
      ]
    },
    {
      "cell_type": "code",
      "metadata": {
        "id": "XSGkku1StT-1",
        "colab_type": "code",
        "colab": {}
      },
      "source": [
        "train = clear_data(train)"
      ],
      "execution_count": 0,
      "outputs": []
    },
    {
      "cell_type": "code",
      "metadata": {
        "id": "b4pHdmk9yn0W",
        "colab_type": "code",
        "outputId": "a5f21985-3762-4494-fe75-149e38443563",
        "colab": {
          "base_uri": "https://localhost:8080/",
          "height": 1479
        }
      },
      "source": [
        "train.info()"
      ],
      "execution_count": 18,
      "outputs": [
        {
          "output_type": "stream",
          "text": [
            "<class 'pandas.core.frame.DataFrame'>\n",
            "RangeIndex: 1460 entries, 0 to 1459\n",
            "Data columns (total 81 columns):\n",
            "Id               1460 non-null int64\n",
            "MSSubClass       1460 non-null object\n",
            "MSZoning         1460 non-null object\n",
            "LotFrontage      1460 non-null float64\n",
            "LotArea          1460 non-null int64\n",
            "Street           1460 non-null int64\n",
            "Alley            1460 non-null int64\n",
            "LotShape         1460 non-null int64\n",
            "LandContour      1460 non-null object\n",
            "Utilities        1460 non-null int64\n",
            "LotConfig        1460 non-null object\n",
            "LandSlope        1460 non-null int64\n",
            "Neighborhood     1460 non-null object\n",
            "Condition1       1460 non-null object\n",
            "Condition2       1460 non-null object\n",
            "BldgType         1460 non-null object\n",
            "HouseStyle       1460 non-null object\n",
            "OverallQual      1460 non-null int64\n",
            "OverallCond      1460 non-null int64\n",
            "YearBuilt        1460 non-null int64\n",
            "YearRemodAdd     1460 non-null int64\n",
            "RoofStyle        1460 non-null object\n",
            "RoofMatl         1460 non-null object\n",
            "Exterior1st      1460 non-null object\n",
            "Exterior2nd      1460 non-null object\n",
            "MasVnrType       1460 non-null object\n",
            "MasVnrArea       1460 non-null float64\n",
            "ExterQual        1460 non-null int64\n",
            "ExterCond        1460 non-null int64\n",
            "Foundation       1460 non-null object\n",
            "BsmtQual         1460 non-null int64\n",
            "BsmtCond         1460 non-null object\n",
            "BsmtExposure     1460 non-null int64\n",
            "BsmtFinType1     1460 non-null int64\n",
            "BsmtFinSF1       1460 non-null int64\n",
            "BsmtFinType2     1460 non-null int64\n",
            "BsmtFinSF2       1460 non-null int64\n",
            "BsmtUnfSF        1460 non-null int64\n",
            "TotalBsmtSF      1460 non-null int64\n",
            "Heating          1460 non-null object\n",
            "HeatingQC        1460 non-null int64\n",
            "CentralAir       1460 non-null object\n",
            "Electrical       1459 non-null object\n",
            "1stFlrSF         1460 non-null int64\n",
            "2ndFlrSF         1460 non-null int64\n",
            "LowQualFinSF     1460 non-null int64\n",
            "GrLivArea        1460 non-null int64\n",
            "BsmtFullBath     1460 non-null int64\n",
            "BsmtHalfBath     1460 non-null int64\n",
            "FullBath         1460 non-null int64\n",
            "HalfBath         1460 non-null int64\n",
            "BedroomAbvGr     1460 non-null int64\n",
            "KitchenAbvGr     1460 non-null int64\n",
            "KitchenQual      1460 non-null int64\n",
            "TotRmsAbvGrd     1460 non-null int64\n",
            "Functional       1460 non-null int64\n",
            "Fireplaces       1460 non-null int64\n",
            "FireplaceQu      1460 non-null int64\n",
            "GarageType       1460 non-null object\n",
            "GarageYrBlt      1379 non-null float64\n",
            "GarageFinish     1460 non-null object\n",
            "GarageCars       1460 non-null int64\n",
            "GarageArea       1460 non-null int64\n",
            "GarageQual       1460 non-null int64\n",
            "GarageCond       1460 non-null int64\n",
            "PavedDrive       1460 non-null int64\n",
            "WoodDeckSF       1460 non-null int64\n",
            "OpenPorchSF      1460 non-null int64\n",
            "EnclosedPorch    1460 non-null int64\n",
            "3SsnPorch        1460 non-null int64\n",
            "ScreenPorch      1460 non-null int64\n",
            "PoolArea         1460 non-null int64\n",
            "PoolQC           1460 non-null int64\n",
            "Fence            1460 non-null object\n",
            "MiscFeature      1460 non-null object\n",
            "MiscVal          1460 non-null int64\n",
            "MoSold           1460 non-null object\n",
            "YrSold           1460 non-null int64\n",
            "SaleType         1460 non-null object\n",
            "SaleCondition    1460 non-null object\n",
            "SalePrice        1460 non-null int64\n",
            "dtypes: float64(3), int64(52), object(26)\n",
            "memory usage: 924.0+ KB\n"
          ],
          "name": "stdout"
        }
      ]
    },
    {
      "cell_type": "markdown",
      "metadata": {
        "id": "kwe7Ps3e49uI",
        "colab_type": "text"
      },
      "source": [
        "## Разделяем числовые и категориальные признаки"
      ]
    },
    {
      "cell_type": "code",
      "metadata": {
        "id": "PMwanZXO5n_p",
        "colab_type": "code",
        "colab": {}
      },
      "source": [
        "categorical_features = train.select_dtypes(include = [\"object\"]).columns\n",
        "numerical_features = train.select_dtypes(exclude = [\"object\"]).columns"
      ],
      "execution_count": 0,
      "outputs": []
    },
    {
      "cell_type": "code",
      "metadata": {
        "id": "IIYge2BB5pGJ",
        "colab_type": "code",
        "outputId": "b2f18e9a-16fb-4994-ee41-087398a386b7",
        "colab": {
          "base_uri": "https://localhost:8080/",
          "height": 136
        }
      },
      "source": [
        "categorical_features"
      ],
      "execution_count": 20,
      "outputs": [
        {
          "output_type": "execute_result",
          "data": {
            "text/plain": [
              "Index(['MSSubClass', 'MSZoning', 'LandContour', 'LotConfig', 'Neighborhood',\n",
              "       'Condition1', 'Condition2', 'BldgType', 'HouseStyle', 'RoofStyle',\n",
              "       'RoofMatl', 'Exterior1st', 'Exterior2nd', 'MasVnrType', 'Foundation',\n",
              "       'BsmtCond', 'Heating', 'CentralAir', 'Electrical', 'GarageType',\n",
              "       'GarageFinish', 'Fence', 'MiscFeature', 'MoSold', 'SaleType',\n",
              "       'SaleCondition'],\n",
              "      dtype='object')"
            ]
          },
          "metadata": {
            "tags": []
          },
          "execution_count": 20
        }
      ]
    },
    {
      "cell_type": "code",
      "metadata": {
        "id": "KLD70n-t5qMZ",
        "colab_type": "code",
        "outputId": "d4dfa979-fd9e-4032-9faf-5ac7d25b60a8",
        "colab": {
          "base_uri": "https://localhost:8080/",
          "height": 221
        }
      },
      "source": [
        "numerical_features"
      ],
      "execution_count": 21,
      "outputs": [
        {
          "output_type": "execute_result",
          "data": {
            "text/plain": [
              "Index(['Id', 'LotFrontage', 'LotArea', 'Street', 'Alley', 'LotShape',\n",
              "       'Utilities', 'LandSlope', 'OverallQual', 'OverallCond', 'YearBuilt',\n",
              "       'YearRemodAdd', 'MasVnrArea', 'ExterQual', 'ExterCond', 'BsmtQual',\n",
              "       'BsmtExposure', 'BsmtFinType1', 'BsmtFinSF1', 'BsmtFinType2',\n",
              "       'BsmtFinSF2', 'BsmtUnfSF', 'TotalBsmtSF', 'HeatingQC', '1stFlrSF',\n",
              "       '2ndFlrSF', 'LowQualFinSF', 'GrLivArea', 'BsmtFullBath', 'BsmtHalfBath',\n",
              "       'FullBath', 'HalfBath', 'BedroomAbvGr', 'KitchenAbvGr', 'KitchenQual',\n",
              "       'TotRmsAbvGrd', 'Functional', 'Fireplaces', 'FireplaceQu',\n",
              "       'GarageYrBlt', 'GarageCars', 'GarageArea', 'GarageQual', 'GarageCond',\n",
              "       'PavedDrive', 'WoodDeckSF', 'OpenPorchSF', 'EnclosedPorch', '3SsnPorch',\n",
              "       'ScreenPorch', 'PoolArea', 'PoolQC', 'MiscVal', 'YrSold', 'SalePrice'],\n",
              "      dtype='object')"
            ]
          },
          "metadata": {
            "tags": []
          },
          "execution_count": 21
        }
      ]
    },
    {
      "cell_type": "markdown",
      "metadata": {
        "id": "XieBTpwA5zZ3",
        "colab_type": "text"
      },
      "source": [
        "Убираем из списка числовых переменных 'Id' и 'SalePrice'"
      ]
    },
    {
      "cell_type": "code",
      "metadata": {
        "id": "HboEH90e5yws",
        "colab_type": "code",
        "colab": {}
      },
      "source": [
        "numerical_features = numerical_features.drop(\"Id\")\n",
        "numerical_features = numerical_features.drop(\"SalePrice\")"
      ],
      "execution_count": 0,
      "outputs": []
    },
    {
      "cell_type": "code",
      "metadata": {
        "id": "U-bkP4Od6kVI",
        "colab_type": "code",
        "outputId": "2cc0d0a1-53c2-44a3-fa28-46cff37bddfb",
        "colab": {
          "base_uri": "https://localhost:8080/",
          "height": 221
        }
      },
      "source": [
        "numerical_features"
      ],
      "execution_count": 23,
      "outputs": [
        {
          "output_type": "execute_result",
          "data": {
            "text/plain": [
              "Index(['LotFrontage', 'LotArea', 'Street', 'Alley', 'LotShape', 'Utilities',\n",
              "       'LandSlope', 'OverallQual', 'OverallCond', 'YearBuilt', 'YearRemodAdd',\n",
              "       'MasVnrArea', 'ExterQual', 'ExterCond', 'BsmtQual', 'BsmtExposure',\n",
              "       'BsmtFinType1', 'BsmtFinSF1', 'BsmtFinType2', 'BsmtFinSF2', 'BsmtUnfSF',\n",
              "       'TotalBsmtSF', 'HeatingQC', '1stFlrSF', '2ndFlrSF', 'LowQualFinSF',\n",
              "       'GrLivArea', 'BsmtFullBath', 'BsmtHalfBath', 'FullBath', 'HalfBath',\n",
              "       'BedroomAbvGr', 'KitchenAbvGr', 'KitchenQual', 'TotRmsAbvGrd',\n",
              "       'Functional', 'Fireplaces', 'FireplaceQu', 'GarageYrBlt', 'GarageCars',\n",
              "       'GarageArea', 'GarageQual', 'GarageCond', 'PavedDrive', 'WoodDeckSF',\n",
              "       'OpenPorchSF', 'EnclosedPorch', '3SsnPorch', 'ScreenPorch', 'PoolArea',\n",
              "       'PoolQC', 'MiscVal', 'YrSold'],\n",
              "      dtype='object')"
            ]
          },
          "metadata": {
            "tags": []
          },
          "execution_count": 23
        }
      ]
    },
    {
      "cell_type": "markdown",
      "metadata": {
        "id": "zMkyTm2q6w_Q",
        "colab_type": "text"
      },
      "source": [
        "Разделяем данные на числовые и категориальные"
      ]
    },
    {
      "cell_type": "code",
      "metadata": {
        "id": "tSCiuPov6vqh",
        "colab_type": "code",
        "colab": {}
      },
      "source": [
        "train_numerical = train[numerical_features]\n",
        "train_categorical = train[categorical_features]"
      ],
      "execution_count": 0,
      "outputs": []
    },
    {
      "cell_type": "code",
      "metadata": {
        "id": "PxMHDaEX67s5",
        "colab_type": "code",
        "outputId": "cd8be76e-ccd7-4b3f-d69a-48a203ae9076",
        "colab": {
          "base_uri": "https://localhost:8080/",
          "height": 253
        }
      },
      "source": [
        "train_numerical[:5]"
      ],
      "execution_count": 25,
      "outputs": [
        {
          "output_type": "execute_result",
          "data": {
            "text/html": [
              "<div>\n",
              "<style scoped>\n",
              "    .dataframe tbody tr th:only-of-type {\n",
              "        vertical-align: middle;\n",
              "    }\n",
              "\n",
              "    .dataframe tbody tr th {\n",
              "        vertical-align: top;\n",
              "    }\n",
              "\n",
              "    .dataframe thead th {\n",
              "        text-align: right;\n",
              "    }\n",
              "</style>\n",
              "<table border=\"1\" class=\"dataframe\">\n",
              "  <thead>\n",
              "    <tr style=\"text-align: right;\">\n",
              "      <th></th>\n",
              "      <th>LotFrontage</th>\n",
              "      <th>LotArea</th>\n",
              "      <th>Street</th>\n",
              "      <th>Alley</th>\n",
              "      <th>LotShape</th>\n",
              "      <th>Utilities</th>\n",
              "      <th>LandSlope</th>\n",
              "      <th>OverallQual</th>\n",
              "      <th>OverallCond</th>\n",
              "      <th>YearBuilt</th>\n",
              "      <th>...</th>\n",
              "      <th>PavedDrive</th>\n",
              "      <th>WoodDeckSF</th>\n",
              "      <th>OpenPorchSF</th>\n",
              "      <th>EnclosedPorch</th>\n",
              "      <th>3SsnPorch</th>\n",
              "      <th>ScreenPorch</th>\n",
              "      <th>PoolArea</th>\n",
              "      <th>PoolQC</th>\n",
              "      <th>MiscVal</th>\n",
              "      <th>YrSold</th>\n",
              "    </tr>\n",
              "  </thead>\n",
              "  <tbody>\n",
              "    <tr>\n",
              "      <th>0</th>\n",
              "      <td>65.0</td>\n",
              "      <td>8450</td>\n",
              "      <td>2</td>\n",
              "      <td>0</td>\n",
              "      <td>4</td>\n",
              "      <td>4</td>\n",
              "      <td>3</td>\n",
              "      <td>7</td>\n",
              "      <td>5</td>\n",
              "      <td>2003</td>\n",
              "      <td>...</td>\n",
              "      <td>2</td>\n",
              "      <td>0</td>\n",
              "      <td>61</td>\n",
              "      <td>0</td>\n",
              "      <td>0</td>\n",
              "      <td>0</td>\n",
              "      <td>0</td>\n",
              "      <td>0</td>\n",
              "      <td>0</td>\n",
              "      <td>2008</td>\n",
              "    </tr>\n",
              "    <tr>\n",
              "      <th>1</th>\n",
              "      <td>80.0</td>\n",
              "      <td>9600</td>\n",
              "      <td>2</td>\n",
              "      <td>0</td>\n",
              "      <td>4</td>\n",
              "      <td>4</td>\n",
              "      <td>3</td>\n",
              "      <td>6</td>\n",
              "      <td>8</td>\n",
              "      <td>1976</td>\n",
              "      <td>...</td>\n",
              "      <td>2</td>\n",
              "      <td>298</td>\n",
              "      <td>0</td>\n",
              "      <td>0</td>\n",
              "      <td>0</td>\n",
              "      <td>0</td>\n",
              "      <td>0</td>\n",
              "      <td>0</td>\n",
              "      <td>0</td>\n",
              "      <td>2007</td>\n",
              "    </tr>\n",
              "    <tr>\n",
              "      <th>2</th>\n",
              "      <td>68.0</td>\n",
              "      <td>11250</td>\n",
              "      <td>2</td>\n",
              "      <td>0</td>\n",
              "      <td>3</td>\n",
              "      <td>4</td>\n",
              "      <td>3</td>\n",
              "      <td>7</td>\n",
              "      <td>5</td>\n",
              "      <td>2001</td>\n",
              "      <td>...</td>\n",
              "      <td>2</td>\n",
              "      <td>0</td>\n",
              "      <td>42</td>\n",
              "      <td>0</td>\n",
              "      <td>0</td>\n",
              "      <td>0</td>\n",
              "      <td>0</td>\n",
              "      <td>0</td>\n",
              "      <td>0</td>\n",
              "      <td>2008</td>\n",
              "    </tr>\n",
              "    <tr>\n",
              "      <th>3</th>\n",
              "      <td>60.0</td>\n",
              "      <td>9550</td>\n",
              "      <td>2</td>\n",
              "      <td>0</td>\n",
              "      <td>3</td>\n",
              "      <td>4</td>\n",
              "      <td>3</td>\n",
              "      <td>7</td>\n",
              "      <td>5</td>\n",
              "      <td>1915</td>\n",
              "      <td>...</td>\n",
              "      <td>2</td>\n",
              "      <td>0</td>\n",
              "      <td>35</td>\n",
              "      <td>272</td>\n",
              "      <td>0</td>\n",
              "      <td>0</td>\n",
              "      <td>0</td>\n",
              "      <td>0</td>\n",
              "      <td>0</td>\n",
              "      <td>2006</td>\n",
              "    </tr>\n",
              "    <tr>\n",
              "      <th>4</th>\n",
              "      <td>84.0</td>\n",
              "      <td>14260</td>\n",
              "      <td>2</td>\n",
              "      <td>0</td>\n",
              "      <td>3</td>\n",
              "      <td>4</td>\n",
              "      <td>3</td>\n",
              "      <td>8</td>\n",
              "      <td>5</td>\n",
              "      <td>2000</td>\n",
              "      <td>...</td>\n",
              "      <td>2</td>\n",
              "      <td>192</td>\n",
              "      <td>84</td>\n",
              "      <td>0</td>\n",
              "      <td>0</td>\n",
              "      <td>0</td>\n",
              "      <td>0</td>\n",
              "      <td>0</td>\n",
              "      <td>0</td>\n",
              "      <td>2008</td>\n",
              "    </tr>\n",
              "  </tbody>\n",
              "</table>\n",
              "<p>5 rows × 53 columns</p>\n",
              "</div>"
            ],
            "text/plain": [
              "   LotFrontage  LotArea  Street  Alley  LotShape  Utilities  LandSlope  \\\n",
              "0         65.0     8450       2      0         4          4          3   \n",
              "1         80.0     9600       2      0         4          4          3   \n",
              "2         68.0    11250       2      0         3          4          3   \n",
              "3         60.0     9550       2      0         3          4          3   \n",
              "4         84.0    14260       2      0         3          4          3   \n",
              "\n",
              "   OverallQual  OverallCond  YearBuilt  ...  PavedDrive  WoodDeckSF  \\\n",
              "0            7            5       2003  ...           2           0   \n",
              "1            6            8       1976  ...           2         298   \n",
              "2            7            5       2001  ...           2           0   \n",
              "3            7            5       1915  ...           2           0   \n",
              "4            8            5       2000  ...           2         192   \n",
              "\n",
              "   OpenPorchSF  EnclosedPorch  3SsnPorch  ScreenPorch  PoolArea  PoolQC  \\\n",
              "0           61              0          0            0         0       0   \n",
              "1            0              0          0            0         0       0   \n",
              "2           42              0          0            0         0       0   \n",
              "3           35            272          0            0         0       0   \n",
              "4           84              0          0            0         0       0   \n",
              "\n",
              "   MiscVal  YrSold  \n",
              "0        0    2008  \n",
              "1        0    2007  \n",
              "2        0    2008  \n",
              "3        0    2006  \n",
              "4        0    2008  \n",
              "\n",
              "[5 rows x 53 columns]"
            ]
          },
          "metadata": {
            "tags": []
          },
          "execution_count": 25
        }
      ]
    },
    {
      "cell_type": "code",
      "metadata": {
        "id": "IfhlMy7C6-yR",
        "colab_type": "code",
        "outputId": "200cd736-1637-4e5f-98b9-891bc63b8669",
        "colab": {
          "base_uri": "https://localhost:8080/",
          "height": 253
        }
      },
      "source": [
        "train_categorical[:5]"
      ],
      "execution_count": 26,
      "outputs": [
        {
          "output_type": "execute_result",
          "data": {
            "text/html": [
              "<div>\n",
              "<style scoped>\n",
              "    .dataframe tbody tr th:only-of-type {\n",
              "        vertical-align: middle;\n",
              "    }\n",
              "\n",
              "    .dataframe tbody tr th {\n",
              "        vertical-align: top;\n",
              "    }\n",
              "\n",
              "    .dataframe thead th {\n",
              "        text-align: right;\n",
              "    }\n",
              "</style>\n",
              "<table border=\"1\" class=\"dataframe\">\n",
              "  <thead>\n",
              "    <tr style=\"text-align: right;\">\n",
              "      <th></th>\n",
              "      <th>MSSubClass</th>\n",
              "      <th>MSZoning</th>\n",
              "      <th>LandContour</th>\n",
              "      <th>LotConfig</th>\n",
              "      <th>Neighborhood</th>\n",
              "      <th>Condition1</th>\n",
              "      <th>Condition2</th>\n",
              "      <th>BldgType</th>\n",
              "      <th>HouseStyle</th>\n",
              "      <th>RoofStyle</th>\n",
              "      <th>...</th>\n",
              "      <th>Heating</th>\n",
              "      <th>CentralAir</th>\n",
              "      <th>Electrical</th>\n",
              "      <th>GarageType</th>\n",
              "      <th>GarageFinish</th>\n",
              "      <th>Fence</th>\n",
              "      <th>MiscFeature</th>\n",
              "      <th>MoSold</th>\n",
              "      <th>SaleType</th>\n",
              "      <th>SaleCondition</th>\n",
              "    </tr>\n",
              "  </thead>\n",
              "  <tbody>\n",
              "    <tr>\n",
              "      <th>0</th>\n",
              "      <td>SC60</td>\n",
              "      <td>RL</td>\n",
              "      <td>Lvl</td>\n",
              "      <td>Inside</td>\n",
              "      <td>CollgCr</td>\n",
              "      <td>Norm</td>\n",
              "      <td>Norm</td>\n",
              "      <td>1Fam</td>\n",
              "      <td>2Story</td>\n",
              "      <td>Gable</td>\n",
              "      <td>...</td>\n",
              "      <td>GasA</td>\n",
              "      <td>Y</td>\n",
              "      <td>SBrkr</td>\n",
              "      <td>Attchd</td>\n",
              "      <td>RFn</td>\n",
              "      <td>No</td>\n",
              "      <td>No</td>\n",
              "      <td>Feb</td>\n",
              "      <td>WD</td>\n",
              "      <td>Normal</td>\n",
              "    </tr>\n",
              "    <tr>\n",
              "      <th>1</th>\n",
              "      <td>SC20</td>\n",
              "      <td>RL</td>\n",
              "      <td>Lvl</td>\n",
              "      <td>FR2</td>\n",
              "      <td>Veenker</td>\n",
              "      <td>Feedr</td>\n",
              "      <td>Norm</td>\n",
              "      <td>1Fam</td>\n",
              "      <td>1Story</td>\n",
              "      <td>Gable</td>\n",
              "      <td>...</td>\n",
              "      <td>GasA</td>\n",
              "      <td>Y</td>\n",
              "      <td>SBrkr</td>\n",
              "      <td>Attchd</td>\n",
              "      <td>RFn</td>\n",
              "      <td>No</td>\n",
              "      <td>No</td>\n",
              "      <td>May</td>\n",
              "      <td>WD</td>\n",
              "      <td>Normal</td>\n",
              "    </tr>\n",
              "    <tr>\n",
              "      <th>2</th>\n",
              "      <td>SC60</td>\n",
              "      <td>RL</td>\n",
              "      <td>Lvl</td>\n",
              "      <td>Inside</td>\n",
              "      <td>CollgCr</td>\n",
              "      <td>Norm</td>\n",
              "      <td>Norm</td>\n",
              "      <td>1Fam</td>\n",
              "      <td>2Story</td>\n",
              "      <td>Gable</td>\n",
              "      <td>...</td>\n",
              "      <td>GasA</td>\n",
              "      <td>Y</td>\n",
              "      <td>SBrkr</td>\n",
              "      <td>Attchd</td>\n",
              "      <td>RFn</td>\n",
              "      <td>No</td>\n",
              "      <td>No</td>\n",
              "      <td>Sep</td>\n",
              "      <td>WD</td>\n",
              "      <td>Normal</td>\n",
              "    </tr>\n",
              "    <tr>\n",
              "      <th>3</th>\n",
              "      <td>SC70</td>\n",
              "      <td>RL</td>\n",
              "      <td>Lvl</td>\n",
              "      <td>Corner</td>\n",
              "      <td>Crawfor</td>\n",
              "      <td>Norm</td>\n",
              "      <td>Norm</td>\n",
              "      <td>1Fam</td>\n",
              "      <td>2Story</td>\n",
              "      <td>Gable</td>\n",
              "      <td>...</td>\n",
              "      <td>GasA</td>\n",
              "      <td>Y</td>\n",
              "      <td>SBrkr</td>\n",
              "      <td>Detchd</td>\n",
              "      <td>Unf</td>\n",
              "      <td>No</td>\n",
              "      <td>No</td>\n",
              "      <td>Feb</td>\n",
              "      <td>WD</td>\n",
              "      <td>Abnorml</td>\n",
              "    </tr>\n",
              "    <tr>\n",
              "      <th>4</th>\n",
              "      <td>SC60</td>\n",
              "      <td>RL</td>\n",
              "      <td>Lvl</td>\n",
              "      <td>FR2</td>\n",
              "      <td>NoRidge</td>\n",
              "      <td>Norm</td>\n",
              "      <td>Norm</td>\n",
              "      <td>1Fam</td>\n",
              "      <td>2Story</td>\n",
              "      <td>Gable</td>\n",
              "      <td>...</td>\n",
              "      <td>GasA</td>\n",
              "      <td>Y</td>\n",
              "      <td>SBrkr</td>\n",
              "      <td>Attchd</td>\n",
              "      <td>RFn</td>\n",
              "      <td>No</td>\n",
              "      <td>No</td>\n",
              "      <td>Dec</td>\n",
              "      <td>WD</td>\n",
              "      <td>Normal</td>\n",
              "    </tr>\n",
              "  </tbody>\n",
              "</table>\n",
              "<p>5 rows × 26 columns</p>\n",
              "</div>"
            ],
            "text/plain": [
              "  MSSubClass MSZoning LandContour LotConfig Neighborhood Condition1  \\\n",
              "0       SC60       RL         Lvl    Inside      CollgCr       Norm   \n",
              "1       SC20       RL         Lvl       FR2      Veenker      Feedr   \n",
              "2       SC60       RL         Lvl    Inside      CollgCr       Norm   \n",
              "3       SC70       RL         Lvl    Corner      Crawfor       Norm   \n",
              "4       SC60       RL         Lvl       FR2      NoRidge       Norm   \n",
              "\n",
              "  Condition2 BldgType HouseStyle RoofStyle  ... Heating CentralAir Electrical  \\\n",
              "0       Norm     1Fam     2Story     Gable  ...    GasA          Y      SBrkr   \n",
              "1       Norm     1Fam     1Story     Gable  ...    GasA          Y      SBrkr   \n",
              "2       Norm     1Fam     2Story     Gable  ...    GasA          Y      SBrkr   \n",
              "3       Norm     1Fam     2Story     Gable  ...    GasA          Y      SBrkr   \n",
              "4       Norm     1Fam     2Story     Gable  ...    GasA          Y      SBrkr   \n",
              "\n",
              "  GarageType GarageFinish Fence MiscFeature MoSold SaleType SaleCondition  \n",
              "0     Attchd          RFn    No          No    Feb       WD        Normal  \n",
              "1     Attchd          RFn    No          No    May       WD        Normal  \n",
              "2     Attchd          RFn    No          No    Sep       WD        Normal  \n",
              "3     Detchd          Unf    No          No    Feb       WD       Abnorml  \n",
              "4     Attchd          RFn    No          No    Dec       WD        Normal  \n",
              "\n",
              "[5 rows x 26 columns]"
            ]
          },
          "metadata": {
            "tags": []
          },
          "execution_count": 26
        }
      ]
    },
    {
      "cell_type": "markdown",
      "metadata": {
        "id": "83sN-0OU7EIQ",
        "colab_type": "text"
      },
      "source": [
        "## Предварительная обработка числовых признаков"
      ]
    },
    {
      "cell_type": "markdown",
      "metadata": {
        "id": "Sfr8Sf2M7aDI",
        "colab_type": "text"
      },
      "source": [
        "Количество пустых значений числовых признаков"
      ]
    },
    {
      "cell_type": "code",
      "metadata": {
        "id": "jBwkwxg07J9S",
        "colab_type": "code",
        "outputId": "24ac785d-511a-4864-fe6d-49c64a95a1d1",
        "colab": {
          "base_uri": "https://localhost:8080/",
          "height": 34
        }
      },
      "source": [
        "train_numerical.isnull().values.sum()"
      ],
      "execution_count": 27,
      "outputs": [
        {
          "output_type": "execute_result",
          "data": {
            "text/plain": [
              "81"
            ]
          },
          "metadata": {
            "tags": []
          },
          "execution_count": 27
        }
      ]
    },
    {
      "cell_type": "markdown",
      "metadata": {
        "id": "FjLozLjw7eHw",
        "colab_type": "text"
      },
      "source": [
        "Заполняем пустые значения средними значениями"
      ]
    },
    {
      "cell_type": "code",
      "metadata": {
        "id": "qj3VOoJT7hWv",
        "colab_type": "code",
        "colab": {}
      },
      "source": [
        "train_numerical = train_numerical.fillna(train_numerical.median())"
      ],
      "execution_count": 0,
      "outputs": []
    },
    {
      "cell_type": "markdown",
      "metadata": {
        "colab_type": "text",
        "id": "f3g6ak-x7qdq"
      },
      "source": [
        "Проверяем количество пустых значений числовых признаков"
      ]
    },
    {
      "cell_type": "code",
      "metadata": {
        "colab_type": "code",
        "outputId": "44560d6a-31f6-4786-be2c-2d2ebea88dd4",
        "id": "sq7B7ULG7qdr",
        "colab": {
          "base_uri": "https://localhost:8080/",
          "height": 34
        }
      },
      "source": [
        "train_numerical.isnull().values.sum()"
      ],
      "execution_count": 29,
      "outputs": [
        {
          "output_type": "execute_result",
          "data": {
            "text/plain": [
              "0"
            ]
          },
          "metadata": {
            "tags": []
          },
          "execution_count": 29
        }
      ]
    },
    {
      "cell_type": "markdown",
      "metadata": {
        "id": "dLeVhYof_cHH",
        "colab_type": "text"
      },
      "source": [
        "## Нормализуем числовые признаки"
      ]
    },
    {
      "cell_type": "code",
      "metadata": {
        "id": "trFzdG3m_ewv",
        "colab_type": "code",
        "colab": {}
      },
      "source": [
        "# Среднее значение\n",
        "mean = train_numerical.mean(axis=0)\n",
        "# Стандартное отклонение\n",
        "std = train_numerical.std(axis=0)\n",
        "train_numerical -= mean\n",
        "train_numerical /= std"
      ],
      "execution_count": 0,
      "outputs": []
    },
    {
      "cell_type": "markdown",
      "metadata": {
        "id": "y0wcZNnRyu7V",
        "colab_type": "text"
      },
      "source": [
        "## Предварительная обработка категориальных значений"
      ]
    },
    {
      "cell_type": "code",
      "metadata": {
        "id": "A4wdSOxVyyYl",
        "colab_type": "code",
        "outputId": "2e4b5b9e-889e-4142-8a87-e8d3bebb8c5e",
        "colab": {
          "base_uri": "https://localhost:8080/",
          "height": 102
        }
      },
      "source": [
        "train_categorical['BldgType'].describe()"
      ],
      "execution_count": 31,
      "outputs": [
        {
          "output_type": "execute_result",
          "data": {
            "text/plain": [
              "count     1460\n",
              "unique       5\n",
              "top       1Fam\n",
              "freq      1220\n",
              "Name: BldgType, dtype: object"
            ]
          },
          "metadata": {
            "tags": []
          },
          "execution_count": 31
        }
      ]
    },
    {
      "cell_type": "markdown",
      "metadata": {
        "id": "a2a3JK1j1egV",
        "colab_type": "text"
      },
      "source": [
        "BldgType: Type of dwelling\n",
        "\t\t\n",
        "       1Fam\tSingle-family Detached\t\n",
        "       2FmCon\tTwo-family Conversion; originally built as one-family dwelling\n",
        "       Duplx\tDuplex\n",
        "       TwnhsE\tTownhouse End Unit\n",
        "       TwnhsI\tTownhouse Inside Unit"
      ]
    },
    {
      "cell_type": "code",
      "metadata": {
        "id": "oaBWtAYCzBdw",
        "colab_type": "code",
        "outputId": "94d5bb86-9094-491e-9f43-9deb6c0a8e7e",
        "colab": {
          "base_uri": "https://localhost:8080/",
          "height": 34
        }
      },
      "source": [
        "set(train_categorical['BldgType'])"
      ],
      "execution_count": 32,
      "outputs": [
        {
          "output_type": "execute_result",
          "data": {
            "text/plain": [
              "{'1Fam', '2fmCon', 'Duplex', 'Twnhs', 'TwnhsE'}"
            ]
          },
          "metadata": {
            "tags": []
          },
          "execution_count": 32
        }
      ]
    },
    {
      "cell_type": "code",
      "metadata": {
        "id": "JLjQyocC0inm",
        "colab_type": "code",
        "colab": {}
      },
      "source": [
        "blgd_type_dummy = pd.get_dummies(train_categorical['BldgType'])"
      ],
      "execution_count": 0,
      "outputs": []
    },
    {
      "cell_type": "code",
      "metadata": {
        "id": "aqw99XSs3GUU",
        "colab_type": "code",
        "colab": {}
      },
      "source": [
        "train_categorical = pd.get_dummies(train_categorical)"
      ],
      "execution_count": 0,
      "outputs": []
    },
    {
      "cell_type": "code",
      "metadata": {
        "id": "cIHvCnwp3I-k",
        "colab_type": "code",
        "outputId": "c03a6bc9-7872-4bd5-95e7-e644be79506a",
        "colab": {
          "base_uri": "https://localhost:8080/",
          "height": 102
        }
      },
      "source": [
        "train_categorical.info()"
      ],
      "execution_count": 36,
      "outputs": [
        {
          "output_type": "stream",
          "text": [
            "<class 'pandas.core.frame.DataFrame'>\n",
            "RangeIndex: 1460 entries, 0 to 1459\n",
            "Columns: 205 entries, MSSubClass_SC120 to SaleCondition_Partial\n",
            "dtypes: uint8(205)\n",
            "memory usage: 292.4 KB\n"
          ],
          "name": "stdout"
        }
      ]
    },
    {
      "cell_type": "code",
      "metadata": {
        "id": "jhqPUEAv5Vju",
        "colab_type": "code",
        "outputId": "3b3c8593-7870-45c7-8e87-67c61438da1c",
        "colab": {
          "base_uri": "https://localhost:8080/",
          "height": 253
        }
      },
      "source": [
        "train_categorical[:5]"
      ],
      "execution_count": 37,
      "outputs": [
        {
          "output_type": "execute_result",
          "data": {
            "text/html": [
              "<div>\n",
              "<style scoped>\n",
              "    .dataframe tbody tr th:only-of-type {\n",
              "        vertical-align: middle;\n",
              "    }\n",
              "\n",
              "    .dataframe tbody tr th {\n",
              "        vertical-align: top;\n",
              "    }\n",
              "\n",
              "    .dataframe thead th {\n",
              "        text-align: right;\n",
              "    }\n",
              "</style>\n",
              "<table border=\"1\" class=\"dataframe\">\n",
              "  <thead>\n",
              "    <tr style=\"text-align: right;\">\n",
              "      <th></th>\n",
              "      <th>MSSubClass_SC120</th>\n",
              "      <th>MSSubClass_SC160</th>\n",
              "      <th>MSSubClass_SC180</th>\n",
              "      <th>MSSubClass_SC190</th>\n",
              "      <th>MSSubClass_SC20</th>\n",
              "      <th>MSSubClass_SC30</th>\n",
              "      <th>MSSubClass_SC40</th>\n",
              "      <th>MSSubClass_SC45</th>\n",
              "      <th>MSSubClass_SC50</th>\n",
              "      <th>MSSubClass_SC60</th>\n",
              "      <th>...</th>\n",
              "      <th>SaleType_ConLw</th>\n",
              "      <th>SaleType_New</th>\n",
              "      <th>SaleType_Oth</th>\n",
              "      <th>SaleType_WD</th>\n",
              "      <th>SaleCondition_Abnorml</th>\n",
              "      <th>SaleCondition_AdjLand</th>\n",
              "      <th>SaleCondition_Alloca</th>\n",
              "      <th>SaleCondition_Family</th>\n",
              "      <th>SaleCondition_Normal</th>\n",
              "      <th>SaleCondition_Partial</th>\n",
              "    </tr>\n",
              "  </thead>\n",
              "  <tbody>\n",
              "    <tr>\n",
              "      <th>0</th>\n",
              "      <td>0</td>\n",
              "      <td>0</td>\n",
              "      <td>0</td>\n",
              "      <td>0</td>\n",
              "      <td>0</td>\n",
              "      <td>0</td>\n",
              "      <td>0</td>\n",
              "      <td>0</td>\n",
              "      <td>0</td>\n",
              "      <td>1</td>\n",
              "      <td>...</td>\n",
              "      <td>0</td>\n",
              "      <td>0</td>\n",
              "      <td>0</td>\n",
              "      <td>1</td>\n",
              "      <td>0</td>\n",
              "      <td>0</td>\n",
              "      <td>0</td>\n",
              "      <td>0</td>\n",
              "      <td>1</td>\n",
              "      <td>0</td>\n",
              "    </tr>\n",
              "    <tr>\n",
              "      <th>1</th>\n",
              "      <td>0</td>\n",
              "      <td>0</td>\n",
              "      <td>0</td>\n",
              "      <td>0</td>\n",
              "      <td>1</td>\n",
              "      <td>0</td>\n",
              "      <td>0</td>\n",
              "      <td>0</td>\n",
              "      <td>0</td>\n",
              "      <td>0</td>\n",
              "      <td>...</td>\n",
              "      <td>0</td>\n",
              "      <td>0</td>\n",
              "      <td>0</td>\n",
              "      <td>1</td>\n",
              "      <td>0</td>\n",
              "      <td>0</td>\n",
              "      <td>0</td>\n",
              "      <td>0</td>\n",
              "      <td>1</td>\n",
              "      <td>0</td>\n",
              "    </tr>\n",
              "    <tr>\n",
              "      <th>2</th>\n",
              "      <td>0</td>\n",
              "      <td>0</td>\n",
              "      <td>0</td>\n",
              "      <td>0</td>\n",
              "      <td>0</td>\n",
              "      <td>0</td>\n",
              "      <td>0</td>\n",
              "      <td>0</td>\n",
              "      <td>0</td>\n",
              "      <td>1</td>\n",
              "      <td>...</td>\n",
              "      <td>0</td>\n",
              "      <td>0</td>\n",
              "      <td>0</td>\n",
              "      <td>1</td>\n",
              "      <td>0</td>\n",
              "      <td>0</td>\n",
              "      <td>0</td>\n",
              "      <td>0</td>\n",
              "      <td>1</td>\n",
              "      <td>0</td>\n",
              "    </tr>\n",
              "    <tr>\n",
              "      <th>3</th>\n",
              "      <td>0</td>\n",
              "      <td>0</td>\n",
              "      <td>0</td>\n",
              "      <td>0</td>\n",
              "      <td>0</td>\n",
              "      <td>0</td>\n",
              "      <td>0</td>\n",
              "      <td>0</td>\n",
              "      <td>0</td>\n",
              "      <td>0</td>\n",
              "      <td>...</td>\n",
              "      <td>0</td>\n",
              "      <td>0</td>\n",
              "      <td>0</td>\n",
              "      <td>1</td>\n",
              "      <td>1</td>\n",
              "      <td>0</td>\n",
              "      <td>0</td>\n",
              "      <td>0</td>\n",
              "      <td>0</td>\n",
              "      <td>0</td>\n",
              "    </tr>\n",
              "    <tr>\n",
              "      <th>4</th>\n",
              "      <td>0</td>\n",
              "      <td>0</td>\n",
              "      <td>0</td>\n",
              "      <td>0</td>\n",
              "      <td>0</td>\n",
              "      <td>0</td>\n",
              "      <td>0</td>\n",
              "      <td>0</td>\n",
              "      <td>0</td>\n",
              "      <td>1</td>\n",
              "      <td>...</td>\n",
              "      <td>0</td>\n",
              "      <td>0</td>\n",
              "      <td>0</td>\n",
              "      <td>1</td>\n",
              "      <td>0</td>\n",
              "      <td>0</td>\n",
              "      <td>0</td>\n",
              "      <td>0</td>\n",
              "      <td>1</td>\n",
              "      <td>0</td>\n",
              "    </tr>\n",
              "  </tbody>\n",
              "</table>\n",
              "<p>5 rows × 205 columns</p>\n",
              "</div>"
            ],
            "text/plain": [
              "   MSSubClass_SC120  MSSubClass_SC160  MSSubClass_SC180  MSSubClass_SC190  \\\n",
              "0                 0                 0                 0                 0   \n",
              "1                 0                 0                 0                 0   \n",
              "2                 0                 0                 0                 0   \n",
              "3                 0                 0                 0                 0   \n",
              "4                 0                 0                 0                 0   \n",
              "\n",
              "   MSSubClass_SC20  MSSubClass_SC30  MSSubClass_SC40  MSSubClass_SC45  \\\n",
              "0                0                0                0                0   \n",
              "1                1                0                0                0   \n",
              "2                0                0                0                0   \n",
              "3                0                0                0                0   \n",
              "4                0                0                0                0   \n",
              "\n",
              "   MSSubClass_SC50  MSSubClass_SC60  ...  SaleType_ConLw  SaleType_New  \\\n",
              "0                0                1  ...               0             0   \n",
              "1                0                0  ...               0             0   \n",
              "2                0                1  ...               0             0   \n",
              "3                0                0  ...               0             0   \n",
              "4                0                1  ...               0             0   \n",
              "\n",
              "   SaleType_Oth  SaleType_WD  SaleCondition_Abnorml  SaleCondition_AdjLand  \\\n",
              "0             0            1                      0                      0   \n",
              "1             0            1                      0                      0   \n",
              "2             0            1                      0                      0   \n",
              "3             0            1                      1                      0   \n",
              "4             0            1                      0                      0   \n",
              "\n",
              "   SaleCondition_Alloca  SaleCondition_Family  SaleCondition_Normal  \\\n",
              "0                     0                     0                     1   \n",
              "1                     0                     0                     1   \n",
              "2                     0                     0                     1   \n",
              "3                     0                     0                     0   \n",
              "4                     0                     0                     1   \n",
              "\n",
              "   SaleCondition_Partial  \n",
              "0                      0  \n",
              "1                      0  \n",
              "2                      0  \n",
              "3                      0  \n",
              "4                      0  \n",
              "\n",
              "[5 rows x 205 columns]"
            ]
          },
          "metadata": {
            "tags": []
          },
          "execution_count": 37
        }
      ]
    },
    {
      "cell_type": "markdown",
      "metadata": {
        "colab_type": "text",
        "id": "3Xa7rDM_8svo"
      },
      "source": [
        "Проверяем количество пустых значений категориальных признаков"
      ]
    },
    {
      "cell_type": "code",
      "metadata": {
        "colab_type": "code",
        "outputId": "70bcbafb-f591-4b96-af89-c279de164781",
        "id": "j9_j-nwJ8svq",
        "colab": {
          "base_uri": "https://localhost:8080/",
          "height": 34
        }
      },
      "source": [
        "train_categorical.isnull().values.sum()"
      ],
      "execution_count": 38,
      "outputs": [
        {
          "output_type": "execute_result",
          "data": {
            "text/plain": [
              "0"
            ]
          },
          "metadata": {
            "tags": []
          },
          "execution_count": 38
        }
      ]
    },
    {
      "cell_type": "markdown",
      "metadata": {
        "id": "rgKadPun9S4J",
        "colab_type": "text"
      },
      "source": [
        "## Готовим общий набор данных"
      ]
    },
    {
      "cell_type": "code",
      "metadata": {
        "id": "rO16xu4Q9VmR",
        "colab_type": "code",
        "colab": {}
      },
      "source": [
        "x_train = pd.concat([train_numerical, train_categorical], axis = 1)"
      ],
      "execution_count": 0,
      "outputs": []
    },
    {
      "cell_type": "code",
      "metadata": {
        "id": "JXZ-v-cg9bvR",
        "colab_type": "code",
        "outputId": "424105af-032d-484b-b344-53cf26a76580",
        "colab": {
          "base_uri": "https://localhost:8080/",
          "height": 102
        }
      },
      "source": [
        "x_train.info()"
      ],
      "execution_count": 40,
      "outputs": [
        {
          "output_type": "stream",
          "text": [
            "<class 'pandas.core.frame.DataFrame'>\n",
            "RangeIndex: 1460 entries, 0 to 1459\n",
            "Columns: 258 entries, LotFrontage to SaleCondition_Partial\n",
            "dtypes: float64(53), uint8(205)\n",
            "memory usage: 896.9 KB\n"
          ],
          "name": "stdout"
        }
      ]
    },
    {
      "cell_type": "code",
      "metadata": {
        "id": "Zg7VOwTo9cm-",
        "colab_type": "code",
        "outputId": "e1747952-88c4-4ede-b8dd-424223020244",
        "colab": {
          "base_uri": "https://localhost:8080/",
          "height": 253
        }
      },
      "source": [
        "x_train[:5]"
      ],
      "execution_count": 41,
      "outputs": [
        {
          "output_type": "execute_result",
          "data": {
            "text/html": [
              "<div>\n",
              "<style scoped>\n",
              "    .dataframe tbody tr th:only-of-type {\n",
              "        vertical-align: middle;\n",
              "    }\n",
              "\n",
              "    .dataframe tbody tr th {\n",
              "        vertical-align: top;\n",
              "    }\n",
              "\n",
              "    .dataframe thead th {\n",
              "        text-align: right;\n",
              "    }\n",
              "</style>\n",
              "<table border=\"1\" class=\"dataframe\">\n",
              "  <thead>\n",
              "    <tr style=\"text-align: right;\">\n",
              "      <th></th>\n",
              "      <th>LotFrontage</th>\n",
              "      <th>LotArea</th>\n",
              "      <th>Street</th>\n",
              "      <th>Alley</th>\n",
              "      <th>LotShape</th>\n",
              "      <th>Utilities</th>\n",
              "      <th>LandSlope</th>\n",
              "      <th>OverallQual</th>\n",
              "      <th>OverallCond</th>\n",
              "      <th>YearBuilt</th>\n",
              "      <th>...</th>\n",
              "      <th>SaleType_ConLw</th>\n",
              "      <th>SaleType_New</th>\n",
              "      <th>SaleType_Oth</th>\n",
              "      <th>SaleType_WD</th>\n",
              "      <th>SaleCondition_Abnorml</th>\n",
              "      <th>SaleCondition_AdjLand</th>\n",
              "      <th>SaleCondition_Alloca</th>\n",
              "      <th>SaleCondition_Family</th>\n",
              "      <th>SaleCondition_Normal</th>\n",
              "      <th>SaleCondition_Partial</th>\n",
              "    </tr>\n",
              "  </thead>\n",
              "  <tbody>\n",
              "    <tr>\n",
              "      <th>0</th>\n",
              "      <td>0.212804</td>\n",
              "      <td>-0.207071</td>\n",
              "      <td>0.064216</td>\n",
              "      <td>-0.242942</td>\n",
              "      <td>0.701051</td>\n",
              "      <td>0.026171</td>\n",
              "      <td>0.225639</td>\n",
              "      <td>0.651256</td>\n",
              "      <td>-0.517023</td>\n",
              "      <td>1.050634</td>\n",
              "      <td>...</td>\n",
              "      <td>0</td>\n",
              "      <td>0</td>\n",
              "      <td>0</td>\n",
              "      <td>1</td>\n",
              "      <td>0</td>\n",
              "      <td>0</td>\n",
              "      <td>0</td>\n",
              "      <td>0</td>\n",
              "      <td>1</td>\n",
              "      <td>0</td>\n",
              "    </tr>\n",
              "    <tr>\n",
              "      <th>1</th>\n",
              "      <td>0.645526</td>\n",
              "      <td>-0.091855</td>\n",
              "      <td>0.064216</td>\n",
              "      <td>-0.242942</td>\n",
              "      <td>0.701051</td>\n",
              "      <td>0.026171</td>\n",
              "      <td>0.225639</td>\n",
              "      <td>-0.071812</td>\n",
              "      <td>2.178881</td>\n",
              "      <td>0.156680</td>\n",
              "      <td>...</td>\n",
              "      <td>0</td>\n",
              "      <td>0</td>\n",
              "      <td>0</td>\n",
              "      <td>1</td>\n",
              "      <td>0</td>\n",
              "      <td>0</td>\n",
              "      <td>0</td>\n",
              "      <td>0</td>\n",
              "      <td>1</td>\n",
              "      <td>0</td>\n",
              "    </tr>\n",
              "    <tr>\n",
              "      <th>2</th>\n",
              "      <td>0.299349</td>\n",
              "      <td>0.073455</td>\n",
              "      <td>0.064216</td>\n",
              "      <td>-0.242942</td>\n",
              "      <td>-1.016288</td>\n",
              "      <td>0.026171</td>\n",
              "      <td>0.225639</td>\n",
              "      <td>0.651256</td>\n",
              "      <td>-0.517023</td>\n",
              "      <td>0.984415</td>\n",
              "      <td>...</td>\n",
              "      <td>0</td>\n",
              "      <td>0</td>\n",
              "      <td>0</td>\n",
              "      <td>1</td>\n",
              "      <td>0</td>\n",
              "      <td>0</td>\n",
              "      <td>0</td>\n",
              "      <td>0</td>\n",
              "      <td>1</td>\n",
              "      <td>0</td>\n",
              "    </tr>\n",
              "    <tr>\n",
              "      <th>3</th>\n",
              "      <td>0.068564</td>\n",
              "      <td>-0.096864</td>\n",
              "      <td>0.064216</td>\n",
              "      <td>-0.242942</td>\n",
              "      <td>-1.016288</td>\n",
              "      <td>0.026171</td>\n",
              "      <td>0.225639</td>\n",
              "      <td>0.651256</td>\n",
              "      <td>-0.517023</td>\n",
              "      <td>-1.862993</td>\n",
              "      <td>...</td>\n",
              "      <td>0</td>\n",
              "      <td>0</td>\n",
              "      <td>0</td>\n",
              "      <td>1</td>\n",
              "      <td>1</td>\n",
              "      <td>0</td>\n",
              "      <td>0</td>\n",
              "      <td>0</td>\n",
              "      <td>0</td>\n",
              "      <td>0</td>\n",
              "    </tr>\n",
              "    <tr>\n",
              "      <th>4</th>\n",
              "      <td>0.760919</td>\n",
              "      <td>0.375020</td>\n",
              "      <td>0.064216</td>\n",
              "      <td>-0.242942</td>\n",
              "      <td>-1.016288</td>\n",
              "      <td>0.026171</td>\n",
              "      <td>0.225639</td>\n",
              "      <td>1.374324</td>\n",
              "      <td>-0.517023</td>\n",
              "      <td>0.951306</td>\n",
              "      <td>...</td>\n",
              "      <td>0</td>\n",
              "      <td>0</td>\n",
              "      <td>0</td>\n",
              "      <td>1</td>\n",
              "      <td>0</td>\n",
              "      <td>0</td>\n",
              "      <td>0</td>\n",
              "      <td>0</td>\n",
              "      <td>1</td>\n",
              "      <td>0</td>\n",
              "    </tr>\n",
              "  </tbody>\n",
              "</table>\n",
              "<p>5 rows × 258 columns</p>\n",
              "</div>"
            ],
            "text/plain": [
              "   LotFrontage   LotArea    Street     Alley  LotShape  Utilities  LandSlope  \\\n",
              "0     0.212804 -0.207071  0.064216 -0.242942  0.701051   0.026171   0.225639   \n",
              "1     0.645526 -0.091855  0.064216 -0.242942  0.701051   0.026171   0.225639   \n",
              "2     0.299349  0.073455  0.064216 -0.242942 -1.016288   0.026171   0.225639   \n",
              "3     0.068564 -0.096864  0.064216 -0.242942 -1.016288   0.026171   0.225639   \n",
              "4     0.760919  0.375020  0.064216 -0.242942 -1.016288   0.026171   0.225639   \n",
              "\n",
              "   OverallQual  OverallCond  YearBuilt  ...  SaleType_ConLw  SaleType_New  \\\n",
              "0     0.651256    -0.517023   1.050634  ...               0             0   \n",
              "1    -0.071812     2.178881   0.156680  ...               0             0   \n",
              "2     0.651256    -0.517023   0.984415  ...               0             0   \n",
              "3     0.651256    -0.517023  -1.862993  ...               0             0   \n",
              "4     1.374324    -0.517023   0.951306  ...               0             0   \n",
              "\n",
              "   SaleType_Oth  SaleType_WD  SaleCondition_Abnorml  SaleCondition_AdjLand  \\\n",
              "0             0            1                      0                      0   \n",
              "1             0            1                      0                      0   \n",
              "2             0            1                      0                      0   \n",
              "3             0            1                      1                      0   \n",
              "4             0            1                      0                      0   \n",
              "\n",
              "   SaleCondition_Alloca  SaleCondition_Family  SaleCondition_Normal  \\\n",
              "0                     0                     0                     1   \n",
              "1                     0                     0                     1   \n",
              "2                     0                     0                     1   \n",
              "3                     0                     0                     0   \n",
              "4                     0                     0                     1   \n",
              "\n",
              "   SaleCondition_Partial  \n",
              "0                      0  \n",
              "1                      0  \n",
              "2                      0  \n",
              "3                      0  \n",
              "4                      0  \n",
              "\n",
              "[5 rows x 258 columns]"
            ]
          },
          "metadata": {
            "tags": []
          },
          "execution_count": 41
        }
      ]
    },
    {
      "cell_type": "markdown",
      "metadata": {
        "id": "_Wnz02E5KS9a",
        "colab_type": "text"
      },
      "source": [
        "# Нейронная сеть"
      ]
    },
    {
      "cell_type": "markdown",
      "metadata": {
        "id": "U4AyBgyx9jlo",
        "colab_type": "text"
      },
      "source": [
        "## Создаем нейронную сеть"
      ]
    },
    {
      "cell_type": "code",
      "metadata": {
        "id": "BaeS8Vmm9mk5",
        "colab_type": "code",
        "colab": {
          "base_uri": "https://localhost:8080/",
          "height": 3794
        },
        "outputId": "3ab01125-153f-415e-c1c5-a36bad304194"
      },
      "source": [
        "model = Sequential()\n",
        "model.add(Dense(200, activation='relu', input_shape=(x_train.shape[1],)))\n",
        "model.add(Dense(100, activation='relu'))\n",
        "model.add(Dense(50, activation='relu'))\n",
        "model.add(Dense(25, activation='relu'))\n",
        "model.add(Dense(1, activation='relu'))\n",
        "\n",
        "model.summary()\n",
        "\n",
        "model.compile(optimizer='adadelta', loss='mse', metrics=['mae'])\n",
        "\n",
        "history = model.fit(x_train, \n",
        "                    y_train, \n",
        "                    epochs=100, \n",
        "                    validation_split=0.1, \n",
        "                    verbose=2)"
      ],
      "execution_count": 44,
      "outputs": [
        {
          "output_type": "stream",
          "text": [
            "_________________________________________________________________\n",
            "Layer (type)                 Output Shape              Param #   \n",
            "=================================================================\n",
            "dense_5 (Dense)              (None, 200)               51800     \n",
            "_________________________________________________________________\n",
            "dense_6 (Dense)              (None, 100)               20100     \n",
            "_________________________________________________________________\n",
            "dense_7 (Dense)              (None, 50)                5050      \n",
            "_________________________________________________________________\n",
            "dense_8 (Dense)              (None, 25)                1275      \n",
            "_________________________________________________________________\n",
            "dense_9 (Dense)              (None, 1)                 26        \n",
            "=================================================================\n",
            "Total params: 78,251\n",
            "Trainable params: 78,251\n",
            "Non-trainable params: 0\n",
            "_________________________________________________________________\n",
            "Train on 1314 samples, validate on 146 samples\n",
            "WARNING:tensorflow:From /usr/local/lib/python3.6/dist-packages/tensorflow/python/ops/math_ops.py:3066: to_int32 (from tensorflow.python.ops.math_ops) is deprecated and will be removed in a future version.\n",
            "Instructions for updating:\n",
            "Use tf.cast instead.\n",
            "Epoch 1/100\n",
            " - 1s - loss: 18908963415.2816 - mean_absolute_error: 103919.9375 - val_loss: 1558471211.8356 - val_mean_absolute_error: 25634.8965\n",
            "Epoch 2/100\n",
            " - 0s - loss: 2415315369.5951 - mean_absolute_error: 32485.4238 - val_loss: 936172319.5616 - val_mean_absolute_error: 20783.1367\n",
            "Epoch 3/100\n",
            " - 0s - loss: 2186490978.5814 - mean_absolute_error: 30963.9141 - val_loss: 910661847.6712 - val_mean_absolute_error: 22087.7871\n",
            "Epoch 4/100\n",
            " - 0s - loss: 1333486720.7549 - mean_absolute_error: 23052.6484 - val_loss: 739687609.8630 - val_mean_absolute_error: 18774.2383\n",
            "Epoch 5/100\n",
            " - 0s - loss: 1048099010.8250 - mean_absolute_error: 20435.0508 - val_loss: 699752752.2192 - val_mean_absolute_error: 19662.9434\n",
            "Epoch 6/100\n",
            " - 0s - loss: 991567519.4155 - mean_absolute_error: 18903.7871 - val_loss: 541986561.7534 - val_mean_absolute_error: 16872.6152\n",
            "Epoch 7/100\n",
            " - 0s - loss: 929737448.3288 - mean_absolute_error: 18256.5098 - val_loss: 622434884.8219 - val_mean_absolute_error: 16747.7480\n",
            "Epoch 8/100\n",
            " - 0s - loss: 855671483.7930 - mean_absolute_error: 17002.2773 - val_loss: 660520035.5068 - val_mean_absolute_error: 17790.4512\n",
            "Epoch 9/100\n",
            " - 0s - loss: 831772409.6682 - mean_absolute_error: 16146.0381 - val_loss: 798874528.8767 - val_mean_absolute_error: 20651.3828\n",
            "Epoch 10/100\n",
            " - 0s - loss: 826870410.3257 - mean_absolute_error: 16119.8232 - val_loss: 904623964.9315 - val_mean_absolute_error: 21837.2129\n",
            "Epoch 11/100\n",
            " - 0s - loss: 812731483.9817 - mean_absolute_error: 15982.2236 - val_loss: 494364961.7534 - val_mean_absolute_error: 14975.0000\n",
            "Epoch 12/100\n",
            " - 0s - loss: 780075867.7869 - mean_absolute_error: 15255.3730 - val_loss: 500850822.1370 - val_mean_absolute_error: 14630.6709\n",
            "Epoch 13/100\n",
            " - 0s - loss: 744403794.4475 - mean_absolute_error: 14633.4297 - val_loss: 507166402.6301 - val_mean_absolute_error: 15061.8564\n",
            "Epoch 14/100\n",
            " - 0s - loss: 713053970.1187 - mean_absolute_error: 14164.8584 - val_loss: 577326072.9863 - val_mean_absolute_error: 15895.9316\n",
            "Epoch 15/100\n",
            " - 0s - loss: 725893718.2588 - mean_absolute_error: 14214.4707 - val_loss: 721757992.3288 - val_mean_absolute_error: 18000.5137\n",
            "Epoch 16/100\n",
            " - 0s - loss: 711410322.5084 - mean_absolute_error: 14411.4199 - val_loss: 563377046.3562 - val_mean_absolute_error: 17252.4668\n",
            "Epoch 17/100\n",
            " - 0s - loss: 696809290.7275 - mean_absolute_error: 13879.5986 - val_loss: 495354530.6301 - val_mean_absolute_error: 14514.9824\n",
            "Epoch 18/100\n",
            " - 0s - loss: 688509418.2648 - mean_absolute_error: 13828.8662 - val_loss: 464966384.2192 - val_mean_absolute_error: 14397.9062\n",
            "Epoch 19/100\n",
            " - 0s - loss: 691380916.6149 - mean_absolute_error: 13738.8223 - val_loss: 465835347.7260 - val_mean_absolute_error: 14121.6836\n",
            "Epoch 20/100\n",
            " - 0s - loss: 676868810.8128 - mean_absolute_error: 13565.4336 - val_loss: 616325665.3151 - val_mean_absolute_error: 15841.5244\n",
            "Epoch 21/100\n",
            " - 0s - loss: 677350809.9117 - mean_absolute_error: 13562.5996 - val_loss: 475810033.0959 - val_mean_absolute_error: 14057.8828\n",
            "Epoch 22/100\n",
            " - 0s - loss: 672395323.2268 - mean_absolute_error: 13557.0625 - val_loss: 469733590.5753 - val_mean_absolute_error: 14733.6562\n",
            "Epoch 23/100\n",
            " - 0s - loss: 663393912.3044 - mean_absolute_error: 13382.2344 - val_loss: 462004233.6438 - val_mean_absolute_error: 14260.5186\n",
            "Epoch 24/100\n",
            " - 0s - loss: 650163833.8447 - mean_absolute_error: 13403.6484 - val_loss: 516962538.0822 - val_mean_absolute_error: 14029.1338\n",
            "Epoch 25/100\n",
            " - 0s - loss: 661028112.5662 - mean_absolute_error: 13461.3486 - val_loss: 491262951.0137 - val_mean_absolute_error: 13982.8994\n",
            "Epoch 26/100\n",
            " - 0s - loss: 639935542.5266 - mean_absolute_error: 13219.5371 - val_loss: 517720677.2603 - val_mean_absolute_error: 13903.7334\n",
            "Epoch 27/100\n",
            " - 0s - loss: 639652370.7032 - mean_absolute_error: 13273.6865 - val_loss: 462530633.6438 - val_mean_absolute_error: 14557.4688\n",
            "Epoch 28/100\n",
            " - 0s - loss: 636673865.1811 - mean_absolute_error: 13185.3438 - val_loss: 457547085.1507 - val_mean_absolute_error: 13994.5430\n",
            "Epoch 29/100\n",
            " - 0s - loss: 630610973.0776 - mean_absolute_error: 13109.8906 - val_loss: 457203119.3425 - val_mean_absolute_error: 13841.7705\n",
            "Epoch 30/100\n",
            " - 0s - loss: 629640148.1887 - mean_absolute_error: 13126.9229 - val_loss: 476778817.7534 - val_mean_absolute_error: 13703.3916\n",
            "Epoch 31/100\n",
            " - 0s - loss: 629710263.1659 - mean_absolute_error: 13015.6641 - val_loss: 457636281.8630 - val_mean_absolute_error: 13957.7881\n",
            "Epoch 32/100\n",
            " - 0s - loss: 625045493.6499 - mean_absolute_error: 12998.6152 - val_loss: 454655044.3836 - val_mean_absolute_error: 13694.8096\n",
            "Epoch 33/100\n",
            " - 0s - loss: 630857263.1233 - mean_absolute_error: 12859.5127 - val_loss: 455148347.6164 - val_mean_absolute_error: 13594.2881\n",
            "Epoch 34/100\n",
            " - 0s - loss: 626523866.2953 - mean_absolute_error: 12890.4053 - val_loss: 470161978.5205 - val_mean_absolute_error: 13629.1211\n",
            "Epoch 35/100\n",
            " - 0s - loss: 616826289.0715 - mean_absolute_error: 12920.4004 - val_loss: 491073109.9178 - val_mean_absolute_error: 13952.7764\n",
            "Epoch 36/100\n",
            " - 0s - loss: 614468892.8798 - mean_absolute_error: 12853.2227 - val_loss: 466583955.9452 - val_mean_absolute_error: 13546.8320\n",
            "Epoch 37/100\n",
            " - 0s - loss: 606022054.3927 - mean_absolute_error: 12776.5049 - val_loss: 457370399.5616 - val_mean_absolute_error: 13546.0869\n",
            "Epoch 38/100\n",
            " - 0s - loss: 605275608.1339 - mean_absolute_error: 12747.4961 - val_loss: 468703829.0411 - val_mean_absolute_error: 13536.5498\n",
            "Epoch 39/100\n",
            " - 0s - loss: 604865697.9726 - mean_absolute_error: 12776.8848 - val_loss: 506087452.4932 - val_mean_absolute_error: 14019.0234\n",
            "Epoch 40/100\n",
            " - 0s - loss: 605764654.7580 - mean_absolute_error: 12659.9238 - val_loss: 448361905.9726 - val_mean_absolute_error: 13713.1787\n",
            "Epoch 41/100\n",
            " - 0s - loss: 599964311.1842 - mean_absolute_error: 12595.9277 - val_loss: 449820920.9863 - val_mean_absolute_error: 14220.1406\n",
            "Epoch 42/100\n",
            " - 0s - loss: 597965763.3607 - mean_absolute_error: 12741.5791 - val_loss: 447726273.3151 - val_mean_absolute_error: 14185.8428\n",
            "Epoch 43/100\n",
            " - 0s - loss: 593284267.9756 - mean_absolute_error: 12598.3369 - val_loss: 464466929.3151 - val_mean_absolute_error: 13373.6328\n",
            "Epoch 44/100\n",
            " - 0s - loss: 585816384.6758 - mean_absolute_error: 12453.7900 - val_loss: 451233294.0274 - val_mean_absolute_error: 13333.3438\n",
            "Epoch 45/100\n",
            " - 0s - loss: 589160751.1781 - mean_absolute_error: 12492.5664 - val_loss: 513720594.4110 - val_mean_absolute_error: 13918.4824\n",
            "Epoch 46/100\n",
            " - 0s - loss: 587315869.6621 - mean_absolute_error: 12438.5742 - val_loss: 483095246.9041 - val_mean_absolute_error: 13512.1299\n",
            "Epoch 47/100\n",
            " - 0s - loss: 576170126.1248 - mean_absolute_error: 12482.5117 - val_loss: 452464584.5479 - val_mean_absolute_error: 13463.8721\n",
            "Epoch 48/100\n",
            " - 0s - loss: 572742774.1857 - mean_absolute_error: 12367.9199 - val_loss: 443223755.3973 - val_mean_absolute_error: 13286.3643\n",
            "Epoch 49/100\n",
            " - 0s - loss: 573881346.0457 - mean_absolute_error: 12258.4463 - val_loss: 574169865.6438 - val_mean_absolute_error: 14747.2041\n",
            "Epoch 50/100\n",
            " - 0s - loss: 578011532.4201 - mean_absolute_error: 12412.4268 - val_loss: 447381208.5479 - val_mean_absolute_error: 13439.1289\n",
            "Epoch 51/100\n",
            " - 0s - loss: 561144384.0000 - mean_absolute_error: 12260.4922 - val_loss: 442216047.3425 - val_mean_absolute_error: 13595.2490\n",
            "Epoch 52/100\n",
            " - 0s - loss: 567132199.4703 - mean_absolute_error: 12198.3506 - val_loss: 472460864.8767 - val_mean_absolute_error: 13332.5449\n",
            "Epoch 53/100\n",
            " - 0s - loss: 557763210.1309 - mean_absolute_error: 12141.0645 - val_loss: 602947795.7260 - val_mean_absolute_error: 15203.5449\n",
            "Epoch 54/100\n",
            " - 0s - loss: 555097429.0411 - mean_absolute_error: 12124.6436 - val_loss: 504444160.0000 - val_mean_absolute_error: 13833.3447\n",
            "Epoch 55/100\n",
            " - 0s - loss: 548035436.4627 - mean_absolute_error: 12063.4482 - val_loss: 489544416.3288 - val_mean_absolute_error: 13486.4033\n",
            "Epoch 56/100\n",
            " - 0s - loss: 551938992.2435 - mean_absolute_error: 12082.6260 - val_loss: 452214650.7397 - val_mean_absolute_error: 13423.3613\n",
            "Epoch 57/100\n",
            " - 0s - loss: 544417150.9224 - mean_absolute_error: 12196.1641 - val_loss: 473480567.6712 - val_mean_absolute_error: 13444.5947\n",
            "Epoch 58/100\n",
            " - 0s - loss: 548326840.3531 - mean_absolute_error: 12036.6006 - val_loss: 453109799.0137 - val_mean_absolute_error: 13361.5029\n",
            "Epoch 59/100\n",
            " - 0s - loss: 542325917.8113 - mean_absolute_error: 12024.3193 - val_loss: 450078533.6986 - val_mean_absolute_error: 13416.1523\n",
            "Epoch 60/100\n",
            " - 0s - loss: 539392708.4528 - mean_absolute_error: 11877.6133 - val_loss: 481698805.0411 - val_mean_absolute_error: 13376.5732\n",
            "Epoch 61/100\n",
            " - 0s - loss: 538119931.8935 - mean_absolute_error: 11987.1064 - val_loss: 456875618.1918 - val_mean_absolute_error: 13243.8408\n",
            "Epoch 62/100\n",
            " - 0s - loss: 533547468.4201 - mean_absolute_error: 11877.2520 - val_loss: 584364264.1096 - val_mean_absolute_error: 14947.2812\n",
            "Epoch 63/100\n",
            " - 0s - loss: 525441837.9376 - mean_absolute_error: 12109.1553 - val_loss: 501497190.3562 - val_mean_absolute_error: 13604.4600\n",
            "Epoch 64/100\n",
            " - 0s - loss: 524801866.4231 - mean_absolute_error: 11744.8750 - val_loss: 472151569.5342 - val_mean_absolute_error: 13369.8018\n",
            "Epoch 65/100\n",
            " - 0s - loss: 517232198.4110 - mean_absolute_error: 11673.7021 - val_loss: 520693500.4932 - val_mean_absolute_error: 13828.8428\n",
            "Epoch 66/100\n",
            " - 0s - loss: 516243613.5647 - mean_absolute_error: 11678.5586 - val_loss: 472131149.0411 - val_mean_absolute_error: 13278.1377\n",
            "Epoch 67/100\n",
            " - 0s - loss: 518993509.0472 - mean_absolute_error: 11825.9453 - val_loss: 484076688.6575 - val_mean_absolute_error: 13408.1465\n",
            "Epoch 68/100\n",
            " - 0s - loss: 515295838.2435 - mean_absolute_error: 11712.9697 - val_loss: 486533108.1644 - val_mean_absolute_error: 13462.6455\n",
            "Epoch 69/100\n",
            " - 0s - loss: 509115415.5129 - mean_absolute_error: 11706.9600 - val_loss: 444053331.7260 - val_mean_absolute_error: 13519.0371\n",
            "Epoch 70/100\n",
            " - 0s - loss: 508239787.0198 - mean_absolute_error: 11584.9639 - val_loss: 461123030.5753 - val_mean_absolute_error: 13303.0283\n",
            "Epoch 71/100\n",
            " - 0s - loss: 504487432.7823 - mean_absolute_error: 11621.2588 - val_loss: 512462013.5890 - val_mean_absolute_error: 13823.1436\n",
            "Epoch 72/100\n",
            " - 0s - loss: 497164201.8874 - mean_absolute_error: 11566.9521 - val_loss: 464768362.9589 - val_mean_absolute_error: 15210.9521\n",
            "Epoch 73/100\n",
            " - 0s - loss: 504713060.2861 - mean_absolute_error: 11595.0781 - val_loss: 486353521.9726 - val_mean_absolute_error: 13519.1426\n",
            "Epoch 74/100\n",
            " - 0s - loss: 497422672.5510 - mean_absolute_error: 11477.8779 - val_loss: 461113392.6575 - val_mean_absolute_error: 13077.1123\n",
            "Epoch 75/100\n",
            " - 0s - loss: 483077582.7215 - mean_absolute_error: 11361.4502 - val_loss: 460979774.4658 - val_mean_absolute_error: 13167.6641\n",
            "Epoch 76/100\n",
            " - 0s - loss: 484982923.7930 - mean_absolute_error: 11400.0566 - val_loss: 444032153.2055 - val_mean_absolute_error: 13399.1494\n",
            "Epoch 77/100\n",
            " - 0s - loss: 487393956.8219 - mean_absolute_error: 11436.5342 - val_loss: 710230921.4247 - val_mean_absolute_error: 16734.5293\n",
            "Epoch 78/100\n",
            " - 0s - loss: 487251264.7306 - mean_absolute_error: 11575.7617 - val_loss: 481667149.8082 - val_mean_absolute_error: 13245.3691\n",
            "Epoch 79/100\n",
            " - 0s - loss: 475711202.0457 - mean_absolute_error: 11268.4189 - val_loss: 477786029.5890 - val_mean_absolute_error: 13277.2666\n",
            "Epoch 80/100\n",
            " - 0s - loss: 465648916.1400 - mean_absolute_error: 11388.3330 - val_loss: 461616433.0959 - val_mean_absolute_error: 13057.1826\n",
            "Epoch 81/100\n",
            " - 0s - loss: 472647582.9772 - mean_absolute_error: 11156.1074 - val_loss: 539649639.0137 - val_mean_absolute_error: 14227.0996\n",
            "Epoch 82/100\n",
            " - 0s - loss: 465079957.8204 - mean_absolute_error: 11354.9609 - val_loss: 452069264.2192 - val_mean_absolute_error: 13971.8281\n",
            "Epoch 83/100\n",
            " - 0s - loss: 467825713.2907 - mean_absolute_error: 11236.4014 - val_loss: 537461759.5616 - val_mean_absolute_error: 13934.3271\n",
            "Epoch 84/100\n",
            " - 0s - loss: 460782850.5571 - mean_absolute_error: 11231.9512 - val_loss: 486094517.4795 - val_mean_absolute_error: 13549.9238\n",
            "Epoch 85/100\n",
            " - 0s - loss: 460909185.6317 - mean_absolute_error: 11110.7275 - val_loss: 446351210.9589 - val_mean_absolute_error: 13273.0586\n",
            "Epoch 86/100\n",
            " - 0s - loss: 456822962.1918 - mean_absolute_error: 11018.2402 - val_loss: 484306632.7671 - val_mean_absolute_error: 13369.0898\n",
            "Epoch 87/100\n",
            " - 0s - loss: 454360261.6560 - mean_absolute_error: 11131.4229 - val_loss: 446116972.7123 - val_mean_absolute_error: 13314.0703\n",
            "Epoch 88/100\n",
            " - 0s - loss: 453532972.2770 - mean_absolute_error: 11023.0322 - val_loss: 477707915.8356 - val_mean_absolute_error: 13277.1709\n",
            "Epoch 89/100\n",
            " - 0s - loss: 448162579.2877 - mean_absolute_error: 10992.6914 - val_loss: 445583684.3836 - val_mean_absolute_error: 14093.9580\n",
            "Epoch 90/100\n",
            " - 0s - loss: 450141938.8912 - mean_absolute_error: 11073.3223 - val_loss: 477918151.0137 - val_mean_absolute_error: 13273.0732\n",
            "Epoch 91/100\n",
            " - 0s - loss: 438312340.9072 - mean_absolute_error: 10901.7705 - val_loss: 505353134.9041 - val_mean_absolute_error: 13627.1611\n",
            "Epoch 92/100\n",
            " - 0s - loss: 439313708.9072 - mean_absolute_error: 10998.2988 - val_loss: 441514893.3151 - val_mean_absolute_error: 13383.4795\n",
            "Epoch 93/100\n",
            " - 0s - loss: 440191316.3592 - mean_absolute_error: 10985.2910 - val_loss: 445285266.8493 - val_mean_absolute_error: 13876.1357\n",
            "Epoch 94/100\n",
            " - 0s - loss: 438591030.9346 - mean_absolute_error: 10829.7119 - val_loss: 491548156.4932 - val_mean_absolute_error: 13225.9619\n",
            "Epoch 95/100\n",
            " - 0s - loss: 431899501.0533 - mean_absolute_error: 10809.9043 - val_loss: 502266259.2877 - val_mean_absolute_error: 13794.7949\n",
            "Epoch 96/100\n",
            " - 0s - loss: 426230571.6895 - mean_absolute_error: 10767.3359 - val_loss: 462509130.4110 - val_mean_absolute_error: 13543.3604\n",
            "Epoch 97/100\n",
            " - 0s - loss: 424177972.5297 - mean_absolute_error: 10717.6504 - val_loss: 457009039.6712 - val_mean_absolute_error: 13492.4014\n",
            "Epoch 98/100\n",
            " - 0s - loss: 413976787.7382 - mean_absolute_error: 10847.1709 - val_loss: 475330860.2740 - val_mean_absolute_error: 13284.0088\n",
            "Epoch 99/100\n",
            " - 0s - loss: 406970784.4627 - mean_absolute_error: 10740.3643 - val_loss: 462185238.6849 - val_mean_absolute_error: 13156.3027\n",
            "Epoch 100/100\n",
            " - 0s - loss: 415922934.1857 - mean_absolute_error: 10535.4785 - val_loss: 530957652.1644 - val_mean_absolute_error: 14082.1104\n"
          ],
          "name": "stdout"
        }
      ]
    },
    {
      "cell_type": "markdown",
      "metadata": {
        "id": "sg1tLyjTsiuJ",
        "colab_type": "text"
      },
      "source": [
        "## Готовим данные для предсказания"
      ]
    },
    {
      "cell_type": "code",
      "metadata": {
        "id": "EuyJxowUslmh",
        "colab_type": "code",
        "colab": {}
      },
      "source": [
        "test = pd.read_csv('test.csv')\n",
        "\n",
        "test = clear_data(test)\n",
        "\n",
        "test_numerical = test[numerical_features]\n",
        "test_categorical = test[categorical_features]\n",
        "\n",
        "# Подготовка числовых признаков\n",
        "test_numerical = test_numerical.fillna(test_numerical.median())\n",
        "test_numerical -= mean\n",
        "test_numerical /= std\n",
        "\n",
        "# Подготовка категориальных признаков\n",
        "test_categorical = pd.get_dummies(test_categorical)\n",
        "additional_columns = []\n",
        "for column in train_categorical.columns:\n",
        "    if column not in test_categorical.columns:\n",
        "        additional_columns.append(column)\n",
        "        test_categorical[column] = 0\n",
        "        \n",
        "# Объединение\n",
        "x_test = pd.concat([test_numerical[train_numerical.columns], test_categorical[train_categorical.columns]], axis = 1)"
      ],
      "execution_count": 0,
      "outputs": []
    },
    {
      "cell_type": "markdown",
      "metadata": {
        "id": "tFeAAM9gyKNd",
        "colab_type": "text"
      },
      "source": [
        "## Запускаем предсказание"
      ]
    },
    {
      "cell_type": "code",
      "metadata": {
        "id": "B9SSHfwTyJlG",
        "colab_type": "code",
        "colab": {}
      },
      "source": [
        "predictions = model.predict(x_test)"
      ],
      "execution_count": 0,
      "outputs": []
    },
    {
      "cell_type": "code",
      "metadata": {
        "id": "2DcmFSaMz6hg",
        "colab_type": "code",
        "outputId": "7d6cc9ff-2cb3-4bab-a535-3f831615f94d",
        "colab": {
          "base_uri": "https://localhost:8080/",
          "height": 357
        }
      },
      "source": [
        "predictions[:20]"
      ],
      "execution_count": 47,
      "outputs": [
        {
          "output_type": "execute_result",
          "data": {
            "text/plain": [
              "array([[126397.74],\n",
              "       [176286.34],\n",
              "       [189142.83],\n",
              "       [202781.7 ],\n",
              "       [206140.23],\n",
              "       [182279.23],\n",
              "       [184382.94],\n",
              "       [172734.58],\n",
              "       [191374.61],\n",
              "       [130962.69],\n",
              "       [182783.06],\n",
              "       [104898.47],\n",
              "       [100629.55],\n",
              "       [150488.19],\n",
              "       [119631.32],\n",
              "       [370577.7 ],\n",
              "       [252676.72],\n",
              "       [275636.25],\n",
              "       [274026.22],\n",
              "       [489648.12]], dtype=float32)"
            ]
          },
          "metadata": {
            "tags": []
          },
          "execution_count": 47
        }
      ]
    },
    {
      "cell_type": "markdown",
      "metadata": {
        "id": "LVbtj2izKZ5y",
        "colab_type": "text"
      },
      "source": [
        "# Подготовка решения для Kaggle"
      ]
    },
    {
      "cell_type": "markdown",
      "metadata": {
        "id": "d-nbq5mA0OMO",
        "colab_type": "text"
      },
      "source": [
        "## Готовим решение для Kaggle"
      ]
    },
    {
      "cell_type": "code",
      "metadata": {
        "id": "RU4Wz1Lg0Q0G",
        "colab_type": "code",
        "colab": {}
      },
      "source": [
        "out = np.column_stack((test['Id'], predictions))"
      ],
      "execution_count": 0,
      "outputs": []
    },
    {
      "cell_type": "code",
      "metadata": {
        "id": "Y-8Lzye70akf",
        "colab_type": "code",
        "outputId": "e533b5e5-f142-4369-f336-16898a4594f8",
        "colab": {
          "base_uri": "https://localhost:8080/",
          "height": 187
        }
      },
      "source": [
        "out[:10]"
      ],
      "execution_count": 49,
      "outputs": [
        {
          "output_type": "execute_result",
          "data": {
            "text/plain": [
              "array([[  1461.       , 126397.7421875],\n",
              "       [  1462.       , 176286.34375  ],\n",
              "       [  1463.       , 189142.828125 ],\n",
              "       [  1464.       , 202781.703125 ],\n",
              "       [  1465.       , 206140.234375 ],\n",
              "       [  1466.       , 182279.234375 ],\n",
              "       [  1467.       , 184382.9375   ],\n",
              "       [  1468.       , 172734.578125 ],\n",
              "       [  1469.       , 191374.609375 ],\n",
              "       [  1470.       , 130962.6875   ]])"
            ]
          },
          "metadata": {
            "tags": []
          },
          "execution_count": 49
        }
      ]
    },
    {
      "cell_type": "code",
      "metadata": {
        "id": "ID6HGH7D1haY",
        "colab_type": "code",
        "colab": {}
      },
      "source": [
        "np.savetxt('submission.csv', out, header=\"Id,SalePrice\", \n",
        "            comments=\"\", fmt=\"%d,%f\")"
      ],
      "execution_count": 0,
      "outputs": []
    },
    {
      "cell_type": "code",
      "metadata": {
        "id": "vyZgHHzs1uZt",
        "colab_type": "code",
        "outputId": "c3d165a1-f958-431a-dbdd-f90a412197c4",
        "colab": {
          "base_uri": "https://localhost:8080/",
          "height": 187
        }
      },
      "source": [
        "!head submission.csv"
      ],
      "execution_count": 51,
      "outputs": [
        {
          "output_type": "stream",
          "text": [
            "Id,SalePrice\n",
            "1461,126397.742188\n",
            "1462,176286.343750\n",
            "1463,189142.828125\n",
            "1464,202781.703125\n",
            "1465,206140.234375\n",
            "1466,182279.234375\n",
            "1467,184382.937500\n",
            "1468,172734.578125\n",
            "1469,191374.609375\n"
          ],
          "name": "stdout"
        }
      ]
    },
    {
      "cell_type": "markdown",
      "metadata": {
        "id": "j1hxNRlw1yGs",
        "colab_type": "text"
      },
      "source": [
        "## Отправляем решение на Kaggle"
      ]
    },
    {
      "cell_type": "code",
      "metadata": {
        "id": "sv0BWDaD10hN",
        "colab_type": "code",
        "outputId": "8cc5631a-2a68-4683-e67d-b681389ae04a",
        "colab": {
          "base_uri": "https://localhost:8080/",
          "height": 68
        }
      },
      "source": [
        "!kaggle competitions submit -c house-prices-advanced-regression-techniques -m \"Baseline submition from Colab\" -f submission.csv"
      ],
      "execution_count": 52,
      "outputs": [
        {
          "output_type": "stream",
          "text": [
            "Warning: Your Kaggle API key is readable by other users on this system! To fix this, you can run 'chmod 600 /root/.kaggle/kaggle.json'\n",
            "100% 27.0k/27.0k [00:00<00:00, 105kB/s]\n",
            "Successfully submitted to House Prices: Advanced Regression Techniques"
          ],
          "name": "stdout"
        }
      ]
    }
  ]
}