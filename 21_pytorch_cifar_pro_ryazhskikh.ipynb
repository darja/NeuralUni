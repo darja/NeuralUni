{
  "nbformat": 4,
  "nbformat_minor": 0,
  "metadata": {
    "colab": {
      "name": "21_pytorch_cifar_pro_ryazhskikh.ipynb",
      "version": "0.3.2",
      "provenance": [],
      "collapsed_sections": [
        "5lWrgr6reIou"
      ],
      "toc_visible": true,
      "include_colab_link": true
    },
    "kernelspec": {
      "name": "python3",
      "display_name": "Python 3"
    },
    "accelerator": "GPU"
  },
  "cells": [
    {
      "cell_type": "markdown",
      "metadata": {
        "id": "view-in-github",
        "colab_type": "text"
      },
      "source": [
        "<a href=\"https://colab.research.google.com/github/darja/NeuralUni/blob/master/21_pytorch_cifar_pro_ryazhskikh.ipynb\" target=\"_parent\"><img src=\"https://colab.research.google.com/assets/colab-badge.svg\" alt=\"Open In Colab\"/></a>"
      ]
    },
    {
      "cell_type": "markdown",
      "metadata": {
        "id": "bbvZER1icT7v",
        "colab_type": "text"
      },
      "source": [
        "# Классификация изображений с помощью PyTorch\n",
        "\n",
        "**Входные параметры:**\n",
        "\n",
        "Готовая архитектура сети CustomNet для распознования CIFAR-10\n",
        "\n",
        "**Задание:**\n",
        "1. Обучить сверточную сеть на датасете CIFAR-10 с разными функциями активациями, добавить слои свертки и пулинга, добавить нейронов и написать отчет об изменениях точностей.\n",
        "2. Получить accuracy близкий к 0.8 и выше\n",
        "3. Доп задание по желанию: получить score >= 0.75 на датасете CIFAR-100"
      ]
    },
    {
      "cell_type": "markdown",
      "metadata": {
        "id": "LwS54PdDc5qC",
        "colab_type": "text"
      },
      "source": [
        "# Подготовка окружения"
      ]
    },
    {
      "cell_type": "code",
      "metadata": {
        "id": "mIUJx6aicIuV",
        "colab_type": "code",
        "colab": {}
      },
      "source": [
        "import torchvision.datasets\n",
        "import torch\n",
        "import torch.nn as nn\n",
        "from torchsummary import summary\n",
        "from collections import OrderedDict\n",
        "\n",
        "import numpy as np\n",
        "from matplotlib import pyplot as plt"
      ],
      "execution_count": 0,
      "outputs": []
    },
    {
      "cell_type": "code",
      "metadata": {
        "id": "hwDg8SMuew47",
        "colab_type": "code",
        "colab": {}
      },
      "source": [
        "device = torch.device('cuda:0' if torch.cuda.is_available() else 'cpu')"
      ],
      "execution_count": 0,
      "outputs": []
    },
    {
      "cell_type": "markdown",
      "metadata": {
        "id": "AKIIaDNgc8p_",
        "colab_type": "text"
      },
      "source": [
        "# Подготовка входных данных"
      ]
    },
    {
      "cell_type": "code",
      "metadata": {
        "id": "hROANfK5dAzF",
        "colab_type": "code",
        "outputId": "862e973f-ebf4-4950-c7fe-0d56dadde83e",
        "colab": {
          "base_uri": "https://localhost:8080/",
          "height": 68
        }
      },
      "source": [
        "cifar_train = torchvision.datasets.CIFAR10('./',download=True,train=True)\n",
        "cifar_test = torchvision.datasets.CIFAR10('./',download=True,train=False)\n",
        "\n",
        "X_train = torch.FloatTensor(cifar_train.data)\n",
        "y_train = torch.LongTensor(cifar_train.targets)\n",
        "\n",
        "X_test = torch.FloatTensor(cifar_test.data)\n",
        "y_test = torch.LongTensor(cifar_test.targets)\n",
        "\n",
        "# Нормализация\n",
        "X_train /= 255.\n",
        "X_test /= 255.\n",
        "\n",
        "# меняем порядок размерности\n",
        "X_train = X_train.permute(0,3,1,2)\n",
        "X_test = X_test.permute(0,3,1,2)"
      ],
      "execution_count": 0,
      "outputs": [
        {
          "output_type": "stream",
          "text": [
            "\r0it [00:00, ?it/s]"
          ],
          "name": "stderr"
        },
        {
          "output_type": "stream",
          "text": [
            "Downloading https://www.cs.toronto.edu/~kriz/cifar-10-python.tar.gz to ./cifar-10-python.tar.gz\n"
          ],
          "name": "stdout"
        },
        {
          "output_type": "stream",
          "text": [
            "170500096it [00:02, 68360610.63it/s]                               \n"
          ],
          "name": "stderr"
        },
        {
          "output_type": "stream",
          "text": [
            "Files already downloaded and verified\n"
          ],
          "name": "stdout"
        }
      ]
    },
    {
      "cell_type": "markdown",
      "metadata": {
        "id": "Ot7QdjXhdotL",
        "colab_type": "text"
      },
      "source": [
        "## Просмотр входных данных"
      ]
    },
    {
      "cell_type": "code",
      "metadata": {
        "id": "MwqeYzEYdGNm",
        "colab_type": "code",
        "outputId": "2e07e666-5143-48af-fda7-4d4d00f90673",
        "colab": {
          "base_uri": "https://localhost:8080/",
          "height": 187
        }
      },
      "source": [
        "cifar_train.classes"
      ],
      "execution_count": 0,
      "outputs": [
        {
          "output_type": "execute_result",
          "data": {
            "text/plain": [
              "['airplane',\n",
              " 'automobile',\n",
              " 'bird',\n",
              " 'cat',\n",
              " 'deer',\n",
              " 'dog',\n",
              " 'frog',\n",
              " 'horse',\n",
              " 'ship',\n",
              " 'truck']"
            ]
          },
          "metadata": {
            "tags": []
          },
          "execution_count": 4
        }
      ]
    },
    {
      "cell_type": "code",
      "metadata": {
        "id": "VqplJQg3drPN",
        "colab_type": "code",
        "outputId": "92802fab-52a9-4915-cb17-fb1a16ecbc27",
        "colab": {
          "base_uri": "https://localhost:8080/",
          "height": 102
        }
      },
      "source": [
        "print(\"Train dataset: \", X_train.shape)\n",
        "print(\"Train labels: \", y_train.shape)\n",
        "print(\"\\nTest dataset: \", X_test.shape)\n",
        "print(\"Test labels: \", y_test.shape)"
      ],
      "execution_count": 0,
      "outputs": [
        {
          "output_type": "stream",
          "text": [
            "Train dataset:  torch.Size([50000, 3, 32, 32])\n",
            "Train labels:  torch.Size([50000])\n",
            "\n",
            "Test dataset:  torch.Size([10000, 3, 32, 32])\n",
            "Test labels:  torch.Size([10000])\n"
          ],
          "name": "stdout"
        }
      ]
    },
    {
      "cell_type": "markdown",
      "metadata": {
        "id": "euSEYiaRc-cv",
        "colab_type": "text"
      },
      "source": [
        "# Нейросеть"
      ]
    },
    {
      "cell_type": "markdown",
      "metadata": {
        "id": "5lWrgr6reIou",
        "colab_type": "text"
      },
      "source": [
        "## Классы-помощники"
      ]
    },
    {
      "cell_type": "code",
      "metadata": {
        "id": "mmlpLmsLYBwX",
        "colab_type": "code",
        "colab": {}
      },
      "source": [
        "class ConvBlock(nn.Sequential):\n",
        "    def __init__(self, args):\n",
        "        in_features, out_features, kernel, padding, dropout = args\n",
        "        super().__init__(\n",
        "            nn.Conv2d(in_features, out_features, kernel, padding = padding),\n",
        "            nn.ReLU(),\n",
        "            nn.BatchNorm2d(out_features),\n",
        "            nn.Conv2d(out_features, out_features, kernel, padding = padding),\n",
        "            nn.ReLU(),\n",
        "            nn.MaxPool2d(2, 2),\n",
        "#             nn.Dropout2d(dropout),\n",
        "            nn.BatchNorm2d(out_features),\n",
        "        )\n",
        "\n",
        "        \n",
        "class DenseBlock(nn.Sequential):\n",
        "    def __init__(self, args):\n",
        "        in_features, out_features, dropout = args\n",
        "        super().__init__(\n",
        "            nn.Linear(in_features, out_features),\n",
        "#             nn.ReLU(),\n",
        "            nn.Tanh(),\n",
        "            nn.BatchNorm1d(out_features),\n",
        "#             nn.Dropout(dropout)\n",
        "        )\n",
        "\n",
        "class CustomNet(nn.Module):\n",
        "    def __init__(self, conv_structure, classification_structure):\n",
        "        super(CustomNet,self).__init__()\n",
        "        self.bn0 = nn.BatchNorm2d(3)\n",
        "        \n",
        "        conv_blocks = OrderedDict()\n",
        "        for i in range(len(conv_structure)):\n",
        "            conv_blocks[f\"Conv_{i}\"] = ConvBlock(conv_structure[i])\n",
        "        self.conv_sequence = nn.Sequential(conv_blocks)\n",
        "        print(\"*** Convolution part ***\\n\", self.conv_sequence)\n",
        "        \n",
        "        classification_blocks = OrderedDict()\n",
        "        for i in range(len(classification_structure)):\n",
        "            classification_blocks[f\"Class_{i}\"] = DenseBlock(classification_structure[i])\n",
        "        self.classification_sequence = nn.Sequential(classification_blocks)\n",
        "        print(\"\\n*** Classification part ***\\n\", self.classification_sequence)\n",
        "\n",
        "    def forward(self, x):\n",
        "        x = self.bn0(x)\n",
        "        x = self.conv_sequence(x)\n",
        "        \n",
        "        x = x.view(x.size(0), x.size(1) * x.size(2) * x.size(3))\n",
        "\n",
        "        x = self.classification_sequence(x)\n",
        "        return x\n",
        "    \n",
        "class FitMetrics:\n",
        "    def __init__(self):\n",
        "        self.train_acc = []\n",
        "        self.val_acc = []\n",
        "        self.train_loss = []\n",
        "        self.val_loss = []\n",
        "        self.batch_size = 1000\n",
        "        \n",
        "    def eval_dataset(self, model, dataset, expected):\n",
        "        n = len(dataset)\n",
        "        dataset_loss = []\n",
        "        dataset_acc = []\n",
        "        for start_index in range(0, n, self.batch_size):\n",
        "            print(\"\\r\", end=f\"Epoch {epoch}: \")\n",
        "\n",
        "            X_batch = dataset[start_index:start_index + batch_size].to(device)\n",
        "            y_batch = expected[start_index:start_index + batch_size].to(device)\n",
        "\n",
        "            predictions = custom_net.forward(X_batch)\n",
        "            dataset_loss.append(loss(predictions, y_batch).data.cpu())\n",
        "            dataset_acc.append((predictions.argmax(dim=1) == y_batch).float().mean().data.cpu())\n",
        "            \n",
        "        return np.mean(dataset_loss), np.mean(dataset_acc)\n",
        "    \n",
        "    def append(self, model, X_train, y_train, X_test, y_test):\n",
        "        train_loss, train_acc = self.eval_dataset(model, X_train, y_train)\n",
        "        val_loss, val_acc = self.eval_dataset(model, X_test, y_test)\n",
        "        \n",
        "        self.train_loss.append(train_loss)\n",
        "        self.train_acc.append(train_acc)\n",
        "        self.val_loss.append(val_loss)\n",
        "        self.val_acc.append(val_acc)\n",
        "        \n",
        "    def latest_summary(self):\n",
        "        return f\"loss: {self.train_loss[-1]}, acc: {self.train_acc[-1]}, val_loss: {self.val_loss[-1]}, val_acc: {self.val_acc[-1]}\""
      ],
      "execution_count": 0,
      "outputs": []
    },
    {
      "cell_type": "markdown",
      "metadata": {
        "id": "dUIL3ItoeVHO",
        "colab_type": "text"
      },
      "source": [
        "## Создание нейросети"
      ]
    },
    {
      "cell_type": "code",
      "metadata": {
        "id": "Z6-li7LcouCt",
        "colab_type": "code",
        "outputId": "171e9a80-2b69-4319-cda7-7c9f116c5b4b",
        "colab": {
          "base_uri": "https://localhost:8080/",
          "height": 1000
        }
      },
      "source": [
        "np.random.seed(0)\n",
        "torch.manual_seed(0)\n",
        "torch.cuda.manual_seed(0)\n",
        "torch.backends.cudnn.deterministic = True\n",
        "\n",
        "device = torch.device(\"cuda\" if torch.cuda.is_available() else \"cpu\")\n",
        "# custom_net = CustomNet(\n",
        "#     conv_structure = [\n",
        "#         (3, 16, 3, 1), \n",
        "#         (16, 32, 3, 1),\n",
        "#         (32, 64, 3, 1)],\n",
        "#     classification_structure = [\n",
        "#         (4 * 4 * 64, 256),\n",
        "#         (256, 64),\n",
        "#         (64, 10)\n",
        "#     ]\n",
        "# ).to(device)\n",
        "\n",
        "# custom_net = CustomNet(\n",
        "#     conv_structure = [\n",
        "#         (3, 16, 3, 1, 0.3), \n",
        "#         (16, 32, 3, 1, 0.3),\n",
        "#         (32, 64, 3, 1, 0.3)],\n",
        "#     classification_structure = [\n",
        "#         (4 * 4 * 64, 1000, 0.1),\n",
        "#         (1000, 10, 0)\n",
        "#     ]\n",
        "# ).to(device)\n",
        "\n",
        "custom_net = CustomNet(\n",
        "    conv_structure = [\n",
        "        (3, 32, 3, 1, 0.1),\n",
        "        (32, 64, 3, 1, 0.1),\n",
        "        (64, 128, 3, 1, 0.1)],\n",
        "    classification_structure = [\n",
        "        (2048, 128, 0.1),\n",
        "        (128, 10, 0)\n",
        "    ]\n",
        ").to(device)\n",
        "\n",
        "summary(custom_net, (3, 32, 32))\n",
        "\n",
        "\n",
        "loss = torch.nn.CrossEntropyLoss()\n",
        "optimizer = torch.optim.Adam(custom_net.parameters(),lr=1.0e-3)"
      ],
      "execution_count": 0,
      "outputs": [
        {
          "output_type": "stream",
          "text": [
            "*** Convolution part ***\n",
            " Sequential(\n",
            "  (Conv_0): ConvBlock(\n",
            "    (0): Conv2d(3, 32, kernel_size=(3, 3), stride=(1, 1), padding=(1, 1))\n",
            "    (1): ReLU()\n",
            "    (2): BatchNorm2d(32, eps=1e-05, momentum=0.1, affine=True, track_running_stats=True)\n",
            "    (3): Conv2d(32, 32, kernel_size=(3, 3), stride=(1, 1), padding=(1, 1))\n",
            "    (4): ReLU()\n",
            "    (5): MaxPool2d(kernel_size=2, stride=2, padding=0, dilation=1, ceil_mode=False)\n",
            "    (6): BatchNorm2d(32, eps=1e-05, momentum=0.1, affine=True, track_running_stats=True)\n",
            "  )\n",
            "  (Conv_1): ConvBlock(\n",
            "    (0): Conv2d(32, 64, kernel_size=(3, 3), stride=(1, 1), padding=(1, 1))\n",
            "    (1): ReLU()\n",
            "    (2): BatchNorm2d(64, eps=1e-05, momentum=0.1, affine=True, track_running_stats=True)\n",
            "    (3): Conv2d(64, 64, kernel_size=(3, 3), stride=(1, 1), padding=(1, 1))\n",
            "    (4): ReLU()\n",
            "    (5): MaxPool2d(kernel_size=2, stride=2, padding=0, dilation=1, ceil_mode=False)\n",
            "    (6): BatchNorm2d(64, eps=1e-05, momentum=0.1, affine=True, track_running_stats=True)\n",
            "  )\n",
            "  (Conv_2): ConvBlock(\n",
            "    (0): Conv2d(64, 128, kernel_size=(3, 3), stride=(1, 1), padding=(1, 1))\n",
            "    (1): ReLU()\n",
            "    (2): BatchNorm2d(128, eps=1e-05, momentum=0.1, affine=True, track_running_stats=True)\n",
            "    (3): Conv2d(128, 128, kernel_size=(3, 3), stride=(1, 1), padding=(1, 1))\n",
            "    (4): ReLU()\n",
            "    (5): MaxPool2d(kernel_size=2, stride=2, padding=0, dilation=1, ceil_mode=False)\n",
            "    (6): BatchNorm2d(128, eps=1e-05, momentum=0.1, affine=True, track_running_stats=True)\n",
            "  )\n",
            ")\n",
            "\n",
            "*** Classification part ***\n",
            " Sequential(\n",
            "  (Class_0): DenseBlock(\n",
            "    (0): Linear(in_features=2048, out_features=128, bias=True)\n",
            "    (1): Tanh()\n",
            "    (2): BatchNorm1d(128, eps=1e-05, momentum=0.1, affine=True, track_running_stats=True)\n",
            "  )\n",
            "  (Class_1): DenseBlock(\n",
            "    (0): Linear(in_features=128, out_features=10, bias=True)\n",
            "    (1): Tanh()\n",
            "    (2): BatchNorm1d(10, eps=1e-05, momentum=0.1, affine=True, track_running_stats=True)\n",
            "  )\n",
            ")\n",
            "----------------------------------------------------------------\n",
            "        Layer (type)               Output Shape         Param #\n",
            "================================================================\n",
            "       BatchNorm2d-1            [-1, 3, 32, 32]               6\n",
            "            Conv2d-2           [-1, 32, 32, 32]             896\n",
            "              ReLU-3           [-1, 32, 32, 32]               0\n",
            "       BatchNorm2d-4           [-1, 32, 32, 32]              64\n",
            "            Conv2d-5           [-1, 32, 32, 32]           9,248\n",
            "              ReLU-6           [-1, 32, 32, 32]               0\n",
            "         MaxPool2d-7           [-1, 32, 16, 16]               0\n",
            "       BatchNorm2d-8           [-1, 32, 16, 16]              64\n",
            "            Conv2d-9           [-1, 64, 16, 16]          18,496\n",
            "             ReLU-10           [-1, 64, 16, 16]               0\n",
            "      BatchNorm2d-11           [-1, 64, 16, 16]             128\n",
            "           Conv2d-12           [-1, 64, 16, 16]          36,928\n",
            "             ReLU-13           [-1, 64, 16, 16]               0\n",
            "        MaxPool2d-14             [-1, 64, 8, 8]               0\n",
            "      BatchNorm2d-15             [-1, 64, 8, 8]             128\n",
            "           Conv2d-16            [-1, 128, 8, 8]          73,856\n",
            "             ReLU-17            [-1, 128, 8, 8]               0\n",
            "      BatchNorm2d-18            [-1, 128, 8, 8]             256\n",
            "           Conv2d-19            [-1, 128, 8, 8]         147,584\n",
            "             ReLU-20            [-1, 128, 8, 8]               0\n",
            "        MaxPool2d-21            [-1, 128, 4, 4]               0\n",
            "      BatchNorm2d-22            [-1, 128, 4, 4]             256\n",
            "           Linear-23                  [-1, 128]         262,272\n",
            "             Tanh-24                  [-1, 128]               0\n",
            "      BatchNorm1d-25                  [-1, 128]             256\n",
            "           Linear-26                   [-1, 10]           1,290\n",
            "             Tanh-27                   [-1, 10]               0\n",
            "      BatchNorm1d-28                   [-1, 10]              20\n",
            "================================================================\n",
            "Total params: 551,748\n",
            "Trainable params: 551,748\n",
            "Non-trainable params: 0\n",
            "----------------------------------------------------------------\n",
            "Input size (MB): 0.01\n",
            "Forward/backward pass size (MB): 2.43\n",
            "Params size (MB): 2.10\n",
            "Estimated Total Size (MB): 4.55\n",
            "----------------------------------------------------------------\n"
          ],
          "name": "stdout"
        }
      ]
    },
    {
      "cell_type": "markdown",
      "metadata": {
        "id": "CAK9Il2dxtqP",
        "colab_type": "text"
      },
      "source": [
        "## Обучение нейросети"
      ]
    },
    {
      "cell_type": "markdown",
      "metadata": {
        "id": "cKpBrCSiS5Nv",
        "colab_type": "text"
      },
      "source": [
        "### Обучение с увеличением batch_size"
      ]
    },
    {
      "cell_type": "code",
      "metadata": {
        "id": "QDpf8L5r8pQw",
        "colab_type": "code",
        "outputId": "30ffa1cc-2fc1-4d72-c9ef-f175e5f966c8",
        "colab": {
          "base_uri": "https://localhost:8080/",
          "height": 725
        }
      },
      "source": [
        "batch_size = 64\n",
        "\n",
        "n = len(X_train)\n",
        "metrics = FitMetrics()\n",
        "\n",
        "for epoch in range(100):\n",
        "    order = np.random.permutation(n)\n",
        "    \n",
        "    if batch_size > 10 and epoch > 0 and epoch % 10 == 0:\n",
        "        batch_size *= 2\n",
        "        print(f\"Changing batch size to {batch_size}\")\n",
        "  \n",
        "    print(\"\\r\", end=f\"Epoch {epoch}: \")\n",
        "    for start_index in range(0, n, batch_size):\n",
        "        \n",
        "        optimizer.zero_grad()\n",
        "        batch_indexes = order[start_index:start_index + batch_size]\n",
        "\n",
        "        X_batch = X_train[batch_indexes].to(device)\n",
        "        y_batch = y_train[batch_indexes].to(device)\n",
        "\n",
        "        preds = custom_net.forward(X_batch)\n",
        "\n",
        "        loss_value = loss(preds, y_batch)\n",
        "        loss_value.backward()\n",
        "\n",
        "        optimizer.step()\n",
        "    \n",
        "    # Calculate train acc and loss\n",
        "    metrics.append(custom_net, X_train, y_train, X_test, y_test)\n",
        "    print(metrics.latest_summary())"
      ],
      "execution_count": 0,
      "outputs": [
        {
          "output_type": "stream",
          "text": [
            "Epoch 0: loss: 0.24898378551006317, acc: 0.9140625, val_loss: 0.780524730682373, val_acc: 0.7984374761581421\n",
            "Epoch 1: loss: 0.17665189504623413, acc: 0.948437511920929, val_loss: 0.794297456741333, val_acc: 0.796875\n",
            "Epoch 2: loss: 0.15142998099327087, acc: 0.9512500166893005, val_loss: 0.8326318860054016, val_acc: 0.800000011920929\n",
            "Epoch 3: loss: 0.14354398846626282, acc: 0.9587500095367432, val_loss: 0.8564239740371704, val_acc: 0.8046875\n",
            "Epoch 4: loss: 0.13065572082996368, acc: 0.9612500071525574, val_loss: 0.8048824071884155, val_acc: 0.8046875\n",
            "Epoch 5: loss: 0.12028111517429352, acc: 0.9649999737739563, val_loss: 0.7691403031349182, val_acc: 0.823437511920929\n",
            "Epoch 6: loss: 0.12029814720153809, acc: 0.9649999737739563, val_loss: 0.8838310241699219, val_acc: 0.7906249761581421\n",
            "Epoch 7: loss: 0.10281746089458466, acc: 0.9681249856948853, val_loss: 0.9300910234451294, val_acc: 0.784375011920929\n",
            "Epoch 8: loss: 0.11233110725879669, acc: 0.9674999713897705, val_loss: 0.8105842471122742, val_acc: 0.8140624761581421\n",
            "Epoch 9: loss: 0.09773420542478561, acc: 0.9721875190734863, val_loss: 0.8762437105178833, val_acc: 0.817187488079071\n",
            "Changing batch size to 128\n",
            "Epoch 10: loss: 0.022633610293269157, acc: 0.9948437213897705, val_loss: 0.6869691014289856, val_acc: 0.8515625\n",
            "Epoch 11: loss: 0.01782449334859848, acc: 0.9967187643051147, val_loss: 0.7035773992538452, val_acc: 0.850781261920929\n",
            "Epoch 12: loss: 0.01376109104603529, acc: 0.9976562261581421, val_loss: 0.7077769041061401, val_acc: 0.848437488079071\n",
            "Epoch 13: loss: 0.01000633742660284, acc: 0.9984375238418579, val_loss: 0.7728629112243652, val_acc: 0.84375\n",
            "Epoch 14: loss: 0.01635107584297657, acc: 0.9964062571525574, val_loss: 0.8019490242004395, val_acc: 0.8414062261581421\n",
            "Epoch 15: loss: 0.04489690810441971, acc: 0.9879687428474426, val_loss: 0.8342353701591492, val_acc: 0.824999988079071\n",
            "Epoch 16: loss: 0.051454558968544006, acc: 0.9854687452316284, val_loss: 0.8550956845283508, val_acc: 0.824999988079071\n",
            "Epoch 17: loss: 0.04363734647631645, acc: 0.9870312213897705, val_loss: 0.828819751739502, val_acc: 0.8343750238418579\n",
            "Epoch 18: loss: 0.037149667739868164, acc: 0.987500011920929, val_loss: 0.904065728187561, val_acc: 0.8257812261581421\n",
            "Epoch 19: loss: 0.035887837409973145, acc: 0.9895312786102295, val_loss: 0.8253793716430664, val_acc: 0.840624988079071\n",
            "Changing batch size to 256\n",
            "Epoch 20: loss: 0.007728911004960537, acc: 0.9984375238418579, val_loss: 0.8251048922538757, val_acc: 0.8359375\n",
            "Epoch 21: loss: 0.005631140433251858, acc: 0.9990624785423279, val_loss: 0.8343502283096313, val_acc: 0.837109386920929\n",
            "Epoch 22: loss: 0.004945862106978893, acc: 0.9990624785423279, val_loss: 0.8534393310546875, val_acc: 0.839062511920929\n",
            "Epoch 23: loss: 0.004143342841416597, acc: 0.999218761920929, val_loss: 0.8493533134460449, val_acc: 0.8394531011581421\n",
            "Epoch 24: loss: 0.0039241681806743145, acc: 0.999218761920929, val_loss: 0.8504441976547241, val_acc: 0.8402343988418579\n",
            "Epoch 25: loss: 0.0037389309145510197, acc: 0.999218761920929, val_loss: 0.8507771492004395, val_acc: 0.83984375\n",
            "Epoch 26: "
          ],
          "name": "stdout"
        },
        {
          "output_type": "error",
          "ename": "KeyboardInterrupt",
          "evalue": "ignored",
          "traceback": [
            "\u001b[0;31m---------------------------------------------------------------------------\u001b[0m",
            "\u001b[0;31mKeyboardInterrupt\u001b[0m                         Traceback (most recent call last)",
            "\u001b[0;32m<ipython-input-36-3b1cca9bc660>\u001b[0m in \u001b[0;36m<module>\u001b[0;34m()\u001b[0m\n\u001b[1;32m     17\u001b[0m         \u001b[0mbatch_indexes\u001b[0m \u001b[0;34m=\u001b[0m \u001b[0morder\u001b[0m\u001b[0;34m[\u001b[0m\u001b[0mstart_index\u001b[0m\u001b[0;34m:\u001b[0m\u001b[0mstart_index\u001b[0m \u001b[0;34m+\u001b[0m \u001b[0mbatch_size\u001b[0m\u001b[0;34m]\u001b[0m\u001b[0;34m\u001b[0m\u001b[0;34m\u001b[0m\u001b[0m\n\u001b[1;32m     18\u001b[0m \u001b[0;34m\u001b[0m\u001b[0m\n\u001b[0;32m---> 19\u001b[0;31m         \u001b[0mX_batch\u001b[0m \u001b[0;34m=\u001b[0m \u001b[0mX_train\u001b[0m\u001b[0;34m[\u001b[0m\u001b[0mbatch_indexes\u001b[0m\u001b[0;34m]\u001b[0m\u001b[0;34m.\u001b[0m\u001b[0mto\u001b[0m\u001b[0;34m(\u001b[0m\u001b[0mdevice\u001b[0m\u001b[0;34m)\u001b[0m\u001b[0;34m\u001b[0m\u001b[0;34m\u001b[0m\u001b[0m\n\u001b[0m\u001b[1;32m     20\u001b[0m         \u001b[0my_batch\u001b[0m \u001b[0;34m=\u001b[0m \u001b[0my_train\u001b[0m\u001b[0;34m[\u001b[0m\u001b[0mbatch_indexes\u001b[0m\u001b[0;34m]\u001b[0m\u001b[0;34m.\u001b[0m\u001b[0mto\u001b[0m\u001b[0;34m(\u001b[0m\u001b[0mdevice\u001b[0m\u001b[0;34m)\u001b[0m\u001b[0;34m\u001b[0m\u001b[0;34m\u001b[0m\u001b[0m\n\u001b[1;32m     21\u001b[0m \u001b[0;34m\u001b[0m\u001b[0m\n",
            "\u001b[0;31mKeyboardInterrupt\u001b[0m: "
          ]
        }
      ]
    },
    {
      "cell_type": "markdown",
      "metadata": {
        "id": "o9V0C1xmTCW5",
        "colab_type": "text"
      },
      "source": [
        "#### График обучения"
      ]
    },
    {
      "cell_type": "code",
      "metadata": {
        "id": "8txaAAb6S_AH",
        "colab_type": "code",
        "outputId": "287801f6-a660-464d-d5fa-54dda25c356f",
        "colab": {
          "base_uri": "https://localhost:8080/",
          "height": 269
        }
      },
      "source": [
        "plt.plot(metrics.train_acc, label=\"Train\")\n",
        "plt.plot(metrics.val_acc, label=\"Validation\")\n",
        "plt.legend()\n",
        "plt.show()"
      ],
      "execution_count": 0,
      "outputs": [
        {
          "output_type": "display_data",
          "data": {
            "image/png": "[encoded data removed]",
            "text/plain": [
              "<Figure size 432x288 with 1 Axes>"
            ]
          },
          "metadata": {
            "tags": []
          }
        }
      ]
    },
    {
      "cell_type": "markdown",
      "metadata": {
        "id": "P7rc3kRtTEj5",
        "colab_type": "text"
      },
      "source": [
        "### Обучение без изменения batch_size"
      ]
    },
    {
      "cell_type": "code",
      "metadata": {
        "id": "C4dVtGKReX3u",
        "colab_type": "code",
        "outputId": "bf1bde53-4b58-41ed-9eb6-a02dc2c44eb0",
        "colab": {
          "base_uri": "https://localhost:8080/",
          "height": 776
        }
      },
      "source": [
        "batch_size = 32\n",
        "\n",
        "n = len(X_train)\n",
        "metrics = FitMetrics()\n",
        "\n",
        "for epoch in range(100):\n",
        "    order = np.random.permutation(n)\n",
        "  \n",
        "    print(\"\\r\", end=f\"Epoch {epoch}: \")\n",
        "    for start_index in range(0, n, batch_size):\n",
        "        \n",
        "        optimizer.zero_grad()\n",
        "        batch_indexes = order[start_index:start_index + batch_size]\n",
        "\n",
        "        X_batch = X_train[batch_indexes].to(device)\n",
        "        y_batch = y_train[batch_indexes].to(device)\n",
        "\n",
        "        preds = custom_net.forward(X_batch)\n",
        "\n",
        "        loss_value = loss(preds, y_batch)\n",
        "        loss_value.backward()\n",
        "\n",
        "        optimizer.step()\n",
        "    \n",
        "    # Calculate train acc and loss\n",
        "    metrics.append(custom_net, X_train, y_train, X_test, y_test)\n",
        "    print(metrics.latest_summary())\n"
      ],
      "execution_count": 0,
      "outputs": [
        {
          "output_type": "stream",
          "text": [
            "Epoch 0: loss: 0.9599933624267578, acc: 0.7112500071525574, val_loss: 0.976076602935791, val_acc: 0.699999988079071\n",
            "Epoch 1: loss: 0.6985705494880676, acc: 0.7799999713897705, val_loss: 0.7547516226768494, val_acc: 0.7562500238418579\n",
            "Epoch 2: loss: 0.5782284140586853, acc: 0.8187500238418579, val_loss: 0.6643613576889038, val_acc: 0.784375011920929\n",
            "Epoch 3: loss: 0.5075091123580933, acc: 0.8393750190734863, val_loss: 0.6502072215080261, val_acc: 0.7875000238418579\n",
            "Epoch 4: loss: 0.4251152276992798, acc: 0.8631250262260437, val_loss: 0.6478458642959595, val_acc: 0.8031250238418579\n",
            "Epoch 5: loss: 0.36665505170822144, acc: 0.8806250095367432, val_loss: 0.6459535956382751, val_acc: 0.796875\n",
            "Epoch 6: loss: 0.3733425438404083, acc: 0.8787500262260437, val_loss: 0.6072012186050415, val_acc: 0.8187500238418579\n",
            "Epoch 7: loss: 0.2772292494773865, acc: 0.9112499952316284, val_loss: 0.7050321698188782, val_acc: 0.796875\n",
            "Epoch 8: loss: 0.2442813664674759, acc: 0.9262499809265137, val_loss: 0.7159961462020874, val_acc: 0.7875000238418579\n",
            "Epoch 9: loss: 0.1958244889974594, acc: 0.9456250071525574, val_loss: 0.637072741985321, val_acc: 0.8125\n",
            "Epoch 10: loss: 0.18605965375900269, acc: 0.940625011920929, val_loss: 0.7105376124382019, val_acc: 0.8031250238418579\n",
            "Epoch 11: loss: 0.1612005978822708, acc: 0.9481250047683716, val_loss: 0.5865951180458069, val_acc: 0.809374988079071\n",
            "Epoch 12: loss: 0.15920858085155487, acc: 0.9493749737739563, val_loss: 0.6807001829147339, val_acc: 0.8187500238418579\n",
            "Epoch 13: loss: 0.13797660171985626, acc: 0.956250011920929, val_loss: 0.7443056702613831, val_acc: 0.824999988079071\n",
            "Epoch 14: loss: 0.15307480096817017, acc: 0.9487500190734863, val_loss: 0.7224298119544983, val_acc: 0.815625011920929\n",
            "Epoch 15: loss: 0.1404050588607788, acc: 0.9568750262260437, val_loss: 0.7565553784370422, val_acc: 0.7875000238418579\n",
            "Epoch 16: loss: 0.12721620500087738, acc: 0.9662500023841858, val_loss: 0.6857773065567017, val_acc: 0.831250011920929\n",
            "Epoch 17: loss: 0.11262086033821106, acc: 0.9643750190734863, val_loss: 0.7401179075241089, val_acc: 0.8187500238418579\n",
            "Epoch 18: loss: 0.1365465372800827, acc: 0.9612500071525574, val_loss: 0.7378488779067993, val_acc: 0.8343750238418579\n",
            "Epoch 19: loss: 0.09633219987154007, acc: 0.9731249809265137, val_loss: 0.7109851837158203, val_acc: 0.8374999761581421\n",
            "Epoch 20: loss: 0.10319171845912933, acc: 0.965624988079071, val_loss: 0.7155166864395142, val_acc: 0.831250011920929\n",
            "Epoch 21: loss: 0.09686567634344101, acc: 0.9712499976158142, val_loss: 0.7762316465377808, val_acc: 0.809374988079071\n",
            "Epoch 22: loss: 0.0885918065905571, acc: 0.9775000214576721, val_loss: 0.7485090494155884, val_acc: 0.824999988079071\n",
            "Epoch 23: loss: 0.10476862639188766, acc: 0.9662500023841858, val_loss: 0.6776424646377563, val_acc: 0.8531249761581421\n",
            "Epoch 24: "
          ],
          "name": "stdout"
        },
        {
          "output_type": "error",
          "ename": "KeyboardInterrupt",
          "evalue": "ignored",
          "traceback": [
            "\u001b[0;31m---------------------------------------------------------------------------\u001b[0m",
            "\u001b[0;31mKeyboardInterrupt\u001b[0m                         Traceback (most recent call last)",
            "\u001b[0;32m<ipython-input-54-b79ea2e79fbb>\u001b[0m in \u001b[0;36m<module>\u001b[0;34m()\u001b[0m\n\u001b[1;32m     21\u001b[0m         \u001b[0mloss_value\u001b[0m\u001b[0;34m.\u001b[0m\u001b[0mbackward\u001b[0m\u001b[0;34m(\u001b[0m\u001b[0;34m)\u001b[0m\u001b[0;34m\u001b[0m\u001b[0;34m\u001b[0m\u001b[0m\n\u001b[1;32m     22\u001b[0m \u001b[0;34m\u001b[0m\u001b[0m\n\u001b[0;32m---> 23\u001b[0;31m         \u001b[0moptimizer\u001b[0m\u001b[0;34m.\u001b[0m\u001b[0mstep\u001b[0m\u001b[0;34m(\u001b[0m\u001b[0;34m)\u001b[0m\u001b[0;34m\u001b[0m\u001b[0;34m\u001b[0m\u001b[0m\n\u001b[0m\u001b[1;32m     24\u001b[0m \u001b[0;34m\u001b[0m\u001b[0m\n\u001b[1;32m     25\u001b[0m     \u001b[0;31m# Calculate train acc and loss\u001b[0m\u001b[0;34m\u001b[0m\u001b[0;34m\u001b[0m\u001b[0;34m\u001b[0m\u001b[0m\n",
            "\u001b[0;32m/usr/local/lib/python3.6/dist-packages/torch/optim/adam.py\u001b[0m in \u001b[0;36mstep\u001b[0;34m(self, closure)\u001b[0m\n\u001b[1;32m    105\u001b[0m                 \u001b[0mstep_size\u001b[0m \u001b[0;34m=\u001b[0m \u001b[0mgroup\u001b[0m\u001b[0;34m[\u001b[0m\u001b[0;34m'lr'\u001b[0m\u001b[0;34m]\u001b[0m \u001b[0;34m*\u001b[0m \u001b[0mmath\u001b[0m\u001b[0;34m.\u001b[0m\u001b[0msqrt\u001b[0m\u001b[0;34m(\u001b[0m\u001b[0mbias_correction2\u001b[0m\u001b[0;34m)\u001b[0m \u001b[0;34m/\u001b[0m \u001b[0mbias_correction1\u001b[0m\u001b[0;34m\u001b[0m\u001b[0;34m\u001b[0m\u001b[0m\n\u001b[1;32m    106\u001b[0m \u001b[0;34m\u001b[0m\u001b[0m\n\u001b[0;32m--> 107\u001b[0;31m                 \u001b[0mp\u001b[0m\u001b[0;34m.\u001b[0m\u001b[0mdata\u001b[0m\u001b[0;34m.\u001b[0m\u001b[0maddcdiv_\u001b[0m\u001b[0;34m(\u001b[0m\u001b[0;34m-\u001b[0m\u001b[0mstep_size\u001b[0m\u001b[0;34m,\u001b[0m \u001b[0mexp_avg\u001b[0m\u001b[0;34m,\u001b[0m \u001b[0mdenom\u001b[0m\u001b[0;34m)\u001b[0m\u001b[0;34m\u001b[0m\u001b[0;34m\u001b[0m\u001b[0m\n\u001b[0m\u001b[1;32m    108\u001b[0m \u001b[0;34m\u001b[0m\u001b[0m\n\u001b[1;32m    109\u001b[0m         \u001b[0;32mreturn\u001b[0m \u001b[0mloss\u001b[0m\u001b[0;34m\u001b[0m\u001b[0;34m\u001b[0m\u001b[0m\n",
            "\u001b[0;31mKeyboardInterrupt\u001b[0m: "
          ]
        }
      ]
    },
    {
      "cell_type": "markdown",
      "metadata": {
        "id": "Qp83TWolKmc5",
        "colab_type": "text"
      },
      "source": [
        "#### График обучения"
      ]
    },
    {
      "cell_type": "code",
      "metadata": {
        "id": "KBc9hKJPKo3Q",
        "colab_type": "code",
        "outputId": "ef529ac6-5e2e-4e56-8a2c-16bd00e9786f",
        "colab": {
          "base_uri": "https://localhost:8080/",
          "height": 269
        }
      },
      "source": [
        "plt.plot(metrics.train_acc, label=\"Train\")\n",
        "plt.plot(metrics.val_acc, label=\"Validation\")\n",
        "plt.legend()\n",
        "plt.show()"
      ],
      "execution_count": 0,
      "outputs": [
        {
          "output_type": "display_data",
          "data": {
            "image/png": "[encoded data removed]",
            "text/plain": [
              "<Figure size 432x288 with 1 Axes>"
            ]
          },
          "metadata": {
            "tags": []
          }
        }
      ]
    }
  ]
}