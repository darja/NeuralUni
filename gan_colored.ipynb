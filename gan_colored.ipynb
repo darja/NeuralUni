{
  "nbformat": 4,
  "nbformat_minor": 0,
  "metadata": {
    "colab": {
      "name": "gan_colored.ipynb",
      "version": "0.3.2",
      "provenance": [],
      "collapsed_sections": [
        "S0ENCiRNpXGv"
      ],
      "toc_visible": true,
      "include_colab_link": true
    },
    "kernelspec": {
      "name": "python3",
      "display_name": "Python 3"
    },
    "accelerator": "GPU"
  },
  "cells": [
    {
      "cell_type": "markdown",
      "metadata": {
        "id": "view-in-github",
        "colab_type": "text"
      },
      "source": [
        "<a href=\"https://colab.research.google.com/github/darja/NeuralUni/blob/master/gan_colored.ipynb\" target=\"_parent\"><img src=\"https://colab.research.google.com/assets/colab-badge.svg\" alt=\"Open In Colab\"/></a>"
      ]
    },
    {
      "metadata": {
        "id": "KBI6MugMm7vP",
        "colab_type": "text"
      },
      "cell_type": "markdown",
      "source": [
        "# Environment"
      ]
    },
    {
      "metadata": {
        "id": "CvbS1nthmCvI",
        "colab_type": "code",
        "outputId": "5133b2e7-afbc-4798-e173-9fcdb020f248",
        "colab": {
          "base_uri": "https://localhost:8080/",
          "height": 34
        }
      },
      "cell_type": "code",
      "source": [
        "from __future__ import print_function, division\n",
        "\n",
        "from keras.datasets import mnist\n",
        "from keras.layers import Input, Dense, Reshape, Flatten, Dropout, Concatenate, MaxPool2D, Conv2DTranspose, ZeroPadding2D\n",
        "from keras.layers import BatchNormalization, Activation, ZeroPadding2D\n",
        "from keras.layers.merge import Concatenate\n",
        "from keras.layers.advanced_activations import LeakyReLU\n",
        "from keras.layers.convolutional import UpSampling2D, Conv2D\n",
        "from keras.models import Sequential, Model\n",
        "from keras.optimizers import Adam, RMSprop\n",
        "from keras.utils import to_categorical\n",
        "import matplotlib.pyplot as plt\n",
        "from IPython.display import Image\n",
        "\n",
        "from keras import backend as K\n",
        "\n",
        "\n",
        "import os\n",
        "import random\n",
        "import sys\n",
        "import datetime\n",
        "import imageio\n",
        "\n",
        "import numpy as np"
      ],
      "execution_count": 1,
      "outputs": [
        {
          "output_type": "stream",
          "text": [
            "Using TensorFlow backend.\n"
          ],
          "name": "stderr"
        }
      ]
    },
    {
      "metadata": {
        "id": "HUTo-0qNnB6E",
        "colab_type": "text"
      },
      "cell_type": "markdown",
      "source": [
        "## Input Files and Reading Operations"
      ]
    },
    {
      "metadata": {
        "id": "yYIMLp6Vl8_y",
        "colab_type": "code",
        "colab": {}
      },
      "cell_type": "code",
      "source": [
        "K.clear_session()\n",
        "\n",
        "input_folder = \"cargo_256\""
      ],
      "execution_count": 0,
      "outputs": []
    },
    {
      "metadata": {
        "id": "9JztwFFgowsc",
        "colab_type": "code",
        "colab": {
          "base_uri": "https://localhost:8080/",
          "height": 3689
        },
        "outputId": "ab1dcf3c-348d-4c1e-d8cd-24a7b6782e80"
      },
      "cell_type": "code",
      "source": [
        "!rm -rf {input_folder}\n",
        "!unzip {input_folder}.zip\n",
        "\n",
        "!rm -rf __MACOSX\n",
        "!rm -rf {input_folder}/.ipynb_checkpoints\n",
        "!rm -rf {input_folder}/.DS_Store"
      ],
      "execution_count": 4,
      "outputs": [
        {
          "output_type": "stream",
          "text": [
            "Archive:  cargo_256.zip\n",
            "   creating: cargo_256/\n",
            "  inflating: cargo_256/cargo_102.jpg  \n",
            "  inflating: cargo_256/cargo_116.jpg  \n",
            "  inflating: cargo_256/cargo_12.jpg  \n",
            "  inflating: cargo_256/cargo_13.jpg  \n",
            "  inflating: cargo_256/cargo_117.jpg  \n",
            "  inflating: cargo_256/cargo_103.jpg  \n",
            "  inflating: cargo_256/cargo_129.jpg  \n",
            "  inflating: cargo_256/cargo_115.jpg  \n",
            "  inflating: cargo_256/cargo_101.jpg  \n",
            "  inflating: cargo_256/cargo_11.jpg  \n",
            "  inflating: cargo_256/cargo_39.jpg  \n",
            "  inflating: cargo_256/cargo_38.jpg  \n",
            "  inflating: cargo_256/cargo_10.jpg  \n",
            "  inflating: cargo_256/cargo_100.jpg  \n",
            "  inflating: cargo_256/cargo_114.jpg  \n",
            "  inflating: cargo_256/cargo_128.jpg  \n",
            "  inflating: cargo_256/cargo_110.jpg  \n",
            "  inflating: cargo_256/cargo_104.jpg  \n",
            "  inflating: cargo_256/cargo_138.jpg  \n",
            "  inflating: cargo_256/cargo_28.jpg  \n",
            "  inflating: cargo_256/cargo_14.jpg  \n",
            "  inflating: cargo_256/cargo_9.jpg   \n",
            "  inflating: cargo_256/cargo_8.jpg   \n",
            "  inflating: cargo_256/cargo_15.jpg  \n",
            "  inflating: cargo_256/cargo_29.jpg  \n",
            "  inflating: cargo_256/cargo_139.jpg  \n",
            "  inflating: cargo_256/cargo_105.jpg  \n",
            "  inflating: cargo_256/cargo_111.jpg  \n",
            "  inflating: cargo_256/cargo_107.jpg  \n",
            "  inflating: cargo_256/cargo_113.jpg  \n",
            "  inflating: cargo_256/cargo_17.jpg  \n",
            "  inflating: cargo_256/cargo_16.jpg  \n",
            "  inflating: cargo_256/cargo_112.jpg  \n",
            "  inflating: cargo_256/cargo_106.jpg  \n",
            "  inflating: cargo_256/cargo_149.jpg  \n",
            "  inflating: cargo_256/cargo_161.jpg  \n",
            "  inflating: cargo_256/cargo_175.jpg  \n",
            "  inflating: cargo_256/cargo_65.jpg  \n",
            "  inflating: cargo_256/cargo_71.jpg  \n",
            "  inflating: cargo_256/cargo_59.jpg  \n",
            "  inflating: cargo_256/cargo_val_13.jpg  \n",
            "  inflating: cargo_256/cargo_val_9.jpg  \n",
            "  inflating: cargo_256/cargo_val_8.jpg  \n",
            "  inflating: cargo_256/cargo_val_12.jpg  \n",
            "  inflating: cargo_256/cargo_58.jpg  \n",
            "  inflating: cargo_256/cargo_70.jpg  \n",
            "  inflating: cargo_256/cargo_64.jpg  \n",
            "  inflating: cargo_256/cargo_174.jpg  \n",
            "  inflating: cargo_256/cargo_160.jpg  \n",
            "  inflating: cargo_256/cargo_148.jpg  \n",
            "  inflating: cargo_256/cargo_162.jpg  \n",
            "  inflating: cargo_256/cargo_72.jpg  \n",
            "  inflating: cargo_256/cargo_66.jpg  \n",
            "  inflating: cargo_256/cargo_99.jpg  \n",
            "  inflating: cargo_256/cargo_val_10.jpg  \n",
            "  inflating: cargo_256/cargo_val_11.jpg  \n",
            "  inflating: cargo_256/cargo_98.jpg  \n",
            "  inflating: cargo_256/cargo_67.jpg  \n",
            "  inflating: cargo_256/cargo_73.jpg  \n",
            "  inflating: cargo_256/cargo_163.jpg  \n",
            "  inflating: cargo_256/cargo_173.jpg  \n",
            "  inflating: cargo_256/cargo_167.jpg  \n",
            "  inflating: cargo_256/cargo_77.jpg  \n",
            "  inflating: cargo_256/cargo_63.jpg  \n",
            "  inflating: cargo_256/cargo_88.jpg  \n",
            "  inflating: cargo_256/cargo_val_29.jpg  \n",
            "  inflating: cargo_256/cargo_val_15.jpg  \n",
            "  inflating: cargo_256/cargo_val_14.jpg  \n",
            "  inflating: cargo_256/cargo_val_28.jpg  \n",
            "  inflating: cargo_256/cargo_89.jpg  \n",
            "  inflating: cargo_256/cargo_62.jpg  \n",
            "  inflating: cargo_256/cargo_76.jpg  \n",
            "  inflating: cargo_256/cargo_166.jpg  \n",
            "  inflating: cargo_256/cargo_172.jpg  \n",
            "  inflating: cargo_256/cargo_164.jpg  \n",
            "  inflating: cargo_256/cargo_170.jpg  \n",
            "  inflating: cargo_256/cargo_158.jpg  \n",
            "  inflating: cargo_256/cargo_48.jpg  \n",
            "  inflating: cargo_256/cargo_60.jpg  \n",
            "  inflating: cargo_256/cargo_74.jpg  \n",
            "  inflating: cargo_256/cargo_val_16.jpg  \n",
            "  inflating: cargo_256/cargo_val_17.jpg  \n",
            "  inflating: cargo_256/cargo_75.jpg  \n",
            "  inflating: cargo_256/cargo_61.jpg  \n",
            "  inflating: cargo_256/cargo_49.jpg  \n",
            "  inflating: cargo_256/cargo_159.jpg  \n",
            "  inflating: cargo_256/cargo_171.jpg  \n",
            "  inflating: cargo_256/cargo_165.jpg  \n",
            "  inflating: cargo_256/cargo_168.jpg  \n",
            "  inflating: cargo_256/cargo_140.jpg  \n",
            "  inflating: cargo_256/cargo_154.jpg  \n",
            "  inflating: cargo_256/cargo_44.jpg  \n",
            "  inflating: cargo_256/cargo_50.jpg  \n",
            "  inflating: cargo_256/cargo_78.jpg  \n",
            "  inflating: cargo_256/cargo_87.jpg  \n",
            "  inflating: cargo_256/cargo_93.jpg  \n",
            "  inflating: cargo_256/cargo_val_26.jpg  \n",
            "  inflating: cargo_256/cargo_val_32.jpg  \n",
            "  inflating: cargo_256/cargo_val_33.jpg  \n",
            "  inflating: cargo_256/cargo_val_1.jpg  \n",
            "  inflating: cargo_256/cargo_val_27.jpg  \n",
            "  inflating: cargo_256/cargo_92.jpg  \n",
            "  inflating: cargo_256/cargo_86.jpg  \n",
            "  inflating: cargo_256/cargo_79.jpg  \n",
            "  inflating: cargo_256/cargo_51.jpg  \n",
            "  inflating: cargo_256/cargo_45.jpg  \n",
            "  inflating: cargo_256/cargo_155.jpg  \n",
            "  inflating: cargo_256/cargo_141.jpg  \n",
            "  inflating: cargo_256/cargo_169.jpg  \n",
            "  inflating: cargo_256/cargo_157.jpg  \n",
            "  inflating: cargo_256/cargo_143.jpg  \n",
            "  inflating: cargo_256/cargo_53.jpg  \n",
            "  inflating: cargo_256/cargo_47.jpg  \n",
            "  inflating: cargo_256/cargo_90.jpg  \n",
            "  inflating: cargo_256/cargo_84.jpg  \n",
            "  inflating: cargo_256/cargo_val_3.jpg  \n",
            "  inflating: cargo_256/cargo_val_31.jpg  \n",
            "  inflating: cargo_256/cargo_val_25.jpg  \n",
            "  inflating: cargo_256/cargo_val_19.jpg  \n",
            "  inflating: cargo_256/cargo_val_18.jpg  \n",
            "  inflating: cargo_256/cargo_val_24.jpg  \n",
            "  inflating: cargo_256/cargo_val_2.jpg  \n",
            "  inflating: cargo_256/cargo_val_30.jpg  \n",
            "  inflating: cargo_256/cargo_test_1.jpg  \n",
            "  inflating: cargo_256/cargo_85.jpg  \n",
            "  inflating: cargo_256/cargo_91.jpg  \n",
            "  inflating: cargo_256/cargo_46.jpg  \n",
            "  inflating: cargo_256/cargo_52.jpg  \n",
            "  inflating: cargo_256/cargo_142.jpg  \n",
            "  inflating: cargo_256/cargo_156.jpg  \n",
            "  inflating: cargo_256/cargo_152.jpg  \n",
            "  inflating: cargo_256/cargo_146.jpg  \n",
            "  inflating: cargo_256/cargo_56.jpg  \n",
            "  inflating: cargo_256/cargo_42.jpg  \n",
            "  inflating: cargo_256/cargo_95.jpg  \n",
            "  inflating: cargo_256/cargo_81.jpg  \n",
            "  inflating: cargo_256/cargo_val_34.jpg  \n",
            "  inflating: cargo_256/cargo_test_5.jpg  \n",
            "  inflating: cargo_256/cargo_val_6.jpg  \n",
            "  inflating: cargo_256/cargo_val_20.jpg  \n",
            "  inflating: cargo_256/cargo_val_21.jpg  \n",
            "  inflating: cargo_256/cargo_val_35.jpg  \n",
            "  inflating: cargo_256/cargo_val_7.jpg  \n",
            "  inflating: cargo_256/cargo_80.jpg  \n",
            "  inflating: cargo_256/cargo_94.jpg  \n",
            "  inflating: cargo_256/cargo_43.jpg  \n",
            "  inflating: cargo_256/cargo_57.jpg  \n",
            "  inflating: cargo_256/cargo_147.jpg  \n",
            "  inflating: cargo_256/cargo_153.jpg  \n",
            "  inflating: cargo_256/cargo_145.jpg  \n",
            "  inflating: cargo_256/cargo_151.jpg  \n",
            "  inflating: cargo_256/cargo_69.jpg  \n",
            "  inflating: cargo_256/cargo_41.jpg  \n",
            "  inflating: cargo_256/cargo_55.jpg  \n",
            "  inflating: cargo_256/cargo_82.jpg  \n",
            "  inflating: cargo_256/cargo_96.jpg  \n",
            "  inflating: cargo_256/cargo_val_23.jpg  \n",
            "  inflating: cargo_256/cargo_val_5.jpg  \n",
            "  inflating: cargo_256/cargo_val_37.jpg  \n",
            "  inflating: cargo_256/cargo_val_4.jpg  \n",
            "  inflating: cargo_256/cargo_val_36.jpg  \n",
            "  inflating: cargo_256/cargo_val_22.jpg  \n",
            "  inflating: cargo_256/cargo_97.jpg  \n",
            "  inflating: cargo_256/cargo_83.jpg  \n",
            "  inflating: cargo_256/cargo_54.jpg  \n",
            "  inflating: cargo_256/cargo_40.jpg  \n",
            "  inflating: cargo_256/cargo_68.jpg  \n",
            "  inflating: cargo_256/cargo_150.jpg  \n",
            "  inflating: cargo_256/cargo_144.jpg  \n",
            "  inflating: cargo_256/cargo_123.jpg  \n",
            "  inflating: cargo_256/cargo_137.jpg  \n",
            "  inflating: cargo_256/cargo_27.jpg  \n",
            "  inflating: cargo_256/cargo_33.jpg  \n",
            "  inflating: cargo_256/cargo_6.jpg   \n",
            "  inflating: cargo_256/cargo_7.jpg   \n",
            "  inflating: cargo_256/cargo_32.jpg  \n",
            "  inflating: cargo_256/cargo_26.jpg  \n",
            "  inflating: cargo_256/cargo_136.jpg  \n",
            "  inflating: cargo_256/cargo_122.jpg  \n",
            "  inflating: cargo_256/cargo_108.jpg  \n",
            "  inflating: cargo_256/cargo_134.jpg  \n",
            "  inflating: cargo_256/cargo_120.jpg  \n",
            "  inflating: cargo_256/cargo_30.jpg  \n",
            "  inflating: cargo_256/cargo_24.jpg  \n",
            "  inflating: cargo_256/cargo_18.jpg  \n",
            "  inflating: cargo_256/cargo_5.jpg   \n",
            "  inflating: cargo_256/cargo_4.jpg   \n",
            "  inflating: cargo_256/cargo_19.jpg  \n",
            "  inflating: cargo_256/cargo_25.jpg  \n",
            "  inflating: cargo_256/cargo_31.jpg  \n",
            "  inflating: cargo_256/cargo_121.jpg  \n",
            "  inflating: cargo_256/cargo_135.jpg  \n",
            "  inflating: cargo_256/cargo_109.jpg  \n",
            "  inflating: cargo_256/cargo_131.jpg  \n",
            "  inflating: cargo_256/cargo_125.jpg  \n",
            "  inflating: cargo_256/cargo_119.jpg  \n",
            "  inflating: cargo_256/cargo_35.jpg  \n",
            "  inflating: cargo_256/cargo_21.jpg  \n",
            "  inflating: cargo_256/cargo_1.jpg   \n",
            "  inflating: cargo_256/cargo_20.jpg  \n",
            "  inflating: cargo_256/cargo_34.jpg  \n",
            "  inflating: cargo_256/cargo_118.jpg  \n",
            "  inflating: cargo_256/cargo_124.jpg  \n",
            "  inflating: cargo_256/cargo_130.jpg  \n",
            "  inflating: cargo_256/cargo_126.jpg  \n",
            "  inflating: cargo_256/cargo_132.jpg  \n",
            "  inflating: cargo_256/cargo_22.jpg  \n",
            "  inflating: cargo_256/cargo_36.jpg  \n",
            "  inflating: cargo_256/cargo_3.jpg   \n",
            "  inflating: cargo_256/cargo_2.jpg   \n",
            "  inflating: cargo_256/cargo_37.jpg  \n",
            "  inflating: cargo_256/cargo_23.jpg  \n",
            "  inflating: cargo_256/cargo_133.jpg  \n",
            "  inflating: cargo_256/cargo_127.jpg  \n"
          ],
          "name": "stdout"
        }
      ]
    },
    {
      "metadata": {
        "id": "_1_JlMT-pdoP",
        "colab_type": "code",
        "colab": {}
      },
      "cell_type": "code",
      "source": [
        "def inputFiles():\n",
        "    return os.listdir(input_folder)\n",
        "\n",
        "def read_image(filename):\n",
        "#     print(filename)\n",
        "    path = \"%s/%s\" % (input_folder, filename)\n",
        "    return imageio.imread(path)\n",
        "\n",
        "def read_images(files):\n",
        "#     read_func = np.vectorize(lambda x: read_image(x))\n",
        "#     images = read_func(array(files))\n",
        "\n",
        "    imgs = []\n",
        "    for f in files:\n",
        "        im = read_image(f)\n",
        "#         print(im.shape)\n",
        "        imgs.append(im)\n",
        "    return np.array(imgs)\n",
        "\n",
        "\n",
        "files = inputFiles()"
      ],
      "execution_count": 0,
      "outputs": []
    },
    {
      "metadata": {
        "id": "S0ENCiRNpXGv",
        "colab_type": "text"
      },
      "cell_type": "markdown",
      "source": [
        "### Sample image"
      ]
    },
    {
      "metadata": {
        "id": "doYZlPMipap2",
        "colab_type": "code",
        "outputId": "5a28c530-ac85-405e-d8cc-58d664d10325",
        "colab": {
          "base_uri": "https://localhost:8080/",
          "height": 307
        }
      },
      "cell_type": "code",
      "source": [
        "filename = files[5]\n",
        "print(filename)\n",
        "with open(\"%s/%s\" % (input_folder, filename),'rb') as f:\n",
        "    display(Image(data=f.read(), format='jpg'))\n",
        "    \n",
        "content = read_image(filename)\n",
        "print(content.shape)"
      ],
      "execution_count": 5,
      "outputs": [
        {
          "output_type": "stream",
          "text": [
            "cargo_9.jpg\n"
          ],
          "name": "stdout"
        },
        {
          "output_type": "display_data",
          "data": {
            "image/jpeg": "[encoded data removed]",
            "text/plain": [
              "<IPython.core.display.Image object>"
            ]
          },
          "metadata": {
            "tags": []
          }
        },
        {
          "output_type": "stream",
          "text": [
            "(256, 256, 3)\n"
          ],
          "name": "stdout"
        }
      ]
    },
    {
      "metadata": {
        "id": "Tdkxz6hYpTYJ",
        "colab_type": "text"
      },
      "cell_type": "markdown",
      "source": [
        "## Input Parameters"
      ]
    },
    {
      "metadata": {
        "id": "bi72yllrmzc8",
        "colab_type": "code",
        "outputId": "aaa105a5-c9bd-4687-a3aa-be5a5d108d72",
        "colab": {
          "base_uri": "https://localhost:8080/",
          "height": 88
        }
      },
      "cell_type": "code",
      "source": [
        "epochs = 30000\n",
        "sample_interval = 100\n",
        "log_interval = 20\n",
        "latent_dim = 100\n",
        "batch_size = 6\n",
        "\n",
        "img_rows = 256\n",
        "img_cols = 256\n",
        "channels = 3\n",
        "\n",
        "lr = 1e-4\n",
        "# optimizer = Adam(lr)\n",
        "optimizer = RMSprop(lr)\n"
      ],
      "execution_count": 6,
      "outputs": [
        {
          "output_type": "stream",
          "text": [
            "WARNING:tensorflow:From /usr/local/lib/python3.6/dist-packages/tensorflow/python/framework/op_def_library.py:263: colocate_with (from tensorflow.python.framework.ops) is deprecated and will be removed in a future version.\n",
            "Instructions for updating:\n",
            "Colocations handled automatically by placer.\n"
          ],
          "name": "stdout"
        }
      ]
    },
    {
      "metadata": {
        "id": "qVURvbFYnHDP",
        "colab_type": "text"
      },
      "cell_type": "markdown",
      "source": [
        "## Output Folder"
      ]
    },
    {
      "metadata": {
        "id": "mRKn324zmvfA",
        "colab_type": "code",
        "outputId": "7f5a5300-080b-470b-c413-6da332f52e04",
        "colab": {
          "base_uri": "https://localhost:8080/",
          "height": 34
        }
      },
      "cell_type": "code",
      "source": [
        "output_folder = \"gen\"\n",
        "print(output_folder)\n",
        "!rm -fr {output_folder}\n",
        "!mkdir {output_folder}"
      ],
      "execution_count": 11,
      "outputs": [
        {
          "output_type": "stream",
          "text": [
            "gen\n"
          ],
          "name": "stdout"
        }
      ]
    },
    {
      "metadata": {
        "id": "3kvYvOP4nTN2",
        "colab_type": "text"
      },
      "cell_type": "markdown",
      "source": [
        "# GAN"
      ]
    },
    {
      "metadata": {
        "id": "gJXUhbLGnUok",
        "colab_type": "code",
        "outputId": "0a58dea0-c19e-44cf-87e4-b21fbf68d11f",
        "colab": {
          "base_uri": "https://localhost:8080/",
          "height": 31011
        }
      },
      "cell_type": "code",
      "source": [
        "# del gan\n",
        "class GAN():\n",
        "    def __init__(self):\n",
        "        self.img_rows = img_rows\n",
        "        self.img_cols = img_cols\n",
        "        self.channels = 3\n",
        "        self.img_shape = (self.img_rows, self.img_cols, self.channels)\n",
        "        self.latent_dim = latent_dim\n",
        "\n",
        "        # Build and compile the discriminator\n",
        "        self.discriminator = self.build_discriminator()       \n",
        "        self.discriminator.compile(loss='binary_crossentropy',\n",
        "            optimizer=optimizer,\n",
        "            metrics=['accuracy'])\n",
        "\n",
        "        # Build the generator\n",
        "        self.generator = self.build_generator()\n",
        "\n",
        "        # The generator takes noise as input and generates imgs\n",
        "        z = Input(shape=(self.latent_dim,))\n",
        "        img = self.generator(z)\n",
        "\n",
        "        # For the combined model we will only train the generator\n",
        "        self.discriminator.trainable = False\n",
        "\n",
        "        # The discriminator takes generated images as input and determines validity\n",
        "        validity = self.discriminator(img)\n",
        "\n",
        "        # The combined model  (stacked generator and discriminator)\n",
        "        # Trains the generator to fool the discriminator\n",
        "        self.combined = Model(z, validity)\n",
        "        self.combined.compile(loss='binary_crossentropy', optimizer=optimizer)\n",
        "        self.combined.summary()\n",
        "\n",
        "\n",
        "    def build_generator(self):\n",
        "        print(\"Creating generator\")\n",
        "        \n",
        "        model = Sequential(name=\"generator\")\n",
        "\n",
        "        model.add(Dense(self.img_rows * self.img_cols * self.channels, activation=\"relu\", input_dim=self.latent_dim))\n",
        "        model.add(Reshape((self.img_rows // 4, self.img_cols // 4, 16 * self.channels)))\n",
        "        model.add(UpSampling2D())\n",
        "        model.add(Conv2D(48, kernel_size=3, padding=\"same\"))\n",
        "        model.add(BatchNormalization(momentum=0.8))\n",
        "        model.add(LeakyReLU(alpha=0.2))\n",
        "        model.add(UpSampling2D())\n",
        "        model.add(Conv2D(96, kernel_size=3, padding=\"same\"))\n",
        "        model.add(BatchNormalization(momentum=0.8))\n",
        "        model.add(LeakyReLU(alpha=0.2))\n",
        "        model.add(Conv2D(self.channels, kernel_size=3, padding=\"same\"))\n",
        "        model.add(Activation(\"tanh\"))\n",
        "\n",
        "        return model\n",
        "#         noise = Input(shape=(self.latent_dim,))\n",
        "#         img = model(noise)\n",
        "\n",
        "#         return Model(noise, img)\n",
        "    \n",
        "    def build_discriminator(self):\n",
        "        print(\"Creating discriminator\")\n",
        "        \n",
        "        model = Sequential(name=\"discriminator\")\n",
        "\n",
        "        model.add(Conv2D(32, kernel_size=3, strides=2, input_shape=self.img_shape, padding=\"same\"))\n",
        "        model.add(LeakyReLU(alpha=0.2))\n",
        "#         model.add(Dropout(0.25))\n",
        "        model.add(Conv2D(64, kernel_size=3, strides=2, padding=\"same\"))\n",
        "#         model.add(ZeroPadding2D(padding=((0,1),(0,1))))\n",
        "#         model.add(BatchNormalization(momentum=0.8))\n",
        "        model.add(LeakyReLU(alpha=0.2))\n",
        "#         model.add(Dropout(0.25))\n",
        "        model.add(Conv2D(32, kernel_size=3, strides=2, padding=\"same\"))\n",
        "#         model.add(BatchNormalization(momentum=0.8))\n",
        "#         model.add(LeakyReLU(alpha=0.2))\n",
        "#         model.add(Dropout(0.25))\n",
        "#         model.add(Conv2D(256, kernel_size=3, strides=1, padding=\"same\"))\n",
        "#         model.add(BatchNormalization(momentum=0.8))\n",
        "        model.add(LeakyReLU(alpha=0.2))\n",
        "#         model.add(Dropout(0.25))\n",
        "        model.add(Flatten())\n",
        "        model.add(Dense(1, activation='sigmoid'))\n",
        "\n",
        "        return model\n",
        "        \n",
        "#         img = Input(shape=self.img_shape)\n",
        "#         validity = model(img)\n",
        "\n",
        "#         return Model(img, validity)\n",
        "\n",
        "    def train(self, epochs, batch_size=16, sample_interval=50):\n",
        "        # Adversarial ground truths\n",
        "        valid = np.ones((batch_size, 1))\n",
        "        fake = np.zeros((batch_size, 1))\n",
        "\n",
        "        for epoch in range(epochs):\n",
        "\n",
        "            # ---------------------\n",
        "            #  Train Discriminator\n",
        "            # ---------------------\n",
        "\n",
        "            # Select a random batch of images\n",
        "            random_files = random.sample(files, batch_size)\n",
        "            imgs = read_images(random_files)\n",
        "            imgs = imgs / 127.5 - 1\n",
        "\n",
        "            noise = np.random.normal(0, 1, (batch_size, self.latent_dim))\n",
        "\n",
        "            # Generate a batch of new images\n",
        "            gen_imgs = self.generator.predict(noise)\n",
        "\n",
        "            # Train the discriminator\n",
        "            d_loss_real = self.discriminator.train_on_batch(imgs, valid)\n",
        "            d_loss_fake = self.discriminator.train_on_batch(gen_imgs, fake)\n",
        "            d_loss = 0.5 * np.add(d_loss_real, d_loss_fake)\n",
        "\n",
        "            # ---------------------\n",
        "            #  Train Generator\n",
        "            # ---------------------\n",
        "\n",
        "            noise = np.random.normal(0, 1, (batch_size, self.latent_dim))\n",
        "\n",
        "            # Train the generator (to have the discriminator label samples as valid)\n",
        "            g_loss = self.combined.train_on_batch(noise, valid)\n",
        "\n",
        "            # Log progress\n",
        "            if epoch % log_interval == 0:\n",
        "                print (\"%d [D loss: %f] [D acc.: %.2f%%, fake %.2f%%, real %.2f%%] [G loss: %f]\" % (epoch, d_loss[0], 100*d_loss[1], 100*d_loss_fake[1], 100*d_loss_real[1], g_loss))\n",
        "\n",
        "            # If at save interval => save generated image samples\n",
        "            if epoch % sample_interval == 0:\n",
        "                self.sample_images(epoch)\n",
        "\n",
        "    def sample_images(self, epoch):\n",
        "        r, c = 1, 1\n",
        "        noise = np.random.normal(0, 1, (r * c, self.latent_dim))\n",
        "        gen_imgs = self.generator.predict(noise)\n",
        "        gen_imgs = 0.5 * gen_imgs + 0.5\n",
        "    \n",
        "        imageio.imwrite(\"%s/%d.jpg\" % (output_folder, epoch), gen_imgs[0])\n",
        "\n",
        "gan = GAN()\n",
        "gan.train(epochs=epochs + 1, batch_size=batch_size, sample_interval=sample_interval)\n",
        "\n"
      ],
      "execution_count": 8,
      "outputs": [
        {
          "output_type": "stream",
          "text": [
            "Creating discriminator\n",
            "Creating generator\n",
            "_________________________________________________________________\n",
            "Layer (type)                 Output Shape              Param #   \n",
            "=================================================================\n",
            "input_1 (InputLayer)         (None, 100)               0         \n",
            "_________________________________________________________________\n",
            "generator (Sequential)       (None, 256, 256, 3)       19922931  \n",
            "_________________________________________________________________\n",
            "discriminator (Sequential)   (None, 1)                 70625     \n",
            "=================================================================\n",
            "Total params: 19,993,556\n",
            "Trainable params: 19,922,643\n",
            "Non-trainable params: 70,913\n",
            "_________________________________________________________________\n",
            "WARNING:tensorflow:From /usr/local/lib/python3.6/dist-packages/tensorflow/python/ops/math_ops.py:3066: to_int32 (from tensorflow.python.ops.math_ops) is deprecated and will be removed in a future version.\n",
            "Instructions for updating:\n",
            "Use tf.cast instead.\n"
          ],
          "name": "stdout"
        },
        {
          "output_type": "stream",
          "text": [
            "/usr/local/lib/python3.6/dist-packages/keras/engine/training.py:490: UserWarning: Discrepancy between trainable weights and collected trainable weights, did you set `model.trainable` without calling `model.compile` after ?\n",
            "  'Discrepancy between trainable weights and collected trainable'\n"
          ],
          "name": "stderr"
        },
        {
          "output_type": "stream",
          "text": [
            "0 [D loss: 0.713497] [D acc.: 0.00%, fake 0.00%, real 0.00%] [G loss: 0.510980]\n"
          ],
          "name": "stdout"
        },
        {
          "output_type": "stream",
          "text": [
            "WARNING:root:Lossy conversion from float32 to uint8. Range [0, 1]. Convert image to uint8 prior to saving to suppress this warning.\n"
          ],
          "name": "stderr"
        },
        {
          "output_type": "stream",
          "text": [
            "20 [D loss: 0.771889] [D acc.: 50.00%, fake 0.00%, real 100.00%] [G loss: 0.633532]\n",
            "40 [D loss: 0.617295] [D acc.: 50.00%, fake 16.67%, real 83.33%] [G loss: 1.222746]\n",
            "60 [D loss: 0.784870] [D acc.: 50.00%, fake 50.00%, real 50.00%] [G loss: 1.453819]\n",
            "80 [D loss: 0.803306] [D acc.: 58.33%, fake 100.00%, real 16.67%] [G loss: 1.135108]\n"
          ],
          "name": "stdout"
        },
        {
          "output_type": "stream",
          "text": [
            "WARNING:root:Lossy conversion from float32 to uint8. Range [0, 1]. Convert image to uint8 prior to saving to suppress this warning.\n"
          ],
          "name": "stderr"
        },
        {
          "output_type": "stream",
          "text": [
            "100 [D loss: 0.801410] [D acc.: 50.00%, fake 100.00%, real 0.00%] [G loss: 1.063514]\n",
            "120 [D loss: 0.712276] [D acc.: 50.00%, fake 83.33%, real 16.67%] [G loss: 1.208431]\n",
            "140 [D loss: 0.741940] [D acc.: 41.67%, fake 83.33%, real 0.00%] [G loss: 1.202040]\n",
            "160 [D loss: 0.595446] [D acc.: 91.67%, fake 100.00%, real 83.33%] [G loss: 1.262181]\n",
            "180 [D loss: 0.793794] [D acc.: 58.33%, fake 100.00%, real 16.67%] [G loss: 1.013362]\n"
          ],
          "name": "stdout"
        },
        {
          "output_type": "stream",
          "text": [
            "WARNING:root:Lossy conversion from float32 to uint8. Range [0, 1]. Convert image to uint8 prior to saving to suppress this warning.\n"
          ],
          "name": "stderr"
        },
        {
          "output_type": "stream",
          "text": [
            "200 [D loss: 0.565155] [D acc.: 75.00%, fake 100.00%, real 50.00%] [G loss: 1.336705]\n",
            "220 [D loss: 0.771826] [D acc.: 41.67%, fake 33.33%, real 50.00%] [G loss: 0.929903]\n",
            "240 [D loss: 0.847373] [D acc.: 16.67%, fake 0.00%, real 33.33%] [G loss: 0.844758]\n",
            "260 [D loss: 0.675832] [D acc.: 58.33%, fake 66.67%, real 50.00%] [G loss: 0.892991]\n",
            "280 [D loss: 0.746587] [D acc.: 33.33%, fake 16.67%, real 50.00%] [G loss: 0.543429]\n"
          ],
          "name": "stdout"
        },
        {
          "output_type": "stream",
          "text": [
            "WARNING:root:Lossy conversion from float32 to uint8. Range [0, 1]. Convert image to uint8 prior to saving to suppress this warning.\n"
          ],
          "name": "stderr"
        },
        {
          "output_type": "stream",
          "text": [
            "300 [D loss: 0.844254] [D acc.: 16.67%, fake 0.00%, real 33.33%] [G loss: 0.652372]\n",
            "320 [D loss: 0.862623] [D acc.: 41.67%, fake 0.00%, real 83.33%] [G loss: 0.553598]\n",
            "340 [D loss: 0.818731] [D acc.: 33.33%, fake 0.00%, real 66.67%] [G loss: 0.451329]\n",
            "360 [D loss: 0.732965] [D acc.: 33.33%, fake 0.00%, real 66.67%] [G loss: 0.566630]\n",
            "380 [D loss: 0.717697] [D acc.: 33.33%, fake 16.67%, real 50.00%] [G loss: 0.419564]\n"
          ],
          "name": "stdout"
        },
        {
          "output_type": "stream",
          "text": [
            "WARNING:root:Lossy conversion from float32 to uint8. Range [0, 1]. Convert image to uint8 prior to saving to suppress this warning.\n"
          ],
          "name": "stderr"
        },
        {
          "output_type": "stream",
          "text": [
            "400 [D loss: 0.738207] [D acc.: 41.67%, fake 0.00%, real 83.33%] [G loss: 0.513453]\n",
            "420 [D loss: 0.582373] [D acc.: 66.67%, fake 66.67%, real 66.67%] [G loss: 0.796091]\n",
            "440 [D loss: 0.861277] [D acc.: 33.33%, fake 0.00%, real 66.67%] [G loss: 0.573022]\n",
            "460 [D loss: 0.880124] [D acc.: 16.67%, fake 0.00%, real 33.33%] [G loss: 0.717722]\n",
            "480 [D loss: 0.784793] [D acc.: 8.33%, fake 16.67%, real 0.00%] [G loss: 0.738048]\n"
          ],
          "name": "stdout"
        },
        {
          "output_type": "stream",
          "text": [
            "WARNING:root:Lossy conversion from float32 to uint8. Range [0, 1]. Convert image to uint8 prior to saving to suppress this warning.\n"
          ],
          "name": "stderr"
        },
        {
          "output_type": "stream",
          "text": [
            "500 [D loss: 0.675325] [D acc.: 58.33%, fake 33.33%, real 83.33%] [G loss: 0.626467]\n",
            "520 [D loss: 0.771695] [D acc.: 58.33%, fake 100.00%, real 16.67%] [G loss: 0.916839]\n",
            "540 [D loss: 0.719487] [D acc.: 50.00%, fake 66.67%, real 33.33%] [G loss: 0.816058]\n",
            "560 [D loss: 0.705765] [D acc.: 58.33%, fake 66.67%, real 50.00%] [G loss: 0.924757]\n",
            "580 [D loss: 0.653550] [D acc.: 75.00%, fake 100.00%, real 50.00%] [G loss: 1.065566]\n"
          ],
          "name": "stdout"
        },
        {
          "output_type": "stream",
          "text": [
            "WARNING:root:Lossy conversion from float32 to uint8. Range [0, 1]. Convert image to uint8 prior to saving to suppress this warning.\n"
          ],
          "name": "stderr"
        },
        {
          "output_type": "stream",
          "text": [
            "600 [D loss: 0.635852] [D acc.: 58.33%, fake 50.00%, real 66.67%] [G loss: 0.609825]\n",
            "620 [D loss: 0.742481] [D acc.: 41.67%, fake 33.33%, real 50.00%] [G loss: 0.909107]\n",
            "640 [D loss: 0.765065] [D acc.: 16.67%, fake 16.67%, real 16.67%] [G loss: 0.698442]\n",
            "660 [D loss: 0.560446] [D acc.: 66.67%, fake 100.00%, real 33.33%] [G loss: 0.345928]\n",
            "680 [D loss: 0.843225] [D acc.: 25.00%, fake 50.00%, real 0.00%] [G loss: 0.796499]\n"
          ],
          "name": "stdout"
        },
        {
          "output_type": "stream",
          "text": [
            "WARNING:root:Lossy conversion from float32 to uint8. Range [0, 1]. Convert image to uint8 prior to saving to suppress this warning.\n"
          ],
          "name": "stderr"
        },
        {
          "output_type": "stream",
          "text": [
            "700 [D loss: 0.712666] [D acc.: 41.67%, fake 83.33%, real 0.00%] [G loss: 0.963814]\n",
            "720 [D loss: 0.718366] [D acc.: 41.67%, fake 0.00%, real 83.33%] [G loss: 0.591517]\n",
            "740 [D loss: 0.802156] [D acc.: 41.67%, fake 50.00%, real 33.33%] [G loss: 0.850014]\n",
            "760 [D loss: 0.830078] [D acc.: 50.00%, fake 33.33%, real 66.67%] [G loss: 0.653097]\n",
            "780 [D loss: 0.883658] [D acc.: 25.00%, fake 16.67%, real 33.33%] [G loss: 0.805832]\n"
          ],
          "name": "stdout"
        },
        {
          "output_type": "stream",
          "text": [
            "WARNING:root:Lossy conversion from float32 to uint8. Range [0, 1]. Convert image to uint8 prior to saving to suppress this warning.\n"
          ],
          "name": "stderr"
        },
        {
          "output_type": "stream",
          "text": [
            "800 [D loss: 0.746602] [D acc.: 50.00%, fake 100.00%, real 0.00%] [G loss: 0.981522]\n",
            "820 [D loss: 0.395327] [D acc.: 91.67%, fake 100.00%, real 83.33%] [G loss: 1.259218]\n",
            "840 [D loss: 0.847783] [D acc.: 41.67%, fake 50.00%, real 33.33%] [G loss: 0.459761]\n",
            "860 [D loss: 0.712455] [D acc.: 50.00%, fake 66.67%, real 33.33%] [G loss: 0.694005]\n",
            "880 [D loss: 0.849496] [D acc.: 33.33%, fake 16.67%, real 50.00%] [G loss: 0.912047]\n"
          ],
          "name": "stdout"
        },
        {
          "output_type": "stream",
          "text": [
            "WARNING:root:Lossy conversion from float32 to uint8. Range [0, 1]. Convert image to uint8 prior to saving to suppress this warning.\n"
          ],
          "name": "stderr"
        },
        {
          "output_type": "stream",
          "text": [
            "900 [D loss: 0.778503] [D acc.: 33.33%, fake 16.67%, real 50.00%] [G loss: 1.045042]\n",
            "920 [D loss: 0.741956] [D acc.: 16.67%, fake 0.00%, real 33.33%] [G loss: 0.592071]\n",
            "940 [D loss: 0.733576] [D acc.: 58.33%, fake 50.00%, real 66.67%] [G loss: 0.748226]\n",
            "960 [D loss: 0.557720] [D acc.: 91.67%, fake 100.00%, real 83.33%] [G loss: 0.945880]\n",
            "980 [D loss: 0.522689] [D acc.: 83.33%, fake 66.67%, real 100.00%] [G loss: 0.748246]\n"
          ],
          "name": "stdout"
        },
        {
          "output_type": "stream",
          "text": [
            "WARNING:root:Lossy conversion from float32 to uint8. Range [0, 1]. Convert image to uint8 prior to saving to suppress this warning.\n"
          ],
          "name": "stderr"
        },
        {
          "output_type": "stream",
          "text": [
            "1000 [D loss: 0.818019] [D acc.: 41.67%, fake 83.33%, real 0.00%] [G loss: 0.831615]\n",
            "1020 [D loss: 0.916753] [D acc.: 33.33%, fake 66.67%, real 0.00%] [G loss: 0.890762]\n",
            "1040 [D loss: 0.743784] [D acc.: 25.00%, fake 16.67%, real 33.33%] [G loss: 0.899357]\n",
            "1060 [D loss: 0.845248] [D acc.: 16.67%, fake 0.00%, real 33.33%] [G loss: 0.662879]\n",
            "1080 [D loss: 0.753839] [D acc.: 41.67%, fake 0.00%, real 83.33%] [G loss: 0.610534]\n"
          ],
          "name": "stdout"
        },
        {
          "output_type": "stream",
          "text": [
            "WARNING:root:Lossy conversion from float32 to uint8. Range [0, 1]. Convert image to uint8 prior to saving to suppress this warning.\n"
          ],
          "name": "stderr"
        },
        {
          "output_type": "stream",
          "text": [
            "1100 [D loss: 0.807672] [D acc.: 41.67%, fake 50.00%, real 33.33%] [G loss: 0.558707]\n",
            "1120 [D loss: 0.728630] [D acc.: 33.33%, fake 66.67%, real 0.00%] [G loss: 0.885501]\n",
            "1140 [D loss: 0.708628] [D acc.: 66.67%, fake 50.00%, real 83.33%] [G loss: 0.652046]\n",
            "1160 [D loss: 0.631587] [D acc.: 75.00%, fake 83.33%, real 66.67%] [G loss: 0.582310]\n",
            "1180 [D loss: 0.732275] [D acc.: 41.67%, fake 50.00%, real 33.33%] [G loss: 0.858986]\n"
          ],
          "name": "stdout"
        },
        {
          "output_type": "stream",
          "text": [
            "WARNING:root:Lossy conversion from float32 to uint8. Range [0, 1]. Convert image to uint8 prior to saving to suppress this warning.\n"
          ],
          "name": "stderr"
        },
        {
          "output_type": "stream",
          "text": [
            "1200 [D loss: 0.691019] [D acc.: 58.33%, fake 83.33%, real 33.33%] [G loss: 1.102848]\n",
            "1220 [D loss: 0.588614] [D acc.: 75.00%, fake 66.67%, real 83.33%] [G loss: 0.680178]\n",
            "1240 [D loss: 0.323993] [D acc.: 91.67%, fake 83.33%, real 100.00%] [G loss: 0.935507]\n",
            "1260 [D loss: 0.612945] [D acc.: 75.00%, fake 83.33%, real 66.67%] [G loss: 1.058911]\n",
            "1280 [D loss: 0.772341] [D acc.: 25.00%, fake 16.67%, real 33.33%] [G loss: 0.786384]\n"
          ],
          "name": "stdout"
        },
        {
          "output_type": "stream",
          "text": [
            "WARNING:root:Lossy conversion from float32 to uint8. Range [0, 1]. Convert image to uint8 prior to saving to suppress this warning.\n"
          ],
          "name": "stderr"
        },
        {
          "output_type": "stream",
          "text": [
            "1300 [D loss: 0.648514] [D acc.: 58.33%, fake 50.00%, real 66.67%] [G loss: 1.032309]\n",
            "1320 [D loss: 0.828523] [D acc.: 50.00%, fake 83.33%, real 16.67%] [G loss: 0.939181]\n",
            "1340 [D loss: 0.830430] [D acc.: 16.67%, fake 16.67%, real 16.67%] [G loss: 1.010102]\n",
            "1360 [D loss: 0.630767] [D acc.: 58.33%, fake 66.67%, real 50.00%] [G loss: 0.631771]\n",
            "1380 [D loss: 0.503650] [D acc.: 83.33%, fake 83.33%, real 83.33%] [G loss: 1.034600]\n"
          ],
          "name": "stdout"
        },
        {
          "output_type": "stream",
          "text": [
            "WARNING:root:Lossy conversion from float32 to uint8. Range [0, 1]. Convert image to uint8 prior to saving to suppress this warning.\n"
          ],
          "name": "stderr"
        },
        {
          "output_type": "stream",
          "text": [
            "1400 [D loss: 0.671703] [D acc.: 58.33%, fake 50.00%, real 66.67%] [G loss: 0.483863]\n",
            "1420 [D loss: 0.637589] [D acc.: 66.67%, fake 83.33%, real 50.00%] [G loss: 1.004216]\n",
            "1440 [D loss: 0.716596] [D acc.: 66.67%, fake 100.00%, real 33.33%] [G loss: 0.996934]\n",
            "1460 [D loss: 0.773670] [D acc.: 58.33%, fake 50.00%, real 66.67%] [G loss: 0.750008]\n",
            "1480 [D loss: 0.880174] [D acc.: 8.33%, fake 0.00%, real 16.67%] [G loss: 0.679626]\n"
          ],
          "name": "stdout"
        },
        {
          "output_type": "stream",
          "text": [
            "WARNING:root:Lossy conversion from float32 to uint8. Range [0, 1]. Convert image to uint8 prior to saving to suppress this warning.\n"
          ],
          "name": "stderr"
        },
        {
          "output_type": "stream",
          "text": [
            "1500 [D loss: 0.886922] [D acc.: 33.33%, fake 33.33%, real 33.33%] [G loss: 0.950956]\n",
            "1520 [D loss: 0.532124] [D acc.: 66.67%, fake 33.33%, real 100.00%] [G loss: 1.277145]\n",
            "1540 [D loss: 0.720575] [D acc.: 41.67%, fake 50.00%, real 33.33%] [G loss: 0.654591]\n",
            "1560 [D loss: 0.768034] [D acc.: 66.67%, fake 33.33%, real 100.00%] [G loss: 0.562969]\n",
            "1580 [D loss: 0.911655] [D acc.: 41.67%, fake 33.33%, real 50.00%] [G loss: 0.939435]\n"
          ],
          "name": "stdout"
        },
        {
          "output_type": "stream",
          "text": [
            "WARNING:root:Lossy conversion from float32 to uint8. Range [0, 1]. Convert image to uint8 prior to saving to suppress this warning.\n"
          ],
          "name": "stderr"
        },
        {
          "output_type": "stream",
          "text": [
            "1600 [D loss: 1.024017] [D acc.: 8.33%, fake 0.00%, real 16.67%] [G loss: 0.683206]\n",
            "1620 [D loss: 0.604381] [D acc.: 58.33%, fake 16.67%, real 100.00%] [G loss: 0.676249]\n",
            "1640 [D loss: 0.746345] [D acc.: 50.00%, fake 83.33%, real 16.67%] [G loss: 1.024780]\n",
            "1660 [D loss: 0.850883] [D acc.: 33.33%, fake 0.00%, real 66.67%] [G loss: 0.784688]\n",
            "1680 [D loss: 0.766343] [D acc.: 50.00%, fake 16.67%, real 83.33%] [G loss: 0.780363]\n"
          ],
          "name": "stdout"
        },
        {
          "output_type": "stream",
          "text": [
            "WARNING:root:Lossy conversion from float32 to uint8. Range [0, 1]. Convert image to uint8 prior to saving to suppress this warning.\n"
          ],
          "name": "stderr"
        },
        {
          "output_type": "stream",
          "text": [
            "1700 [D loss: 0.604099] [D acc.: 58.33%, fake 66.67%, real 50.00%] [G loss: 0.525182]\n",
            "1720 [D loss: 0.933299] [D acc.: 33.33%, fake 33.33%, real 33.33%] [G loss: 1.155147]\n",
            "1740 [D loss: 0.658733] [D acc.: 58.33%, fake 83.33%, real 33.33%] [G loss: 1.082713]\n",
            "1760 [D loss: 0.856698] [D acc.: 50.00%, fake 66.67%, real 33.33%] [G loss: 0.834693]\n",
            "1780 [D loss: 0.773215] [D acc.: 25.00%, fake 33.33%, real 16.67%] [G loss: 0.734075]\n"
          ],
          "name": "stdout"
        },
        {
          "output_type": "stream",
          "text": [
            "WARNING:root:Lossy conversion from float32 to uint8. Range [0, 1]. Convert image to uint8 prior to saving to suppress this warning.\n"
          ],
          "name": "stderr"
        },
        {
          "output_type": "stream",
          "text": [
            "1800 [D loss: 0.943391] [D acc.: 16.67%, fake 16.67%, real 16.67%] [G loss: 0.912073]\n",
            "1820 [D loss: 0.813593] [D acc.: 8.33%, fake 0.00%, real 16.67%] [G loss: 0.783017]\n",
            "1840 [D loss: 0.652093] [D acc.: 50.00%, fake 0.00%, real 100.00%] [G loss: 0.670438]\n",
            "1860 [D loss: 0.728201] [D acc.: 41.67%, fake 33.33%, real 50.00%] [G loss: 0.691781]\n",
            "1880 [D loss: 0.865227] [D acc.: 41.67%, fake 66.67%, real 16.67%] [G loss: 0.847494]\n"
          ],
          "name": "stdout"
        },
        {
          "output_type": "stream",
          "text": [
            "WARNING:root:Lossy conversion from float32 to uint8. Range [0, 1]. Convert image to uint8 prior to saving to suppress this warning.\n"
          ],
          "name": "stderr"
        },
        {
          "output_type": "stream",
          "text": [
            "1900 [D loss: 0.933377] [D acc.: 16.67%, fake 16.67%, real 16.67%] [G loss: 0.962799]\n",
            "1920 [D loss: 0.818564] [D acc.: 33.33%, fake 66.67%, real 0.00%] [G loss: 1.039438]\n",
            "1940 [D loss: 0.590943] [D acc.: 66.67%, fake 66.67%, real 66.67%] [G loss: 1.038868]\n",
            "1960 [D loss: 0.841194] [D acc.: 33.33%, fake 16.67%, real 50.00%] [G loss: 0.475402]\n",
            "1980 [D loss: 0.669027] [D acc.: 41.67%, fake 16.67%, real 66.67%] [G loss: 0.619638]\n"
          ],
          "name": "stdout"
        },
        {
          "output_type": "stream",
          "text": [
            "WARNING:root:Lossy conversion from float32 to uint8. Range [0, 1]. Convert image to uint8 prior to saving to suppress this warning.\n"
          ],
          "name": "stderr"
        },
        {
          "output_type": "stream",
          "text": [
            "2000 [D loss: 0.887478] [D acc.: 8.33%, fake 16.67%, real 0.00%] [G loss: 0.854829]\n",
            "2020 [D loss: 0.652529] [D acc.: 75.00%, fake 83.33%, real 66.67%] [G loss: 0.889776]\n",
            "2040 [D loss: 0.630893] [D acc.: 66.67%, fake 50.00%, real 83.33%] [G loss: 0.769114]\n",
            "2060 [D loss: 0.885490] [D acc.: 16.67%, fake 0.00%, real 33.33%] [G loss: 0.654056]\n",
            "2080 [D loss: 0.881008] [D acc.: 16.67%, fake 0.00%, real 33.33%] [G loss: 0.758444]\n"
          ],
          "name": "stdout"
        },
        {
          "output_type": "stream",
          "text": [
            "WARNING:root:Lossy conversion from float32 to uint8. Range [0, 1]. Convert image to uint8 prior to saving to suppress this warning.\n"
          ],
          "name": "stderr"
        },
        {
          "output_type": "stream",
          "text": [
            "2100 [D loss: 0.794609] [D acc.: 25.00%, fake 50.00%, real 0.00%] [G loss: 0.754181]\n",
            "2120 [D loss: 0.810611] [D acc.: 50.00%, fake 83.33%, real 16.67%] [G loss: 1.051315]\n",
            "2140 [D loss: 0.688074] [D acc.: 58.33%, fake 83.33%, real 33.33%] [G loss: 1.269806]\n",
            "2160 [D loss: 0.824728] [D acc.: 33.33%, fake 0.00%, real 66.67%] [G loss: 0.417183]\n",
            "2180 [D loss: 0.763572] [D acc.: 58.33%, fake 50.00%, real 66.67%] [G loss: 0.765985]\n"
          ],
          "name": "stdout"
        },
        {
          "output_type": "stream",
          "text": [
            "WARNING:root:Lossy conversion from float32 to uint8. Range [0, 1]. Convert image to uint8 prior to saving to suppress this warning.\n"
          ],
          "name": "stderr"
        },
        {
          "output_type": "stream",
          "text": [
            "2200 [D loss: 0.455946] [D acc.: 83.33%, fake 83.33%, real 83.33%] [G loss: 1.080325]\n",
            "2220 [D loss: 1.283361] [D acc.: 41.67%, fake 33.33%, real 50.00%] [G loss: 0.482863]\n",
            "2240 [D loss: 0.786178] [D acc.: 41.67%, fake 66.67%, real 16.67%] [G loss: 0.796055]\n",
            "2260 [D loss: 0.856261] [D acc.: 16.67%, fake 16.67%, real 16.67%] [G loss: 0.810057]\n",
            "2280 [D loss: 0.703074] [D acc.: 58.33%, fake 50.00%, real 66.67%] [G loss: 0.557201]\n"
          ],
          "name": "stdout"
        },
        {
          "output_type": "stream",
          "text": [
            "WARNING:root:Lossy conversion from float32 to uint8. Range [0, 1]. Convert image to uint8 prior to saving to suppress this warning.\n"
          ],
          "name": "stderr"
        },
        {
          "output_type": "stream",
          "text": [
            "2300 [D loss: 0.768502] [D acc.: 33.33%, fake 50.00%, real 16.67%] [G loss: 0.923844]\n",
            "2320 [D loss: 0.707437] [D acc.: 50.00%, fake 50.00%, real 50.00%] [G loss: 0.768715]\n",
            "2340 [D loss: 0.684835] [D acc.: 66.67%, fake 100.00%, real 33.33%] [G loss: 0.982162]\n",
            "2360 [D loss: 0.706263] [D acc.: 41.67%, fake 33.33%, real 50.00%] [G loss: 0.745504]\n",
            "2380 [D loss: 0.948907] [D acc.: 25.00%, fake 0.00%, real 50.00%] [G loss: 0.501378]\n"
          ],
          "name": "stdout"
        },
        {
          "output_type": "stream",
          "text": [
            "WARNING:root:Lossy conversion from float32 to uint8. Range [0, 1]. Convert image to uint8 prior to saving to suppress this warning.\n"
          ],
          "name": "stderr"
        },
        {
          "output_type": "stream",
          "text": [
            "2400 [D loss: 0.829196] [D acc.: 41.67%, fake 83.33%, real 0.00%] [G loss: 0.676628]\n",
            "2420 [D loss: 0.703000] [D acc.: 41.67%, fake 16.67%, real 66.67%] [G loss: 0.911528]\n",
            "2440 [D loss: 1.013708] [D acc.: 0.00%, fake 0.00%, real 0.00%] [G loss: 0.575753]\n",
            "2460 [D loss: 0.888696] [D acc.: 41.67%, fake 66.67%, real 16.67%] [G loss: 0.691649]\n",
            "2480 [D loss: 0.728932] [D acc.: 50.00%, fake 66.67%, real 33.33%] [G loss: 0.881275]\n"
          ],
          "name": "stdout"
        },
        {
          "output_type": "stream",
          "text": [
            "WARNING:root:Lossy conversion from float32 to uint8. Range [0, 1]. Convert image to uint8 prior to saving to suppress this warning.\n"
          ],
          "name": "stderr"
        },
        {
          "output_type": "stream",
          "text": [
            "2500 [D loss: 0.873400] [D acc.: 8.33%, fake 0.00%, real 16.67%] [G loss: 0.660497]\n",
            "2520 [D loss: 0.579771] [D acc.: 91.67%, fake 100.00%, real 83.33%] [G loss: 0.455933]\n",
            "2540 [D loss: 0.700792] [D acc.: 58.33%, fake 50.00%, real 66.67%] [G loss: 0.746899]\n",
            "2560 [D loss: 0.719758] [D acc.: 50.00%, fake 83.33%, real 16.67%] [G loss: 1.133096]\n",
            "2580 [D loss: 0.789019] [D acc.: 33.33%, fake 16.67%, real 50.00%] [G loss: 0.320873]\n"
          ],
          "name": "stdout"
        },
        {
          "output_type": "stream",
          "text": [
            "WARNING:root:Lossy conversion from float32 to uint8. Range [0, 1]. Convert image to uint8 prior to saving to suppress this warning.\n"
          ],
          "name": "stderr"
        },
        {
          "output_type": "stream",
          "text": [
            "2600 [D loss: 0.937416] [D acc.: 16.67%, fake 0.00%, real 33.33%] [G loss: 0.821500]\n",
            "2620 [D loss: 0.710364] [D acc.: 41.67%, fake 0.00%, real 83.33%] [G loss: 0.713586]\n",
            "2640 [D loss: 0.735439] [D acc.: 33.33%, fake 33.33%, real 33.33%] [G loss: 0.824745]\n",
            "2660 [D loss: 0.904028] [D acc.: 25.00%, fake 33.33%, real 16.67%] [G loss: 0.808432]\n",
            "2680 [D loss: 0.733758] [D acc.: 33.33%, fake 16.67%, real 50.00%] [G loss: 0.780271]\n"
          ],
          "name": "stdout"
        },
        {
          "output_type": "stream",
          "text": [
            "WARNING:root:Lossy conversion from float32 to uint8. Range [0, 1]. Convert image to uint8 prior to saving to suppress this warning.\n"
          ],
          "name": "stderr"
        },
        {
          "output_type": "stream",
          "text": [
            "2700 [D loss: 0.756027] [D acc.: 41.67%, fake 33.33%, real 50.00%] [G loss: 0.826594]\n",
            "2720 [D loss: 0.895009] [D acc.: 16.67%, fake 33.33%, real 0.00%] [G loss: 0.750733]\n",
            "2740 [D loss: 0.606951] [D acc.: 75.00%, fake 66.67%, real 83.33%] [G loss: 0.371763]\n",
            "2760 [D loss: 0.478429] [D acc.: 91.67%, fake 100.00%, real 83.33%] [G loss: 1.302308]\n",
            "2780 [D loss: 1.002021] [D acc.: 25.00%, fake 16.67%, real 33.33%] [G loss: 0.440437]\n"
          ],
          "name": "stdout"
        },
        {
          "output_type": "stream",
          "text": [
            "WARNING:root:Lossy conversion from float32 to uint8. Range [0, 1]. Convert image to uint8 prior to saving to suppress this warning.\n"
          ],
          "name": "stderr"
        },
        {
          "output_type": "stream",
          "text": [
            "2800 [D loss: 0.586862] [D acc.: 91.67%, fake 100.00%, real 83.33%] [G loss: 0.383869]\n",
            "2820 [D loss: 0.498527] [D acc.: 83.33%, fake 83.33%, real 83.33%] [G loss: 0.376767]\n",
            "2840 [D loss: 0.714159] [D acc.: 33.33%, fake 33.33%, real 33.33%] [G loss: 0.699557]\n",
            "2860 [D loss: 0.791382] [D acc.: 16.67%, fake 0.00%, real 33.33%] [G loss: 0.569859]\n",
            "2880 [D loss: 0.759266] [D acc.: 33.33%, fake 50.00%, real 16.67%] [G loss: 0.834299]\n"
          ],
          "name": "stdout"
        },
        {
          "output_type": "stream",
          "text": [
            "WARNING:root:Lossy conversion from float32 to uint8. Range [0, 1]. Convert image to uint8 prior to saving to suppress this warning.\n"
          ],
          "name": "stderr"
        },
        {
          "output_type": "stream",
          "text": [
            "2900 [D loss: 0.613736] [D acc.: 83.33%, fake 100.00%, real 66.67%] [G loss: 0.748960]\n",
            "2920 [D loss: 0.599827] [D acc.: 75.00%, fake 83.33%, real 66.67%] [G loss: 0.925736]\n",
            "2940 [D loss: 0.512700] [D acc.: 83.33%, fake 100.00%, real 66.67%] [G loss: 0.827886]\n",
            "2960 [D loss: 0.903130] [D acc.: 33.33%, fake 50.00%, real 16.67%] [G loss: 0.660483]\n",
            "2980 [D loss: 0.716176] [D acc.: 41.67%, fake 66.67%, real 16.67%] [G loss: 1.301874]\n"
          ],
          "name": "stdout"
        },
        {
          "output_type": "stream",
          "text": [
            "WARNING:root:Lossy conversion from float32 to uint8. Range [0, 1]. Convert image to uint8 prior to saving to suppress this warning.\n"
          ],
          "name": "stderr"
        },
        {
          "output_type": "stream",
          "text": [
            "3000 [D loss: 0.898387] [D acc.: 25.00%, fake 0.00%, real 50.00%] [G loss: 0.483517]\n",
            "3020 [D loss: 0.726773] [D acc.: 58.33%, fake 83.33%, real 33.33%] [G loss: 0.335081]\n",
            "3040 [D loss: 0.519386] [D acc.: 66.67%, fake 66.67%, real 66.67%] [G loss: 0.392983]\n",
            "3060 [D loss: 0.835599] [D acc.: 50.00%, fake 83.33%, real 16.67%] [G loss: 0.968447]\n",
            "3080 [D loss: 0.789026] [D acc.: 50.00%, fake 50.00%, real 50.00%] [G loss: 1.138407]\n"
          ],
          "name": "stdout"
        },
        {
          "output_type": "stream",
          "text": [
            "WARNING:root:Lossy conversion from float32 to uint8. Range [0, 1]. Convert image to uint8 prior to saving to suppress this warning.\n"
          ],
          "name": "stderr"
        },
        {
          "output_type": "stream",
          "text": [
            "3100 [D loss: 0.956742] [D acc.: 25.00%, fake 0.00%, real 50.00%] [G loss: 0.556415]\n",
            "3120 [D loss: 0.641394] [D acc.: 50.00%, fake 16.67%, real 83.33%] [G loss: 0.589129]\n",
            "3140 [D loss: 0.273279] [D acc.: 100.00%, fake 100.00%, real 100.00%] [G loss: 0.695894]\n",
            "3160 [D loss: 0.828580] [D acc.: 25.00%, fake 33.33%, real 16.67%] [G loss: 0.810086]\n",
            "3180 [D loss: 0.894878] [D acc.: 8.33%, fake 0.00%, real 16.67%] [G loss: 0.278011]\n"
          ],
          "name": "stdout"
        },
        {
          "output_type": "stream",
          "text": [
            "WARNING:root:Lossy conversion from float32 to uint8. Range [0, 1]. Convert image to uint8 prior to saving to suppress this warning.\n"
          ],
          "name": "stderr"
        },
        {
          "output_type": "stream",
          "text": [
            "3200 [D loss: 0.590144] [D acc.: 58.33%, fake 16.67%, real 100.00%] [G loss: 0.246297]\n",
            "3220 [D loss: 0.723999] [D acc.: 41.67%, fake 50.00%, real 33.33%] [G loss: 0.673393]\n",
            "3240 [D loss: 0.454007] [D acc.: 83.33%, fake 100.00%, real 66.67%] [G loss: 0.713898]\n",
            "3260 [D loss: 0.738999] [D acc.: 50.00%, fake 100.00%, real 0.00%] [G loss: 0.845468]\n",
            "3280 [D loss: 0.477496] [D acc.: 83.33%, fake 100.00%, real 66.67%] [G loss: 1.058031]\n"
          ],
          "name": "stdout"
        },
        {
          "output_type": "stream",
          "text": [
            "WARNING:root:Lossy conversion from float32 to uint8. Range [0, 1]. Convert image to uint8 prior to saving to suppress this warning.\n"
          ],
          "name": "stderr"
        },
        {
          "output_type": "stream",
          "text": [
            "3300 [D loss: 0.658377] [D acc.: 58.33%, fake 66.67%, real 50.00%] [G loss: 0.887519]\n",
            "3320 [D loss: 0.931682] [D acc.: 16.67%, fake 0.00%, real 33.33%] [G loss: 0.431062]\n",
            "3340 [D loss: 1.007274] [D acc.: 25.00%, fake 0.00%, real 50.00%] [G loss: 0.389431]\n",
            "3360 [D loss: 0.548379] [D acc.: 100.00%, fake 100.00%, real 100.00%] [G loss: 0.568018]\n",
            "3380 [D loss: 0.761429] [D acc.: 50.00%, fake 100.00%, real 0.00%] [G loss: 0.536715]\n"
          ],
          "name": "stdout"
        },
        {
          "output_type": "stream",
          "text": [
            "WARNING:root:Lossy conversion from float32 to uint8. Range [0, 1]. Convert image to uint8 prior to saving to suppress this warning.\n"
          ],
          "name": "stderr"
        },
        {
          "output_type": "stream",
          "text": [
            "3400 [D loss: 0.675118] [D acc.: 75.00%, fake 100.00%, real 50.00%] [G loss: 0.788084]\n",
            "3420 [D loss: 0.560982] [D acc.: 66.67%, fake 100.00%, real 33.33%] [G loss: 0.666330]\n",
            "3440 [D loss: 0.783077] [D acc.: 33.33%, fake 33.33%, real 33.33%] [G loss: 0.694247]\n",
            "3460 [D loss: 0.826384] [D acc.: 41.67%, fake 16.67%, real 66.67%] [G loss: 0.745192]\n",
            "3480 [D loss: 0.930265] [D acc.: 25.00%, fake 0.00%, real 50.00%] [G loss: 0.503992]\n"
          ],
          "name": "stdout"
        },
        {
          "output_type": "stream",
          "text": [
            "WARNING:root:Lossy conversion from float32 to uint8. Range [0, 1]. Convert image to uint8 prior to saving to suppress this warning.\n"
          ],
          "name": "stderr"
        },
        {
          "output_type": "stream",
          "text": [
            "3500 [D loss: 0.812108] [D acc.: 16.67%, fake 0.00%, real 33.33%] [G loss: 0.660004]\n",
            "3520 [D loss: 0.692744] [D acc.: 50.00%, fake 0.00%, real 100.00%] [G loss: 0.707295]\n",
            "3540 [D loss: 0.901870] [D acc.: 8.33%, fake 16.67%, real 0.00%] [G loss: 0.710251]\n",
            "3560 [D loss: 0.872806] [D acc.: 25.00%, fake 16.67%, real 33.33%] [G loss: 0.538754]\n",
            "3580 [D loss: 0.738835] [D acc.: 50.00%, fake 66.67%, real 33.33%] [G loss: 0.568011]\n"
          ],
          "name": "stdout"
        },
        {
          "output_type": "stream",
          "text": [
            "WARNING:root:Lossy conversion from float32 to uint8. Range [0, 1]. Convert image to uint8 prior to saving to suppress this warning.\n"
          ],
          "name": "stderr"
        },
        {
          "output_type": "stream",
          "text": [
            "3600 [D loss: 0.540024] [D acc.: 66.67%, fake 100.00%, real 33.33%] [G loss: 1.157647]\n",
            "3620 [D loss: 0.769545] [D acc.: 33.33%, fake 50.00%, real 16.67%] [G loss: 0.847650]\n",
            "3640 [D loss: 0.838519] [D acc.: 33.33%, fake 33.33%, real 33.33%] [G loss: 0.778507]\n",
            "3660 [D loss: 0.775869] [D acc.: 58.33%, fake 100.00%, real 16.67%] [G loss: 0.896812]\n",
            "3680 [D loss: 0.752399] [D acc.: 50.00%, fake 83.33%, real 16.67%] [G loss: 0.668195]\n"
          ],
          "name": "stdout"
        },
        {
          "output_type": "stream",
          "text": [
            "WARNING:root:Lossy conversion from float32 to uint8. Range [0, 1]. Convert image to uint8 prior to saving to suppress this warning.\n"
          ],
          "name": "stderr"
        },
        {
          "output_type": "stream",
          "text": [
            "3700 [D loss: 1.230966] [D acc.: 8.33%, fake 0.00%, real 16.67%] [G loss: 0.532461]\n",
            "3720 [D loss: 0.719078] [D acc.: 33.33%, fake 16.67%, real 50.00%] [G loss: 0.501357]\n",
            "3740 [D loss: 0.656090] [D acc.: 50.00%, fake 16.67%, real 83.33%] [G loss: 0.269305]\n",
            "3760 [D loss: 0.903762] [D acc.: 0.00%, fake 0.00%, real 0.00%] [G loss: 0.572573]\n",
            "3780 [D loss: 0.928544] [D acc.: 16.67%, fake 0.00%, real 33.33%] [G loss: 0.586311]\n"
          ],
          "name": "stdout"
        },
        {
          "output_type": "stream",
          "text": [
            "WARNING:root:Lossy conversion from float32 to uint8. Range [0, 1]. Convert image to uint8 prior to saving to suppress this warning.\n"
          ],
          "name": "stderr"
        },
        {
          "output_type": "stream",
          "text": [
            "3800 [D loss: 0.921719] [D acc.: 8.33%, fake 0.00%, real 16.67%] [G loss: 0.361047]\n",
            "3820 [D loss: 0.981292] [D acc.: 41.67%, fake 16.67%, real 66.67%] [G loss: 0.220964]\n",
            "3840 [D loss: 0.750430] [D acc.: 25.00%, fake 0.00%, real 50.00%] [G loss: 0.451578]\n",
            "3860 [D loss: 0.404566] [D acc.: 91.67%, fake 100.00%, real 83.33%] [G loss: 0.549922]\n",
            "3880 [D loss: 0.632479] [D acc.: 91.67%, fake 100.00%, real 83.33%] [G loss: 0.870286]\n"
          ],
          "name": "stdout"
        },
        {
          "output_type": "stream",
          "text": [
            "WARNING:root:Lossy conversion from float32 to uint8. Range [0, 1]. Convert image to uint8 prior to saving to suppress this warning.\n"
          ],
          "name": "stderr"
        },
        {
          "output_type": "stream",
          "text": [
            "3900 [D loss: 0.512001] [D acc.: 75.00%, fake 100.00%, real 50.00%] [G loss: 1.286029]\n",
            "3920 [D loss: 0.859517] [D acc.: 25.00%, fake 16.67%, real 33.33%] [G loss: 0.799762]\n",
            "3940 [D loss: 0.595225] [D acc.: 75.00%, fake 100.00%, real 50.00%] [G loss: 1.166373]\n",
            "3960 [D loss: 0.806989] [D acc.: 25.00%, fake 16.67%, real 33.33%] [G loss: 0.762267]\n",
            "3980 [D loss: 0.771422] [D acc.: 41.67%, fake 50.00%, real 33.33%] [G loss: 0.272048]\n"
          ],
          "name": "stdout"
        },
        {
          "output_type": "stream",
          "text": [
            "WARNING:root:Lossy conversion from float32 to uint8. Range [0, 1]. Convert image to uint8 prior to saving to suppress this warning.\n"
          ],
          "name": "stderr"
        },
        {
          "output_type": "stream",
          "text": [
            "4000 [D loss: 1.010708] [D acc.: 16.67%, fake 0.00%, real 33.33%] [G loss: 0.432737]\n",
            "4020 [D loss: 0.600007] [D acc.: 58.33%, fake 33.33%, real 83.33%] [G loss: 0.469265]\n",
            "4040 [D loss: 0.524551] [D acc.: 75.00%, fake 66.67%, real 83.33%] [G loss: 0.317770]\n",
            "4060 [D loss: 0.645659] [D acc.: 58.33%, fake 50.00%, real 66.67%] [G loss: 0.529524]\n",
            "4080 [D loss: 0.509800] [D acc.: 83.33%, fake 100.00%, real 66.67%] [G loss: 0.858055]\n"
          ],
          "name": "stdout"
        },
        {
          "output_type": "stream",
          "text": [
            "WARNING:root:Lossy conversion from float32 to uint8. Range [0, 1]. Convert image to uint8 prior to saving to suppress this warning.\n"
          ],
          "name": "stderr"
        },
        {
          "output_type": "stream",
          "text": [
            "4100 [D loss: 0.460304] [D acc.: 83.33%, fake 100.00%, real 66.67%] [G loss: 0.483601]\n",
            "4120 [D loss: 0.629620] [D acc.: 75.00%, fake 83.33%, real 66.67%] [G loss: 0.894570]\n",
            "4140 [D loss: 0.489895] [D acc.: 75.00%, fake 100.00%, real 50.00%] [G loss: 1.365637]\n",
            "4160 [D loss: 0.829700] [D acc.: 25.00%, fake 33.33%, real 16.67%] [G loss: 0.821711]\n",
            "4180 [D loss: 0.315303] [D acc.: 100.00%, fake 100.00%, real 100.00%] [G loss: 1.214185]\n"
          ],
          "name": "stdout"
        },
        {
          "output_type": "stream",
          "text": [
            "WARNING:root:Lossy conversion from float32 to uint8. Range [0, 1]. Convert image to uint8 prior to saving to suppress this warning.\n"
          ],
          "name": "stderr"
        },
        {
          "output_type": "stream",
          "text": [
            "4200 [D loss: 0.700494] [D acc.: 33.33%, fake 16.67%, real 50.00%] [G loss: 0.664897]\n",
            "4220 [D loss: 0.538486] [D acc.: 83.33%, fake 100.00%, real 66.67%] [G loss: 1.600540]\n",
            "4240 [D loss: 0.736243] [D acc.: 33.33%, fake 0.00%, real 66.67%] [G loss: 0.637653]\n",
            "4260 [D loss: 0.796909] [D acc.: 33.33%, fake 0.00%, real 66.67%] [G loss: 0.727558]\n",
            "4280 [D loss: 0.631172] [D acc.: 83.33%, fake 100.00%, real 66.67%] [G loss: 0.948227]\n"
          ],
          "name": "stdout"
        },
        {
          "output_type": "stream",
          "text": [
            "WARNING:root:Lossy conversion from float32 to uint8. Range [0, 1]. Convert image to uint8 prior to saving to suppress this warning.\n"
          ],
          "name": "stderr"
        },
        {
          "output_type": "stream",
          "text": [
            "4300 [D loss: 0.818482] [D acc.: 25.00%, fake 33.33%, real 16.67%] [G loss: 0.468001]\n",
            "4320 [D loss: 0.689660] [D acc.: 50.00%, fake 33.33%, real 66.67%] [G loss: 0.450390]\n",
            "4340 [D loss: 0.297974] [D acc.: 100.00%, fake 100.00%, real 100.00%] [G loss: 0.305560]\n",
            "4360 [D loss: 0.900413] [D acc.: 25.00%, fake 16.67%, real 33.33%] [G loss: 0.746139]\n",
            "4380 [D loss: 0.648279] [D acc.: 50.00%, fake 33.33%, real 66.67%] [G loss: 1.175142]\n"
          ],
          "name": "stdout"
        },
        {
          "output_type": "stream",
          "text": [
            "WARNING:root:Lossy conversion from float32 to uint8. Range [0, 1]. Convert image to uint8 prior to saving to suppress this warning.\n"
          ],
          "name": "stderr"
        },
        {
          "output_type": "stream",
          "text": [
            "4400 [D loss: 1.016269] [D acc.: 8.33%, fake 0.00%, real 16.67%] [G loss: 0.323299]\n",
            "4420 [D loss: 0.769531] [D acc.: 33.33%, fake 33.33%, real 33.33%] [G loss: 0.362775]\n",
            "4440 [D loss: 1.066527] [D acc.: 16.67%, fake 0.00%, real 33.33%] [G loss: 0.274874]\n",
            "4460 [D loss: 0.694957] [D acc.: 41.67%, fake 50.00%, real 33.33%] [G loss: 0.151991]\n",
            "4480 [D loss: 0.968396] [D acc.: 16.67%, fake 0.00%, real 33.33%] [G loss: 0.507344]\n"
          ],
          "name": "stdout"
        },
        {
          "output_type": "stream",
          "text": [
            "WARNING:root:Lossy conversion from float32 to uint8. Range [0, 1]. Convert image to uint8 prior to saving to suppress this warning.\n"
          ],
          "name": "stderr"
        },
        {
          "output_type": "stream",
          "text": [
            "4500 [D loss: 0.832667] [D acc.: 25.00%, fake 0.00%, real 50.00%] [G loss: 0.579393]\n",
            "4520 [D loss: 0.779947] [D acc.: 16.67%, fake 0.00%, real 33.33%] [G loss: 0.505235]\n",
            "4540 [D loss: 0.798526] [D acc.: 50.00%, fake 33.33%, real 66.67%] [G loss: 0.036578]\n",
            "4560 [D loss: 0.785828] [D acc.: 41.67%, fake 33.33%, real 50.00%] [G loss: 0.192353]\n",
            "4580 [D loss: 0.607359] [D acc.: 75.00%, fake 100.00%, real 50.00%] [G loss: 0.476224]\n"
          ],
          "name": "stdout"
        },
        {
          "output_type": "stream",
          "text": [
            "WARNING:root:Lossy conversion from float32 to uint8. Range [0, 1]. Convert image to uint8 prior to saving to suppress this warning.\n"
          ],
          "name": "stderr"
        },
        {
          "output_type": "stream",
          "text": [
            "4600 [D loss: 0.852511] [D acc.: 25.00%, fake 0.00%, real 50.00%] [G loss: 0.285895]\n",
            "4620 [D loss: 0.724960] [D acc.: 33.33%, fake 16.67%, real 50.00%] [G loss: 0.259987]\n",
            "4640 [D loss: 0.793917] [D acc.: 41.67%, fake 16.67%, real 66.67%] [G loss: 0.350147]\n",
            "4660 [D loss: 0.816826] [D acc.: 33.33%, fake 0.00%, real 66.67%] [G loss: 0.219144]\n",
            "4680 [D loss: 0.745337] [D acc.: 50.00%, fake 33.33%, real 66.67%] [G loss: 0.245563]\n"
          ],
          "name": "stdout"
        },
        {
          "output_type": "stream",
          "text": [
            "WARNING:root:Lossy conversion from float32 to uint8. Range [0, 1]. Convert image to uint8 prior to saving to suppress this warning.\n"
          ],
          "name": "stderr"
        },
        {
          "output_type": "stream",
          "text": [
            "4700 [D loss: 0.676169] [D acc.: 66.67%, fake 66.67%, real 66.67%] [G loss: 0.403675]\n",
            "4720 [D loss: 0.816830] [D acc.: 50.00%, fake 50.00%, real 50.00%] [G loss: 0.193028]\n",
            "4740 [D loss: 0.644532] [D acc.: 75.00%, fake 83.33%, real 66.67%] [G loss: 0.238231]\n",
            "4760 [D loss: 1.081425] [D acc.: 16.67%, fake 0.00%, real 33.33%] [G loss: 0.373062]\n",
            "4780 [D loss: 0.761797] [D acc.: 33.33%, fake 33.33%, real 33.33%] [G loss: 0.434880]\n"
          ],
          "name": "stdout"
        },
        {
          "output_type": "stream",
          "text": [
            "WARNING:root:Lossy conversion from float32 to uint8. Range [0, 1]. Convert image to uint8 prior to saving to suppress this warning.\n"
          ],
          "name": "stderr"
        },
        {
          "output_type": "stream",
          "text": [
            "4800 [D loss: 0.832745] [D acc.: 41.67%, fake 50.00%, real 33.33%] [G loss: 0.829499]\n",
            "4820 [D loss: 0.676937] [D acc.: 66.67%, fake 50.00%, real 83.33%] [G loss: 0.758504]\n",
            "4840 [D loss: 1.114569] [D acc.: 16.67%, fake 0.00%, real 33.33%] [G loss: 0.443127]\n",
            "4860 [D loss: 0.788402] [D acc.: 33.33%, fake 33.33%, real 33.33%] [G loss: 0.518628]\n",
            "4880 [D loss: 0.863516] [D acc.: 25.00%, fake 16.67%, real 33.33%] [G loss: 0.667756]\n"
          ],
          "name": "stdout"
        },
        {
          "output_type": "stream",
          "text": [
            "WARNING:root:Lossy conversion from float32 to uint8. Range [0, 1]. Convert image to uint8 prior to saving to suppress this warning.\n"
          ],
          "name": "stderr"
        },
        {
          "output_type": "stream",
          "text": [
            "4900 [D loss: 0.751252] [D acc.: 33.33%, fake 0.00%, real 66.67%] [G loss: 0.333240]\n",
            "4920 [D loss: 1.044865] [D acc.: 16.67%, fake 0.00%, real 33.33%] [G loss: 0.560602]\n",
            "4940 [D loss: 0.739437] [D acc.: 41.67%, fake 16.67%, real 66.67%] [G loss: 0.739565]\n",
            "4960 [D loss: 0.836653] [D acc.: 16.67%, fake 0.00%, real 33.33%] [G loss: 0.607480]\n",
            "4980 [D loss: 0.355332] [D acc.: 83.33%, fake 100.00%, real 66.67%] [G loss: 0.989326]\n"
          ],
          "name": "stdout"
        },
        {
          "output_type": "stream",
          "text": [
            "WARNING:root:Lossy conversion from float32 to uint8. Range [0, 1]. Convert image to uint8 prior to saving to suppress this warning.\n"
          ],
          "name": "stderr"
        },
        {
          "output_type": "stream",
          "text": [
            "5000 [D loss: 0.886594] [D acc.: 8.33%, fake 16.67%, real 0.00%] [G loss: 0.750500]\n",
            "5020 [D loss: 0.879791] [D acc.: 16.67%, fake 0.00%, real 33.33%] [G loss: 0.556833]\n",
            "5040 [D loss: 0.869982] [D acc.: 8.33%, fake 0.00%, real 16.67%] [G loss: 0.688554]\n",
            "5060 [D loss: 0.772972] [D acc.: 33.33%, fake 33.33%, real 33.33%] [G loss: 0.815790]\n",
            "5080 [D loss: 0.749444] [D acc.: 50.00%, fake 16.67%, real 83.33%] [G loss: 0.655393]\n"
          ],
          "name": "stdout"
        },
        {
          "output_type": "stream",
          "text": [
            "WARNING:root:Lossy conversion from float32 to uint8. Range [0, 1]. Convert image to uint8 prior to saving to suppress this warning.\n"
          ],
          "name": "stderr"
        },
        {
          "output_type": "stream",
          "text": [
            "5100 [D loss: 0.760915] [D acc.: 25.00%, fake 0.00%, real 50.00%] [G loss: 0.278534]\n",
            "5120 [D loss: 0.969199] [D acc.: 41.67%, fake 33.33%, real 50.00%] [G loss: 0.681502]\n",
            "5140 [D loss: 0.683167] [D acc.: 41.67%, fake 16.67%, real 66.67%] [G loss: 0.445806]\n",
            "5160 [D loss: 0.812398] [D acc.: 33.33%, fake 0.00%, real 66.67%] [G loss: 0.550834]\n",
            "5180 [D loss: 0.630978] [D acc.: 66.67%, fake 66.67%, real 66.67%] [G loss: 0.567802]\n"
          ],
          "name": "stdout"
        },
        {
          "output_type": "stream",
          "text": [
            "WARNING:root:Lossy conversion from float32 to uint8. Range [0, 1]. Convert image to uint8 prior to saving to suppress this warning.\n"
          ],
          "name": "stderr"
        },
        {
          "output_type": "stream",
          "text": [
            "5200 [D loss: 0.760634] [D acc.: 33.33%, fake 0.00%, real 66.67%] [G loss: 0.308262]\n",
            "5220 [D loss: 0.686222] [D acc.: 58.33%, fake 83.33%, real 33.33%] [G loss: 1.036387]\n",
            "5240 [D loss: 0.741013] [D acc.: 58.33%, fake 100.00%, real 16.67%] [G loss: 1.460999]\n",
            "5260 [D loss: 0.757527] [D acc.: 25.00%, fake 16.67%, real 33.33%] [G loss: 0.858053]\n",
            "5280 [D loss: 0.738296] [D acc.: 50.00%, fake 50.00%, real 50.00%] [G loss: 0.378840]\n"
          ],
          "name": "stdout"
        },
        {
          "output_type": "stream",
          "text": [
            "WARNING:root:Lossy conversion from float32 to uint8. Range [0, 1]. Convert image to uint8 prior to saving to suppress this warning.\n"
          ],
          "name": "stderr"
        },
        {
          "output_type": "stream",
          "text": [
            "5300 [D loss: 0.567766] [D acc.: 66.67%, fake 100.00%, real 33.33%] [G loss: 0.826422]\n",
            "5320 [D loss: 0.727114] [D acc.: 33.33%, fake 50.00%, real 16.67%] [G loss: 1.195848]\n",
            "5340 [D loss: 0.734352] [D acc.: 41.67%, fake 16.67%, real 66.67%] [G loss: 0.618523]\n",
            "5360 [D loss: 0.819959] [D acc.: 50.00%, fake 16.67%, real 83.33%] [G loss: 0.373093]\n",
            "5380 [D loss: 0.968365] [D acc.: 25.00%, fake 16.67%, real 33.33%] [G loss: 0.664617]\n"
          ],
          "name": "stdout"
        },
        {
          "output_type": "stream",
          "text": [
            "WARNING:root:Lossy conversion from float32 to uint8. Range [0, 1]. Convert image to uint8 prior to saving to suppress this warning.\n"
          ],
          "name": "stderr"
        },
        {
          "output_type": "stream",
          "text": [
            "5400 [D loss: 0.665197] [D acc.: 50.00%, fake 16.67%, real 83.33%] [G loss: 0.261130]\n",
            "5420 [D loss: 0.887989] [D acc.: 41.67%, fake 0.00%, real 83.33%] [G loss: 0.522750]\n",
            "5440 [D loss: 0.597784] [D acc.: 75.00%, fake 100.00%, real 50.00%] [G loss: 0.416223]\n",
            "5460 [D loss: 0.371070] [D acc.: 100.00%, fake 100.00%, real 100.00%] [G loss: 0.557007]\n",
            "5480 [D loss: 0.754709] [D acc.: 41.67%, fake 16.67%, real 66.67%] [G loss: 0.544395]\n"
          ],
          "name": "stdout"
        },
        {
          "output_type": "stream",
          "text": [
            "WARNING:root:Lossy conversion from float32 to uint8. Range [0, 1]. Convert image to uint8 prior to saving to suppress this warning.\n"
          ],
          "name": "stderr"
        },
        {
          "output_type": "stream",
          "text": [
            "5500 [D loss: 0.572407] [D acc.: 83.33%, fake 83.33%, real 83.33%] [G loss: 0.306078]\n",
            "5520 [D loss: 0.595802] [D acc.: 66.67%, fake 50.00%, real 83.33%] [G loss: 0.743046]\n",
            "5540 [D loss: 0.481961] [D acc.: 83.33%, fake 100.00%, real 66.67%] [G loss: 0.682681]\n",
            "5560 [D loss: 0.595831] [D acc.: 75.00%, fake 83.33%, real 66.67%] [G loss: 0.607303]\n",
            "5580 [D loss: 0.926691] [D acc.: 25.00%, fake 0.00%, real 50.00%] [G loss: 0.602137]\n"
          ],
          "name": "stdout"
        },
        {
          "output_type": "stream",
          "text": [
            "WARNING:root:Lossy conversion from float32 to uint8. Range [0, 1]. Convert image to uint8 prior to saving to suppress this warning.\n"
          ],
          "name": "stderr"
        },
        {
          "output_type": "stream",
          "text": [
            "5600 [D loss: 0.818272] [D acc.: 41.67%, fake 16.67%, real 66.67%] [G loss: 0.850299]\n",
            "5620 [D loss: 1.230973] [D acc.: 8.33%, fake 0.00%, real 16.67%] [G loss: 0.650623]\n",
            "5640 [D loss: 0.599011] [D acc.: 66.67%, fake 83.33%, real 50.00%] [G loss: 0.444686]\n",
            "5660 [D loss: 0.537353] [D acc.: 50.00%, fake 16.67%, real 83.33%] [G loss: 0.334448]\n",
            "5680 [D loss: 0.769979] [D acc.: 33.33%, fake 0.00%, real 66.67%] [G loss: 0.409653]\n"
          ],
          "name": "stdout"
        },
        {
          "output_type": "stream",
          "text": [
            "WARNING:root:Lossy conversion from float32 to uint8. Range [0, 1]. Convert image to uint8 prior to saving to suppress this warning.\n"
          ],
          "name": "stderr"
        },
        {
          "output_type": "stream",
          "text": [
            "5700 [D loss: 0.499096] [D acc.: 91.67%, fake 100.00%, real 83.33%] [G loss: 0.362532]\n",
            "5720 [D loss: 0.704040] [D acc.: 50.00%, fake 50.00%, real 50.00%] [G loss: 0.917759]\n",
            "5740 [D loss: 0.886124] [D acc.: 33.33%, fake 50.00%, real 16.67%] [G loss: 1.239209]\n",
            "5760 [D loss: 0.822170] [D acc.: 41.67%, fake 0.00%, real 83.33%] [G loss: 0.259648]\n",
            "5780 [D loss: 0.704276] [D acc.: 41.67%, fake 0.00%, real 83.33%] [G loss: 0.386332]\n"
          ],
          "name": "stdout"
        },
        {
          "output_type": "stream",
          "text": [
            "WARNING:root:Lossy conversion from float32 to uint8. Range [0, 1]. Convert image to uint8 prior to saving to suppress this warning.\n"
          ],
          "name": "stderr"
        },
        {
          "output_type": "stream",
          "text": [
            "5800 [D loss: 0.452869] [D acc.: 91.67%, fake 100.00%, real 83.33%] [G loss: 0.449618]\n",
            "5820 [D loss: 0.737902] [D acc.: 58.33%, fake 83.33%, real 33.33%] [G loss: 0.825034]\n",
            "5840 [D loss: 0.929005] [D acc.: 25.00%, fake 0.00%, real 50.00%] [G loss: 0.599247]\n",
            "5860 [D loss: 0.836980] [D acc.: 25.00%, fake 33.33%, real 16.67%] [G loss: 0.855265]\n",
            "5880 [D loss: 0.378693] [D acc.: 75.00%, fake 100.00%, real 50.00%] [G loss: 1.913570]\n"
          ],
          "name": "stdout"
        },
        {
          "output_type": "stream",
          "text": [
            "WARNING:root:Lossy conversion from float32 to uint8. Range [0, 1]. Convert image to uint8 prior to saving to suppress this warning.\n"
          ],
          "name": "stderr"
        },
        {
          "output_type": "stream",
          "text": [
            "5900 [D loss: 0.856749] [D acc.: 58.33%, fake 100.00%, real 16.67%] [G loss: 0.992152]\n",
            "5920 [D loss: 0.778879] [D acc.: 50.00%, fake 66.67%, real 33.33%] [G loss: 0.600210]\n",
            "5940 [D loss: 0.813901] [D acc.: 33.33%, fake 0.00%, real 66.67%] [G loss: 0.361578]\n",
            "5960 [D loss: 0.886631] [D acc.: 33.33%, fake 0.00%, real 66.67%] [G loss: 0.192323]\n",
            "5980 [D loss: 0.891905] [D acc.: 33.33%, fake 0.00%, real 66.67%] [G loss: 0.303053]\n"
          ],
          "name": "stdout"
        },
        {
          "output_type": "stream",
          "text": [
            "WARNING:root:Lossy conversion from float32 to uint8. Range [0, 1]. Convert image to uint8 prior to saving to suppress this warning.\n"
          ],
          "name": "stderr"
        },
        {
          "output_type": "stream",
          "text": [
            "6000 [D loss: 0.715150] [D acc.: 50.00%, fake 33.33%, real 66.67%] [G loss: 0.302087]\n",
            "6020 [D loss: 0.617858] [D acc.: 66.67%, fake 83.33%, real 50.00%] [G loss: 1.101322]\n",
            "6040 [D loss: 0.883839] [D acc.: 8.33%, fake 16.67%, real 0.00%] [G loss: 0.820459]\n",
            "6060 [D loss: 0.655273] [D acc.: 50.00%, fake 66.67%, real 33.33%] [G loss: 1.027115]\n",
            "6080 [D loss: 0.812394] [D acc.: 16.67%, fake 16.67%, real 16.67%] [G loss: 0.917734]\n"
          ],
          "name": "stdout"
        },
        {
          "output_type": "stream",
          "text": [
            "WARNING:root:Lossy conversion from float32 to uint8. Range [0, 1]. Convert image to uint8 prior to saving to suppress this warning.\n"
          ],
          "name": "stderr"
        },
        {
          "output_type": "stream",
          "text": [
            "6100 [D loss: 1.111606] [D acc.: 8.33%, fake 0.00%, real 16.67%] [G loss: 0.480478]\n",
            "6120 [D loss: 0.661646] [D acc.: 33.33%, fake 0.00%, real 66.67%] [G loss: 0.394153]\n",
            "6140 [D loss: 0.757969] [D acc.: 25.00%, fake 0.00%, real 50.00%] [G loss: 0.540508]\n",
            "6160 [D loss: 0.229101] [D acc.: 100.00%, fake 100.00%, real 100.00%] [G loss: 0.560189]\n",
            "6180 [D loss: 0.649196] [D acc.: 66.67%, fake 50.00%, real 83.33%] [G loss: 0.641000]\n"
          ],
          "name": "stdout"
        },
        {
          "output_type": "stream",
          "text": [
            "WARNING:root:Lossy conversion from float32 to uint8. Range [0, 1]. Convert image to uint8 prior to saving to suppress this warning.\n"
          ],
          "name": "stderr"
        },
        {
          "output_type": "stream",
          "text": [
            "6200 [D loss: 1.146803] [D acc.: 25.00%, fake 0.00%, real 50.00%] [G loss: 0.479140]\n",
            "6220 [D loss: 0.816375] [D acc.: 50.00%, fake 0.00%, real 100.00%] [G loss: 0.443939]\n",
            "6240 [D loss: 0.664669] [D acc.: 41.67%, fake 16.67%, real 66.67%] [G loss: 0.383250]\n",
            "6260 [D loss: 0.757095] [D acc.: 41.67%, fake 0.00%, real 83.33%] [G loss: 0.273608]\n",
            "6280 [D loss: 0.597731] [D acc.: 83.33%, fake 100.00%, real 66.67%] [G loss: 0.477763]\n"
          ],
          "name": "stdout"
        },
        {
          "output_type": "stream",
          "text": [
            "WARNING:root:Lossy conversion from float32 to uint8. Range [0, 1]. Convert image to uint8 prior to saving to suppress this warning.\n"
          ],
          "name": "stderr"
        },
        {
          "output_type": "stream",
          "text": [
            "6300 [D loss: 0.708978] [D acc.: 41.67%, fake 83.33%, real 0.00%] [G loss: 1.316910]\n",
            "6320 [D loss: 0.638113] [D acc.: 58.33%, fake 100.00%, real 16.67%] [G loss: 2.087443]\n",
            "6340 [D loss: 0.923832] [D acc.: 16.67%, fake 16.67%, real 16.67%] [G loss: 0.616835]\n",
            "6360 [D loss: 0.786155] [D acc.: 50.00%, fake 16.67%, real 83.33%] [G loss: 0.283781]\n",
            "6380 [D loss: 0.840351] [D acc.: 41.67%, fake 0.00%, real 83.33%] [G loss: 0.155316]\n"
          ],
          "name": "stdout"
        },
        {
          "output_type": "stream",
          "text": [
            "WARNING:root:Lossy conversion from float32 to uint8. Range [0, 1]. Convert image to uint8 prior to saving to suppress this warning.\n"
          ],
          "name": "stderr"
        },
        {
          "output_type": "stream",
          "text": [
            "6400 [D loss: 0.846373] [D acc.: 33.33%, fake 0.00%, real 66.67%] [G loss: 0.357301]\n",
            "6420 [D loss: 0.928495] [D acc.: 33.33%, fake 0.00%, real 66.67%] [G loss: 0.350111]\n",
            "6440 [D loss: 0.856197] [D acc.: 8.33%, fake 0.00%, real 16.67%] [G loss: 0.747266]\n",
            "6460 [D loss: 0.448820] [D acc.: 83.33%, fake 100.00%, real 66.67%] [G loss: 1.943790]\n",
            "6480 [D loss: 1.011050] [D acc.: 33.33%, fake 0.00%, real 66.67%] [G loss: 0.451831]\n"
          ],
          "name": "stdout"
        },
        {
          "output_type": "stream",
          "text": [
            "WARNING:root:Lossy conversion from float32 to uint8. Range [0, 1]. Convert image to uint8 prior to saving to suppress this warning.\n"
          ],
          "name": "stderr"
        },
        {
          "output_type": "stream",
          "text": [
            "6500 [D loss: 0.539215] [D acc.: 50.00%, fake 16.67%, real 83.33%] [G loss: 0.809727]\n",
            "6520 [D loss: 0.476800] [D acc.: 75.00%, fake 100.00%, real 50.00%] [G loss: 0.970585]\n",
            "6540 [D loss: 1.232598] [D acc.: 8.33%, fake 0.00%, real 16.67%] [G loss: 0.451524]\n",
            "6560 [D loss: 0.742305] [D acc.: 58.33%, fake 50.00%, real 66.67%] [G loss: 0.332266]\n",
            "6580 [D loss: 1.148525] [D acc.: 25.00%, fake 0.00%, real 50.00%] [G loss: 0.356623]\n"
          ],
          "name": "stdout"
        },
        {
          "output_type": "stream",
          "text": [
            "WARNING:root:Lossy conversion from float32 to uint8. Range [0, 1]. Convert image to uint8 prior to saving to suppress this warning.\n"
          ],
          "name": "stderr"
        },
        {
          "output_type": "stream",
          "text": [
            "6600 [D loss: 1.020965] [D acc.: 16.67%, fake 0.00%, real 33.33%] [G loss: 0.935769]\n",
            "6620 [D loss: 0.620615] [D acc.: 66.67%, fake 100.00%, real 33.33%] [G loss: 0.666041]\n",
            "6640 [D loss: 0.697050] [D acc.: 66.67%, fake 83.33%, real 50.00%] [G loss: 0.509172]\n",
            "6660 [D loss: 0.612961] [D acc.: 58.33%, fake 33.33%, real 83.33%] [G loss: 0.705564]\n",
            "6680 [D loss: 0.905545] [D acc.: 33.33%, fake 16.67%, real 50.00%] [G loss: 0.692601]\n"
          ],
          "name": "stdout"
        },
        {
          "output_type": "stream",
          "text": [
            "WARNING:root:Lossy conversion from float32 to uint8. Range [0, 1]. Convert image to uint8 prior to saving to suppress this warning.\n"
          ],
          "name": "stderr"
        },
        {
          "output_type": "stream",
          "text": [
            "6700 [D loss: 0.860665] [D acc.: 50.00%, fake 50.00%, real 50.00%] [G loss: 0.501673]\n",
            "6720 [D loss: 0.813785] [D acc.: 25.00%, fake 0.00%, real 50.00%] [G loss: 0.490289]\n",
            "6740 [D loss: 0.825285] [D acc.: 58.33%, fake 83.33%, real 33.33%] [G loss: 0.604724]\n",
            "6760 [D loss: 0.798494] [D acc.: 16.67%, fake 0.00%, real 33.33%] [G loss: 0.673357]\n",
            "6780 [D loss: 0.793246] [D acc.: 25.00%, fake 0.00%, real 50.00%] [G loss: 0.308806]\n"
          ],
          "name": "stdout"
        },
        {
          "output_type": "stream",
          "text": [
            "WARNING:root:Lossy conversion from float32 to uint8. Range [0, 1]. Convert image to uint8 prior to saving to suppress this warning.\n"
          ],
          "name": "stderr"
        },
        {
          "output_type": "stream",
          "text": [
            "6800 [D loss: 0.317991] [D acc.: 100.00%, fake 100.00%, real 100.00%] [G loss: 0.579194]\n",
            "6820 [D loss: 0.565104] [D acc.: 75.00%, fake 100.00%, real 50.00%] [G loss: 1.260119]\n",
            "6840 [D loss: 0.675346] [D acc.: 58.33%, fake 83.33%, real 33.33%] [G loss: 1.513520]\n",
            "6860 [D loss: 0.853536] [D acc.: 16.67%, fake 0.00%, real 33.33%] [G loss: 0.567280]\n",
            "6880 [D loss: 1.081134] [D acc.: 25.00%, fake 0.00%, real 50.00%] [G loss: 0.273681]\n"
          ],
          "name": "stdout"
        },
        {
          "output_type": "stream",
          "text": [
            "WARNING:root:Lossy conversion from float32 to uint8. Range [0, 1]. Convert image to uint8 prior to saving to suppress this warning.\n"
          ],
          "name": "stderr"
        },
        {
          "output_type": "stream",
          "text": [
            "6900 [D loss: 0.614718] [D acc.: 58.33%, fake 50.00%, real 66.67%] [G loss: 0.598240]\n",
            "6920 [D loss: 0.471404] [D acc.: 91.67%, fake 100.00%, real 83.33%] [G loss: 0.230454]\n",
            "6940 [D loss: 1.226319] [D acc.: 25.00%, fake 16.67%, real 33.33%] [G loss: 0.247840]\n",
            "6960 [D loss: 0.818643] [D acc.: 33.33%, fake 16.67%, real 50.00%] [G loss: 0.612168]\n",
            "6980 [D loss: 0.600781] [D acc.: 75.00%, fake 83.33%, real 66.67%] [G loss: 0.291255]\n"
          ],
          "name": "stdout"
        },
        {
          "output_type": "stream",
          "text": [
            "WARNING:root:Lossy conversion from float32 to uint8. Range [0, 1]. Convert image to uint8 prior to saving to suppress this warning.\n"
          ],
          "name": "stderr"
        },
        {
          "output_type": "stream",
          "text": [
            "7000 [D loss: 0.483007] [D acc.: 83.33%, fake 66.67%, real 100.00%] [G loss: 1.318620]\n",
            "7020 [D loss: 1.012960] [D acc.: 8.33%, fake 0.00%, real 16.67%] [G loss: 0.511690]\n",
            "7040 [D loss: 0.911767] [D acc.: 33.33%, fake 0.00%, real 66.67%] [G loss: 0.099875]\n",
            "7060 [D loss: 0.647334] [D acc.: 58.33%, fake 33.33%, real 83.33%] [G loss: 0.183673]\n",
            "7080 [D loss: 0.385092] [D acc.: 83.33%, fake 100.00%, real 66.67%] [G loss: 1.469181]\n"
          ],
          "name": "stdout"
        },
        {
          "output_type": "stream",
          "text": [
            "WARNING:root:Lossy conversion from float32 to uint8. Range [0, 1]. Convert image to uint8 prior to saving to suppress this warning.\n"
          ],
          "name": "stderr"
        },
        {
          "output_type": "stream",
          "text": [
            "7100 [D loss: 0.985400] [D acc.: 16.67%, fake 16.67%, real 16.67%] [G loss: 0.848052]\n",
            "7120 [D loss: 0.968933] [D acc.: 16.67%, fake 16.67%, real 16.67%] [G loss: 0.897242]\n",
            "7140 [D loss: 0.868104] [D acc.: 16.67%, fake 16.67%, real 16.67%] [G loss: 0.797996]\n",
            "7160 [D loss: 0.746650] [D acc.: 33.33%, fake 16.67%, real 50.00%] [G loss: 0.622206]\n",
            "7180 [D loss: 0.286336] [D acc.: 100.00%, fake 100.00%, real 100.00%] [G loss: 1.892990]\n"
          ],
          "name": "stdout"
        },
        {
          "output_type": "stream",
          "text": [
            "WARNING:root:Lossy conversion from float32 to uint8. Range [0, 1]. Convert image to uint8 prior to saving to suppress this warning.\n"
          ],
          "name": "stderr"
        },
        {
          "output_type": "stream",
          "text": [
            "7200 [D loss: 0.902602] [D acc.: 33.33%, fake 0.00%, real 66.67%] [G loss: 0.814400]\n",
            "7220 [D loss: 0.916030] [D acc.: 50.00%, fake 33.33%, real 66.67%] [G loss: 0.482183]\n",
            "7240 [D loss: 0.961258] [D acc.: 8.33%, fake 0.00%, real 16.67%] [G loss: 0.609249]\n",
            "7260 [D loss: 1.019657] [D acc.: 33.33%, fake 66.67%, real 0.00%] [G loss: 0.811405]\n",
            "7280 [D loss: 0.723759] [D acc.: 33.33%, fake 33.33%, real 33.33%] [G loss: 1.009580]\n"
          ],
          "name": "stdout"
        },
        {
          "output_type": "stream",
          "text": [
            "WARNING:root:Lossy conversion from float32 to uint8. Range [0, 1]. Convert image to uint8 prior to saving to suppress this warning.\n"
          ],
          "name": "stderr"
        },
        {
          "output_type": "stream",
          "text": [
            "7300 [D loss: 0.788563] [D acc.: 25.00%, fake 33.33%, real 16.67%] [G loss: 0.730075]\n",
            "7320 [D loss: 0.606936] [D acc.: 66.67%, fake 100.00%, real 33.33%] [G loss: 1.566392]\n",
            "7340 [D loss: 0.370730] [D acc.: 91.67%, fake 100.00%, real 83.33%] [G loss: 1.371500]\n",
            "7360 [D loss: 0.628697] [D acc.: 75.00%, fake 100.00%, real 50.00%] [G loss: 0.687752]\n",
            "7380 [D loss: 0.740147] [D acc.: 41.67%, fake 33.33%, real 50.00%] [G loss: 0.650560]\n"
          ],
          "name": "stdout"
        },
        {
          "output_type": "stream",
          "text": [
            "WARNING:root:Lossy conversion from float32 to uint8. Range [0, 1]. Convert image to uint8 prior to saving to suppress this warning.\n"
          ],
          "name": "stderr"
        },
        {
          "output_type": "stream",
          "text": [
            "7400 [D loss: 0.662527] [D acc.: 50.00%, fake 66.67%, real 33.33%] [G loss: 1.045011]\n",
            "7420 [D loss: 0.370496] [D acc.: 91.67%, fake 100.00%, real 83.33%] [G loss: 0.779233]\n",
            "7440 [D loss: 0.758330] [D acc.: 50.00%, fake 50.00%, real 50.00%] [G loss: 1.070534]\n",
            "7460 [D loss: 0.781456] [D acc.: 25.00%, fake 0.00%, real 50.00%] [G loss: 0.495592]\n",
            "7480 [D loss: 0.822513] [D acc.: 33.33%, fake 33.33%, real 33.33%] [G loss: 1.119747]\n"
          ],
          "name": "stdout"
        },
        {
          "output_type": "stream",
          "text": [
            "WARNING:root:Lossy conversion from float32 to uint8. Range [0, 1]. Convert image to uint8 prior to saving to suppress this warning.\n"
          ],
          "name": "stderr"
        },
        {
          "output_type": "stream",
          "text": [
            "7500 [D loss: 0.887881] [D acc.: 16.67%, fake 16.67%, real 16.67%] [G loss: 1.481921]\n",
            "7520 [D loss: 0.646524] [D acc.: 33.33%, fake 0.00%, real 66.67%] [G loss: 0.675421]\n",
            "7540 [D loss: 0.706905] [D acc.: 58.33%, fake 50.00%, real 66.67%] [G loss: 0.264059]\n",
            "7560 [D loss: 0.311499] [D acc.: 91.67%, fake 100.00%, real 83.33%] [G loss: 2.157521]\n",
            "7580 [D loss: 0.876022] [D acc.: 16.67%, fake 0.00%, real 33.33%] [G loss: 0.631351]\n"
          ],
          "name": "stdout"
        },
        {
          "output_type": "stream",
          "text": [
            "WARNING:root:Lossy conversion from float32 to uint8. Range [0, 1]. Convert image to uint8 prior to saving to suppress this warning.\n"
          ],
          "name": "stderr"
        },
        {
          "output_type": "stream",
          "text": [
            "7600 [D loss: 0.952230] [D acc.: 41.67%, fake 0.00%, real 83.33%] [G loss: 0.235766]\n",
            "7620 [D loss: 0.376761] [D acc.: 83.33%, fake 100.00%, real 66.67%] [G loss: 0.764103]\n",
            "7640 [D loss: 0.386642] [D acc.: 91.67%, fake 100.00%, real 83.33%] [G loss: 0.651630]\n",
            "7660 [D loss: 0.464707] [D acc.: 83.33%, fake 100.00%, real 66.67%] [G loss: 1.010644]\n",
            "7680 [D loss: 0.658353] [D acc.: 50.00%, fake 33.33%, real 66.67%] [G loss: 0.767255]\n"
          ],
          "name": "stdout"
        },
        {
          "output_type": "stream",
          "text": [
            "WARNING:root:Lossy conversion from float32 to uint8. Range [0, 1]. Convert image to uint8 prior to saving to suppress this warning.\n"
          ],
          "name": "stderr"
        },
        {
          "output_type": "stream",
          "text": [
            "7700 [D loss: 0.566110] [D acc.: 75.00%, fake 100.00%, real 50.00%] [G loss: 1.352987]\n",
            "7720 [D loss: 0.606021] [D acc.: 58.33%, fake 50.00%, real 66.67%] [G loss: 0.794947]\n",
            "7740 [D loss: 0.348929] [D acc.: 91.67%, fake 100.00%, real 83.33%] [G loss: 0.279832]\n",
            "7760 [D loss: 0.620522] [D acc.: 66.67%, fake 83.33%, real 50.00%] [G loss: 0.424031]\n",
            "7780 [D loss: 0.690840] [D acc.: 58.33%, fake 66.67%, real 50.00%] [G loss: 0.340864]\n"
          ],
          "name": "stdout"
        },
        {
          "output_type": "stream",
          "text": [
            "WARNING:root:Lossy conversion from float32 to uint8. Range [0, 1]. Convert image to uint8 prior to saving to suppress this warning.\n"
          ],
          "name": "stderr"
        },
        {
          "output_type": "stream",
          "text": [
            "7800 [D loss: 0.660299] [D acc.: 50.00%, fake 33.33%, real 66.67%] [G loss: 0.642631]\n",
            "7820 [D loss: 1.185373] [D acc.: 8.33%, fake 0.00%, real 16.67%] [G loss: 0.829291]\n",
            "7840 [D loss: 0.774005] [D acc.: 33.33%, fake 50.00%, real 16.67%] [G loss: 0.328153]\n",
            "7860 [D loss: 0.803424] [D acc.: 25.00%, fake 16.67%, real 33.33%] [G loss: 0.738625]\n",
            "7880 [D loss: 0.398863] [D acc.: 83.33%, fake 100.00%, real 66.67%] [G loss: 1.387797]\n"
          ],
          "name": "stdout"
        },
        {
          "output_type": "stream",
          "text": [
            "WARNING:root:Lossy conversion from float32 to uint8. Range [0, 1]. Convert image to uint8 prior to saving to suppress this warning.\n"
          ],
          "name": "stderr"
        },
        {
          "output_type": "stream",
          "text": [
            "7900 [D loss: 0.393256] [D acc.: 91.67%, fake 100.00%, real 83.33%] [G loss: 0.695816]\n",
            "7920 [D loss: 0.928889] [D acc.: 33.33%, fake 0.00%, real 66.67%] [G loss: 0.812176]\n",
            "7940 [D loss: 0.886568] [D acc.: 33.33%, fake 16.67%, real 50.00%] [G loss: 0.317136]\n",
            "7960 [D loss: 0.947377] [D acc.: 25.00%, fake 0.00%, real 50.00%] [G loss: 0.439987]\n",
            "7980 [D loss: 0.967039] [D acc.: 16.67%, fake 16.67%, real 16.67%] [G loss: 0.597990]\n"
          ],
          "name": "stdout"
        },
        {
          "output_type": "stream",
          "text": [
            "WARNING:root:Lossy conversion from float32 to uint8. Range [0, 1]. Convert image to uint8 prior to saving to suppress this warning.\n"
          ],
          "name": "stderr"
        },
        {
          "output_type": "stream",
          "text": [
            "8000 [D loss: 0.710887] [D acc.: 66.67%, fake 100.00%, real 33.33%] [G loss: 0.935056]\n",
            "8020 [D loss: 0.632368] [D acc.: 66.67%, fake 83.33%, real 50.00%] [G loss: 0.658757]\n",
            "8040 [D loss: 0.606815] [D acc.: 66.67%, fake 83.33%, real 50.00%] [G loss: 1.043395]\n",
            "8060 [D loss: 0.668872] [D acc.: 58.33%, fake 33.33%, real 83.33%] [G loss: 0.443883]\n",
            "8080 [D loss: 0.404745] [D acc.: 83.33%, fake 100.00%, real 66.67%] [G loss: 2.214810]\n"
          ],
          "name": "stdout"
        },
        {
          "output_type": "stream",
          "text": [
            "WARNING:root:Lossy conversion from float32 to uint8. Range [0, 1]. Convert image to uint8 prior to saving to suppress this warning.\n"
          ],
          "name": "stderr"
        },
        {
          "output_type": "stream",
          "text": [
            "8100 [D loss: 0.765686] [D acc.: 41.67%, fake 16.67%, real 66.67%] [G loss: 1.310937]\n",
            "8120 [D loss: 0.897864] [D acc.: 16.67%, fake 0.00%, real 33.33%] [G loss: 0.686909]\n",
            "8140 [D loss: 0.190899] [D acc.: 100.00%, fake 100.00%, real 100.00%] [G loss: 0.701714]\n",
            "8160 [D loss: 0.930739] [D acc.: 16.67%, fake 16.67%, real 16.67%] [G loss: 0.948460]\n",
            "8180 [D loss: 0.805934] [D acc.: 16.67%, fake 0.00%, real 33.33%] [G loss: 0.861552]\n"
          ],
          "name": "stdout"
        },
        {
          "output_type": "stream",
          "text": [
            "WARNING:root:Lossy conversion from float32 to uint8. Range [0, 1]. Convert image to uint8 prior to saving to suppress this warning.\n"
          ],
          "name": "stderr"
        },
        {
          "output_type": "stream",
          "text": [
            "8200 [D loss: 0.348707] [D acc.: 83.33%, fake 100.00%, real 66.67%] [G loss: 1.399827]\n",
            "8220 [D loss: 0.851198] [D acc.: 25.00%, fake 0.00%, real 50.00%] [G loss: 0.385901]\n",
            "8240 [D loss: 0.881804] [D acc.: 33.33%, fake 50.00%, real 16.67%] [G loss: 0.277237]\n",
            "8260 [D loss: 0.999841] [D acc.: 16.67%, fake 16.67%, real 16.67%] [G loss: 0.525477]\n",
            "8280 [D loss: 0.682297] [D acc.: 41.67%, fake 33.33%, real 50.00%] [G loss: 0.423855]\n"
          ],
          "name": "stdout"
        },
        {
          "output_type": "stream",
          "text": [
            "WARNING:root:Lossy conversion from float32 to uint8. Range [0, 1]. Convert image to uint8 prior to saving to suppress this warning.\n"
          ],
          "name": "stderr"
        },
        {
          "output_type": "stream",
          "text": [
            "8300 [D loss: 0.626919] [D acc.: 66.67%, fake 83.33%, real 50.00%] [G loss: 0.797270]\n",
            "8320 [D loss: 0.661510] [D acc.: 41.67%, fake 0.00%, real 83.33%] [G loss: 0.337743]\n",
            "8340 [D loss: 0.691041] [D acc.: 50.00%, fake 16.67%, real 83.33%] [G loss: 0.551716]\n",
            "8360 [D loss: 0.521670] [D acc.: 83.33%, fake 66.67%, real 100.00%] [G loss: 0.844867]\n",
            "8380 [D loss: 0.831018] [D acc.: 50.00%, fake 66.67%, real 33.33%] [G loss: 0.670671]\n"
          ],
          "name": "stdout"
        },
        {
          "output_type": "stream",
          "text": [
            "WARNING:root:Lossy conversion from float32 to uint8. Range [0, 1]. Convert image to uint8 prior to saving to suppress this warning.\n"
          ],
          "name": "stderr"
        },
        {
          "output_type": "stream",
          "text": [
            "8400 [D loss: 0.518477] [D acc.: 83.33%, fake 100.00%, real 66.67%] [G loss: 1.039089]\n",
            "8420 [D loss: 0.624836] [D acc.: 75.00%, fake 100.00%, real 50.00%] [G loss: 1.241353]\n",
            "8440 [D loss: 1.090819] [D acc.: 0.00%, fake 0.00%, real 0.00%] [G loss: 0.612719]\n",
            "8460 [D loss: 0.671992] [D acc.: 41.67%, fake 0.00%, real 83.33%] [G loss: 0.589879]\n",
            "8480 [D loss: 0.729356] [D acc.: 50.00%, fake 50.00%, real 50.00%] [G loss: 0.388870]\n"
          ],
          "name": "stdout"
        },
        {
          "output_type": "stream",
          "text": [
            "WARNING:root:Lossy conversion from float32 to uint8. Range [0, 1]. Convert image to uint8 prior to saving to suppress this warning.\n"
          ],
          "name": "stderr"
        },
        {
          "output_type": "stream",
          "text": [
            "8500 [D loss: 0.750011] [D acc.: 33.33%, fake 0.00%, real 66.67%] [G loss: 0.621727]\n",
            "8520 [D loss: 0.872809] [D acc.: 16.67%, fake 0.00%, real 33.33%] [G loss: 0.584061]\n",
            "8540 [D loss: 0.634012] [D acc.: 66.67%, fake 100.00%, real 33.33%] [G loss: 1.252402]\n",
            "8560 [D loss: 0.891521] [D acc.: 25.00%, fake 33.33%, real 16.67%] [G loss: 1.064345]\n",
            "8580 [D loss: 0.877601] [D acc.: 33.33%, fake 16.67%, real 50.00%] [G loss: 0.334625]\n"
          ],
          "name": "stdout"
        },
        {
          "output_type": "stream",
          "text": [
            "WARNING:root:Lossy conversion from float32 to uint8. Range [0, 1]. Convert image to uint8 prior to saving to suppress this warning.\n"
          ],
          "name": "stderr"
        },
        {
          "output_type": "stream",
          "text": [
            "8600 [D loss: 0.986276] [D acc.: 8.33%, fake 0.00%, real 16.67%] [G loss: 0.819364]\n",
            "8620 [D loss: 0.737368] [D acc.: 50.00%, fake 66.67%, real 33.33%] [G loss: 0.840657]\n",
            "8640 [D loss: 0.923630] [D acc.: 33.33%, fake 16.67%, real 50.00%] [G loss: 0.663493]\n",
            "8660 [D loss: 0.693865] [D acc.: 50.00%, fake 50.00%, real 50.00%] [G loss: 0.815702]\n",
            "8680 [D loss: 0.979138] [D acc.: 25.00%, fake 33.33%, real 16.67%] [G loss: 0.649679]\n"
          ],
          "name": "stdout"
        },
        {
          "output_type": "stream",
          "text": [
            "WARNING:root:Lossy conversion from float32 to uint8. Range [0, 1]. Convert image to uint8 prior to saving to suppress this warning.\n"
          ],
          "name": "stderr"
        },
        {
          "output_type": "stream",
          "text": [
            "8700 [D loss: 0.668085] [D acc.: 50.00%, fake 100.00%, real 0.00%] [G loss: 1.930438]\n",
            "8720 [D loss: 0.993173] [D acc.: 25.00%, fake 16.67%, real 33.33%] [G loss: 0.470508]\n",
            "8740 [D loss: 0.897049] [D acc.: 16.67%, fake 33.33%, real 0.00%] [G loss: 0.897609]\n",
            "8760 [D loss: 0.938649] [D acc.: 25.00%, fake 16.67%, real 33.33%] [G loss: 0.716612]\n",
            "8780 [D loss: 0.556335] [D acc.: 75.00%, fake 100.00%, real 50.00%] [G loss: 1.887631]\n"
          ],
          "name": "stdout"
        },
        {
          "output_type": "stream",
          "text": [
            "WARNING:root:Lossy conversion from float32 to uint8. Range [0, 1]. Convert image to uint8 prior to saving to suppress this warning.\n"
          ],
          "name": "stderr"
        },
        {
          "output_type": "stream",
          "text": [
            "8800 [D loss: 0.841777] [D acc.: 33.33%, fake 16.67%, real 50.00%] [G loss: 0.762137]\n",
            "8820 [D loss: 0.814956] [D acc.: 16.67%, fake 0.00%, real 33.33%] [G loss: 0.715077]\n",
            "8840 [D loss: 0.749911] [D acc.: 41.67%, fake 33.33%, real 50.00%] [G loss: 1.395939]\n",
            "8860 [D loss: 0.649392] [D acc.: 66.67%, fake 100.00%, real 33.33%] [G loss: 0.972300]\n",
            "8880 [D loss: 0.597736] [D acc.: 75.00%, fake 100.00%, real 50.00%] [G loss: 0.920474]\n"
          ],
          "name": "stdout"
        },
        {
          "output_type": "stream",
          "text": [
            "WARNING:root:Lossy conversion from float32 to uint8. Range [0, 1]. Convert image to uint8 prior to saving to suppress this warning.\n"
          ],
          "name": "stderr"
        },
        {
          "output_type": "stream",
          "text": [
            "8900 [D loss: 0.865652] [D acc.: 16.67%, fake 0.00%, real 33.33%] [G loss: 0.356341]\n",
            "8920 [D loss: 0.746841] [D acc.: 33.33%, fake 33.33%, real 33.33%] [G loss: 0.595776]\n",
            "8940 [D loss: 0.794921] [D acc.: 33.33%, fake 50.00%, real 16.67%] [G loss: 0.863332]\n",
            "8960 [D loss: 0.775206] [D acc.: 33.33%, fake 33.33%, real 33.33%] [G loss: 0.543038]\n",
            "8980 [D loss: 0.743372] [D acc.: 41.67%, fake 33.33%, real 50.00%] [G loss: 0.829319]\n"
          ],
          "name": "stdout"
        },
        {
          "output_type": "stream",
          "text": [
            "WARNING:root:Lossy conversion from float32 to uint8. Range [0, 1]. Convert image to uint8 prior to saving to suppress this warning.\n"
          ],
          "name": "stderr"
        },
        {
          "output_type": "stream",
          "text": [
            "9000 [D loss: 0.878399] [D acc.: 25.00%, fake 33.33%, real 16.67%] [G loss: 0.734135]\n",
            "9020 [D loss: 0.464505] [D acc.: 91.67%, fake 100.00%, real 83.33%] [G loss: 0.718954]\n",
            "9040 [D loss: 0.637506] [D acc.: 41.67%, fake 0.00%, real 83.33%] [G loss: 0.624907]\n",
            "9060 [D loss: 0.494899] [D acc.: 66.67%, fake 100.00%, real 33.33%] [G loss: 1.540025]\n",
            "9080 [D loss: 0.636118] [D acc.: 58.33%, fake 33.33%, real 83.33%] [G loss: 0.599221]\n"
          ],
          "name": "stdout"
        },
        {
          "output_type": "stream",
          "text": [
            "WARNING:root:Lossy conversion from float32 to uint8. Range [0, 1]. Convert image to uint8 prior to saving to suppress this warning.\n"
          ],
          "name": "stderr"
        },
        {
          "output_type": "stream",
          "text": [
            "9100 [D loss: 0.708011] [D acc.: 33.33%, fake 16.67%, real 50.00%] [G loss: 0.560411]\n",
            "9120 [D loss: 0.849069] [D acc.: 25.00%, fake 33.33%, real 16.67%] [G loss: 1.054547]\n",
            "9140 [D loss: 0.705830] [D acc.: 50.00%, fake 33.33%, real 66.67%] [G loss: 0.403601]\n",
            "9160 [D loss: 0.603932] [D acc.: 75.00%, fake 83.33%, real 66.67%] [G loss: 1.112969]\n",
            "9180 [D loss: 0.880177] [D acc.: 33.33%, fake 0.00%, real 66.67%] [G loss: 0.345904]\n"
          ],
          "name": "stdout"
        },
        {
          "output_type": "stream",
          "text": [
            "WARNING:root:Lossy conversion from float32 to uint8. Range [0, 1]. Convert image to uint8 prior to saving to suppress this warning.\n"
          ],
          "name": "stderr"
        },
        {
          "output_type": "stream",
          "text": [
            "9200 [D loss: 0.957358] [D acc.: 8.33%, fake 0.00%, real 16.67%] [G loss: 0.788122]\n",
            "9220 [D loss: 0.684987] [D acc.: 41.67%, fake 16.67%, real 66.67%] [G loss: 0.823155]\n",
            "9240 [D loss: 0.618483] [D acc.: 83.33%, fake 100.00%, real 66.67%] [G loss: 0.370727]\n",
            "9260 [D loss: 0.602043] [D acc.: 75.00%, fake 66.67%, real 83.33%] [G loss: 1.282305]\n",
            "9280 [D loss: 0.631814] [D acc.: 66.67%, fake 100.00%, real 33.33%] [G loss: 0.889371]\n"
          ],
          "name": "stdout"
        },
        {
          "output_type": "stream",
          "text": [
            "WARNING:root:Lossy conversion from float32 to uint8. Range [0, 1]. Convert image to uint8 prior to saving to suppress this warning.\n"
          ],
          "name": "stderr"
        },
        {
          "output_type": "stream",
          "text": [
            "9300 [D loss: 0.730579] [D acc.: 33.33%, fake 16.67%, real 50.00%] [G loss: 0.754662]\n",
            "9320 [D loss: 0.567132] [D acc.: 75.00%, fake 100.00%, real 50.00%] [G loss: 0.658726]\n",
            "9340 [D loss: 0.486082] [D acc.: 83.33%, fake 100.00%, real 66.67%] [G loss: 1.484195]\n",
            "9360 [D loss: 0.812028] [D acc.: 16.67%, fake 0.00%, real 33.33%] [G loss: 0.672811]\n",
            "9380 [D loss: 0.617416] [D acc.: 50.00%, fake 16.67%, real 83.33%] [G loss: 0.383101]\n"
          ],
          "name": "stdout"
        },
        {
          "output_type": "stream",
          "text": [
            "WARNING:root:Lossy conversion from float32 to uint8. Range [0, 1]. Convert image to uint8 prior to saving to suppress this warning.\n"
          ],
          "name": "stderr"
        },
        {
          "output_type": "stream",
          "text": [
            "9400 [D loss: 0.493528] [D acc.: 91.67%, fake 100.00%, real 83.33%] [G loss: 0.425225]\n",
            "9420 [D loss: 0.902321] [D acc.: 25.00%, fake 16.67%, real 33.33%] [G loss: 0.527675]\n",
            "9440 [D loss: 0.790140] [D acc.: 41.67%, fake 50.00%, real 33.33%] [G loss: 0.673391]\n",
            "9460 [D loss: 0.678719] [D acc.: 50.00%, fake 83.33%, real 16.67%] [G loss: 1.329405]\n",
            "9480 [D loss: 0.570260] [D acc.: 75.00%, fake 50.00%, real 100.00%] [G loss: 0.788618]\n"
          ],
          "name": "stdout"
        },
        {
          "output_type": "stream",
          "text": [
            "WARNING:root:Lossy conversion from float32 to uint8. Range [0, 1]. Convert image to uint8 prior to saving to suppress this warning.\n"
          ],
          "name": "stderr"
        },
        {
          "output_type": "stream",
          "text": [
            "9500 [D loss: 0.974715] [D acc.: 0.00%, fake 0.00%, real 0.00%] [G loss: 0.639565]\n",
            "9520 [D loss: 0.923880] [D acc.: 16.67%, fake 16.67%, real 16.67%] [G loss: 0.612596]\n",
            "9540 [D loss: 1.004065] [D acc.: 8.33%, fake 16.67%, real 0.00%] [G loss: 0.936157]\n",
            "9560 [D loss: 0.654423] [D acc.: 50.00%, fake 33.33%, real 66.67%] [G loss: 0.749418]\n",
            "9580 [D loss: 0.840923] [D acc.: 8.33%, fake 0.00%, real 16.67%] [G loss: 0.684637]\n"
          ],
          "name": "stdout"
        },
        {
          "output_type": "stream",
          "text": [
            "WARNING:root:Lossy conversion from float32 to uint8. Range [0, 1]. Convert image to uint8 prior to saving to suppress this warning.\n"
          ],
          "name": "stderr"
        },
        {
          "output_type": "stream",
          "text": [
            "9600 [D loss: 0.923426] [D acc.: 25.00%, fake 0.00%, real 50.00%] [G loss: 0.545570]\n",
            "9620 [D loss: 0.922487] [D acc.: 16.67%, fake 0.00%, real 33.33%] [G loss: 0.643987]\n",
            "9640 [D loss: 0.602754] [D acc.: 83.33%, fake 100.00%, real 66.67%] [G loss: 0.655067]\n",
            "9660 [D loss: 0.904124] [D acc.: 25.00%, fake 16.67%, real 33.33%] [G loss: 0.517659]\n",
            "9680 [D loss: 0.718163] [D acc.: 58.33%, fake 50.00%, real 66.67%] [G loss: 0.276938]\n"
          ],
          "name": "stdout"
        },
        {
          "output_type": "stream",
          "text": [
            "WARNING:root:Lossy conversion from float32 to uint8. Range [0, 1]. Convert image to uint8 prior to saving to suppress this warning.\n"
          ],
          "name": "stderr"
        },
        {
          "output_type": "stream",
          "text": [
            "9700 [D loss: 0.625081] [D acc.: 58.33%, fake 33.33%, real 83.33%] [G loss: 0.449210]\n",
            "9720 [D loss: 0.729495] [D acc.: 41.67%, fake 33.33%, real 50.00%] [G loss: 0.693978]\n",
            "9740 [D loss: 0.628193] [D acc.: 50.00%, fake 66.67%, real 33.33%] [G loss: 1.090067]\n",
            "9760 [D loss: 0.672569] [D acc.: 58.33%, fake 50.00%, real 66.67%] [G loss: 0.804761]\n",
            "9780 [D loss: 0.980842] [D acc.: 16.67%, fake 16.67%, real 16.67%] [G loss: 0.608827]\n"
          ],
          "name": "stdout"
        },
        {
          "output_type": "stream",
          "text": [
            "WARNING:root:Lossy conversion from float32 to uint8. Range [0, 1]. Convert image to uint8 prior to saving to suppress this warning.\n"
          ],
          "name": "stderr"
        },
        {
          "output_type": "stream",
          "text": [
            "9800 [D loss: 0.645825] [D acc.: 66.67%, fake 66.67%, real 66.67%] [G loss: 0.458840]\n",
            "9820 [D loss: 0.952497] [D acc.: 16.67%, fake 0.00%, real 33.33%] [G loss: 0.634796]\n",
            "9840 [D loss: 0.663249] [D acc.: 41.67%, fake 33.33%, real 50.00%] [G loss: 0.782651]\n",
            "9860 [D loss: 0.303165] [D acc.: 100.00%, fake 100.00%, real 100.00%] [G loss: 0.619107]\n",
            "9880 [D loss: 1.021091] [D acc.: 16.67%, fake 0.00%, real 33.33%] [G loss: 0.523920]\n"
          ],
          "name": "stdout"
        },
        {
          "output_type": "stream",
          "text": [
            "WARNING:root:Lossy conversion from float32 to uint8. Range [0, 1]. Convert image to uint8 prior to saving to suppress this warning.\n"
          ],
          "name": "stderr"
        },
        {
          "output_type": "stream",
          "text": [
            "9900 [D loss: 0.507538] [D acc.: 83.33%, fake 66.67%, real 100.00%] [G loss: 0.591436]\n",
            "9920 [D loss: 0.842090] [D acc.: 33.33%, fake 33.33%, real 33.33%] [G loss: 1.151517]\n",
            "9940 [D loss: 0.836714] [D acc.: 41.67%, fake 0.00%, real 83.33%] [G loss: 0.541603]\n",
            "9960 [D loss: 0.899095] [D acc.: 16.67%, fake 16.67%, real 16.67%] [G loss: 0.565585]\n",
            "9980 [D loss: 0.798825] [D acc.: 50.00%, fake 50.00%, real 50.00%] [G loss: 0.341585]\n"
          ],
          "name": "stdout"
        },
        {
          "output_type": "stream",
          "text": [
            "WARNING:root:Lossy conversion from float32 to uint8. Range [0, 1]. Convert image to uint8 prior to saving to suppress this warning.\n"
          ],
          "name": "stderr"
        },
        {
          "output_type": "stream",
          "text": [
            "10000 [D loss: 0.869520] [D acc.: 25.00%, fake 0.00%, real 50.00%] [G loss: 0.386117]\n",
            "10020 [D loss: 0.828283] [D acc.: 33.33%, fake 0.00%, real 66.67%] [G loss: 0.542037]\n",
            "10040 [D loss: 0.651369] [D acc.: 66.67%, fake 66.67%, real 66.67%] [G loss: 0.480613]\n",
            "10060 [D loss: 0.686020] [D acc.: 66.67%, fake 66.67%, real 66.67%] [G loss: 0.557899]\n",
            "10080 [D loss: 0.739386] [D acc.: 75.00%, fake 83.33%, real 66.67%] [G loss: 1.079852]\n"
          ],
          "name": "stdout"
        },
        {
          "output_type": "stream",
          "text": [
            "WARNING:root:Lossy conversion from float32 to uint8. Range [0, 1]. Convert image to uint8 prior to saving to suppress this warning.\n"
          ],
          "name": "stderr"
        },
        {
          "output_type": "stream",
          "text": [
            "10100 [D loss: 0.778675] [D acc.: 33.33%, fake 33.33%, real 33.33%] [G loss: 0.619524]\n",
            "10120 [D loss: 0.683077] [D acc.: 58.33%, fake 16.67%, real 100.00%] [G loss: 0.256984]\n",
            "10140 [D loss: 0.923164] [D acc.: 25.00%, fake 0.00%, real 50.00%] [G loss: 0.537727]\n",
            "10160 [D loss: 0.752796] [D acc.: 41.67%, fake 50.00%, real 33.33%] [G loss: 1.050078]\n",
            "10180 [D loss: 0.410954] [D acc.: 91.67%, fake 100.00%, real 83.33%] [G loss: 0.925509]\n"
          ],
          "name": "stdout"
        },
        {
          "output_type": "stream",
          "text": [
            "WARNING:root:Lossy conversion from float32 to uint8. Range [0, 1]. Convert image to uint8 prior to saving to suppress this warning.\n"
          ],
          "name": "stderr"
        },
        {
          "output_type": "stream",
          "text": [
            "10200 [D loss: 0.405010] [D acc.: 83.33%, fake 100.00%, real 66.67%] [G loss: 1.128053]\n",
            "10220 [D loss: 1.108423] [D acc.: 33.33%, fake 0.00%, real 66.67%] [G loss: 0.463046]\n",
            "10240 [D loss: 0.911169] [D acc.: 8.33%, fake 0.00%, real 16.67%] [G loss: 0.866444]\n",
            "10260 [D loss: 0.964173] [D acc.: 33.33%, fake 0.00%, real 66.67%] [G loss: 0.392928]\n",
            "10280 [D loss: 0.531352] [D acc.: 75.00%, fake 100.00%, real 50.00%] [G loss: 0.700253]\n"
          ],
          "name": "stdout"
        },
        {
          "output_type": "stream",
          "text": [
            "WARNING:root:Lossy conversion from float32 to uint8. Range [0, 1]. Convert image to uint8 prior to saving to suppress this warning.\n"
          ],
          "name": "stderr"
        },
        {
          "output_type": "stream",
          "text": [
            "10300 [D loss: 0.812416] [D acc.: 25.00%, fake 0.00%, real 50.00%] [G loss: 0.714498]\n",
            "10320 [D loss: 1.031173] [D acc.: 8.33%, fake 0.00%, real 16.67%] [G loss: 0.796373]\n",
            "10340 [D loss: 0.783648] [D acc.: 58.33%, fake 50.00%, real 66.67%] [G loss: 0.598077]\n",
            "10360 [D loss: 0.801210] [D acc.: 33.33%, fake 0.00%, real 66.67%] [G loss: 0.832914]\n",
            "10380 [D loss: 0.739872] [D acc.: 41.67%, fake 50.00%, real 33.33%] [G loss: 0.953063]\n"
          ],
          "name": "stdout"
        },
        {
          "output_type": "stream",
          "text": [
            "WARNING:root:Lossy conversion from float32 to uint8. Range [0, 1]. Convert image to uint8 prior to saving to suppress this warning.\n"
          ],
          "name": "stderr"
        },
        {
          "output_type": "stream",
          "text": [
            "10400 [D loss: 0.710587] [D acc.: 50.00%, fake 50.00%, real 50.00%] [G loss: 0.561318]\n",
            "10420 [D loss: 0.746276] [D acc.: 41.67%, fake 16.67%, real 66.67%] [G loss: 0.319672]\n",
            "10440 [D loss: 0.921606] [D acc.: 16.67%, fake 0.00%, real 33.33%] [G loss: 0.818833]\n",
            "10460 [D loss: 0.643457] [D acc.: 75.00%, fake 100.00%, real 50.00%] [G loss: 0.739899]\n",
            "10480 [D loss: 0.741376] [D acc.: 33.33%, fake 33.33%, real 33.33%] [G loss: 0.835404]\n"
          ],
          "name": "stdout"
        },
        {
          "output_type": "stream",
          "text": [
            "WARNING:root:Lossy conversion from float32 to uint8. Range [0, 1]. Convert image to uint8 prior to saving to suppress this warning.\n"
          ],
          "name": "stderr"
        },
        {
          "output_type": "stream",
          "text": [
            "10500 [D loss: 0.390203] [D acc.: 91.67%, fake 100.00%, real 83.33%] [G loss: 2.770617]\n",
            "10520 [D loss: 1.155681] [D acc.: 16.67%, fake 0.00%, real 33.33%] [G loss: 0.371173]\n",
            "10540 [D loss: 0.818225] [D acc.: 33.33%, fake 16.67%, real 50.00%] [G loss: 0.618068]\n",
            "10560 [D loss: 0.721883] [D acc.: 25.00%, fake 0.00%, real 50.00%] [G loss: 0.610199]\n",
            "10580 [D loss: 0.891102] [D acc.: 16.67%, fake 0.00%, real 33.33%] [G loss: 0.823585]\n"
          ],
          "name": "stdout"
        },
        {
          "output_type": "stream",
          "text": [
            "WARNING:root:Lossy conversion from float32 to uint8. Range [0, 1]. Convert image to uint8 prior to saving to suppress this warning.\n"
          ],
          "name": "stderr"
        },
        {
          "output_type": "stream",
          "text": [
            "10600 [D loss: 0.690078] [D acc.: 58.33%, fake 66.67%, real 50.00%] [G loss: 1.136518]\n",
            "10620 [D loss: 0.526246] [D acc.: 83.33%, fake 100.00%, real 66.67%] [G loss: 1.109982]\n",
            "10640 [D loss: 0.948314] [D acc.: 33.33%, fake 50.00%, real 16.67%] [G loss: 0.271951]\n",
            "10660 [D loss: 0.823921] [D acc.: 33.33%, fake 0.00%, real 66.67%] [G loss: 0.474528]\n",
            "10680 [D loss: 1.094522] [D acc.: 0.00%, fake 0.00%, real 0.00%] [G loss: 0.278591]\n"
          ],
          "name": "stdout"
        },
        {
          "output_type": "stream",
          "text": [
            "WARNING:root:Lossy conversion from float32 to uint8. Range [0, 1]. Convert image to uint8 prior to saving to suppress this warning.\n"
          ],
          "name": "stderr"
        },
        {
          "output_type": "stream",
          "text": [
            "10700 [D loss: 0.757847] [D acc.: 33.33%, fake 33.33%, real 33.33%] [G loss: 0.352461]\n",
            "10720 [D loss: 0.693584] [D acc.: 41.67%, fake 0.00%, real 83.33%] [G loss: 0.272841]\n",
            "10740 [D loss: 0.799996] [D acc.: 16.67%, fake 0.00%, real 33.33%] [G loss: 0.765082]\n",
            "10760 [D loss: 0.656905] [D acc.: 75.00%, fake 100.00%, real 50.00%] [G loss: 0.760844]\n",
            "10780 [D loss: 0.577417] [D acc.: 83.33%, fake 100.00%, real 66.67%] [G loss: 0.496796]\n"
          ],
          "name": "stdout"
        },
        {
          "output_type": "stream",
          "text": [
            "WARNING:root:Lossy conversion from float32 to uint8. Range [0, 1]. Convert image to uint8 prior to saving to suppress this warning.\n"
          ],
          "name": "stderr"
        },
        {
          "output_type": "stream",
          "text": [
            "10800 [D loss: 0.701505] [D acc.: 41.67%, fake 33.33%, real 50.00%] [G loss: 0.692069]\n",
            "10820 [D loss: 0.810698] [D acc.: 33.33%, fake 16.67%, real 50.00%] [G loss: 0.677549]\n",
            "10840 [D loss: 0.787388] [D acc.: 33.33%, fake 0.00%, real 66.67%] [G loss: 0.780177]\n",
            "10860 [D loss: 1.124310] [D acc.: 8.33%, fake 0.00%, real 16.67%] [G loss: 0.464849]\n",
            "10880 [D loss: 0.608261] [D acc.: 66.67%, fake 50.00%, real 83.33%] [G loss: 1.348256]\n"
          ],
          "name": "stdout"
        },
        {
          "output_type": "stream",
          "text": [
            "WARNING:root:Lossy conversion from float32 to uint8. Range [0, 1]. Convert image to uint8 prior to saving to suppress this warning.\n"
          ],
          "name": "stderr"
        },
        {
          "output_type": "stream",
          "text": [
            "10900 [D loss: 0.869619] [D acc.: 58.33%, fake 100.00%, real 16.67%] [G loss: 1.143131]\n",
            "10920 [D loss: 1.231416] [D acc.: 16.67%, fake 0.00%, real 33.33%] [G loss: 0.480881]\n",
            "10940 [D loss: 0.900707] [D acc.: 16.67%, fake 16.67%, real 16.67%] [G loss: 0.644434]\n",
            "10960 [D loss: 0.871979] [D acc.: 50.00%, fake 33.33%, real 66.67%] [G loss: 1.124198]\n",
            "10980 [D loss: 0.878834] [D acc.: 25.00%, fake 0.00%, real 50.00%] [G loss: 0.657612]\n"
          ],
          "name": "stdout"
        },
        {
          "output_type": "stream",
          "text": [
            "WARNING:root:Lossy conversion from float32 to uint8. Range [0, 1]. Convert image to uint8 prior to saving to suppress this warning.\n"
          ],
          "name": "stderr"
        },
        {
          "output_type": "stream",
          "text": [
            "11000 [D loss: 0.854349] [D acc.: 33.33%, fake 50.00%, real 16.67%] [G loss: 0.729120]\n",
            "11020 [D loss: 0.832598] [D acc.: 50.00%, fake 0.00%, real 100.00%] [G loss: 0.256482]\n",
            "11040 [D loss: 1.021032] [D acc.: 8.33%, fake 16.67%, real 0.00%] [G loss: 0.706547]\n",
            "11060 [D loss: 0.922589] [D acc.: 33.33%, fake 16.67%, real 50.00%] [G loss: 0.319245]\n",
            "11080 [D loss: 0.852317] [D acc.: 8.33%, fake 16.67%, real 0.00%] [G loss: 0.766478]\n"
          ],
          "name": "stdout"
        },
        {
          "output_type": "stream",
          "text": [
            "WARNING:root:Lossy conversion from float32 to uint8. Range [0, 1]. Convert image to uint8 prior to saving to suppress this warning.\n"
          ],
          "name": "stderr"
        },
        {
          "output_type": "stream",
          "text": [
            "11100 [D loss: 0.749891] [D acc.: 41.67%, fake 66.67%, real 16.67%] [G loss: 0.920893]\n",
            "11120 [D loss: 0.577901] [D acc.: 91.67%, fake 100.00%, real 83.33%] [G loss: 1.005528]\n",
            "11140 [D loss: 0.754657] [D acc.: 41.67%, fake 50.00%, real 33.33%] [G loss: 1.009657]\n",
            "11160 [D loss: 0.645179] [D acc.: 58.33%, fake 100.00%, real 16.67%] [G loss: 1.294662]\n",
            "11180 [D loss: 0.799186] [D acc.: 41.67%, fake 33.33%, real 50.00%] [G loss: 0.216044]\n"
          ],
          "name": "stdout"
        },
        {
          "output_type": "stream",
          "text": [
            "WARNING:root:Lossy conversion from float32 to uint8. Range [0, 1]. Convert image to uint8 prior to saving to suppress this warning.\n"
          ],
          "name": "stderr"
        },
        {
          "output_type": "stream",
          "text": [
            "11200 [D loss: 0.684568] [D acc.: 58.33%, fake 50.00%, real 66.67%] [G loss: 0.583153]\n",
            "11220 [D loss: 0.651924] [D acc.: 66.67%, fake 66.67%, real 66.67%] [G loss: 1.068270]\n",
            "11240 [D loss: 0.938035] [D acc.: 25.00%, fake 0.00%, real 50.00%] [G loss: 0.708215]\n",
            "11260 [D loss: 0.749207] [D acc.: 33.33%, fake 33.33%, real 33.33%] [G loss: 0.919507]\n",
            "11280 [D loss: 0.700876] [D acc.: 50.00%, fake 16.67%, real 83.33%] [G loss: 0.664175]\n"
          ],
          "name": "stdout"
        },
        {
          "output_type": "stream",
          "text": [
            "WARNING:root:Lossy conversion from float32 to uint8. Range [0, 1]. Convert image to uint8 prior to saving to suppress this warning.\n"
          ],
          "name": "stderr"
        },
        {
          "output_type": "stream",
          "text": [
            "11300 [D loss: 0.509274] [D acc.: 91.67%, fake 83.33%, real 100.00%] [G loss: 0.360348]\n",
            "11320 [D loss: 0.829692] [D acc.: 16.67%, fake 0.00%, real 33.33%] [G loss: 0.591843]\n",
            "11340 [D loss: 0.741707] [D acc.: 58.33%, fake 33.33%, real 83.33%] [G loss: 1.071859]\n",
            "11360 [D loss: 0.753258] [D acc.: 66.67%, fake 66.67%, real 66.67%] [G loss: 0.782051]\n",
            "11380 [D loss: 0.630338] [D acc.: 66.67%, fake 66.67%, real 66.67%] [G loss: 0.808270]\n"
          ],
          "name": "stdout"
        },
        {
          "output_type": "stream",
          "text": [
            "WARNING:root:Lossy conversion from float32 to uint8. Range [0, 1]. Convert image to uint8 prior to saving to suppress this warning.\n"
          ],
          "name": "stderr"
        },
        {
          "output_type": "stream",
          "text": [
            "11400 [D loss: 1.061215] [D acc.: 16.67%, fake 0.00%, real 33.33%] [G loss: 0.816562]\n",
            "11420 [D loss: 0.699797] [D acc.: 75.00%, fake 83.33%, real 66.67%] [G loss: 1.137692]\n",
            "11440 [D loss: 0.881718] [D acc.: 50.00%, fake 66.67%, real 33.33%] [G loss: 0.536675]\n",
            "11460 [D loss: 0.982891] [D acc.: 33.33%, fake 33.33%, real 33.33%] [G loss: 0.788946]\n",
            "11480 [D loss: 0.664963] [D acc.: 58.33%, fake 50.00%, real 66.67%] [G loss: 0.632788]\n"
          ],
          "name": "stdout"
        },
        {
          "output_type": "stream",
          "text": [
            "WARNING:root:Lossy conversion from float32 to uint8. Range [0, 1]. Convert image to uint8 prior to saving to suppress this warning.\n"
          ],
          "name": "stderr"
        },
        {
          "output_type": "stream",
          "text": [
            "11500 [D loss: 0.575613] [D acc.: 66.67%, fake 66.67%, real 66.67%] [G loss: 0.757994]\n",
            "11520 [D loss: 0.549414] [D acc.: 75.00%, fake 50.00%, real 100.00%] [G loss: 0.582690]\n",
            "11540 [D loss: 0.529489] [D acc.: 75.00%, fake 100.00%, real 50.00%] [G loss: 0.535033]\n",
            "11560 [D loss: 0.491378] [D acc.: 75.00%, fake 100.00%, real 50.00%] [G loss: 0.865286]\n",
            "11580 [D loss: 0.799921] [D acc.: 41.67%, fake 50.00%, real 33.33%] [G loss: 0.949816]\n"
          ],
          "name": "stdout"
        },
        {
          "output_type": "stream",
          "text": [
            "WARNING:root:Lossy conversion from float32 to uint8. Range [0, 1]. Convert image to uint8 prior to saving to suppress this warning.\n"
          ],
          "name": "stderr"
        },
        {
          "output_type": "stream",
          "text": [
            "11600 [D loss: 0.797071] [D acc.: 58.33%, fake 50.00%, real 66.67%] [G loss: 0.419306]\n",
            "11620 [D loss: 0.618995] [D acc.: 58.33%, fake 33.33%, real 83.33%] [G loss: 0.640509]\n",
            "11640 [D loss: 0.750862] [D acc.: 50.00%, fake 83.33%, real 16.67%] [G loss: 0.680914]\n",
            "11660 [D loss: 0.663589] [D acc.: 58.33%, fake 33.33%, real 83.33%] [G loss: 0.823582]\n",
            "11680 [D loss: 0.607563] [D acc.: 75.00%, fake 66.67%, real 83.33%] [G loss: 1.062439]\n"
          ],
          "name": "stdout"
        },
        {
          "output_type": "stream",
          "text": [
            "WARNING:root:Lossy conversion from float32 to uint8. Range [0, 1]. Convert image to uint8 prior to saving to suppress this warning.\n"
          ],
          "name": "stderr"
        },
        {
          "output_type": "stream",
          "text": [
            "11700 [D loss: 0.898938] [D acc.: 41.67%, fake 33.33%, real 50.00%] [G loss: 0.821809]\n",
            "11720 [D loss: 0.540973] [D acc.: 83.33%, fake 100.00%, real 66.67%] [G loss: 1.260094]\n",
            "11740 [D loss: 0.612824] [D acc.: 58.33%, fake 16.67%, real 100.00%] [G loss: 0.282015]\n",
            "11760 [D loss: 0.727498] [D acc.: 58.33%, fake 83.33%, real 33.33%] [G loss: 0.724435]\n",
            "11780 [D loss: 0.616371] [D acc.: 58.33%, fake 50.00%, real 66.67%] [G loss: 0.901621]\n"
          ],
          "name": "stdout"
        },
        {
          "output_type": "stream",
          "text": [
            "WARNING:root:Lossy conversion from float32 to uint8. Range [0, 1]. Convert image to uint8 prior to saving to suppress this warning.\n"
          ],
          "name": "stderr"
        },
        {
          "output_type": "stream",
          "text": [
            "11800 [D loss: 0.567824] [D acc.: 91.67%, fake 100.00%, real 83.33%] [G loss: 0.577189]\n",
            "11820 [D loss: 1.058591] [D acc.: 33.33%, fake 16.67%, real 50.00%] [G loss: 0.437532]\n",
            "11840 [D loss: 0.821275] [D acc.: 58.33%, fake 66.67%, real 50.00%] [G loss: 1.466751]\n",
            "11860 [D loss: 0.827934] [D acc.: 41.67%, fake 50.00%, real 33.33%] [G loss: 0.708034]\n",
            "11880 [D loss: 0.802272] [D acc.: 33.33%, fake 0.00%, real 66.67%] [G loss: 0.146282]\n"
          ],
          "name": "stdout"
        },
        {
          "output_type": "stream",
          "text": [
            "WARNING:root:Lossy conversion from float32 to uint8. Range [0, 1]. Convert image to uint8 prior to saving to suppress this warning.\n"
          ],
          "name": "stderr"
        },
        {
          "output_type": "stream",
          "text": [
            "11900 [D loss: 1.182101] [D acc.: 16.67%, fake 0.00%, real 33.33%] [G loss: 0.621467]\n",
            "11920 [D loss: 0.764695] [D acc.: 33.33%, fake 16.67%, real 50.00%] [G loss: 1.044577]\n",
            "11940 [D loss: 0.530307] [D acc.: 75.00%, fake 50.00%, real 100.00%] [G loss: 0.634365]\n",
            "11960 [D loss: 0.875771] [D acc.: 16.67%, fake 0.00%, real 33.33%] [G loss: 0.586489]\n",
            "11980 [D loss: 0.574452] [D acc.: 66.67%, fake 66.67%, real 66.67%] [G loss: 0.484893]\n"
          ],
          "name": "stdout"
        },
        {
          "output_type": "stream",
          "text": [
            "WARNING:root:Lossy conversion from float32 to uint8. Range [0, 1]. Convert image to uint8 prior to saving to suppress this warning.\n"
          ],
          "name": "stderr"
        },
        {
          "output_type": "stream",
          "text": [
            "12000 [D loss: 0.576783] [D acc.: 75.00%, fake 83.33%, real 66.67%] [G loss: 0.806457]\n",
            "12020 [D loss: 1.029032] [D acc.: 33.33%, fake 0.00%, real 66.67%] [G loss: 0.171360]\n",
            "12040 [D loss: 0.832963] [D acc.: 50.00%, fake 100.00%, real 0.00%] [G loss: 1.061119]\n",
            "12060 [D loss: 0.641977] [D acc.: 66.67%, fake 83.33%, real 50.00%] [G loss: 1.112883]\n",
            "12080 [D loss: 0.595565] [D acc.: 75.00%, fake 50.00%, real 100.00%] [G loss: 0.367548]\n"
          ],
          "name": "stdout"
        },
        {
          "output_type": "stream",
          "text": [
            "WARNING:root:Lossy conversion from float32 to uint8. Range [0, 1]. Convert image to uint8 prior to saving to suppress this warning.\n"
          ],
          "name": "stderr"
        },
        {
          "output_type": "stream",
          "text": [
            "12100 [D loss: 0.380630] [D acc.: 91.67%, fake 100.00%, real 83.33%] [G loss: 0.242801]\n",
            "12120 [D loss: 0.610567] [D acc.: 58.33%, fake 50.00%, real 66.67%] [G loss: 0.555443]\n",
            "12140 [D loss: 0.406585] [D acc.: 91.67%, fake 100.00%, real 83.33%] [G loss: 0.927144]\n",
            "12160 [D loss: 1.221349] [D acc.: 8.33%, fake 0.00%, real 16.67%] [G loss: 1.085154]\n",
            "12180 [D loss: 0.490065] [D acc.: 83.33%, fake 100.00%, real 66.67%] [G loss: 0.976116]\n"
          ],
          "name": "stdout"
        },
        {
          "output_type": "stream",
          "text": [
            "WARNING:root:Lossy conversion from float32 to uint8. Range [0, 1]. Convert image to uint8 prior to saving to suppress this warning.\n"
          ],
          "name": "stderr"
        },
        {
          "output_type": "stream",
          "text": [
            "12200 [D loss: 0.789779] [D acc.: 25.00%, fake 0.00%, real 50.00%] [G loss: 0.780779]\n",
            "12220 [D loss: 0.992627] [D acc.: 41.67%, fake 66.67%, real 16.67%] [G loss: 1.111005]\n",
            "12240 [D loss: 0.414396] [D acc.: 83.33%, fake 83.33%, real 83.33%] [G loss: 0.613156]\n",
            "12260 [D loss: 0.147111] [D acc.: 100.00%, fake 100.00%, real 100.00%] [G loss: 2.229161]\n",
            "12280 [D loss: 0.949291] [D acc.: 16.67%, fake 0.00%, real 33.33%] [G loss: 0.343452]\n"
          ],
          "name": "stdout"
        },
        {
          "output_type": "stream",
          "text": [
            "WARNING:root:Lossy conversion from float32 to uint8. Range [0, 1]. Convert image to uint8 prior to saving to suppress this warning.\n"
          ],
          "name": "stderr"
        },
        {
          "output_type": "stream",
          "text": [
            "12300 [D loss: 0.981067] [D acc.: 50.00%, fake 83.33%, real 16.67%] [G loss: 0.673003]\n",
            "12320 [D loss: 0.577630] [D acc.: 66.67%, fake 50.00%, real 83.33%] [G loss: 1.003407]\n",
            "12340 [D loss: 0.515225] [D acc.: 75.00%, fake 83.33%, real 66.67%] [G loss: 1.122847]\n",
            "12360 [D loss: 0.978361] [D acc.: 8.33%, fake 0.00%, real 16.67%] [G loss: 0.758047]\n",
            "12380 [D loss: 0.897296] [D acc.: 33.33%, fake 33.33%, real 33.33%] [G loss: 0.763443]\n"
          ],
          "name": "stdout"
        },
        {
          "output_type": "stream",
          "text": [
            "WARNING:root:Lossy conversion from float32 to uint8. Range [0, 1]. Convert image to uint8 prior to saving to suppress this warning.\n"
          ],
          "name": "stderr"
        },
        {
          "output_type": "stream",
          "text": [
            "12400 [D loss: 0.578041] [D acc.: 83.33%, fake 66.67%, real 100.00%] [G loss: 0.902662]\n",
            "12420 [D loss: 1.063210] [D acc.: 16.67%, fake 0.00%, real 33.33%] [G loss: 0.406070]\n",
            "12440 [D loss: 0.740145] [D acc.: 66.67%, fake 100.00%, real 33.33%] [G loss: 1.579980]\n",
            "12460 [D loss: 0.766708] [D acc.: 50.00%, fake 50.00%, real 50.00%] [G loss: 0.259330]\n",
            "12480 [D loss: 0.508954] [D acc.: 75.00%, fake 83.33%, real 66.67%] [G loss: 0.185118]\n"
          ],
          "name": "stdout"
        },
        {
          "output_type": "stream",
          "text": [
            "WARNING:root:Lossy conversion from float32 to uint8. Range [0, 1]. Convert image to uint8 prior to saving to suppress this warning.\n"
          ],
          "name": "stderr"
        },
        {
          "output_type": "stream",
          "text": [
            "12500 [D loss: 0.807531] [D acc.: 50.00%, fake 83.33%, real 16.67%] [G loss: 0.687545]\n",
            "12520 [D loss: 0.872910] [D acc.: 58.33%, fake 50.00%, real 66.67%] [G loss: 0.547344]\n",
            "12540 [D loss: 0.592326] [D acc.: 50.00%, fake 0.00%, real 100.00%] [G loss: 0.322471]\n",
            "12560 [D loss: 0.978892] [D acc.: 41.67%, fake 16.67%, real 66.67%] [G loss: 0.374839]\n",
            "12580 [D loss: 0.653983] [D acc.: 66.67%, fake 50.00%, real 83.33%] [G loss: 0.861630]\n"
          ],
          "name": "stdout"
        },
        {
          "output_type": "stream",
          "text": [
            "WARNING:root:Lossy conversion from float32 to uint8. Range [0, 1]. Convert image to uint8 prior to saving to suppress this warning.\n"
          ],
          "name": "stderr"
        },
        {
          "output_type": "stream",
          "text": [
            "12600 [D loss: 0.856907] [D acc.: 41.67%, fake 66.67%, real 16.67%] [G loss: 0.851014]\n",
            "12620 [D loss: 0.453238] [D acc.: 66.67%, fake 33.33%, real 100.00%] [G loss: 1.110379]\n",
            "12640 [D loss: 1.131402] [D acc.: 16.67%, fake 0.00%, real 33.33%] [G loss: 0.325805]\n",
            "12660 [D loss: 0.622800] [D acc.: 66.67%, fake 83.33%, real 50.00%] [G loss: 1.212855]\n",
            "12680 [D loss: 0.151448] [D acc.: 100.00%, fake 100.00%, real 100.00%] [G loss: 2.560434]\n"
          ],
          "name": "stdout"
        },
        {
          "output_type": "stream",
          "text": [
            "WARNING:root:Lossy conversion from float32 to uint8. Range [0, 1]. Convert image to uint8 prior to saving to suppress this warning.\n"
          ],
          "name": "stderr"
        },
        {
          "output_type": "stream",
          "text": [
            "12700 [D loss: 0.753153] [D acc.: 66.67%, fake 83.33%, real 50.00%] [G loss: 0.852613]\n",
            "12720 [D loss: 0.861967] [D acc.: 41.67%, fake 33.33%, real 50.00%] [G loss: 0.151516]\n",
            "12740 [D loss: 0.589809] [D acc.: 66.67%, fake 100.00%, real 33.33%] [G loss: 0.300217]\n",
            "12760 [D loss: 1.104146] [D acc.: 25.00%, fake 0.00%, real 50.00%] [G loss: 0.961731]\n",
            "12780 [D loss: 0.568398] [D acc.: 83.33%, fake 100.00%, real 66.67%] [G loss: 0.860121]\n"
          ],
          "name": "stdout"
        },
        {
          "output_type": "stream",
          "text": [
            "WARNING:root:Lossy conversion from float32 to uint8. Range [0, 1]. Convert image to uint8 prior to saving to suppress this warning.\n"
          ],
          "name": "stderr"
        },
        {
          "output_type": "stream",
          "text": [
            "12800 [D loss: 1.531173] [D acc.: 16.67%, fake 16.67%, real 16.67%] [G loss: 0.508902]\n",
            "12820 [D loss: 0.709623] [D acc.: 58.33%, fake 100.00%, real 16.67%] [G loss: 1.681933]\n",
            "12840 [D loss: 0.403864] [D acc.: 83.33%, fake 66.67%, real 100.00%] [G loss: 0.615957]\n",
            "12860 [D loss: 1.264732] [D acc.: 25.00%, fake 16.67%, real 33.33%] [G loss: 1.055191]\n",
            "12880 [D loss: 0.899037] [D acc.: 58.33%, fake 66.67%, real 50.00%] [G loss: 0.527061]\n"
          ],
          "name": "stdout"
        },
        {
          "output_type": "stream",
          "text": [
            "WARNING:root:Lossy conversion from float32 to uint8. Range [0, 1]. Convert image to uint8 prior to saving to suppress this warning.\n"
          ],
          "name": "stderr"
        },
        {
          "output_type": "stream",
          "text": [
            "12900 [D loss: 0.747851] [D acc.: 41.67%, fake 16.67%, real 66.67%] [G loss: 0.625408]\n",
            "12920 [D loss: 0.635637] [D acc.: 75.00%, fake 100.00%, real 50.00%] [G loss: 0.384764]\n",
            "12940 [D loss: 0.515102] [D acc.: 83.33%, fake 83.33%, real 83.33%] [G loss: 1.399111]\n",
            "12960 [D loss: 0.639319] [D acc.: 83.33%, fake 83.33%, real 83.33%] [G loss: 0.778911]\n",
            "12980 [D loss: 0.874630] [D acc.: 25.00%, fake 33.33%, real 16.67%] [G loss: 0.227111]\n"
          ],
          "name": "stdout"
        },
        {
          "output_type": "stream",
          "text": [
            "WARNING:root:Lossy conversion from float32 to uint8. Range [0, 1]. Convert image to uint8 prior to saving to suppress this warning.\n"
          ],
          "name": "stderr"
        },
        {
          "output_type": "stream",
          "text": [
            "13000 [D loss: 1.023351] [D acc.: 58.33%, fake 83.33%, real 33.33%] [G loss: 1.420565]\n",
            "13020 [D loss: 0.310513] [D acc.: 91.67%, fake 100.00%, real 83.33%] [G loss: 0.609567]\n",
            "13040 [D loss: 0.365313] [D acc.: 100.00%, fake 100.00%, real 100.00%] [G loss: 1.084425]\n",
            "13060 [D loss: 1.446082] [D acc.: 8.33%, fake 0.00%, real 16.67%] [G loss: 0.566109]\n",
            "13080 [D loss: 0.221605] [D acc.: 91.67%, fake 100.00%, real 83.33%] [G loss: 2.560156]\n"
          ],
          "name": "stdout"
        },
        {
          "output_type": "stream",
          "text": [
            "WARNING:root:Lossy conversion from float32 to uint8. Range [0, 1]. Convert image to uint8 prior to saving to suppress this warning.\n"
          ],
          "name": "stderr"
        },
        {
          "output_type": "stream",
          "text": [
            "13100 [D loss: 0.619876] [D acc.: 50.00%, fake 33.33%, real 66.67%] [G loss: 0.933247]\n",
            "13120 [D loss: 0.859696] [D acc.: 33.33%, fake 33.33%, real 33.33%] [G loss: 0.462638]\n",
            "13140 [D loss: 0.947542] [D acc.: 33.33%, fake 50.00%, real 16.67%] [G loss: 0.982956]\n",
            "13160 [D loss: 0.637195] [D acc.: 66.67%, fake 33.33%, real 100.00%] [G loss: 0.972989]\n",
            "13180 [D loss: 0.848462] [D acc.: 33.33%, fake 0.00%, real 66.67%] [G loss: 0.442272]\n"
          ],
          "name": "stdout"
        },
        {
          "output_type": "stream",
          "text": [
            "WARNING:root:Lossy conversion from float32 to uint8. Range [0, 1]. Convert image to uint8 prior to saving to suppress this warning.\n"
          ],
          "name": "stderr"
        },
        {
          "output_type": "stream",
          "text": [
            "13200 [D loss: 0.512470] [D acc.: 83.33%, fake 100.00%, real 66.67%] [G loss: 0.198458]\n",
            "13220 [D loss: 0.225021] [D acc.: 100.00%, fake 100.00%, real 100.00%] [G loss: 0.080790]\n",
            "13240 [D loss: 0.792929] [D acc.: 41.67%, fake 0.00%, real 83.33%] [G loss: 0.930788]\n",
            "13260 [D loss: 0.955736] [D acc.: 0.00%, fake 0.00%, real 0.00%] [G loss: 0.501009]\n",
            "13280 [D loss: 0.490736] [D acc.: 83.33%, fake 100.00%, real 66.67%] [G loss: 1.212478]\n"
          ],
          "name": "stdout"
        },
        {
          "output_type": "stream",
          "text": [
            "WARNING:root:Lossy conversion from float32 to uint8. Range [0, 1]. Convert image to uint8 prior to saving to suppress this warning.\n"
          ],
          "name": "stderr"
        },
        {
          "output_type": "stream",
          "text": [
            "13300 [D loss: 0.527182] [D acc.: 91.67%, fake 100.00%, real 83.33%] [G loss: 0.952192]\n",
            "13320 [D loss: 1.002419] [D acc.: 41.67%, fake 0.00%, real 83.33%] [G loss: 0.147528]\n",
            "13340 [D loss: 0.750722] [D acc.: 58.33%, fake 50.00%, real 66.67%] [G loss: 0.858960]\n",
            "13360 [D loss: 0.431630] [D acc.: 75.00%, fake 100.00%, real 50.00%] [G loss: 0.450886]\n",
            "13380 [D loss: 1.226108] [D acc.: 16.67%, fake 0.00%, real 33.33%] [G loss: 0.173676]\n"
          ],
          "name": "stdout"
        },
        {
          "output_type": "stream",
          "text": [
            "WARNING:root:Lossy conversion from float32 to uint8. Range [0, 1]. Convert image to uint8 prior to saving to suppress this warning.\n"
          ],
          "name": "stderr"
        },
        {
          "output_type": "stream",
          "text": [
            "13400 [D loss: 0.575262] [D acc.: 66.67%, fake 50.00%, real 83.33%] [G loss: 0.824070]\n",
            "13420 [D loss: 0.194067] [D acc.: 100.00%, fake 100.00%, real 100.00%] [G loss: 1.422566]\n",
            "13440 [D loss: 1.420360] [D acc.: 8.33%, fake 0.00%, real 16.67%] [G loss: 0.296490]\n",
            "13460 [D loss: 0.891557] [D acc.: 58.33%, fake 100.00%, real 16.67%] [G loss: 0.947318]\n",
            "13480 [D loss: 0.780575] [D acc.: 33.33%, fake 16.67%, real 50.00%] [G loss: 0.437469]\n"
          ],
          "name": "stdout"
        },
        {
          "output_type": "stream",
          "text": [
            "WARNING:root:Lossy conversion from float32 to uint8. Range [0, 1]. Convert image to uint8 prior to saving to suppress this warning.\n"
          ],
          "name": "stderr"
        },
        {
          "output_type": "stream",
          "text": [
            "13500 [D loss: 0.535252] [D acc.: 58.33%, fake 50.00%, real 66.67%] [G loss: 0.869082]\n",
            "13520 [D loss: 0.983632] [D acc.: 8.33%, fake 16.67%, real 0.00%] [G loss: 0.980456]\n",
            "13540 [D loss: 0.882101] [D acc.: 41.67%, fake 16.67%, real 66.67%] [G loss: 0.104522]\n",
            "13560 [D loss: 0.768446] [D acc.: 50.00%, fake 66.67%, real 33.33%] [G loss: 0.681899]\n",
            "13580 [D loss: 0.448279] [D acc.: 91.67%, fake 100.00%, real 83.33%] [G loss: 1.565723]\n"
          ],
          "name": "stdout"
        },
        {
          "output_type": "stream",
          "text": [
            "WARNING:root:Lossy conversion from float32 to uint8. Range [0, 1]. Convert image to uint8 prior to saving to suppress this warning.\n"
          ],
          "name": "stderr"
        },
        {
          "output_type": "stream",
          "text": [
            "13600 [D loss: 0.237466] [D acc.: 91.67%, fake 100.00%, real 83.33%] [G loss: 0.290398]\n",
            "13620 [D loss: 0.459862] [D acc.: 91.67%, fake 100.00%, real 83.33%] [G loss: 0.980171]\n",
            "13640 [D loss: 0.549102] [D acc.: 66.67%, fake 83.33%, real 50.00%] [G loss: 0.802050]\n",
            "13660 [D loss: 1.305702] [D acc.: 8.33%, fake 16.67%, real 0.00%] [G loss: 0.901140]\n",
            "13680 [D loss: 0.915922] [D acc.: 25.00%, fake 0.00%, real 50.00%] [G loss: 0.504457]\n"
          ],
          "name": "stdout"
        },
        {
          "output_type": "stream",
          "text": [
            "WARNING:root:Lossy conversion from float32 to uint8. Range [0, 1]. Convert image to uint8 prior to saving to suppress this warning.\n"
          ],
          "name": "stderr"
        },
        {
          "output_type": "stream",
          "text": [
            "13700 [D loss: 0.635487] [D acc.: 66.67%, fake 83.33%, real 50.00%] [G loss: 0.895638]\n",
            "13720 [D loss: 1.256799] [D acc.: 16.67%, fake 0.00%, real 33.33%] [G loss: 0.880960]\n",
            "13740 [D loss: 1.141070] [D acc.: 16.67%, fake 0.00%, real 33.33%] [G loss: 0.857012]\n",
            "13760 [D loss: 0.580921] [D acc.: 75.00%, fake 66.67%, real 83.33%] [G loss: 1.030998]\n",
            "13780 [D loss: 0.872630] [D acc.: 33.33%, fake 16.67%, real 50.00%] [G loss: 0.503114]\n"
          ],
          "name": "stdout"
        },
        {
          "output_type": "stream",
          "text": [
            "WARNING:root:Lossy conversion from float32 to uint8. Range [0, 1]. Convert image to uint8 prior to saving to suppress this warning.\n"
          ],
          "name": "stderr"
        },
        {
          "output_type": "stream",
          "text": [
            "13800 [D loss: 0.748593] [D acc.: 50.00%, fake 50.00%, real 50.00%] [G loss: 1.142191]\n",
            "13820 [D loss: 0.553347] [D acc.: 75.00%, fake 66.67%, real 83.33%] [G loss: 0.866387]\n",
            "13840 [D loss: 0.833438] [D acc.: 66.67%, fake 66.67%, real 66.67%] [G loss: 0.243189]\n",
            "13860 [D loss: 1.292370] [D acc.: 8.33%, fake 0.00%, real 16.67%] [G loss: 0.294983]\n",
            "13880 [D loss: 0.433699] [D acc.: 75.00%, fake 50.00%, real 100.00%] [G loss: 1.644203]\n"
          ],
          "name": "stdout"
        },
        {
          "output_type": "stream",
          "text": [
            "WARNING:root:Lossy conversion from float32 to uint8. Range [0, 1]. Convert image to uint8 prior to saving to suppress this warning.\n"
          ],
          "name": "stderr"
        },
        {
          "output_type": "stream",
          "text": [
            "13900 [D loss: 2.618223] [D acc.: 16.67%, fake 0.00%, real 33.33%] [G loss: 0.269691]\n",
            "13920 [D loss: 0.396889] [D acc.: 83.33%, fake 66.67%, real 100.00%] [G loss: 0.492437]\n",
            "13940 [D loss: 0.828503] [D acc.: 41.67%, fake 33.33%, real 50.00%] [G loss: 0.540570]\n",
            "13960 [D loss: 0.941545] [D acc.: 41.67%, fake 0.00%, real 83.33%] [G loss: 0.489295]\n",
            "13980 [D loss: 1.044116] [D acc.: 8.33%, fake 0.00%, real 16.67%] [G loss: 0.736806]\n"
          ],
          "name": "stdout"
        },
        {
          "output_type": "stream",
          "text": [
            "WARNING:root:Lossy conversion from float32 to uint8. Range [0, 1]. Convert image to uint8 prior to saving to suppress this warning.\n"
          ],
          "name": "stderr"
        },
        {
          "output_type": "stream",
          "text": [
            "14000 [D loss: 0.653688] [D acc.: 58.33%, fake 66.67%, real 50.00%] [G loss: 1.919423]\n",
            "14020 [D loss: 0.998230] [D acc.: 33.33%, fake 16.67%, real 50.00%] [G loss: 0.188109]\n",
            "14040 [D loss: 0.338340] [D acc.: 91.67%, fake 83.33%, real 100.00%] [G loss: 1.439572]\n",
            "14060 [D loss: 1.489545] [D acc.: 25.00%, fake 50.00%, real 0.00%] [G loss: 0.738637]\n",
            "14080 [D loss: 0.512200] [D acc.: 75.00%, fake 83.33%, real 66.67%] [G loss: 0.220622]\n"
          ],
          "name": "stdout"
        },
        {
          "output_type": "stream",
          "text": [
            "WARNING:root:Lossy conversion from float32 to uint8. Range [0, 1]. Convert image to uint8 prior to saving to suppress this warning.\n"
          ],
          "name": "stderr"
        },
        {
          "output_type": "stream",
          "text": [
            "14100 [D loss: 0.469751] [D acc.: 83.33%, fake 83.33%, real 83.33%] [G loss: 0.469742]\n",
            "14120 [D loss: 0.498283] [D acc.: 83.33%, fake 100.00%, real 66.67%] [G loss: 0.819780]\n",
            "14140 [D loss: 0.920919] [D acc.: 41.67%, fake 33.33%, real 50.00%] [G loss: 0.173129]\n",
            "14160 [D loss: 0.475753] [D acc.: 83.33%, fake 100.00%, real 66.67%] [G loss: 1.129053]\n",
            "14180 [D loss: 0.875544] [D acc.: 25.00%, fake 16.67%, real 33.33%] [G loss: 0.429114]\n"
          ],
          "name": "stdout"
        },
        {
          "output_type": "stream",
          "text": [
            "WARNING:root:Lossy conversion from float32 to uint8. Range [0, 1]. Convert image to uint8 prior to saving to suppress this warning.\n"
          ],
          "name": "stderr"
        },
        {
          "output_type": "stream",
          "text": [
            "14200 [D loss: 0.427263] [D acc.: 91.67%, fake 100.00%, real 83.33%] [G loss: 0.943520]\n",
            "14220 [D loss: 0.467147] [D acc.: 91.67%, fake 100.00%, real 83.33%] [G loss: 1.381837]\n",
            "14240 [D loss: 1.187726] [D acc.: 16.67%, fake 0.00%, real 33.33%] [G loss: 0.584894]\n",
            "14260 [D loss: 0.951035] [D acc.: 8.33%, fake 0.00%, real 16.67%] [G loss: 0.931471]\n",
            "14280 [D loss: 0.990472] [D acc.: 50.00%, fake 66.67%, real 33.33%] [G loss: 0.545037]\n"
          ],
          "name": "stdout"
        },
        {
          "output_type": "stream",
          "text": [
            "WARNING:root:Lossy conversion from float32 to uint8. Range [0, 1]. Convert image to uint8 prior to saving to suppress this warning.\n"
          ],
          "name": "stderr"
        },
        {
          "output_type": "stream",
          "text": [
            "14300 [D loss: 0.707986] [D acc.: 58.33%, fake 66.67%, real 50.00%] [G loss: 1.400607]\n",
            "14320 [D loss: 0.833131] [D acc.: 25.00%, fake 0.00%, real 50.00%] [G loss: 0.599540]\n",
            "14340 [D loss: 1.002050] [D acc.: 16.67%, fake 16.67%, real 16.67%] [G loss: 0.382314]\n",
            "14360 [D loss: 0.557336] [D acc.: 75.00%, fake 83.33%, real 66.67%] [G loss: 0.988506]\n",
            "14380 [D loss: 1.031387] [D acc.: 16.67%, fake 0.00%, real 33.33%] [G loss: 0.224662]\n"
          ],
          "name": "stdout"
        },
        {
          "output_type": "stream",
          "text": [
            "WARNING:root:Lossy conversion from float32 to uint8. Range [0, 1]. Convert image to uint8 prior to saving to suppress this warning.\n"
          ],
          "name": "stderr"
        },
        {
          "output_type": "stream",
          "text": [
            "14400 [D loss: 0.677052] [D acc.: 66.67%, fake 66.67%, real 66.67%] [G loss: 0.876501]\n",
            "14420 [D loss: 1.326248] [D acc.: 0.00%, fake 0.00%, real 0.00%] [G loss: 0.210415]\n",
            "14440 [D loss: 0.834616] [D acc.: 41.67%, fake 16.67%, real 66.67%] [G loss: 1.317992]\n",
            "14460 [D loss: 1.453639] [D acc.: 0.00%, fake 0.00%, real 0.00%] [G loss: 0.424637]\n",
            "14480 [D loss: 1.043559] [D acc.: 33.33%, fake 50.00%, real 16.67%] [G loss: 1.279556]\n"
          ],
          "name": "stdout"
        },
        {
          "output_type": "stream",
          "text": [
            "WARNING:root:Lossy conversion from float32 to uint8. Range [0, 1]. Convert image to uint8 prior to saving to suppress this warning.\n"
          ],
          "name": "stderr"
        },
        {
          "output_type": "stream",
          "text": [
            "14500 [D loss: 0.817173] [D acc.: 41.67%, fake 33.33%, real 50.00%] [G loss: 0.810536]\n",
            "14520 [D loss: 1.395473] [D acc.: 25.00%, fake 0.00%, real 50.00%] [G loss: 0.648763]\n",
            "14540 [D loss: 1.245272] [D acc.: 25.00%, fake 16.67%, real 33.33%] [G loss: 0.305106]\n",
            "14560 [D loss: 1.227111] [D acc.: 16.67%, fake 16.67%, real 16.67%] [G loss: 0.845309]\n",
            "14580 [D loss: 1.062132] [D acc.: 16.67%, fake 0.00%, real 33.33%] [G loss: 0.384873]\n"
          ],
          "name": "stdout"
        },
        {
          "output_type": "stream",
          "text": [
            "WARNING:root:Lossy conversion from float32 to uint8. Range [0, 1]. Convert image to uint8 prior to saving to suppress this warning.\n"
          ],
          "name": "stderr"
        },
        {
          "output_type": "stream",
          "text": [
            "14600 [D loss: 0.947591] [D acc.: 33.33%, fake 33.33%, real 33.33%] [G loss: 0.276963]\n",
            "14620 [D loss: 1.625044] [D acc.: 16.67%, fake 0.00%, real 33.33%] [G loss: 0.194121]\n",
            "14640 [D loss: 1.046049] [D acc.: 41.67%, fake 0.00%, real 83.33%] [G loss: 1.415728]\n",
            "14660 [D loss: 0.819915] [D acc.: 41.67%, fake 33.33%, real 50.00%] [G loss: 0.773356]\n",
            "14680 [D loss: 1.087469] [D acc.: 41.67%, fake 33.33%, real 50.00%] [G loss: 1.159942]\n"
          ],
          "name": "stdout"
        },
        {
          "output_type": "stream",
          "text": [
            "WARNING:root:Lossy conversion from float32 to uint8. Range [0, 1]. Convert image to uint8 prior to saving to suppress this warning.\n"
          ],
          "name": "stderr"
        },
        {
          "output_type": "stream",
          "text": [
            "14700 [D loss: 0.802229] [D acc.: 41.67%, fake 66.67%, real 16.67%] [G loss: 0.504262]\n",
            "14720 [D loss: 0.429435] [D acc.: 91.67%, fake 100.00%, real 83.33%] [G loss: 0.175926]\n",
            "14740 [D loss: 0.218528] [D acc.: 91.67%, fake 100.00%, real 83.33%] [G loss: 0.058230]\n",
            "14760 [D loss: 1.066236] [D acc.: 16.67%, fake 0.00%, real 33.33%] [G loss: 0.969930]\n",
            "14780 [D loss: 0.892201] [D acc.: 25.00%, fake 0.00%, real 50.00%] [G loss: 0.424195]\n"
          ],
          "name": "stdout"
        },
        {
          "output_type": "stream",
          "text": [
            "WARNING:root:Lossy conversion from float32 to uint8. Range [0, 1]. Convert image to uint8 prior to saving to suppress this warning.\n"
          ],
          "name": "stderr"
        },
        {
          "output_type": "stream",
          "text": [
            "14800 [D loss: 0.631434] [D acc.: 66.67%, fake 83.33%, real 50.00%] [G loss: 1.492790]\n",
            "14820 [D loss: 0.598657] [D acc.: 66.67%, fake 50.00%, real 83.33%] [G loss: 0.416971]\n",
            "14840 [D loss: 0.779482] [D acc.: 33.33%, fake 16.67%, real 50.00%] [G loss: 1.073516]\n",
            "14860 [D loss: 0.957480] [D acc.: 25.00%, fake 16.67%, real 33.33%] [G loss: 0.580391]\n",
            "14880 [D loss: 0.772214] [D acc.: 50.00%, fake 50.00%, real 50.00%] [G loss: 0.935770]\n"
          ],
          "name": "stdout"
        },
        {
          "output_type": "stream",
          "text": [
            "WARNING:root:Lossy conversion from float32 to uint8. Range [0, 1]. Convert image to uint8 prior to saving to suppress this warning.\n"
          ],
          "name": "stderr"
        },
        {
          "output_type": "stream",
          "text": [
            "14900 [D loss: 1.043768] [D acc.: 25.00%, fake 0.00%, real 50.00%] [G loss: 0.096232]\n",
            "14920 [D loss: 0.861222] [D acc.: 58.33%, fake 66.67%, real 50.00%] [G loss: 1.351869]\n",
            "14940 [D loss: 0.783117] [D acc.: 41.67%, fake 16.67%, real 66.67%] [G loss: 0.390608]\n",
            "14960 [D loss: 0.687501] [D acc.: 75.00%, fake 83.33%, real 66.67%] [G loss: 0.961176]\n",
            "14980 [D loss: 0.669649] [D acc.: 41.67%, fake 0.00%, real 83.33%] [G loss: 0.231218]\n"
          ],
          "name": "stdout"
        },
        {
          "output_type": "stream",
          "text": [
            "WARNING:root:Lossy conversion from float32 to uint8. Range [0, 1]. Convert image to uint8 prior to saving to suppress this warning.\n"
          ],
          "name": "stderr"
        },
        {
          "output_type": "stream",
          "text": [
            "15000 [D loss: 0.810846] [D acc.: 33.33%, fake 0.00%, real 66.67%] [G loss: 0.739272]\n",
            "15020 [D loss: 1.686849] [D acc.: 8.33%, fake 16.67%, real 0.00%] [G loss: 0.500624]\n",
            "15040 [D loss: 0.986900] [D acc.: 33.33%, fake 50.00%, real 16.67%] [G loss: 0.540538]\n",
            "15060 [D loss: 1.043042] [D acc.: 25.00%, fake 0.00%, real 50.00%] [G loss: 0.188534]\n",
            "15080 [D loss: 0.680795] [D acc.: 50.00%, fake 66.67%, real 33.33%] [G loss: 0.965996]\n"
          ],
          "name": "stdout"
        },
        {
          "output_type": "stream",
          "text": [
            "WARNING:root:Lossy conversion from float32 to uint8. Range [0, 1]. Convert image to uint8 prior to saving to suppress this warning.\n"
          ],
          "name": "stderr"
        },
        {
          "output_type": "stream",
          "text": [
            "15100 [D loss: 1.135317] [D acc.: 25.00%, fake 0.00%, real 50.00%] [G loss: 0.496029]\n",
            "15120 [D loss: 0.844565] [D acc.: 75.00%, fake 100.00%, real 50.00%] [G loss: 1.108258]\n",
            "15140 [D loss: 0.792353] [D acc.: 33.33%, fake 16.67%, real 50.00%] [G loss: 0.608175]\n",
            "15160 [D loss: 0.945629] [D acc.: 33.33%, fake 33.33%, real 33.33%] [G loss: 1.092452]\n",
            "15180 [D loss: 1.090401] [D acc.: 25.00%, fake 0.00%, real 50.00%] [G loss: 1.260022]\n"
          ],
          "name": "stdout"
        },
        {
          "output_type": "stream",
          "text": [
            "WARNING:root:Lossy conversion from float32 to uint8. Range [0, 1]. Convert image to uint8 prior to saving to suppress this warning.\n"
          ],
          "name": "stderr"
        },
        {
          "output_type": "stream",
          "text": [
            "15200 [D loss: 0.518195] [D acc.: 83.33%, fake 100.00%, real 66.67%] [G loss: 0.517415]\n",
            "15220 [D loss: 0.438484] [D acc.: 91.67%, fake 100.00%, real 83.33%] [G loss: 0.574805]\n",
            "15240 [D loss: 0.811492] [D acc.: 41.67%, fake 33.33%, real 50.00%] [G loss: 0.644107]\n",
            "15260 [D loss: 1.095064] [D acc.: 33.33%, fake 33.33%, real 33.33%] [G loss: 1.074028]\n",
            "15280 [D loss: 0.454174] [D acc.: 58.33%, fake 33.33%, real 83.33%] [G loss: 0.727420]\n"
          ],
          "name": "stdout"
        },
        {
          "output_type": "stream",
          "text": [
            "WARNING:root:Lossy conversion from float32 to uint8. Range [0, 1]. Convert image to uint8 prior to saving to suppress this warning.\n"
          ],
          "name": "stderr"
        },
        {
          "output_type": "stream",
          "text": [
            "15300 [D loss: 1.088471] [D acc.: 33.33%, fake 16.67%, real 50.00%] [G loss: 0.576894]\n",
            "15320 [D loss: 0.405756] [D acc.: 91.67%, fake 100.00%, real 83.33%] [G loss: 1.277405]\n",
            "15340 [D loss: 0.647081] [D acc.: 66.67%, fake 83.33%, real 50.00%] [G loss: 1.114812]\n",
            "15360 [D loss: 0.636366] [D acc.: 66.67%, fake 83.33%, real 50.00%] [G loss: 0.765375]\n",
            "15380 [D loss: 1.034291] [D acc.: 41.67%, fake 50.00%, real 33.33%] [G loss: 0.803563]\n"
          ],
          "name": "stdout"
        },
        {
          "output_type": "stream",
          "text": [
            "WARNING:root:Lossy conversion from float32 to uint8. Range [0, 1]. Convert image to uint8 prior to saving to suppress this warning.\n"
          ],
          "name": "stderr"
        },
        {
          "output_type": "stream",
          "text": [
            "15400 [D loss: 0.469694] [D acc.: 83.33%, fake 100.00%, real 66.67%] [G loss: 1.033418]\n",
            "15420 [D loss: 0.662136] [D acc.: 66.67%, fake 66.67%, real 66.67%] [G loss: 0.646314]\n",
            "15440 [D loss: 2.120034] [D acc.: 0.00%, fake 0.00%, real 0.00%] [G loss: 0.527800]\n",
            "15460 [D loss: 0.874941] [D acc.: 50.00%, fake 66.67%, real 33.33%] [G loss: 0.340297]\n",
            "15480 [D loss: 0.853498] [D acc.: 66.67%, fake 66.67%, real 66.67%] [G loss: 1.672531]\n"
          ],
          "name": "stdout"
        },
        {
          "output_type": "stream",
          "text": [
            "WARNING:root:Lossy conversion from float32 to uint8. Range [0, 1]. Convert image to uint8 prior to saving to suppress this warning.\n"
          ],
          "name": "stderr"
        },
        {
          "output_type": "stream",
          "text": [
            "15500 [D loss: 0.857353] [D acc.: 33.33%, fake 0.00%, real 66.67%] [G loss: 0.143034]\n",
            "15520 [D loss: 1.122987] [D acc.: 8.33%, fake 0.00%, real 16.67%] [G loss: 0.632052]\n",
            "15540 [D loss: 1.314132] [D acc.: 8.33%, fake 0.00%, real 16.67%] [G loss: 0.975972]\n",
            "15560 [D loss: 0.947929] [D acc.: 16.67%, fake 0.00%, real 33.33%] [G loss: 0.697871]\n",
            "15580 [D loss: 0.159076] [D acc.: 100.00%, fake 100.00%, real 100.00%] [G loss: 2.321129]\n"
          ],
          "name": "stdout"
        },
        {
          "output_type": "stream",
          "text": [
            "WARNING:root:Lossy conversion from float32 to uint8. Range [0, 1]. Convert image to uint8 prior to saving to suppress this warning.\n"
          ],
          "name": "stderr"
        },
        {
          "output_type": "stream",
          "text": [
            "15600 [D loss: 0.464972] [D acc.: 58.33%, fake 50.00%, real 66.67%] [G loss: 0.725827]\n",
            "15620 [D loss: 1.067523] [D acc.: 16.67%, fake 16.67%, real 16.67%] [G loss: 1.437883]\n",
            "15640 [D loss: 1.029813] [D acc.: 33.33%, fake 0.00%, real 66.67%] [G loss: 0.339463]\n",
            "15660 [D loss: 0.970617] [D acc.: 41.67%, fake 50.00%, real 33.33%] [G loss: 0.506588]\n",
            "15680 [D loss: 0.908407] [D acc.: 25.00%, fake 16.67%, real 33.33%] [G loss: 0.991602]\n"
          ],
          "name": "stdout"
        },
        {
          "output_type": "stream",
          "text": [
            "WARNING:root:Lossy conversion from float32 to uint8. Range [0, 1]. Convert image to uint8 prior to saving to suppress this warning.\n"
          ],
          "name": "stderr"
        },
        {
          "output_type": "stream",
          "text": [
            "15700 [D loss: 0.823772] [D acc.: 58.33%, fake 100.00%, real 16.67%] [G loss: 1.222652]\n",
            "15720 [D loss: 0.615224] [D acc.: 75.00%, fake 83.33%, real 66.67%] [G loss: 1.002770]\n",
            "15740 [D loss: 0.694036] [D acc.: 66.67%, fake 83.33%, real 50.00%] [G loss: 1.158985]\n",
            "15760 [D loss: 0.529940] [D acc.: 75.00%, fake 50.00%, real 100.00%] [G loss: 1.084263]\n",
            "15780 [D loss: 1.043849] [D acc.: 25.00%, fake 0.00%, real 50.00%] [G loss: 0.495837]\n"
          ],
          "name": "stdout"
        },
        {
          "output_type": "stream",
          "text": [
            "WARNING:root:Lossy conversion from float32 to uint8. Range [0, 1]. Convert image to uint8 prior to saving to suppress this warning.\n"
          ],
          "name": "stderr"
        },
        {
          "output_type": "stream",
          "text": [
            "15800 [D loss: 0.606977] [D acc.: 75.00%, fake 100.00%, real 50.00%] [G loss: 0.037972]\n",
            "15820 [D loss: 0.403687] [D acc.: 83.33%, fake 83.33%, real 83.33%] [G loss: 0.218898]\n",
            "15840 [D loss: 0.590571] [D acc.: 66.67%, fake 100.00%, real 33.33%] [G loss: 1.103663]\n",
            "15860 [D loss: 0.635285] [D acc.: 75.00%, fake 66.67%, real 83.33%] [G loss: 1.455536]\n",
            "15880 [D loss: 0.636236] [D acc.: 66.67%, fake 100.00%, real 33.33%] [G loss: 1.954410]\n"
          ],
          "name": "stdout"
        },
        {
          "output_type": "stream",
          "text": [
            "WARNING:root:Lossy conversion from float32 to uint8. Range [0, 1]. Convert image to uint8 prior to saving to suppress this warning.\n"
          ],
          "name": "stderr"
        },
        {
          "output_type": "stream",
          "text": [
            "15900 [D loss: 0.450020] [D acc.: 91.67%, fake 100.00%, real 83.33%] [G loss: 1.804807]\n",
            "15920 [D loss: 1.724207] [D acc.: 8.33%, fake 16.67%, real 0.00%] [G loss: 0.874682]\n",
            "15940 [D loss: 0.850863] [D acc.: 25.00%, fake 16.67%, real 33.33%] [G loss: 0.910827]\n",
            "15960 [D loss: 0.969619] [D acc.: 25.00%, fake 0.00%, real 50.00%] [G loss: 0.901117]\n",
            "15980 [D loss: 0.940244] [D acc.: 33.33%, fake 33.33%, real 33.33%] [G loss: 0.487139]\n"
          ],
          "name": "stdout"
        },
        {
          "output_type": "stream",
          "text": [
            "WARNING:root:Lossy conversion from float32 to uint8. Range [0, 1]. Convert image to uint8 prior to saving to suppress this warning.\n"
          ],
          "name": "stderr"
        },
        {
          "output_type": "stream",
          "text": [
            "16000 [D loss: 0.460837] [D acc.: 83.33%, fake 100.00%, real 66.67%] [G loss: 0.610622]\n",
            "16020 [D loss: 1.164279] [D acc.: 8.33%, fake 0.00%, real 16.67%] [G loss: 0.675129]\n",
            "16040 [D loss: 0.914580] [D acc.: 33.33%, fake 16.67%, real 50.00%] [G loss: 0.526747]\n",
            "16060 [D loss: 1.047444] [D acc.: 33.33%, fake 16.67%, real 50.00%] [G loss: 0.830533]\n",
            "16080 [D loss: 0.705145] [D acc.: 75.00%, fake 100.00%, real 50.00%] [G loss: 1.374546]\n"
          ],
          "name": "stdout"
        },
        {
          "output_type": "stream",
          "text": [
            "WARNING:root:Lossy conversion from float32 to uint8. Range [0, 1]. Convert image to uint8 prior to saving to suppress this warning.\n"
          ],
          "name": "stderr"
        },
        {
          "output_type": "stream",
          "text": [
            "16100 [D loss: 1.140364] [D acc.: 16.67%, fake 16.67%, real 16.67%] [G loss: 0.826531]\n",
            "16120 [D loss: 0.941728] [D acc.: 50.00%, fake 50.00%, real 50.00%] [G loss: 1.826700]\n",
            "16140 [D loss: 1.155670] [D acc.: 33.33%, fake 0.00%, real 66.67%] [G loss: 0.606524]\n",
            "16160 [D loss: 0.924597] [D acc.: 25.00%, fake 0.00%, real 50.00%] [G loss: 0.544431]\n",
            "16180 [D loss: 1.068511] [D acc.: 16.67%, fake 16.67%, real 16.67%] [G loss: 0.542878]\n"
          ],
          "name": "stdout"
        },
        {
          "output_type": "stream",
          "text": [
            "WARNING:root:Lossy conversion from float32 to uint8. Range [0, 1]. Convert image to uint8 prior to saving to suppress this warning.\n"
          ],
          "name": "stderr"
        },
        {
          "output_type": "stream",
          "text": [
            "16200 [D loss: 1.132298] [D acc.: 25.00%, fake 16.67%, real 33.33%] [G loss: 0.706889]\n",
            "16220 [D loss: 0.718453] [D acc.: 58.33%, fake 50.00%, real 66.67%] [G loss: 0.581903]\n",
            "16240 [D loss: 1.006260] [D acc.: 25.00%, fake 50.00%, real 0.00%] [G loss: 0.656122]\n",
            "16260 [D loss: 0.717192] [D acc.: 50.00%, fake 33.33%, real 66.67%] [G loss: 1.178407]\n",
            "16280 [D loss: 0.831640] [D acc.: 41.67%, fake 33.33%, real 50.00%] [G loss: 0.245584]\n"
          ],
          "name": "stdout"
        },
        {
          "output_type": "stream",
          "text": [
            "WARNING:root:Lossy conversion from float32 to uint8. Range [0, 1]. Convert image to uint8 prior to saving to suppress this warning.\n"
          ],
          "name": "stderr"
        },
        {
          "output_type": "stream",
          "text": [
            "16300 [D loss: 0.621963] [D acc.: 66.67%, fake 83.33%, real 50.00%] [G loss: 0.435955]\n",
            "16320 [D loss: 0.858644] [D acc.: 50.00%, fake 66.67%, real 33.33%] [G loss: 0.509976]\n",
            "16340 [D loss: 0.871503] [D acc.: 41.67%, fake 50.00%, real 33.33%] [G loss: 1.911668]\n",
            "16360 [D loss: 1.092650] [D acc.: 41.67%, fake 16.67%, real 66.67%] [G loss: 0.485038]\n",
            "16380 [D loss: 1.208780] [D acc.: 8.33%, fake 0.00%, real 16.67%] [G loss: 0.662381]\n"
          ],
          "name": "stdout"
        },
        {
          "output_type": "stream",
          "text": [
            "WARNING:root:Lossy conversion from float32 to uint8. Range [0, 1]. Convert image to uint8 prior to saving to suppress this warning.\n"
          ],
          "name": "stderr"
        },
        {
          "output_type": "stream",
          "text": [
            "16400 [D loss: 1.198908] [D acc.: 25.00%, fake 33.33%, real 16.67%] [G loss: 0.344111]\n",
            "16420 [D loss: 0.831690] [D acc.: 33.33%, fake 16.67%, real 50.00%] [G loss: 0.679452]\n",
            "16440 [D loss: 0.644806] [D acc.: 75.00%, fake 100.00%, real 50.00%] [G loss: 0.724066]\n",
            "16460 [D loss: 0.958628] [D acc.: 25.00%, fake 0.00%, real 50.00%] [G loss: 0.533724]\n",
            "16480 [D loss: 0.750751] [D acc.: 41.67%, fake 16.67%, real 66.67%] [G loss: 0.310851]\n"
          ],
          "name": "stdout"
        },
        {
          "output_type": "stream",
          "text": [
            "WARNING:root:Lossy conversion from float32 to uint8. Range [0, 1]. Convert image to uint8 prior to saving to suppress this warning.\n"
          ],
          "name": "stderr"
        },
        {
          "output_type": "stream",
          "text": [
            "16500 [D loss: 0.926300] [D acc.: 58.33%, fake 83.33%, real 33.33%] [G loss: 1.435800]\n",
            "16520 [D loss: 0.767032] [D acc.: 50.00%, fake 50.00%, real 50.00%] [G loss: 0.899280]\n",
            "16540 [D loss: 0.673478] [D acc.: 58.33%, fake 66.67%, real 50.00%] [G loss: 0.925724]\n",
            "16560 [D loss: 0.375622] [D acc.: 91.67%, fake 100.00%, real 83.33%] [G loss: 1.018710]\n",
            "16580 [D loss: 1.052626] [D acc.: 25.00%, fake 16.67%, real 33.33%] [G loss: 0.429501]\n"
          ],
          "name": "stdout"
        },
        {
          "output_type": "stream",
          "text": [
            "WARNING:root:Lossy conversion from float32 to uint8. Range [0, 1]. Convert image to uint8 prior to saving to suppress this warning.\n"
          ],
          "name": "stderr"
        },
        {
          "output_type": "stream",
          "text": [
            "16600 [D loss: 0.676795] [D acc.: 66.67%, fake 66.67%, real 66.67%] [G loss: 0.562265]\n",
            "16620 [D loss: 0.674774] [D acc.: 66.67%, fake 100.00%, real 33.33%] [G loss: 1.094252]\n",
            "16640 [D loss: 0.889935] [D acc.: 33.33%, fake 0.00%, real 66.67%] [G loss: 0.234479]\n",
            "16660 [D loss: 0.916118] [D acc.: 33.33%, fake 33.33%, real 33.33%] [G loss: 0.936302]\n",
            "16680 [D loss: 1.124767] [D acc.: 25.00%, fake 33.33%, real 16.67%] [G loss: 1.740922]\n"
          ],
          "name": "stdout"
        },
        {
          "output_type": "stream",
          "text": [
            "WARNING:root:Lossy conversion from float32 to uint8. Range [0, 1]. Convert image to uint8 prior to saving to suppress this warning.\n"
          ],
          "name": "stderr"
        },
        {
          "output_type": "stream",
          "text": [
            "16700 [D loss: 1.023979] [D acc.: 33.33%, fake 0.00%, real 66.67%] [G loss: 1.039419]\n",
            "16720 [D loss: 0.780938] [D acc.: 41.67%, fake 50.00%, real 33.33%] [G loss: 1.122836]\n",
            "16740 [D loss: 0.972528] [D acc.: 16.67%, fake 0.00%, real 33.33%] [G loss: 1.200411]\n",
            "16760 [D loss: 0.866049] [D acc.: 41.67%, fake 16.67%, real 66.67%] [G loss: 0.560203]\n",
            "16780 [D loss: 0.941843] [D acc.: 41.67%, fake 66.67%, real 16.67%] [G loss: 1.059468]\n"
          ],
          "name": "stdout"
        },
        {
          "output_type": "stream",
          "text": [
            "WARNING:root:Lossy conversion from float32 to uint8. Range [0, 1]. Convert image to uint8 prior to saving to suppress this warning.\n"
          ],
          "name": "stderr"
        },
        {
          "output_type": "stream",
          "text": [
            "16800 [D loss: 0.572718] [D acc.: 75.00%, fake 83.33%, real 66.67%] [G loss: 2.873006]\n",
            "16820 [D loss: 1.320592] [D acc.: 16.67%, fake 0.00%, real 33.33%] [G loss: 0.780013]\n",
            "16840 [D loss: 1.559653] [D acc.: 25.00%, fake 33.33%, real 16.67%] [G loss: 1.592729]\n",
            "16860 [D loss: 0.480857] [D acc.: 83.33%, fake 83.33%, real 83.33%] [G loss: 1.048366]\n",
            "16880 [D loss: 0.919193] [D acc.: 41.67%, fake 16.67%, real 66.67%] [G loss: 0.205132]\n"
          ],
          "name": "stdout"
        },
        {
          "output_type": "stream",
          "text": [
            "WARNING:root:Lossy conversion from float32 to uint8. Range [0, 1]. Convert image to uint8 prior to saving to suppress this warning.\n"
          ],
          "name": "stderr"
        },
        {
          "output_type": "stream",
          "text": [
            "16900 [D loss: 0.866894] [D acc.: 41.67%, fake 66.67%, real 16.67%] [G loss: 1.052557]\n",
            "16920 [D loss: 0.746781] [D acc.: 58.33%, fake 83.33%, real 33.33%] [G loss: 1.075618]\n",
            "16940 [D loss: 0.493244] [D acc.: 83.33%, fake 83.33%, real 83.33%] [G loss: 0.973458]\n",
            "16960 [D loss: 0.732792] [D acc.: 58.33%, fake 66.67%, real 50.00%] [G loss: 0.924821]\n",
            "16980 [D loss: 0.132761] [D acc.: 100.00%, fake 100.00%, real 100.00%] [G loss: 1.204573]\n"
          ],
          "name": "stdout"
        },
        {
          "output_type": "stream",
          "text": [
            "WARNING:root:Lossy conversion from float32 to uint8. Range [0, 1]. Convert image to uint8 prior to saving to suppress this warning.\n"
          ],
          "name": "stderr"
        },
        {
          "output_type": "stream",
          "text": [
            "17000 [D loss: 0.897005] [D acc.: 33.33%, fake 0.00%, real 66.67%] [G loss: 0.294170]\n",
            "17020 [D loss: 0.765272] [D acc.: 33.33%, fake 50.00%, real 16.67%] [G loss: 1.034571]\n",
            "17040 [D loss: 0.788592] [D acc.: 25.00%, fake 16.67%, real 33.33%] [G loss: 0.583771]\n",
            "17060 [D loss: 0.925273] [D acc.: 41.67%, fake 66.67%, real 16.67%] [G loss: 0.567430]\n",
            "17080 [D loss: 0.804045] [D acc.: 33.33%, fake 16.67%, real 50.00%] [G loss: 0.283554]\n"
          ],
          "name": "stdout"
        },
        {
          "output_type": "stream",
          "text": [
            "WARNING:root:Lossy conversion from float32 to uint8. Range [0, 1]. Convert image to uint8 prior to saving to suppress this warning.\n"
          ],
          "name": "stderr"
        },
        {
          "output_type": "stream",
          "text": [
            "17100 [D loss: 1.201089] [D acc.: 50.00%, fake 50.00%, real 50.00%] [G loss: 0.155470]\n",
            "17120 [D loss: 0.599732] [D acc.: 58.33%, fake 16.67%, real 100.00%] [G loss: 0.181524]\n",
            "17140 [D loss: 0.953212] [D acc.: 25.00%, fake 16.67%, real 33.33%] [G loss: 0.572663]\n",
            "17160 [D loss: 0.905319] [D acc.: 33.33%, fake 50.00%, real 16.67%] [G loss: 1.577680]\n",
            "17180 [D loss: 1.175596] [D acc.: 16.67%, fake 33.33%, real 0.00%] [G loss: 0.804324]\n"
          ],
          "name": "stdout"
        },
        {
          "output_type": "stream",
          "text": [
            "WARNING:root:Lossy conversion from float32 to uint8. Range [0, 1]. Convert image to uint8 prior to saving to suppress this warning.\n"
          ],
          "name": "stderr"
        },
        {
          "output_type": "stream",
          "text": [
            "17200 [D loss: 0.678057] [D acc.: 75.00%, fake 100.00%, real 50.00%] [G loss: 0.841462]\n",
            "17220 [D loss: 1.285861] [D acc.: 8.33%, fake 0.00%, real 16.67%] [G loss: 1.469549]\n",
            "17240 [D loss: 0.730710] [D acc.: 66.67%, fake 83.33%, real 50.00%] [G loss: 0.934434]\n",
            "17260 [D loss: 0.685243] [D acc.: 75.00%, fake 83.33%, real 66.67%] [G loss: 0.306301]\n",
            "17280 [D loss: 0.317996] [D acc.: 91.67%, fake 100.00%, real 83.33%] [G loss: 0.670978]\n"
          ],
          "name": "stdout"
        },
        {
          "output_type": "stream",
          "text": [
            "WARNING:root:Lossy conversion from float32 to uint8. Range [0, 1]. Convert image to uint8 prior to saving to suppress this warning.\n"
          ],
          "name": "stderr"
        },
        {
          "output_type": "stream",
          "text": [
            "17300 [D loss: 1.185740] [D acc.: 25.00%, fake 0.00%, real 50.00%] [G loss: 0.328503]\n",
            "17320 [D loss: 1.054841] [D acc.: 16.67%, fake 33.33%, real 0.00%] [G loss: 0.834004]\n",
            "17340 [D loss: 0.782395] [D acc.: 41.67%, fake 33.33%, real 50.00%] [G loss: 1.576251]\n",
            "17360 [D loss: 0.894464] [D acc.: 25.00%, fake 0.00%, real 50.00%] [G loss: 0.682217]\n",
            "17380 [D loss: 0.601840] [D acc.: 66.67%, fake 100.00%, real 33.33%] [G loss: 2.483402]\n"
          ],
          "name": "stdout"
        },
        {
          "output_type": "stream",
          "text": [
            "WARNING:root:Lossy conversion from float32 to uint8. Range [0, 1]. Convert image to uint8 prior to saving to suppress this warning.\n"
          ],
          "name": "stderr"
        },
        {
          "output_type": "stream",
          "text": [
            "17400 [D loss: 0.915690] [D acc.: 25.00%, fake 16.67%, real 33.33%] [G loss: 0.862534]\n",
            "17420 [D loss: 0.907828] [D acc.: 41.67%, fake 16.67%, real 66.67%] [G loss: 0.310815]\n",
            "17440 [D loss: 0.530676] [D acc.: 83.33%, fake 100.00%, real 66.67%] [G loss: 1.471795]\n",
            "17460 [D loss: 0.634978] [D acc.: 41.67%, fake 33.33%, real 50.00%] [G loss: 1.401713]\n",
            "17480 [D loss: 1.050141] [D acc.: 33.33%, fake 50.00%, real 16.67%] [G loss: 0.735727]\n"
          ],
          "name": "stdout"
        },
        {
          "output_type": "stream",
          "text": [
            "WARNING:root:Lossy conversion from float32 to uint8. Range [0, 1]. Convert image to uint8 prior to saving to suppress this warning.\n"
          ],
          "name": "stderr"
        },
        {
          "output_type": "stream",
          "text": [
            "17500 [D loss: 0.686327] [D acc.: 83.33%, fake 100.00%, real 66.67%] [G loss: 0.704874]\n",
            "17520 [D loss: 0.579111] [D acc.: 50.00%, fake 33.33%, real 66.67%] [G loss: 1.379128]\n",
            "17540 [D loss: 0.501483] [D acc.: 75.00%, fake 66.67%, real 83.33%] [G loss: 0.242999]\n",
            "17560 [D loss: 0.627014] [D acc.: 66.67%, fake 50.00%, real 83.33%] [G loss: 1.187241]\n",
            "17580 [D loss: 0.833711] [D acc.: 50.00%, fake 66.67%, real 33.33%] [G loss: 0.725146]\n"
          ],
          "name": "stdout"
        },
        {
          "output_type": "stream",
          "text": [
            "WARNING:root:Lossy conversion from float32 to uint8. Range [0, 1]. Convert image to uint8 prior to saving to suppress this warning.\n"
          ],
          "name": "stderr"
        },
        {
          "output_type": "stream",
          "text": [
            "17600 [D loss: 1.175202] [D acc.: 25.00%, fake 16.67%, real 33.33%] [G loss: 0.659375]\n",
            "17620 [D loss: 0.890217] [D acc.: 33.33%, fake 16.67%, real 50.00%] [G loss: 0.712225]\n",
            "17640 [D loss: 0.436501] [D acc.: 91.67%, fake 83.33%, real 100.00%] [G loss: 1.169203]\n",
            "17660 [D loss: 0.280686] [D acc.: 83.33%, fake 100.00%, real 66.67%] [G loss: 3.963346]\n",
            "17680 [D loss: 1.569934] [D acc.: 16.67%, fake 0.00%, real 33.33%] [G loss: 0.380384]\n"
          ],
          "name": "stdout"
        },
        {
          "output_type": "stream",
          "text": [
            "WARNING:root:Lossy conversion from float32 to uint8. Range [0, 1]. Convert image to uint8 prior to saving to suppress this warning.\n"
          ],
          "name": "stderr"
        },
        {
          "output_type": "stream",
          "text": [
            "17700 [D loss: 0.750995] [D acc.: 50.00%, fake 50.00%, real 50.00%] [G loss: 0.613989]\n",
            "17720 [D loss: 1.212280] [D acc.: 25.00%, fake 16.67%, real 33.33%] [G loss: 0.896256]\n",
            "17740 [D loss: 0.880406] [D acc.: 41.67%, fake 33.33%, real 50.00%] [G loss: 0.459873]\n",
            "17760 [D loss: 1.139016] [D acc.: 25.00%, fake 16.67%, real 33.33%] [G loss: 0.570964]\n",
            "17780 [D loss: 0.908855] [D acc.: 50.00%, fake 50.00%, real 50.00%] [G loss: 1.678912]\n"
          ],
          "name": "stdout"
        },
        {
          "output_type": "stream",
          "text": [
            "WARNING:root:Lossy conversion from float32 to uint8. Range [0, 1]. Convert image to uint8 prior to saving to suppress this warning.\n"
          ],
          "name": "stderr"
        },
        {
          "output_type": "stream",
          "text": [
            "17800 [D loss: 0.553883] [D acc.: 83.33%, fake 100.00%, real 66.67%] [G loss: 1.473503]\n",
            "17820 [D loss: 0.493180] [D acc.: 50.00%, fake 16.67%, real 83.33%] [G loss: 1.232153]\n",
            "17840 [D loss: 0.766895] [D acc.: 25.00%, fake 0.00%, real 50.00%] [G loss: 0.782464]\n",
            "17860 [D loss: 0.815964] [D acc.: 41.67%, fake 16.67%, real 66.67%] [G loss: 0.125781]\n",
            "17880 [D loss: 0.871082] [D acc.: 25.00%, fake 16.67%, real 33.33%] [G loss: 0.850405]\n"
          ],
          "name": "stdout"
        },
        {
          "output_type": "stream",
          "text": [
            "WARNING:root:Lossy conversion from float32 to uint8. Range [0, 1]. Convert image to uint8 prior to saving to suppress this warning.\n"
          ],
          "name": "stderr"
        },
        {
          "output_type": "stream",
          "text": [
            "17900 [D loss: 1.461608] [D acc.: 16.67%, fake 0.00%, real 33.33%] [G loss: 0.355461]\n",
            "17920 [D loss: 0.692442] [D acc.: 50.00%, fake 50.00%, real 50.00%] [G loss: 0.734668]\n",
            "17940 [D loss: 0.390372] [D acc.: 83.33%, fake 100.00%, real 66.67%] [G loss: 0.279040]\n",
            "17960 [D loss: 0.734660] [D acc.: 75.00%, fake 100.00%, real 50.00%] [G loss: 1.762819]\n",
            "17980 [D loss: 1.136613] [D acc.: 33.33%, fake 16.67%, real 50.00%] [G loss: 0.615754]\n"
          ],
          "name": "stdout"
        },
        {
          "output_type": "stream",
          "text": [
            "WARNING:root:Lossy conversion from float32 to uint8. Range [0, 1]. Convert image to uint8 prior to saving to suppress this warning.\n"
          ],
          "name": "stderr"
        },
        {
          "output_type": "stream",
          "text": [
            "18000 [D loss: 0.521336] [D acc.: 75.00%, fake 83.33%, real 66.67%] [G loss: 1.388904]\n",
            "18020 [D loss: 1.053646] [D acc.: 58.33%, fake 83.33%, real 33.33%] [G loss: 2.637637]\n",
            "18040 [D loss: 1.218030] [D acc.: 33.33%, fake 0.00%, real 66.67%] [G loss: 0.939317]\n",
            "18060 [D loss: 0.820892] [D acc.: 50.00%, fake 33.33%, real 66.67%] [G loss: 0.533851]\n",
            "18080 [D loss: 0.431641] [D acc.: 83.33%, fake 83.33%, real 83.33%] [G loss: 1.719077]\n"
          ],
          "name": "stdout"
        },
        {
          "output_type": "stream",
          "text": [
            "WARNING:root:Lossy conversion from float32 to uint8. Range [0, 1]. Convert image to uint8 prior to saving to suppress this warning.\n"
          ],
          "name": "stderr"
        },
        {
          "output_type": "stream",
          "text": [
            "18100 [D loss: 1.228053] [D acc.: 66.67%, fake 83.33%, real 50.00%] [G loss: 0.089443]\n",
            "18120 [D loss: 0.257684] [D acc.: 91.67%, fake 100.00%, real 83.33%] [G loss: 1.634681]\n",
            "18140 [D loss: 0.497342] [D acc.: 83.33%, fake 100.00%, real 66.67%] [G loss: 1.480623]\n",
            "18160 [D loss: 1.514906] [D acc.: 8.33%, fake 0.00%, real 16.67%] [G loss: 0.505913]\n",
            "18180 [D loss: 0.836870] [D acc.: 41.67%, fake 66.67%, real 16.67%] [G loss: 0.736980]\n"
          ],
          "name": "stdout"
        },
        {
          "output_type": "stream",
          "text": [
            "WARNING:root:Lossy conversion from float32 to uint8. Range [0, 1]. Convert image to uint8 prior to saving to suppress this warning.\n"
          ],
          "name": "stderr"
        },
        {
          "output_type": "stream",
          "text": [
            "18200 [D loss: 1.473039] [D acc.: 8.33%, fake 0.00%, real 16.67%] [G loss: 1.039646]\n",
            "18220 [D loss: 0.765150] [D acc.: 66.67%, fake 83.33%, real 50.00%] [G loss: 1.133376]\n",
            "18240 [D loss: 1.763585] [D acc.: 16.67%, fake 33.33%, real 0.00%] [G loss: 0.436460]\n",
            "18260 [D loss: 0.951179] [D acc.: 33.33%, fake 16.67%, real 50.00%] [G loss: 0.912290]\n",
            "18280 [D loss: 0.385727] [D acc.: 83.33%, fake 100.00%, real 66.67%] [G loss: 2.888839]\n"
          ],
          "name": "stdout"
        },
        {
          "output_type": "stream",
          "text": [
            "WARNING:root:Lossy conversion from float32 to uint8. Range [0, 1]. Convert image to uint8 prior to saving to suppress this warning.\n"
          ],
          "name": "stderr"
        },
        {
          "output_type": "stream",
          "text": [
            "18300 [D loss: 0.830191] [D acc.: 41.67%, fake 33.33%, real 50.00%] [G loss: 0.746500]\n",
            "18320 [D loss: 0.587374] [D acc.: 75.00%, fake 83.33%, real 66.67%] [G loss: 0.509776]\n",
            "18340 [D loss: 0.789133] [D acc.: 41.67%, fake 33.33%, real 50.00%] [G loss: 0.652960]\n",
            "18360 [D loss: 0.372726] [D acc.: 83.33%, fake 83.33%, real 83.33%] [G loss: 1.079912]\n",
            "18380 [D loss: 0.483342] [D acc.: 91.67%, fake 100.00%, real 83.33%] [G loss: 0.424083]\n"
          ],
          "name": "stdout"
        },
        {
          "output_type": "stream",
          "text": [
            "WARNING:root:Lossy conversion from float32 to uint8. Range [0, 1]. Convert image to uint8 prior to saving to suppress this warning.\n"
          ],
          "name": "stderr"
        },
        {
          "output_type": "stream",
          "text": [
            "18400 [D loss: 1.522068] [D acc.: 58.33%, fake 100.00%, real 16.67%] [G loss: 2.095003]\n",
            "18420 [D loss: 0.999041] [D acc.: 50.00%, fake 50.00%, real 50.00%] [G loss: 0.721961]\n",
            "18440 [D loss: 0.662630] [D acc.: 66.67%, fake 83.33%, real 50.00%] [G loss: 1.297874]\n",
            "18460 [D loss: 1.036969] [D acc.: 33.33%, fake 33.33%, real 33.33%] [G loss: 0.671619]\n",
            "18480 [D loss: 0.640182] [D acc.: 41.67%, fake 50.00%, real 33.33%] [G loss: 2.684987]\n"
          ],
          "name": "stdout"
        },
        {
          "output_type": "stream",
          "text": [
            "WARNING:root:Lossy conversion from float32 to uint8. Range [0, 1]. Convert image to uint8 prior to saving to suppress this warning.\n"
          ],
          "name": "stderr"
        },
        {
          "output_type": "stream",
          "text": [
            "18500 [D loss: 0.595425] [D acc.: 66.67%, fake 50.00%, real 83.33%] [G loss: 0.241905]\n",
            "18520 [D loss: 0.497757] [D acc.: 66.67%, fake 83.33%, real 50.00%] [G loss: 0.178953]\n",
            "18540 [D loss: 1.336955] [D acc.: 25.00%, fake 0.00%, real 50.00%] [G loss: 0.610401]\n",
            "18560 [D loss: 1.367611] [D acc.: 16.67%, fake 0.00%, real 33.33%] [G loss: 0.350957]\n",
            "18580 [D loss: 0.456426] [D acc.: 83.33%, fake 100.00%, real 66.67%] [G loss: 0.994419]\n"
          ],
          "name": "stdout"
        },
        {
          "output_type": "stream",
          "text": [
            "WARNING:root:Lossy conversion from float32 to uint8. Range [0, 1]. Convert image to uint8 prior to saving to suppress this warning.\n"
          ],
          "name": "stderr"
        },
        {
          "output_type": "stream",
          "text": [
            "18600 [D loss: 2.200683] [D acc.: 0.00%, fake 0.00%, real 0.00%] [G loss: 1.584492]\n",
            "18620 [D loss: 0.474487] [D acc.: 83.33%, fake 100.00%, real 66.67%] [G loss: 1.097279]\n",
            "18640 [D loss: 1.181163] [D acc.: 33.33%, fake 33.33%, real 33.33%] [G loss: 0.667876]\n",
            "18660 [D loss: 0.495846] [D acc.: 58.33%, fake 33.33%, real 83.33%] [G loss: 0.615938]\n",
            "18680 [D loss: 0.848809] [D acc.: 33.33%, fake 16.67%, real 50.00%] [G loss: 0.786251]\n"
          ],
          "name": "stdout"
        },
        {
          "output_type": "stream",
          "text": [
            "WARNING:root:Lossy conversion from float32 to uint8. Range [0, 1]. Convert image to uint8 prior to saving to suppress this warning.\n"
          ],
          "name": "stderr"
        },
        {
          "output_type": "stream",
          "text": [
            "18700 [D loss: 0.744737] [D acc.: 41.67%, fake 33.33%, real 50.00%] [G loss: 2.297294]\n",
            "18720 [D loss: 1.077853] [D acc.: 25.00%, fake 0.00%, real 50.00%] [G loss: 0.367923]\n",
            "18740 [D loss: 1.245815] [D acc.: 16.67%, fake 33.33%, real 0.00%] [G loss: 1.012551]\n",
            "18760 [D loss: 0.671257] [D acc.: 50.00%, fake 66.67%, real 33.33%] [G loss: 1.172403]\n",
            "18780 [D loss: 0.862548] [D acc.: 66.67%, fake 100.00%, real 33.33%] [G loss: 0.868116]\n"
          ],
          "name": "stdout"
        },
        {
          "output_type": "stream",
          "text": [
            "WARNING:root:Lossy conversion from float32 to uint8. Range [0, 1]. Convert image to uint8 prior to saving to suppress this warning.\n"
          ],
          "name": "stderr"
        },
        {
          "output_type": "stream",
          "text": [
            "18800 [D loss: 1.211620] [D acc.: 25.00%, fake 16.67%, real 33.33%] [G loss: 1.175171]\n",
            "18820 [D loss: 0.521313] [D acc.: 91.67%, fake 100.00%, real 83.33%] [G loss: 1.306614]\n",
            "18840 [D loss: 0.513171] [D acc.: 75.00%, fake 100.00%, real 50.00%] [G loss: 1.111680]\n",
            "18860 [D loss: 0.626455] [D acc.: 58.33%, fake 16.67%, real 100.00%] [G loss: 0.829142]\n",
            "18880 [D loss: 1.500503] [D acc.: 16.67%, fake 16.67%, real 16.67%] [G loss: 0.672131]\n"
          ],
          "name": "stdout"
        },
        {
          "output_type": "stream",
          "text": [
            "WARNING:root:Lossy conversion from float32 to uint8. Range [0, 1]. Convert image to uint8 prior to saving to suppress this warning.\n"
          ],
          "name": "stderr"
        },
        {
          "output_type": "stream",
          "text": [
            "18900 [D loss: 1.728584] [D acc.: 8.33%, fake 16.67%, real 0.00%] [G loss: 0.298930]\n",
            "18920 [D loss: 0.987639] [D acc.: 50.00%, fake 83.33%, real 16.67%] [G loss: 1.384281]\n",
            "18940 [D loss: 0.830854] [D acc.: 33.33%, fake 16.67%, real 50.00%] [G loss: 0.501968]\n",
            "18960 [D loss: 0.372628] [D acc.: 91.67%, fake 100.00%, real 83.33%] [G loss: 3.995524]\n",
            "18980 [D loss: 0.785113] [D acc.: 41.67%, fake 16.67%, real 66.67%] [G loss: 0.634735]\n"
          ],
          "name": "stdout"
        },
        {
          "output_type": "stream",
          "text": [
            "WARNING:root:Lossy conversion from float32 to uint8. Range [0, 1]. Convert image to uint8 prior to saving to suppress this warning.\n"
          ],
          "name": "stderr"
        },
        {
          "output_type": "stream",
          "text": [
            "19000 [D loss: 0.764132] [D acc.: 41.67%, fake 33.33%, real 50.00%] [G loss: 1.126866]\n",
            "19020 [D loss: 0.881538] [D acc.: 58.33%, fake 50.00%, real 66.67%] [G loss: 0.859813]\n",
            "19040 [D loss: 0.444638] [D acc.: 91.67%, fake 100.00%, real 83.33%] [G loss: 1.667104]\n",
            "19060 [D loss: 0.345493] [D acc.: 91.67%, fake 100.00%, real 83.33%] [G loss: 0.353483]\n",
            "19080 [D loss: 1.251818] [D acc.: 0.00%, fake 0.00%, real 0.00%] [G loss: 0.447794]\n"
          ],
          "name": "stdout"
        },
        {
          "output_type": "stream",
          "text": [
            "WARNING:root:Lossy conversion from float32 to uint8. Range [0, 1]. Convert image to uint8 prior to saving to suppress this warning.\n"
          ],
          "name": "stderr"
        },
        {
          "output_type": "stream",
          "text": [
            "19100 [D loss: 2.019591] [D acc.: 16.67%, fake 0.00%, real 33.33%] [G loss: 0.848565]\n",
            "19120 [D loss: 1.089618] [D acc.: 25.00%, fake 50.00%, real 0.00%] [G loss: 0.942803]\n",
            "19140 [D loss: 0.560063] [D acc.: 58.33%, fake 83.33%, real 33.33%] [G loss: 1.924898]\n",
            "19160 [D loss: 0.965002] [D acc.: 33.33%, fake 16.67%, real 50.00%] [G loss: 0.498080]\n",
            "19180 [D loss: 1.044519] [D acc.: 33.33%, fake 33.33%, real 33.33%] [G loss: 0.759322]\n"
          ],
          "name": "stdout"
        },
        {
          "output_type": "stream",
          "text": [
            "WARNING:root:Lossy conversion from float32 to uint8. Range [0, 1]. Convert image to uint8 prior to saving to suppress this warning.\n"
          ],
          "name": "stderr"
        },
        {
          "output_type": "stream",
          "text": [
            "19200 [D loss: 1.111356] [D acc.: 66.67%, fake 100.00%, real 33.33%] [G loss: 1.775783]\n",
            "19220 [D loss: 0.708155] [D acc.: 50.00%, fake 50.00%, real 50.00%] [G loss: 0.793098]\n",
            "19240 [D loss: 1.025800] [D acc.: 41.67%, fake 83.33%, real 0.00%] [G loss: 1.002876]\n",
            "19260 [D loss: 0.799241] [D acc.: 50.00%, fake 50.00%, real 50.00%] [G loss: 0.615950]\n",
            "19280 [D loss: 0.823554] [D acc.: 50.00%, fake 50.00%, real 50.00%] [G loss: 1.030252]\n"
          ],
          "name": "stdout"
        },
        {
          "output_type": "stream",
          "text": [
            "WARNING:root:Lossy conversion from float32 to uint8. Range [0, 1]. Convert image to uint8 prior to saving to suppress this warning.\n"
          ],
          "name": "stderr"
        },
        {
          "output_type": "stream",
          "text": [
            "19300 [D loss: 0.460993] [D acc.: 91.67%, fake 83.33%, real 100.00%] [G loss: 0.598162]\n",
            "19320 [D loss: 0.816187] [D acc.: 41.67%, fake 50.00%, real 33.33%] [G loss: 1.043095]\n",
            "19340 [D loss: 0.973481] [D acc.: 33.33%, fake 33.33%, real 33.33%] [G loss: 0.672263]\n",
            "19360 [D loss: 0.758745] [D acc.: 66.67%, fake 100.00%, real 33.33%] [G loss: 0.846206]\n",
            "19380 [D loss: 0.581095] [D acc.: 83.33%, fake 83.33%, real 83.33%] [G loss: 0.950294]\n"
          ],
          "name": "stdout"
        },
        {
          "output_type": "stream",
          "text": [
            "WARNING:root:Lossy conversion from float32 to uint8. Range [0, 1]. Convert image to uint8 prior to saving to suppress this warning.\n"
          ],
          "name": "stderr"
        },
        {
          "output_type": "stream",
          "text": [
            "19400 [D loss: 0.797097] [D acc.: 75.00%, fake 83.33%, real 66.67%] [G loss: 1.755319]\n",
            "19420 [D loss: 1.270784] [D acc.: 50.00%, fake 100.00%, real 0.00%] [G loss: 2.145611]\n",
            "19440 [D loss: 1.002837] [D acc.: 25.00%, fake 0.00%, real 50.00%] [G loss: 0.793448]\n",
            "19460 [D loss: 1.740867] [D acc.: 0.00%, fake 0.00%, real 0.00%] [G loss: 1.446553]\n",
            "19480 [D loss: 0.904638] [D acc.: 33.33%, fake 0.00%, real 66.67%] [G loss: 1.059933]\n"
          ],
          "name": "stdout"
        },
        {
          "output_type": "stream",
          "text": [
            "WARNING:root:Lossy conversion from float32 to uint8. Range [0, 1]. Convert image to uint8 prior to saving to suppress this warning.\n"
          ],
          "name": "stderr"
        },
        {
          "output_type": "stream",
          "text": [
            "19500 [D loss: 0.479488] [D acc.: 75.00%, fake 100.00%, real 50.00%] [G loss: 1.630207]\n",
            "19520 [D loss: 0.878933] [D acc.: 25.00%, fake 16.67%, real 33.33%] [G loss: 0.570956]\n",
            "19540 [D loss: 0.464879] [D acc.: 83.33%, fake 83.33%, real 83.33%] [G loss: 1.031252]\n",
            "19560 [D loss: 0.763888] [D acc.: 50.00%, fake 83.33%, real 16.67%] [G loss: 1.630265]\n",
            "19580 [D loss: 0.497197] [D acc.: 75.00%, fake 83.33%, real 66.67%] [G loss: 0.936842]\n"
          ],
          "name": "stdout"
        },
        {
          "output_type": "stream",
          "text": [
            "WARNING:root:Lossy conversion from float32 to uint8. Range [0, 1]. Convert image to uint8 prior to saving to suppress this warning.\n"
          ],
          "name": "stderr"
        },
        {
          "output_type": "stream",
          "text": [
            "19600 [D loss: 1.252329] [D acc.: 33.33%, fake 16.67%, real 50.00%] [G loss: 0.729213]\n",
            "19620 [D loss: 1.584527] [D acc.: 25.00%, fake 33.33%, real 16.67%] [G loss: 1.673254]\n",
            "19640 [D loss: 1.038932] [D acc.: 41.67%, fake 33.33%, real 50.00%] [G loss: 1.062114]\n",
            "19660 [D loss: 1.187015] [D acc.: 8.33%, fake 0.00%, real 16.67%] [G loss: 1.041638]\n",
            "19680 [D loss: 0.898162] [D acc.: 41.67%, fake 16.67%, real 66.67%] [G loss: 0.686524]\n"
          ],
          "name": "stdout"
        },
        {
          "output_type": "stream",
          "text": [
            "WARNING:root:Lossy conversion from float32 to uint8. Range [0, 1]. Convert image to uint8 prior to saving to suppress this warning.\n"
          ],
          "name": "stderr"
        },
        {
          "output_type": "stream",
          "text": [
            "19700 [D loss: 0.990264] [D acc.: 50.00%, fake 66.67%, real 33.33%] [G loss: 1.220819]\n",
            "19720 [D loss: 0.422764] [D acc.: 91.67%, fake 100.00%, real 83.33%] [G loss: 0.891782]\n",
            "19740 [D loss: 2.154537] [D acc.: 33.33%, fake 0.00%, real 66.67%] [G loss: 0.719225]\n",
            "19760 [D loss: 1.452367] [D acc.: 33.33%, fake 16.67%, real 50.00%] [G loss: 0.342582]\n",
            "19780 [D loss: 0.684466] [D acc.: 50.00%, fake 33.33%, real 66.67%] [G loss: 0.686159]\n"
          ],
          "name": "stdout"
        },
        {
          "output_type": "stream",
          "text": [
            "WARNING:root:Lossy conversion from float32 to uint8. Range [0, 1]. Convert image to uint8 prior to saving to suppress this warning.\n"
          ],
          "name": "stderr"
        },
        {
          "output_type": "stream",
          "text": [
            "19800 [D loss: 0.848879] [D acc.: 58.33%, fake 83.33%, real 33.33%] [G loss: 0.489273]\n",
            "19820 [D loss: 0.952254] [D acc.: 50.00%, fake 83.33%, real 16.67%] [G loss: 1.354989]\n",
            "19840 [D loss: 0.812434] [D acc.: 41.67%, fake 33.33%, real 50.00%] [G loss: 1.849236]\n",
            "19860 [D loss: 0.978746] [D acc.: 33.33%, fake 0.00%, real 66.67%] [G loss: 1.184882]\n",
            "19880 [D loss: 0.912142] [D acc.: 25.00%, fake 0.00%, real 50.00%] [G loss: 0.953783]\n"
          ],
          "name": "stdout"
        },
        {
          "output_type": "stream",
          "text": [
            "WARNING:root:Lossy conversion from float32 to uint8. Range [0, 1]. Convert image to uint8 prior to saving to suppress this warning.\n"
          ],
          "name": "stderr"
        },
        {
          "output_type": "stream",
          "text": [
            "19900 [D loss: 0.607330] [D acc.: 66.67%, fake 83.33%, real 50.00%] [G loss: 1.258197]\n",
            "19920 [D loss: 0.908553] [D acc.: 33.33%, fake 16.67%, real 50.00%] [G loss: 2.122312]\n",
            "19940 [D loss: 2.375216] [D acc.: 0.00%, fake 0.00%, real 0.00%] [G loss: 0.534323]\n",
            "19960 [D loss: 1.147915] [D acc.: 33.33%, fake 50.00%, real 16.67%] [G loss: 1.351470]\n",
            "19980 [D loss: 0.405646] [D acc.: 83.33%, fake 83.33%, real 83.33%] [G loss: 1.589171]\n"
          ],
          "name": "stdout"
        },
        {
          "output_type": "stream",
          "text": [
            "WARNING:root:Lossy conversion from float32 to uint8. Range [0, 1]. Convert image to uint8 prior to saving to suppress this warning.\n"
          ],
          "name": "stderr"
        },
        {
          "output_type": "stream",
          "text": [
            "20000 [D loss: 0.686092] [D acc.: 66.67%, fake 100.00%, real 33.33%] [G loss: 2.789298]\n",
            "20020 [D loss: 0.294944] [D acc.: 91.67%, fake 83.33%, real 100.00%] [G loss: 1.073050]\n",
            "20040 [D loss: 1.735690] [D acc.: 16.67%, fake 0.00%, real 33.33%] [G loss: 0.317767]\n",
            "20060 [D loss: 1.006199] [D acc.: 41.67%, fake 16.67%, real 66.67%] [G loss: 1.117558]\n",
            "20080 [D loss: 0.726822] [D acc.: 33.33%, fake 16.67%, real 50.00%] [G loss: 0.422757]\n"
          ],
          "name": "stdout"
        },
        {
          "output_type": "stream",
          "text": [
            "WARNING:root:Lossy conversion from float32 to uint8. Range [0, 1]. Convert image to uint8 prior to saving to suppress this warning.\n"
          ],
          "name": "stderr"
        },
        {
          "output_type": "stream",
          "text": [
            "20100 [D loss: 0.445283] [D acc.: 75.00%, fake 66.67%, real 83.33%] [G loss: 0.737047]\n",
            "20120 [D loss: 1.120731] [D acc.: 33.33%, fake 33.33%, real 33.33%] [G loss: 0.781580]\n",
            "20140 [D loss: 0.696001] [D acc.: 75.00%, fake 100.00%, real 50.00%] [G loss: 1.397116]\n",
            "20160 [D loss: 1.058895] [D acc.: 50.00%, fake 66.67%, real 33.33%] [G loss: 1.054407]\n",
            "20180 [D loss: 0.577086] [D acc.: 66.67%, fake 83.33%, real 50.00%] [G loss: 4.376629]\n"
          ],
          "name": "stdout"
        },
        {
          "output_type": "stream",
          "text": [
            "WARNING:root:Lossy conversion from float32 to uint8. Range [0, 1]. Convert image to uint8 prior to saving to suppress this warning.\n"
          ],
          "name": "stderr"
        },
        {
          "output_type": "stream",
          "text": [
            "20200 [D loss: 0.956722] [D acc.: 41.67%, fake 33.33%, real 50.00%] [G loss: 0.656865]\n",
            "20220 [D loss: 0.713483] [D acc.: 58.33%, fake 83.33%, real 33.33%] [G loss: 1.457759]\n",
            "20240 [D loss: 0.883702] [D acc.: 75.00%, fake 100.00%, real 50.00%] [G loss: 0.693811]\n",
            "20260 [D loss: 1.044728] [D acc.: 41.67%, fake 33.33%, real 50.00%] [G loss: 0.739083]\n",
            "20280 [D loss: 0.809452] [D acc.: 58.33%, fake 50.00%, real 66.67%] [G loss: 2.026065]\n"
          ],
          "name": "stdout"
        },
        {
          "output_type": "stream",
          "text": [
            "WARNING:root:Lossy conversion from float32 to uint8. Range [0, 1]. Convert image to uint8 prior to saving to suppress this warning.\n"
          ],
          "name": "stderr"
        },
        {
          "output_type": "stream",
          "text": [
            "20300 [D loss: 1.250986] [D acc.: 66.67%, fake 83.33%, real 50.00%] [G loss: 1.365388]\n",
            "20320 [D loss: 0.207973] [D acc.: 100.00%, fake 100.00%, real 100.00%] [G loss: 0.660691]\n",
            "20340 [D loss: 1.036507] [D acc.: 41.67%, fake 0.00%, real 83.33%] [G loss: 0.324326]\n",
            "20360 [D loss: 1.390837] [D acc.: 33.33%, fake 33.33%, real 33.33%] [G loss: 2.343579]\n",
            "20380 [D loss: 1.096050] [D acc.: 25.00%, fake 0.00%, real 50.00%] [G loss: 2.323680]\n"
          ],
          "name": "stdout"
        },
        {
          "output_type": "stream",
          "text": [
            "WARNING:root:Lossy conversion from float32 to uint8. Range [0, 1]. Convert image to uint8 prior to saving to suppress this warning.\n"
          ],
          "name": "stderr"
        },
        {
          "output_type": "stream",
          "text": [
            "20400 [D loss: 0.863591] [D acc.: 25.00%, fake 0.00%, real 50.00%] [G loss: 1.185077]\n",
            "20420 [D loss: 1.333649] [D acc.: 0.00%, fake 0.00%, real 0.00%] [G loss: 1.773282]\n",
            "20440 [D loss: 1.429849] [D acc.: 25.00%, fake 0.00%, real 50.00%] [G loss: 0.192862]\n",
            "20460 [D loss: 0.446041] [D acc.: 75.00%, fake 66.67%, real 83.33%] [G loss: 1.064931]\n",
            "20480 [D loss: 1.380074] [D acc.: 8.33%, fake 0.00%, real 16.67%] [G loss: 0.524836]\n"
          ],
          "name": "stdout"
        },
        {
          "output_type": "stream",
          "text": [
            "WARNING:root:Lossy conversion from float32 to uint8. Range [0, 1]. Convert image to uint8 prior to saving to suppress this warning.\n"
          ],
          "name": "stderr"
        },
        {
          "output_type": "stream",
          "text": [
            "20500 [D loss: 1.040141] [D acc.: 16.67%, fake 16.67%, real 16.67%] [G loss: 1.217867]\n",
            "20520 [D loss: 0.762385] [D acc.: 50.00%, fake 66.67%, real 33.33%] [G loss: 1.794757]\n",
            "20540 [D loss: 0.579399] [D acc.: 66.67%, fake 50.00%, real 83.33%] [G loss: 0.512741]\n",
            "20560 [D loss: 0.575842] [D acc.: 75.00%, fake 66.67%, real 83.33%] [G loss: 3.969173]\n",
            "20580 [D loss: 0.712291] [D acc.: 66.67%, fake 66.67%, real 66.67%] [G loss: 0.581791]\n"
          ],
          "name": "stdout"
        },
        {
          "output_type": "stream",
          "text": [
            "WARNING:root:Lossy conversion from float32 to uint8. Range [0, 1]. Convert image to uint8 prior to saving to suppress this warning.\n"
          ],
          "name": "stderr"
        },
        {
          "output_type": "stream",
          "text": [
            "20600 [D loss: 0.457655] [D acc.: 75.00%, fake 83.33%, real 66.67%] [G loss: 1.131411]\n",
            "20620 [D loss: 0.783622] [D acc.: 58.33%, fake 83.33%, real 33.33%] [G loss: 0.720563]\n",
            "20640 [D loss: 0.893241] [D acc.: 41.67%, fake 16.67%, real 66.67%] [G loss: 0.641310]\n",
            "20660 [D loss: 0.716807] [D acc.: 50.00%, fake 33.33%, real 66.67%] [G loss: 0.639929]\n",
            "20680 [D loss: 0.531021] [D acc.: 91.67%, fake 100.00%, real 83.33%] [G loss: 1.505529]\n"
          ],
          "name": "stdout"
        },
        {
          "output_type": "stream",
          "text": [
            "WARNING:root:Lossy conversion from float32 to uint8. Range [0, 1]. Convert image to uint8 prior to saving to suppress this warning.\n"
          ],
          "name": "stderr"
        },
        {
          "output_type": "stream",
          "text": [
            "20700 [D loss: 0.570394] [D acc.: 66.67%, fake 50.00%, real 83.33%] [G loss: 0.303080]\n",
            "20720 [D loss: 1.152530] [D acc.: 25.00%, fake 33.33%, real 16.67%] [G loss: 0.622478]\n",
            "20740 [D loss: 1.635642] [D acc.: 0.00%, fake 0.00%, real 0.00%] [G loss: 0.666456]\n",
            "20760 [D loss: 1.121153] [D acc.: 16.67%, fake 0.00%, real 33.33%] [G loss: 0.768307]\n",
            "20780 [D loss: 0.970663] [D acc.: 50.00%, fake 50.00%, real 50.00%] [G loss: 0.344427]\n"
          ],
          "name": "stdout"
        },
        {
          "output_type": "stream",
          "text": [
            "WARNING:root:Lossy conversion from float32 to uint8. Range [0, 1]. Convert image to uint8 prior to saving to suppress this warning.\n"
          ],
          "name": "stderr"
        },
        {
          "output_type": "stream",
          "text": [
            "20800 [D loss: 1.112096] [D acc.: 33.33%, fake 0.00%, real 66.67%] [G loss: 0.153732]\n",
            "20820 [D loss: 1.563694] [D acc.: 16.67%, fake 16.67%, real 16.67%] [G loss: 1.355616]\n",
            "20840 [D loss: 1.904124] [D acc.: 0.00%, fake 0.00%, real 0.00%] [G loss: 1.341797]\n",
            "20860 [D loss: 0.791696] [D acc.: 58.33%, fake 50.00%, real 66.67%] [G loss: 0.541166]\n",
            "20880 [D loss: 0.775799] [D acc.: 66.67%, fake 66.67%, real 66.67%] [G loss: 1.370489]\n"
          ],
          "name": "stdout"
        },
        {
          "output_type": "stream",
          "text": [
            "WARNING:root:Lossy conversion from float32 to uint8. Range [0, 1]. Convert image to uint8 prior to saving to suppress this warning.\n"
          ],
          "name": "stderr"
        },
        {
          "output_type": "stream",
          "text": [
            "20900 [D loss: 0.696681] [D acc.: 50.00%, fake 16.67%, real 83.33%] [G loss: 0.880400]\n",
            "20920 [D loss: 0.867712] [D acc.: 58.33%, fake 83.33%, real 33.33%] [G loss: 1.251154]\n",
            "20940 [D loss: 0.901673] [D acc.: 16.67%, fake 0.00%, real 33.33%] [G loss: 1.054941]\n",
            "20960 [D loss: 2.063392] [D acc.: 8.33%, fake 0.00%, real 16.67%] [G loss: 1.709277]\n",
            "20980 [D loss: 1.082773] [D acc.: 33.33%, fake 33.33%, real 33.33%] [G loss: 0.732514]\n"
          ],
          "name": "stdout"
        },
        {
          "output_type": "stream",
          "text": [
            "WARNING:root:Lossy conversion from float32 to uint8. Range [0, 1]. Convert image to uint8 prior to saving to suppress this warning.\n"
          ],
          "name": "stderr"
        },
        {
          "output_type": "stream",
          "text": [
            "21000 [D loss: 0.849115] [D acc.: 58.33%, fake 83.33%, real 33.33%] [G loss: 1.078329]\n",
            "21020 [D loss: 1.342422] [D acc.: 8.33%, fake 0.00%, real 16.67%] [G loss: 0.892473]\n",
            "21040 [D loss: 1.209552] [D acc.: 25.00%, fake 16.67%, real 33.33%] [G loss: 0.182025]\n",
            "21060 [D loss: 0.619237] [D acc.: 66.67%, fake 83.33%, real 50.00%] [G loss: 2.901248]\n",
            "21080 [D loss: 0.812414] [D acc.: 41.67%, fake 33.33%, real 50.00%] [G loss: 0.620505]\n"
          ],
          "name": "stdout"
        },
        {
          "output_type": "stream",
          "text": [
            "WARNING:root:Lossy conversion from float32 to uint8. Range [0, 1]. Convert image to uint8 prior to saving to suppress this warning.\n"
          ],
          "name": "stderr"
        },
        {
          "output_type": "stream",
          "text": [
            "21100 [D loss: 1.138848] [D acc.: 50.00%, fake 50.00%, real 50.00%] [G loss: 0.484233]\n",
            "21120 [D loss: 0.930333] [D acc.: 41.67%, fake 16.67%, real 66.67%] [G loss: 0.297115]\n",
            "21140 [D loss: 0.451310] [D acc.: 91.67%, fake 100.00%, real 83.33%] [G loss: 1.509828]\n",
            "21160 [D loss: 0.995120] [D acc.: 50.00%, fake 50.00%, real 50.00%] [G loss: 0.090055]\n",
            "21180 [D loss: 0.228479] [D acc.: 100.00%, fake 100.00%, real 100.00%] [G loss: 0.464207]\n"
          ],
          "name": "stdout"
        },
        {
          "output_type": "stream",
          "text": [
            "WARNING:root:Lossy conversion from float32 to uint8. Range [0, 1]. Convert image to uint8 prior to saving to suppress this warning.\n"
          ],
          "name": "stderr"
        },
        {
          "output_type": "stream",
          "text": [
            "21200 [D loss: 0.430563] [D acc.: 83.33%, fake 66.67%, real 100.00%] [G loss: 1.442069]\n",
            "21220 [D loss: 0.986623] [D acc.: 33.33%, fake 0.00%, real 66.67%] [G loss: 0.395742]\n",
            "21240 [D loss: 0.716764] [D acc.: 41.67%, fake 33.33%, real 50.00%] [G loss: 0.686922]\n",
            "21260 [D loss: 0.722335] [D acc.: 66.67%, fake 66.67%, real 66.67%] [G loss: 0.616286]\n",
            "21280 [D loss: 0.439326] [D acc.: 83.33%, fake 83.33%, real 83.33%] [G loss: 0.952782]\n"
          ],
          "name": "stdout"
        },
        {
          "output_type": "stream",
          "text": [
            "WARNING:root:Lossy conversion from float32 to uint8. Range [0, 1]. Convert image to uint8 prior to saving to suppress this warning.\n"
          ],
          "name": "stderr"
        },
        {
          "output_type": "stream",
          "text": [
            "21300 [D loss: 1.272112] [D acc.: 41.67%, fake 66.67%, real 16.67%] [G loss: 0.817281]\n",
            "21320 [D loss: 2.548642] [D acc.: 16.67%, fake 0.00%, real 33.33%] [G loss: 0.485715]\n",
            "21340 [D loss: 1.123242] [D acc.: 58.33%, fake 83.33%, real 33.33%] [G loss: 0.220739]\n",
            "21360 [D loss: 1.305574] [D acc.: 25.00%, fake 16.67%, real 33.33%] [G loss: 0.951928]\n",
            "21380 [D loss: 0.662539] [D acc.: 50.00%, fake 0.00%, real 100.00%] [G loss: 1.092913]\n"
          ],
          "name": "stdout"
        },
        {
          "output_type": "stream",
          "text": [
            "WARNING:root:Lossy conversion from float32 to uint8. Range [0, 1]. Convert image to uint8 prior to saving to suppress this warning.\n"
          ],
          "name": "stderr"
        },
        {
          "output_type": "stream",
          "text": [
            "21400 [D loss: 0.553280] [D acc.: 75.00%, fake 83.33%, real 66.67%] [G loss: 0.601658]\n",
            "21420 [D loss: 1.085124] [D acc.: 41.67%, fake 50.00%, real 33.33%] [G loss: 0.440172]\n",
            "21440 [D loss: 0.835682] [D acc.: 50.00%, fake 16.67%, real 83.33%] [G loss: 0.876032]\n",
            "21460 [D loss: 2.214745] [D acc.: 0.00%, fake 0.00%, real 0.00%] [G loss: 0.380842]\n",
            "21480 [D loss: 0.403992] [D acc.: 83.33%, fake 100.00%, real 66.67%] [G loss: 1.099174]\n"
          ],
          "name": "stdout"
        },
        {
          "output_type": "stream",
          "text": [
            "WARNING:root:Lossy conversion from float32 to uint8. Range [0, 1]. Convert image to uint8 prior to saving to suppress this warning.\n"
          ],
          "name": "stderr"
        },
        {
          "output_type": "stream",
          "text": [
            "21500 [D loss: 1.008407] [D acc.: 33.33%, fake 0.00%, real 66.67%] [G loss: 0.597873]\n",
            "21520 [D loss: 1.733763] [D acc.: 8.33%, fake 0.00%, real 16.67%] [G loss: 0.214651]\n",
            "21540 [D loss: 0.286123] [D acc.: 91.67%, fake 100.00%, real 83.33%] [G loss: 1.870743]\n",
            "21560 [D loss: 1.769095] [D acc.: 16.67%, fake 0.00%, real 33.33%] [G loss: 0.339742]\n",
            "21580 [D loss: 0.568793] [D acc.: 58.33%, fake 50.00%, real 66.67%] [G loss: 0.979122]\n"
          ],
          "name": "stdout"
        },
        {
          "output_type": "stream",
          "text": [
            "WARNING:root:Lossy conversion from float32 to uint8. Range [0, 1]. Convert image to uint8 prior to saving to suppress this warning.\n"
          ],
          "name": "stderr"
        },
        {
          "output_type": "stream",
          "text": [
            "21600 [D loss: 0.875909] [D acc.: 83.33%, fake 100.00%, real 66.67%] [G loss: 0.056852]\n",
            "21620 [D loss: 0.186163] [D acc.: 91.67%, fake 100.00%, real 83.33%] [G loss: 1.024516]\n",
            "21640 [D loss: 0.613211] [D acc.: 66.67%, fake 66.67%, real 66.67%] [G loss: 0.781487]\n",
            "21660 [D loss: 0.982138] [D acc.: 33.33%, fake 0.00%, real 66.67%] [G loss: 0.376903]\n",
            "21680 [D loss: 1.312600] [D acc.: 41.67%, fake 66.67%, real 16.67%] [G loss: 0.679768]\n"
          ],
          "name": "stdout"
        },
        {
          "output_type": "stream",
          "text": [
            "WARNING:root:Lossy conversion from float32 to uint8. Range [0, 1]. Convert image to uint8 prior to saving to suppress this warning.\n"
          ],
          "name": "stderr"
        },
        {
          "output_type": "stream",
          "text": [
            "21700 [D loss: 0.823826] [D acc.: 41.67%, fake 50.00%, real 33.33%] [G loss: 1.671935]\n",
            "21720 [D loss: 0.737519] [D acc.: 50.00%, fake 50.00%, real 50.00%] [G loss: 0.965862]\n",
            "21740 [D loss: 1.826173] [D acc.: 16.67%, fake 0.00%, real 33.33%] [G loss: 1.408136]\n",
            "21760 [D loss: 0.636335] [D acc.: 66.67%, fake 83.33%, real 50.00%] [G loss: 1.006796]\n",
            "21780 [D loss: 0.859524] [D acc.: 58.33%, fake 50.00%, real 66.67%] [G loss: 1.292288]\n"
          ],
          "name": "stdout"
        },
        {
          "output_type": "stream",
          "text": [
            "WARNING:root:Lossy conversion from float32 to uint8. Range [0, 1]. Convert image to uint8 prior to saving to suppress this warning.\n"
          ],
          "name": "stderr"
        },
        {
          "output_type": "stream",
          "text": [
            "21800 [D loss: 0.782329] [D acc.: 58.33%, fake 83.33%, real 33.33%] [G loss: 0.875763]\n",
            "21820 [D loss: 0.874536] [D acc.: 33.33%, fake 16.67%, real 50.00%] [G loss: 0.407108]\n",
            "21840 [D loss: 1.032959] [D acc.: 16.67%, fake 16.67%, real 16.67%] [G loss: 0.263802]\n",
            "21860 [D loss: 0.644004] [D acc.: 83.33%, fake 100.00%, real 66.67%] [G loss: 0.861032]\n",
            "21880 [D loss: 0.056720] [D acc.: 100.00%, fake 100.00%, real 100.00%] [G loss: 0.334013]\n"
          ],
          "name": "stdout"
        },
        {
          "output_type": "stream",
          "text": [
            "WARNING:root:Lossy conversion from float32 to uint8. Range [0, 1]. Convert image to uint8 prior to saving to suppress this warning.\n"
          ],
          "name": "stderr"
        },
        {
          "output_type": "stream",
          "text": [
            "21900 [D loss: 2.335640] [D acc.: 16.67%, fake 0.00%, real 33.33%] [G loss: 0.834250]\n",
            "21920 [D loss: 0.814011] [D acc.: 25.00%, fake 0.00%, real 50.00%] [G loss: 0.216516]\n",
            "21940 [D loss: 0.901993] [D acc.: 50.00%, fake 66.67%, real 33.33%] [G loss: 1.021809]\n",
            "21960 [D loss: 0.707408] [D acc.: 50.00%, fake 33.33%, real 66.67%] [G loss: 2.088168]\n",
            "21980 [D loss: 0.280021] [D acc.: 100.00%, fake 100.00%, real 100.00%] [G loss: 1.679837]\n"
          ],
          "name": "stdout"
        },
        {
          "output_type": "stream",
          "text": [
            "WARNING:root:Lossy conversion from float32 to uint8. Range [0, 1]. Convert image to uint8 prior to saving to suppress this warning.\n"
          ],
          "name": "stderr"
        },
        {
          "output_type": "stream",
          "text": [
            "22000 [D loss: 0.700505] [D acc.: 58.33%, fake 50.00%, real 66.67%] [G loss: 1.240879]\n",
            "22020 [D loss: 0.801749] [D acc.: 50.00%, fake 50.00%, real 50.00%] [G loss: 0.709918]\n",
            "22040 [D loss: 0.422087] [D acc.: 83.33%, fake 100.00%, real 66.67%] [G loss: 1.159955]\n",
            "22060 [D loss: 0.980543] [D acc.: 33.33%, fake 16.67%, real 50.00%] [G loss: 0.533891]\n",
            "22080 [D loss: 0.511517] [D acc.: 83.33%, fake 66.67%, real 100.00%] [G loss: 1.460630]\n"
          ],
          "name": "stdout"
        },
        {
          "output_type": "stream",
          "text": [
            "WARNING:root:Lossy conversion from float32 to uint8. Range [0, 1]. Convert image to uint8 prior to saving to suppress this warning.\n"
          ],
          "name": "stderr"
        },
        {
          "output_type": "stream",
          "text": [
            "22100 [D loss: 0.811303] [D acc.: 41.67%, fake 16.67%, real 66.67%] [G loss: 0.592203]\n",
            "22120 [D loss: 0.824896] [D acc.: 83.33%, fake 100.00%, real 66.67%] [G loss: 1.397514]\n",
            "22140 [D loss: 0.407164] [D acc.: 75.00%, fake 66.67%, real 83.33%] [G loss: 0.863161]\n",
            "22160 [D loss: 0.550016] [D acc.: 83.33%, fake 100.00%, real 66.67%] [G loss: 2.910293]\n",
            "22180 [D loss: 1.226785] [D acc.: 16.67%, fake 0.00%, real 33.33%] [G loss: 0.534157]\n"
          ],
          "name": "stdout"
        },
        {
          "output_type": "stream",
          "text": [
            "WARNING:root:Lossy conversion from float32 to uint8. Range [0, 1]. Convert image to uint8 prior to saving to suppress this warning.\n"
          ],
          "name": "stderr"
        },
        {
          "output_type": "stream",
          "text": [
            "22200 [D loss: 0.573231] [D acc.: 58.33%, fake 66.67%, real 50.00%] [G loss: 0.535532]\n",
            "22220 [D loss: 1.549553] [D acc.: 8.33%, fake 0.00%, real 16.67%] [G loss: 0.647529]\n",
            "22240 [D loss: 0.952085] [D acc.: 50.00%, fake 50.00%, real 50.00%] [G loss: 1.714191]\n",
            "22260 [D loss: 0.592902] [D acc.: 66.67%, fake 66.67%, real 66.67%] [G loss: 1.100960]\n",
            "22280 [D loss: 0.665592] [D acc.: 50.00%, fake 33.33%, real 66.67%] [G loss: 0.615225]\n"
          ],
          "name": "stdout"
        },
        {
          "output_type": "stream",
          "text": [
            "WARNING:root:Lossy conversion from float32 to uint8. Range [0, 1]. Convert image to uint8 prior to saving to suppress this warning.\n"
          ],
          "name": "stderr"
        },
        {
          "output_type": "stream",
          "text": [
            "22300 [D loss: 0.690455] [D acc.: 75.00%, fake 100.00%, real 50.00%] [G loss: 2.688099]\n",
            "22320 [D loss: 0.871119] [D acc.: 50.00%, fake 50.00%, real 50.00%] [G loss: 0.339372]\n",
            "22340 [D loss: 0.873431] [D acc.: 41.67%, fake 50.00%, real 33.33%] [G loss: 0.625059]\n",
            "22360 [D loss: 0.423205] [D acc.: 91.67%, fake 83.33%, real 100.00%] [G loss: 1.225487]\n",
            "22380 [D loss: 1.117220] [D acc.: 25.00%, fake 0.00%, real 50.00%] [G loss: 0.277184]\n"
          ],
          "name": "stdout"
        },
        {
          "output_type": "stream",
          "text": [
            "WARNING:root:Lossy conversion from float32 to uint8. Range [0, 1]. Convert image to uint8 prior to saving to suppress this warning.\n"
          ],
          "name": "stderr"
        },
        {
          "output_type": "stream",
          "text": [
            "22400 [D loss: 1.757275] [D acc.: 16.67%, fake 0.00%, real 33.33%] [G loss: 0.411705]\n",
            "22420 [D loss: 0.847420] [D acc.: 41.67%, fake 33.33%, real 50.00%] [G loss: 0.322259]\n",
            "22440 [D loss: 0.625605] [D acc.: 75.00%, fake 100.00%, real 50.00%] [G loss: 2.091053]\n",
            "22460 [D loss: 0.647516] [D acc.: 58.33%, fake 50.00%, real 66.67%] [G loss: 1.049094]\n",
            "22480 [D loss: 0.975470] [D acc.: 33.33%, fake 16.67%, real 50.00%] [G loss: 0.409356]\n"
          ],
          "name": "stdout"
        },
        {
          "output_type": "stream",
          "text": [
            "WARNING:root:Lossy conversion from float32 to uint8. Range [0, 1]. Convert image to uint8 prior to saving to suppress this warning.\n"
          ],
          "name": "stderr"
        },
        {
          "output_type": "stream",
          "text": [
            "22500 [D loss: 0.420380] [D acc.: 83.33%, fake 100.00%, real 66.67%] [G loss: 1.035403]\n",
            "22520 [D loss: 1.201586] [D acc.: 41.67%, fake 66.67%, real 16.67%] [G loss: 5.673566]\n",
            "22540 [D loss: 0.894261] [D acc.: 50.00%, fake 33.33%, real 66.67%] [G loss: 0.177646]\n",
            "22560 [D loss: 0.698962] [D acc.: 66.67%, fake 66.67%, real 66.67%] [G loss: 1.834492]\n",
            "22580 [D loss: 0.133282] [D acc.: 91.67%, fake 100.00%, real 83.33%] [G loss: 2.293865]\n"
          ],
          "name": "stdout"
        },
        {
          "output_type": "stream",
          "text": [
            "WARNING:root:Lossy conversion from float32 to uint8. Range [0, 1]. Convert image to uint8 prior to saving to suppress this warning.\n"
          ],
          "name": "stderr"
        },
        {
          "output_type": "stream",
          "text": [
            "22600 [D loss: 0.999350] [D acc.: 41.67%, fake 50.00%, real 33.33%] [G loss: 0.438758]\n",
            "22620 [D loss: 0.591919] [D acc.: 58.33%, fake 66.67%, real 50.00%] [G loss: 1.732906]\n",
            "22640 [D loss: 2.206196] [D acc.: 0.00%, fake 0.00%, real 0.00%] [G loss: 0.462166]\n",
            "22660 [D loss: 1.300186] [D acc.: 16.67%, fake 0.00%, real 33.33%] [G loss: 0.671867]\n",
            "22680 [D loss: 1.220320] [D acc.: 33.33%, fake 16.67%, real 50.00%] [G loss: 0.489057]\n"
          ],
          "name": "stdout"
        },
        {
          "output_type": "stream",
          "text": [
            "WARNING:root:Lossy conversion from float32 to uint8. Range [0, 1]. Convert image to uint8 prior to saving to suppress this warning.\n"
          ],
          "name": "stderr"
        },
        {
          "output_type": "stream",
          "text": [
            "22700 [D loss: 0.258141] [D acc.: 91.67%, fake 100.00%, real 83.33%] [G loss: 3.160336]\n",
            "22720 [D loss: 0.650834] [D acc.: 91.67%, fake 100.00%, real 83.33%] [G loss: 1.367658]\n",
            "22740 [D loss: 0.713130] [D acc.: 66.67%, fake 66.67%, real 66.67%] [G loss: 1.431618]\n",
            "22760 [D loss: 0.835281] [D acc.: 66.67%, fake 100.00%, real 33.33%] [G loss: 2.754894]\n",
            "22780 [D loss: 1.300807] [D acc.: 50.00%, fake 33.33%, real 66.67%] [G loss: 0.720736]\n"
          ],
          "name": "stdout"
        },
        {
          "output_type": "stream",
          "text": [
            "WARNING:root:Lossy conversion from float32 to uint8. Range [0, 1]. Convert image to uint8 prior to saving to suppress this warning.\n"
          ],
          "name": "stderr"
        },
        {
          "output_type": "stream",
          "text": [
            "22800 [D loss: 0.861812] [D acc.: 50.00%, fake 50.00%, real 50.00%] [G loss: 1.298240]\n",
            "22820 [D loss: 0.668483] [D acc.: 58.33%, fake 66.67%, real 50.00%] [G loss: 0.660845]\n",
            "22840 [D loss: 0.511208] [D acc.: 83.33%, fake 100.00%, real 66.67%] [G loss: 0.580343]\n",
            "22860 [D loss: 1.156697] [D acc.: 25.00%, fake 50.00%, real 0.00%] [G loss: 1.041776]\n",
            "22880 [D loss: 1.113259] [D acc.: 58.33%, fake 100.00%, real 16.67%] [G loss: 0.603447]\n"
          ],
          "name": "stdout"
        },
        {
          "output_type": "stream",
          "text": [
            "WARNING:root:Lossy conversion from float32 to uint8. Range [0, 1]. Convert image to uint8 prior to saving to suppress this warning.\n"
          ],
          "name": "stderr"
        },
        {
          "output_type": "stream",
          "text": [
            "22900 [D loss: 1.924431] [D acc.: 16.67%, fake 0.00%, real 33.33%] [G loss: 1.220588]\n",
            "22920 [D loss: 0.711035] [D acc.: 58.33%, fake 83.33%, real 33.33%] [G loss: 0.856276]\n",
            "22940 [D loss: 0.654640] [D acc.: 58.33%, fake 66.67%, real 50.00%] [G loss: 1.632244]\n",
            "22960 [D loss: 0.525560] [D acc.: 83.33%, fake 83.33%, real 83.33%] [G loss: 2.041015]\n",
            "22980 [D loss: 0.923321] [D acc.: 50.00%, fake 33.33%, real 66.67%] [G loss: 2.121875]\n"
          ],
          "name": "stdout"
        },
        {
          "output_type": "stream",
          "text": [
            "WARNING:root:Lossy conversion from float32 to uint8. Range [0, 1]. Convert image to uint8 prior to saving to suppress this warning.\n"
          ],
          "name": "stderr"
        },
        {
          "output_type": "stream",
          "text": [
            "23000 [D loss: 0.417361] [D acc.: 83.33%, fake 66.67%, real 100.00%] [G loss: 1.544716]\n",
            "23020 [D loss: 0.856711] [D acc.: 33.33%, fake 50.00%, real 16.67%] [G loss: 1.150384]\n",
            "23040 [D loss: 1.400078] [D acc.: 8.33%, fake 0.00%, real 16.67%] [G loss: 0.761767]\n",
            "23060 [D loss: 1.134085] [D acc.: 50.00%, fake 50.00%, real 50.00%] [G loss: 0.732613]\n",
            "23080 [D loss: 0.430363] [D acc.: 83.33%, fake 100.00%, real 66.67%] [G loss: 0.925826]\n"
          ],
          "name": "stdout"
        },
        {
          "output_type": "stream",
          "text": [
            "WARNING:root:Lossy conversion from float32 to uint8. Range [0, 1]. Convert image to uint8 prior to saving to suppress this warning.\n"
          ],
          "name": "stderr"
        },
        {
          "output_type": "stream",
          "text": [
            "23100 [D loss: 1.245979] [D acc.: 25.00%, fake 33.33%, real 16.67%] [G loss: 3.062059]\n",
            "23120 [D loss: 0.578836] [D acc.: 83.33%, fake 100.00%, real 66.67%] [G loss: 1.309168]\n",
            "23140 [D loss: 0.495103] [D acc.: 75.00%, fake 83.33%, real 66.67%] [G loss: 0.346689]\n",
            "23160 [D loss: 0.866654] [D acc.: 33.33%, fake 33.33%, real 33.33%] [G loss: 1.015179]\n",
            "23180 [D loss: 0.438927] [D acc.: 66.67%, fake 100.00%, real 33.33%] [G loss: 1.129699]\n"
          ],
          "name": "stdout"
        },
        {
          "output_type": "stream",
          "text": [
            "WARNING:root:Lossy conversion from float32 to uint8. Range [0, 1]. Convert image to uint8 prior to saving to suppress this warning.\n"
          ],
          "name": "stderr"
        },
        {
          "output_type": "stream",
          "text": [
            "23200 [D loss: 1.090995] [D acc.: 50.00%, fake 50.00%, real 50.00%] [G loss: 0.596665]\n",
            "23220 [D loss: 1.065256] [D acc.: 16.67%, fake 33.33%, real 0.00%] [G loss: 0.892220]\n",
            "23240 [D loss: 0.605826] [D acc.: 58.33%, fake 33.33%, real 83.33%] [G loss: 0.365152]\n",
            "23260 [D loss: 0.622627] [D acc.: 66.67%, fake 66.67%, real 66.67%] [G loss: 1.071326]\n",
            "23280 [D loss: 0.756165] [D acc.: 33.33%, fake 0.00%, real 66.67%] [G loss: 0.469728]\n"
          ],
          "name": "stdout"
        },
        {
          "output_type": "stream",
          "text": [
            "WARNING:root:Lossy conversion from float32 to uint8. Range [0, 1]. Convert image to uint8 prior to saving to suppress this warning.\n"
          ],
          "name": "stderr"
        },
        {
          "output_type": "stream",
          "text": [
            "23300 [D loss: 2.447765] [D acc.: 25.00%, fake 0.00%, real 50.00%] [G loss: 1.705004]\n",
            "23320 [D loss: 0.070806] [D acc.: 100.00%, fake 100.00%, real 100.00%] [G loss: 2.063023]\n",
            "23340 [D loss: 1.699720] [D acc.: 16.67%, fake 0.00%, real 33.33%] [G loss: 0.261745]\n",
            "23360 [D loss: 1.270377] [D acc.: 25.00%, fake 16.67%, real 33.33%] [G loss: 1.156946]\n",
            "23380 [D loss: 0.735776] [D acc.: 50.00%, fake 66.67%, real 33.33%] [G loss: 0.939848]\n"
          ],
          "name": "stdout"
        },
        {
          "output_type": "stream",
          "text": [
            "WARNING:root:Lossy conversion from float32 to uint8. Range [0, 1]. Convert image to uint8 prior to saving to suppress this warning.\n"
          ],
          "name": "stderr"
        },
        {
          "output_type": "stream",
          "text": [
            "23400 [D loss: 0.751765] [D acc.: 58.33%, fake 66.67%, real 50.00%] [G loss: 1.965187]\n",
            "23420 [D loss: 1.685648] [D acc.: 16.67%, fake 0.00%, real 33.33%] [G loss: 1.125733]\n",
            "23440 [D loss: 0.756316] [D acc.: 58.33%, fake 66.67%, real 50.00%] [G loss: 0.550251]\n",
            "23460 [D loss: 1.664804] [D acc.: 8.33%, fake 0.00%, real 16.67%] [G loss: 0.697597]\n",
            "23480 [D loss: 0.919152] [D acc.: 41.67%, fake 16.67%, real 66.67%] [G loss: 1.096487]\n"
          ],
          "name": "stdout"
        },
        {
          "output_type": "stream",
          "text": [
            "WARNING:root:Lossy conversion from float32 to uint8. Range [0, 1]. Convert image to uint8 prior to saving to suppress this warning.\n"
          ],
          "name": "stderr"
        },
        {
          "output_type": "stream",
          "text": [
            "23500 [D loss: 0.649966] [D acc.: 58.33%, fake 50.00%, real 66.67%] [G loss: 1.029772]\n",
            "23520 [D loss: 1.116013] [D acc.: 50.00%, fake 83.33%, real 16.67%] [G loss: 1.384860]\n",
            "23540 [D loss: 1.345292] [D acc.: 25.00%, fake 33.33%, real 16.67%] [G loss: 1.139515]\n",
            "23560 [D loss: 0.630860] [D acc.: 50.00%, fake 33.33%, real 66.67%] [G loss: 2.713762]\n",
            "23580 [D loss: 0.387141] [D acc.: 83.33%, fake 100.00%, real 66.67%] [G loss: 1.084570]\n"
          ],
          "name": "stdout"
        },
        {
          "output_type": "stream",
          "text": [
            "WARNING:root:Lossy conversion from float32 to uint8. Range [0, 1]. Convert image to uint8 prior to saving to suppress this warning.\n"
          ],
          "name": "stderr"
        },
        {
          "output_type": "stream",
          "text": [
            "23600 [D loss: 0.532799] [D acc.: 75.00%, fake 100.00%, real 50.00%] [G loss: 3.222736]\n",
            "23620 [D loss: 0.722313] [D acc.: 66.67%, fake 83.33%, real 50.00%] [G loss: 1.642285]\n",
            "23640 [D loss: 1.170616] [D acc.: 16.67%, fake 0.00%, real 33.33%] [G loss: 1.005517]\n",
            "23660 [D loss: 1.399422] [D acc.: 16.67%, fake 16.67%, real 16.67%] [G loss: 0.427509]\n",
            "23680 [D loss: 1.834856] [D acc.: 16.67%, fake 16.67%, real 16.67%] [G loss: 1.110043]\n"
          ],
          "name": "stdout"
        },
        {
          "output_type": "stream",
          "text": [
            "WARNING:root:Lossy conversion from float32 to uint8. Range [0, 1]. Convert image to uint8 prior to saving to suppress this warning.\n"
          ],
          "name": "stderr"
        },
        {
          "output_type": "stream",
          "text": [
            "23700 [D loss: 0.421617] [D acc.: 83.33%, fake 100.00%, real 66.67%] [G loss: 0.932874]\n",
            "23720 [D loss: 1.461622] [D acc.: 33.33%, fake 33.33%, real 33.33%] [G loss: 2.618197]\n",
            "23740 [D loss: 0.913759] [D acc.: 33.33%, fake 33.33%, real 33.33%] [G loss: 0.411820]\n",
            "23760 [D loss: 0.309009] [D acc.: 91.67%, fake 100.00%, real 83.33%] [G loss: 1.051909]\n",
            "23780 [D loss: 1.815259] [D acc.: 0.00%, fake 0.00%, real 0.00%] [G loss: 1.238717]\n"
          ],
          "name": "stdout"
        },
        {
          "output_type": "stream",
          "text": [
            "WARNING:root:Lossy conversion from float32 to uint8. Range [0, 1]. Convert image to uint8 prior to saving to suppress this warning.\n"
          ],
          "name": "stderr"
        },
        {
          "output_type": "stream",
          "text": [
            "23800 [D loss: 1.880302] [D acc.: 16.67%, fake 0.00%, real 33.33%] [G loss: 0.477476]\n",
            "23820 [D loss: 0.659071] [D acc.: 75.00%, fake 83.33%, real 66.67%] [G loss: 0.918118]\n",
            "23840 [D loss: 0.612723] [D acc.: 75.00%, fake 83.33%, real 66.67%] [G loss: 2.828928]\n",
            "23860 [D loss: 0.911424] [D acc.: 41.67%, fake 33.33%, real 50.00%] [G loss: 0.944399]\n",
            "23880 [D loss: 0.786583] [D acc.: 66.67%, fake 66.67%, real 66.67%] [G loss: 0.776653]\n"
          ],
          "name": "stdout"
        },
        {
          "output_type": "stream",
          "text": [
            "WARNING:root:Lossy conversion from float32 to uint8. Range [0, 1]. Convert image to uint8 prior to saving to suppress this warning.\n"
          ],
          "name": "stderr"
        },
        {
          "output_type": "stream",
          "text": [
            "23900 [D loss: 0.979699] [D acc.: 66.67%, fake 100.00%, real 33.33%] [G loss: 1.606680]\n",
            "23920 [D loss: 1.436966] [D acc.: 16.67%, fake 16.67%, real 16.67%] [G loss: 1.527546]\n",
            "23940 [D loss: 1.417709] [D acc.: 8.33%, fake 0.00%, real 16.67%] [G loss: 1.129471]\n",
            "23960 [D loss: 0.860223] [D acc.: 41.67%, fake 16.67%, real 66.67%] [G loss: 0.865621]\n",
            "23980 [D loss: 1.029787] [D acc.: 25.00%, fake 16.67%, real 33.33%] [G loss: 1.477147]\n"
          ],
          "name": "stdout"
        },
        {
          "output_type": "stream",
          "text": [
            "WARNING:root:Lossy conversion from float32 to uint8. Range [0, 1]. Convert image to uint8 prior to saving to suppress this warning.\n"
          ],
          "name": "stderr"
        },
        {
          "output_type": "stream",
          "text": [
            "24000 [D loss: 1.717401] [D acc.: 8.33%, fake 0.00%, real 16.67%] [G loss: 1.084401]\n",
            "24020 [D loss: 1.088593] [D acc.: 33.33%, fake 16.67%, real 50.00%] [G loss: 1.426645]\n",
            "24040 [D loss: 1.260930] [D acc.: 25.00%, fake 0.00%, real 50.00%] [G loss: 0.859306]\n",
            "24060 [D loss: 0.948519] [D acc.: 50.00%, fake 83.33%, real 16.67%] [G loss: 1.161862]\n",
            "24080 [D loss: 1.644430] [D acc.: 25.00%, fake 0.00%, real 50.00%] [G loss: 0.431447]\n"
          ],
          "name": "stdout"
        },
        {
          "output_type": "stream",
          "text": [
            "WARNING:root:Lossy conversion from float32 to uint8. Range [0, 1]. Convert image to uint8 prior to saving to suppress this warning.\n"
          ],
          "name": "stderr"
        },
        {
          "output_type": "stream",
          "text": [
            "24100 [D loss: 0.495494] [D acc.: 75.00%, fake 83.33%, real 66.67%] [G loss: 1.188468]\n",
            "24120 [D loss: 1.033525] [D acc.: 25.00%, fake 33.33%, real 16.67%] [G loss: 0.857714]\n",
            "24140 [D loss: 0.554454] [D acc.: 83.33%, fake 100.00%, real 66.67%] [G loss: 0.811905]\n",
            "24160 [D loss: 0.755333] [D acc.: 50.00%, fake 16.67%, real 83.33%] [G loss: 0.746978]\n",
            "24180 [D loss: 0.197727] [D acc.: 83.33%, fake 100.00%, real 66.67%] [G loss: 1.495450]\n"
          ],
          "name": "stdout"
        },
        {
          "output_type": "stream",
          "text": [
            "WARNING:root:Lossy conversion from float32 to uint8. Range [0, 1]. Convert image to uint8 prior to saving to suppress this warning.\n"
          ],
          "name": "stderr"
        },
        {
          "output_type": "stream",
          "text": [
            "24200 [D loss: 0.345408] [D acc.: 83.33%, fake 83.33%, real 83.33%] [G loss: 0.895699]\n",
            "24220 [D loss: 0.641095] [D acc.: 58.33%, fake 50.00%, real 66.67%] [G loss: 0.490644]\n",
            "24240 [D loss: 1.093406] [D acc.: 25.00%, fake 16.67%, real 33.33%] [G loss: 0.712745]\n",
            "24260 [D loss: 0.891433] [D acc.: 58.33%, fake 66.67%, real 50.00%] [G loss: 1.342949]\n",
            "24280 [D loss: 1.292976] [D acc.: 33.33%, fake 66.67%, real 0.00%] [G loss: 1.063444]\n"
          ],
          "name": "stdout"
        },
        {
          "output_type": "stream",
          "text": [
            "WARNING:root:Lossy conversion from float32 to uint8. Range [0, 1]. Convert image to uint8 prior to saving to suppress this warning.\n"
          ],
          "name": "stderr"
        },
        {
          "output_type": "stream",
          "text": [
            "24300 [D loss: 1.311275] [D acc.: 16.67%, fake 33.33%, real 0.00%] [G loss: 1.814840]\n",
            "24320 [D loss: 1.555175] [D acc.: 8.33%, fake 0.00%, real 16.67%] [G loss: 0.876099]\n",
            "24340 [D loss: 0.567678] [D acc.: 75.00%, fake 83.33%, real 66.67%] [G loss: 1.844617]\n",
            "24360 [D loss: 1.063982] [D acc.: 41.67%, fake 50.00%, real 33.33%] [G loss: 2.007796]\n",
            "24380 [D loss: 0.599785] [D acc.: 83.33%, fake 83.33%, real 83.33%] [G loss: 0.899745]\n"
          ],
          "name": "stdout"
        },
        {
          "output_type": "stream",
          "text": [
            "WARNING:root:Lossy conversion from float32 to uint8. Range [0, 1]. Convert image to uint8 prior to saving to suppress this warning.\n"
          ],
          "name": "stderr"
        },
        {
          "output_type": "stream",
          "text": [
            "24400 [D loss: 1.443937] [D acc.: 33.33%, fake 16.67%, real 50.00%] [G loss: 0.070919]\n",
            "24420 [D loss: 1.919583] [D acc.: 41.67%, fake 33.33%, real 50.00%] [G loss: 1.404308]\n",
            "24440 [D loss: 0.755400] [D acc.: 75.00%, fake 83.33%, real 66.67%] [G loss: 0.239613]\n",
            "24460 [D loss: 0.654862] [D acc.: 75.00%, fake 83.33%, real 66.67%] [G loss: 2.057603]\n",
            "24480 [D loss: 0.326158] [D acc.: 83.33%, fake 83.33%, real 83.33%] [G loss: 0.379958]\n"
          ],
          "name": "stdout"
        },
        {
          "output_type": "stream",
          "text": [
            "WARNING:root:Lossy conversion from float32 to uint8. Range [0, 1]. Convert image to uint8 prior to saving to suppress this warning.\n"
          ],
          "name": "stderr"
        },
        {
          "output_type": "stream",
          "text": [
            "24500 [D loss: 1.176385] [D acc.: 41.67%, fake 66.67%, real 16.67%] [G loss: 0.411987]\n",
            "24520 [D loss: 0.750059] [D acc.: 66.67%, fake 83.33%, real 50.00%] [G loss: 1.042423]\n",
            "24540 [D loss: 0.689409] [D acc.: 66.67%, fake 83.33%, real 50.00%] [G loss: 1.322962]\n",
            "24560 [D loss: 1.460651] [D acc.: 16.67%, fake 16.67%, real 16.67%] [G loss: 2.144579]\n",
            "24580 [D loss: 0.963111] [D acc.: 41.67%, fake 0.00%, real 83.33%] [G loss: 0.353173]\n"
          ],
          "name": "stdout"
        },
        {
          "output_type": "stream",
          "text": [
            "WARNING:root:Lossy conversion from float32 to uint8. Range [0, 1]. Convert image to uint8 prior to saving to suppress this warning.\n"
          ],
          "name": "stderr"
        },
        {
          "output_type": "stream",
          "text": [
            "24600 [D loss: 1.202999] [D acc.: 50.00%, fake 66.67%, real 33.33%] [G loss: 0.435642]\n",
            "24620 [D loss: 0.790444] [D acc.: 75.00%, fake 83.33%, real 66.67%] [G loss: 0.693703]\n",
            "24640 [D loss: 0.573412] [D acc.: 66.67%, fake 50.00%, real 83.33%] [G loss: 1.961024]\n",
            "24660 [D loss: 1.832637] [D acc.: 33.33%, fake 33.33%, real 33.33%] [G loss: 1.713818]\n",
            "24680 [D loss: 0.869669] [D acc.: 50.00%, fake 50.00%, real 50.00%] [G loss: 0.610211]\n"
          ],
          "name": "stdout"
        },
        {
          "output_type": "stream",
          "text": [
            "WARNING:root:Lossy conversion from float32 to uint8. Range [0, 1]. Convert image to uint8 prior to saving to suppress this warning.\n"
          ],
          "name": "stderr"
        },
        {
          "output_type": "stream",
          "text": [
            "24700 [D loss: 0.715056] [D acc.: 66.67%, fake 83.33%, real 50.00%] [G loss: 2.435759]\n",
            "24720 [D loss: 1.034839] [D acc.: 16.67%, fake 16.67%, real 16.67%] [G loss: 1.190786]\n",
            "24740 [D loss: 0.611830] [D acc.: 66.67%, fake 83.33%, real 50.00%] [G loss: 1.076112]\n",
            "24760 [D loss: 0.692388] [D acc.: 66.67%, fake 100.00%, real 33.33%] [G loss: 0.110469]\n",
            "24780 [D loss: 0.914563] [D acc.: 75.00%, fake 83.33%, real 66.67%] [G loss: 2.445922]\n"
          ],
          "name": "stdout"
        },
        {
          "output_type": "stream",
          "text": [
            "WARNING:root:Lossy conversion from float32 to uint8. Range [0, 1]. Convert image to uint8 prior to saving to suppress this warning.\n"
          ],
          "name": "stderr"
        },
        {
          "output_type": "stream",
          "text": [
            "24800 [D loss: 0.941813] [D acc.: 58.33%, fake 66.67%, real 50.00%] [G loss: 0.862262]\n",
            "24820 [D loss: 1.098165] [D acc.: 33.33%, fake 33.33%, real 33.33%] [G loss: 0.855645]\n",
            "24840 [D loss: 1.584427] [D acc.: 25.00%, fake 16.67%, real 33.33%] [G loss: 1.044084]\n",
            "24860 [D loss: 1.225955] [D acc.: 25.00%, fake 0.00%, real 50.00%] [G loss: 0.600137]\n",
            "24880 [D loss: 0.609471] [D acc.: 75.00%, fake 83.33%, real 66.67%] [G loss: 1.773290]\n"
          ],
          "name": "stdout"
        },
        {
          "output_type": "stream",
          "text": [
            "WARNING:root:Lossy conversion from float32 to uint8. Range [0, 1]. Convert image to uint8 prior to saving to suppress this warning.\n"
          ],
          "name": "stderr"
        },
        {
          "output_type": "stream",
          "text": [
            "24900 [D loss: 0.584378] [D acc.: 75.00%, fake 66.67%, real 83.33%] [G loss: 1.033028]\n",
            "24920 [D loss: 0.721599] [D acc.: 66.67%, fake 50.00%, real 83.33%] [G loss: 0.334522]\n",
            "24940 [D loss: 0.259280] [D acc.: 91.67%, fake 83.33%, real 100.00%] [G loss: 0.981136]\n",
            "24960 [D loss: 1.134578] [D acc.: 25.00%, fake 16.67%, real 33.33%] [G loss: 1.105733]\n",
            "24980 [D loss: 1.115149] [D acc.: 8.33%, fake 16.67%, real 0.00%] [G loss: 0.664611]\n"
          ],
          "name": "stdout"
        },
        {
          "output_type": "stream",
          "text": [
            "WARNING:root:Lossy conversion from float32 to uint8. Range [0, 1]. Convert image to uint8 prior to saving to suppress this warning.\n"
          ],
          "name": "stderr"
        },
        {
          "output_type": "stream",
          "text": [
            "25000 [D loss: 0.241332] [D acc.: 100.00%, fake 100.00%, real 100.00%] [G loss: 0.691599]\n",
            "25020 [D loss: 0.666259] [D acc.: 50.00%, fake 50.00%, real 50.00%] [G loss: 0.129247]\n",
            "25040 [D loss: 1.015083] [D acc.: 41.67%, fake 33.33%, real 50.00%] [G loss: 1.588971]\n",
            "25060 [D loss: 1.084046] [D acc.: 33.33%, fake 33.33%, real 33.33%] [G loss: 1.005104]\n",
            "25080 [D loss: 0.597223] [D acc.: 66.67%, fake 66.67%, real 66.67%] [G loss: 0.688557]\n"
          ],
          "name": "stdout"
        },
        {
          "output_type": "stream",
          "text": [
            "WARNING:root:Lossy conversion from float32 to uint8. Range [0, 1]. Convert image to uint8 prior to saving to suppress this warning.\n"
          ],
          "name": "stderr"
        },
        {
          "output_type": "stream",
          "text": [
            "25100 [D loss: 0.629406] [D acc.: 75.00%, fake 100.00%, real 50.00%] [G loss: 3.359964]\n",
            "25120 [D loss: 0.491271] [D acc.: 75.00%, fake 83.33%, real 66.67%] [G loss: 1.184486]\n",
            "25140 [D loss: 1.791058] [D acc.: 8.33%, fake 0.00%, real 16.67%] [G loss: 0.532428]\n",
            "25160 [D loss: 1.080540] [D acc.: 16.67%, fake 0.00%, real 33.33%] [G loss: 0.897597]\n",
            "25180 [D loss: 0.695320] [D acc.: 58.33%, fake 66.67%, real 50.00%] [G loss: 1.665130]\n"
          ],
          "name": "stdout"
        },
        {
          "output_type": "stream",
          "text": [
            "WARNING:root:Lossy conversion from float32 to uint8. Range [0, 1]. Convert image to uint8 prior to saving to suppress this warning.\n"
          ],
          "name": "stderr"
        },
        {
          "output_type": "stream",
          "text": [
            "25200 [D loss: 1.241654] [D acc.: 16.67%, fake 16.67%, real 16.67%] [G loss: 1.425407]\n",
            "25220 [D loss: 1.664369] [D acc.: 25.00%, fake 50.00%, real 0.00%] [G loss: 0.428505]\n",
            "25240 [D loss: 0.709357] [D acc.: 50.00%, fake 83.33%, real 16.67%] [G loss: 1.772024]\n",
            "25260 [D loss: 0.375156] [D acc.: 91.67%, fake 100.00%, real 83.33%] [G loss: 3.421856]\n",
            "25280 [D loss: 1.171282] [D acc.: 25.00%, fake 16.67%, real 33.33%] [G loss: 1.863018]\n"
          ],
          "name": "stdout"
        },
        {
          "output_type": "stream",
          "text": [
            "WARNING:root:Lossy conversion from float32 to uint8. Range [0, 1]. Convert image to uint8 prior to saving to suppress this warning.\n"
          ],
          "name": "stderr"
        },
        {
          "output_type": "stream",
          "text": [
            "25300 [D loss: 1.511711] [D acc.: 25.00%, fake 33.33%, real 16.67%] [G loss: 0.567130]\n",
            "25320 [D loss: 1.095450] [D acc.: 41.67%, fake 50.00%, real 33.33%] [G loss: 2.139290]\n",
            "25340 [D loss: 0.738120] [D acc.: 58.33%, fake 66.67%, real 50.00%] [G loss: 1.442813]\n",
            "25360 [D loss: 0.726679] [D acc.: 58.33%, fake 66.67%, real 50.00%] [G loss: 0.514091]\n",
            "25380 [D loss: 1.217430] [D acc.: 41.67%, fake 33.33%, real 50.00%] [G loss: 0.954892]\n"
          ],
          "name": "stdout"
        },
        {
          "output_type": "stream",
          "text": [
            "WARNING:root:Lossy conversion from float32 to uint8. Range [0, 1]. Convert image to uint8 prior to saving to suppress this warning.\n"
          ],
          "name": "stderr"
        },
        {
          "output_type": "stream",
          "text": [
            "25400 [D loss: 0.802638] [D acc.: 66.67%, fake 100.00%, real 33.33%] [G loss: 0.871769]\n",
            "25420 [D loss: 0.811340] [D acc.: 58.33%, fake 50.00%, real 66.67%] [G loss: 1.454534]\n",
            "25440 [D loss: 0.881222] [D acc.: 41.67%, fake 16.67%, real 66.67%] [G loss: 0.526558]\n",
            "25460 [D loss: 0.669220] [D acc.: 58.33%, fake 83.33%, real 33.33%] [G loss: 2.082881]\n",
            "25480 [D loss: 1.747182] [D acc.: 16.67%, fake 0.00%, real 33.33%] [G loss: 1.773096]\n"
          ],
          "name": "stdout"
        },
        {
          "output_type": "stream",
          "text": [
            "WARNING:root:Lossy conversion from float32 to uint8. Range [0, 1]. Convert image to uint8 prior to saving to suppress this warning.\n"
          ],
          "name": "stderr"
        },
        {
          "output_type": "stream",
          "text": [
            "25500 [D loss: 0.838331] [D acc.: 66.67%, fake 66.67%, real 66.67%] [G loss: 1.396168]\n",
            "25520 [D loss: 0.640229] [D acc.: 66.67%, fake 100.00%, real 33.33%] [G loss: 1.963016]\n",
            "25540 [D loss: 0.368877] [D acc.: 83.33%, fake 83.33%, real 83.33%] [G loss: 1.472599]\n",
            "25560 [D loss: 0.975165] [D acc.: 33.33%, fake 33.33%, real 33.33%] [G loss: 0.899234]\n",
            "25580 [D loss: 1.070415] [D acc.: 50.00%, fake 50.00%, real 50.00%] [G loss: 0.813776]\n"
          ],
          "name": "stdout"
        },
        {
          "output_type": "stream",
          "text": [
            "WARNING:root:Lossy conversion from float32 to uint8. Range [0, 1]. Convert image to uint8 prior to saving to suppress this warning.\n"
          ],
          "name": "stderr"
        },
        {
          "output_type": "stream",
          "text": [
            "25600 [D loss: 0.850588] [D acc.: 50.00%, fake 66.67%, real 33.33%] [G loss: 0.020205]\n",
            "25620 [D loss: 0.172815] [D acc.: 91.67%, fake 100.00%, real 83.33%] [G loss: 2.077767]\n",
            "25640 [D loss: 0.763089] [D acc.: 41.67%, fake 33.33%, real 50.00%] [G loss: 1.124123]\n",
            "25660 [D loss: 1.432661] [D acc.: 16.67%, fake 0.00%, real 33.33%] [G loss: 0.559920]\n",
            "25680 [D loss: 1.278541] [D acc.: 25.00%, fake 16.67%, real 33.33%] [G loss: 1.256945]\n"
          ],
          "name": "stdout"
        },
        {
          "output_type": "stream",
          "text": [
            "WARNING:root:Lossy conversion from float32 to uint8. Range [0, 1]. Convert image to uint8 prior to saving to suppress this warning.\n"
          ],
          "name": "stderr"
        },
        {
          "output_type": "stream",
          "text": [
            "25700 [D loss: 1.390214] [D acc.: 8.33%, fake 0.00%, real 16.67%] [G loss: 0.828107]\n",
            "25720 [D loss: 1.397424] [D acc.: 25.00%, fake 33.33%, real 16.67%] [G loss: 3.215176]\n",
            "25740 [D loss: 0.802919] [D acc.: 83.33%, fake 83.33%, real 83.33%] [G loss: 0.905157]\n",
            "25760 [D loss: 1.326797] [D acc.: 16.67%, fake 0.00%, real 33.33%] [G loss: 0.933477]\n",
            "25780 [D loss: 0.971032] [D acc.: 41.67%, fake 50.00%, real 33.33%] [G loss: 0.957746]\n"
          ],
          "name": "stdout"
        },
        {
          "output_type": "stream",
          "text": [
            "WARNING:root:Lossy conversion from float32 to uint8. Range [0, 1]. Convert image to uint8 prior to saving to suppress this warning.\n"
          ],
          "name": "stderr"
        },
        {
          "output_type": "stream",
          "text": [
            "25800 [D loss: 1.487916] [D acc.: 16.67%, fake 0.00%, real 33.33%] [G loss: 0.954060]\n",
            "25820 [D loss: 0.425204] [D acc.: 75.00%, fake 100.00%, real 50.00%] [G loss: 2.223421]\n",
            "25840 [D loss: 1.425120] [D acc.: 16.67%, fake 0.00%, real 33.33%] [G loss: 0.445580]\n",
            "25860 [D loss: 0.869486] [D acc.: 50.00%, fake 16.67%, real 83.33%] [G loss: 0.401722]\n",
            "25880 [D loss: 1.575023] [D acc.: 41.67%, fake 16.67%, real 66.67%] [G loss: 0.407549]\n"
          ],
          "name": "stdout"
        },
        {
          "output_type": "stream",
          "text": [
            "WARNING:root:Lossy conversion from float32 to uint8. Range [0, 1]. Convert image to uint8 prior to saving to suppress this warning.\n"
          ],
          "name": "stderr"
        },
        {
          "output_type": "stream",
          "text": [
            "25900 [D loss: 1.606268] [D acc.: 50.00%, fake 100.00%, real 0.00%] [G loss: 1.391795]\n",
            "25920 [D loss: 1.566079] [D acc.: 33.33%, fake 33.33%, real 33.33%] [G loss: 0.762747]\n",
            "25940 [D loss: 0.863792] [D acc.: 66.67%, fake 100.00%, real 33.33%] [G loss: 1.327565]\n",
            "25960 [D loss: 0.827489] [D acc.: 66.67%, fake 83.33%, real 50.00%] [G loss: 0.869676]\n",
            "25980 [D loss: 0.884566] [D acc.: 66.67%, fake 66.67%, real 66.67%] [G loss: 1.014253]\n"
          ],
          "name": "stdout"
        },
        {
          "output_type": "stream",
          "text": [
            "WARNING:root:Lossy conversion from float32 to uint8. Range [0, 1]. Convert image to uint8 prior to saving to suppress this warning.\n"
          ],
          "name": "stderr"
        },
        {
          "output_type": "stream",
          "text": [
            "26000 [D loss: 1.844168] [D acc.: 8.33%, fake 0.00%, real 16.67%] [G loss: 1.090383]\n",
            "26020 [D loss: 1.200476] [D acc.: 33.33%, fake 50.00%, real 16.67%] [G loss: 1.797066]\n",
            "26040 [D loss: 0.987259] [D acc.: 50.00%, fake 83.33%, real 16.67%] [G loss: 1.225881]\n",
            "26060 [D loss: 0.770834] [D acc.: 50.00%, fake 33.33%, real 66.67%] [G loss: 1.266684]\n",
            "26080 [D loss: 1.629922] [D acc.: 41.67%, fake 66.67%, real 16.67%] [G loss: 0.967026]\n"
          ],
          "name": "stdout"
        },
        {
          "output_type": "stream",
          "text": [
            "WARNING:root:Lossy conversion from float32 to uint8. Range [0, 1]. Convert image to uint8 prior to saving to suppress this warning.\n"
          ],
          "name": "stderr"
        },
        {
          "output_type": "stream",
          "text": [
            "26100 [D loss: 0.862004] [D acc.: 41.67%, fake 16.67%, real 66.67%] [G loss: 0.737573]\n",
            "26120 [D loss: 1.346145] [D acc.: 16.67%, fake 0.00%, real 33.33%] [G loss: 0.669650]\n",
            "26140 [D loss: 2.164695] [D acc.: 25.00%, fake 50.00%, real 0.00%] [G loss: 1.563715]\n",
            "26160 [D loss: 0.957118] [D acc.: 25.00%, fake 16.67%, real 33.33%] [G loss: 0.703029]\n",
            "26180 [D loss: 1.304996] [D acc.: 41.67%, fake 50.00%, real 33.33%] [G loss: 0.565001]\n"
          ],
          "name": "stdout"
        },
        {
          "output_type": "stream",
          "text": [
            "WARNING:root:Lossy conversion from float32 to uint8. Range [0, 1]. Convert image to uint8 prior to saving to suppress this warning.\n"
          ],
          "name": "stderr"
        },
        {
          "output_type": "stream",
          "text": [
            "26200 [D loss: 1.303074] [D acc.: 33.33%, fake 33.33%, real 33.33%] [G loss: 0.676412]\n",
            "26220 [D loss: 0.714713] [D acc.: 58.33%, fake 50.00%, real 66.67%] [G loss: 0.368529]\n",
            "26240 [D loss: 1.392352] [D acc.: 33.33%, fake 33.33%, real 33.33%] [G loss: 0.415740]\n",
            "26260 [D loss: 1.360654] [D acc.: 16.67%, fake 0.00%, real 33.33%] [G loss: 0.388652]\n",
            "26280 [D loss: 0.772292] [D acc.: 75.00%, fake 100.00%, real 50.00%] [G loss: 2.283726]\n"
          ],
          "name": "stdout"
        },
        {
          "output_type": "stream",
          "text": [
            "WARNING:root:Lossy conversion from float32 to uint8. Range [0, 1]. Convert image to uint8 prior to saving to suppress this warning.\n"
          ],
          "name": "stderr"
        },
        {
          "output_type": "stream",
          "text": [
            "26300 [D loss: 0.649869] [D acc.: 66.67%, fake 66.67%, real 66.67%] [G loss: 1.064913]\n",
            "26320 [D loss: 0.812657] [D acc.: 50.00%, fake 50.00%, real 50.00%] [G loss: 2.769469]\n",
            "26340 [D loss: 0.437556] [D acc.: 83.33%, fake 83.33%, real 83.33%] [G loss: 1.043355]\n",
            "26360 [D loss: 1.172477] [D acc.: 25.00%, fake 33.33%, real 16.67%] [G loss: 1.116108]\n",
            "26380 [D loss: 0.339941] [D acc.: 91.67%, fake 100.00%, real 83.33%] [G loss: 1.059873]\n"
          ],
          "name": "stdout"
        },
        {
          "output_type": "stream",
          "text": [
            "WARNING:root:Lossy conversion from float32 to uint8. Range [0, 1]. Convert image to uint8 prior to saving to suppress this warning.\n"
          ],
          "name": "stderr"
        },
        {
          "output_type": "stream",
          "text": [
            "26400 [D loss: 1.451561] [D acc.: 25.00%, fake 33.33%, real 16.67%] [G loss: 1.708514]\n",
            "26420 [D loss: 0.331915] [D acc.: 83.33%, fake 83.33%, real 83.33%] [G loss: 1.147668]\n",
            "26440 [D loss: 1.638052] [D acc.: 33.33%, fake 16.67%, real 50.00%] [G loss: 0.458807]\n",
            "26460 [D loss: 1.067680] [D acc.: 58.33%, fake 50.00%, real 66.67%] [G loss: 0.544735]\n",
            "26480 [D loss: 0.895662] [D acc.: 58.33%, fake 66.67%, real 50.00%] [G loss: 1.304803]\n"
          ],
          "name": "stdout"
        },
        {
          "output_type": "stream",
          "text": [
            "WARNING:root:Lossy conversion from float32 to uint8. Range [0, 1]. Convert image to uint8 prior to saving to suppress this warning.\n"
          ],
          "name": "stderr"
        },
        {
          "output_type": "stream",
          "text": [
            "26500 [D loss: 0.977345] [D acc.: 58.33%, fake 66.67%, real 50.00%] [G loss: 1.268398]\n",
            "26520 [D loss: 0.876785] [D acc.: 41.67%, fake 50.00%, real 33.33%] [G loss: 0.724739]\n",
            "26540 [D loss: 0.426650] [D acc.: 83.33%, fake 66.67%, real 100.00%] [G loss: 1.335297]\n",
            "26560 [D loss: 1.359404] [D acc.: 16.67%, fake 16.67%, real 16.67%] [G loss: 1.115799]\n",
            "26580 [D loss: 1.074294] [D acc.: 41.67%, fake 33.33%, real 50.00%] [G loss: 1.117213]\n"
          ],
          "name": "stdout"
        },
        {
          "output_type": "stream",
          "text": [
            "WARNING:root:Lossy conversion from float32 to uint8. Range [0, 1]. Convert image to uint8 prior to saving to suppress this warning.\n"
          ],
          "name": "stderr"
        },
        {
          "output_type": "stream",
          "text": [
            "26600 [D loss: 1.067709] [D acc.: 41.67%, fake 33.33%, real 50.00%] [G loss: 0.692169]\n",
            "26620 [D loss: 1.295514] [D acc.: 25.00%, fake 16.67%, real 33.33%] [G loss: 0.713959]\n",
            "26640 [D loss: 1.004958] [D acc.: 25.00%, fake 33.33%, real 16.67%] [G loss: 0.866603]\n",
            "26660 [D loss: 1.354137] [D acc.: 16.67%, fake 16.67%, real 16.67%] [G loss: 0.448778]\n",
            "26680 [D loss: 1.285002] [D acc.: 25.00%, fake 33.33%, real 16.67%] [G loss: 1.957226]\n"
          ],
          "name": "stdout"
        },
        {
          "output_type": "stream",
          "text": [
            "WARNING:root:Lossy conversion from float32 to uint8. Range [0, 1]. Convert image to uint8 prior to saving to suppress this warning.\n"
          ],
          "name": "stderr"
        },
        {
          "output_type": "stream",
          "text": [
            "26700 [D loss: 1.348969] [D acc.: 25.00%, fake 0.00%, real 50.00%] [G loss: 0.659948]\n",
            "26720 [D loss: 0.884292] [D acc.: 41.67%, fake 33.33%, real 50.00%] [G loss: 0.739760]\n",
            "26740 [D loss: 1.433623] [D acc.: 33.33%, fake 33.33%, real 33.33%] [G loss: 0.340450]\n",
            "26760 [D loss: 0.610864] [D acc.: 58.33%, fake 50.00%, real 66.67%] [G loss: 1.472446]\n",
            "26780 [D loss: 1.254527] [D acc.: 41.67%, fake 50.00%, real 33.33%] [G loss: 1.204892]\n"
          ],
          "name": "stdout"
        },
        {
          "output_type": "stream",
          "text": [
            "WARNING:root:Lossy conversion from float32 to uint8. Range [0, 1]. Convert image to uint8 prior to saving to suppress this warning.\n"
          ],
          "name": "stderr"
        },
        {
          "output_type": "stream",
          "text": [
            "26800 [D loss: 0.168300] [D acc.: 100.00%, fake 100.00%, real 100.00%] [G loss: 1.180540]\n",
            "26820 [D loss: 0.857141] [D acc.: 50.00%, fake 50.00%, real 50.00%] [G loss: 0.304930]\n",
            "26840 [D loss: 1.304273] [D acc.: 41.67%, fake 33.33%, real 50.00%] [G loss: 1.543373]\n",
            "26860 [D loss: 1.308671] [D acc.: 16.67%, fake 0.00%, real 33.33%] [G loss: 0.618814]\n",
            "26880 [D loss: 1.445243] [D acc.: 8.33%, fake 0.00%, real 16.67%] [G loss: 0.485553]\n"
          ],
          "name": "stdout"
        },
        {
          "output_type": "stream",
          "text": [
            "WARNING:root:Lossy conversion from float32 to uint8. Range [0, 1]. Convert image to uint8 prior to saving to suppress this warning.\n"
          ],
          "name": "stderr"
        },
        {
          "output_type": "stream",
          "text": [
            "26900 [D loss: 1.148116] [D acc.: 25.00%, fake 16.67%, real 33.33%] [G loss: 1.462866]\n",
            "26920 [D loss: 0.849783] [D acc.: 41.67%, fake 16.67%, real 66.67%] [G loss: 0.190022]\n",
            "26940 [D loss: 0.400902] [D acc.: 75.00%, fake 83.33%, real 66.67%] [G loss: 1.035004]\n",
            "26960 [D loss: 1.270118] [D acc.: 33.33%, fake 33.33%, real 33.33%] [G loss: 0.728936]\n",
            "26980 [D loss: 1.170761] [D acc.: 33.33%, fake 16.67%, real 50.00%] [G loss: 0.709458]\n"
          ],
          "name": "stdout"
        },
        {
          "output_type": "stream",
          "text": [
            "WARNING:root:Lossy conversion from float32 to uint8. Range [0, 1]. Convert image to uint8 prior to saving to suppress this warning.\n"
          ],
          "name": "stderr"
        },
        {
          "output_type": "stream",
          "text": [
            "27000 [D loss: 0.565305] [D acc.: 91.67%, fake 100.00%, real 83.33%] [G loss: 2.420854]\n",
            "27020 [D loss: 1.051884] [D acc.: 25.00%, fake 0.00%, real 50.00%] [G loss: 0.596555]\n",
            "27040 [D loss: 1.169109] [D acc.: 66.67%, fake 100.00%, real 33.33%] [G loss: 3.851712]\n",
            "27060 [D loss: 1.186220] [D acc.: 25.00%, fake 0.00%, real 50.00%] [G loss: 0.344131]\n",
            "27080 [D loss: 0.653503] [D acc.: 75.00%, fake 100.00%, real 50.00%] [G loss: 2.124054]\n"
          ],
          "name": "stdout"
        },
        {
          "output_type": "stream",
          "text": [
            "WARNING:root:Lossy conversion from float32 to uint8. Range [0, 1]. Convert image to uint8 prior to saving to suppress this warning.\n"
          ],
          "name": "stderr"
        },
        {
          "output_type": "stream",
          "text": [
            "27100 [D loss: 1.051838] [D acc.: 41.67%, fake 16.67%, real 66.67%] [G loss: 0.621976]\n",
            "27120 [D loss: 0.713082] [D acc.: 41.67%, fake 50.00%, real 33.33%] [G loss: 0.485832]\n",
            "27140 [D loss: 1.285847] [D acc.: 8.33%, fake 0.00%, real 16.67%] [G loss: 1.300404]\n",
            "27160 [D loss: 1.061357] [D acc.: 33.33%, fake 50.00%, real 16.67%] [G loss: 0.950265]\n",
            "27180 [D loss: 1.102046] [D acc.: 25.00%, fake 16.67%, real 33.33%] [G loss: 0.422649]\n"
          ],
          "name": "stdout"
        },
        {
          "output_type": "stream",
          "text": [
            "WARNING:root:Lossy conversion from float32 to uint8. Range [0, 1]. Convert image to uint8 prior to saving to suppress this warning.\n"
          ],
          "name": "stderr"
        },
        {
          "output_type": "stream",
          "text": [
            "27200 [D loss: 1.466774] [D acc.: 33.33%, fake 33.33%, real 33.33%] [G loss: 1.492442]\n",
            "27220 [D loss: 0.173763] [D acc.: 100.00%, fake 100.00%, real 100.00%] [G loss: 2.137946]\n",
            "27240 [D loss: 0.412259] [D acc.: 75.00%, fake 100.00%, real 50.00%] [G loss: 0.011934]\n",
            "27260 [D loss: 1.324705] [D acc.: 25.00%, fake 33.33%, real 16.67%] [G loss: 0.817800]\n",
            "27280 [D loss: 0.817342] [D acc.: 50.00%, fake 16.67%, real 83.33%] [G loss: 1.038066]\n"
          ],
          "name": "stdout"
        },
        {
          "output_type": "stream",
          "text": [
            "WARNING:root:Lossy conversion from float32 to uint8. Range [0, 1]. Convert image to uint8 prior to saving to suppress this warning.\n"
          ],
          "name": "stderr"
        },
        {
          "output_type": "stream",
          "text": [
            "27300 [D loss: 0.774626] [D acc.: 66.67%, fake 100.00%, real 33.33%] [G loss: 1.317325]\n",
            "27320 [D loss: 0.523933] [D acc.: 75.00%, fake 66.67%, real 83.33%] [G loss: 0.607696]\n",
            "27340 [D loss: 1.209155] [D acc.: 50.00%, fake 50.00%, real 50.00%] [G loss: 1.111865]\n",
            "27360 [D loss: 2.401521] [D acc.: 8.33%, fake 0.00%, real 16.67%] [G loss: 1.605693]\n",
            "27380 [D loss: 0.983306] [D acc.: 50.00%, fake 33.33%, real 66.67%] [G loss: 1.011547]\n"
          ],
          "name": "stdout"
        },
        {
          "output_type": "stream",
          "text": [
            "WARNING:root:Lossy conversion from float32 to uint8. Range [0, 1]. Convert image to uint8 prior to saving to suppress this warning.\n"
          ],
          "name": "stderr"
        },
        {
          "output_type": "stream",
          "text": [
            "27400 [D loss: 0.860145] [D acc.: 33.33%, fake 33.33%, real 33.33%] [G loss: 1.665857]\n",
            "27420 [D loss: 0.688835] [D acc.: 66.67%, fake 50.00%, real 83.33%] [G loss: 0.427291]\n",
            "27440 [D loss: 1.075513] [D acc.: 50.00%, fake 66.67%, real 33.33%] [G loss: 0.973020]\n",
            "27460 [D loss: 0.995892] [D acc.: 58.33%, fake 83.33%, real 33.33%] [G loss: 1.765989]\n",
            "27480 [D loss: 1.274478] [D acc.: 41.67%, fake 66.67%, real 16.67%] [G loss: 3.067212]\n"
          ],
          "name": "stdout"
        },
        {
          "output_type": "stream",
          "text": [
            "WARNING:root:Lossy conversion from float32 to uint8. Range [0, 1]. Convert image to uint8 prior to saving to suppress this warning.\n"
          ],
          "name": "stderr"
        },
        {
          "output_type": "stream",
          "text": [
            "27500 [D loss: 1.112705] [D acc.: 33.33%, fake 16.67%, real 50.00%] [G loss: 0.998258]\n",
            "27520 [D loss: 1.284703] [D acc.: 25.00%, fake 16.67%, real 33.33%] [G loss: 1.417455]\n",
            "27540 [D loss: 0.977430] [D acc.: 33.33%, fake 16.67%, real 50.00%] [G loss: 0.828982]\n",
            "27560 [D loss: 0.792747] [D acc.: 50.00%, fake 33.33%, real 66.67%] [G loss: 0.833509]\n",
            "27580 [D loss: 0.759493] [D acc.: 50.00%, fake 50.00%, real 50.00%] [G loss: 1.529451]\n"
          ],
          "name": "stdout"
        },
        {
          "output_type": "stream",
          "text": [
            "WARNING:root:Lossy conversion from float32 to uint8. Range [0, 1]. Convert image to uint8 prior to saving to suppress this warning.\n"
          ],
          "name": "stderr"
        },
        {
          "output_type": "stream",
          "text": [
            "27600 [D loss: 1.373982] [D acc.: 8.33%, fake 0.00%, real 16.67%] [G loss: 1.231714]\n",
            "27620 [D loss: 1.259399] [D acc.: 66.67%, fake 83.33%, real 50.00%] [G loss: 1.859436]\n",
            "27640 [D loss: 0.995323] [D acc.: 50.00%, fake 50.00%, real 50.00%] [G loss: 2.636197]\n",
            "27660 [D loss: 1.127313] [D acc.: 16.67%, fake 0.00%, real 33.33%] [G loss: 1.351238]\n",
            "27680 [D loss: 1.888295] [D acc.: 33.33%, fake 50.00%, real 16.67%] [G loss: 0.436242]\n"
          ],
          "name": "stdout"
        },
        {
          "output_type": "stream",
          "text": [
            "WARNING:root:Lossy conversion from float32 to uint8. Range [0, 1]. Convert image to uint8 prior to saving to suppress this warning.\n"
          ],
          "name": "stderr"
        },
        {
          "output_type": "stream",
          "text": [
            "27700 [D loss: 0.534971] [D acc.: 83.33%, fake 83.33%, real 83.33%] [G loss: 1.627674]\n",
            "27720 [D loss: 0.779342] [D acc.: 50.00%, fake 33.33%, real 66.67%] [G loss: 0.941960]\n",
            "27740 [D loss: 1.333648] [D acc.: 16.67%, fake 33.33%, real 0.00%] [G loss: 0.451504]\n",
            "27760 [D loss: 1.280443] [D acc.: 25.00%, fake 0.00%, real 50.00%] [G loss: 0.711588]\n",
            "27780 [D loss: 1.316190] [D acc.: 33.33%, fake 16.67%, real 50.00%] [G loss: 0.952297]\n"
          ],
          "name": "stdout"
        },
        {
          "output_type": "stream",
          "text": [
            "WARNING:root:Lossy conversion from float32 to uint8. Range [0, 1]. Convert image to uint8 prior to saving to suppress this warning.\n"
          ],
          "name": "stderr"
        },
        {
          "output_type": "stream",
          "text": [
            "27800 [D loss: 1.454706] [D acc.: 25.00%, fake 16.67%, real 33.33%] [G loss: 0.531148]\n",
            "27820 [D loss: 1.404353] [D acc.: 16.67%, fake 0.00%, real 33.33%] [G loss: 1.279132]\n",
            "27840 [D loss: 1.021381] [D acc.: 50.00%, fake 50.00%, real 50.00%] [G loss: 0.287458]\n",
            "27860 [D loss: 1.274638] [D acc.: 25.00%, fake 0.00%, real 50.00%] [G loss: 0.733724]\n",
            "27880 [D loss: 0.380887] [D acc.: 91.67%, fake 100.00%, real 83.33%] [G loss: 0.240277]\n"
          ],
          "name": "stdout"
        },
        {
          "output_type": "stream",
          "text": [
            "WARNING:root:Lossy conversion from float32 to uint8. Range [0, 1]. Convert image to uint8 prior to saving to suppress this warning.\n"
          ],
          "name": "stderr"
        },
        {
          "output_type": "stream",
          "text": [
            "27900 [D loss: 2.708283] [D acc.: 25.00%, fake 33.33%, real 16.67%] [G loss: 1.601285]\n",
            "27920 [D loss: 1.261032] [D acc.: 25.00%, fake 33.33%, real 16.67%] [G loss: 1.070477]\n",
            "27940 [D loss: 1.082639] [D acc.: 16.67%, fake 16.67%, real 16.67%] [G loss: 0.909559]\n",
            "27960 [D loss: 1.034889] [D acc.: 25.00%, fake 16.67%, real 33.33%] [G loss: 1.122054]\n",
            "27980 [D loss: 0.236428] [D acc.: 91.67%, fake 100.00%, real 83.33%] [G loss: 1.956191]\n"
          ],
          "name": "stdout"
        },
        {
          "output_type": "stream",
          "text": [
            "WARNING:root:Lossy conversion from float32 to uint8. Range [0, 1]. Convert image to uint8 prior to saving to suppress this warning.\n"
          ],
          "name": "stderr"
        },
        {
          "output_type": "stream",
          "text": [
            "28000 [D loss: 0.995616] [D acc.: 25.00%, fake 16.67%, real 33.33%] [G loss: 0.962038]\n",
            "28020 [D loss: 1.040404] [D acc.: 25.00%, fake 16.67%, real 33.33%] [G loss: 0.852132]\n",
            "28040 [D loss: 0.937376] [D acc.: 50.00%, fake 50.00%, real 50.00%] [G loss: 0.844651]\n",
            "28060 [D loss: 0.800173] [D acc.: 50.00%, fake 66.67%, real 33.33%] [G loss: 2.366881]\n",
            "28080 [D loss: 1.836512] [D acc.: 8.33%, fake 0.00%, real 16.67%] [G loss: 0.291924]\n"
          ],
          "name": "stdout"
        },
        {
          "output_type": "stream",
          "text": [
            "WARNING:root:Lossy conversion from float32 to uint8. Range [0, 1]. Convert image to uint8 prior to saving to suppress this warning.\n"
          ],
          "name": "stderr"
        },
        {
          "output_type": "stream",
          "text": [
            "28100 [D loss: 0.937090] [D acc.: 41.67%, fake 66.67%, real 16.67%] [G loss: 1.413727]\n",
            "28120 [D loss: 0.064042] [D acc.: 100.00%, fake 100.00%, real 100.00%] [G loss: 0.733317]\n",
            "28140 [D loss: 1.808360] [D acc.: 0.00%, fake 0.00%, real 0.00%] [G loss: 1.127684]\n",
            "28160 [D loss: 0.838342] [D acc.: 58.33%, fake 66.67%, real 50.00%] [G loss: 1.088159]\n",
            "28180 [D loss: 1.310854] [D acc.: 0.00%, fake 0.00%, real 0.00%] [G loss: 0.352499]\n"
          ],
          "name": "stdout"
        },
        {
          "output_type": "stream",
          "text": [
            "WARNING:root:Lossy conversion from float32 to uint8. Range [0, 1]. Convert image to uint8 prior to saving to suppress this warning.\n"
          ],
          "name": "stderr"
        },
        {
          "output_type": "stream",
          "text": [
            "28200 [D loss: 0.566281] [D acc.: 58.33%, fake 50.00%, real 66.67%] [G loss: 1.961726]\n",
            "28220 [D loss: 1.403852] [D acc.: 0.00%, fake 0.00%, real 0.00%] [G loss: 0.689510]\n",
            "28240 [D loss: 0.302776] [D acc.: 91.67%, fake 100.00%, real 83.33%] [G loss: 1.629385]\n",
            "28260 [D loss: 0.631915] [D acc.: 83.33%, fake 83.33%, real 83.33%] [G loss: 0.467277]\n",
            "28280 [D loss: 1.162340] [D acc.: 25.00%, fake 50.00%, real 0.00%] [G loss: 0.667939]\n"
          ],
          "name": "stdout"
        },
        {
          "output_type": "stream",
          "text": [
            "WARNING:root:Lossy conversion from float32 to uint8. Range [0, 1]. Convert image to uint8 prior to saving to suppress this warning.\n"
          ],
          "name": "stderr"
        },
        {
          "output_type": "stream",
          "text": [
            "28300 [D loss: 0.770131] [D acc.: 58.33%, fake 50.00%, real 66.67%] [G loss: 0.988326]\n",
            "28320 [D loss: 1.131450] [D acc.: 25.00%, fake 33.33%, real 16.67%] [G loss: 1.461113]\n",
            "28340 [D loss: 1.123687] [D acc.: 33.33%, fake 0.00%, real 66.67%] [G loss: 0.541701]\n",
            "28360 [D loss: 0.867683] [D acc.: 50.00%, fake 50.00%, real 50.00%] [G loss: 0.438019]\n",
            "28380 [D loss: 0.981111] [D acc.: 41.67%, fake 33.33%, real 50.00%] [G loss: 0.850359]\n"
          ],
          "name": "stdout"
        },
        {
          "output_type": "stream",
          "text": [
            "WARNING:root:Lossy conversion from float32 to uint8. Range [0, 1]. Convert image to uint8 prior to saving to suppress this warning.\n"
          ],
          "name": "stderr"
        },
        {
          "output_type": "stream",
          "text": [
            "28400 [D loss: 0.761980] [D acc.: 58.33%, fake 66.67%, real 50.00%] [G loss: 0.801789]\n",
            "28420 [D loss: 1.606497] [D acc.: 25.00%, fake 16.67%, real 33.33%] [G loss: 0.335433]\n",
            "28440 [D loss: 0.725650] [D acc.: 75.00%, fake 100.00%, real 50.00%] [G loss: 2.215661]\n",
            "28460 [D loss: 1.167062] [D acc.: 33.33%, fake 33.33%, real 33.33%] [G loss: 0.229872]\n",
            "28480 [D loss: 1.292260] [D acc.: 16.67%, fake 0.00%, real 33.33%] [G loss: 2.233344]\n"
          ],
          "name": "stdout"
        },
        {
          "output_type": "stream",
          "text": [
            "WARNING:root:Lossy conversion from float32 to uint8. Range [0, 1]. Convert image to uint8 prior to saving to suppress this warning.\n"
          ],
          "name": "stderr"
        },
        {
          "output_type": "stream",
          "text": [
            "28500 [D loss: 0.955857] [D acc.: 75.00%, fake 100.00%, real 50.00%] [G loss: 1.289266]\n",
            "28520 [D loss: 1.352714] [D acc.: 16.67%, fake 0.00%, real 33.33%] [G loss: 0.648848]\n",
            "28540 [D loss: 0.405321] [D acc.: 66.67%, fake 50.00%, real 83.33%] [G loss: 0.356435]\n",
            "28560 [D loss: 1.006594] [D acc.: 50.00%, fake 83.33%, real 16.67%] [G loss: 1.847643]\n",
            "28580 [D loss: 0.990124] [D acc.: 50.00%, fake 50.00%, real 50.00%] [G loss: 0.990789]\n"
          ],
          "name": "stdout"
        },
        {
          "output_type": "stream",
          "text": [
            "WARNING:root:Lossy conversion from float32 to uint8. Range [0, 1]. Convert image to uint8 prior to saving to suppress this warning.\n"
          ],
          "name": "stderr"
        },
        {
          "output_type": "stream",
          "text": [
            "28600 [D loss: 1.456442] [D acc.: 8.33%, fake 0.00%, real 16.67%] [G loss: 0.668864]\n",
            "28620 [D loss: 0.627455] [D acc.: 58.33%, fake 66.67%, real 50.00%] [G loss: 0.787284]\n",
            "28640 [D loss: 0.516807] [D acc.: 83.33%, fake 100.00%, real 66.67%] [G loss: 0.704959]\n",
            "28660 [D loss: 1.304575] [D acc.: 16.67%, fake 0.00%, real 33.33%] [G loss: 0.558749]\n",
            "28680 [D loss: 0.958908] [D acc.: 33.33%, fake 16.67%, real 50.00%] [G loss: 0.849210]\n"
          ],
          "name": "stdout"
        },
        {
          "output_type": "stream",
          "text": [
            "WARNING:root:Lossy conversion from float32 to uint8. Range [0, 1]. Convert image to uint8 prior to saving to suppress this warning.\n"
          ],
          "name": "stderr"
        },
        {
          "output_type": "stream",
          "text": [
            "28700 [D loss: 1.162371] [D acc.: 25.00%, fake 50.00%, real 0.00%] [G loss: 1.360465]\n",
            "28720 [D loss: 1.115254] [D acc.: 8.33%, fake 16.67%, real 0.00%] [G loss: 0.502344]\n",
            "28740 [D loss: 0.525624] [D acc.: 75.00%, fake 66.67%, real 83.33%] [G loss: 0.418555]\n",
            "28760 [D loss: 1.648342] [D acc.: 8.33%, fake 0.00%, real 16.67%] [G loss: 0.555096]\n",
            "28780 [D loss: 1.513682] [D acc.: 25.00%, fake 0.00%, real 50.00%] [G loss: 0.653136]\n"
          ],
          "name": "stdout"
        },
        {
          "output_type": "stream",
          "text": [
            "WARNING:root:Lossy conversion from float32 to uint8. Range [0, 1]. Convert image to uint8 prior to saving to suppress this warning.\n"
          ],
          "name": "stderr"
        },
        {
          "output_type": "stream",
          "text": [
            "28800 [D loss: 1.665699] [D acc.: 16.67%, fake 0.00%, real 33.33%] [G loss: 0.954287]\n",
            "28820 [D loss: 0.816969] [D acc.: 66.67%, fake 83.33%, real 50.00%] [G loss: 0.311289]\n",
            "28840 [D loss: 0.627477] [D acc.: 83.33%, fake 100.00%, real 66.67%] [G loss: 0.504039]\n",
            "28860 [D loss: 0.802611] [D acc.: 50.00%, fake 50.00%, real 50.00%] [G loss: 1.806810]\n",
            "28880 [D loss: 1.206321] [D acc.: 25.00%, fake 16.67%, real 33.33%] [G loss: 0.894418]\n"
          ],
          "name": "stdout"
        },
        {
          "output_type": "stream",
          "text": [
            "WARNING:root:Lossy conversion from float32 to uint8. Range [0, 1]. Convert image to uint8 prior to saving to suppress this warning.\n"
          ],
          "name": "stderr"
        },
        {
          "output_type": "stream",
          "text": [
            "28900 [D loss: 0.986988] [D acc.: 33.33%, fake 0.00%, real 66.67%] [G loss: 0.477558]\n",
            "28920 [D loss: 1.238191] [D acc.: 16.67%, fake 0.00%, real 33.33%] [G loss: 1.432427]\n",
            "28940 [D loss: 1.460470] [D acc.: 8.33%, fake 0.00%, real 16.67%] [G loss: 1.059481]\n",
            "28960 [D loss: 1.199273] [D acc.: 33.33%, fake 33.33%, real 33.33%] [G loss: 1.081409]\n",
            "28980 [D loss: 0.968474] [D acc.: 33.33%, fake 33.33%, real 33.33%] [G loss: 0.320230]\n"
          ],
          "name": "stdout"
        },
        {
          "output_type": "stream",
          "text": [
            "WARNING:root:Lossy conversion from float32 to uint8. Range [0, 1]. Convert image to uint8 prior to saving to suppress this warning.\n"
          ],
          "name": "stderr"
        },
        {
          "output_type": "stream",
          "text": [
            "29000 [D loss: 0.514137] [D acc.: 83.33%, fake 83.33%, real 83.33%] [G loss: 0.704072]\n",
            "29020 [D loss: 0.666133] [D acc.: 75.00%, fake 83.33%, real 66.67%] [G loss: 0.586391]\n",
            "29040 [D loss: 0.722576] [D acc.: 66.67%, fake 66.67%, real 66.67%] [G loss: 0.998866]\n",
            "29060 [D loss: 1.108587] [D acc.: 33.33%, fake 0.00%, real 66.67%] [G loss: 0.373537]\n",
            "29080 [D loss: 0.588944] [D acc.: 58.33%, fake 66.67%, real 50.00%] [G loss: 1.179147]\n"
          ],
          "name": "stdout"
        },
        {
          "output_type": "stream",
          "text": [
            "WARNING:root:Lossy conversion from float32 to uint8. Range [0, 1]. Convert image to uint8 prior to saving to suppress this warning.\n"
          ],
          "name": "stderr"
        },
        {
          "output_type": "stream",
          "text": [
            "29100 [D loss: 1.692395] [D acc.: 8.33%, fake 0.00%, real 16.67%] [G loss: 0.345856]\n",
            "29120 [D loss: 1.060740] [D acc.: 50.00%, fake 66.67%, real 33.33%] [G loss: 0.393429]\n",
            "29140 [D loss: 0.983092] [D acc.: 41.67%, fake 33.33%, real 50.00%] [G loss: 1.628564]\n",
            "29160 [D loss: 2.123953] [D acc.: 16.67%, fake 0.00%, real 33.33%] [G loss: 0.663944]\n",
            "29180 [D loss: 1.188950] [D acc.: 16.67%, fake 16.67%, real 16.67%] [G loss: 0.978505]\n"
          ],
          "name": "stdout"
        },
        {
          "output_type": "stream",
          "text": [
            "WARNING:root:Lossy conversion from float32 to uint8. Range [0, 1]. Convert image to uint8 prior to saving to suppress this warning.\n"
          ],
          "name": "stderr"
        },
        {
          "output_type": "stream",
          "text": [
            "29200 [D loss: 0.742886] [D acc.: 66.67%, fake 50.00%, real 83.33%] [G loss: 0.496350]\n",
            "29220 [D loss: 0.671578] [D acc.: 66.67%, fake 50.00%, real 83.33%] [G loss: 2.984146]\n",
            "29240 [D loss: 0.866587] [D acc.: 41.67%, fake 33.33%, real 50.00%] [G loss: 0.273799]\n",
            "29260 [D loss: 1.504408] [D acc.: 41.67%, fake 83.33%, real 0.00%] [G loss: 1.394622]\n",
            "29280 [D loss: 0.805615] [D acc.: 41.67%, fake 50.00%, real 33.33%] [G loss: 1.065174]\n"
          ],
          "name": "stdout"
        },
        {
          "output_type": "stream",
          "text": [
            "WARNING:root:Lossy conversion from float32 to uint8. Range [0, 1]. Convert image to uint8 prior to saving to suppress this warning.\n"
          ],
          "name": "stderr"
        },
        {
          "output_type": "stream",
          "text": [
            "29300 [D loss: 1.671573] [D acc.: 16.67%, fake 33.33%, real 0.00%] [G loss: 1.451517]\n",
            "29320 [D loss: 1.276623] [D acc.: 33.33%, fake 16.67%, real 50.00%] [G loss: 1.458428]\n",
            "29340 [D loss: 0.966668] [D acc.: 25.00%, fake 0.00%, real 50.00%] [G loss: 0.984410]\n",
            "29360 [D loss: 1.178351] [D acc.: 16.67%, fake 16.67%, real 16.67%] [G loss: 1.106503]\n",
            "29380 [D loss: 0.517216] [D acc.: 83.33%, fake 83.33%, real 83.33%] [G loss: 1.428571]\n"
          ],
          "name": "stdout"
        },
        {
          "output_type": "stream",
          "text": [
            "WARNING:root:Lossy conversion from float32 to uint8. Range [0, 1]. Convert image to uint8 prior to saving to suppress this warning.\n"
          ],
          "name": "stderr"
        },
        {
          "output_type": "stream",
          "text": [
            "29400 [D loss: 1.729303] [D acc.: 0.00%, fake 0.00%, real 0.00%] [G loss: 0.238442]\n",
            "29420 [D loss: 1.596535] [D acc.: 16.67%, fake 0.00%, real 33.33%] [G loss: 1.311532]\n",
            "29440 [D loss: 0.968196] [D acc.: 25.00%, fake 16.67%, real 33.33%] [G loss: 1.332697]\n",
            "29460 [D loss: 1.893433] [D acc.: 8.33%, fake 0.00%, real 16.67%] [G loss: 1.329160]\n",
            "29480 [D loss: 0.795545] [D acc.: 41.67%, fake 0.00%, real 83.33%] [G loss: 0.723644]\n"
          ],
          "name": "stdout"
        },
        {
          "output_type": "stream",
          "text": [
            "WARNING:root:Lossy conversion from float32 to uint8. Range [0, 1]. Convert image to uint8 prior to saving to suppress this warning.\n"
          ],
          "name": "stderr"
        },
        {
          "output_type": "stream",
          "text": [
            "29500 [D loss: 1.270074] [D acc.: 16.67%, fake 33.33%, real 0.00%] [G loss: 0.909968]\n",
            "29520 [D loss: 1.064944] [D acc.: 50.00%, fake 33.33%, real 66.67%] [G loss: 1.029638]\n",
            "29540 [D loss: 1.370346] [D acc.: 50.00%, fake 66.67%, real 33.33%] [G loss: 1.222938]\n",
            "29560 [D loss: 0.945518] [D acc.: 58.33%, fake 66.67%, real 50.00%] [G loss: 0.787075]\n",
            "29580 [D loss: 1.538221] [D acc.: 25.00%, fake 0.00%, real 50.00%] [G loss: 1.335752]\n"
          ],
          "name": "stdout"
        },
        {
          "output_type": "stream",
          "text": [
            "WARNING:root:Lossy conversion from float32 to uint8. Range [0, 1]. Convert image to uint8 prior to saving to suppress this warning.\n"
          ],
          "name": "stderr"
        },
        {
          "output_type": "stream",
          "text": [
            "29600 [D loss: 0.853321] [D acc.: 50.00%, fake 66.67%, real 33.33%] [G loss: 0.638679]\n",
            "29620 [D loss: 1.240642] [D acc.: 33.33%, fake 50.00%, real 16.67%] [G loss: 0.965833]\n",
            "29640 [D loss: 0.944315] [D acc.: 41.67%, fake 50.00%, real 33.33%] [G loss: 0.822726]\n",
            "29660 [D loss: 0.813637] [D acc.: 50.00%, fake 33.33%, real 66.67%] [G loss: 0.114210]\n",
            "29680 [D loss: 0.904130] [D acc.: 25.00%, fake 33.33%, real 16.67%] [G loss: 1.124429]\n"
          ],
          "name": "stdout"
        },
        {
          "output_type": "stream",
          "text": [
            "WARNING:root:Lossy conversion from float32 to uint8. Range [0, 1]. Convert image to uint8 prior to saving to suppress this warning.\n"
          ],
          "name": "stderr"
        },
        {
          "output_type": "stream",
          "text": [
            "29700 [D loss: 1.469104] [D acc.: 16.67%, fake 0.00%, real 33.33%] [G loss: 0.961762]\n",
            "29720 [D loss: 2.275954] [D acc.: 8.33%, fake 16.67%, real 0.00%] [G loss: 0.831937]\n",
            "29740 [D loss: 1.201149] [D acc.: 16.67%, fake 0.00%, real 33.33%] [G loss: 0.937194]\n",
            "29760 [D loss: 1.163777] [D acc.: 33.33%, fake 16.67%, real 50.00%] [G loss: 0.587982]\n",
            "29780 [D loss: 1.019094] [D acc.: 41.67%, fake 50.00%, real 33.33%] [G loss: 1.033536]\n"
          ],
          "name": "stdout"
        },
        {
          "output_type": "stream",
          "text": [
            "WARNING:root:Lossy conversion from float32 to uint8. Range [0, 1]. Convert image to uint8 prior to saving to suppress this warning.\n"
          ],
          "name": "stderr"
        },
        {
          "output_type": "stream",
          "text": [
            "29800 [D loss: 1.131028] [D acc.: 8.33%, fake 16.67%, real 0.00%] [G loss: 0.577314]\n",
            "29820 [D loss: 0.663011] [D acc.: 58.33%, fake 50.00%, real 66.67%] [G loss: 0.563704]\n",
            "29840 [D loss: 0.493780] [D acc.: 83.33%, fake 83.33%, real 83.33%] [G loss: 0.490201]\n",
            "29860 [D loss: 1.281466] [D acc.: 25.00%, fake 33.33%, real 16.67%] [G loss: 0.767132]\n",
            "29880 [D loss: 0.748808] [D acc.: 50.00%, fake 33.33%, real 66.67%] [G loss: 1.075898]\n"
          ],
          "name": "stdout"
        },
        {
          "output_type": "stream",
          "text": [
            "WARNING:root:Lossy conversion from float32 to uint8. Range [0, 1]. Convert image to uint8 prior to saving to suppress this warning.\n"
          ],
          "name": "stderr"
        },
        {
          "output_type": "stream",
          "text": [
            "29900 [D loss: 1.482318] [D acc.: 16.67%, fake 16.67%, real 16.67%] [G loss: 1.002378]\n",
            "29920 [D loss: 0.580114] [D acc.: 75.00%, fake 100.00%, real 50.00%] [G loss: 1.186825]\n",
            "29940 [D loss: 1.167428] [D acc.: 25.00%, fake 0.00%, real 50.00%] [G loss: 0.476793]\n",
            "29960 [D loss: 0.551514] [D acc.: 83.33%, fake 100.00%, real 66.67%] [G loss: 1.230203]\n",
            "29980 [D loss: 1.543481] [D acc.: 8.33%, fake 16.67%, real 0.00%] [G loss: 0.816302]\n"
          ],
          "name": "stdout"
        },
        {
          "output_type": "stream",
          "text": [
            "WARNING:root:Lossy conversion from float32 to uint8. Range [0, 1]. Convert image to uint8 prior to saving to suppress this warning.\n"
          ],
          "name": "stderr"
        },
        {
          "output_type": "stream",
          "text": [
            "30000 [D loss: 0.949550] [D acc.: 50.00%, fake 16.67%, real 83.33%] [G loss: 0.636342]\n"
          ],
          "name": "stdout"
        }
      ]
    },
    {
      "metadata": {
        "id": "w7FRguMAjIMF",
        "colab_type": "code",
        "colab": {
          "base_uri": "https://localhost:8080/",
          "height": 20505
        },
        "outputId": "ffe587d6-7b68-4498-f102-e65625a7df7c"
      },
      "cell_type": "code",
      "source": [
        "gan.train(epochs=20001, batch_size=batch_size, sample_interval=sample_interval)"
      ],
      "execution_count": 12,
      "outputs": [
        {
          "output_type": "stream",
          "text": [
            "/usr/local/lib/python3.6/dist-packages/keras/engine/training.py:490: UserWarning: Discrepancy between trainable weights and collected trainable weights, did you set `model.trainable` without calling `model.compile` after ?\n",
            "  'Discrepancy between trainable weights and collected trainable'\n",
            "WARNING:root:Lossy conversion from float32 to uint8. Range [0, 1]. Convert image to uint8 prior to saving to suppress this warning.\n"
          ],
          "name": "stderr"
        },
        {
          "output_type": "stream",
          "text": [
            "0 [D loss: 1.642206] [D acc.: 16.67%, fake 16.67%, real 16.67%] [G loss: 0.805506]\n",
            "20 [D loss: 0.352836] [D acc.: 83.33%, fake 83.33%, real 83.33%] [G loss: 0.724167]\n",
            "40 [D loss: 1.049989] [D acc.: 50.00%, fake 50.00%, real 50.00%] [G loss: 0.922175]\n",
            "60 [D loss: 1.131230] [D acc.: 33.33%, fake 16.67%, real 50.00%] [G loss: 0.536536]\n",
            "80 [D loss: 1.743490] [D acc.: 16.67%, fake 0.00%, real 33.33%] [G loss: 0.591029]\n"
          ],
          "name": "stdout"
        },
        {
          "output_type": "stream",
          "text": [
            "WARNING:root:Lossy conversion from float32 to uint8. Range [0, 1]. Convert image to uint8 prior to saving to suppress this warning.\n"
          ],
          "name": "stderr"
        },
        {
          "output_type": "stream",
          "text": [
            "100 [D loss: 1.137128] [D acc.: 33.33%, fake 33.33%, real 33.33%] [G loss: 0.429690]\n",
            "120 [D loss: 1.104249] [D acc.: 41.67%, fake 66.67%, real 16.67%] [G loss: 0.905949]\n",
            "140 [D loss: 0.695969] [D acc.: 50.00%, fake 16.67%, real 83.33%] [G loss: 1.112030]\n",
            "160 [D loss: 0.577588] [D acc.: 58.33%, fake 50.00%, real 66.67%] [G loss: 1.082252]\n",
            "180 [D loss: 2.484015] [D acc.: 16.67%, fake 0.00%, real 33.33%] [G loss: 1.077783]\n"
          ],
          "name": "stdout"
        },
        {
          "output_type": "stream",
          "text": [
            "WARNING:root:Lossy conversion from float32 to uint8. Range [0, 1]. Convert image to uint8 prior to saving to suppress this warning.\n"
          ],
          "name": "stderr"
        },
        {
          "output_type": "stream",
          "text": [
            "200 [D loss: 0.636609] [D acc.: 75.00%, fake 83.33%, real 66.67%] [G loss: 1.267820]\n",
            "220 [D loss: 1.348625] [D acc.: 25.00%, fake 16.67%, real 33.33%] [G loss: 0.869991]\n",
            "240 [D loss: 1.192320] [D acc.: 8.33%, fake 0.00%, real 16.67%] [G loss: 0.901259]\n",
            "260 [D loss: 1.124670] [D acc.: 8.33%, fake 0.00%, real 16.67%] [G loss: 0.914310]\n",
            "280 [D loss: 0.268059] [D acc.: 91.67%, fake 83.33%, real 100.00%] [G loss: 1.039065]\n"
          ],
          "name": "stdout"
        },
        {
          "output_type": "stream",
          "text": [
            "WARNING:root:Lossy conversion from float32 to uint8. Range [0, 1]. Convert image to uint8 prior to saving to suppress this warning.\n"
          ],
          "name": "stderr"
        },
        {
          "output_type": "stream",
          "text": [
            "300 [D loss: 1.073551] [D acc.: 41.67%, fake 50.00%, real 33.33%] [G loss: 0.898233]\n",
            "320 [D loss: 0.811721] [D acc.: 41.67%, fake 50.00%, real 33.33%] [G loss: 1.076297]\n",
            "340 [D loss: 1.137949] [D acc.: 16.67%, fake 0.00%, real 33.33%] [G loss: 0.561113]\n",
            "360 [D loss: 0.785511] [D acc.: 41.67%, fake 16.67%, real 66.67%] [G loss: 1.895588]\n",
            "380 [D loss: 0.467794] [D acc.: 83.33%, fake 83.33%, real 83.33%] [G loss: 0.745151]\n"
          ],
          "name": "stdout"
        },
        {
          "output_type": "stream",
          "text": [
            "WARNING:root:Lossy conversion from float32 to uint8. Range [0, 1]. Convert image to uint8 prior to saving to suppress this warning.\n"
          ],
          "name": "stderr"
        },
        {
          "output_type": "stream",
          "text": [
            "400 [D loss: 1.423533] [D acc.: 16.67%, fake 16.67%, real 16.67%] [G loss: 0.586095]\n",
            "420 [D loss: 1.171804] [D acc.: 41.67%, fake 33.33%, real 50.00%] [G loss: 1.768524]\n",
            "440 [D loss: 0.503797] [D acc.: 83.33%, fake 100.00%, real 66.67%] [G loss: 1.424408]\n",
            "460 [D loss: 0.466339] [D acc.: 83.33%, fake 66.67%, real 100.00%] [G loss: 1.681456]\n",
            "480 [D loss: 0.425680] [D acc.: 83.33%, fake 83.33%, real 83.33%] [G loss: 0.803024]\n"
          ],
          "name": "stdout"
        },
        {
          "output_type": "stream",
          "text": [
            "WARNING:root:Lossy conversion from float32 to uint8. Range [0, 1]. Convert image to uint8 prior to saving to suppress this warning.\n"
          ],
          "name": "stderr"
        },
        {
          "output_type": "stream",
          "text": [
            "500 [D loss: 0.569443] [D acc.: 75.00%, fake 83.33%, real 66.67%] [G loss: 0.212885]\n",
            "520 [D loss: 1.136933] [D acc.: 50.00%, fake 66.67%, real 33.33%] [G loss: 0.757147]\n",
            "540 [D loss: 1.127113] [D acc.: 41.67%, fake 83.33%, real 0.00%] [G loss: 2.234884]\n",
            "560 [D loss: 1.329529] [D acc.: 25.00%, fake 33.33%, real 16.67%] [G loss: 0.856040]\n",
            "580 [D loss: 1.589393] [D acc.: 25.00%, fake 0.00%, real 50.00%] [G loss: 0.524992]\n"
          ],
          "name": "stdout"
        },
        {
          "output_type": "stream",
          "text": [
            "WARNING:root:Lossy conversion from float32 to uint8. Range [0, 1]. Convert image to uint8 prior to saving to suppress this warning.\n"
          ],
          "name": "stderr"
        },
        {
          "output_type": "stream",
          "text": [
            "600 [D loss: 0.522373] [D acc.: 66.67%, fake 50.00%, real 83.33%] [G loss: 0.648578]\n",
            "620 [D loss: 0.888483] [D acc.: 66.67%, fake 83.33%, real 50.00%] [G loss: 1.844552]\n",
            "640 [D loss: 1.348371] [D acc.: 25.00%, fake 0.00%, real 50.00%] [G loss: 0.643136]\n",
            "660 [D loss: 1.273769] [D acc.: 58.33%, fake 83.33%, real 33.33%] [G loss: 0.593875]\n",
            "680 [D loss: 0.845185] [D acc.: 33.33%, fake 16.67%, real 50.00%] [G loss: 1.329566]\n"
          ],
          "name": "stdout"
        },
        {
          "output_type": "stream",
          "text": [
            "WARNING:root:Lossy conversion from float32 to uint8. Range [0, 1]. Convert image to uint8 prior to saving to suppress this warning.\n"
          ],
          "name": "stderr"
        },
        {
          "output_type": "stream",
          "text": [
            "700 [D loss: 1.070948] [D acc.: 50.00%, fake 83.33%, real 16.67%] [G loss: 1.388328]\n",
            "720 [D loss: 1.388989] [D acc.: 16.67%, fake 33.33%, real 0.00%] [G loss: 1.362410]\n",
            "740 [D loss: 0.926327] [D acc.: 41.67%, fake 33.33%, real 50.00%] [G loss: 1.140095]\n",
            "760 [D loss: 1.312433] [D acc.: 41.67%, fake 50.00%, real 33.33%] [G loss: 1.734848]\n",
            "780 [D loss: 0.987896] [D acc.: 66.67%, fake 100.00%, real 33.33%] [G loss: 0.234677]\n"
          ],
          "name": "stdout"
        },
        {
          "output_type": "stream",
          "text": [
            "WARNING:root:Lossy conversion from float32 to uint8. Range [0, 1]. Convert image to uint8 prior to saving to suppress this warning.\n"
          ],
          "name": "stderr"
        },
        {
          "output_type": "stream",
          "text": [
            "800 [D loss: 0.838994] [D acc.: 58.33%, fake 66.67%, real 50.00%] [G loss: 1.090841]\n",
            "820 [D loss: 1.372461] [D acc.: 8.33%, fake 0.00%, real 16.67%] [G loss: 0.987542]\n",
            "840 [D loss: 1.207378] [D acc.: 41.67%, fake 50.00%, real 33.33%] [G loss: 2.189542]\n",
            "860 [D loss: 1.401398] [D acc.: 16.67%, fake 33.33%, real 0.00%] [G loss: 0.784918]\n",
            "880 [D loss: 1.187235] [D acc.: 41.67%, fake 0.00%, real 83.33%] [G loss: 0.780150]\n"
          ],
          "name": "stdout"
        },
        {
          "output_type": "stream",
          "text": [
            "WARNING:root:Lossy conversion from float32 to uint8. Range [0, 1]. Convert image to uint8 prior to saving to suppress this warning.\n"
          ],
          "name": "stderr"
        },
        {
          "output_type": "stream",
          "text": [
            "900 [D loss: 0.618140] [D acc.: 75.00%, fake 100.00%, real 50.00%] [G loss: 1.722780]\n",
            "920 [D loss: 2.247807] [D acc.: 33.33%, fake 0.00%, real 66.67%] [G loss: 1.365034]\n",
            "940 [D loss: 1.185083] [D acc.: 25.00%, fake 33.33%, real 16.67%] [G loss: 0.799439]\n",
            "960 [D loss: 1.561214] [D acc.: 33.33%, fake 33.33%, real 33.33%] [G loss: 1.439813]\n",
            "980 [D loss: 1.041288] [D acc.: 41.67%, fake 50.00%, real 33.33%] [G loss: 0.787942]\n"
          ],
          "name": "stdout"
        },
        {
          "output_type": "stream",
          "text": [
            "WARNING:root:Lossy conversion from float32 to uint8. Range [0, 1]. Convert image to uint8 prior to saving to suppress this warning.\n"
          ],
          "name": "stderr"
        },
        {
          "output_type": "stream",
          "text": [
            "1000 [D loss: 1.961218] [D acc.: 8.33%, fake 16.67%, real 0.00%] [G loss: 1.219698]\n",
            "1020 [D loss: 1.160408] [D acc.: 50.00%, fake 33.33%, real 66.67%] [G loss: 1.626171]\n",
            "1040 [D loss: 0.852245] [D acc.: 41.67%, fake 16.67%, real 66.67%] [G loss: 0.932619]\n",
            "1060 [D loss: 1.194597] [D acc.: 16.67%, fake 16.67%, real 16.67%] [G loss: 0.944422]\n",
            "1080 [D loss: 1.330545] [D acc.: 16.67%, fake 0.00%, real 33.33%] [G loss: 0.956155]\n"
          ],
          "name": "stdout"
        },
        {
          "output_type": "stream",
          "text": [
            "WARNING:root:Lossy conversion from float32 to uint8. Range [0, 1]. Convert image to uint8 prior to saving to suppress this warning.\n"
          ],
          "name": "stderr"
        },
        {
          "output_type": "stream",
          "text": [
            "1100 [D loss: 0.917033] [D acc.: 66.67%, fake 100.00%, real 33.33%] [G loss: 1.618914]\n",
            "1120 [D loss: 0.689067] [D acc.: 33.33%, fake 0.00%, real 66.67%] [G loss: 0.982248]\n",
            "1140 [D loss: 1.462211] [D acc.: 16.67%, fake 0.00%, real 33.33%] [G loss: 0.444214]\n",
            "1160 [D loss: 0.778771] [D acc.: 58.33%, fake 50.00%, real 66.67%] [G loss: 1.669218]\n",
            "1180 [D loss: 1.054126] [D acc.: 16.67%, fake 16.67%, real 16.67%] [G loss: 0.581865]\n"
          ],
          "name": "stdout"
        },
        {
          "output_type": "stream",
          "text": [
            "WARNING:root:Lossy conversion from float32 to uint8. Range [0, 1]. Convert image to uint8 prior to saving to suppress this warning.\n"
          ],
          "name": "stderr"
        },
        {
          "output_type": "stream",
          "text": [
            "1200 [D loss: 1.043036] [D acc.: 33.33%, fake 33.33%, real 33.33%] [G loss: 0.922254]\n",
            "1220 [D loss: 0.842496] [D acc.: 50.00%, fake 66.67%, real 33.33%] [G loss: 1.236208]\n",
            "1240 [D loss: 0.594404] [D acc.: 66.67%, fake 66.67%, real 66.67%] [G loss: 2.011717]\n",
            "1260 [D loss: 1.938971] [D acc.: 16.67%, fake 16.67%, real 16.67%] [G loss: 0.762023]\n",
            "1280 [D loss: 1.093755] [D acc.: 16.67%, fake 0.00%, real 33.33%] [G loss: 0.807659]\n"
          ],
          "name": "stdout"
        },
        {
          "output_type": "stream",
          "text": [
            "WARNING:root:Lossy conversion from float32 to uint8. Range [0, 1]. Convert image to uint8 prior to saving to suppress this warning.\n"
          ],
          "name": "stderr"
        },
        {
          "output_type": "stream",
          "text": [
            "1300 [D loss: 0.544698] [D acc.: 75.00%, fake 66.67%, real 83.33%] [G loss: 1.125662]\n",
            "1320 [D loss: 1.312068] [D acc.: 16.67%, fake 0.00%, real 33.33%] [G loss: 0.711432]\n",
            "1340 [D loss: 0.712689] [D acc.: 66.67%, fake 50.00%, real 83.33%] [G loss: 1.724169]\n",
            "1360 [D loss: 0.818375] [D acc.: 33.33%, fake 16.67%, real 50.00%] [G loss: 0.406374]\n",
            "1380 [D loss: 1.842556] [D acc.: 0.00%, fake 0.00%, real 0.00%] [G loss: 1.823025]\n"
          ],
          "name": "stdout"
        },
        {
          "output_type": "stream",
          "text": [
            "WARNING:root:Lossy conversion from float32 to uint8. Range [0, 1]. Convert image to uint8 prior to saving to suppress this warning.\n"
          ],
          "name": "stderr"
        },
        {
          "output_type": "stream",
          "text": [
            "1400 [D loss: 1.660689] [D acc.: 0.00%, fake 0.00%, real 0.00%] [G loss: 0.383017]\n",
            "1420 [D loss: 2.198274] [D acc.: 8.33%, fake 0.00%, real 16.67%] [G loss: 1.051884]\n",
            "1440 [D loss: 0.818854] [D acc.: 50.00%, fake 50.00%, real 50.00%] [G loss: 1.434159]\n",
            "1460 [D loss: 0.293489] [D acc.: 91.67%, fake 100.00%, real 83.33%] [G loss: 1.074882]\n",
            "1480 [D loss: 1.111036] [D acc.: 25.00%, fake 0.00%, real 50.00%] [G loss: 1.374960]\n"
          ],
          "name": "stdout"
        },
        {
          "output_type": "stream",
          "text": [
            "WARNING:root:Lossy conversion from float32 to uint8. Range [0, 1]. Convert image to uint8 prior to saving to suppress this warning.\n"
          ],
          "name": "stderr"
        },
        {
          "output_type": "stream",
          "text": [
            "1500 [D loss: 0.730810] [D acc.: 58.33%, fake 100.00%, real 16.67%] [G loss: 0.808926]\n",
            "1520 [D loss: 1.229134] [D acc.: 33.33%, fake 33.33%, real 33.33%] [G loss: 0.735651]\n",
            "1540 [D loss: 0.396951] [D acc.: 75.00%, fake 83.33%, real 66.67%] [G loss: 1.554157]\n",
            "1560 [D loss: 1.315967] [D acc.: 16.67%, fake 33.33%, real 0.00%] [G loss: 1.152958]\n",
            "1580 [D loss: 0.877516] [D acc.: 25.00%, fake 0.00%, real 50.00%] [G loss: 1.016798]\n"
          ],
          "name": "stdout"
        },
        {
          "output_type": "stream",
          "text": [
            "WARNING:root:Lossy conversion from float32 to uint8. Range [0, 1]. Convert image to uint8 prior to saving to suppress this warning.\n"
          ],
          "name": "stderr"
        },
        {
          "output_type": "stream",
          "text": [
            "1600 [D loss: 0.623194] [D acc.: 58.33%, fake 66.67%, real 50.00%] [G loss: 1.421092]\n",
            "1620 [D loss: 1.279518] [D acc.: 16.67%, fake 16.67%, real 16.67%] [G loss: 1.840977]\n",
            "1640 [D loss: 0.839904] [D acc.: 41.67%, fake 50.00%, real 33.33%] [G loss: 1.370683]\n",
            "1660 [D loss: 0.704217] [D acc.: 58.33%, fake 50.00%, real 66.67%] [G loss: 1.172897]\n",
            "1680 [D loss: 0.795931] [D acc.: 33.33%, fake 16.67%, real 50.00%] [G loss: 1.219548]\n"
          ],
          "name": "stdout"
        },
        {
          "output_type": "stream",
          "text": [
            "WARNING:root:Lossy conversion from float32 to uint8. Range [0, 1]. Convert image to uint8 prior to saving to suppress this warning.\n"
          ],
          "name": "stderr"
        },
        {
          "output_type": "stream",
          "text": [
            "1700 [D loss: 1.100765] [D acc.: 33.33%, fake 33.33%, real 33.33%] [G loss: 0.498188]\n",
            "1720 [D loss: 1.251669] [D acc.: 16.67%, fake 0.00%, real 33.33%] [G loss: 0.368319]\n",
            "1740 [D loss: 0.734705] [D acc.: 75.00%, fake 100.00%, real 50.00%] [G loss: 1.328809]\n",
            "1760 [D loss: 0.956657] [D acc.: 41.67%, fake 33.33%, real 50.00%] [G loss: 0.455779]\n",
            "1780 [D loss: 1.386384] [D acc.: 41.67%, fake 33.33%, real 50.00%] [G loss: 2.234105]\n"
          ],
          "name": "stdout"
        },
        {
          "output_type": "stream",
          "text": [
            "WARNING:root:Lossy conversion from float32 to uint8. Range [0, 1]. Convert image to uint8 prior to saving to suppress this warning.\n"
          ],
          "name": "stderr"
        },
        {
          "output_type": "stream",
          "text": [
            "1800 [D loss: 0.631855] [D acc.: 58.33%, fake 50.00%, real 66.67%] [G loss: 0.654577]\n",
            "1820 [D loss: 1.331273] [D acc.: 25.00%, fake 16.67%, real 33.33%] [G loss: 1.591860]\n",
            "1840 [D loss: 1.548718] [D acc.: 0.00%, fake 0.00%, real 0.00%] [G loss: 0.616677]\n",
            "1860 [D loss: 1.384968] [D acc.: 50.00%, fake 83.33%, real 16.67%] [G loss: 1.161757]\n",
            "1880 [D loss: 0.992245] [D acc.: 41.67%, fake 33.33%, real 50.00%] [G loss: 1.024193]\n"
          ],
          "name": "stdout"
        },
        {
          "output_type": "stream",
          "text": [
            "WARNING:root:Lossy conversion from float32 to uint8. Range [0, 1]. Convert image to uint8 prior to saving to suppress this warning.\n"
          ],
          "name": "stderr"
        },
        {
          "output_type": "stream",
          "text": [
            "1900 [D loss: 0.585287] [D acc.: 58.33%, fake 33.33%, real 83.33%] [G loss: 1.171777]\n",
            "1920 [D loss: 1.116829] [D acc.: 16.67%, fake 0.00%, real 33.33%] [G loss: 1.546568]\n",
            "1940 [D loss: 0.329032] [D acc.: 100.00%, fake 100.00%, real 100.00%] [G loss: 1.964819]\n",
            "1960 [D loss: 0.710139] [D acc.: 58.33%, fake 66.67%, real 50.00%] [G loss: 1.836466]\n",
            "1980 [D loss: 0.484479] [D acc.: 75.00%, fake 83.33%, real 66.67%] [G loss: 2.336023]\n"
          ],
          "name": "stdout"
        },
        {
          "output_type": "stream",
          "text": [
            "WARNING:root:Lossy conversion from float32 to uint8. Range [0, 1]. Convert image to uint8 prior to saving to suppress this warning.\n"
          ],
          "name": "stderr"
        },
        {
          "output_type": "stream",
          "text": [
            "2000 [D loss: 0.379046] [D acc.: 75.00%, fake 50.00%, real 100.00%] [G loss: 1.637642]\n",
            "2020 [D loss: 1.311522] [D acc.: 16.67%, fake 16.67%, real 16.67%] [G loss: 1.940763]\n",
            "2040 [D loss: 1.395685] [D acc.: 8.33%, fake 0.00%, real 16.67%] [G loss: 0.298383]\n",
            "2060 [D loss: 1.278648] [D acc.: 41.67%, fake 33.33%, real 50.00%] [G loss: 1.514985]\n",
            "2080 [D loss: 0.672684] [D acc.: 66.67%, fake 83.33%, real 50.00%] [G loss: 1.650479]\n"
          ],
          "name": "stdout"
        },
        {
          "output_type": "stream",
          "text": [
            "WARNING:root:Lossy conversion from float32 to uint8. Range [0, 1]. Convert image to uint8 prior to saving to suppress this warning.\n"
          ],
          "name": "stderr"
        },
        {
          "output_type": "stream",
          "text": [
            "2100 [D loss: 0.916018] [D acc.: 50.00%, fake 50.00%, real 50.00%] [G loss: 0.923353]\n",
            "2120 [D loss: 0.804321] [D acc.: 66.67%, fake 83.33%, real 50.00%] [G loss: 1.147856]\n",
            "2140 [D loss: 0.763701] [D acc.: 33.33%, fake 16.67%, real 50.00%] [G loss: 1.082648]\n",
            "2160 [D loss: 1.901137] [D acc.: 8.33%, fake 16.67%, real 0.00%] [G loss: 1.787543]\n",
            "2180 [D loss: 0.989595] [D acc.: 8.33%, fake 0.00%, real 16.67%] [G loss: 1.188968]\n"
          ],
          "name": "stdout"
        },
        {
          "output_type": "stream",
          "text": [
            "WARNING:root:Lossy conversion from float32 to uint8. Range [0, 1]. Convert image to uint8 prior to saving to suppress this warning.\n"
          ],
          "name": "stderr"
        },
        {
          "output_type": "stream",
          "text": [
            "2200 [D loss: 0.604417] [D acc.: 58.33%, fake 50.00%, real 66.67%] [G loss: 1.218336]\n",
            "2220 [D loss: 0.619228] [D acc.: 66.67%, fake 50.00%, real 83.33%] [G loss: 0.935134]\n",
            "2240 [D loss: 0.796126] [D acc.: 50.00%, fake 33.33%, real 66.67%] [G loss: 0.696207]\n",
            "2260 [D loss: 1.365453] [D acc.: 8.33%, fake 0.00%, real 16.67%] [G loss: 0.959404]\n",
            "2280 [D loss: 1.041505] [D acc.: 50.00%, fake 33.33%, real 66.67%] [G loss: 0.986793]\n"
          ],
          "name": "stdout"
        },
        {
          "output_type": "stream",
          "text": [
            "WARNING:root:Lossy conversion from float32 to uint8. Range [0, 1]. Convert image to uint8 prior to saving to suppress this warning.\n"
          ],
          "name": "stderr"
        },
        {
          "output_type": "stream",
          "text": [
            "2300 [D loss: 1.564131] [D acc.: 25.00%, fake 33.33%, real 16.67%] [G loss: 0.582343]\n",
            "2320 [D loss: 0.473171] [D acc.: 83.33%, fake 83.33%, real 83.33%] [G loss: 0.441244]\n",
            "2340 [D loss: 1.398283] [D acc.: 8.33%, fake 0.00%, real 16.67%] [G loss: 0.856186]\n",
            "2360 [D loss: 0.659235] [D acc.: 66.67%, fake 66.67%, real 66.67%] [G loss: 0.964373]\n",
            "2380 [D loss: 1.087667] [D acc.: 16.67%, fake 0.00%, real 33.33%] [G loss: 0.925318]\n"
          ],
          "name": "stdout"
        },
        {
          "output_type": "stream",
          "text": [
            "WARNING:root:Lossy conversion from float32 to uint8. Range [0, 1]. Convert image to uint8 prior to saving to suppress this warning.\n"
          ],
          "name": "stderr"
        },
        {
          "output_type": "stream",
          "text": [
            "2400 [D loss: 1.383291] [D acc.: 8.33%, fake 16.67%, real 0.00%] [G loss: 1.373491]\n",
            "2420 [D loss: 1.163763] [D acc.: 25.00%, fake 16.67%, real 33.33%] [G loss: 0.833797]\n",
            "2440 [D loss: 1.041728] [D acc.: 50.00%, fake 66.67%, real 33.33%] [G loss: 1.359640]\n",
            "2460 [D loss: 1.289247] [D acc.: 41.67%, fake 50.00%, real 33.33%] [G loss: 0.542152]\n",
            "2480 [D loss: 1.154808] [D acc.: 33.33%, fake 33.33%, real 33.33%] [G loss: 0.579594]\n"
          ],
          "name": "stdout"
        },
        {
          "output_type": "stream",
          "text": [
            "WARNING:root:Lossy conversion from float32 to uint8. Range [0, 1]. Convert image to uint8 prior to saving to suppress this warning.\n"
          ],
          "name": "stderr"
        },
        {
          "output_type": "stream",
          "text": [
            "2500 [D loss: 0.718657] [D acc.: 83.33%, fake 100.00%, real 66.67%] [G loss: 0.714715]\n",
            "2520 [D loss: 0.593953] [D acc.: 83.33%, fake 100.00%, real 66.67%] [G loss: 1.865341]\n",
            "2540 [D loss: 1.532910] [D acc.: 25.00%, fake 16.67%, real 33.33%] [G loss: 0.836766]\n",
            "2560 [D loss: 1.001678] [D acc.: 8.33%, fake 0.00%, real 16.67%] [G loss: 0.514229]\n",
            "2580 [D loss: 1.003027] [D acc.: 58.33%, fake 83.33%, real 33.33%] [G loss: 0.919516]\n"
          ],
          "name": "stdout"
        },
        {
          "output_type": "stream",
          "text": [
            "WARNING:root:Lossy conversion from float32 to uint8. Range [0, 1]. Convert image to uint8 prior to saving to suppress this warning.\n"
          ],
          "name": "stderr"
        },
        {
          "output_type": "stream",
          "text": [
            "2600 [D loss: 1.068988] [D acc.: 41.67%, fake 50.00%, real 33.33%] [G loss: 0.861209]\n",
            "2620 [D loss: 1.424036] [D acc.: 41.67%, fake 50.00%, real 33.33%] [G loss: 0.875785]\n",
            "2640 [D loss: 0.788265] [D acc.: 58.33%, fake 66.67%, real 50.00%] [G loss: 1.010202]\n",
            "2660 [D loss: 2.076771] [D acc.: 16.67%, fake 33.33%, real 0.00%] [G loss: 0.494437]\n",
            "2680 [D loss: 2.321154] [D acc.: 0.00%, fake 0.00%, real 0.00%] [G loss: 0.192007]\n"
          ],
          "name": "stdout"
        },
        {
          "output_type": "stream",
          "text": [
            "WARNING:root:Lossy conversion from float32 to uint8. Range [0, 1]. Convert image to uint8 prior to saving to suppress this warning.\n"
          ],
          "name": "stderr"
        },
        {
          "output_type": "stream",
          "text": [
            "2700 [D loss: 0.844289] [D acc.: 41.67%, fake 33.33%, real 50.00%] [G loss: 0.852676]\n",
            "2720 [D loss: 0.727374] [D acc.: 50.00%, fake 50.00%, real 50.00%] [G loss: 1.413602]\n",
            "2740 [D loss: 1.001490] [D acc.: 33.33%, fake 33.33%, real 33.33%] [G loss: 1.937041]\n",
            "2760 [D loss: 1.511435] [D acc.: 16.67%, fake 0.00%, real 33.33%] [G loss: 1.300126]\n",
            "2780 [D loss: 1.111817] [D acc.: 41.67%, fake 33.33%, real 50.00%] [G loss: 0.651464]\n"
          ],
          "name": "stdout"
        },
        {
          "output_type": "stream",
          "text": [
            "WARNING:root:Lossy conversion from float32 to uint8. Range [0, 1]. Convert image to uint8 prior to saving to suppress this warning.\n"
          ],
          "name": "stderr"
        },
        {
          "output_type": "stream",
          "text": [
            "2800 [D loss: 0.417806] [D acc.: 91.67%, fake 100.00%, real 83.33%] [G loss: 0.481865]\n",
            "2820 [D loss: 1.363569] [D acc.: 25.00%, fake 16.67%, real 33.33%] [G loss: 0.703828]\n",
            "2840 [D loss: 0.760608] [D acc.: 66.67%, fake 83.33%, real 50.00%] [G loss: 2.115592]\n",
            "2860 [D loss: 1.372135] [D acc.: 16.67%, fake 33.33%, real 0.00%] [G loss: 1.809716]\n",
            "2880 [D loss: 1.014471] [D acc.: 8.33%, fake 16.67%, real 0.00%] [G loss: 0.842187]\n"
          ],
          "name": "stdout"
        },
        {
          "output_type": "stream",
          "text": [
            "WARNING:root:Lossy conversion from float32 to uint8. Range [0, 1]. Convert image to uint8 prior to saving to suppress this warning.\n"
          ],
          "name": "stderr"
        },
        {
          "output_type": "stream",
          "text": [
            "2900 [D loss: 1.332742] [D acc.: 41.67%, fake 66.67%, real 16.67%] [G loss: 2.125921]\n",
            "2920 [D loss: 2.732404] [D acc.: 0.00%, fake 0.00%, real 0.00%] [G loss: 0.430875]\n",
            "2940 [D loss: 1.576170] [D acc.: 33.33%, fake 50.00%, real 16.67%] [G loss: 2.022205]\n",
            "2960 [D loss: 0.485794] [D acc.: 66.67%, fake 50.00%, real 83.33%] [G loss: 0.688072]\n",
            "2980 [D loss: 1.599288] [D acc.: 8.33%, fake 0.00%, real 16.67%] [G loss: 1.391565]\n"
          ],
          "name": "stdout"
        },
        {
          "output_type": "stream",
          "text": [
            "WARNING:root:Lossy conversion from float32 to uint8. Range [0, 1]. Convert image to uint8 prior to saving to suppress this warning.\n"
          ],
          "name": "stderr"
        },
        {
          "output_type": "stream",
          "text": [
            "3000 [D loss: 1.197218] [D acc.: 25.00%, fake 33.33%, real 16.67%] [G loss: 0.856973]\n",
            "3020 [D loss: 0.847056] [D acc.: 41.67%, fake 50.00%, real 33.33%] [G loss: 1.554790]\n",
            "3040 [D loss: 0.542419] [D acc.: 83.33%, fake 100.00%, real 66.67%] [G loss: 0.399719]\n",
            "3060 [D loss: 0.672423] [D acc.: 58.33%, fake 66.67%, real 50.00%] [G loss: 1.670854]\n",
            "3080 [D loss: 0.841942] [D acc.: 50.00%, fake 66.67%, real 33.33%] [G loss: 1.326249]\n"
          ],
          "name": "stdout"
        },
        {
          "output_type": "stream",
          "text": [
            "WARNING:root:Lossy conversion from float32 to uint8. Range [0, 1]. Convert image to uint8 prior to saving to suppress this warning.\n"
          ],
          "name": "stderr"
        },
        {
          "output_type": "stream",
          "text": [
            "3100 [D loss: 0.932922] [D acc.: 33.33%, fake 33.33%, real 33.33%] [G loss: 0.757645]\n",
            "3120 [D loss: 1.013035] [D acc.: 41.67%, fake 66.67%, real 16.67%] [G loss: 1.046278]\n",
            "3140 [D loss: 1.018580] [D acc.: 25.00%, fake 0.00%, real 50.00%] [G loss: 1.103859]\n",
            "3160 [D loss: 0.837907] [D acc.: 58.33%, fake 50.00%, real 66.67%] [G loss: 0.960659]\n",
            "3180 [D loss: 1.118531] [D acc.: 33.33%, fake 16.67%, real 50.00%] [G loss: 0.587821]\n"
          ],
          "name": "stdout"
        },
        {
          "output_type": "stream",
          "text": [
            "WARNING:root:Lossy conversion from float32 to uint8. Range [0, 1]. Convert image to uint8 prior to saving to suppress this warning.\n"
          ],
          "name": "stderr"
        },
        {
          "output_type": "stream",
          "text": [
            "3200 [D loss: 1.362903] [D acc.: 8.33%, fake 0.00%, real 16.67%] [G loss: 0.749579]\n",
            "3220 [D loss: 1.256559] [D acc.: 33.33%, fake 33.33%, real 33.33%] [G loss: 0.875030]\n",
            "3240 [D loss: 1.336535] [D acc.: 25.00%, fake 33.33%, real 16.67%] [G loss: 0.739136]\n",
            "3260 [D loss: 0.981080] [D acc.: 50.00%, fake 16.67%, real 83.33%] [G loss: 0.499287]\n",
            "3280 [D loss: 1.080657] [D acc.: 58.33%, fake 83.33%, real 33.33%] [G loss: 1.137018]\n"
          ],
          "name": "stdout"
        },
        {
          "output_type": "stream",
          "text": [
            "WARNING:root:Lossy conversion from float32 to uint8. Range [0, 1]. Convert image to uint8 prior to saving to suppress this warning.\n"
          ],
          "name": "stderr"
        },
        {
          "output_type": "stream",
          "text": [
            "3300 [D loss: 1.326307] [D acc.: 33.33%, fake 16.67%, real 50.00%] [G loss: 1.115294]\n",
            "3320 [D loss: 1.421667] [D acc.: 25.00%, fake 0.00%, real 50.00%] [G loss: 1.308243]\n",
            "3340 [D loss: 1.053164] [D acc.: 41.67%, fake 50.00%, real 33.33%] [G loss: 0.756560]\n",
            "3360 [D loss: 1.639814] [D acc.: 8.33%, fake 0.00%, real 16.67%] [G loss: 0.568541]\n",
            "3380 [D loss: 1.494131] [D acc.: 8.33%, fake 0.00%, real 16.67%] [G loss: 1.109494]\n"
          ],
          "name": "stdout"
        },
        {
          "output_type": "stream",
          "text": [
            "WARNING:root:Lossy conversion from float32 to uint8. Range [0, 1]. Convert image to uint8 prior to saving to suppress this warning.\n"
          ],
          "name": "stderr"
        },
        {
          "output_type": "stream",
          "text": [
            "3400 [D loss: 1.147543] [D acc.: 25.00%, fake 0.00%, real 50.00%] [G loss: 0.562780]\n",
            "3420 [D loss: 0.791022] [D acc.: 50.00%, fake 66.67%, real 33.33%] [G loss: 0.196660]\n",
            "3440 [D loss: 0.653794] [D acc.: 58.33%, fake 33.33%, real 83.33%] [G loss: 0.555508]\n",
            "3460 [D loss: 1.076004] [D acc.: 33.33%, fake 0.00%, real 66.67%] [G loss: 0.784653]\n",
            "3480 [D loss: 1.531688] [D acc.: 8.33%, fake 0.00%, real 16.67%] [G loss: 0.799645]\n"
          ],
          "name": "stdout"
        },
        {
          "output_type": "stream",
          "text": [
            "WARNING:root:Lossy conversion from float32 to uint8. Range [0, 1]. Convert image to uint8 prior to saving to suppress this warning.\n"
          ],
          "name": "stderr"
        },
        {
          "output_type": "stream",
          "text": [
            "3500 [D loss: 0.688052] [D acc.: 66.67%, fake 83.33%, real 50.00%] [G loss: 0.981251]\n",
            "3520 [D loss: 0.822425] [D acc.: 25.00%, fake 33.33%, real 16.67%] [G loss: 1.125903]\n",
            "3540 [D loss: 0.538914] [D acc.: 66.67%, fake 100.00%, real 33.33%] [G loss: 2.008349]\n",
            "3560 [D loss: 0.925507] [D acc.: 41.67%, fake 33.33%, real 50.00%] [G loss: 0.868591]\n",
            "3580 [D loss: 0.705461] [D acc.: 50.00%, fake 33.33%, real 66.67%] [G loss: 1.572221]\n"
          ],
          "name": "stdout"
        },
        {
          "output_type": "stream",
          "text": [
            "WARNING:root:Lossy conversion from float32 to uint8. Range [0, 1]. Convert image to uint8 prior to saving to suppress this warning.\n"
          ],
          "name": "stderr"
        },
        {
          "output_type": "stream",
          "text": [
            "3600 [D loss: 1.281552] [D acc.: 8.33%, fake 0.00%, real 16.67%] [G loss: 1.011409]\n",
            "3620 [D loss: 1.219599] [D acc.: 25.00%, fake 0.00%, real 50.00%] [G loss: 0.714009]\n",
            "3640 [D loss: 0.660082] [D acc.: 58.33%, fake 83.33%, real 33.33%] [G loss: 1.278866]\n",
            "3660 [D loss: 1.129837] [D acc.: 16.67%, fake 0.00%, real 33.33%] [G loss: 0.598427]\n",
            "3680 [D loss: 1.649467] [D acc.: 16.67%, fake 16.67%, real 16.67%] [G loss: 1.565018]\n"
          ],
          "name": "stdout"
        },
        {
          "output_type": "stream",
          "text": [
            "WARNING:root:Lossy conversion from float32 to uint8. Range [0, 1]. Convert image to uint8 prior to saving to suppress this warning.\n"
          ],
          "name": "stderr"
        },
        {
          "output_type": "stream",
          "text": [
            "3700 [D loss: 0.771921] [D acc.: 58.33%, fake 33.33%, real 83.33%] [G loss: 0.734847]\n",
            "3720 [D loss: 0.813918] [D acc.: 58.33%, fake 50.00%, real 66.67%] [G loss: 1.056419]\n",
            "3740 [D loss: 1.406976] [D acc.: 16.67%, fake 16.67%, real 16.67%] [G loss: 1.148951]\n",
            "3760 [D loss: 0.885827] [D acc.: 33.33%, fake 0.00%, real 66.67%] [G loss: 2.139222]\n",
            "3780 [D loss: 2.592201] [D acc.: 8.33%, fake 0.00%, real 16.67%] [G loss: 0.547753]\n"
          ],
          "name": "stdout"
        },
        {
          "output_type": "stream",
          "text": [
            "WARNING:root:Lossy conversion from float32 to uint8. Range [0, 1]. Convert image to uint8 prior to saving to suppress this warning.\n"
          ],
          "name": "stderr"
        },
        {
          "output_type": "stream",
          "text": [
            "3800 [D loss: 0.385317] [D acc.: 83.33%, fake 83.33%, real 83.33%] [G loss: 0.761255]\n",
            "3820 [D loss: 1.351134] [D acc.: 16.67%, fake 33.33%, real 0.00%] [G loss: 1.176854]\n",
            "3840 [D loss: 0.757775] [D acc.: 50.00%, fake 16.67%, real 83.33%] [G loss: 0.747648]\n",
            "3860 [D loss: 1.163708] [D acc.: 16.67%, fake 0.00%, real 33.33%] [G loss: 0.392201]\n",
            "3880 [D loss: 0.829619] [D acc.: 50.00%, fake 50.00%, real 50.00%] [G loss: 0.881636]\n"
          ],
          "name": "stdout"
        },
        {
          "output_type": "stream",
          "text": [
            "WARNING:root:Lossy conversion from float32 to uint8. Range [0, 1]. Convert image to uint8 prior to saving to suppress this warning.\n"
          ],
          "name": "stderr"
        },
        {
          "output_type": "stream",
          "text": [
            "3900 [D loss: 1.060521] [D acc.: 25.00%, fake 0.00%, real 50.00%] [G loss: 1.153057]\n",
            "3920 [D loss: 1.558179] [D acc.: 41.67%, fake 16.67%, real 66.67%] [G loss: 0.765506]\n",
            "3940 [D loss: 0.978093] [D acc.: 33.33%, fake 0.00%, real 66.67%] [G loss: 0.167877]\n",
            "3960 [D loss: 2.227783] [D acc.: 8.33%, fake 16.67%, real 0.00%] [G loss: 0.371683]\n",
            "3980 [D loss: 0.679013] [D acc.: 41.67%, fake 16.67%, real 66.67%] [G loss: 0.395778]\n"
          ],
          "name": "stdout"
        },
        {
          "output_type": "stream",
          "text": [
            "WARNING:root:Lossy conversion from float32 to uint8. Range [0, 1]. Convert image to uint8 prior to saving to suppress this warning.\n"
          ],
          "name": "stderr"
        },
        {
          "output_type": "stream",
          "text": [
            "4000 [D loss: 1.236700] [D acc.: 8.33%, fake 0.00%, real 16.67%] [G loss: 0.830195]\n",
            "4020 [D loss: 1.110494] [D acc.: 0.00%, fake 0.00%, real 0.00%] [G loss: 0.589918]\n",
            "4040 [D loss: 0.882582] [D acc.: 33.33%, fake 16.67%, real 50.00%] [G loss: 0.788007]\n",
            "4060 [D loss: 0.741471] [D acc.: 41.67%, fake 33.33%, real 50.00%] [G loss: 0.541152]\n",
            "4080 [D loss: 0.430552] [D acc.: 75.00%, fake 83.33%, real 66.67%] [G loss: 2.753801]\n"
          ],
          "name": "stdout"
        },
        {
          "output_type": "stream",
          "text": [
            "WARNING:root:Lossy conversion from float32 to uint8. Range [0, 1]. Convert image to uint8 prior to saving to suppress this warning.\n"
          ],
          "name": "stderr"
        },
        {
          "output_type": "stream",
          "text": [
            "4100 [D loss: 0.992478] [D acc.: 25.00%, fake 16.67%, real 33.33%] [G loss: 0.860531]\n",
            "4120 [D loss: 1.107393] [D acc.: 66.67%, fake 100.00%, real 33.33%] [G loss: 1.645208]\n",
            "4140 [D loss: 0.940327] [D acc.: 25.00%, fake 16.67%, real 33.33%] [G loss: 0.917166]\n",
            "4160 [D loss: 0.959393] [D acc.: 50.00%, fake 66.67%, real 33.33%] [G loss: 1.748260]\n",
            "4180 [D loss: 0.549440] [D acc.: 58.33%, fake 33.33%, real 83.33%] [G loss: 1.204941]\n"
          ],
          "name": "stdout"
        },
        {
          "output_type": "stream",
          "text": [
            "WARNING:root:Lossy conversion from float32 to uint8. Range [0, 1]. Convert image to uint8 prior to saving to suppress this warning.\n"
          ],
          "name": "stderr"
        },
        {
          "output_type": "stream",
          "text": [
            "4200 [D loss: 0.591331] [D acc.: 66.67%, fake 50.00%, real 83.33%] [G loss: 0.570715]\n",
            "4220 [D loss: 0.632865] [D acc.: 66.67%, fake 50.00%, real 83.33%] [G loss: 1.421755]\n",
            "4240 [D loss: 0.761063] [D acc.: 50.00%, fake 66.67%, real 33.33%] [G loss: 0.896622]\n",
            "4260 [D loss: 0.644804] [D acc.: 58.33%, fake 50.00%, real 66.67%] [G loss: 0.968313]\n",
            "4280 [D loss: 0.816734] [D acc.: 41.67%, fake 16.67%, real 66.67%] [G loss: 0.960969]\n"
          ],
          "name": "stdout"
        },
        {
          "output_type": "stream",
          "text": [
            "WARNING:root:Lossy conversion from float32 to uint8. Range [0, 1]. Convert image to uint8 prior to saving to suppress this warning.\n"
          ],
          "name": "stderr"
        },
        {
          "output_type": "stream",
          "text": [
            "4300 [D loss: 1.210484] [D acc.: 33.33%, fake 66.67%, real 0.00%] [G loss: 1.328434]\n",
            "4320 [D loss: 0.990661] [D acc.: 16.67%, fake 16.67%, real 16.67%] [G loss: 1.073164]\n",
            "4340 [D loss: 0.558258] [D acc.: 66.67%, fake 66.67%, real 66.67%] [G loss: 0.789428]\n",
            "4360 [D loss: 1.092991] [D acc.: 16.67%, fake 0.00%, real 33.33%] [G loss: 0.783415]\n",
            "4380 [D loss: 0.721907] [D acc.: 25.00%, fake 0.00%, real 50.00%] [G loss: 0.885896]\n"
          ],
          "name": "stdout"
        },
        {
          "output_type": "stream",
          "text": [
            "WARNING:root:Lossy conversion from float32 to uint8. Range [0, 1]. Convert image to uint8 prior to saving to suppress this warning.\n"
          ],
          "name": "stderr"
        },
        {
          "output_type": "stream",
          "text": [
            "4400 [D loss: 0.622370] [D acc.: 75.00%, fake 83.33%, real 66.67%] [G loss: 0.911603]\n",
            "4420 [D loss: 0.965432] [D acc.: 41.67%, fake 33.33%, real 50.00%] [G loss: 0.601322]\n",
            "4440 [D loss: 1.426193] [D acc.: 25.00%, fake 0.00%, real 50.00%] [G loss: 0.836204]\n",
            "4460 [D loss: 1.047003] [D acc.: 33.33%, fake 50.00%, real 16.67%] [G loss: 1.332229]\n",
            "4480 [D loss: 0.766736] [D acc.: 41.67%, fake 16.67%, real 66.67%] [G loss: 0.843837]\n"
          ],
          "name": "stdout"
        },
        {
          "output_type": "stream",
          "text": [
            "WARNING:root:Lossy conversion from float32 to uint8. Range [0, 1]. Convert image to uint8 prior to saving to suppress this warning.\n"
          ],
          "name": "stderr"
        },
        {
          "output_type": "stream",
          "text": [
            "4500 [D loss: 1.207167] [D acc.: 50.00%, fake 66.67%, real 33.33%] [G loss: 3.320847]\n",
            "4520 [D loss: 1.168816] [D acc.: 16.67%, fake 16.67%, real 16.67%] [G loss: 1.178029]\n",
            "4540 [D loss: 1.067626] [D acc.: 25.00%, fake 33.33%, real 16.67%] [G loss: 0.937452]\n",
            "4560 [D loss: 0.943146] [D acc.: 25.00%, fake 33.33%, real 16.67%] [G loss: 0.476944]\n",
            "4580 [D loss: 1.369314] [D acc.: 16.67%, fake 16.67%, real 16.67%] [G loss: 0.699551]\n"
          ],
          "name": "stdout"
        },
        {
          "output_type": "stream",
          "text": [
            "WARNING:root:Lossy conversion from float32 to uint8. Range [0, 1]. Convert image to uint8 prior to saving to suppress this warning.\n"
          ],
          "name": "stderr"
        },
        {
          "output_type": "stream",
          "text": [
            "4600 [D loss: 1.437171] [D acc.: 41.67%, fake 83.33%, real 0.00%] [G loss: 1.285737]\n",
            "4620 [D loss: 1.230519] [D acc.: 16.67%, fake 0.00%, real 33.33%] [G loss: 0.836110]\n",
            "4640 [D loss: 0.858557] [D acc.: 33.33%, fake 16.67%, real 50.00%] [G loss: 0.862478]\n",
            "4660 [D loss: 1.298322] [D acc.: 25.00%, fake 16.67%, real 33.33%] [G loss: 0.762426]\n",
            "4680 [D loss: 1.223172] [D acc.: 0.00%, fake 0.00%, real 0.00%] [G loss: 0.796116]\n"
          ],
          "name": "stdout"
        },
        {
          "output_type": "stream",
          "text": [
            "WARNING:root:Lossy conversion from float32 to uint8. Range [0, 1]. Convert image to uint8 prior to saving to suppress this warning.\n"
          ],
          "name": "stderr"
        },
        {
          "output_type": "stream",
          "text": [
            "4700 [D loss: 0.963240] [D acc.: 41.67%, fake 33.33%, real 50.00%] [G loss: 1.048043]\n",
            "4720 [D loss: 1.451394] [D acc.: 16.67%, fake 16.67%, real 16.67%] [G loss: 0.815334]\n",
            "4740 [D loss: 0.713568] [D acc.: 58.33%, fake 33.33%, real 83.33%] [G loss: 1.025927]\n",
            "4760 [D loss: 0.407594] [D acc.: 75.00%, fake 66.67%, real 83.33%] [G loss: 0.751214]\n",
            "4780 [D loss: 1.247135] [D acc.: 16.67%, fake 16.67%, real 16.67%] [G loss: 0.706168]\n"
          ],
          "name": "stdout"
        },
        {
          "output_type": "stream",
          "text": [
            "WARNING:root:Lossy conversion from float32 to uint8. Range [0, 1]. Convert image to uint8 prior to saving to suppress this warning.\n"
          ],
          "name": "stderr"
        },
        {
          "output_type": "stream",
          "text": [
            "4800 [D loss: 1.287903] [D acc.: 16.67%, fake 0.00%, real 33.33%] [G loss: 1.322415]\n",
            "4820 [D loss: 2.549821] [D acc.: 8.33%, fake 0.00%, real 16.67%] [G loss: 0.406628]\n",
            "4840 [D loss: 0.957948] [D acc.: 33.33%, fake 16.67%, real 50.00%] [G loss: 0.538770]\n",
            "4860 [D loss: 1.065256] [D acc.: 16.67%, fake 0.00%, real 33.33%] [G loss: 1.127027]\n",
            "4880 [D loss: 1.217306] [D acc.: 8.33%, fake 0.00%, real 16.67%] [G loss: 0.746401]\n"
          ],
          "name": "stdout"
        },
        {
          "output_type": "stream",
          "text": [
            "WARNING:root:Lossy conversion from float32 to uint8. Range [0, 1]. Convert image to uint8 prior to saving to suppress this warning.\n"
          ],
          "name": "stderr"
        },
        {
          "output_type": "stream",
          "text": [
            "4900 [D loss: 1.039109] [D acc.: 33.33%, fake 50.00%, real 16.67%] [G loss: 1.475082]\n",
            "4920 [D loss: 0.596404] [D acc.: 66.67%, fake 66.67%, real 66.67%] [G loss: 0.938578]\n",
            "4940 [D loss: 0.893386] [D acc.: 58.33%, fake 83.33%, real 33.33%] [G loss: 1.336764]\n",
            "4960 [D loss: 1.368729] [D acc.: 8.33%, fake 0.00%, real 16.67%] [G loss: 0.974437]\n",
            "4980 [D loss: 1.513845] [D acc.: 25.00%, fake 33.33%, real 16.67%] [G loss: 1.782841]\n"
          ],
          "name": "stdout"
        },
        {
          "output_type": "stream",
          "text": [
            "WARNING:root:Lossy conversion from float32 to uint8. Range [0, 1]. Convert image to uint8 prior to saving to suppress this warning.\n"
          ],
          "name": "stderr"
        },
        {
          "output_type": "stream",
          "text": [
            "5000 [D loss: 0.898980] [D acc.: 33.33%, fake 50.00%, real 16.67%] [G loss: 1.322366]\n",
            "5020 [D loss: 1.080190] [D acc.: 41.67%, fake 33.33%, real 50.00%] [G loss: 1.278786]\n",
            "5040 [D loss: 0.653193] [D acc.: 58.33%, fake 33.33%, real 83.33%] [G loss: 1.109251]\n",
            "5060 [D loss: 1.228330] [D acc.: 16.67%, fake 0.00%, real 33.33%] [G loss: 0.899393]\n",
            "5080 [D loss: 0.941210] [D acc.: 33.33%, fake 33.33%, real 33.33%] [G loss: 1.741563]\n"
          ],
          "name": "stdout"
        },
        {
          "output_type": "stream",
          "text": [
            "WARNING:root:Lossy conversion from float32 to uint8. Range [0, 1]. Convert image to uint8 prior to saving to suppress this warning.\n"
          ],
          "name": "stderr"
        },
        {
          "output_type": "stream",
          "text": [
            "5100 [D loss: 1.411482] [D acc.: 25.00%, fake 33.33%, real 16.67%] [G loss: 1.191403]\n",
            "5120 [D loss: 1.358644] [D acc.: 16.67%, fake 0.00%, real 33.33%] [G loss: 0.719512]\n",
            "5140 [D loss: 1.047069] [D acc.: 41.67%, fake 16.67%, real 66.67%] [G loss: 1.256191]\n",
            "5160 [D loss: 1.194768] [D acc.: 8.33%, fake 0.00%, real 16.67%] [G loss: 1.109024]\n",
            "5180 [D loss: 0.675351] [D acc.: 41.67%, fake 16.67%, real 66.67%] [G loss: 0.421486]\n"
          ],
          "name": "stdout"
        },
        {
          "output_type": "stream",
          "text": [
            "WARNING:root:Lossy conversion from float32 to uint8. Range [0, 1]. Convert image to uint8 prior to saving to suppress this warning.\n"
          ],
          "name": "stderr"
        },
        {
          "output_type": "stream",
          "text": [
            "5200 [D loss: 0.846538] [D acc.: 41.67%, fake 16.67%, real 66.67%] [G loss: 1.223742]\n",
            "5220 [D loss: 1.161674] [D acc.: 16.67%, fake 0.00%, real 33.33%] [G loss: 1.110517]\n",
            "5240 [D loss: 1.229213] [D acc.: 16.67%, fake 0.00%, real 33.33%] [G loss: 0.356339]\n",
            "5260 [D loss: 0.917783] [D acc.: 50.00%, fake 33.33%, real 66.67%] [G loss: 0.690536]\n",
            "5280 [D loss: 0.775787] [D acc.: 66.67%, fake 83.33%, real 50.00%] [G loss: 1.225974]\n"
          ],
          "name": "stdout"
        },
        {
          "output_type": "stream",
          "text": [
            "WARNING:root:Lossy conversion from float32 to uint8. Range [0, 1]. Convert image to uint8 prior to saving to suppress this warning.\n"
          ],
          "name": "stderr"
        },
        {
          "output_type": "stream",
          "text": [
            "5300 [D loss: 1.036487] [D acc.: 25.00%, fake 16.67%, real 33.33%] [G loss: 0.699471]\n",
            "5320 [D loss: 0.406659] [D acc.: 91.67%, fake 100.00%, real 83.33%] [G loss: 1.550180]\n",
            "5340 [D loss: 1.336364] [D acc.: 16.67%, fake 0.00%, real 33.33%] [G loss: 0.820895]\n",
            "5360 [D loss: 0.766915] [D acc.: 50.00%, fake 33.33%, real 66.67%] [G loss: 0.604758]\n",
            "5380 [D loss: 0.988823] [D acc.: 25.00%, fake 16.67%, real 33.33%] [G loss: 0.986823]\n"
          ],
          "name": "stdout"
        },
        {
          "output_type": "stream",
          "text": [
            "WARNING:root:Lossy conversion from float32 to uint8. Range [0, 1]. Convert image to uint8 prior to saving to suppress this warning.\n"
          ],
          "name": "stderr"
        },
        {
          "output_type": "stream",
          "text": [
            "5400 [D loss: 1.279636] [D acc.: 41.67%, fake 33.33%, real 50.00%] [G loss: 1.925439]\n",
            "5420 [D loss: 0.980265] [D acc.: 33.33%, fake 16.67%, real 50.00%] [G loss: 0.880770]\n",
            "5440 [D loss: 1.520346] [D acc.: 33.33%, fake 50.00%, real 16.67%] [G loss: 1.173081]\n",
            "5460 [D loss: 1.347120] [D acc.: 16.67%, fake 16.67%, real 16.67%] [G loss: 1.247353]\n",
            "5480 [D loss: 1.211608] [D acc.: 41.67%, fake 66.67%, real 16.67%] [G loss: 0.866106]\n"
          ],
          "name": "stdout"
        },
        {
          "output_type": "stream",
          "text": [
            "WARNING:root:Lossy conversion from float32 to uint8. Range [0, 1]. Convert image to uint8 prior to saving to suppress this warning.\n"
          ],
          "name": "stderr"
        },
        {
          "output_type": "stream",
          "text": [
            "5500 [D loss: 0.451413] [D acc.: 83.33%, fake 100.00%, real 66.67%] [G loss: 0.582235]\n",
            "5520 [D loss: 1.144982] [D acc.: 25.00%, fake 33.33%, real 16.67%] [G loss: 0.729629]\n",
            "5540 [D loss: 0.871251] [D acc.: 50.00%, fake 50.00%, real 50.00%] [G loss: 0.977902]\n",
            "5560 [D loss: 0.822469] [D acc.: 50.00%, fake 33.33%, real 66.67%] [G loss: 0.803178]\n",
            "5580 [D loss: 0.862109] [D acc.: 50.00%, fake 83.33%, real 16.67%] [G loss: 1.062375]\n"
          ],
          "name": "stdout"
        },
        {
          "output_type": "stream",
          "text": [
            "WARNING:root:Lossy conversion from float32 to uint8. Range [0, 1]. Convert image to uint8 prior to saving to suppress this warning.\n"
          ],
          "name": "stderr"
        },
        {
          "output_type": "stream",
          "text": [
            "5600 [D loss: 0.660552] [D acc.: 50.00%, fake 50.00%, real 50.00%] [G loss: 1.190705]\n",
            "5620 [D loss: 1.050001] [D acc.: 25.00%, fake 33.33%, real 16.67%] [G loss: 1.416829]\n",
            "5640 [D loss: 0.921259] [D acc.: 25.00%, fake 16.67%, real 33.33%] [G loss: 0.928436]\n",
            "5660 [D loss: 1.173949] [D acc.: 16.67%, fake 0.00%, real 33.33%] [G loss: 0.847464]\n",
            "5680 [D loss: 0.964415] [D acc.: 58.33%, fake 100.00%, real 16.67%] [G loss: 0.914099]\n"
          ],
          "name": "stdout"
        },
        {
          "output_type": "stream",
          "text": [
            "WARNING:root:Lossy conversion from float32 to uint8. Range [0, 1]. Convert image to uint8 prior to saving to suppress this warning.\n"
          ],
          "name": "stderr"
        },
        {
          "output_type": "stream",
          "text": [
            "5700 [D loss: 1.070321] [D acc.: 33.33%, fake 33.33%, real 33.33%] [G loss: 0.951366]\n",
            "5720 [D loss: 1.193078] [D acc.: 25.00%, fake 16.67%, real 33.33%] [G loss: 1.724157]\n",
            "5740 [D loss: 0.833454] [D acc.: 41.67%, fake 16.67%, real 66.67%] [G loss: 1.221560]\n",
            "5760 [D loss: 1.210637] [D acc.: 0.00%, fake 0.00%, real 0.00%] [G loss: 0.544785]\n",
            "5780 [D loss: 0.975739] [D acc.: 25.00%, fake 0.00%, real 50.00%] [G loss: 0.773597]\n"
          ],
          "name": "stdout"
        },
        {
          "output_type": "stream",
          "text": [
            "WARNING:root:Lossy conversion from float32 to uint8. Range [0, 1]. Convert image to uint8 prior to saving to suppress this warning.\n"
          ],
          "name": "stderr"
        },
        {
          "output_type": "stream",
          "text": [
            "5800 [D loss: 0.586261] [D acc.: 75.00%, fake 83.33%, real 66.67%] [G loss: 1.183114]\n",
            "5820 [D loss: 1.661124] [D acc.: 8.33%, fake 16.67%, real 0.00%] [G loss: 1.478411]\n",
            "5840 [D loss: 0.876670] [D acc.: 41.67%, fake 33.33%, real 50.00%] [G loss: 1.128260]\n",
            "5860 [D loss: 1.657027] [D acc.: 8.33%, fake 0.00%, real 16.67%] [G loss: 0.738317]\n",
            "5880 [D loss: 1.656385] [D acc.: 0.00%, fake 0.00%, real 0.00%] [G loss: 0.390519]\n"
          ],
          "name": "stdout"
        },
        {
          "output_type": "stream",
          "text": [
            "WARNING:root:Lossy conversion from float32 to uint8. Range [0, 1]. Convert image to uint8 prior to saving to suppress this warning.\n"
          ],
          "name": "stderr"
        },
        {
          "output_type": "stream",
          "text": [
            "5900 [D loss: 0.924757] [D acc.: 41.67%, fake 50.00%, real 33.33%] [G loss: 0.824469]\n",
            "5920 [D loss: 0.825799] [D acc.: 41.67%, fake 50.00%, real 33.33%] [G loss: 0.993340]\n",
            "5940 [D loss: 1.111107] [D acc.: 33.33%, fake 33.33%, real 33.33%] [G loss: 0.920382]\n",
            "5960 [D loss: 1.379264] [D acc.: 25.00%, fake 33.33%, real 16.67%] [G loss: 0.915411]\n",
            "5980 [D loss: 1.011461] [D acc.: 16.67%, fake 0.00%, real 33.33%] [G loss: 0.764787]\n"
          ],
          "name": "stdout"
        },
        {
          "output_type": "stream",
          "text": [
            "WARNING:root:Lossy conversion from float32 to uint8. Range [0, 1]. Convert image to uint8 prior to saving to suppress this warning.\n"
          ],
          "name": "stderr"
        },
        {
          "output_type": "stream",
          "text": [
            "6000 [D loss: 1.023263] [D acc.: 16.67%, fake 16.67%, real 16.67%] [G loss: 0.750322]\n",
            "6020 [D loss: 1.917542] [D acc.: 0.00%, fake 0.00%, real 0.00%] [G loss: 1.133398]\n",
            "6040 [D loss: 0.982665] [D acc.: 33.33%, fake 16.67%, real 50.00%] [G loss: 1.100112]\n",
            "6060 [D loss: 1.681554] [D acc.: 8.33%, fake 16.67%, real 0.00%] [G loss: 0.484652]\n",
            "6080 [D loss: 0.326344] [D acc.: 91.67%, fake 100.00%, real 83.33%] [G loss: 1.056889]\n"
          ],
          "name": "stdout"
        },
        {
          "output_type": "stream",
          "text": [
            "WARNING:root:Lossy conversion from float32 to uint8. Range [0, 1]. Convert image to uint8 prior to saving to suppress this warning.\n"
          ],
          "name": "stderr"
        },
        {
          "output_type": "stream",
          "text": [
            "6100 [D loss: 0.686293] [D acc.: 58.33%, fake 66.67%, real 50.00%] [G loss: 1.216769]\n",
            "6120 [D loss: 0.774099] [D acc.: 50.00%, fake 50.00%, real 50.00%] [G loss: 0.613390]\n",
            "6140 [D loss: 1.209810] [D acc.: 33.33%, fake 33.33%, real 33.33%] [G loss: 0.365894]\n",
            "6160 [D loss: 0.628493] [D acc.: 50.00%, fake 50.00%, real 50.00%] [G loss: 0.707702]\n",
            "6180 [D loss: 1.921553] [D acc.: 0.00%, fake 0.00%, real 0.00%] [G loss: 0.472450]\n"
          ],
          "name": "stdout"
        },
        {
          "output_type": "stream",
          "text": [
            "WARNING:root:Lossy conversion from float32 to uint8. Range [0, 1]. Convert image to uint8 prior to saving to suppress this warning.\n"
          ],
          "name": "stderr"
        },
        {
          "output_type": "stream",
          "text": [
            "6200 [D loss: 1.012702] [D acc.: 8.33%, fake 16.67%, real 0.00%] [G loss: 1.176644]\n",
            "6220 [D loss: 0.999869] [D acc.: 33.33%, fake 50.00%, real 16.67%] [G loss: 1.243699]\n",
            "6240 [D loss: 0.760029] [D acc.: 41.67%, fake 33.33%, real 50.00%] [G loss: 0.936819]\n",
            "6260 [D loss: 1.248827] [D acc.: 16.67%, fake 16.67%, real 16.67%] [G loss: 0.521662]\n",
            "6280 [D loss: 0.814528] [D acc.: 58.33%, fake 83.33%, real 33.33%] [G loss: 0.993345]\n"
          ],
          "name": "stdout"
        },
        {
          "output_type": "stream",
          "text": [
            "WARNING:root:Lossy conversion from float32 to uint8. Range [0, 1]. Convert image to uint8 prior to saving to suppress this warning.\n"
          ],
          "name": "stderr"
        },
        {
          "output_type": "stream",
          "text": [
            "6300 [D loss: 0.817449] [D acc.: 58.33%, fake 83.33%, real 33.33%] [G loss: 1.276543]\n",
            "6320 [D loss: 1.015055] [D acc.: 50.00%, fake 66.67%, real 33.33%] [G loss: 1.007855]\n",
            "6340 [D loss: 1.321975] [D acc.: 25.00%, fake 16.67%, real 33.33%] [G loss: 1.052769]\n",
            "6360 [D loss: 1.095997] [D acc.: 33.33%, fake 16.67%, real 50.00%] [G loss: 0.814344]\n",
            "6380 [D loss: 0.611690] [D acc.: 58.33%, fake 66.67%, real 50.00%] [G loss: 1.138542]\n"
          ],
          "name": "stdout"
        },
        {
          "output_type": "stream",
          "text": [
            "WARNING:root:Lossy conversion from float32 to uint8. Range [0, 1]. Convert image to uint8 prior to saving to suppress this warning.\n"
          ],
          "name": "stderr"
        },
        {
          "output_type": "stream",
          "text": [
            "6400 [D loss: 1.092305] [D acc.: 33.33%, fake 33.33%, real 33.33%] [G loss: 1.109302]\n",
            "6420 [D loss: 0.597018] [D acc.: 58.33%, fake 33.33%, real 83.33%] [G loss: 0.544054]\n",
            "6440 [D loss: 0.581085] [D acc.: 75.00%, fake 83.33%, real 66.67%] [G loss: 0.671312]\n",
            "6460 [D loss: 0.816497] [D acc.: 66.67%, fake 83.33%, real 50.00%] [G loss: 0.800371]\n",
            "6480 [D loss: 0.836272] [D acc.: 41.67%, fake 33.33%, real 50.00%] [G loss: 0.798143]\n"
          ],
          "name": "stdout"
        },
        {
          "output_type": "stream",
          "text": [
            "WARNING:root:Lossy conversion from float32 to uint8. Range [0, 1]. Convert image to uint8 prior to saving to suppress this warning.\n"
          ],
          "name": "stderr"
        },
        {
          "output_type": "stream",
          "text": [
            "6500 [D loss: 1.288479] [D acc.: 50.00%, fake 83.33%, real 16.67%] [G loss: 0.480249]\n",
            "6520 [D loss: 1.266113] [D acc.: 16.67%, fake 16.67%, real 16.67%] [G loss: 1.311136]\n",
            "6540 [D loss: 1.067795] [D acc.: 16.67%, fake 0.00%, real 33.33%] [G loss: 0.718607]\n",
            "6560 [D loss: 1.020846] [D acc.: 25.00%, fake 16.67%, real 33.33%] [G loss: 0.869208]\n",
            "6580 [D loss: 1.067760] [D acc.: 16.67%, fake 0.00%, real 33.33%] [G loss: 0.862249]\n"
          ],
          "name": "stdout"
        },
        {
          "output_type": "stream",
          "text": [
            "WARNING:root:Lossy conversion from float32 to uint8. Range [0, 1]. Convert image to uint8 prior to saving to suppress this warning.\n"
          ],
          "name": "stderr"
        },
        {
          "output_type": "stream",
          "text": [
            "6600 [D loss: 1.261788] [D acc.: 16.67%, fake 33.33%, real 0.00%] [G loss: 0.384917]\n",
            "6620 [D loss: 0.995714] [D acc.: 25.00%, fake 33.33%, real 16.67%] [G loss: 1.076378]\n",
            "6640 [D loss: 1.260997] [D acc.: 8.33%, fake 0.00%, real 16.67%] [G loss: 0.645092]\n",
            "6660 [D loss: 1.075027] [D acc.: 16.67%, fake 16.67%, real 16.67%] [G loss: 0.863180]\n",
            "6680 [D loss: 1.955992] [D acc.: 8.33%, fake 16.67%, real 0.00%] [G loss: 1.334701]\n"
          ],
          "name": "stdout"
        },
        {
          "output_type": "stream",
          "text": [
            "WARNING:root:Lossy conversion from float32 to uint8. Range [0, 1]. Convert image to uint8 prior to saving to suppress this warning.\n"
          ],
          "name": "stderr"
        },
        {
          "output_type": "stream",
          "text": [
            "6700 [D loss: 1.246930] [D acc.: 0.00%, fake 0.00%, real 0.00%] [G loss: 0.986518]\n",
            "6720 [D loss: 1.034090] [D acc.: 25.00%, fake 16.67%, real 33.33%] [G loss: 1.282495]\n",
            "6740 [D loss: 1.343161] [D acc.: 8.33%, fake 0.00%, real 16.67%] [G loss: 0.761593]\n",
            "6760 [D loss: 0.943544] [D acc.: 41.67%, fake 50.00%, real 33.33%] [G loss: 0.746925]\n",
            "6780 [D loss: 0.899675] [D acc.: 50.00%, fake 66.67%, real 33.33%] [G loss: 1.671855]\n"
          ],
          "name": "stdout"
        },
        {
          "output_type": "stream",
          "text": [
            "WARNING:root:Lossy conversion from float32 to uint8. Range [0, 1]. Convert image to uint8 prior to saving to suppress this warning.\n"
          ],
          "name": "stderr"
        },
        {
          "output_type": "stream",
          "text": [
            "6800 [D loss: 0.823852] [D acc.: 41.67%, fake 50.00%, real 33.33%] [G loss: 1.024740]\n",
            "6820 [D loss: 0.802301] [D acc.: 58.33%, fake 66.67%, real 50.00%] [G loss: 0.189393]\n",
            "6840 [D loss: 0.841217] [D acc.: 25.00%, fake 0.00%, real 50.00%] [G loss: 0.628923]\n",
            "6860 [D loss: 1.266592] [D acc.: 25.00%, fake 16.67%, real 33.33%] [G loss: 1.198903]\n",
            "6880 [D loss: 1.378451] [D acc.: 16.67%, fake 0.00%, real 33.33%] [G loss: 0.446084]\n"
          ],
          "name": "stdout"
        },
        {
          "output_type": "stream",
          "text": [
            "WARNING:root:Lossy conversion from float32 to uint8. Range [0, 1]. Convert image to uint8 prior to saving to suppress this warning.\n"
          ],
          "name": "stderr"
        },
        {
          "output_type": "stream",
          "text": [
            "6900 [D loss: 1.334309] [D acc.: 0.00%, fake 0.00%, real 0.00%] [G loss: 1.820666]\n",
            "6920 [D loss: 1.012241] [D acc.: 16.67%, fake 0.00%, real 33.33%] [G loss: 0.566965]\n",
            "6940 [D loss: 1.996982] [D acc.: 16.67%, fake 0.00%, real 33.33%] [G loss: 0.851237]\n",
            "6960 [D loss: 0.767077] [D acc.: 50.00%, fake 50.00%, real 50.00%] [G loss: 0.977495]\n",
            "6980 [D loss: 0.665915] [D acc.: 58.33%, fake 83.33%, real 33.33%] [G loss: 1.302427]\n"
          ],
          "name": "stdout"
        },
        {
          "output_type": "stream",
          "text": [
            "WARNING:root:Lossy conversion from float32 to uint8. Range [0, 1]. Convert image to uint8 prior to saving to suppress this warning.\n"
          ],
          "name": "stderr"
        },
        {
          "output_type": "stream",
          "text": [
            "7000 [D loss: 0.989466] [D acc.: 41.67%, fake 83.33%, real 0.00%] [G loss: 1.151159]\n",
            "7020 [D loss: 0.676331] [D acc.: 58.33%, fake 33.33%, real 83.33%] [G loss: 1.108498]\n",
            "7040 [D loss: 0.642498] [D acc.: 66.67%, fake 83.33%, real 50.00%] [G loss: 1.789001]\n",
            "7060 [D loss: 0.917222] [D acc.: 41.67%, fake 50.00%, real 33.33%] [G loss: 0.965968]\n",
            "7080 [D loss: 1.007680] [D acc.: 16.67%, fake 16.67%, real 16.67%] [G loss: 1.027393]\n"
          ],
          "name": "stdout"
        },
        {
          "output_type": "stream",
          "text": [
            "WARNING:root:Lossy conversion from float32 to uint8. Range [0, 1]. Convert image to uint8 prior to saving to suppress this warning.\n"
          ],
          "name": "stderr"
        },
        {
          "output_type": "stream",
          "text": [
            "7100 [D loss: 0.931659] [D acc.: 25.00%, fake 0.00%, real 50.00%] [G loss: 1.133328]\n",
            "7120 [D loss: 1.177217] [D acc.: 33.33%, fake 50.00%, real 16.67%] [G loss: 1.618082]\n",
            "7140 [D loss: 0.784151] [D acc.: 58.33%, fake 66.67%, real 50.00%] [G loss: 0.841240]\n",
            "7160 [D loss: 1.438894] [D acc.: 16.67%, fake 0.00%, real 33.33%] [G loss: 0.958410]\n",
            "7180 [D loss: 0.915619] [D acc.: 41.67%, fake 50.00%, real 33.33%] [G loss: 1.173529]\n"
          ],
          "name": "stdout"
        },
        {
          "output_type": "stream",
          "text": [
            "WARNING:root:Lossy conversion from float32 to uint8. Range [0, 1]. Convert image to uint8 prior to saving to suppress this warning.\n"
          ],
          "name": "stderr"
        },
        {
          "output_type": "stream",
          "text": [
            "7200 [D loss: 0.795196] [D acc.: 41.67%, fake 16.67%, real 66.67%] [G loss: 0.718677]\n",
            "7220 [D loss: 0.574579] [D acc.: 58.33%, fake 66.67%, real 50.00%] [G loss: 0.836791]\n",
            "7240 [D loss: 0.848529] [D acc.: 25.00%, fake 16.67%, real 33.33%] [G loss: 1.047279]\n",
            "7260 [D loss: 0.739895] [D acc.: 50.00%, fake 50.00%, real 50.00%] [G loss: 0.741022]\n",
            "7280 [D loss: 0.997022] [D acc.: 33.33%, fake 33.33%, real 33.33%] [G loss: 1.637234]\n"
          ],
          "name": "stdout"
        },
        {
          "output_type": "stream",
          "text": [
            "WARNING:root:Lossy conversion from float32 to uint8. Range [0, 1]. Convert image to uint8 prior to saving to suppress this warning.\n"
          ],
          "name": "stderr"
        },
        {
          "output_type": "stream",
          "text": [
            "7300 [D loss: 1.310806] [D acc.: 8.33%, fake 0.00%, real 16.67%] [G loss: 1.082254]\n",
            "7320 [D loss: 1.027700] [D acc.: 8.33%, fake 0.00%, real 16.67%] [G loss: 0.924975]\n",
            "7340 [D loss: 0.531559] [D acc.: 58.33%, fake 16.67%, real 100.00%] [G loss: 0.941729]\n",
            "7360 [D loss: 0.764642] [D acc.: 66.67%, fake 83.33%, real 50.00%] [G loss: 1.469129]\n",
            "7380 [D loss: 1.029121] [D acc.: 41.67%, fake 66.67%, real 16.67%] [G loss: 1.335234]\n"
          ],
          "name": "stdout"
        },
        {
          "output_type": "stream",
          "text": [
            "WARNING:root:Lossy conversion from float32 to uint8. Range [0, 1]. Convert image to uint8 prior to saving to suppress this warning.\n"
          ],
          "name": "stderr"
        },
        {
          "output_type": "stream",
          "text": [
            "7400 [D loss: 0.859978] [D acc.: 41.67%, fake 50.00%, real 33.33%] [G loss: 0.963464]\n",
            "7420 [D loss: 1.099874] [D acc.: 33.33%, fake 16.67%, real 50.00%] [G loss: 0.698173]\n",
            "7440 [D loss: 0.512673] [D acc.: 75.00%, fake 66.67%, real 83.33%] [G loss: 0.803759]\n",
            "7460 [D loss: 0.968466] [D acc.: 58.33%, fake 100.00%, real 16.67%] [G loss: 1.308493]\n",
            "7480 [D loss: 1.787955] [D acc.: 0.00%, fake 0.00%, real 0.00%] [G loss: 0.973741]\n"
          ],
          "name": "stdout"
        },
        {
          "output_type": "stream",
          "text": [
            "WARNING:root:Lossy conversion from float32 to uint8. Range [0, 1]. Convert image to uint8 prior to saving to suppress this warning.\n"
          ],
          "name": "stderr"
        },
        {
          "output_type": "stream",
          "text": [
            "7500 [D loss: 1.469064] [D acc.: 8.33%, fake 0.00%, real 16.67%] [G loss: 0.571118]\n",
            "7520 [D loss: 1.463159] [D acc.: 8.33%, fake 0.00%, real 16.67%] [G loss: 0.618324]\n",
            "7540 [D loss: 0.903519] [D acc.: 33.33%, fake 50.00%, real 16.67%] [G loss: 0.933426]\n",
            "7560 [D loss: 0.935802] [D acc.: 16.67%, fake 16.67%, real 16.67%] [G loss: 1.156829]\n",
            "7580 [D loss: 1.121192] [D acc.: 16.67%, fake 0.00%, real 33.33%] [G loss: 1.274807]\n"
          ],
          "name": "stdout"
        },
        {
          "output_type": "stream",
          "text": [
            "WARNING:root:Lossy conversion from float32 to uint8. Range [0, 1]. Convert image to uint8 prior to saving to suppress this warning.\n"
          ],
          "name": "stderr"
        },
        {
          "output_type": "stream",
          "text": [
            "7600 [D loss: 1.542313] [D acc.: 25.00%, fake 0.00%, real 50.00%] [G loss: 0.555423]\n",
            "7620 [D loss: 0.867370] [D acc.: 33.33%, fake 16.67%, real 50.00%] [G loss: 1.308187]\n",
            "7640 [D loss: 1.115375] [D acc.: 25.00%, fake 33.33%, real 16.67%] [G loss: 1.155100]\n",
            "7660 [D loss: 1.169117] [D acc.: 41.67%, fake 33.33%, real 50.00%] [G loss: 1.162231]\n",
            "7680 [D loss: 1.238937] [D acc.: 16.67%, fake 33.33%, real 0.00%] [G loss: 1.322252]\n"
          ],
          "name": "stdout"
        },
        {
          "output_type": "stream",
          "text": [
            "WARNING:root:Lossy conversion from float32 to uint8. Range [0, 1]. Convert image to uint8 prior to saving to suppress this warning.\n"
          ],
          "name": "stderr"
        },
        {
          "output_type": "stream",
          "text": [
            "7700 [D loss: 0.947419] [D acc.: 25.00%, fake 16.67%, real 33.33%] [G loss: 0.871316]\n",
            "7720 [D loss: 0.641520] [D acc.: 58.33%, fake 50.00%, real 66.67%] [G loss: 1.869946]\n",
            "7740 [D loss: 0.834725] [D acc.: 16.67%, fake 0.00%, real 33.33%] [G loss: 1.047264]\n",
            "7760 [D loss: 1.167261] [D acc.: 25.00%, fake 33.33%, real 16.67%] [G loss: 1.048564]\n",
            "7780 [D loss: 1.021746] [D acc.: 8.33%, fake 0.00%, real 16.67%] [G loss: 0.825523]\n"
          ],
          "name": "stdout"
        },
        {
          "output_type": "stream",
          "text": [
            "WARNING:root:Lossy conversion from float32 to uint8. Range [0, 1]. Convert image to uint8 prior to saving to suppress this warning.\n"
          ],
          "name": "stderr"
        },
        {
          "output_type": "stream",
          "text": [
            "7800 [D loss: 0.667025] [D acc.: 58.33%, fake 33.33%, real 83.33%] [G loss: 0.886840]\n",
            "7820 [D loss: 0.748007] [D acc.: 58.33%, fake 83.33%, real 33.33%] [G loss: 1.103775]\n",
            "7840 [D loss: 0.991245] [D acc.: 33.33%, fake 33.33%, real 33.33%] [G loss: 0.840213]\n",
            "7860 [D loss: 1.050755] [D acc.: 33.33%, fake 66.67%, real 0.00%] [G loss: 1.932734]\n",
            "7880 [D loss: 1.136839] [D acc.: 25.00%, fake 16.67%, real 33.33%] [G loss: 0.410267]\n"
          ],
          "name": "stdout"
        },
        {
          "output_type": "stream",
          "text": [
            "WARNING:root:Lossy conversion from float32 to uint8. Range [0, 1]. Convert image to uint8 prior to saving to suppress this warning.\n"
          ],
          "name": "stderr"
        },
        {
          "output_type": "stream",
          "text": [
            "7900 [D loss: 1.434246] [D acc.: 8.33%, fake 16.67%, real 0.00%] [G loss: 0.940278]\n",
            "7920 [D loss: 0.614244] [D acc.: 58.33%, fake 66.67%, real 50.00%] [G loss: 1.042114]\n",
            "7940 [D loss: 0.866423] [D acc.: 16.67%, fake 0.00%, real 33.33%] [G loss: 1.197757]\n",
            "7960 [D loss: 1.109571] [D acc.: 41.67%, fake 50.00%, real 33.33%] [G loss: 2.399155]\n",
            "7980 [D loss: 0.864543] [D acc.: 33.33%, fake 33.33%, real 33.33%] [G loss: 1.280437]\n"
          ],
          "name": "stdout"
        },
        {
          "output_type": "stream",
          "text": [
            "WARNING:root:Lossy conversion from float32 to uint8. Range [0, 1]. Convert image to uint8 prior to saving to suppress this warning.\n"
          ],
          "name": "stderr"
        },
        {
          "output_type": "stream",
          "text": [
            "8000 [D loss: 0.729713] [D acc.: 50.00%, fake 16.67%, real 83.33%] [G loss: 1.263803]\n",
            "8020 [D loss: 1.014144] [D acc.: 50.00%, fake 66.67%, real 33.33%] [G loss: 0.785432]\n",
            "8040 [D loss: 0.886625] [D acc.: 41.67%, fake 16.67%, real 66.67%] [G loss: 0.649568]\n",
            "8060 [D loss: 1.013565] [D acc.: 66.67%, fake 100.00%, real 33.33%] [G loss: 0.959425]\n",
            "8080 [D loss: 0.908048] [D acc.: 25.00%, fake 0.00%, real 50.00%] [G loss: 1.221661]\n"
          ],
          "name": "stdout"
        },
        {
          "output_type": "stream",
          "text": [
            "WARNING:root:Lossy conversion from float32 to uint8. Range [0, 1]. Convert image to uint8 prior to saving to suppress this warning.\n"
          ],
          "name": "stderr"
        },
        {
          "output_type": "stream",
          "text": [
            "8100 [D loss: 0.637838] [D acc.: 41.67%, fake 0.00%, real 83.33%] [G loss: 0.938091]\n",
            "8120 [D loss: 0.907308] [D acc.: 58.33%, fake 66.67%, real 50.00%] [G loss: 1.019194]\n",
            "8140 [D loss: 0.685609] [D acc.: 25.00%, fake 0.00%, real 50.00%] [G loss: 1.353275]\n",
            "8160 [D loss: 1.120296] [D acc.: 16.67%, fake 0.00%, real 33.33%] [G loss: 0.970090]\n",
            "8180 [D loss: 0.661796] [D acc.: 58.33%, fake 100.00%, real 16.67%] [G loss: 0.835478]\n"
          ],
          "name": "stdout"
        },
        {
          "output_type": "stream",
          "text": [
            "WARNING:root:Lossy conversion from float32 to uint8. Range [0, 1]. Convert image to uint8 prior to saving to suppress this warning.\n"
          ],
          "name": "stderr"
        },
        {
          "output_type": "stream",
          "text": [
            "8200 [D loss: 0.637234] [D acc.: 58.33%, fake 50.00%, real 66.67%] [G loss: 0.506591]\n",
            "8220 [D loss: 1.086281] [D acc.: 16.67%, fake 16.67%, real 16.67%] [G loss: 0.631223]\n",
            "8240 [D loss: 0.653208] [D acc.: 66.67%, fake 50.00%, real 83.33%] [G loss: 0.791139]\n",
            "8260 [D loss: 1.230448] [D acc.: 8.33%, fake 0.00%, real 16.67%] [G loss: 1.103578]\n",
            "8280 [D loss: 0.733483] [D acc.: 58.33%, fake 50.00%, real 66.67%] [G loss: 1.179463]\n"
          ],
          "name": "stdout"
        },
        {
          "output_type": "stream",
          "text": [
            "WARNING:root:Lossy conversion from float32 to uint8. Range [0, 1]. Convert image to uint8 prior to saving to suppress this warning.\n"
          ],
          "name": "stderr"
        },
        {
          "output_type": "stream",
          "text": [
            "8300 [D loss: 1.528726] [D acc.: 8.33%, fake 16.67%, real 0.00%] [G loss: 1.074481]\n",
            "8320 [D loss: 1.660071] [D acc.: 8.33%, fake 0.00%, real 16.67%] [G loss: 0.764345]\n",
            "8340 [D loss: 1.579977] [D acc.: 0.00%, fake 0.00%, real 0.00%] [G loss: 0.683425]\n",
            "8360 [D loss: 0.924447] [D acc.: 50.00%, fake 50.00%, real 50.00%] [G loss: 0.476229]\n",
            "8380 [D loss: 1.511978] [D acc.: 8.33%, fake 0.00%, real 16.67%] [G loss: 1.210894]\n"
          ],
          "name": "stdout"
        },
        {
          "output_type": "stream",
          "text": [
            "WARNING:root:Lossy conversion from float32 to uint8. Range [0, 1]. Convert image to uint8 prior to saving to suppress this warning.\n"
          ],
          "name": "stderr"
        },
        {
          "output_type": "stream",
          "text": [
            "8400 [D loss: 0.725086] [D acc.: 33.33%, fake 33.33%, real 33.33%] [G loss: 0.992845]\n",
            "8420 [D loss: 0.834424] [D acc.: 16.67%, fake 0.00%, real 33.33%] [G loss: 0.947610]\n",
            "8440 [D loss: 0.995090] [D acc.: 41.67%, fake 50.00%, real 33.33%] [G loss: 1.155251]\n",
            "8460 [D loss: 1.118000] [D acc.: 16.67%, fake 0.00%, real 33.33%] [G loss: 0.615727]\n",
            "8480 [D loss: 0.980187] [D acc.: 41.67%, fake 50.00%, real 33.33%] [G loss: 1.347986]\n"
          ],
          "name": "stdout"
        },
        {
          "output_type": "stream",
          "text": [
            "WARNING:root:Lossy conversion from float32 to uint8. Range [0, 1]. Convert image to uint8 prior to saving to suppress this warning.\n"
          ],
          "name": "stderr"
        },
        {
          "output_type": "stream",
          "text": [
            "8500 [D loss: 0.896780] [D acc.: 25.00%, fake 16.67%, real 33.33%] [G loss: 1.238844]\n",
            "8520 [D loss: 1.827721] [D acc.: 0.00%, fake 0.00%, real 0.00%] [G loss: 0.840419]\n",
            "8540 [D loss: 0.893828] [D acc.: 8.33%, fake 0.00%, real 16.67%] [G loss: 0.909018]\n",
            "8560 [D loss: 1.137751] [D acc.: 8.33%, fake 16.67%, real 0.00%] [G loss: 0.442719]\n",
            "8580 [D loss: 0.836895] [D acc.: 50.00%, fake 66.67%, real 33.33%] [G loss: 0.599708]\n"
          ],
          "name": "stdout"
        },
        {
          "output_type": "stream",
          "text": [
            "WARNING:root:Lossy conversion from float32 to uint8. Range [0, 1]. Convert image to uint8 prior to saving to suppress this warning.\n"
          ],
          "name": "stderr"
        },
        {
          "output_type": "stream",
          "text": [
            "8600 [D loss: 1.088614] [D acc.: 16.67%, fake 0.00%, real 33.33%] [G loss: 0.637313]\n",
            "8620 [D loss: 0.859481] [D acc.: 50.00%, fake 66.67%, real 33.33%] [G loss: 1.305018]\n",
            "8640 [D loss: 0.964834] [D acc.: 41.67%, fake 16.67%, real 66.67%] [G loss: 0.583849]\n",
            "8660 [D loss: 0.978690] [D acc.: 41.67%, fake 33.33%, real 50.00%] [G loss: 1.310408]\n",
            "8680 [D loss: 1.015051] [D acc.: 16.67%, fake 16.67%, real 16.67%] [G loss: 1.076039]\n"
          ],
          "name": "stdout"
        },
        {
          "output_type": "stream",
          "text": [
            "WARNING:root:Lossy conversion from float32 to uint8. Range [0, 1]. Convert image to uint8 prior to saving to suppress this warning.\n"
          ],
          "name": "stderr"
        },
        {
          "output_type": "stream",
          "text": [
            "8700 [D loss: 0.758390] [D acc.: 33.33%, fake 33.33%, real 33.33%] [G loss: 0.806311]\n",
            "8720 [D loss: 1.156431] [D acc.: 16.67%, fake 0.00%, real 33.33%] [G loss: 0.676872]\n",
            "8740 [D loss: 0.951421] [D acc.: 33.33%, fake 33.33%, real 33.33%] [G loss: 1.303682]\n",
            "8760 [D loss: 0.741994] [D acc.: 75.00%, fake 66.67%, real 83.33%] [G loss: 1.203504]\n",
            "8780 [D loss: 1.126070] [D acc.: 25.00%, fake 0.00%, real 50.00%] [G loss: 0.545425]\n"
          ],
          "name": "stdout"
        },
        {
          "output_type": "stream",
          "text": [
            "WARNING:root:Lossy conversion from float32 to uint8. Range [0, 1]. Convert image to uint8 prior to saving to suppress this warning.\n"
          ],
          "name": "stderr"
        },
        {
          "output_type": "stream",
          "text": [
            "8800 [D loss: 0.650123] [D acc.: 75.00%, fake 100.00%, real 50.00%] [G loss: 1.347854]\n",
            "8820 [D loss: 0.688183] [D acc.: 50.00%, fake 33.33%, real 66.67%] [G loss: 0.980862]\n",
            "8840 [D loss: 1.139690] [D acc.: 25.00%, fake 0.00%, real 50.00%] [G loss: 0.939515]\n",
            "8860 [D loss: 1.322231] [D acc.: 33.33%, fake 33.33%, real 33.33%] [G loss: 0.804827]\n",
            "8880 [D loss: 1.185894] [D acc.: 16.67%, fake 16.67%, real 16.67%] [G loss: 0.581857]\n"
          ],
          "name": "stdout"
        },
        {
          "output_type": "stream",
          "text": [
            "WARNING:root:Lossy conversion from float32 to uint8. Range [0, 1]. Convert image to uint8 prior to saving to suppress this warning.\n"
          ],
          "name": "stderr"
        },
        {
          "output_type": "stream",
          "text": [
            "8900 [D loss: 0.447605] [D acc.: 91.67%, fake 100.00%, real 83.33%] [G loss: 0.654095]\n",
            "8920 [D loss: 1.613307] [D acc.: 25.00%, fake 16.67%, real 33.33%] [G loss: 0.728305]\n",
            "8940 [D loss: 0.875152] [D acc.: 16.67%, fake 0.00%, real 33.33%] [G loss: 1.043850]\n",
            "8960 [D loss: 1.179198] [D acc.: 16.67%, fake 0.00%, real 33.33%] [G loss: 1.400750]\n",
            "8980 [D loss: 0.961064] [D acc.: 8.33%, fake 0.00%, real 16.67%] [G loss: 0.715137]\n"
          ],
          "name": "stdout"
        },
        {
          "output_type": "stream",
          "text": [
            "WARNING:root:Lossy conversion from float32 to uint8. Range [0, 1]. Convert image to uint8 prior to saving to suppress this warning.\n"
          ],
          "name": "stderr"
        },
        {
          "output_type": "stream",
          "text": [
            "9000 [D loss: 0.955828] [D acc.: 41.67%, fake 50.00%, real 33.33%] [G loss: 1.467533]\n",
            "9020 [D loss: 0.829015] [D acc.: 33.33%, fake 16.67%, real 50.00%] [G loss: 0.879947]\n",
            "9040 [D loss: 0.842935] [D acc.: 50.00%, fake 50.00%, real 50.00%] [G loss: 1.432192]\n",
            "9060 [D loss: 0.776770] [D acc.: 41.67%, fake 33.33%, real 50.00%] [G loss: 0.744665]\n",
            "9080 [D loss: 1.098871] [D acc.: 8.33%, fake 0.00%, real 16.67%] [G loss: 0.900053]\n"
          ],
          "name": "stdout"
        },
        {
          "output_type": "stream",
          "text": [
            "WARNING:root:Lossy conversion from float32 to uint8. Range [0, 1]. Convert image to uint8 prior to saving to suppress this warning.\n"
          ],
          "name": "stderr"
        },
        {
          "output_type": "stream",
          "text": [
            "9100 [D loss: 0.932515] [D acc.: 25.00%, fake 16.67%, real 33.33%] [G loss: 1.021790]\n",
            "9120 [D loss: 0.853645] [D acc.: 33.33%, fake 16.67%, real 50.00%] [G loss: 1.040130]\n",
            "9140 [D loss: 0.543833] [D acc.: 75.00%, fake 100.00%, real 50.00%] [G loss: 1.370199]\n",
            "9160 [D loss: 1.807974] [D acc.: 8.33%, fake 16.67%, real 0.00%] [G loss: 0.958191]\n",
            "9180 [D loss: 0.811634] [D acc.: 50.00%, fake 66.67%, real 33.33%] [G loss: 1.138868]\n"
          ],
          "name": "stdout"
        },
        {
          "output_type": "stream",
          "text": [
            "WARNING:root:Lossy conversion from float32 to uint8. Range [0, 1]. Convert image to uint8 prior to saving to suppress this warning.\n"
          ],
          "name": "stderr"
        },
        {
          "output_type": "stream",
          "text": [
            "9200 [D loss: 0.999340] [D acc.: 25.00%, fake 0.00%, real 50.00%] [G loss: 1.096418]\n",
            "9220 [D loss: 0.731140] [D acc.: 58.33%, fake 66.67%, real 50.00%] [G loss: 1.039631]\n",
            "9240 [D loss: 0.855559] [D acc.: 33.33%, fake 0.00%, real 66.67%] [G loss: 1.020951]\n",
            "9260 [D loss: 0.882031] [D acc.: 50.00%, fake 50.00%, real 50.00%] [G loss: 1.102812]\n",
            "9280 [D loss: 1.212747] [D acc.: 0.00%, fake 0.00%, real 0.00%] [G loss: 0.940372]\n"
          ],
          "name": "stdout"
        },
        {
          "output_type": "stream",
          "text": [
            "WARNING:root:Lossy conversion from float32 to uint8. Range [0, 1]. Convert image to uint8 prior to saving to suppress this warning.\n"
          ],
          "name": "stderr"
        },
        {
          "output_type": "stream",
          "text": [
            "9300 [D loss: 0.731337] [D acc.: 50.00%, fake 33.33%, real 66.67%] [G loss: 1.015761]\n",
            "9320 [D loss: 1.394812] [D acc.: 33.33%, fake 33.33%, real 33.33%] [G loss: 0.556822]\n",
            "9340 [D loss: 1.585312] [D acc.: 16.67%, fake 16.67%, real 16.67%] [G loss: 2.572724]\n",
            "9360 [D loss: 1.204581] [D acc.: 25.00%, fake 0.00%, real 50.00%] [G loss: 0.660856]\n",
            "9380 [D loss: 0.734563] [D acc.: 33.33%, fake 16.67%, real 50.00%] [G loss: 0.188771]\n"
          ],
          "name": "stdout"
        },
        {
          "output_type": "stream",
          "text": [
            "WARNING:root:Lossy conversion from float32 to uint8. Range [0, 1]. Convert image to uint8 prior to saving to suppress this warning.\n"
          ],
          "name": "stderr"
        },
        {
          "output_type": "stream",
          "text": [
            "9400 [D loss: 1.194369] [D acc.: 25.00%, fake 16.67%, real 33.33%] [G loss: 0.561523]\n",
            "9420 [D loss: 1.028487] [D acc.: 8.33%, fake 0.00%, real 16.67%] [G loss: 0.816305]\n",
            "9440 [D loss: 0.786347] [D acc.: 33.33%, fake 33.33%, real 33.33%] [G loss: 1.039793]\n",
            "9460 [D loss: 0.845033] [D acc.: 50.00%, fake 66.67%, real 33.33%] [G loss: 0.557961]\n",
            "9480 [D loss: 0.841958] [D acc.: 58.33%, fake 66.67%, real 50.00%] [G loss: 0.611381]\n"
          ],
          "name": "stdout"
        },
        {
          "output_type": "stream",
          "text": [
            "WARNING:root:Lossy conversion from float32 to uint8. Range [0, 1]. Convert image to uint8 prior to saving to suppress this warning.\n"
          ],
          "name": "stderr"
        },
        {
          "output_type": "stream",
          "text": [
            "9500 [D loss: 0.903807] [D acc.: 41.67%, fake 33.33%, real 50.00%] [G loss: 0.974476]\n",
            "9520 [D loss: 0.973610] [D acc.: 58.33%, fake 83.33%, real 33.33%] [G loss: 0.817105]\n",
            "9540 [D loss: 0.876574] [D acc.: 33.33%, fake 50.00%, real 16.67%] [G loss: 1.105098]\n",
            "9560 [D loss: 0.832311] [D acc.: 41.67%, fake 16.67%, real 66.67%] [G loss: 1.112338]\n",
            "9580 [D loss: 1.210719] [D acc.: 33.33%, fake 66.67%, real 0.00%] [G loss: 1.691034]\n"
          ],
          "name": "stdout"
        },
        {
          "output_type": "stream",
          "text": [
            "WARNING:root:Lossy conversion from float32 to uint8. Range [0, 1]. Convert image to uint8 prior to saving to suppress this warning.\n"
          ],
          "name": "stderr"
        },
        {
          "output_type": "stream",
          "text": [
            "9600 [D loss: 1.243759] [D acc.: 0.00%, fake 0.00%, real 0.00%] [G loss: 0.876287]\n",
            "9620 [D loss: 1.043060] [D acc.: 8.33%, fake 0.00%, real 16.67%] [G loss: 0.879947]\n",
            "9640 [D loss: 0.452694] [D acc.: 83.33%, fake 100.00%, real 66.67%] [G loss: 0.590006]\n",
            "9660 [D loss: 1.156085] [D acc.: 16.67%, fake 16.67%, real 16.67%] [G loss: 0.766369]\n",
            "9680 [D loss: 1.021860] [D acc.: 25.00%, fake 33.33%, real 16.67%] [G loss: 1.159109]\n"
          ],
          "name": "stdout"
        },
        {
          "output_type": "stream",
          "text": [
            "WARNING:root:Lossy conversion from float32 to uint8. Range [0, 1]. Convert image to uint8 prior to saving to suppress this warning.\n"
          ],
          "name": "stderr"
        },
        {
          "output_type": "stream",
          "text": [
            "9700 [D loss: 1.093565] [D acc.: 16.67%, fake 0.00%, real 33.33%] [G loss: 0.801454]\n",
            "9720 [D loss: 0.665355] [D acc.: 50.00%, fake 50.00%, real 50.00%] [G loss: 1.405377]\n",
            "9740 [D loss: 1.087837] [D acc.: 33.33%, fake 0.00%, real 66.67%] [G loss: 0.527044]\n",
            "9760 [D loss: 0.599175] [D acc.: 83.33%, fake 83.33%, real 83.33%] [G loss: 1.416838]\n",
            "9780 [D loss: 0.850841] [D acc.: 58.33%, fake 66.67%, real 50.00%] [G loss: 1.010916]\n"
          ],
          "name": "stdout"
        },
        {
          "output_type": "stream",
          "text": [
            "WARNING:root:Lossy conversion from float32 to uint8. Range [0, 1]. Convert image to uint8 prior to saving to suppress this warning.\n"
          ],
          "name": "stderr"
        },
        {
          "output_type": "stream",
          "text": [
            "9800 [D loss: 1.049474] [D acc.: 16.67%, fake 16.67%, real 16.67%] [G loss: 0.886949]\n",
            "9820 [D loss: 0.449561] [D acc.: 75.00%, fake 50.00%, real 100.00%] [G loss: 1.279337]\n",
            "9840 [D loss: 1.153869] [D acc.: 0.00%, fake 0.00%, real 0.00%] [G loss: 0.968789]\n",
            "9860 [D loss: 1.309673] [D acc.: 8.33%, fake 0.00%, real 16.67%] [G loss: 0.347776]\n",
            "9880 [D loss: 0.840222] [D acc.: 58.33%, fake 100.00%, real 16.67%] [G loss: 1.132477]\n"
          ],
          "name": "stdout"
        },
        {
          "output_type": "stream",
          "text": [
            "WARNING:root:Lossy conversion from float32 to uint8. Range [0, 1]. Convert image to uint8 prior to saving to suppress this warning.\n"
          ],
          "name": "stderr"
        },
        {
          "output_type": "stream",
          "text": [
            "9900 [D loss: 0.903931] [D acc.: 41.67%, fake 33.33%, real 50.00%] [G loss: 0.992869]\n",
            "9920 [D loss: 0.797280] [D acc.: 41.67%, fake 33.33%, real 50.00%] [G loss: 0.830251]\n",
            "9940 [D loss: 1.110085] [D acc.: 25.00%, fake 16.67%, real 33.33%] [G loss: 0.925896]\n",
            "9960 [D loss: 0.763799] [D acc.: 66.67%, fake 100.00%, real 33.33%] [G loss: 1.225691]\n",
            "9980 [D loss: 0.664842] [D acc.: 66.67%, fake 66.67%, real 66.67%] [G loss: 1.038754]\n"
          ],
          "name": "stdout"
        },
        {
          "output_type": "stream",
          "text": [
            "WARNING:root:Lossy conversion from float32 to uint8. Range [0, 1]. Convert image to uint8 prior to saving to suppress this warning.\n"
          ],
          "name": "stderr"
        },
        {
          "output_type": "stream",
          "text": [
            "10000 [D loss: 1.137530] [D acc.: 25.00%, fake 33.33%, real 16.67%] [G loss: 1.404033]\n",
            "10020 [D loss: 1.164125] [D acc.: 8.33%, fake 16.67%, real 0.00%] [G loss: 1.087390]\n",
            "10040 [D loss: 0.867165] [D acc.: 16.67%, fake 16.67%, real 16.67%] [G loss: 0.859630]\n",
            "10060 [D loss: 0.527195] [D acc.: 91.67%, fake 100.00%, real 83.33%] [G loss: 0.893608]\n",
            "10080 [D loss: 0.679474] [D acc.: 66.67%, fake 83.33%, real 50.00%] [G loss: 1.425816]\n"
          ],
          "name": "stdout"
        },
        {
          "output_type": "stream",
          "text": [
            "WARNING:root:Lossy conversion from float32 to uint8. Range [0, 1]. Convert image to uint8 prior to saving to suppress this warning.\n"
          ],
          "name": "stderr"
        },
        {
          "output_type": "stream",
          "text": [
            "10100 [D loss: 0.650751] [D acc.: 75.00%, fake 100.00%, real 50.00%] [G loss: 1.485504]\n",
            "10120 [D loss: 1.157919] [D acc.: 16.67%, fake 0.00%, real 33.33%] [G loss: 0.686970]\n",
            "10140 [D loss: 0.858677] [D acc.: 58.33%, fake 83.33%, real 33.33%] [G loss: 0.964498]\n",
            "10160 [D loss: 0.800595] [D acc.: 41.67%, fake 50.00%, real 33.33%] [G loss: 0.501633]\n",
            "10180 [D loss: 0.831565] [D acc.: 16.67%, fake 0.00%, real 33.33%] [G loss: 1.064668]\n"
          ],
          "name": "stdout"
        },
        {
          "output_type": "stream",
          "text": [
            "WARNING:root:Lossy conversion from float32 to uint8. Range [0, 1]. Convert image to uint8 prior to saving to suppress this warning.\n"
          ],
          "name": "stderr"
        },
        {
          "output_type": "stream",
          "text": [
            "10200 [D loss: 0.705118] [D acc.: 50.00%, fake 50.00%, real 50.00%] [G loss: 0.756090]\n",
            "10220 [D loss: 0.855986] [D acc.: 33.33%, fake 0.00%, real 66.67%] [G loss: 0.645287]\n",
            "10240 [D loss: 0.655448] [D acc.: 58.33%, fake 66.67%, real 50.00%] [G loss: 0.773347]\n",
            "10260 [D loss: 1.039397] [D acc.: 16.67%, fake 16.67%, real 16.67%] [G loss: 0.769801]\n",
            "10280 [D loss: 0.282768] [D acc.: 91.67%, fake 100.00%, real 83.33%] [G loss: 1.552140]\n"
          ],
          "name": "stdout"
        },
        {
          "output_type": "stream",
          "text": [
            "WARNING:root:Lossy conversion from float32 to uint8. Range [0, 1]. Convert image to uint8 prior to saving to suppress this warning.\n"
          ],
          "name": "stderr"
        },
        {
          "output_type": "stream",
          "text": [
            "10300 [D loss: 0.939596] [D acc.: 16.67%, fake 0.00%, real 33.33%] [G loss: 0.757819]\n",
            "10320 [D loss: 0.876417] [D acc.: 50.00%, fake 50.00%, real 50.00%] [G loss: 0.850153]\n",
            "10340 [D loss: 0.770455] [D acc.: 58.33%, fake 50.00%, real 66.67%] [G loss: 0.869622]\n",
            "10360 [D loss: 1.085805] [D acc.: 16.67%, fake 0.00%, real 33.33%] [G loss: 1.038636]\n",
            "10380 [D loss: 0.935226] [D acc.: 25.00%, fake 16.67%, real 33.33%] [G loss: 0.739543]\n"
          ],
          "name": "stdout"
        },
        {
          "output_type": "stream",
          "text": [
            "WARNING:root:Lossy conversion from float32 to uint8. Range [0, 1]. Convert image to uint8 prior to saving to suppress this warning.\n"
          ],
          "name": "stderr"
        },
        {
          "output_type": "stream",
          "text": [
            "10400 [D loss: 0.897146] [D acc.: 16.67%, fake 0.00%, real 33.33%] [G loss: 0.729833]\n",
            "10420 [D loss: 0.906022] [D acc.: 25.00%, fake 16.67%, real 33.33%] [G loss: 0.964216]\n",
            "10440 [D loss: 0.928511] [D acc.: 50.00%, fake 66.67%, real 33.33%] [G loss: 1.489706]\n",
            "10460 [D loss: 1.206043] [D acc.: 8.33%, fake 0.00%, real 16.67%] [G loss: 0.930989]\n",
            "10480 [D loss: 0.546155] [D acc.: 66.67%, fake 33.33%, real 100.00%] [G loss: 0.440265]\n"
          ],
          "name": "stdout"
        },
        {
          "output_type": "stream",
          "text": [
            "WARNING:root:Lossy conversion from float32 to uint8. Range [0, 1]. Convert image to uint8 prior to saving to suppress this warning.\n"
          ],
          "name": "stderr"
        },
        {
          "output_type": "stream",
          "text": [
            "10500 [D loss: 0.997003] [D acc.: 33.33%, fake 0.00%, real 66.67%] [G loss: 0.857245]\n",
            "10520 [D loss: 1.256767] [D acc.: 16.67%, fake 16.67%, real 16.67%] [G loss: 0.926081]\n",
            "10540 [D loss: 0.884584] [D acc.: 25.00%, fake 33.33%, real 16.67%] [G loss: 1.994403]\n",
            "10560 [D loss: 1.028127] [D acc.: 33.33%, fake 0.00%, real 66.67%] [G loss: 1.778962]\n",
            "10580 [D loss: 1.071716] [D acc.: 8.33%, fake 16.67%, real 0.00%] [G loss: 1.191296]\n"
          ],
          "name": "stdout"
        },
        {
          "output_type": "stream",
          "text": [
            "WARNING:root:Lossy conversion from float32 to uint8. Range [0, 1]. Convert image to uint8 prior to saving to suppress this warning.\n"
          ],
          "name": "stderr"
        },
        {
          "output_type": "stream",
          "text": [
            "10600 [D loss: 0.587434] [D acc.: 83.33%, fake 100.00%, real 66.67%] [G loss: 0.602620]\n",
            "10620 [D loss: 1.133562] [D acc.: 25.00%, fake 33.33%, real 16.67%] [G loss: 1.565405]\n",
            "10640 [D loss: 0.507045] [D acc.: 75.00%, fake 83.33%, real 66.67%] [G loss: 1.462109]\n",
            "10660 [D loss: 1.396125] [D acc.: 16.67%, fake 16.67%, real 16.67%] [G loss: 0.817992]\n",
            "10680 [D loss: 1.031741] [D acc.: 33.33%, fake 50.00%, real 16.67%] [G loss: 1.358355]\n"
          ],
          "name": "stdout"
        },
        {
          "output_type": "stream",
          "text": [
            "WARNING:root:Lossy conversion from float32 to uint8. Range [0, 1]. Convert image to uint8 prior to saving to suppress this warning.\n"
          ],
          "name": "stderr"
        },
        {
          "output_type": "stream",
          "text": [
            "10700 [D loss: 0.699114] [D acc.: 75.00%, fake 83.33%, real 66.67%] [G loss: 0.760761]\n",
            "10720 [D loss: 1.057294] [D acc.: 8.33%, fake 0.00%, real 16.67%] [G loss: 1.021765]\n",
            "10740 [D loss: 0.899581] [D acc.: 50.00%, fake 33.33%, real 66.67%] [G loss: 0.802118]\n",
            "10760 [D loss: 1.147314] [D acc.: 16.67%, fake 16.67%, real 16.67%] [G loss: 1.083869]\n",
            "10780 [D loss: 0.724755] [D acc.: 50.00%, fake 66.67%, real 33.33%] [G loss: 1.178067]\n"
          ],
          "name": "stdout"
        },
        {
          "output_type": "stream",
          "text": [
            "WARNING:root:Lossy conversion from float32 to uint8. Range [0, 1]. Convert image to uint8 prior to saving to suppress this warning.\n"
          ],
          "name": "stderr"
        },
        {
          "output_type": "stream",
          "text": [
            "10800 [D loss: 0.797040] [D acc.: 58.33%, fake 66.67%, real 50.00%] [G loss: 1.170291]\n",
            "10820 [D loss: 1.189950] [D acc.: 25.00%, fake 33.33%, real 16.67%] [G loss: 0.793999]\n",
            "10840 [D loss: 0.701120] [D acc.: 50.00%, fake 33.33%, real 66.67%] [G loss: 1.167522]\n",
            "10860 [D loss: 1.169982] [D acc.: 25.00%, fake 16.67%, real 33.33%] [G loss: 1.184464]\n",
            "10880 [D loss: 0.826353] [D acc.: 25.00%, fake 16.67%, real 33.33%] [G loss: 0.955356]\n"
          ],
          "name": "stdout"
        },
        {
          "output_type": "stream",
          "text": [
            "WARNING:root:Lossy conversion from float32 to uint8. Range [0, 1]. Convert image to uint8 prior to saving to suppress this warning.\n"
          ],
          "name": "stderr"
        },
        {
          "output_type": "stream",
          "text": [
            "10900 [D loss: 0.767572] [D acc.: 50.00%, fake 50.00%, real 50.00%] [G loss: 1.014932]\n",
            "10920 [D loss: 0.929980] [D acc.: 33.33%, fake 33.33%, real 33.33%] [G loss: 0.881164]\n",
            "10940 [D loss: 0.735027] [D acc.: 50.00%, fake 33.33%, real 66.67%] [G loss: 0.976762]\n",
            "10960 [D loss: 0.954733] [D acc.: 25.00%, fake 0.00%, real 50.00%] [G loss: 0.707711]\n",
            "10980 [D loss: 0.986234] [D acc.: 8.33%, fake 0.00%, real 16.67%] [G loss: 0.943282]\n"
          ],
          "name": "stdout"
        },
        {
          "output_type": "stream",
          "text": [
            "WARNING:root:Lossy conversion from float32 to uint8. Range [0, 1]. Convert image to uint8 prior to saving to suppress this warning.\n"
          ],
          "name": "stderr"
        },
        {
          "output_type": "stream",
          "text": [
            "11000 [D loss: 0.938575] [D acc.: 16.67%, fake 0.00%, real 33.33%] [G loss: 0.517601]\n",
            "11020 [D loss: 0.851873] [D acc.: 41.67%, fake 33.33%, real 50.00%] [G loss: 1.034415]\n",
            "11040 [D loss: 1.222523] [D acc.: 8.33%, fake 0.00%, real 16.67%] [G loss: 0.973399]\n",
            "11060 [D loss: 1.021295] [D acc.: 41.67%, fake 50.00%, real 33.33%] [G loss: 1.213889]\n",
            "11080 [D loss: 1.123844] [D acc.: 41.67%, fake 50.00%, real 33.33%] [G loss: 1.489354]\n"
          ],
          "name": "stdout"
        },
        {
          "output_type": "stream",
          "text": [
            "WARNING:root:Lossy conversion from float32 to uint8. Range [0, 1]. Convert image to uint8 prior to saving to suppress this warning.\n"
          ],
          "name": "stderr"
        },
        {
          "output_type": "stream",
          "text": [
            "11100 [D loss: 0.871482] [D acc.: 33.33%, fake 50.00%, real 16.67%] [G loss: 1.142908]\n",
            "11120 [D loss: 0.940277] [D acc.: 41.67%, fake 50.00%, real 33.33%] [G loss: 1.255701]\n",
            "11140 [D loss: 0.969884] [D acc.: 25.00%, fake 16.67%, real 33.33%] [G loss: 1.799309]\n",
            "11160 [D loss: 1.326602] [D acc.: 16.67%, fake 33.33%, real 0.00%] [G loss: 1.316805]\n",
            "11180 [D loss: 1.122271] [D acc.: 25.00%, fake 16.67%, real 33.33%] [G loss: 0.930227]\n"
          ],
          "name": "stdout"
        },
        {
          "output_type": "stream",
          "text": [
            "WARNING:root:Lossy conversion from float32 to uint8. Range [0, 1]. Convert image to uint8 prior to saving to suppress this warning.\n"
          ],
          "name": "stderr"
        },
        {
          "output_type": "stream",
          "text": [
            "11200 [D loss: 1.198436] [D acc.: 25.00%, fake 16.67%, real 33.33%] [G loss: 0.862322]\n",
            "11220 [D loss: 1.158520] [D acc.: 16.67%, fake 16.67%, real 16.67%] [G loss: 0.241671]\n",
            "11240 [D loss: 0.885189] [D acc.: 50.00%, fake 50.00%, real 50.00%] [G loss: 0.865726]\n",
            "11260 [D loss: 0.659445] [D acc.: 50.00%, fake 50.00%, real 50.00%] [G loss: 1.264876]\n",
            "11280 [D loss: 0.925523] [D acc.: 25.00%, fake 0.00%, real 50.00%] [G loss: 1.521963]\n"
          ],
          "name": "stdout"
        },
        {
          "output_type": "stream",
          "text": [
            "WARNING:root:Lossy conversion from float32 to uint8. Range [0, 1]. Convert image to uint8 prior to saving to suppress this warning.\n"
          ],
          "name": "stderr"
        },
        {
          "output_type": "stream",
          "text": [
            "11300 [D loss: 0.604286] [D acc.: 75.00%, fake 83.33%, real 66.67%] [G loss: 0.916438]\n",
            "11320 [D loss: 0.804458] [D acc.: 58.33%, fake 66.67%, real 50.00%] [G loss: 1.324871]\n",
            "11340 [D loss: 0.952699] [D acc.: 33.33%, fake 33.33%, real 33.33%] [G loss: 1.351199]\n",
            "11360 [D loss: 1.138890] [D acc.: 16.67%, fake 0.00%, real 33.33%] [G loss: 0.909661]\n",
            "11380 [D loss: 0.528293] [D acc.: 75.00%, fake 66.67%, real 83.33%] [G loss: 0.919196]\n"
          ],
          "name": "stdout"
        },
        {
          "output_type": "stream",
          "text": [
            "WARNING:root:Lossy conversion from float32 to uint8. Range [0, 1]. Convert image to uint8 prior to saving to suppress this warning.\n"
          ],
          "name": "stderr"
        },
        {
          "output_type": "stream",
          "text": [
            "11400 [D loss: 0.339782] [D acc.: 91.67%, fake 100.00%, real 83.33%] [G loss: 0.359255]\n",
            "11420 [D loss: 0.855334] [D acc.: 58.33%, fake 83.33%, real 33.33%] [G loss: 2.279780]\n",
            "11440 [D loss: 1.061660] [D acc.: 16.67%, fake 0.00%, real 33.33%] [G loss: 1.326618]\n",
            "11460 [D loss: 0.897637] [D acc.: 50.00%, fake 50.00%, real 50.00%] [G loss: 1.283053]\n",
            "11480 [D loss: 1.071421] [D acc.: 16.67%, fake 16.67%, real 16.67%] [G loss: 0.660779]\n"
          ],
          "name": "stdout"
        },
        {
          "output_type": "stream",
          "text": [
            "WARNING:root:Lossy conversion from float32 to uint8. Range [0, 1]. Convert image to uint8 prior to saving to suppress this warning.\n"
          ],
          "name": "stderr"
        },
        {
          "output_type": "stream",
          "text": [
            "11500 [D loss: 0.560523] [D acc.: 66.67%, fake 83.33%, real 50.00%] [G loss: 1.080275]\n",
            "11520 [D loss: 0.890167] [D acc.: 33.33%, fake 50.00%, real 16.67%] [G loss: 1.145256]\n",
            "11540 [D loss: 0.637714] [D acc.: 58.33%, fake 50.00%, real 66.67%] [G loss: 1.068250]\n",
            "11560 [D loss: 0.650293] [D acc.: 66.67%, fake 83.33%, real 50.00%] [G loss: 1.177296]\n",
            "11580 [D loss: 0.917306] [D acc.: 33.33%, fake 33.33%, real 33.33%] [G loss: 1.176858]\n"
          ],
          "name": "stdout"
        },
        {
          "output_type": "stream",
          "text": [
            "WARNING:root:Lossy conversion from float32 to uint8. Range [0, 1]. Convert image to uint8 prior to saving to suppress this warning.\n"
          ],
          "name": "stderr"
        },
        {
          "output_type": "stream",
          "text": [
            "11600 [D loss: 1.570862] [D acc.: 8.33%, fake 0.00%, real 16.67%] [G loss: 0.948150]\n",
            "11620 [D loss: 1.000663] [D acc.: 16.67%, fake 0.00%, real 33.33%] [G loss: 1.345603]\n",
            "11640 [D loss: 0.946192] [D acc.: 25.00%, fake 0.00%, real 50.00%] [G loss: 0.754330]\n",
            "11660 [D loss: 0.953455] [D acc.: 25.00%, fake 33.33%, real 16.67%] [G loss: 1.223199]\n",
            "11680 [D loss: 1.011875] [D acc.: 25.00%, fake 50.00%, real 0.00%] [G loss: 1.109302]\n"
          ],
          "name": "stdout"
        },
        {
          "output_type": "stream",
          "text": [
            "WARNING:root:Lossy conversion from float32 to uint8. Range [0, 1]. Convert image to uint8 prior to saving to suppress this warning.\n"
          ],
          "name": "stderr"
        },
        {
          "output_type": "stream",
          "text": [
            "11700 [D loss: 0.767433] [D acc.: 66.67%, fake 83.33%, real 50.00%] [G loss: 0.682747]\n",
            "11720 [D loss: 1.255833] [D acc.: 25.00%, fake 16.67%, real 33.33%] [G loss: 1.137046]\n",
            "11740 [D loss: 1.312588] [D acc.: 25.00%, fake 0.00%, real 50.00%] [G loss: 1.442849]\n",
            "11760 [D loss: 0.712185] [D acc.: 41.67%, fake 33.33%, real 50.00%] [G loss: 1.032926]\n",
            "11780 [D loss: 0.798957] [D acc.: 50.00%, fake 83.33%, real 16.67%] [G loss: 1.326936]\n"
          ],
          "name": "stdout"
        },
        {
          "output_type": "stream",
          "text": [
            "WARNING:root:Lossy conversion from float32 to uint8. Range [0, 1]. Convert image to uint8 prior to saving to suppress this warning.\n"
          ],
          "name": "stderr"
        },
        {
          "output_type": "stream",
          "text": [
            "11800 [D loss: 1.136419] [D acc.: 0.00%, fake 0.00%, real 0.00%] [G loss: 0.917593]\n",
            "11820 [D loss: 1.276350] [D acc.: 8.33%, fake 16.67%, real 0.00%] [G loss: 1.133497]\n",
            "11840 [D loss: 0.469755] [D acc.: 75.00%, fake 66.67%, real 83.33%] [G loss: 0.732406]\n",
            "11860 [D loss: 1.003505] [D acc.: 33.33%, fake 16.67%, real 50.00%] [G loss: 1.299809]\n",
            "11880 [D loss: 0.753883] [D acc.: 25.00%, fake 0.00%, real 50.00%] [G loss: 0.836265]\n"
          ],
          "name": "stdout"
        },
        {
          "output_type": "stream",
          "text": [
            "WARNING:root:Lossy conversion from float32 to uint8. Range [0, 1]. Convert image to uint8 prior to saving to suppress this warning.\n"
          ],
          "name": "stderr"
        },
        {
          "output_type": "stream",
          "text": [
            "11900 [D loss: 0.352282] [D acc.: 100.00%, fake 100.00%, real 100.00%] [G loss: 1.275535]\n",
            "11920 [D loss: 0.541679] [D acc.: 75.00%, fake 83.33%, real 66.67%] [G loss: 1.413761]\n",
            "11940 [D loss: 0.707500] [D acc.: 50.00%, fake 50.00%, real 50.00%] [G loss: 1.049423]\n",
            "11960 [D loss: 0.713151] [D acc.: 58.33%, fake 50.00%, real 66.67%] [G loss: 0.825522]\n",
            "11980 [D loss: 1.255421] [D acc.: 8.33%, fake 0.00%, real 16.67%] [G loss: 0.853629]\n"
          ],
          "name": "stdout"
        },
        {
          "output_type": "stream",
          "text": [
            "WARNING:root:Lossy conversion from float32 to uint8. Range [0, 1]. Convert image to uint8 prior to saving to suppress this warning.\n"
          ],
          "name": "stderr"
        },
        {
          "output_type": "stream",
          "text": [
            "12000 [D loss: 0.994053] [D acc.: 0.00%, fake 0.00%, real 0.00%] [G loss: 1.242333]\n",
            "12020 [D loss: 1.199067] [D acc.: 16.67%, fake 0.00%, real 33.33%] [G loss: 1.022677]\n",
            "12040 [D loss: 1.102599] [D acc.: 8.33%, fake 0.00%, real 16.67%] [G loss: 0.854687]\n",
            "12060 [D loss: 0.872334] [D acc.: 41.67%, fake 66.67%, real 16.67%] [G loss: 1.608626]\n",
            "12080 [D loss: 0.857203] [D acc.: 33.33%, fake 16.67%, real 50.00%] [G loss: 0.509921]\n"
          ],
          "name": "stdout"
        },
        {
          "output_type": "stream",
          "text": [
            "WARNING:root:Lossy conversion from float32 to uint8. Range [0, 1]. Convert image to uint8 prior to saving to suppress this warning.\n"
          ],
          "name": "stderr"
        },
        {
          "output_type": "stream",
          "text": [
            "12100 [D loss: 1.168061] [D acc.: 33.33%, fake 50.00%, real 16.67%] [G loss: 0.685626]\n",
            "12120 [D loss: 0.737698] [D acc.: 41.67%, fake 50.00%, real 33.33%] [G loss: 0.962938]\n",
            "12140 [D loss: 0.923773] [D acc.: 33.33%, fake 0.00%, real 66.67%] [G loss: 0.906215]\n",
            "12160 [D loss: 0.880545] [D acc.: 41.67%, fake 33.33%, real 50.00%] [G loss: 1.183055]\n",
            "12180 [D loss: 0.829169] [D acc.: 33.33%, fake 0.00%, real 66.67%] [G loss: 0.815443]\n"
          ],
          "name": "stdout"
        },
        {
          "output_type": "stream",
          "text": [
            "WARNING:root:Lossy conversion from float32 to uint8. Range [0, 1]. Convert image to uint8 prior to saving to suppress this warning.\n"
          ],
          "name": "stderr"
        },
        {
          "output_type": "stream",
          "text": [
            "12200 [D loss: 0.706427] [D acc.: 66.67%, fake 100.00%, real 33.33%] [G loss: 1.413367]\n",
            "12220 [D loss: 0.896340] [D acc.: 58.33%, fake 83.33%, real 33.33%] [G loss: 1.688187]\n",
            "12240 [D loss: 0.631530] [D acc.: 58.33%, fake 66.67%, real 50.00%] [G loss: 1.020975]\n",
            "12260 [D loss: 0.839222] [D acc.: 50.00%, fake 50.00%, real 50.00%] [G loss: 1.064937]\n",
            "12280 [D loss: 1.319224] [D acc.: 16.67%, fake 16.67%, real 16.67%] [G loss: 0.610237]\n"
          ],
          "name": "stdout"
        },
        {
          "output_type": "stream",
          "text": [
            "WARNING:root:Lossy conversion from float32 to uint8. Range [0, 1]. Convert image to uint8 prior to saving to suppress this warning.\n"
          ],
          "name": "stderr"
        },
        {
          "output_type": "stream",
          "text": [
            "12300 [D loss: 0.696360] [D acc.: 50.00%, fake 33.33%, real 66.67%] [G loss: 1.327567]\n",
            "12320 [D loss: 1.373671] [D acc.: 0.00%, fake 0.00%, real 0.00%] [G loss: 1.322604]\n",
            "12340 [D loss: 0.940862] [D acc.: 50.00%, fake 33.33%, real 66.67%] [G loss: 0.978377]\n",
            "12360 [D loss: 0.674441] [D acc.: 66.67%, fake 83.33%, real 50.00%] [G loss: 0.919491]\n",
            "12380 [D loss: 0.738435] [D acc.: 50.00%, fake 50.00%, real 50.00%] [G loss: 0.682845]\n"
          ],
          "name": "stdout"
        },
        {
          "output_type": "stream",
          "text": [
            "WARNING:root:Lossy conversion from float32 to uint8. Range [0, 1]. Convert image to uint8 prior to saving to suppress this warning.\n"
          ],
          "name": "stderr"
        },
        {
          "output_type": "stream",
          "text": [
            "12400 [D loss: 1.001873] [D acc.: 41.67%, fake 50.00%, real 33.33%] [G loss: 1.424055]\n",
            "12420 [D loss: 0.486940] [D acc.: 75.00%, fake 50.00%, real 100.00%] [G loss: 1.093240]\n",
            "12440 [D loss: 0.835781] [D acc.: 50.00%, fake 50.00%, real 50.00%] [G loss: 1.321286]\n",
            "12460 [D loss: 0.875009] [D acc.: 25.00%, fake 16.67%, real 33.33%] [G loss: 1.291626]\n",
            "12480 [D loss: 0.996730] [D acc.: 25.00%, fake 16.67%, real 33.33%] [G loss: 1.133880]\n"
          ],
          "name": "stdout"
        },
        {
          "output_type": "stream",
          "text": [
            "WARNING:root:Lossy conversion from float32 to uint8. Range [0, 1]. Convert image to uint8 prior to saving to suppress this warning.\n"
          ],
          "name": "stderr"
        },
        {
          "output_type": "stream",
          "text": [
            "12500 [D loss: 0.435147] [D acc.: 83.33%, fake 83.33%, real 83.33%] [G loss: 1.207112]\n",
            "12520 [D loss: 0.576944] [D acc.: 66.67%, fake 66.67%, real 66.67%] [G loss: 1.352831]\n",
            "12540 [D loss: 0.516800] [D acc.: 66.67%, fake 66.67%, real 66.67%] [G loss: 1.230492]\n",
            "12560 [D loss: 1.166480] [D acc.: 25.00%, fake 16.67%, real 33.33%] [G loss: 0.809627]\n",
            "12580 [D loss: 1.171870] [D acc.: 16.67%, fake 16.67%, real 16.67%] [G loss: 1.514105]\n"
          ],
          "name": "stdout"
        },
        {
          "output_type": "stream",
          "text": [
            "WARNING:root:Lossy conversion from float32 to uint8. Range [0, 1]. Convert image to uint8 prior to saving to suppress this warning.\n"
          ],
          "name": "stderr"
        },
        {
          "output_type": "stream",
          "text": [
            "12600 [D loss: 1.085008] [D acc.: 33.33%, fake 33.33%, real 33.33%] [G loss: 0.748364]\n",
            "12620 [D loss: 1.159032] [D acc.: 16.67%, fake 16.67%, real 16.67%] [G loss: 0.877425]\n",
            "12640 [D loss: 1.114826] [D acc.: 16.67%, fake 16.67%, real 16.67%] [G loss: 0.778104]\n",
            "12660 [D loss: 0.923490] [D acc.: 50.00%, fake 33.33%, real 66.67%] [G loss: 0.733189]\n",
            "12680 [D loss: 1.130142] [D acc.: 8.33%, fake 0.00%, real 16.67%] [G loss: 0.916066]\n"
          ],
          "name": "stdout"
        },
        {
          "output_type": "stream",
          "text": [
            "WARNING:root:Lossy conversion from float32 to uint8. Range [0, 1]. Convert image to uint8 prior to saving to suppress this warning.\n"
          ],
          "name": "stderr"
        },
        {
          "output_type": "stream",
          "text": [
            "12700 [D loss: 0.615423] [D acc.: 66.67%, fake 66.67%, real 66.67%] [G loss: 1.038541]\n",
            "12720 [D loss: 1.166302] [D acc.: 16.67%, fake 0.00%, real 33.33%] [G loss: 0.439655]\n",
            "12740 [D loss: 0.705184] [D acc.: 75.00%, fake 100.00%, real 50.00%] [G loss: 1.174307]\n",
            "12760 [D loss: 0.820219] [D acc.: 50.00%, fake 83.33%, real 16.67%] [G loss: 1.380196]\n",
            "12780 [D loss: 0.820447] [D acc.: 33.33%, fake 33.33%, real 33.33%] [G loss: 1.363770]\n"
          ],
          "name": "stdout"
        },
        {
          "output_type": "stream",
          "text": [
            "WARNING:root:Lossy conversion from float32 to uint8. Range [0, 1]. Convert image to uint8 prior to saving to suppress this warning.\n"
          ],
          "name": "stderr"
        },
        {
          "output_type": "stream",
          "text": [
            "12800 [D loss: 0.374215] [D acc.: 75.00%, fake 100.00%, real 50.00%] [G loss: 1.496831]\n",
            "12820 [D loss: 0.969899] [D acc.: 16.67%, fake 16.67%, real 16.67%] [G loss: 0.876711]\n",
            "12840 [D loss: 0.752814] [D acc.: 33.33%, fake 33.33%, real 33.33%] [G loss: 1.233815]\n",
            "12860 [D loss: 0.913660] [D acc.: 33.33%, fake 33.33%, real 33.33%] [G loss: 0.938566]\n",
            "12880 [D loss: 0.766460] [D acc.: 58.33%, fake 66.67%, real 50.00%] [G loss: 1.102636]\n"
          ],
          "name": "stdout"
        },
        {
          "output_type": "stream",
          "text": [
            "WARNING:root:Lossy conversion from float32 to uint8. Range [0, 1]. Convert image to uint8 prior to saving to suppress this warning.\n"
          ],
          "name": "stderr"
        },
        {
          "output_type": "stream",
          "text": [
            "12900 [D loss: 0.914716] [D acc.: 25.00%, fake 16.67%, real 33.33%] [G loss: 0.978067]\n",
            "12920 [D loss: 0.647345] [D acc.: 58.33%, fake 66.67%, real 50.00%] [G loss: 1.503802]\n",
            "12940 [D loss: 0.497882] [D acc.: 75.00%, fake 66.67%, real 83.33%] [G loss: 0.772623]\n",
            "12960 [D loss: 1.219225] [D acc.: 0.00%, fake 0.00%, real 0.00%] [G loss: 0.999806]\n",
            "12980 [D loss: 0.962944] [D acc.: 41.67%, fake 50.00%, real 33.33%] [G loss: 1.328595]\n"
          ],
          "name": "stdout"
        },
        {
          "output_type": "stream",
          "text": [
            "WARNING:root:Lossy conversion from float32 to uint8. Range [0, 1]. Convert image to uint8 prior to saving to suppress this warning.\n"
          ],
          "name": "stderr"
        },
        {
          "output_type": "stream",
          "text": [
            "13000 [D loss: 0.749355] [D acc.: 41.67%, fake 33.33%, real 50.00%] [G loss: 1.033338]\n",
            "13020 [D loss: 1.206801] [D acc.: 16.67%, fake 0.00%, real 33.33%] [G loss: 0.460436]\n",
            "13040 [D loss: 0.416064] [D acc.: 91.67%, fake 83.33%, real 100.00%] [G loss: 1.073556]\n",
            "13060 [D loss: 0.969964] [D acc.: 16.67%, fake 0.00%, real 33.33%] [G loss: 1.277679]\n",
            "13080 [D loss: 1.015591] [D acc.: 16.67%, fake 16.67%, real 16.67%] [G loss: 1.392540]\n"
          ],
          "name": "stdout"
        },
        {
          "output_type": "stream",
          "text": [
            "WARNING:root:Lossy conversion from float32 to uint8. Range [0, 1]. Convert image to uint8 prior to saving to suppress this warning.\n"
          ],
          "name": "stderr"
        },
        {
          "output_type": "stream",
          "text": [
            "13100 [D loss: 0.981451] [D acc.: 58.33%, fake 100.00%, real 16.67%] [G loss: 1.260119]\n",
            "13120 [D loss: 0.585475] [D acc.: 66.67%, fake 66.67%, real 66.67%] [G loss: 1.078641]\n",
            "13140 [D loss: 1.371261] [D acc.: 8.33%, fake 0.00%, real 16.67%] [G loss: 0.747324]\n",
            "13160 [D loss: 1.054977] [D acc.: 16.67%, fake 16.67%, real 16.67%] [G loss: 1.066557]\n",
            "13180 [D loss: 1.236944] [D acc.: 16.67%, fake 0.00%, real 33.33%] [G loss: 0.845074]\n"
          ],
          "name": "stdout"
        },
        {
          "output_type": "stream",
          "text": [
            "WARNING:root:Lossy conversion from float32 to uint8. Range [0, 1]. Convert image to uint8 prior to saving to suppress this warning.\n"
          ],
          "name": "stderr"
        },
        {
          "output_type": "stream",
          "text": [
            "13200 [D loss: 1.107588] [D acc.: 25.00%, fake 33.33%, real 16.67%] [G loss: 2.066067]\n",
            "13220 [D loss: 0.665238] [D acc.: 50.00%, fake 33.33%, real 66.67%] [G loss: 1.244968]\n",
            "13240 [D loss: 1.141859] [D acc.: 25.00%, fake 0.00%, real 50.00%] [G loss: 0.763229]\n",
            "13260 [D loss: 1.097366] [D acc.: 16.67%, fake 16.67%, real 16.67%] [G loss: 1.056165]\n",
            "13280 [D loss: 0.623900] [D acc.: 83.33%, fake 100.00%, real 66.67%] [G loss: 1.231011]\n"
          ],
          "name": "stdout"
        },
        {
          "output_type": "stream",
          "text": [
            "WARNING:root:Lossy conversion from float32 to uint8. Range [0, 1]. Convert image to uint8 prior to saving to suppress this warning.\n"
          ],
          "name": "stderr"
        },
        {
          "output_type": "stream",
          "text": [
            "13300 [D loss: 0.843128] [D acc.: 33.33%, fake 33.33%, real 33.33%] [G loss: 1.283027]\n",
            "13320 [D loss: 0.894115] [D acc.: 41.67%, fake 0.00%, real 83.33%] [G loss: 0.924458]\n",
            "13340 [D loss: 1.188906] [D acc.: 8.33%, fake 16.67%, real 0.00%] [G loss: 0.969087]\n",
            "13360 [D loss: 0.900238] [D acc.: 33.33%, fake 50.00%, real 16.67%] [G loss: 1.115645]\n",
            "13380 [D loss: 0.692481] [D acc.: 58.33%, fake 66.67%, real 50.00%] [G loss: 1.047283]\n"
          ],
          "name": "stdout"
        },
        {
          "output_type": "stream",
          "text": [
            "WARNING:root:Lossy conversion from float32 to uint8. Range [0, 1]. Convert image to uint8 prior to saving to suppress this warning.\n"
          ],
          "name": "stderr"
        },
        {
          "output_type": "stream",
          "text": [
            "13400 [D loss: 0.932652] [D acc.: 25.00%, fake 0.00%, real 50.00%] [G loss: 0.507111]\n",
            "13420 [D loss: 0.765365] [D acc.: 58.33%, fake 66.67%, real 50.00%] [G loss: 1.029042]\n",
            "13440 [D loss: 1.338535] [D acc.: 16.67%, fake 0.00%, real 33.33%] [G loss: 0.971843]\n",
            "13460 [D loss: 1.180353] [D acc.: 0.00%, fake 0.00%, real 0.00%] [G loss: 0.836152]\n",
            "13480 [D loss: 0.796185] [D acc.: 33.33%, fake 16.67%, real 50.00%] [G loss: 0.961609]\n"
          ],
          "name": "stdout"
        },
        {
          "output_type": "stream",
          "text": [
            "WARNING:root:Lossy conversion from float32 to uint8. Range [0, 1]. Convert image to uint8 prior to saving to suppress this warning.\n"
          ],
          "name": "stderr"
        },
        {
          "output_type": "stream",
          "text": [
            "13500 [D loss: 0.781628] [D acc.: 33.33%, fake 16.67%, real 50.00%] [G loss: 0.780271]\n",
            "13520 [D loss: 1.340260] [D acc.: 0.00%, fake 0.00%, real 0.00%] [G loss: 1.353335]\n",
            "13540 [D loss: 0.564751] [D acc.: 83.33%, fake 100.00%, real 66.67%] [G loss: 1.931113]\n",
            "13560 [D loss: 1.231870] [D acc.: 8.33%, fake 16.67%, real 0.00%] [G loss: 0.853111]\n",
            "13580 [D loss: 1.195566] [D acc.: 25.00%, fake 16.67%, real 33.33%] [G loss: 1.099728]\n"
          ],
          "name": "stdout"
        },
        {
          "output_type": "stream",
          "text": [
            "WARNING:root:Lossy conversion from float32 to uint8. Range [0, 1]. Convert image to uint8 prior to saving to suppress this warning.\n"
          ],
          "name": "stderr"
        },
        {
          "output_type": "stream",
          "text": [
            "13600 [D loss: 1.250749] [D acc.: 16.67%, fake 16.67%, real 16.67%] [G loss: 0.893402]\n",
            "13620 [D loss: 0.651122] [D acc.: 58.33%, fake 66.67%, real 50.00%] [G loss: 1.310216]\n",
            "13640 [D loss: 1.058869] [D acc.: 8.33%, fake 0.00%, real 16.67%] [G loss: 0.863852]\n",
            "13660 [D loss: 0.957918] [D acc.: 25.00%, fake 0.00%, real 50.00%] [G loss: 0.859063]\n",
            "13680 [D loss: 0.882034] [D acc.: 41.67%, fake 50.00%, real 33.33%] [G loss: 0.916248]\n"
          ],
          "name": "stdout"
        },
        {
          "output_type": "stream",
          "text": [
            "WARNING:root:Lossy conversion from float32 to uint8. Range [0, 1]. Convert image to uint8 prior to saving to suppress this warning.\n"
          ],
          "name": "stderr"
        },
        {
          "output_type": "stream",
          "text": [
            "13700 [D loss: 0.789431] [D acc.: 41.67%, fake 50.00%, real 33.33%] [G loss: 1.158345]\n",
            "13720 [D loss: 1.087289] [D acc.: 16.67%, fake 16.67%, real 16.67%] [G loss: 0.982998]\n",
            "13740 [D loss: 0.659143] [D acc.: 50.00%, fake 66.67%, real 33.33%] [G loss: 1.685609]\n",
            "13760 [D loss: 0.889338] [D acc.: 25.00%, fake 16.67%, real 33.33%] [G loss: 0.598154]\n",
            "13780 [D loss: 1.098199] [D acc.: 8.33%, fake 0.00%, real 16.67%] [G loss: 1.223742]\n"
          ],
          "name": "stdout"
        },
        {
          "output_type": "stream",
          "text": [
            "WARNING:root:Lossy conversion from float32 to uint8. Range [0, 1]. Convert image to uint8 prior to saving to suppress this warning.\n"
          ],
          "name": "stderr"
        },
        {
          "output_type": "stream",
          "text": [
            "13800 [D loss: 0.788107] [D acc.: 41.67%, fake 50.00%, real 33.33%] [G loss: 1.202775]\n",
            "13820 [D loss: 1.360299] [D acc.: 16.67%, fake 16.67%, real 16.67%] [G loss: 1.202891]\n",
            "13840 [D loss: 1.186893] [D acc.: 8.33%, fake 0.00%, real 16.67%] [G loss: 0.991405]\n",
            "13860 [D loss: 0.652016] [D acc.: 66.67%, fake 100.00%, real 33.33%] [G loss: 1.547478]\n",
            "13880 [D loss: 0.757837] [D acc.: 33.33%, fake 33.33%, real 33.33%] [G loss: 1.185069]\n"
          ],
          "name": "stdout"
        },
        {
          "output_type": "stream",
          "text": [
            "WARNING:root:Lossy conversion from float32 to uint8. Range [0, 1]. Convert image to uint8 prior to saving to suppress this warning.\n"
          ],
          "name": "stderr"
        },
        {
          "output_type": "stream",
          "text": [
            "13900 [D loss: 0.798223] [D acc.: 33.33%, fake 16.67%, real 50.00%] [G loss: 1.092197]\n",
            "13920 [D loss: 0.984319] [D acc.: 16.67%, fake 16.67%, real 16.67%] [G loss: 0.943560]\n",
            "13940 [D loss: 0.908353] [D acc.: 66.67%, fake 83.33%, real 50.00%] [G loss: 1.158265]\n",
            "13960 [D loss: 0.467246] [D acc.: 75.00%, fake 66.67%, real 83.33%] [G loss: 1.250413]\n",
            "13980 [D loss: 0.740427] [D acc.: 58.33%, fake 66.67%, real 50.00%] [G loss: 0.740561]\n"
          ],
          "name": "stdout"
        },
        {
          "output_type": "stream",
          "text": [
            "WARNING:root:Lossy conversion from float32 to uint8. Range [0, 1]. Convert image to uint8 prior to saving to suppress this warning.\n"
          ],
          "name": "stderr"
        },
        {
          "output_type": "stream",
          "text": [
            "14000 [D loss: 0.674618] [D acc.: 66.67%, fake 83.33%, real 50.00%] [G loss: 1.164726]\n",
            "14020 [D loss: 0.990095] [D acc.: 8.33%, fake 16.67%, real 0.00%] [G loss: 0.832843]\n",
            "14040 [D loss: 1.147045] [D acc.: 16.67%, fake 0.00%, real 33.33%] [G loss: 0.993347]\n",
            "14060 [D loss: 0.771865] [D acc.: 33.33%, fake 0.00%, real 66.67%] [G loss: 1.108578]\n",
            "14080 [D loss: 1.316753] [D acc.: 8.33%, fake 0.00%, real 16.67%] [G loss: 0.603880]\n"
          ],
          "name": "stdout"
        },
        {
          "output_type": "stream",
          "text": [
            "WARNING:root:Lossy conversion from float32 to uint8. Range [0, 1]. Convert image to uint8 prior to saving to suppress this warning.\n"
          ],
          "name": "stderr"
        },
        {
          "output_type": "stream",
          "text": [
            "14100 [D loss: 0.892654] [D acc.: 41.67%, fake 33.33%, real 50.00%] [G loss: 0.745709]\n",
            "14120 [D loss: 1.325241] [D acc.: 16.67%, fake 16.67%, real 16.67%] [G loss: 0.918727]\n",
            "14140 [D loss: 0.503593] [D acc.: 83.33%, fake 100.00%, real 66.67%] [G loss: 1.453929]\n",
            "14160 [D loss: 0.478212] [D acc.: 83.33%, fake 100.00%, real 66.67%] [G loss: 1.504565]\n",
            "14180 [D loss: 0.972231] [D acc.: 25.00%, fake 33.33%, real 16.67%] [G loss: 0.713777]\n"
          ],
          "name": "stdout"
        },
        {
          "output_type": "stream",
          "text": [
            "WARNING:root:Lossy conversion from float32 to uint8. Range [0, 1]. Convert image to uint8 prior to saving to suppress this warning.\n"
          ],
          "name": "stderr"
        },
        {
          "output_type": "stream",
          "text": [
            "14200 [D loss: 1.107406] [D acc.: 25.00%, fake 33.33%, real 16.67%] [G loss: 1.280488]\n",
            "14220 [D loss: 0.796865] [D acc.: 50.00%, fake 50.00%, real 50.00%] [G loss: 0.739723]\n",
            "14240 [D loss: 0.510201] [D acc.: 83.33%, fake 83.33%, real 83.33%] [G loss: 1.121156]\n",
            "14260 [D loss: 1.319764] [D acc.: 25.00%, fake 0.00%, real 50.00%] [G loss: 1.090993]\n",
            "14280 [D loss: 1.133669] [D acc.: 33.33%, fake 50.00%, real 16.67%] [G loss: 1.071901]\n"
          ],
          "name": "stdout"
        },
        {
          "output_type": "stream",
          "text": [
            "WARNING:root:Lossy conversion from float32 to uint8. Range [0, 1]. Convert image to uint8 prior to saving to suppress this warning.\n"
          ],
          "name": "stderr"
        },
        {
          "output_type": "stream",
          "text": [
            "14300 [D loss: 0.744734] [D acc.: 50.00%, fake 83.33%, real 16.67%] [G loss: 1.116914]\n",
            "14320 [D loss: 0.926044] [D acc.: 33.33%, fake 50.00%, real 16.67%] [G loss: 1.394685]\n",
            "14340 [D loss: 1.681922] [D acc.: 0.00%, fake 0.00%, real 0.00%] [G loss: 0.817938]\n",
            "14360 [D loss: 0.490955] [D acc.: 91.67%, fake 100.00%, real 83.33%] [G loss: 0.929070]\n",
            "14380 [D loss: 1.089997] [D acc.: 50.00%, fake 100.00%, real 0.00%] [G loss: 1.347499]\n"
          ],
          "name": "stdout"
        },
        {
          "output_type": "stream",
          "text": [
            "WARNING:root:Lossy conversion from float32 to uint8. Range [0, 1]. Convert image to uint8 prior to saving to suppress this warning.\n"
          ],
          "name": "stderr"
        },
        {
          "output_type": "stream",
          "text": [
            "14400 [D loss: 0.671030] [D acc.: 58.33%, fake 50.00%, real 66.67%] [G loss: 1.021133]\n",
            "14420 [D loss: 1.215178] [D acc.: 33.33%, fake 50.00%, real 16.67%] [G loss: 1.529270]\n",
            "14440 [D loss: 0.835528] [D acc.: 58.33%, fake 83.33%, real 33.33%] [G loss: 1.449123]\n",
            "14460 [D loss: 0.688278] [D acc.: 75.00%, fake 100.00%, real 50.00%] [G loss: 1.349583]\n",
            "14480 [D loss: 1.241224] [D acc.: 8.33%, fake 0.00%, real 16.67%] [G loss: 0.783671]\n"
          ],
          "name": "stdout"
        },
        {
          "output_type": "stream",
          "text": [
            "WARNING:root:Lossy conversion from float32 to uint8. Range [0, 1]. Convert image to uint8 prior to saving to suppress this warning.\n"
          ],
          "name": "stderr"
        },
        {
          "output_type": "stream",
          "text": [
            "14500 [D loss: 0.782152] [D acc.: 33.33%, fake 0.00%, real 66.67%] [G loss: 1.394359]\n",
            "14520 [D loss: 0.989907] [D acc.: 16.67%, fake 16.67%, real 16.67%] [G loss: 0.844532]\n",
            "14540 [D loss: 0.928422] [D acc.: 25.00%, fake 33.33%, real 16.67%] [G loss: 1.239518]\n",
            "14560 [D loss: 0.775455] [D acc.: 58.33%, fake 33.33%, real 83.33%] [G loss: 1.057639]\n",
            "14580 [D loss: 1.288412] [D acc.: 33.33%, fake 33.33%, real 33.33%] [G loss: 0.944855]\n"
          ],
          "name": "stdout"
        },
        {
          "output_type": "stream",
          "text": [
            "WARNING:root:Lossy conversion from float32 to uint8. Range [0, 1]. Convert image to uint8 prior to saving to suppress this warning.\n"
          ],
          "name": "stderr"
        },
        {
          "output_type": "stream",
          "text": [
            "14600 [D loss: 1.284112] [D acc.: 16.67%, fake 0.00%, real 33.33%] [G loss: 0.895192]\n",
            "14620 [D loss: 0.563031] [D acc.: 83.33%, fake 83.33%, real 83.33%] [G loss: 1.242526]\n",
            "14640 [D loss: 0.927387] [D acc.: 16.67%, fake 0.00%, real 33.33%] [G loss: 1.068447]\n",
            "14660 [D loss: 0.823886] [D acc.: 58.33%, fake 66.67%, real 50.00%] [G loss: 1.123228]\n",
            "14680 [D loss: 0.840739] [D acc.: 50.00%, fake 33.33%, real 66.67%] [G loss: 1.300705]\n"
          ],
          "name": "stdout"
        },
        {
          "output_type": "stream",
          "text": [
            "WARNING:root:Lossy conversion from float32 to uint8. Range [0, 1]. Convert image to uint8 prior to saving to suppress this warning.\n"
          ],
          "name": "stderr"
        },
        {
          "output_type": "stream",
          "text": [
            "14700 [D loss: 1.256638] [D acc.: 0.00%, fake 0.00%, real 0.00%] [G loss: 0.927569]\n",
            "14720 [D loss: 0.824138] [D acc.: 41.67%, fake 33.33%, real 50.00%] [G loss: 0.971174]\n",
            "14740 [D loss: 0.647182] [D acc.: 83.33%, fake 100.00%, real 66.67%] [G loss: 1.289451]\n",
            "14760 [D loss: 0.955280] [D acc.: 33.33%, fake 0.00%, real 66.67%] [G loss: 1.379379]\n",
            "14780 [D loss: 1.000423] [D acc.: 33.33%, fake 0.00%, real 66.67%] [G loss: 0.239328]\n"
          ],
          "name": "stdout"
        },
        {
          "output_type": "stream",
          "text": [
            "WARNING:root:Lossy conversion from float32 to uint8. Range [0, 1]. Convert image to uint8 prior to saving to suppress this warning.\n"
          ],
          "name": "stderr"
        },
        {
          "output_type": "stream",
          "text": [
            "14800 [D loss: 0.839407] [D acc.: 50.00%, fake 50.00%, real 50.00%] [G loss: 0.984032]\n",
            "14820 [D loss: 1.421251] [D acc.: 0.00%, fake 0.00%, real 0.00%] [G loss: 0.630583]\n",
            "14840 [D loss: 1.028985] [D acc.: 8.33%, fake 0.00%, real 16.67%] [G loss: 1.418520]\n",
            "14860 [D loss: 1.008680] [D acc.: 41.67%, fake 66.67%, real 16.67%] [G loss: 1.478699]\n",
            "14880 [D loss: 1.275186] [D acc.: 16.67%, fake 0.00%, real 33.33%] [G loss: 0.953138]\n"
          ],
          "name": "stdout"
        },
        {
          "output_type": "stream",
          "text": [
            "WARNING:root:Lossy conversion from float32 to uint8. Range [0, 1]. Convert image to uint8 prior to saving to suppress this warning.\n"
          ],
          "name": "stderr"
        },
        {
          "output_type": "stream",
          "text": [
            "14900 [D loss: 0.832320] [D acc.: 41.67%, fake 16.67%, real 66.67%] [G loss: 0.855284]\n",
            "14920 [D loss: 0.634786] [D acc.: 58.33%, fake 83.33%, real 33.33%] [G loss: 1.108783]\n",
            "14940 [D loss: 1.024145] [D acc.: 16.67%, fake 33.33%, real 0.00%] [G loss: 0.689830]\n",
            "14960 [D loss: 0.997827] [D acc.: 8.33%, fake 0.00%, real 16.67%] [G loss: 0.916094]\n",
            "14980 [D loss: 0.430239] [D acc.: 83.33%, fake 100.00%, real 66.67%] [G loss: 1.683161]\n"
          ],
          "name": "stdout"
        },
        {
          "output_type": "stream",
          "text": [
            "WARNING:root:Lossy conversion from float32 to uint8. Range [0, 1]. Convert image to uint8 prior to saving to suppress this warning.\n"
          ],
          "name": "stderr"
        },
        {
          "output_type": "stream",
          "text": [
            "15000 [D loss: 0.985853] [D acc.: 50.00%, fake 83.33%, real 16.67%] [G loss: 1.507586]\n",
            "15020 [D loss: 1.343087] [D acc.: 8.33%, fake 0.00%, real 16.67%] [G loss: 0.845474]\n",
            "15040 [D loss: 1.031771] [D acc.: 33.33%, fake 33.33%, real 33.33%] [G loss: 0.878348]\n",
            "15060 [D loss: 1.280878] [D acc.: 25.00%, fake 50.00%, real 0.00%] [G loss: 0.687246]\n",
            "15080 [D loss: 1.033120] [D acc.: 33.33%, fake 16.67%, real 50.00%] [G loss: 0.793736]\n"
          ],
          "name": "stdout"
        },
        {
          "output_type": "stream",
          "text": [
            "WARNING:root:Lossy conversion from float32 to uint8. Range [0, 1]. Convert image to uint8 prior to saving to suppress this warning.\n"
          ],
          "name": "stderr"
        },
        {
          "output_type": "stream",
          "text": [
            "15100 [D loss: 2.312856] [D acc.: 16.67%, fake 0.00%, real 33.33%] [G loss: 0.736496]\n",
            "15120 [D loss: 0.886650] [D acc.: 33.33%, fake 16.67%, real 50.00%] [G loss: 1.213745]\n",
            "15140 [D loss: 0.996942] [D acc.: 33.33%, fake 0.00%, real 66.67%] [G loss: 1.010965]\n",
            "15160 [D loss: 1.310446] [D acc.: 0.00%, fake 0.00%, real 0.00%] [G loss: 0.478393]\n",
            "15180 [D loss: 0.904912] [D acc.: 50.00%, fake 50.00%, real 50.00%] [G loss: 1.024317]\n"
          ],
          "name": "stdout"
        },
        {
          "output_type": "stream",
          "text": [
            "WARNING:root:Lossy conversion from float32 to uint8. Range [0, 1]. Convert image to uint8 prior to saving to suppress this warning.\n"
          ],
          "name": "stderr"
        },
        {
          "output_type": "stream",
          "text": [
            "15200 [D loss: 1.102960] [D acc.: 25.00%, fake 33.33%, real 16.67%] [G loss: 0.970225]\n",
            "15220 [D loss: 0.924507] [D acc.: 33.33%, fake 33.33%, real 33.33%] [G loss: 1.294560]\n",
            "15240 [D loss: 1.016172] [D acc.: 25.00%, fake 0.00%, real 50.00%] [G loss: 0.978629]\n",
            "15260 [D loss: 1.067587] [D acc.: 25.00%, fake 16.67%, real 33.33%] [G loss: 1.090471]\n",
            "15280 [D loss: 0.530070] [D acc.: 75.00%, fake 66.67%, real 83.33%] [G loss: 10.939977]\n"
          ],
          "name": "stdout"
        },
        {
          "output_type": "stream",
          "text": [
            "WARNING:root:Lossy conversion from float32 to uint8. Range [0, 1]. Convert image to uint8 prior to saving to suppress this warning.\n"
          ],
          "name": "stderr"
        },
        {
          "output_type": "stream",
          "text": [
            "15300 [D loss: 0.654530] [D acc.: 58.33%, fake 33.33%, real 83.33%] [G loss: 1.690959]\n",
            "15320 [D loss: 1.035120] [D acc.: 58.33%, fake 66.67%, real 50.00%] [G loss: 1.217142]\n",
            "15340 [D loss: 0.953043] [D acc.: 16.67%, fake 0.00%, real 33.33%] [G loss: 0.772618]\n",
            "15360 [D loss: 1.276794] [D acc.: 25.00%, fake 16.67%, real 33.33%] [G loss: 1.141308]\n",
            "15380 [D loss: 0.651573] [D acc.: 50.00%, fake 50.00%, real 50.00%] [G loss: 1.134414]\n"
          ],
          "name": "stdout"
        },
        {
          "output_type": "stream",
          "text": [
            "WARNING:root:Lossy conversion from float32 to uint8. Range [0, 1]. Convert image to uint8 prior to saving to suppress this warning.\n"
          ],
          "name": "stderr"
        },
        {
          "output_type": "stream",
          "text": [
            "15400 [D loss: 0.979060] [D acc.: 25.00%, fake 16.67%, real 33.33%] [G loss: 1.080593]\n",
            "15420 [D loss: 1.529636] [D acc.: 0.00%, fake 0.00%, real 0.00%] [G loss: 0.705139]\n",
            "15440 [D loss: 1.343836] [D acc.: 25.00%, fake 16.67%, real 33.33%] [G loss: 0.999671]\n",
            "15460 [D loss: 1.208100] [D acc.: 33.33%, fake 50.00%, real 16.67%] [G loss: 1.204646]\n",
            "15480 [D loss: 0.700300] [D acc.: 58.33%, fake 66.67%, real 50.00%] [G loss: 1.842009]\n"
          ],
          "name": "stdout"
        },
        {
          "output_type": "stream",
          "text": [
            "WARNING:root:Lossy conversion from float32 to uint8. Range [0, 1]. Convert image to uint8 prior to saving to suppress this warning.\n"
          ],
          "name": "stderr"
        },
        {
          "output_type": "stream",
          "text": [
            "15500 [D loss: 0.696342] [D acc.: 50.00%, fake 33.33%, real 66.67%] [G loss: 0.862726]\n",
            "15520 [D loss: 1.352180] [D acc.: 25.00%, fake 16.67%, real 33.33%] [G loss: 1.024515]\n",
            "15540 [D loss: 1.056347] [D acc.: 8.33%, fake 0.00%, real 16.67%] [G loss: 1.178496]\n",
            "15560 [D loss: 1.144914] [D acc.: 8.33%, fake 0.00%, real 16.67%] [G loss: 0.848777]\n",
            "15580 [D loss: 0.496361] [D acc.: 66.67%, fake 50.00%, real 83.33%] [G loss: 1.131833]\n"
          ],
          "name": "stdout"
        },
        {
          "output_type": "stream",
          "text": [
            "WARNING:root:Lossy conversion from float32 to uint8. Range [0, 1]. Convert image to uint8 prior to saving to suppress this warning.\n"
          ],
          "name": "stderr"
        },
        {
          "output_type": "stream",
          "text": [
            "15600 [D loss: 0.958533] [D acc.: 33.33%, fake 0.00%, real 66.67%] [G loss: 0.646415]\n",
            "15620 [D loss: 0.735881] [D acc.: 58.33%, fake 66.67%, real 50.00%] [G loss: 1.393232]\n",
            "15640 [D loss: 0.630771] [D acc.: 50.00%, fake 16.67%, real 83.33%] [G loss: 1.228911]\n",
            "15660 [D loss: 0.778141] [D acc.: 16.67%, fake 0.00%, real 33.33%] [G loss: 0.921991]\n",
            "15680 [D loss: 1.146830] [D acc.: 25.00%, fake 0.00%, real 50.00%] [G loss: 0.862641]\n"
          ],
          "name": "stdout"
        },
        {
          "output_type": "stream",
          "text": [
            "WARNING:root:Lossy conversion from float32 to uint8. Range [0, 1]. Convert image to uint8 prior to saving to suppress this warning.\n"
          ],
          "name": "stderr"
        },
        {
          "output_type": "stream",
          "text": [
            "15700 [D loss: 0.753526] [D acc.: 50.00%, fake 83.33%, real 16.67%] [G loss: 1.270713]\n",
            "15720 [D loss: 0.692713] [D acc.: 58.33%, fake 66.67%, real 50.00%] [G loss: 1.412144]\n",
            "15740 [D loss: 1.038839] [D acc.: 25.00%, fake 33.33%, real 16.67%] [G loss: 1.104520]\n",
            "15760 [D loss: 1.209506] [D acc.: 0.00%, fake 0.00%, real 0.00%] [G loss: 1.040728]\n",
            "15780 [D loss: 0.827104] [D acc.: 25.00%, fake 0.00%, real 50.00%] [G loss: 1.102761]\n"
          ],
          "name": "stdout"
        },
        {
          "output_type": "stream",
          "text": [
            "WARNING:root:Lossy conversion from float32 to uint8. Range [0, 1]. Convert image to uint8 prior to saving to suppress this warning.\n"
          ],
          "name": "stderr"
        },
        {
          "output_type": "stream",
          "text": [
            "15800 [D loss: 0.895265] [D acc.: 8.33%, fake 0.00%, real 16.67%] [G loss: 0.800543]\n",
            "15820 [D loss: 1.191460] [D acc.: 8.33%, fake 0.00%, real 16.67%] [G loss: 1.072130]\n",
            "15840 [D loss: 1.090427] [D acc.: 8.33%, fake 16.67%, real 0.00%] [G loss: 0.792738]\n",
            "15860 [D loss: 0.628890] [D acc.: 83.33%, fake 83.33%, real 83.33%] [G loss: 1.001569]\n",
            "15880 [D loss: 1.025062] [D acc.: 16.67%, fake 16.67%, real 16.67%] [G loss: 0.758601]\n"
          ],
          "name": "stdout"
        },
        {
          "output_type": "stream",
          "text": [
            "WARNING:root:Lossy conversion from float32 to uint8. Range [0, 1]. Convert image to uint8 prior to saving to suppress this warning.\n"
          ],
          "name": "stderr"
        },
        {
          "output_type": "stream",
          "text": [
            "15900 [D loss: 2.039186] [D acc.: 8.33%, fake 0.00%, real 16.67%] [G loss: 0.914811]\n",
            "15920 [D loss: 0.550465] [D acc.: 66.67%, fake 66.67%, real 66.67%] [G loss: 1.349237]\n",
            "15940 [D loss: 0.885657] [D acc.: 25.00%, fake 16.67%, real 33.33%] [G loss: 0.719903]\n",
            "15960 [D loss: 1.040928] [D acc.: 8.33%, fake 0.00%, real 16.67%] [G loss: 0.993450]\n",
            "15980 [D loss: 1.158557] [D acc.: 8.33%, fake 0.00%, real 16.67%] [G loss: 1.026724]\n"
          ],
          "name": "stdout"
        },
        {
          "output_type": "stream",
          "text": [
            "WARNING:root:Lossy conversion from float32 to uint8. Range [0, 1]. Convert image to uint8 prior to saving to suppress this warning.\n"
          ],
          "name": "stderr"
        },
        {
          "output_type": "stream",
          "text": [
            "16000 [D loss: 0.778226] [D acc.: 50.00%, fake 50.00%, real 50.00%] [G loss: 1.714319]\n",
            "16020 [D loss: 0.734054] [D acc.: 41.67%, fake 33.33%, real 50.00%] [G loss: 1.320156]\n",
            "16040 [D loss: 1.160673] [D acc.: 8.33%, fake 0.00%, real 16.67%] [G loss: 1.156542]\n",
            "16060 [D loss: 0.906087] [D acc.: 25.00%, fake 0.00%, real 50.00%] [G loss: 0.330787]\n",
            "16080 [D loss: 0.801595] [D acc.: 58.33%, fake 50.00%, real 66.67%] [G loss: 1.215158]\n"
          ],
          "name": "stdout"
        },
        {
          "output_type": "stream",
          "text": [
            "WARNING:root:Lossy conversion from float32 to uint8. Range [0, 1]. Convert image to uint8 prior to saving to suppress this warning.\n"
          ],
          "name": "stderr"
        },
        {
          "output_type": "stream",
          "text": [
            "16100 [D loss: 0.712760] [D acc.: 41.67%, fake 16.67%, real 66.67%] [G loss: 1.000902]\n",
            "16120 [D loss: 0.780814] [D acc.: 58.33%, fake 66.67%, real 50.00%] [G loss: 0.752468]\n",
            "16140 [D loss: 1.151866] [D acc.: 25.00%, fake 0.00%, real 50.00%] [G loss: 0.720290]\n",
            "16160 [D loss: 1.097672] [D acc.: 0.00%, fake 0.00%, real 0.00%] [G loss: 0.669421]\n",
            "16180 [D loss: 1.127386] [D acc.: 33.33%, fake 33.33%, real 33.33%] [G loss: 1.211763]\n"
          ],
          "name": "stdout"
        },
        {
          "output_type": "stream",
          "text": [
            "WARNING:root:Lossy conversion from float32 to uint8. Range [0, 1]. Convert image to uint8 prior to saving to suppress this warning.\n"
          ],
          "name": "stderr"
        },
        {
          "output_type": "stream",
          "text": [
            "16200 [D loss: 0.992598] [D acc.: 33.33%, fake 16.67%, real 50.00%] [G loss: 0.955170]\n",
            "16220 [D loss: 0.975964] [D acc.: 16.67%, fake 0.00%, real 33.33%] [G loss: 0.891952]\n",
            "16240 [D loss: 0.693784] [D acc.: 75.00%, fake 100.00%, real 50.00%] [G loss: 1.233929]\n",
            "16260 [D loss: 1.273681] [D acc.: 8.33%, fake 16.67%, real 0.00%] [G loss: 1.124234]\n",
            "16280 [D loss: 1.279147] [D acc.: 25.00%, fake 33.33%, real 16.67%] [G loss: 1.325572]\n"
          ],
          "name": "stdout"
        },
        {
          "output_type": "stream",
          "text": [
            "WARNING:root:Lossy conversion from float32 to uint8. Range [0, 1]. Convert image to uint8 prior to saving to suppress this warning.\n"
          ],
          "name": "stderr"
        },
        {
          "output_type": "stream",
          "text": [
            "16300 [D loss: 0.872252] [D acc.: 50.00%, fake 50.00%, real 50.00%] [G loss: 0.731641]\n",
            "16320 [D loss: 0.885815] [D acc.: 50.00%, fake 50.00%, real 50.00%] [G loss: 1.293883]\n",
            "16340 [D loss: 1.413818] [D acc.: 16.67%, fake 0.00%, real 33.33%] [G loss: 0.955132]\n",
            "16360 [D loss: 0.875204] [D acc.: 41.67%, fake 16.67%, real 66.67%] [G loss: 0.939488]\n",
            "16380 [D loss: 1.110164] [D acc.: 25.00%, fake 0.00%, real 50.00%] [G loss: 1.090442]\n"
          ],
          "name": "stdout"
        },
        {
          "output_type": "stream",
          "text": [
            "WARNING:root:Lossy conversion from float32 to uint8. Range [0, 1]. Convert image to uint8 prior to saving to suppress this warning.\n"
          ],
          "name": "stderr"
        },
        {
          "output_type": "stream",
          "text": [
            "16400 [D loss: 0.569189] [D acc.: 75.00%, fake 100.00%, real 50.00%] [G loss: 1.165745]\n",
            "16420 [D loss: 1.092847] [D acc.: 33.33%, fake 33.33%, real 33.33%] [G loss: 1.512069]\n",
            "16440 [D loss: 1.057895] [D acc.: 8.33%, fake 16.67%, real 0.00%] [G loss: 1.129176]\n",
            "16460 [D loss: 0.821489] [D acc.: 58.33%, fake 66.67%, real 50.00%] [G loss: 1.461042]\n",
            "16480 [D loss: 0.959110] [D acc.: 33.33%, fake 33.33%, real 33.33%] [G loss: 1.297677]\n"
          ],
          "name": "stdout"
        },
        {
          "output_type": "stream",
          "text": [
            "WARNING:root:Lossy conversion from float32 to uint8. Range [0, 1]. Convert image to uint8 prior to saving to suppress this warning.\n"
          ],
          "name": "stderr"
        },
        {
          "output_type": "stream",
          "text": [
            "16500 [D loss: 0.730378] [D acc.: 58.33%, fake 50.00%, real 66.67%] [G loss: 1.021787]\n",
            "16520 [D loss: 0.836896] [D acc.: 58.33%, fake 66.67%, real 50.00%] [G loss: 0.773263]\n",
            "16540 [D loss: 1.063164] [D acc.: 33.33%, fake 0.00%, real 66.67%] [G loss: 0.772766]\n",
            "16560 [D loss: 1.024053] [D acc.: 33.33%, fake 33.33%, real 33.33%] [G loss: 1.003398]\n",
            "16580 [D loss: 1.183203] [D acc.: 8.33%, fake 0.00%, real 16.67%] [G loss: 0.882707]\n"
          ],
          "name": "stdout"
        },
        {
          "output_type": "stream",
          "text": [
            "WARNING:root:Lossy conversion from float32 to uint8. Range [0, 1]. Convert image to uint8 prior to saving to suppress this warning.\n"
          ],
          "name": "stderr"
        },
        {
          "output_type": "stream",
          "text": [
            "16600 [D loss: 0.818174] [D acc.: 50.00%, fake 50.00%, real 50.00%] [G loss: 1.192667]\n",
            "16620 [D loss: 0.801894] [D acc.: 33.33%, fake 16.67%, real 50.00%] [G loss: 1.036798]\n",
            "16640 [D loss: 0.830755] [D acc.: 58.33%, fake 100.00%, real 16.67%] [G loss: 0.936891]\n",
            "16660 [D loss: 1.207889] [D acc.: 16.67%, fake 0.00%, real 33.33%] [G loss: 0.657339]\n",
            "16680 [D loss: 1.135994] [D acc.: 8.33%, fake 0.00%, real 16.67%] [G loss: 0.638952]\n"
          ],
          "name": "stdout"
        },
        {
          "output_type": "stream",
          "text": [
            "WARNING:root:Lossy conversion from float32 to uint8. Range [0, 1]. Convert image to uint8 prior to saving to suppress this warning.\n"
          ],
          "name": "stderr"
        },
        {
          "output_type": "stream",
          "text": [
            "16700 [D loss: 1.116419] [D acc.: 25.00%, fake 0.00%, real 50.00%] [G loss: 0.899373]\n",
            "16720 [D loss: 0.932074] [D acc.: 25.00%, fake 16.67%, real 33.33%] [G loss: 1.092294]\n",
            "16740 [D loss: 1.526283] [D acc.: 0.00%, fake 0.00%, real 0.00%] [G loss: 1.430787]\n",
            "16760 [D loss: 0.968817] [D acc.: 25.00%, fake 0.00%, real 50.00%] [G loss: 0.837162]\n",
            "16780 [D loss: 1.338022] [D acc.: 0.00%, fake 0.00%, real 0.00%] [G loss: 0.965832]\n"
          ],
          "name": "stdout"
        },
        {
          "output_type": "stream",
          "text": [
            "WARNING:root:Lossy conversion from float32 to uint8. Range [0, 1]. Convert image to uint8 prior to saving to suppress this warning.\n"
          ],
          "name": "stderr"
        },
        {
          "output_type": "stream",
          "text": [
            "16800 [D loss: 1.410604] [D acc.: 25.00%, fake 0.00%, real 50.00%] [G loss: 0.913250]\n",
            "16820 [D loss: 0.901074] [D acc.: 25.00%, fake 0.00%, real 50.00%] [G loss: 0.866580]\n",
            "16840 [D loss: 0.524212] [D acc.: 75.00%, fake 83.33%, real 66.67%] [G loss: 1.125610]\n",
            "16860 [D loss: 0.811383] [D acc.: 58.33%, fake 66.67%, real 50.00%] [G loss: 1.195328]\n",
            "16880 [D loss: 0.770006] [D acc.: 41.67%, fake 50.00%, real 33.33%] [G loss: 0.913625]\n"
          ],
          "name": "stdout"
        },
        {
          "output_type": "stream",
          "text": [
            "WARNING:root:Lossy conversion from float32 to uint8. Range [0, 1]. Convert image to uint8 prior to saving to suppress this warning.\n"
          ],
          "name": "stderr"
        },
        {
          "output_type": "stream",
          "text": [
            "16900 [D loss: 1.261161] [D acc.: 16.67%, fake 16.67%, real 16.67%] [G loss: 0.933648]\n",
            "16920 [D loss: 1.267785] [D acc.: 8.33%, fake 16.67%, real 0.00%] [G loss: 1.145688]\n",
            "16940 [D loss: 1.049624] [D acc.: 25.00%, fake 16.67%, real 33.33%] [G loss: 1.041358]\n",
            "16960 [D loss: 0.692553] [D acc.: 58.33%, fake 83.33%, real 33.33%] [G loss: 1.105841]\n",
            "16980 [D loss: 1.096681] [D acc.: 8.33%, fake 0.00%, real 16.67%] [G loss: 0.946977]\n"
          ],
          "name": "stdout"
        },
        {
          "output_type": "stream",
          "text": [
            "WARNING:root:Lossy conversion from float32 to uint8. Range [0, 1]. Convert image to uint8 prior to saving to suppress this warning.\n"
          ],
          "name": "stderr"
        },
        {
          "output_type": "stream",
          "text": [
            "17000 [D loss: 1.191498] [D acc.: 8.33%, fake 0.00%, real 16.67%] [G loss: 0.856077]\n",
            "17020 [D loss: 0.981711] [D acc.: 25.00%, fake 33.33%, real 16.67%] [G loss: 0.919442]\n",
            "17040 [D loss: 0.536815] [D acc.: 91.67%, fake 100.00%, real 83.33%] [G loss: 1.480684]\n",
            "17060 [D loss: 0.835850] [D acc.: 41.67%, fake 16.67%, real 66.67%] [G loss: 0.837650]\n",
            "17080 [D loss: 0.882604] [D acc.: 58.33%, fake 100.00%, real 16.67%] [G loss: 1.750476]\n"
          ],
          "name": "stdout"
        },
        {
          "output_type": "stream",
          "text": [
            "WARNING:root:Lossy conversion from float32 to uint8. Range [0, 1]. Convert image to uint8 prior to saving to suppress this warning.\n"
          ],
          "name": "stderr"
        },
        {
          "output_type": "stream",
          "text": [
            "17100 [D loss: 0.628649] [D acc.: 75.00%, fake 83.33%, real 66.67%] [G loss: 1.147184]\n",
            "17120 [D loss: 0.952347] [D acc.: 41.67%, fake 0.00%, real 83.33%] [G loss: 1.066315]\n",
            "17140 [D loss: 0.897921] [D acc.: 33.33%, fake 16.67%, real 50.00%] [G loss: 0.907712]\n",
            "17160 [D loss: 1.205932] [D acc.: 25.00%, fake 0.00%, real 50.00%] [G loss: 0.878562]\n",
            "17180 [D loss: 1.202431] [D acc.: 16.67%, fake 0.00%, real 33.33%] [G loss: 0.671181]\n"
          ],
          "name": "stdout"
        },
        {
          "output_type": "stream",
          "text": [
            "WARNING:root:Lossy conversion from float32 to uint8. Range [0, 1]. Convert image to uint8 prior to saving to suppress this warning.\n"
          ],
          "name": "stderr"
        },
        {
          "output_type": "stream",
          "text": [
            "17200 [D loss: 0.911733] [D acc.: 33.33%, fake 50.00%, real 16.67%] [G loss: 1.109352]\n",
            "17220 [D loss: 0.702613] [D acc.: 58.33%, fake 100.00%, real 16.67%] [G loss: 1.434640]\n",
            "17240 [D loss: 1.097608] [D acc.: 25.00%, fake 0.00%, real 50.00%] [G loss: 0.720300]\n",
            "17260 [D loss: 1.000827] [D acc.: 16.67%, fake 0.00%, real 33.33%] [G loss: 0.833384]\n",
            "17280 [D loss: 1.017349] [D acc.: 25.00%, fake 16.67%, real 33.33%] [G loss: 1.165295]\n"
          ],
          "name": "stdout"
        },
        {
          "output_type": "stream",
          "text": [
            "WARNING:root:Lossy conversion from float32 to uint8. Range [0, 1]. Convert image to uint8 prior to saving to suppress this warning.\n"
          ],
          "name": "stderr"
        },
        {
          "output_type": "stream",
          "text": [
            "17300 [D loss: 0.917780] [D acc.: 16.67%, fake 0.00%, real 33.33%] [G loss: 1.040674]\n",
            "17320 [D loss: 0.879368] [D acc.: 16.67%, fake 0.00%, real 33.33%] [G loss: 0.793133]\n",
            "17340 [D loss: 0.871217] [D acc.: 41.67%, fake 66.67%, real 16.67%] [G loss: 1.195493]\n",
            "17360 [D loss: 0.800569] [D acc.: 25.00%, fake 33.33%, real 16.67%] [G loss: 1.144587]\n",
            "17380 [D loss: 0.657051] [D acc.: 41.67%, fake 16.67%, real 66.67%] [G loss: 0.853474]\n"
          ],
          "name": "stdout"
        },
        {
          "output_type": "stream",
          "text": [
            "WARNING:root:Lossy conversion from float32 to uint8. Range [0, 1]. Convert image to uint8 prior to saving to suppress this warning.\n"
          ],
          "name": "stderr"
        },
        {
          "output_type": "stream",
          "text": [
            "17400 [D loss: 1.115138] [D acc.: 0.00%, fake 0.00%, real 0.00%] [G loss: 0.964265]\n",
            "17420 [D loss: 1.404509] [D acc.: 8.33%, fake 0.00%, real 16.67%] [G loss: 1.006151]\n",
            "17440 [D loss: 1.258282] [D acc.: 16.67%, fake 0.00%, real 33.33%] [G loss: 0.751557]\n",
            "17460 [D loss: 1.448348] [D acc.: 0.00%, fake 0.00%, real 0.00%] [G loss: 0.681422]\n",
            "17480 [D loss: 0.523270] [D acc.: 75.00%, fake 66.67%, real 83.33%] [G loss: 0.928960]\n"
          ],
          "name": "stdout"
        },
        {
          "output_type": "stream",
          "text": [
            "WARNING:root:Lossy conversion from float32 to uint8. Range [0, 1]. Convert image to uint8 prior to saving to suppress this warning.\n"
          ],
          "name": "stderr"
        },
        {
          "output_type": "stream",
          "text": [
            "17500 [D loss: 0.532031] [D acc.: 75.00%, fake 100.00%, real 50.00%] [G loss: 1.529263]\n",
            "17520 [D loss: 0.840422] [D acc.: 16.67%, fake 0.00%, real 33.33%] [G loss: 0.588223]\n",
            "17540 [D loss: 0.862841] [D acc.: 58.33%, fake 50.00%, real 66.67%] [G loss: 0.845518]\n",
            "17560 [D loss: 0.825113] [D acc.: 33.33%, fake 16.67%, real 50.00%] [G loss: 1.215065]\n",
            "17580 [D loss: 0.918378] [D acc.: 16.67%, fake 0.00%, real 33.33%] [G loss: 0.682482]\n"
          ],
          "name": "stdout"
        },
        {
          "output_type": "stream",
          "text": [
            "WARNING:root:Lossy conversion from float32 to uint8. Range [0, 1]. Convert image to uint8 prior to saving to suppress this warning.\n"
          ],
          "name": "stderr"
        },
        {
          "output_type": "stream",
          "text": [
            "17600 [D loss: 1.245186] [D acc.: 8.33%, fake 0.00%, real 16.67%] [G loss: 0.740977]\n",
            "17620 [D loss: 0.937616] [D acc.: 16.67%, fake 16.67%, real 16.67%] [G loss: 0.883354]\n",
            "17640 [D loss: 0.786355] [D acc.: 50.00%, fake 66.67%, real 33.33%] [G loss: 1.038967]\n",
            "17660 [D loss: 0.616821] [D acc.: 50.00%, fake 33.33%, real 66.67%] [G loss: 1.410028]\n",
            "17680 [D loss: 1.178058] [D acc.: 8.33%, fake 16.67%, real 0.00%] [G loss: 0.914118]\n"
          ],
          "name": "stdout"
        },
        {
          "output_type": "stream",
          "text": [
            "WARNING:root:Lossy conversion from float32 to uint8. Range [0, 1]. Convert image to uint8 prior to saving to suppress this warning.\n"
          ],
          "name": "stderr"
        },
        {
          "output_type": "stream",
          "text": [
            "17700 [D loss: 1.123171] [D acc.: 8.33%, fake 0.00%, real 16.67%] [G loss: 1.197761]\n",
            "17720 [D loss: 0.990024] [D acc.: 25.00%, fake 33.33%, real 16.67%] [G loss: 1.242741]\n",
            "17740 [D loss: 0.816565] [D acc.: 41.67%, fake 33.33%, real 50.00%] [G loss: 0.836260]\n",
            "17760 [D loss: 1.085437] [D acc.: 8.33%, fake 0.00%, real 16.67%] [G loss: 0.996140]\n",
            "17780 [D loss: 0.827775] [D acc.: 50.00%, fake 33.33%, real 66.67%] [G loss: 0.680399]\n"
          ],
          "name": "stdout"
        },
        {
          "output_type": "stream",
          "text": [
            "WARNING:root:Lossy conversion from float32 to uint8. Range [0, 1]. Convert image to uint8 prior to saving to suppress this warning.\n"
          ],
          "name": "stderr"
        },
        {
          "output_type": "stream",
          "text": [
            "17800 [D loss: 0.974373] [D acc.: 25.00%, fake 0.00%, real 50.00%] [G loss: 0.662538]\n",
            "17820 [D loss: 0.754931] [D acc.: 50.00%, fake 83.33%, real 16.67%] [G loss: 1.032692]\n",
            "17840 [D loss: 0.997637] [D acc.: 16.67%, fake 33.33%, real 0.00%] [G loss: 1.077792]\n",
            "17860 [D loss: 0.939522] [D acc.: 16.67%, fake 16.67%, real 16.67%] [G loss: 0.901893]\n",
            "17880 [D loss: 0.284237] [D acc.: 91.67%, fake 100.00%, real 83.33%] [G loss: 2.442817]\n"
          ],
          "name": "stdout"
        },
        {
          "output_type": "stream",
          "text": [
            "WARNING:root:Lossy conversion from float32 to uint8. Range [0, 1]. Convert image to uint8 prior to saving to suppress this warning.\n"
          ],
          "name": "stderr"
        },
        {
          "output_type": "stream",
          "text": [
            "17900 [D loss: 0.850220] [D acc.: 33.33%, fake 16.67%, real 50.00%] [G loss: 1.138491]\n",
            "17920 [D loss: 1.270178] [D acc.: 8.33%, fake 0.00%, real 16.67%] [G loss: 1.242892]\n",
            "17940 [D loss: 0.715002] [D acc.: 50.00%, fake 66.67%, real 33.33%] [G loss: 1.262735]\n",
            "17960 [D loss: 1.137830] [D acc.: 25.00%, fake 0.00%, real 50.00%] [G loss: 0.761422]\n",
            "17980 [D loss: 0.681997] [D acc.: 58.33%, fake 66.67%, real 50.00%] [G loss: 1.084163]\n"
          ],
          "name": "stdout"
        },
        {
          "output_type": "stream",
          "text": [
            "WARNING:root:Lossy conversion from float32 to uint8. Range [0, 1]. Convert image to uint8 prior to saving to suppress this warning.\n"
          ],
          "name": "stderr"
        },
        {
          "output_type": "stream",
          "text": [
            "18000 [D loss: 0.901116] [D acc.: 33.33%, fake 33.33%, real 33.33%] [G loss: 0.925580]\n",
            "18020 [D loss: 1.231117] [D acc.: 16.67%, fake 16.67%, real 16.67%] [G loss: 1.520202]\n",
            "18040 [D loss: 0.812174] [D acc.: 16.67%, fake 0.00%, real 33.33%] [G loss: 1.055902]\n",
            "18060 [D loss: 1.051584] [D acc.: 41.67%, fake 83.33%, real 0.00%] [G loss: 1.200468]\n",
            "18080 [D loss: 1.087482] [D acc.: 33.33%, fake 33.33%, real 33.33%] [G loss: 0.865229]\n"
          ],
          "name": "stdout"
        },
        {
          "output_type": "stream",
          "text": [
            "WARNING:root:Lossy conversion from float32 to uint8. Range [0, 1]. Convert image to uint8 prior to saving to suppress this warning.\n"
          ],
          "name": "stderr"
        },
        {
          "output_type": "stream",
          "text": [
            "18100 [D loss: 0.409816] [D acc.: 91.67%, fake 100.00%, real 83.33%] [G loss: 1.246393]\n",
            "18120 [D loss: 1.330529] [D acc.: 16.67%, fake 16.67%, real 16.67%] [G loss: 0.529038]\n",
            "18140 [D loss: 0.968569] [D acc.: 41.67%, fake 50.00%, real 33.33%] [G loss: 1.501492]\n",
            "18160 [D loss: 1.161023] [D acc.: 16.67%, fake 0.00%, real 33.33%] [G loss: 0.583776]\n",
            "18180 [D loss: 0.798575] [D acc.: 50.00%, fake 50.00%, real 50.00%] [G loss: 1.394635]\n"
          ],
          "name": "stdout"
        },
        {
          "output_type": "stream",
          "text": [
            "WARNING:root:Lossy conversion from float32 to uint8. Range [0, 1]. Convert image to uint8 prior to saving to suppress this warning.\n"
          ],
          "name": "stderr"
        },
        {
          "output_type": "stream",
          "text": [
            "18200 [D loss: 0.508390] [D acc.: 83.33%, fake 100.00%, real 66.67%] [G loss: 1.253707]\n",
            "18220 [D loss: 1.054664] [D acc.: 0.00%, fake 0.00%, real 0.00%] [G loss: 0.905036]\n",
            "18240 [D loss: 1.127846] [D acc.: 16.67%, fake 33.33%, real 0.00%] [G loss: 1.607538]\n",
            "18260 [D loss: 1.271058] [D acc.: 25.00%, fake 16.67%, real 33.33%] [G loss: 0.495156]\n",
            "18280 [D loss: 0.970295] [D acc.: 25.00%, fake 33.33%, real 16.67%] [G loss: 0.645059]\n"
          ],
          "name": "stdout"
        },
        {
          "output_type": "stream",
          "text": [
            "WARNING:root:Lossy conversion from float32 to uint8. Range [0, 1]. Convert image to uint8 prior to saving to suppress this warning.\n"
          ],
          "name": "stderr"
        },
        {
          "output_type": "stream",
          "text": [
            "18300 [D loss: 1.224095] [D acc.: 33.33%, fake 66.67%, real 0.00%] [G loss: 1.337692]\n",
            "18320 [D loss: 1.440161] [D acc.: 33.33%, fake 33.33%, real 33.33%] [G loss: 0.651812]\n",
            "18340 [D loss: 1.260527] [D acc.: 25.00%, fake 0.00%, real 50.00%] [G loss: 0.915306]\n",
            "18360 [D loss: 0.736739] [D acc.: 58.33%, fake 33.33%, real 83.33%] [G loss: 1.103516]\n",
            "18380 [D loss: 0.781556] [D acc.: 25.00%, fake 16.67%, real 33.33%] [G loss: 0.614829]\n"
          ],
          "name": "stdout"
        },
        {
          "output_type": "stream",
          "text": [
            "WARNING:root:Lossy conversion from float32 to uint8. Range [0, 1]. Convert image to uint8 prior to saving to suppress this warning.\n"
          ],
          "name": "stderr"
        },
        {
          "output_type": "stream",
          "text": [
            "18400 [D loss: 0.822334] [D acc.: 33.33%, fake 16.67%, real 50.00%] [G loss: 0.649733]\n",
            "18420 [D loss: 0.948448] [D acc.: 25.00%, fake 16.67%, real 33.33%] [G loss: 0.912195]\n",
            "18440 [D loss: 0.513714] [D acc.: 66.67%, fake 100.00%, real 33.33%] [G loss: 2.266401]\n",
            "18460 [D loss: 1.115027] [D acc.: 16.67%, fake 0.00%, real 33.33%] [G loss: 0.899634]\n",
            "18480 [D loss: 1.234734] [D acc.: 25.00%, fake 0.00%, real 50.00%] [G loss: 1.954983]\n"
          ],
          "name": "stdout"
        },
        {
          "output_type": "stream",
          "text": [
            "WARNING:root:Lossy conversion from float32 to uint8. Range [0, 1]. Convert image to uint8 prior to saving to suppress this warning.\n"
          ],
          "name": "stderr"
        },
        {
          "output_type": "stream",
          "text": [
            "18500 [D loss: 1.002300] [D acc.: 25.00%, fake 50.00%, real 0.00%] [G loss: 1.061225]\n",
            "18520 [D loss: 0.932793] [D acc.: 8.33%, fake 0.00%, real 16.67%] [G loss: 1.017333]\n",
            "18540 [D loss: 0.820515] [D acc.: 58.33%, fake 83.33%, real 33.33%] [G loss: 1.569149]\n",
            "18560 [D loss: 0.777495] [D acc.: 25.00%, fake 16.67%, real 33.33%] [G loss: 0.854682]\n",
            "18580 [D loss: 1.103245] [D acc.: 0.00%, fake 0.00%, real 0.00%] [G loss: 0.893086]\n"
          ],
          "name": "stdout"
        },
        {
          "output_type": "stream",
          "text": [
            "WARNING:root:Lossy conversion from float32 to uint8. Range [0, 1]. Convert image to uint8 prior to saving to suppress this warning.\n"
          ],
          "name": "stderr"
        },
        {
          "output_type": "stream",
          "text": [
            "18600 [D loss: 0.397596] [D acc.: 83.33%, fake 100.00%, real 66.67%] [G loss: 2.028386]\n",
            "18620 [D loss: 0.782165] [D acc.: 75.00%, fake 83.33%, real 66.67%] [G loss: 1.420950]\n",
            "18640 [D loss: 0.684617] [D acc.: 50.00%, fake 33.33%, real 66.67%] [G loss: 0.944784]\n",
            "18660 [D loss: 0.904813] [D acc.: 50.00%, fake 66.67%, real 33.33%] [G loss: 0.852931]\n",
            "18680 [D loss: 0.745202] [D acc.: 58.33%, fake 66.67%, real 50.00%] [G loss: 1.202147]\n"
          ],
          "name": "stdout"
        },
        {
          "output_type": "stream",
          "text": [
            "WARNING:root:Lossy conversion from float32 to uint8. Range [0, 1]. Convert image to uint8 prior to saving to suppress this warning.\n"
          ],
          "name": "stderr"
        },
        {
          "output_type": "stream",
          "text": [
            "18700 [D loss: 0.492580] [D acc.: 83.33%, fake 100.00%, real 66.67%] [G loss: 1.510353]\n",
            "18720 [D loss: 0.995057] [D acc.: 50.00%, fake 66.67%, real 33.33%] [G loss: 1.280096]\n",
            "18740 [D loss: 0.800582] [D acc.: 25.00%, fake 33.33%, real 16.67%] [G loss: 1.000484]\n",
            "18760 [D loss: 0.422752] [D acc.: 83.33%, fake 100.00%, real 66.67%] [G loss: 1.368983]\n",
            "18780 [D loss: 0.686221] [D acc.: 41.67%, fake 16.67%, real 66.67%] [G loss: 0.591213]\n"
          ],
          "name": "stdout"
        },
        {
          "output_type": "stream",
          "text": [
            "WARNING:root:Lossy conversion from float32 to uint8. Range [0, 1]. Convert image to uint8 prior to saving to suppress this warning.\n"
          ],
          "name": "stderr"
        },
        {
          "output_type": "stream",
          "text": [
            "18800 [D loss: 1.192862] [D acc.: 8.33%, fake 0.00%, real 16.67%] [G loss: 0.872434]\n",
            "18820 [D loss: 0.442225] [D acc.: 91.67%, fake 83.33%, real 100.00%] [G loss: 0.987654]\n",
            "18840 [D loss: 1.119246] [D acc.: 41.67%, fake 83.33%, real 0.00%] [G loss: 1.260708]\n",
            "18860 [D loss: 0.863894] [D acc.: 33.33%, fake 16.67%, real 50.00%] [G loss: 0.688366]\n",
            "18880 [D loss: 1.056621] [D acc.: 33.33%, fake 33.33%, real 33.33%] [G loss: 1.140026]\n"
          ],
          "name": "stdout"
        },
        {
          "output_type": "stream",
          "text": [
            "WARNING:root:Lossy conversion from float32 to uint8. Range [0, 1]. Convert image to uint8 prior to saving to suppress this warning.\n"
          ],
          "name": "stderr"
        },
        {
          "output_type": "stream",
          "text": [
            "18900 [D loss: 0.954020] [D acc.: 50.00%, fake 83.33%, real 16.67%] [G loss: 1.327496]\n",
            "18920 [D loss: 0.802165] [D acc.: 33.33%, fake 16.67%, real 50.00%] [G loss: 1.116459]\n",
            "18940 [D loss: 0.570172] [D acc.: 66.67%, fake 100.00%, real 33.33%] [G loss: 1.258000]\n",
            "18960 [D loss: 1.397058] [D acc.: 8.33%, fake 0.00%, real 16.67%] [G loss: 0.359476]\n",
            "18980 [D loss: 0.688175] [D acc.: 58.33%, fake 33.33%, real 83.33%] [G loss: 0.937773]\n"
          ],
          "name": "stdout"
        },
        {
          "output_type": "stream",
          "text": [
            "WARNING:root:Lossy conversion from float32 to uint8. Range [0, 1]. Convert image to uint8 prior to saving to suppress this warning.\n"
          ],
          "name": "stderr"
        },
        {
          "output_type": "stream",
          "text": [
            "19000 [D loss: 0.574008] [D acc.: 83.33%, fake 100.00%, real 66.67%] [G loss: 1.104165]\n",
            "19020 [D loss: 0.431731] [D acc.: 83.33%, fake 100.00%, real 66.67%] [G loss: 1.747478]\n",
            "19040 [D loss: 0.804931] [D acc.: 75.00%, fake 100.00%, real 50.00%] [G loss: 1.503256]\n",
            "19060 [D loss: 0.855220] [D acc.: 25.00%, fake 33.33%, real 16.67%] [G loss: 1.172155]\n",
            "19080 [D loss: 1.158749] [D acc.: 16.67%, fake 33.33%, real 0.00%] [G loss: 1.279418]\n"
          ],
          "name": "stdout"
        },
        {
          "output_type": "stream",
          "text": [
            "WARNING:root:Lossy conversion from float32 to uint8. Range [0, 1]. Convert image to uint8 prior to saving to suppress this warning.\n"
          ],
          "name": "stderr"
        },
        {
          "output_type": "stream",
          "text": [
            "19100 [D loss: 0.847813] [D acc.: 33.33%, fake 33.33%, real 33.33%] [G loss: 1.228221]\n",
            "19120 [D loss: 1.124253] [D acc.: 16.67%, fake 0.00%, real 33.33%] [G loss: 0.750227]\n",
            "19140 [D loss: 1.213194] [D acc.: 25.00%, fake 33.33%, real 16.67%] [G loss: 1.243301]\n",
            "19160 [D loss: 0.985289] [D acc.: 16.67%, fake 0.00%, real 33.33%] [G loss: 0.613991]\n",
            "19180 [D loss: 0.747307] [D acc.: 50.00%, fake 50.00%, real 50.00%] [G loss: 0.672921]\n"
          ],
          "name": "stdout"
        },
        {
          "output_type": "stream",
          "text": [
            "WARNING:root:Lossy conversion from float32 to uint8. Range [0, 1]. Convert image to uint8 prior to saving to suppress this warning.\n"
          ],
          "name": "stderr"
        },
        {
          "output_type": "stream",
          "text": [
            "19200 [D loss: 1.050752] [D acc.: 8.33%, fake 0.00%, real 16.67%] [G loss: 0.706072]\n",
            "19220 [D loss: 1.210353] [D acc.: 16.67%, fake 0.00%, real 33.33%] [G loss: 0.636244]\n",
            "19240 [D loss: 0.868568] [D acc.: 41.67%, fake 66.67%, real 16.67%] [G loss: 0.988674]\n",
            "19260 [D loss: 1.137803] [D acc.: 33.33%, fake 16.67%, real 50.00%] [G loss: 1.040583]\n",
            "19280 [D loss: 0.912029] [D acc.: 33.33%, fake 50.00%, real 16.67%] [G loss: 1.255580]\n"
          ],
          "name": "stdout"
        },
        {
          "output_type": "stream",
          "text": [
            "WARNING:root:Lossy conversion from float32 to uint8. Range [0, 1]. Convert image to uint8 prior to saving to suppress this warning.\n"
          ],
          "name": "stderr"
        },
        {
          "output_type": "stream",
          "text": [
            "19300 [D loss: 0.658741] [D acc.: 66.67%, fake 83.33%, real 50.00%] [G loss: 1.337495]\n",
            "19320 [D loss: 0.872286] [D acc.: 33.33%, fake 33.33%, real 33.33%] [G loss: 1.101079]\n",
            "19340 [D loss: 1.088874] [D acc.: 41.67%, fake 33.33%, real 50.00%] [G loss: 0.746543]\n",
            "19360 [D loss: 1.123092] [D acc.: 25.00%, fake 0.00%, real 50.00%] [G loss: 1.122579]\n",
            "19380 [D loss: 0.901027] [D acc.: 41.67%, fake 50.00%, real 33.33%] [G loss: 1.257992]\n"
          ],
          "name": "stdout"
        },
        {
          "output_type": "stream",
          "text": [
            "WARNING:root:Lossy conversion from float32 to uint8. Range [0, 1]. Convert image to uint8 prior to saving to suppress this warning.\n"
          ],
          "name": "stderr"
        },
        {
          "output_type": "stream",
          "text": [
            "19400 [D loss: 0.911082] [D acc.: 41.67%, fake 33.33%, real 50.00%] [G loss: 0.673111]\n",
            "19420 [D loss: 0.795976] [D acc.: 33.33%, fake 16.67%, real 50.00%] [G loss: 1.010115]\n",
            "19440 [D loss: 0.939232] [D acc.: 25.00%, fake 33.33%, real 16.67%] [G loss: 1.173958]\n",
            "19460 [D loss: 0.751536] [D acc.: 33.33%, fake 16.67%, real 50.00%] [G loss: 1.109523]\n",
            "19480 [D loss: 1.019007] [D acc.: 8.33%, fake 0.00%, real 16.67%] [G loss: 0.934540]\n"
          ],
          "name": "stdout"
        },
        {
          "output_type": "stream",
          "text": [
            "WARNING:root:Lossy conversion from float32 to uint8. Range [0, 1]. Convert image to uint8 prior to saving to suppress this warning.\n"
          ],
          "name": "stderr"
        },
        {
          "output_type": "stream",
          "text": [
            "19500 [D loss: 0.330363] [D acc.: 91.67%, fake 100.00%, real 83.33%] [G loss: 1.817511]\n",
            "19520 [D loss: 1.086819] [D acc.: 25.00%, fake 33.33%, real 16.67%] [G loss: 1.062652]\n",
            "19540 [D loss: 0.942574] [D acc.: 41.67%, fake 33.33%, real 50.00%] [G loss: 1.007454]\n",
            "19560 [D loss: 1.165591] [D acc.: 0.00%, fake 0.00%, real 0.00%] [G loss: 1.257146]\n",
            "19580 [D loss: 0.712384] [D acc.: 41.67%, fake 33.33%, real 50.00%] [G loss: 0.761753]\n"
          ],
          "name": "stdout"
        },
        {
          "output_type": "stream",
          "text": [
            "WARNING:root:Lossy conversion from float32 to uint8. Range [0, 1]. Convert image to uint8 prior to saving to suppress this warning.\n"
          ],
          "name": "stderr"
        },
        {
          "output_type": "stream",
          "text": [
            "19600 [D loss: 1.435557] [D acc.: 25.00%, fake 16.67%, real 33.33%] [G loss: 0.524381]\n",
            "19620 [D loss: 0.581844] [D acc.: 66.67%, fake 83.33%, real 50.00%] [G loss: 1.034750]\n",
            "19640 [D loss: 1.115417] [D acc.: 0.00%, fake 0.00%, real 0.00%] [G loss: 0.867392]\n",
            "19660 [D loss: 0.853015] [D acc.: 33.33%, fake 50.00%, real 16.67%] [G loss: 1.477871]\n",
            "19680 [D loss: 0.883346] [D acc.: 25.00%, fake 33.33%, real 16.67%] [G loss: 1.211421]\n"
          ],
          "name": "stdout"
        },
        {
          "output_type": "stream",
          "text": [
            "WARNING:root:Lossy conversion from float32 to uint8. Range [0, 1]. Convert image to uint8 prior to saving to suppress this warning.\n"
          ],
          "name": "stderr"
        },
        {
          "output_type": "stream",
          "text": [
            "19700 [D loss: 1.910267] [D acc.: 16.67%, fake 0.00%, real 33.33%] [G loss: 0.428512]\n",
            "19720 [D loss: 1.107320] [D acc.: 16.67%, fake 16.67%, real 16.67%] [G loss: 1.006322]\n",
            "19740 [D loss: 0.847186] [D acc.: 58.33%, fake 83.33%, real 33.33%] [G loss: 1.363693]\n",
            "19760 [D loss: 0.396672] [D acc.: 100.00%, fake 100.00%, real 100.00%] [G loss: 1.454980]\n",
            "19780 [D loss: 1.112625] [D acc.: 16.67%, fake 0.00%, real 33.33%] [G loss: 0.749711]\n"
          ],
          "name": "stdout"
        },
        {
          "output_type": "stream",
          "text": [
            "WARNING:root:Lossy conversion from float32 to uint8. Range [0, 1]. Convert image to uint8 prior to saving to suppress this warning.\n"
          ],
          "name": "stderr"
        },
        {
          "output_type": "stream",
          "text": [
            "19800 [D loss: 0.948670] [D acc.: 16.67%, fake 0.00%, real 33.33%] [G loss: 0.887819]\n",
            "19820 [D loss: 1.031206] [D acc.: 0.00%, fake 0.00%, real 0.00%] [G loss: 0.832951]\n",
            "19840 [D loss: 0.434285] [D acc.: 83.33%, fake 100.00%, real 66.67%] [G loss: 1.264958]\n",
            "19860 [D loss: 1.123977] [D acc.: 25.00%, fake 33.33%, real 16.67%] [G loss: 1.008864]\n",
            "19880 [D loss: 0.611612] [D acc.: 75.00%, fake 100.00%, real 50.00%] [G loss: 1.314081]\n"
          ],
          "name": "stdout"
        },
        {
          "output_type": "stream",
          "text": [
            "WARNING:root:Lossy conversion from float32 to uint8. Range [0, 1]. Convert image to uint8 prior to saving to suppress this warning.\n"
          ],
          "name": "stderr"
        },
        {
          "output_type": "stream",
          "text": [
            "19900 [D loss: 1.614318] [D acc.: 0.00%, fake 0.00%, real 0.00%] [G loss: 0.833603]\n",
            "19920 [D loss: 1.001912] [D acc.: 8.33%, fake 16.67%, real 0.00%] [G loss: 1.081983]\n",
            "19940 [D loss: 0.722068] [D acc.: 58.33%, fake 66.67%, real 50.00%] [G loss: 1.408033]\n",
            "19960 [D loss: 0.790312] [D acc.: 50.00%, fake 66.67%, real 33.33%] [G loss: 1.523042]\n",
            "19980 [D loss: 0.721893] [D acc.: 58.33%, fake 50.00%, real 66.67%] [G loss: 1.169854]\n"
          ],
          "name": "stdout"
        },
        {
          "output_type": "stream",
          "text": [
            "WARNING:root:Lossy conversion from float32 to uint8. Range [0, 1]. Convert image to uint8 prior to saving to suppress this warning.\n"
          ],
          "name": "stderr"
        },
        {
          "output_type": "stream",
          "text": [
            "20000 [D loss: 1.182557] [D acc.: 16.67%, fake 16.67%, real 16.67%] [G loss: 1.165913]\n"
          ],
          "name": "stdout"
        }
      ]
    },
    {
      "metadata": {
        "id": "wAlr1E0XnqKv",
        "colab_type": "text"
      },
      "cell_type": "markdown",
      "source": [
        "## Creating GIF"
      ]
    },
    {
      "metadata": {
        "id": "x_Ywbx_M4v84",
        "colab_type": "code",
        "colab": {}
      },
      "cell_type": "code",
      "source": [
        "def folder_to_gif(folder, output_file):\n",
        "  images = []\n",
        "  for index in np.arange(0, epochs, sample_interval):\n",
        "    images.append(imageio.imread(\"%s/%s.jpg\" % (folder, index)))\n",
        "  \n",
        "  imageio.mimsave(output_file, images)\n",
        "    \n",
        "def optimizer_string():\n",
        "    if (type(optimizer) == Adam):\n",
        "        return \"adam_%.0E\" % lr\n",
        "    elif (type(optimizer) == RMSprop):\n",
        "        return \"rmsprop_%.0E\" % lr\n",
        "    else:\n",
        "        return optimizer\n"
      ],
      "execution_count": 0,
      "outputs": []
    },
    {
      "metadata": {
        "id": "Lti4ClYPEB4F",
        "colab_type": "code",
        "colab": {}
      },
      "cell_type": "code",
      "source": [
        "output_file = 'training-%s_latent_%s-batch_%s.gif' % (optimizer_string(), latent_dim, batch_size)\n",
        "folder_to_gif(output_folder, output_file)"
      ],
      "execution_count": 0,
      "outputs": []
    }
  ]
}