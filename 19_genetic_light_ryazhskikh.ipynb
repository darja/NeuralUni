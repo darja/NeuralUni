{
  "nbformat": 4,
  "nbformat_minor": 0,
  "metadata": {
    "colab": {
      "name": "19_genetic_light_ryazhskikh",
      "version": "0.3.2",
      "provenance": [],
      "collapsed_sections": [],
      "toc_visible": true,
      "include_colab_link": true
    },
    "kernelspec": {
      "name": "python3",
      "display_name": "Python 3"
    },
    "accelerator": "GPU"
  },
  "cells": [
    {
      "cell_type": "markdown",
      "metadata": {
        "id": "view-in-github",
        "colab_type": "text"
      },
      "source": [
        "<a href=\"https://colab.research.google.com/github/darja/NeuralUni/blob/master/19_genetic_light_ryazhskikh.ipynb\" target=\"_parent\"><img src=\"https://colab.research.google.com/assets/colab-badge.svg\" alt=\"Open In Colab\"/></a>"
      ]
    },
    {
      "cell_type": "markdown",
      "metadata": {
        "id": "Ah7dy1kFL2H9",
        "colab_type": "text"
      },
      "source": [
        "# Решение задачи о поездах с помощью генетического алгоритма\n",
        "\n",
        "\n",
        "Есть `T` поездов заданной вместимости (`capacity`) и `С` грузов заданного веса (`cargo`). Требуется распределить груз по поездам наиболее оптимальным способом.\n",
        "\n",
        "Со значениями, которые были в исходном ноутбуке, невозможно полностью распределить грузы по поездам, так что данные были подобраны так, чтобы решение сходилось."
      ]
    },
    {
      "cell_type": "markdown",
      "metadata": {
        "id": "ywTlpBWQYrFq",
        "colab_type": "text"
      },
      "source": [
        "## Настройка окружения"
      ]
    },
    {
      "cell_type": "code",
      "metadata": {
        "id": "qrfd6FzSLrE2",
        "colab_type": "code",
        "colab": {}
      },
      "source": [
        "import numpy as np\n",
        "import pandas as pd\n",
        "from numpy.random import randint\n",
        "from random import sample\n",
        "\n",
        "import matplotlib.pyplot as plt\n",
        "%matplotlib inline "
      ],
      "execution_count": 0,
      "outputs": []
    },
    {
      "cell_type": "markdown",
      "metadata": {
        "id": "5muNF92b5CxH",
        "colab_type": "text"
      },
      "source": [
        "## Решение"
      ]
    },
    {
      "cell_type": "markdown",
      "metadata": {
        "id": "etzpSerr9Nyx",
        "colab_type": "text"
      },
      "source": [
        "Задаём входные данные – вместимость поездов и вес грузов"
      ]
    },
    {
      "cell_type": "code",
      "metadata": {
        "id": "9Vgsftk4aIW4",
        "colab_type": "code",
        "colab": {}
      },
      "source": [
        "capacity = np.array([10, 18, 6, 15, 9, 3, 2, 22])\n",
        "cargo = np.array([5, 10, 2, 2, 8, 16, 4, 11, 1, 3, 1, 1, 7, 4, 3, 2, 1, 2, 2])\n",
        "\n",
        "trains_count = len(capacity)\n",
        "cargo_count = len(cargo)\n"
      ],
      "execution_count": 0,
      "outputs": []
    },
    {
      "cell_type": "markdown",
      "metadata": {
        "id": "6zAb06UqYznE",
        "colab_type": "text"
      },
      "source": [
        "Бот – массив из `C` целых чисел от `0` до `T-1`. Число на позиции `i` – это номер поезда, на который распределяется `i`-й груз"
      ]
    },
    {
      "cell_type": "code",
      "metadata": {
        "id": "GZzsTrTza8PH",
        "colab_type": "code",
        "colab": {}
      },
      "source": [
        "class Bot:\n",
        "    def __init__(self, parents=[], mutation_rate=0):\n",
        "        if len(parents) == 0:\n",
        "            # Создание случайного бота\n",
        "            self.cells = randint(trains_count, size=cargo_count)\n",
        "        else:\n",
        "            # Создание бота-потомка\n",
        "            produce_cells = np.vectorize(lambda i: self.inherit_cell(parents, mutation_rate, i))\n",
        "\n",
        "            self.cells = produce_cells(np.arange(cargo_count))\n",
        "\n",
        "        self.score = self.calculate_score()\n",
        "\n",
        "    def __str__(self):\n",
        "        return f\"{self.score} | {self.cells}\"\n",
        "\n",
        "    # наследование одной ячейки\n",
        "    def inherit_cell(self, parents, mutation_rate, cell_index):\n",
        "        mutate = np.random.rand()\n",
        "\n",
        "        if mutate > mutation_rate:\n",
        "            rnd = randint(len(parents))\n",
        "            return parents[rnd].cells[cell_index]\n",
        "        else:\n",
        "            return randint(trains_count)\n",
        "\n",
        "    # функция оценки бота\n",
        "    load_quality = np.vectorize(lambda item: 1000 if item < 0 else item)\n",
        "\n",
        "    def calculate_score(self):\n",
        "        load = np.zeros(trains_count, dtype=int)\n",
        "        for i in range(cargo_count):\n",
        "            load[self.cells[i]] += cargo[i]\n",
        "\n",
        "        return sum(abs(capacity - load))\n"
      ],
      "execution_count": 0,
      "outputs": []
    },
    {
      "cell_type": "markdown",
      "metadata": {
        "id": "H2-xFe0HI_3l",
        "colab_type": "text"
      },
      "source": [
        "Evolution – моделирование эволюции ботов"
      ]
    },
    {
      "cell_type": "code",
      "metadata": {
        "id": "2evPE3ju7N7V",
        "colab_type": "code",
        "colab": {}
      },
      "source": [
        "class Evolution:\n",
        "    get_scores = np.vectorize(lambda bot: bot.score)\n",
        "\n",
        "    def __init__(self, size=100, survivors=50, mutation=0.5, parents_count=2):\n",
        "        # размер популяции\n",
        "        self.size = size\n",
        "\n",
        "        # сколько выживает на каждом шаге\n",
        "        self.survivors = survivors\n",
        "\n",
        "        # сколько создаётся на каждом шаге\n",
        "        self.new = self.size - self.survivors\n",
        "\n",
        "        # доля мутации\n",
        "        self.mutation = mutation\n",
        "\n",
        "        # от скольки родителей будут наследоваться новые боты\n",
        "        self.parents_count = parents_count\n",
        "\n",
        "        # популяция ботов: случайное распределение\n",
        "        self.generation = np.vectorize(lambda i: Bot())(np.arange(0, self.size))\n",
        "\n",
        "    def stat(self):\n",
        "        total_score = np.vectorize(lambda bot: bot.score)(self.generation)\n",
        "        mean_val = sum(total_score) / self.size\n",
        "        min_val = np.min(total_score)\n",
        "\n",
        "        return mean_val, min_val\n",
        "\n",
        "    def sorted_scores(self):\n",
        "        scores = Evolution.get_scores(self.generation)\n",
        "        return sorted(scores)\n",
        "\n",
        "    def next_generation(self):\n",
        "        sorted_bots = sorted(self.generation, key=lambda b: b.score)\n",
        "        new_gen = np.array(sorted_bots[:self.survivors])\n",
        "        np.random.shuffle(new_gen)\n",
        "        for i in range(self.new):\n",
        "            # родителями могут быть только выжившие на текущей итерации\n",
        "            parent_ids = sample(range(self.survivors), self.parents_count)\n",
        "            parents = new_gen[parent_ids]\n",
        "            bot = Bot(parents, self.mutation)\n",
        "            new_gen = np.append(new_gen, bot)\n",
        "\n",
        "        self.generation = new_gen\n",
        "\n",
        "    def best_bot(self):\n",
        "        return sorted(self.generation, key=lambda b: b.score)[0]\n"
      ],
      "execution_count": 0,
      "outputs": []
    },
    {
      "cell_type": "markdown",
      "metadata": {
        "id": "4Mn8VjS1JQ7j",
        "colab_type": "text"
      },
      "source": [
        "Запуск генетического алгоритма. При достижении функцией наилучшего бота нулевого значения процесс останавливается."
      ]
    },
    {
      "cell_type": "code",
      "metadata": {
        "id": "IDnqlEP4p8-N",
        "colab_type": "code",
        "colab": {
          "base_uri": "https://localhost:8080/",
          "height": 1275
        },
        "outputId": "063463c3-361d-47d9-d565-741b594dd6e6"
      },
      "source": [
        "evo = Evolution(size=200, survivors=50, mutation=0.1, parents_count=4)\n",
        "\n",
        "means = []\n",
        "mins = []\n",
        "\n",
        "for epoch in range(250):\n",
        "    mean_val, min_val = evo.stat()\n",
        "    \n",
        "    means.append(mean_val)\n",
        "    mins.append(min_val)\n",
        "    \n",
        "    print(f\"{epoch}\\t Mean {mean_val}, min {min_val}\\t{evo.sorted_scores()[:20]}\")\n",
        "    if min_val == 0:\n",
        "        print(f\"Found a solution on epoch {epoch}\")\n",
        "        break\n",
        "    evo.next_generation()\n"
      ],
      "execution_count": 295,
      "outputs": [
        {
          "output_type": "stream",
          "text": [
            "0\t Mean 70.67, min 22\t[22, 30, 34, 36, 38, 40, 40, 42, 42, 44, 44, 44, 44, 46, 46, 46, 48, 48, 48, 48]\n",
            "1\t Mean 53.86, min 14\t[14, 20, 22, 24, 28, 28, 30, 30, 30, 30, 32, 32, 32, 32, 34, 34, 34, 36, 36, 38]\n",
            "2\t Mean 46.83, min 10\t[10, 14, 18, 20, 20, 22, 24, 24, 24, 26, 26, 28, 28, 28, 28, 30, 30, 30, 30, 30]\n",
            "3\t Mean 44.37, min 10\t[10, 14, 18, 18, 20, 20, 20, 22, 22, 24, 24, 24, 26, 26, 26, 26, 26, 28, 28, 28]\n",
            "4\t Mean 40.68, min 10\t[10, 14, 16, 16, 18, 18, 20, 20, 20, 20, 22, 22, 22, 22, 22, 24, 24, 24, 24, 24]\n",
            "5\t Mean 40.87, min 10\t[10, 14, 16, 16, 18, 18, 18, 20, 20, 20, 20, 20, 20, 22, 22, 22, 22, 22, 24, 24]\n",
            "6\t Mean 36.86, min 10\t[10, 14, 16, 16, 16, 18, 18, 18, 18, 20, 20, 20, 20, 20, 20, 22, 22, 22, 22, 22]\n",
            "7\t Mean 37.46, min 10\t[10, 12, 14, 14, 16, 16, 16, 16, 18, 18, 18, 18, 18, 20, 20, 20, 20, 20, 20, 20]\n",
            "8\t Mean 36.73, min 10\t[10, 12, 14, 14, 16, 16, 16, 16, 18, 18, 18, 18, 18, 18, 18, 18, 20, 20, 20, 20]\n",
            "9\t Mean 35.45, min 10\t[10, 12, 14, 14, 14, 14, 16, 16, 16, 16, 16, 16, 16, 18, 18, 18, 18, 18, 18, 18]\n",
            "10\t Mean 35.18, min 8\t[8, 10, 12, 12, 12, 14, 14, 14, 14, 14, 14, 16, 16, 16, 16, 16, 16, 16, 16, 18]\n",
            "11\t Mean 34.45, min 8\t[8, 10, 12, 12, 12, 12, 14, 14, 14, 14, 14, 14, 14, 16, 16, 16, 16, 16, 16, 16]\n",
            "12\t Mean 34.52, min 8\t[8, 10, 10, 12, 12, 12, 12, 14, 14, 14, 14, 14, 14, 14, 14, 14, 16, 16, 16, 16]\n",
            "13\t Mean 33.59, min 8\t[8, 10, 10, 12, 12, 12, 12, 14, 14, 14, 14, 14, 14, 14, 14, 14, 14, 14, 14, 16]\n",
            "14\t Mean 33.87, min 8\t[8, 10, 10, 12, 12, 12, 12, 14, 14, 14, 14, 14, 14, 14, 14, 14, 14, 14, 14, 14]\n",
            "15\t Mean 31.44, min 8\t[8, 8, 10, 10, 10, 10, 12, 12, 12, 12, 12, 12, 12, 14, 14, 14, 14, 14, 14, 14]\n",
            "16\t Mean 32.07, min 8\t[8, 8, 10, 10, 10, 10, 12, 12, 12, 12, 12, 12, 12, 12, 12, 14, 14, 14, 14, 14]\n",
            "17\t Mean 30.22, min 8\t[8, 8, 10, 10, 10, 10, 10, 10, 10, 10, 12, 12, 12, 12, 12, 12, 12, 12, 12, 12]\n",
            "18\t Mean 29.42, min 6\t[6, 8, 8, 8, 10, 10, 10, 10, 10, 10, 10, 10, 10, 10, 12, 12, 12, 12, 12, 12]\n",
            "19\t Mean 29.54, min 6\t[6, 8, 8, 8, 8, 8, 10, 10, 10, 10, 10, 10, 10, 10, 10, 10, 10, 12, 12, 12]\n",
            "20\t Mean 29.85, min 6\t[6, 8, 8, 8, 8, 8, 10, 10, 10, 10, 10, 10, 10, 10, 10, 10, 10, 10, 10, 10]\n",
            "21\t Mean 28.76, min 4\t[4, 6, 8, 8, 8, 8, 8, 10, 10, 10, 10, 10, 10, 10, 10, 10, 10, 10, 10, 10]\n",
            "22\t Mean 27.75, min 4\t[4, 6, 8, 8, 8, 8, 8, 10, 10, 10, 10, 10, 10, 10, 10, 10, 10, 10, 10, 10]\n",
            "23\t Mean 26.81, min 4\t[4, 6, 8, 8, 8, 8, 8, 10, 10, 10, 10, 10, 10, 10, 10, 10, 10, 10, 10, 10]\n",
            "24\t Mean 28.24, min 4\t[4, 6, 8, 8, 8, 8, 8, 8, 10, 10, 10, 10, 10, 10, 10, 10, 10, 10, 10, 10]\n",
            "25\t Mean 25.47, min 4\t[4, 6, 8, 8, 8, 8, 8, 8, 8, 8, 8, 8, 8, 8, 10, 10, 10, 10, 10, 10]\n",
            "26\t Mean 25.05, min 2\t[2, 4, 6, 8, 8, 8, 8, 8, 8, 8, 8, 8, 8, 8, 8, 8, 10, 10, 10, 10]\n",
            "27\t Mean 26.15, min 2\t[2, 4, 4, 6, 8, 8, 8, 8, 8, 8, 8, 8, 8, 8, 8, 8, 8, 8, 10, 10]\n",
            "28\t Mean 23.6, min 2\t[2, 4, 4, 6, 6, 8, 8, 8, 8, 8, 8, 8, 8, 8, 8, 8, 8, 8, 8, 8]\n",
            "29\t Mean 22.68, min 2\t[2, 4, 4, 6, 6, 6, 6, 8, 8, 8, 8, 8, 8, 8, 8, 8, 8, 8, 8, 8]\n",
            "30\t Mean 20.7, min 2\t[2, 4, 4, 6, 6, 6, 6, 6, 8, 8, 8, 8, 8, 8, 8, 8, 8, 8, 8, 8]\n",
            "31\t Mean 20.73, min 2\t[2, 4, 4, 4, 6, 6, 6, 6, 6, 6, 8, 8, 8, 8, 8, 8, 8, 8, 8, 8]\n",
            "32\t Mean 20.95, min 2\t[2, 4, 4, 4, 6, 6, 6, 6, 6, 6, 6, 6, 8, 8, 8, 8, 8, 8, 8, 8]\n",
            "33\t Mean 20.85, min 2\t[2, 4, 4, 4, 6, 6, 6, 6, 6, 6, 6, 6, 8, 8, 8, 8, 8, 8, 8, 8]\n",
            "34\t Mean 21.2, min 2\t[2, 4, 4, 4, 6, 6, 6, 6, 6, 6, 6, 6, 8, 8, 8, 8, 8, 8, 8, 8]\n",
            "35\t Mean 19.22, min 2\t[2, 4, 4, 4, 4, 6, 6, 6, 6, 6, 6, 6, 6, 6, 6, 6, 6, 8, 8, 8]\n",
            "36\t Mean 20.06, min 2\t[2, 4, 4, 4, 4, 4, 6, 6, 6, 6, 6, 6, 6, 6, 6, 6, 6, 6, 6, 8]\n",
            "37\t Mean 20.0, min 2\t[2, 2, 4, 4, 4, 4, 4, 6, 6, 6, 6, 6, 6, 6, 6, 6, 6, 6, 6, 6]\n",
            "38\t Mean 18.63, min 2\t[2, 2, 2, 4, 4, 4, 4, 4, 6, 6, 6, 6, 6, 6, 6, 6, 6, 6, 6, 6]\n",
            "39\t Mean 19.72, min 2\t[2, 2, 2, 2, 4, 4, 4, 4, 4, 4, 4, 4, 6, 6, 6, 6, 6, 6, 6, 6]\n",
            "40\t Mean 17.77, min 2\t[2, 2, 2, 2, 4, 4, 4, 4, 4, 4, 4, 4, 6, 6, 6, 6, 6, 6, 6, 6]\n",
            "41\t Mean 17.98, min 2\t[2, 2, 2, 2, 4, 4, 4, 4, 4, 4, 4, 4, 6, 6, 6, 6, 6, 6, 6, 6]\n",
            "42\t Mean 18.97, min 2\t[2, 2, 2, 2, 4, 4, 4, 4, 4, 4, 4, 4, 6, 6, 6, 6, 6, 6, 6, 6]\n",
            "43\t Mean 18.08, min 2\t[2, 2, 2, 2, 4, 4, 4, 4, 4, 4, 4, 4, 6, 6, 6, 6, 6, 6, 6, 6]\n",
            "44\t Mean 17.87, min 2\t[2, 2, 2, 2, 4, 4, 4, 4, 4, 4, 4, 4, 4, 4, 4, 6, 6, 6, 6, 6]\n",
            "45\t Mean 17.77, min 2\t[2, 2, 2, 2, 4, 4, 4, 4, 4, 4, 4, 4, 4, 4, 4, 6, 6, 6, 6, 6]\n",
            "46\t Mean 16.78, min 2\t[2, 2, 2, 2, 2, 4, 4, 4, 4, 4, 4, 4, 4, 4, 4, 4, 6, 6, 6, 6]\n",
            "47\t Mean 18.03, min 2\t[2, 2, 2, 2, 2, 2, 4, 4, 4, 4, 4, 4, 4, 4, 4, 4, 4, 6, 6, 6]\n",
            "48\t Mean 18.72, min 2\t[2, 2, 2, 2, 2, 2, 2, 4, 4, 4, 4, 4, 4, 4, 4, 4, 4, 4, 4, 6]\n",
            "49\t Mean 17.49, min 2\t[2, 2, 2, 2, 2, 2, 2, 4, 4, 4, 4, 4, 4, 4, 4, 4, 4, 4, 4, 6]\n",
            "50\t Mean 17.78, min 2\t[2, 2, 2, 2, 2, 2, 2, 4, 4, 4, 4, 4, 4, 4, 4, 4, 4, 4, 4, 4]\n",
            "51\t Mean 16.17, min 2\t[2, 2, 2, 2, 2, 2, 2, 2, 4, 4, 4, 4, 4, 4, 4, 4, 4, 4, 4, 4]\n",
            "52\t Mean 16.03, min 2\t[2, 2, 2, 2, 2, 2, 2, 2, 4, 4, 4, 4, 4, 4, 4, 4, 4, 4, 4, 4]\n",
            "53\t Mean 16.39, min 2\t[2, 2, 2, 2, 2, 2, 2, 2, 4, 4, 4, 4, 4, 4, 4, 4, 4, 4, 4, 4]\n",
            "54\t Mean 17.22, min 2\t[2, 2, 2, 2, 2, 2, 2, 2, 4, 4, 4, 4, 4, 4, 4, 4, 4, 4, 4, 4]\n",
            "55\t Mean 15.0, min 2\t[2, 2, 2, 2, 2, 2, 2, 2, 2, 4, 4, 4, 4, 4, 4, 4, 4, 4, 4, 4]\n",
            "56\t Mean 18.14, min 2\t[2, 2, 2, 2, 2, 2, 2, 2, 2, 4, 4, 4, 4, 4, 4, 4, 4, 4, 4, 4]\n",
            "57\t Mean 17.58, min 2\t[2, 2, 2, 2, 2, 2, 2, 2, 2, 4, 4, 4, 4, 4, 4, 4, 4, 4, 4, 4]\n",
            "58\t Mean 16.34, min 2\t[2, 2, 2, 2, 2, 2, 2, 2, 2, 4, 4, 4, 4, 4, 4, 4, 4, 4, 4, 4]\n",
            "59\t Mean 16.68, min 2\t[2, 2, 2, 2, 2, 2, 2, 2, 2, 4, 4, 4, 4, 4, 4, 4, 4, 4, 4, 4]\n",
            "60\t Mean 15.86, min 2\t[2, 2, 2, 2, 2, 2, 2, 2, 2, 4, 4, 4, 4, 4, 4, 4, 4, 4, 4, 4]\n",
            "61\t Mean 14.93, min 2\t[2, 2, 2, 2, 2, 2, 2, 2, 2, 4, 4, 4, 4, 4, 4, 4, 4, 4, 4, 4]\n",
            "62\t Mean 16.55, min 2\t[2, 2, 2, 2, 2, 2, 2, 2, 2, 4, 4, 4, 4, 4, 4, 4, 4, 4, 4, 4]\n",
            "63\t Mean 15.49, min 2\t[2, 2, 2, 2, 2, 2, 2, 2, 2, 2, 4, 4, 4, 4, 4, 4, 4, 4, 4, 4]\n",
            "64\t Mean 16.95, min 2\t[2, 2, 2, 2, 2, 2, 2, 2, 2, 2, 2, 4, 4, 4, 4, 4, 4, 4, 4, 4]\n",
            "65\t Mean 16.85, min 2\t[2, 2, 2, 2, 2, 2, 2, 2, 2, 2, 2, 2, 2, 4, 4, 4, 4, 4, 4, 4]\n",
            "66\t Mean 15.23, min 2\t[2, 2, 2, 2, 2, 2, 2, 2, 2, 2, 2, 2, 2, 2, 4, 4, 4, 4, 4, 4]\n",
            "67\t Mean 15.05, min 2\t[2, 2, 2, 2, 2, 2, 2, 2, 2, 2, 2, 2, 2, 2, 2, 4, 4, 4, 4, 4]\n",
            "68\t Mean 16.05, min 2\t[2, 2, 2, 2, 2, 2, 2, 2, 2, 2, 2, 2, 2, 2, 2, 2, 2, 4, 4, 4]\n",
            "69\t Mean 16.12, min 2\t[2, 2, 2, 2, 2, 2, 2, 2, 2, 2, 2, 2, 2, 2, 2, 2, 2, 4, 4, 4]\n",
            "70\t Mean 16.43, min 2\t[2, 2, 2, 2, 2, 2, 2, 2, 2, 2, 2, 2, 2, 2, 2, 2, 2, 2, 4, 4]\n",
            "71\t Mean 15.43, min 2\t[2, 2, 2, 2, 2, 2, 2, 2, 2, 2, 2, 2, 2, 2, 2, 2, 2, 2, 2, 4]\n",
            "72\t Mean 14.53, min 0\t[0, 2, 2, 2, 2, 2, 2, 2, 2, 2, 2, 2, 2, 2, 2, 2, 2, 2, 2, 2]\n",
            "Found a solution on epoch 72\n"
          ],
          "name": "stdout"
        }
      ]
    },
    {
      "cell_type": "markdown",
      "metadata": {
        "id": "j-fROa1yJbFe",
        "colab_type": "text"
      },
      "source": [
        "Вывод наилучшего найденного решения:"
      ]
    },
    {
      "cell_type": "code",
      "metadata": {
        "id": "CvoPdlUbr3Jh",
        "colab_type": "code",
        "colab": {
          "base_uri": "https://localhost:8080/",
          "height": 187
        },
        "outputId": "5cdea0a6-acb1-444f-f70b-f7f32df09ffe"
      },
      "source": [
        "best_bot = evo.best_bot()\n",
        "print(\"The Best solution\", best_bot.cells)\n",
        "print()\n",
        "\n",
        "dist = {i: [] for i in range(trains_count)}\n",
        "for i in range(cargo_count):\n",
        "    dist[best_bot.cells[i]].append(cargo[i])\n",
        "\n",
        "for i in range(trains_count):\n",
        "    print(f\"train {i}, capacity {capacity[i]}, cargo: {dist[i]}\")"
      ],
      "execution_count": 282,
      "outputs": [
        {
          "output_type": "stream",
          "text": [
            "The Best solution [1 0 1 7 3 7 7 1 6 2 3 2 4 3 5 3 6 4 2]\n",
            "\n",
            "train 0, capacity 10, cargo: [10]\n",
            "train 1, capacity 18, cargo: [5, 2, 11]\n",
            "train 2, capacity 6, cargo: [3, 1, 2]\n",
            "train 3, capacity 15, cargo: [8, 1, 4, 2]\n",
            "train 4, capacity 9, cargo: [7, 2]\n",
            "train 5, capacity 3, cargo: [3]\n",
            "train 6, capacity 2, cargo: [1, 1]\n",
            "train 7, capacity 22, cargo: [2, 16, 4]\n"
          ],
          "name": "stdout"
        }
      ]
    },
    {
      "cell_type": "markdown",
      "metadata": {
        "id": "U9ffFxmnJk5h",
        "colab_type": "text"
      },
      "source": [
        "График подбора"
      ]
    },
    {
      "cell_type": "code",
      "metadata": {
        "id": "U9lJMeGIJ1GI",
        "colab_type": "code",
        "colab": {
          "base_uri": "https://localhost:8080/",
          "height": 283
        },
        "outputId": "f057707b-594a-46a7-bab9-2ecd9efbefad"
      },
      "source": [
        "plt.plot(means, label='Среднее по популяции')\n",
        "plt.plot(mins, label='Лучший бот')\n",
        "plt.xlabel('Эпоха обучения')\n",
        "plt.ylabel('Значение функции')\n",
        "plt.legend()\n",
        "plt.show()"
      ],
      "execution_count": 283,
      "outputs": [
        {
          "output_type": "display_data",
          "data": {
            "image/png": "[encoded data removed]",
            "text/plain": [
              "<Figure size 432x288 with 1 Axes>"
            ]
          },
          "metadata": {
            "tags": []
          }
        }
      ]
    },
    {
      "cell_type": "markdown",
      "metadata": {
        "id": "GOJuq_DeLvNN",
        "colab_type": "text"
      },
      "source": [
        "# Наблюдения\n",
        "\n",
        "* Чем больше размер популяции, тем быстрее находится решение\n",
        "* Увеличение mutation_rate обычно замедляет нахождение решения\n",
        "* Получение решения нестабильно и не гарантировано: оно может быть найдено за 25 эпох, за 100 или не найдено вообще."
      ]
    }
  ]
}