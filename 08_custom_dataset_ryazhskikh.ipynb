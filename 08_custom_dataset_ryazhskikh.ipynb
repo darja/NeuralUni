{
  "nbformat": 4,
  "nbformat_minor": 0,
  "metadata": {
    "colab": {
      "name": "08_custom_dataset_ryazhskikh.ipynb",
      "version": "0.3.2",
      "provenance": [],
      "collapsed_sections": [],
      "toc_visible": true,
      "include_colab_link": true
    },
    "kernelspec": {
      "name": "python3",
      "display_name": "Python 3"
    },
    "accelerator": "GPU"
  },
  "cells": [
    {
      "cell_type": "markdown",
      "metadata": {
        "id": "view-in-github",
        "colab_type": "text"
      },
      "source": [
        "<a href=\"https://colab.research.google.com/github/darja/NeuralUni/blob/master/08_custom_dataset_ryazhskikh.ipynb\" target=\"_parent\"><img src=\"https://colab.research.google.com/assets/colab-badge.svg\" alt=\"Open In Colab\"/></a>"
      ]
    },
    {
      "metadata": {
        "id": "kLK-YQAPIfH_",
        "colab_type": "text"
      },
      "cell_type": "markdown",
      "source": [
        "# Классификация типов кораблей"
      ]
    },
    {
      "metadata": {
        "id": "hmvS5GnTYrTQ",
        "colab_type": "text"
      },
      "cell_type": "markdown",
      "source": [
        "Датасет состоит из изображений 400х400 со следующими типами кораблей:\n",
        "* Контейнеровоз (Cargo)\n",
        "* Судно береговой охраны (Coast Guard)\n",
        "* Паром (Ferry)\n",
        "* Рыболовецкое судно (Fishing)\n",
        "* Буксир (Tug)"
      ]
    },
    {
      "metadata": {
        "id": "Wckh9qyvIk9C",
        "colab_type": "code",
        "colab": {
          "base_uri": "https://localhost:8080/",
          "height": 34
        },
        "outputId": "5de0f3be-2f3c-44b2-c267-a1289dc616d6"
      },
      "cell_type": "code",
      "source": [
        "from tensorflow.keras.applications.inception_v3 import InceptionV3\n",
        "\n",
        "from tensorflow.keras.preprocessing import image\n",
        "from tensorflow.keras.models import Model\n",
        "from tensorflow.keras.layers import Dense, GlobalAveragePooling2D, Dropout\n",
        "from tensorflow.python.keras.optimizers import Adam, SGD\n",
        "from tensorflow.python.keras.preprocessing.image import ImageDataGenerator\n",
        "from google.colab import files\n",
        "import numpy as np\n",
        "import glob\n",
        "import imageio\n",
        "\n",
        "import matplotlib.pyplot as plt\n",
        "from scipy.misc import toimage\n",
        "from IPython.display import Image\n",
        "%matplotlib inline \n",
        "\n",
        "from keras import backend as K"
      ],
      "execution_count": 1,
      "outputs": [
        {
          "output_type": "stream",
          "text": [
            "Using TensorFlow backend.\n"
          ],
          "name": "stderr"
        }
      ]
    },
    {
      "metadata": {
        "id": "15NZ-K7lIocF",
        "colab_type": "text"
      },
      "cell_type": "markdown",
      "source": [
        "# Подготовка данных"
      ]
    },
    {
      "metadata": {
        "id": "a0anzotCI-II",
        "colab_type": "text"
      },
      "cell_type": "markdown",
      "source": [
        "## Загрузка данных с Google Drive"
      ]
    },
    {
      "metadata": {
        "id": "VLivDHF0HbRw",
        "colab_type": "code",
        "colab": {
          "base_uri": "https://localhost:8080/",
          "height": 34
        },
        "outputId": "38f92431-b953-4528-d7d0-73f70430825e"
      },
      "cell_type": "code",
      "source": [
        "from google.colab import drive\n",
        "drive.mount('/content/gdrive', force_remount=True)"
      ],
      "execution_count": 69,
      "outputs": [
        {
          "output_type": "stream",
          "text": [
            "Mounted at /content/gdrive\n"
          ],
          "name": "stdout"
        }
      ]
    },
    {
      "metadata": {
        "id": "fzVknhpwJIIs",
        "colab_type": "code",
        "colab": {}
      },
      "cell_type": "code",
      "source": [
        "# !cp /content/gdrive/'My Drive'/neural/boatset.zip boatset.zip\n",
        "# !unzip boatset.zip\n",
        "!rm -rf __MACOSX\n",
        "!rm -rf .DS_Store"
      ],
      "execution_count": 0,
      "outputs": []
    },
    {
      "metadata": {
        "id": "OnPYXym_KyOD",
        "colab_type": "text"
      },
      "cell_type": "markdown",
      "source": [
        "## Входные параметры"
      ]
    },
    {
      "metadata": {
        "id": "v8YxrqlBK8qx",
        "colab_type": "code",
        "colab": {}
      },
      "cell_type": "code",
      "source": [
        "# K.clear_session()\n",
        "\n",
        "# Пути к изображениям\n",
        "root_folder = \"boatset\"\n",
        "train_folder = root_folder + '/train'\n",
        "val_folder = root_folder + '/val'\n",
        "test_folder = root_folder + \"/test\"\n",
        "\n",
        "\n",
        "# Размеры изображений\n",
        "image_height, image_width = 400, 400\n",
        "target_size = (image_height, image_width)\n",
        "target_shape = (image_height, image_width, 3)\n",
        "\n",
        "# Классы изображений\n",
        "num_classes = 5\n",
        "classes = {0: \"Контейнеровоз\", 1: \"Береговая охрана\", 2: \"Паром\", 3: \"Рыболовецкое судно\", 4: \"Буксир\"}\n",
        "\n",
        "# Другое\n",
        "batch_size = 4"
      ],
      "execution_count": 0,
      "outputs": []
    },
    {
      "metadata": {
        "id": "Dtk4swBjKhL_",
        "colab_type": "text"
      },
      "cell_type": "markdown",
      "source": [
        "## Генератор изображений"
      ]
    },
    {
      "metadata": {
        "id": "FhbWZicrKmLl",
        "colab_type": "code",
        "colab": {
          "base_uri": "https://localhost:8080/",
          "height": 85
        },
        "outputId": "b0eb43d5-566d-4ad1-ace4-2fdf79b9f624"
      },
      "cell_type": "code",
      "source": [
        "# Train generator\n",
        "train_datagen = ImageDataGenerator(rescale=1. / 255,\n",
        "                                  horizontal_flip=True,\n",
        "                                  fill_mode='nearest')\n",
        "\n",
        "train_generator = train_datagen.flow_from_directory(\n",
        "    train_folder,\n",
        "    target_size = target_size,\n",
        "    batch_size = batch_size,\n",
        "    class_mode = 'categorical')\n",
        "\n",
        "print(\"Train classes\", train_generator.class_indices)\n",
        "\n",
        "# Validation generator\n",
        "val_datagen = ImageDataGenerator(rescale=1. / 255)\n",
        "\n",
        "val_generator = val_datagen.flow_from_directory(\n",
        "    val_folder,\n",
        "    target_size = target_size,\n",
        "    batch_size = batch_size,\n",
        "    class_mode = 'categorical'\n",
        ")\n",
        "print(\"Val classes\", train_generator.class_indices)"
      ],
      "execution_count": 3,
      "outputs": [
        {
          "output_type": "stream",
          "text": [
            "Found 995 images belonging to 5 classes.\n",
            "Train classes {'cargo': 0, 'coast guard': 1, 'ferry': 2, 'fishing': 3, 'tug': 4}\n",
            "Found 160 images belonging to 5 classes.\n",
            "Val classes {'cargo': 0, 'coast guard': 1, 'ferry': 2, 'fishing': 3, 'tug': 4}\n"
          ],
          "name": "stdout"
        }
      ]
    },
    {
      "metadata": {
        "id": "EKPOV5p4NN2x",
        "colab_type": "text"
      },
      "cell_type": "markdown",
      "source": [
        "# Подготовка нейросети"
      ]
    },
    {
      "metadata": {
        "id": "Zk3a7qiNNU3k",
        "colab_type": "text"
      },
      "cell_type": "markdown",
      "source": [
        "## Создание нейросети"
      ]
    },
    {
      "metadata": {
        "id": "SwKdEwGdNdmY",
        "colab_type": "text"
      },
      "cell_type": "markdown",
      "source": [
        "### Нейросеть на основе Inception"
      ]
    },
    {
      "metadata": {
        "id": "MwKkufIZNXKA",
        "colab_type": "code",
        "colab": {}
      },
      "cell_type": "code",
      "source": [
        "def inception():\n",
        "  print(\"Loading Inception\")\n",
        "\n",
        "  base_model = InceptionV3(\n",
        "      weights='imagenet', \n",
        "      include_top=False, \n",
        "      input_shape=input_shape)\n",
        "\n",
        "  for layer in base_model.layers:\n",
        "      layer.trainable = False\n",
        "\n",
        "  print(\"Inception loaded\")\n",
        "  \n",
        "  x = base_model.output\n",
        "  x = GlobalAveragePooling2D()(x)\n",
        "  x = Dense(1024, activation='relu')(x)\n",
        "  predictions = Dense(1, activation='sigmoid')(x)\n",
        "\n",
        "  model = Model(input=base_model.input, output=predictions)\n",
        "\n",
        "  opt = Adam(lr=1e-4)\n",
        "#   opt = RMSprop(lr=0.0005, rho=0.9, epsilon=None, decay=0.0)\n",
        "  model.compile(loss='binary_crossentropy',\n",
        "                optimizer=opt, \n",
        "                metrics=['accuracy'])\n",
        "  return model\n"
      ],
      "execution_count": 0,
      "outputs": []
    },
    {
      "metadata": {
        "id": "g1fRIppaNiAr",
        "colab_type": "text"
      },
      "cell_type": "markdown",
      "source": [
        "## Обучение нейросети"
      ]
    },
    {
      "metadata": {
        "id": "jIO91x2TNkvz",
        "colab_type": "code",
        "colab": {
          "base_uri": "https://localhost:8080/",
          "height": 1373
        },
        "outputId": "c5dcb9cc-4d40-4053-a625-e0ed6a9a6e7e"
      },
      "cell_type": "code",
      "source": [
        "train_generator.reset()\n",
        "val_generator.reset()\n",
        "\n",
        "print(target_shape)\n",
        "\n",
        "history = model.fit_generator(\n",
        "    train_generator,\n",
        "    steps_per_epoch = train_generator.samples // batch_size,\n",
        "    validation_data = val_generator, \n",
        "    validation_steps = val_generator.samples // batch_size,\n",
        "    epochs=20,\n",
        "    verbose=1)\n",
        "\n",
        "plt.plot(history.history['acc'], label='Train')\n",
        "plt.plot(history.history['val_acc'], label='Validation')\n",
        "plt.legend()\n",
        "plt.show()"
      ],
      "execution_count": 6,
      "outputs": [
        {
          "output_type": "stream",
          "text": [
            "(400, 400, 3)\n",
            "WARNING:tensorflow:From /usr/local/lib/python3.6/dist-packages/tensorflow/python/ops/math_ops.py:3066: to_int32 (from tensorflow.python.ops.math_ops) is deprecated and will be removed in a future version.\n",
            "Instructions for updating:\n",
            "Use tf.cast instead.\n",
            "Epoch 1/20\n",
            "40/40 [==============================] - 6s 143ms/step - loss: 0.3324 - acc: 0.8650\n",
            "249/249 [==============================] - 38s 153ms/step - loss: 0.4306 - acc: 0.8201 - val_loss: 0.3324 - val_acc: 0.8650\n",
            "Epoch 2/20\n",
            "40/40 [==============================] - 4s 111ms/step - loss: 0.3102 - acc: 0.8675\n",
            "249/249 [==============================] - 33s 132ms/step - loss: 0.3603 - acc: 0.8527 - val_loss: 0.3102 - val_acc: 0.8675\n",
            "Epoch 3/20\n",
            "40/40 [==============================] - 4s 112ms/step - loss: 0.2973 - acc: 0.8738\n",
            "249/249 [==============================] - 33s 132ms/step - loss: 0.3018 - acc: 0.8772 - val_loss: 0.2973 - val_acc: 0.8738\n",
            "Epoch 4/20\n",
            "40/40 [==============================] - 5s 113ms/step - loss: 0.2657 - acc: 0.8788\n",
            "249/249 [==============================] - 33s 131ms/step - loss: 0.3026 - acc: 0.8748 - val_loss: 0.2657 - val_acc: 0.8788\n",
            "Epoch 5/20\n",
            "40/40 [==============================] - 4s 112ms/step - loss: 0.2612 - acc: 0.8838\n",
            "249/249 [==============================] - 33s 132ms/step - loss: 0.2665 - acc: 0.8941 - val_loss: 0.2612 - val_acc: 0.8838\n",
            "Epoch 6/20\n",
            "40/40 [==============================] - 4s 112ms/step - loss: 0.2499 - acc: 0.8925\n",
            "249/249 [==============================] - 33s 132ms/step - loss: 0.2637 - acc: 0.8955 - val_loss: 0.2499 - val_acc: 0.8925\n",
            "Epoch 7/20\n",
            "40/40 [==============================] - 4s 110ms/step - loss: 0.2487 - acc: 0.9037\n",
            "249/249 [==============================] - 33s 131ms/step - loss: 0.2513 - acc: 0.8987 - val_loss: 0.2487 - val_acc: 0.9037\n",
            "Epoch 8/20\n",
            "40/40 [==============================] - 4s 111ms/step - loss: 0.2387 - acc: 0.9013\n",
            "249/249 [==============================] - 33s 132ms/step - loss: 0.2556 - acc: 0.8943 - val_loss: 0.2387 - val_acc: 0.9013\n",
            "Epoch 9/20\n",
            "40/40 [==============================] - 4s 111ms/step - loss: 0.2409 - acc: 0.9013\n",
            "249/249 [==============================] - 33s 132ms/step - loss: 0.2540 - acc: 0.8999 - val_loss: 0.2409 - val_acc: 0.9013\n",
            "Epoch 10/20\n",
            "40/40 [==============================] - 4s 112ms/step - loss: 0.2397 - acc: 0.8962\n",
            "249/249 [==============================] - 33s 132ms/step - loss: 0.2526 - acc: 0.8999 - val_loss: 0.2397 - val_acc: 0.8962\n",
            "Epoch 11/20\n",
            "40/40 [==============================] - 4s 112ms/step - loss: 0.2235 - acc: 0.9100\n",
            "249/249 [==============================] - 33s 132ms/step - loss: 0.2436 - acc: 0.8997 - val_loss: 0.2235 - val_acc: 0.9100\n",
            "Epoch 12/20\n",
            "40/40 [==============================] - 4s 112ms/step - loss: 0.2509 - acc: 0.8975\n",
            "249/249 [==============================] - 33s 132ms/step - loss: 0.2358 - acc: 0.9081 - val_loss: 0.2509 - val_acc: 0.8975\n",
            "Epoch 13/20\n",
            "40/40 [==============================] - 4s 111ms/step - loss: 0.2175 - acc: 0.9125\n",
            "249/249 [==============================] - 33s 132ms/step - loss: 0.2472 - acc: 0.8979 - val_loss: 0.2175 - val_acc: 0.9125\n",
            "Epoch 14/20\n",
            "40/40 [==============================] - 4s 112ms/step - loss: 0.2230 - acc: 0.9075\n",
            "249/249 [==============================] - 33s 131ms/step - loss: 0.2239 - acc: 0.9118 - val_loss: 0.2230 - val_acc: 0.9075\n",
            "Epoch 15/20\n",
            "40/40 [==============================] - 4s 111ms/step - loss: 0.2284 - acc: 0.9087\n",
            "249/249 [==============================] - 33s 132ms/step - loss: 0.2354 - acc: 0.9015 - val_loss: 0.2284 - val_acc: 0.9087\n",
            "Epoch 16/20\n",
            "40/40 [==============================] - 5s 113ms/step - loss: 0.2180 - acc: 0.9150\n",
            "249/249 [==============================] - 33s 132ms/step - loss: 0.2333 - acc: 0.9069 - val_loss: 0.2180 - val_acc: 0.9150\n",
            "Epoch 17/20\n",
            "40/40 [==============================] - 5s 113ms/step - loss: 0.2235 - acc: 0.9063\n",
            "249/249 [==============================] - 33s 132ms/step - loss: 0.2223 - acc: 0.9156 - val_loss: 0.2235 - val_acc: 0.9063\n",
            "Epoch 18/20\n",
            "40/40 [==============================] - 4s 112ms/step - loss: 0.2067 - acc: 0.9163\n",
            "249/249 [==============================] - 33s 131ms/step - loss: 0.1938 - acc: 0.9252 - val_loss: 0.2067 - val_acc: 0.9163\n",
            "Epoch 19/20\n",
            "40/40 [==============================] - 4s 112ms/step - loss: 0.1911 - acc: 0.9238\n",
            "249/249 [==============================] - 33s 132ms/step - loss: 0.2235 - acc: 0.9126 - val_loss: 0.1911 - val_acc: 0.9238\n",
            "Epoch 20/20\n",
            "40/40 [==============================] - 4s 112ms/step - loss: 0.2004 - acc: 0.9150\n",
            "249/249 [==============================] - 33s 132ms/step - loss: 0.2009 - acc: 0.9184 - val_loss: 0.2004 - val_acc: 0.9150\n"
          ],
          "name": "stdout"
        },
        {
          "output_type": "display_data",
          "data": {
            "image/png": "[encoded data removed]",
            "text/plain": [
              "<Figure size 432x288 with 1 Axes>"
            ]
          },
          "metadata": {
            "tags": []
          }
        }
      ]
    },
    {
      "metadata": {
        "id": "-ZZwtJMNN2jD",
        "colab_type": "text"
      },
      "cell_type": "markdown",
      "source": [
        "### Дообучение"
      ]
    },
    {
      "metadata": {
        "id": "U26oIQ86N4rS",
        "colab_type": "code",
        "colab": {
          "base_uri": "https://localhost:8080/",
          "height": 520
        },
        "outputId": "12f98baf-e186-451c-b043-2eee38dae36b"
      },
      "cell_type": "code",
      "source": [
        "opt = SGD(lr=3e-5)\n",
        "model.compile(loss=\"binary_crossentropy\", optimizer=opt, metrics=[\"accuracy\"])\n",
        "\n",
        "history1 = model.fit_generator(\n",
        "    train_generator,\n",
        "    steps_per_epoch = train_generator.samples // batch_size,\n",
        "    validation_data = val_generator, \n",
        "    validation_steps = val_generator.samples // batch_size,\n",
        "    epochs=5,\n",
        "    verbose=1)\n",
        "\n",
        "acc = []\n",
        "acc.extend(history.history['acc'])\n",
        "acc.extend(history1.history['acc'])\n",
        "\n",
        "val_acc = []\n",
        "val_acc.extend(history.history['val_acc'])\n",
        "val_acc.extend(history1.history['val_acc'])\n",
        "\n",
        "plt.plot(acc, label='Train')\n",
        "plt.plot(val_acc, label='Val')\n",
        "plt.legend()\n",
        "plt.show()"
      ],
      "execution_count": 7,
      "outputs": [
        {
          "output_type": "stream",
          "text": [
            "Epoch 1/5\n",
            "40/40 [==============================] - 6s 146ms/step - loss: 0.1995 - acc: 0.9150\n",
            "249/249 [==============================] - 35s 142ms/step - loss: 0.2323 - acc: 0.9085 - val_loss: 0.1995 - val_acc: 0.9150\n",
            "Epoch 2/5\n",
            "40/40 [==============================] - 5s 113ms/step - loss: 0.1987 - acc: 0.9175\n",
            "249/249 [==============================] - 33s 131ms/step - loss: 0.2166 - acc: 0.9114 - val_loss: 0.1987 - val_acc: 0.9175\n",
            "Epoch 3/5\n",
            "40/40 [==============================] - 5s 114ms/step - loss: 0.1982 - acc: 0.9163\n",
            "249/249 [==============================] - 33s 131ms/step - loss: 0.2260 - acc: 0.9037 - val_loss: 0.1982 - val_acc: 0.9163\n",
            "Epoch 4/5\n",
            "40/40 [==============================] - 4s 112ms/step - loss: 0.1978 - acc: 0.9163\n",
            "249/249 [==============================] - 33s 131ms/step - loss: 0.2081 - acc: 0.9156 - val_loss: 0.1978 - val_acc: 0.9163\n",
            "Epoch 5/5\n",
            "40/40 [==============================] - 4s 112ms/step - loss: 0.1975 - acc: 0.9162\n",
            "249/249 [==============================] - 32s 130ms/step - loss: 0.1955 - acc: 0.9218 - val_loss: 0.1975 - val_acc: 0.9162\n"
          ],
          "name": "stdout"
        },
        {
          "output_type": "display_data",
          "data": {
            "image/png": "[encoded data removed]",
            "text/plain": [
              "<Figure size 432x288 with 1 Axes>"
            ]
          },
          "metadata": {
            "tags": []
          }
        }
      ]
    },
    {
      "metadata": {
        "id": "gpu3F7-hOFAO",
        "colab_type": "text"
      },
      "cell_type": "markdown",
      "source": [
        "# Демонстрация распознавания"
      ]
    },
    {
      "metadata": {
        "id": "g5czXYi0WT3s",
        "colab_type": "text"
      },
      "cell_type": "markdown",
      "source": [
        "## Утилиты"
      ]
    },
    {
      "metadata": {
        "id": "pDzvLP9TOIAX",
        "colab_type": "code",
        "colab": {}
      },
      "cell_type": "code",
      "source": [
        "def evaluate_folder(folder):\n",
        "  datagen = ImageDataGenerator(rescale=1./255)\n",
        "  generator = datagen.flow_from_directory(\n",
        "    folder,\n",
        "    target_size = target_size,\n",
        "    batch_size = batch_size,\n",
        "    shuffle = False,\n",
        "    class_mode = 'categorical')\n",
        "  generator.reset()\n",
        "  print(\"Train classes\", generator.class_indices)\n",
        "  return model.evaluate_generator(\n",
        "      generator, \n",
        "      steps = generator.samples // batch_size,\n",
        "      verbose = 1)\n",
        "\n",
        "def read_image(filename):\n",
        "    return imageio.imread(filename)\n",
        "\n",
        "def predict_single_image(content):\n",
        "    x = content\n",
        "    x = x / 255\n",
        "    x = np.expand_dims(x, axis=0)\n",
        "    \n",
        "    prediction = model.predict(x)\n",
        "    predicted = np.argmax(prediction, axis=-1)\n",
        "    return predicted"
      ],
      "execution_count": 0,
      "outputs": []
    },
    {
      "metadata": {
        "id": "LvNllnQPQBXg",
        "colab_type": "text"
      },
      "cell_type": "markdown",
      "source": [
        "## Распознавание размеченной выборки"
      ]
    },
    {
      "metadata": {
        "id": "c4aH665FOLwq",
        "colab_type": "code",
        "colab": {
          "base_uri": "https://localhost:8080/",
          "height": 238
        },
        "outputId": "2e1c5953-716b-4c20-a76a-c0f2242a7395"
      },
      "cell_type": "code",
      "source": [
        "print(\"---- Test ----\\n\")\n",
        "train_eval = evaluate_folder(train_folder)\n",
        "print(train_eval)\n",
        "\n",
        "print(\"\\n---- Validation ----\\n\")\n",
        "val_eval = evaluate_folder(val_folder)\n",
        "print(val_eval)\n"
      ],
      "execution_count": 9,
      "outputs": [
        {
          "output_type": "stream",
          "text": [
            "---- Test ----\n",
            "\n",
            "Found 995 images belonging to 5 classes.\n",
            "Train classes {'cargo': 0, 'coast guard': 1, 'ferry': 2, 'fishing': 3, 'tug': 4}\n",
            "249/249 [==============================] - 28s 112ms/step - loss: 0.1841 - acc: 0.9329\n",
            "[0.1840529704369917, 0.93286353]\n",
            "\n",
            "---- Validation ----\n",
            "\n",
            "Found 160 images belonging to 5 classes.\n",
            "Train classes {'cargo': 0, 'coast_guard': 1, 'ferry': 2, 'fishing': 3, 'tug': 4}\n",
            "40/40 [==============================] - 4s 111ms/step - loss: 0.1975 - acc: 0.9163\n",
            "[0.1975430894512101, 0.91625005]\n"
          ],
          "name": "stdout"
        }
      ]
    },
    {
      "metadata": {
        "id": "bMh-1NvvQFfk",
        "colab_type": "text"
      },
      "cell_type": "markdown",
      "source": [
        "## Демонстрация"
      ]
    },
    {
      "metadata": {
        "id": "ZoHOR6_lQRZu",
        "colab_type": "code",
        "colab": {
          "base_uri": "https://localhost:8080/",
          "height": 479
        },
        "outputId": "68f5fa67-88e0-40c8-bed8-9c480fedfc40"
      },
      "cell_type": "code",
      "source": [
        "test_files = glob.glob(test_folder + \"/*.jpg\")\n",
        "test_files.sort()\n",
        "\n",
        "for filename in test_files:\n",
        "    content = read_image(filename)\n",
        "    cl = predict_single_image(content)[0]\n",
        "    print(\"%s -> %s\" % (filename, classes[cl]))\n"
      ],
      "execution_count": 19,
      "outputs": [
        {
          "output_type": "stream",
          "text": [
            "['boatset/test/cargo_test_1.jpg', 'boatset/test/cargo_test_2.jpg', 'boatset/test/cargo_test_3.jpg', 'boatset/test/cargo_test_4.jpg', 'boatset/test/cargo_test_5.jpg', 'boatset/test/coast_guard_test_1.jpg', 'boatset/test/coast_guard_test_2.jpg', 'boatset/test/coast_guard_test_3.jpg', 'boatset/test/coast_guard_test_4.jpg', 'boatset/test/coast_guard_test_5.jpg', 'boatset/test/ferry_test_1.jpg', 'boatset/test/ferry_test_2.jpg', 'boatset/test/ferry_test_3.jpg', 'boatset/test/ferry_test_4.jpg', 'boatset/test/ferry_test_5.jpg', 'boatset/test/fishing_test_1.jpg', 'boatset/test/fishing_test_2.jpg', 'boatset/test/fishing_test_3.jpg', 'boatset/test/fishing_test_4.jpg', 'boatset/test/fishing_test_5.jpg', 'boatset/test/tug_test_1.jpg', 'boatset/test/tug_test_2.jpg', 'boatset/test/tug_test_3.jpg', 'boatset/test/tug_test_4.jpg', 'boatset/test/tug_test_5.jpg']\n",
            "boatset/test/cargo_test_1.jpg -> Контейнеровоз\n",
            "boatset/test/cargo_test_2.jpg -> Контейнеровоз\n",
            "boatset/test/cargo_test_3.jpg -> Контейнеровоз\n",
            "boatset/test/cargo_test_4.jpg -> Контейнеровоз\n",
            "boatset/test/cargo_test_5.jpg -> Контейнеровоз\n",
            "boatset/test/coast_guard_test_1.jpg -> Береговая охрана\n",
            "boatset/test/coast_guard_test_2.jpg -> Буксир\n",
            "boatset/test/coast_guard_test_3.jpg -> Береговая охрана\n",
            "boatset/test/coast_guard_test_4.jpg -> Береговая охрана\n",
            "boatset/test/coast_guard_test_5.jpg -> Береговая охрана\n",
            "boatset/test/ferry_test_1.jpg -> Паром\n",
            "boatset/test/ferry_test_2.jpg -> Береговая охрана\n",
            "boatset/test/ferry_test_3.jpg -> Паром\n",
            "boatset/test/ferry_test_4.jpg -> Паром\n",
            "boatset/test/ferry_test_5.jpg -> Контейнеровоз\n",
            "boatset/test/fishing_test_1.jpg -> Рыболовецкое судно\n",
            "boatset/test/fishing_test_2.jpg -> Рыболовецкое судно\n",
            "boatset/test/fishing_test_3.jpg -> Рыболовецкое судно\n",
            "boatset/test/fishing_test_4.jpg -> Буксир\n",
            "boatset/test/fishing_test_5.jpg -> Береговая охрана\n",
            "boatset/test/tug_test_1.jpg -> Буксир\n",
            "boatset/test/tug_test_2.jpg -> Буксир\n",
            "boatset/test/tug_test_3.jpg -> Буксир\n",
            "boatset/test/tug_test_4.jpg -> Буксир\n",
            "boatset/test/tug_test_5.jpg -> Буксир\n"
          ],
          "name": "stdout"
        }
      ]
    }
  ]
}