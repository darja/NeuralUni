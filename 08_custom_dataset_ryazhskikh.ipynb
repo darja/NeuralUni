{
  "nbformat": 4,
  "nbformat_minor": 0,
  "metadata": {
    "colab": {
      "name": "08_custom_dataset_ryazhskikh.ipynb",
      "version": "0.3.2",
      "provenance": [],
      "collapsed_sections": [
        "a0anzotCI-II",
        "g5czXYi0WT3s"
      ],
      "toc_visible": true,
      "include_colab_link": true
    },
    "kernelspec": {
      "name": "python3",
      "display_name": "Python 3"
    },
    "accelerator": "GPU"
  },
  "cells": [
    {
      "cell_type": "markdown",
      "metadata": {
        "id": "view-in-github",
        "colab_type": "text"
      },
      "source": [
        "<a href=\"https://colab.research.google.com/github/darja/NeuralUni/blob/master/08_custom_dataset_ryazhskikh.ipynb\" target=\"_parent\"><img src=\"https://colab.research.google.com/assets/colab-badge.svg\" alt=\"Open In Colab\"/></a>"
      ]
    },
    {
      "metadata": {
        "id": "kLK-YQAPIfH_",
        "colab_type": "text"
      },
      "cell_type": "markdown",
      "source": [
        "# Классификация типов кораблей"
      ]
    },
    {
      "metadata": {
        "id": "hmvS5GnTYrTQ",
        "colab_type": "text"
      },
      "cell_type": "markdown",
      "source": [
        "Датасет состоит из изображений 400х400 со следующими типами кораблей:\n",
        "* Контейнеровоз (Cargo)\n",
        "* Судно береговой охраны (Coast Guard)\n",
        "* Паром (Ferry)\n",
        "* Рыболовецкое судно (Fishing)\n",
        "* Буксир (Tug)\n",
        "\n",
        "[Ссылка на датасет](https://drive.google.com/file/d/1zTKU96uN_P-YJhq3xZ8-uOP1uMe_nYcd/view?usp=sharing)"
      ]
    },
    {
      "metadata": {
        "id": "Wckh9qyvIk9C",
        "colab_type": "code",
        "colab": {}
      },
      "cell_type": "code",
      "source": [
        "from tensorflow.keras.applications.inception_v3 import InceptionV3\n",
        "\n",
        "from tensorflow.keras.preprocessing import image\n",
        "from tensorflow.keras.models import Model\n",
        "from tensorflow.keras.layers import Dense, GlobalAveragePooling2D, Dropout\n",
        "from tensorflow.python.keras.optimizers import Adam, SGD\n",
        "from tensorflow.python.keras.preprocessing.image import ImageDataGenerator\n",
        "from tensorflow.keras.callbacks import ModelCheckpoint, ReduceLROnPlateau, CSVLogger\n",
        "\n",
        "from google.colab import files\n",
        "import numpy as np\n",
        "import glob\n",
        "import imageio\n",
        "import datetime\n",
        "\n",
        "\n",
        "import matplotlib.pyplot as plt\n",
        "%matplotlib inline \n",
        "\n",
        "from keras import backend as K"
      ],
      "execution_count": 0,
      "outputs": []
    },
    {
      "metadata": {
        "id": "15NZ-K7lIocF",
        "colab_type": "text"
      },
      "cell_type": "markdown",
      "source": [
        "# Подготовка данных"
      ]
    },
    {
      "metadata": {
        "id": "a0anzotCI-II",
        "colab_type": "text"
      },
      "cell_type": "markdown",
      "source": [
        "## Загрузка данных с Google Drive"
      ]
    },
    {
      "metadata": {
        "id": "VLivDHF0HbRw",
        "colab_type": "code",
        "colab": {
          "base_uri": "https://localhost:8080/",
          "height": 122
        },
        "outputId": "7f8acb0d-6a31-47fc-a675-af01fec1af72"
      },
      "cell_type": "code",
      "source": [
        "from google.colab import drive\n",
        "drive.mount('/content/gdrive', force_remount=True)"
      ],
      "execution_count": 2,
      "outputs": [
        {
          "output_type": "stream",
          "text": [
            "Go to this URL in a browser: https://accounts.google.com/o/oauth2/auth?client_id=947318989803-6bn6qk8qdgf4n4g3pfee6491hc0brc4i.apps.googleusercontent.com&redirect_uri=urn%3Aietf%3Awg%3Aoauth%3A2.0%3Aoob&scope=email%20https%3A%2F%2Fwww.googleapis.com%2Fauth%2Fdocs.test%20https%3A%2F%2Fwww.googleapis.com%2Fauth%2Fdrive%20https%3A%2F%2Fwww.googleapis.com%2Fauth%2Fdrive.photos.readonly%20https%3A%2F%2Fwww.googleapis.com%2Fauth%2Fpeopleapi.readonly&response_type=code\n",
            "\n",
            "Enter your authorization code:\n",
            "··········\n",
            "Mounted at /content/gdrive\n"
          ],
          "name": "stdout"
        }
      ]
    },
    {
      "metadata": {
        "id": "fzVknhpwJIIs",
        "colab_type": "code",
        "colab": {}
      },
      "cell_type": "code",
      "source": [
        "!cp /content/gdrive/'My Drive'/neural/boatset.zip boatset.zip\n",
        "!unzip boatset.zip\n",
        "# !rm -rf __MACOSX\n",
        "# !rm -rf .DS_Store"
      ],
      "execution_count": 0,
      "outputs": []
    },
    {
      "metadata": {
        "id": "OnPYXym_KyOD",
        "colab_type": "text"
      },
      "cell_type": "markdown",
      "source": [
        "## Входные параметры"
      ]
    },
    {
      "metadata": {
        "id": "v8YxrqlBK8qx",
        "colab_type": "code",
        "colab": {}
      },
      "cell_type": "code",
      "source": [
        "# K.clear_session()\n",
        "\n",
        "# Пути к изображениям\n",
        "root_folder = \"boatset\"\n",
        "train_folder = root_folder + '/train'\n",
        "val_folder = root_folder + '/val'\n",
        "test_folder = root_folder + \"/test\"\n",
        "\n",
        "\n",
        "# Размеры изображений\n",
        "image_height, image_width = 400, 400\n",
        "target_size = (image_height, image_width)\n",
        "target_shape = (image_height, image_width, 3)\n",
        "\n",
        "# Классы изображений\n",
        "num_classes = 5\n",
        "classes = {0: \"Контейнеровоз\", 1: \"Береговая охрана\", 2: \"Паром\", 3: \"Рыболовецкое судно\", 4: \"Буксир\"}\n",
        "\n",
        "# Другое\n",
        "batch_size = 8\n",
        "lr = 2e-4\n",
        "optimizer = Adam(lr)\n",
        "# optimizer = RMSprop(lr)"
      ],
      "execution_count": 0,
      "outputs": []
    },
    {
      "metadata": {
        "id": "Dtk4swBjKhL_",
        "colab_type": "text"
      },
      "cell_type": "markdown",
      "source": [
        "## Генератор изображений"
      ]
    },
    {
      "metadata": {
        "id": "FhbWZicrKmLl",
        "colab_type": "code",
        "colab": {
          "base_uri": "https://localhost:8080/",
          "height": 85
        },
        "outputId": "782fecc7-eafe-4072-9987-3a5affce0577"
      },
      "cell_type": "code",
      "source": [
        "# Train generator\n",
        "train_datagen = ImageDataGenerator(rescale=1. / 255,\n",
        "                                  horizontal_flip=True,\n",
        "                                  fill_mode='nearest')\n",
        "\n",
        "train_generator = train_datagen.flow_from_directory(\n",
        "    train_folder,\n",
        "    target_size = target_size,\n",
        "    batch_size = batch_size,\n",
        "    class_mode = 'categorical')\n",
        "\n",
        "print(\"Train classes\", train_generator.class_indices)\n",
        "\n",
        "# Validation generator\n",
        "val_datagen = ImageDataGenerator(rescale=1. / 255)\n",
        "\n",
        "val_generator = val_datagen.flow_from_directory(\n",
        "    val_folder,\n",
        "    target_size = target_size,\n",
        "    batch_size = batch_size,\n",
        "    class_mode = 'categorical'\n",
        ")\n",
        "print(\"Val classes\", train_generator.class_indices)"
      ],
      "execution_count": 121,
      "outputs": [
        {
          "output_type": "stream",
          "text": [
            "Found 995 images belonging to 5 classes.\n",
            "Train classes {'cargo': 0, 'coast guard': 1, 'ferry': 2, 'fishing': 3, 'tug': 4}\n",
            "Found 160 images belonging to 5 classes.\n",
            "Val classes {'cargo': 0, 'coast guard': 1, 'ferry': 2, 'fishing': 3, 'tug': 4}\n"
          ],
          "name": "stdout"
        }
      ]
    },
    {
      "metadata": {
        "id": "EKPOV5p4NN2x",
        "colab_type": "text"
      },
      "cell_type": "markdown",
      "source": [
        "# Подготовка нейросети"
      ]
    },
    {
      "metadata": {
        "id": "Zk3a7qiNNU3k",
        "colab_type": "text"
      },
      "cell_type": "markdown",
      "source": [
        "## Создание нейросети"
      ]
    },
    {
      "metadata": {
        "id": "SwKdEwGdNdmY",
        "colab_type": "text"
      },
      "cell_type": "markdown",
      "source": [
        "### Нейросеть на основе Inception"
      ]
    },
    {
      "metadata": {
        "id": "MwKkufIZNXKA",
        "colab_type": "code",
        "colab": {}
      },
      "cell_type": "code",
      "source": [
        "def create_model():\n",
        "    print(\"Loading Inception\")\n",
        "\n",
        "    base_model = InceptionV3(\n",
        "      weights='imagenet', \n",
        "      include_top=False, \n",
        "      input_shape=target_shape)\n",
        "\n",
        "    for layer in base_model.layers:\n",
        "      layer.trainable = False\n",
        "\n",
        "    print(\"Inception loaded\")\n",
        "\n",
        "    x = base_model.output\n",
        "    x = GlobalAveragePooling2D()(x)\n",
        "    x = Dense(1024, activation='relu')(x)\n",
        "    predictions = Dense(num_classes, activation='softmax')(x)\n",
        "\n",
        "    return Model(inputs=base_model.input, outputs=predictions)\n",
        "\n",
        "\n",
        "    return model\n",
        "\n",
        "def load_trained_model(weights_path):\n",
        "    model = create_model()\n",
        "    model.load_weights(weights_path)\n",
        "    return model"
      ],
      "execution_count": 0,
      "outputs": []
    },
    {
      "metadata": {
        "id": "qzK7kavBrGqR",
        "colab_type": "text"
      },
      "cell_type": "markdown",
      "source": [
        "### Callbacks"
      ]
    },
    {
      "metadata": {
        "id": "Q_M8UPKrrJ0c",
        "colab_type": "code",
        "colab": {
          "base_uri": "https://localhost:8080/",
          "height": 34
        },
        "outputId": "4defdb20-2f62-43f8-fa61-831622ad3a66"
      },
      "cell_type": "code",
      "source": [
        "opt_string = optimizer\n",
        "if (type(optimizer) == Adam):\n",
        "    opt_string = \"adam_%.0E\" % lr\n",
        "elif (type(optimizer) == RMSprop):\n",
        "    opt_string = \"rmsprop_%.0E\" % lr\n",
        "\n",
        "dt = datetime.datetime.now().strftime('%Y%m%d-%H%M')\n",
        "log_file = 'training.%s.batch_%s.%s.log' % (opt_string, batch_size, dt)\n",
        "weights_file = 'shipnet.%s.batch_%s.%s.h5' % (opt_string, batch_size, dt)\n",
        "\n",
        "print(\"Logging to [%s], saving network to [%s]\" % (log_file, weights_file))\n",
        "    \n",
        "checkpoint = ModelCheckpoint(\n",
        "    weights_file,                           \n",
        "    monitor='val_acc',\n",
        "    save_best_only=True,\n",
        "    verbose = 1)\n",
        "\n",
        "learning_rate = ReduceLROnPlateau(\n",
        "    monitor='val_loss', \n",
        "    factor=0.5, \n",
        "    patience=5, \n",
        "    verbose=1, \n",
        "    mode='auto',\n",
        "    min_lr=1e-6)\n",
        "\n",
        "csv_logger = CSVLogger(log_file)\n",
        "\n",
        "callbacks = [checkpoint,learning_rate,csv_logger]"
      ],
      "execution_count": 123,
      "outputs": [
        {
          "output_type": "stream",
          "text": [
            "Logging to [training.adam_2E-04.batch_8.20190323-2306.log], saving network to [shipnet.adam_2E-04.batch_8.20190323-2306.h5]\n"
          ],
          "name": "stdout"
        }
      ]
    },
    {
      "metadata": {
        "id": "g1fRIppaNiAr",
        "colab_type": "text"
      },
      "cell_type": "markdown",
      "source": [
        "## Обучение нейросети"
      ]
    },
    {
      "metadata": {
        "id": "jIO91x2TNkvz",
        "colab_type": "code",
        "colab": {
          "base_uri": "https://localhost:8080/",
          "height": 2951
        },
        "outputId": "8095530b-30ea-4223-c8bc-a3490089bd43"
      },
      "cell_type": "code",
      "source": [
        "model = create_model()\n",
        "\n",
        "model.compile(loss='categorical_crossentropy',\n",
        "            optimizer=optimizer, \n",
        "            metrics=['accuracy'])\n",
        "\n",
        "\n",
        "history = model.fit_generator(\n",
        "    train_generator,\n",
        "    steps_per_epoch = train_generator.samples // batch_size,\n",
        "    validation_data = val_generator, \n",
        "    validation_steps = val_generator.samples // batch_size,\n",
        "    epochs = 30,\n",
        "    verbose = 1,\n",
        "    callbacks = callbacks\n",
        ")\n",
        "\n",
        "plt.plot(history.history['acc'], label='Train')\n",
        "plt.plot(history.history['val_acc'], label='Validation')\n",
        "plt.legend()\n",
        "plt.show()"
      ],
      "execution_count": 125,
      "outputs": [
        {
          "output_type": "stream",
          "text": [
            "Loading Inception\n",
            "Inception loaded\n",
            "Epoch 1/30\n",
            "20/20 [==============================] - 9s 449ms/step - loss: 0.9861 - acc: 0.6187\n",
            "\n",
            "Epoch 00001: val_acc improved from -inf to 0.61875, saving model to shipnet.adam_2E-04.batch_8.20190323-2306.h5\n",
            "125/125 [==============================] - 734s 6s/step - loss: 1.2094 - acc: 0.5276 - val_loss: 0.9861 - val_acc: 0.6187\n",
            "Epoch 2/30\n",
            "20/20 [==============================] - 4s 187ms/step - loss: 0.8102 - acc: 0.7063\n",
            "\n",
            "Epoch 00002: val_acc improved from 0.61875 to 0.70625, saving model to shipnet.adam_2E-04.batch_8.20190323-2306.h5\n",
            "125/125 [==============================] - 29s 231ms/step - loss: 0.8349 - acc: 0.7025 - val_loss: 0.8102 - val_acc: 0.7063\n",
            "Epoch 3/30\n",
            "20/20 [==============================] - 4s 184ms/step - loss: 0.8294 - acc: 0.7250\n",
            "\n",
            "Epoch 00003: val_acc improved from 0.70625 to 0.72500, saving model to shipnet.adam_2E-04.batch_8.20190323-2306.h5\n",
            "125/125 [==============================] - 29s 228ms/step - loss: 0.6756 - acc: 0.7608 - val_loss: 0.8294 - val_acc: 0.7250\n",
            "Epoch 4/30\n",
            "20/20 [==============================] - 4s 186ms/step - loss: 0.7595 - acc: 0.7250\n",
            "\n",
            "Epoch 00004: val_acc did not improve from 0.72500\n",
            "125/125 [==============================] - 27s 216ms/step - loss: 0.7283 - acc: 0.7296 - val_loss: 0.7595 - val_acc: 0.7250\n",
            "Epoch 5/30\n",
            "20/20 [==============================] - 4s 186ms/step - loss: 0.8097 - acc: 0.6375\n",
            "\n",
            "Epoch 00005: val_acc did not improve from 0.72500\n",
            "125/125 [==============================] - 27s 216ms/step - loss: 0.7113 - acc: 0.7447 - val_loss: 0.8097 - val_acc: 0.6375\n",
            "Epoch 6/30\n",
            "20/20 [==============================] - 4s 185ms/step - loss: 0.7037 - acc: 0.7563\n",
            "\n",
            "Epoch 00006: val_acc improved from 0.72500 to 0.75625, saving model to shipnet.adam_2E-04.batch_8.20190323-2306.h5\n",
            "125/125 [==============================] - 29s 231ms/step - loss: 0.5965 - acc: 0.7849 - val_loss: 0.7037 - val_acc: 0.7563\n",
            "Epoch 7/30\n",
            "20/20 [==============================] - 4s 187ms/step - loss: 0.6240 - acc: 0.7875\n",
            "\n",
            "Epoch 00007: val_acc improved from 0.75625 to 0.78750, saving model to shipnet.adam_2E-04.batch_8.20190323-2306.h5\n",
            "125/125 [==============================] - 29s 230ms/step - loss: 0.5801 - acc: 0.7849 - val_loss: 0.6240 - val_acc: 0.7875\n",
            "Epoch 8/30\n",
            "20/20 [==============================] - 4s 187ms/step - loss: 0.6292 - acc: 0.7500\n",
            "\n",
            "Epoch 00008: val_acc did not improve from 0.78750\n",
            "125/125 [==============================] - 27s 216ms/step - loss: 0.5411 - acc: 0.8050 - val_loss: 0.6292 - val_acc: 0.7500\n",
            "Epoch 9/30\n",
            "20/20 [==============================] - 4s 186ms/step - loss: 0.6781 - acc: 0.7000\n",
            "\n",
            "Epoch 00009: val_acc did not improve from 0.78750\n",
            "125/125 [==============================] - 27s 217ms/step - loss: 0.5654 - acc: 0.7950 - val_loss: 0.6781 - val_acc: 0.7000\n",
            "Epoch 10/30\n",
            "20/20 [==============================] - 4s 187ms/step - loss: 0.6060 - acc: 0.7812\n",
            "\n",
            "Epoch 00010: val_acc did not improve from 0.78750\n",
            "125/125 [==============================] - 27s 217ms/step - loss: 0.5593 - acc: 0.7990 - val_loss: 0.6060 - val_acc: 0.7812\n",
            "Epoch 11/30\n",
            "20/20 [==============================] - 4s 187ms/step - loss: 0.5721 - acc: 0.8000\n",
            "\n",
            "Epoch 00011: val_acc improved from 0.78750 to 0.80000, saving model to shipnet.adam_2E-04.batch_8.20190323-2306.h5\n",
            "125/125 [==============================] - 29s 231ms/step - loss: 0.5054 - acc: 0.8181 - val_loss: 0.5721 - val_acc: 0.8000\n",
            "Epoch 12/30\n",
            "20/20 [==============================] - 4s 186ms/step - loss: 0.6557 - acc: 0.7250\n",
            "\n",
            "Epoch 00012: val_acc did not improve from 0.80000\n",
            "125/125 [==============================] - 27s 217ms/step - loss: 0.5232 - acc: 0.8040 - val_loss: 0.6557 - val_acc: 0.7250\n",
            "Epoch 13/30\n",
            "20/20 [==============================] - 4s 186ms/step - loss: 0.5905 - acc: 0.7625\n",
            "\n",
            "Epoch 00013: val_acc did not improve from 0.80000\n",
            "125/125 [==============================] - 27s 216ms/step - loss: 0.4602 - acc: 0.8271 - val_loss: 0.5905 - val_acc: 0.7625\n",
            "Epoch 14/30\n",
            "20/20 [==============================] - 4s 185ms/step - loss: 0.6020 - acc: 0.7500\n",
            "\n",
            "Epoch 00014: val_acc did not improve from 0.80000\n",
            "125/125 [==============================] - 27s 215ms/step - loss: 0.4347 - acc: 0.8382 - val_loss: 0.6020 - val_acc: 0.7500\n",
            "Epoch 15/30\n",
            "20/20 [==============================] - 4s 185ms/step - loss: 0.6210 - acc: 0.7500\n",
            "\n",
            "Epoch 00015: val_acc did not improve from 0.80000\n",
            "125/125 [==============================] - 27s 216ms/step - loss: 0.4500 - acc: 0.8462 - val_loss: 0.6210 - val_acc: 0.7500\n",
            "Epoch 16/30\n",
            "20/20 [==============================] - 4s 186ms/step - loss: 0.6997 - acc: 0.7500\n",
            "\n",
            "Epoch 00016: val_acc did not improve from 0.80000\n",
            "\n",
            "Epoch 00016: ReduceLROnPlateau reducing learning rate to 9.999999747378752e-05.\n",
            "125/125 [==============================] - 105s 842ms/step - loss: 0.4496 - acc: 0.8342 - val_loss: 0.6997 - val_acc: 0.7500\n",
            "Epoch 17/30\n",
            "20/20 [==============================] - 4s 184ms/step - loss: 0.5964 - acc: 0.7563\n",
            "\n",
            "Epoch 00017: val_acc did not improve from 0.80000\n",
            "125/125 [==============================] - 27s 217ms/step - loss: 0.3764 - acc: 0.8513 - val_loss: 0.5964 - val_acc: 0.7563\n",
            "Epoch 18/30\n",
            "20/20 [==============================] - 4s 187ms/step - loss: 0.5912 - acc: 0.7875\n",
            "\n",
            "Epoch 00018: val_acc did not improve from 0.80000\n",
            "125/125 [==============================] - 27s 216ms/step - loss: 0.3568 - acc: 0.8714 - val_loss: 0.5912 - val_acc: 0.7875\n",
            "Epoch 19/30\n",
            "20/20 [==============================] - 4s 184ms/step - loss: 0.6178 - acc: 0.7500\n",
            "\n",
            "Epoch 00019: val_acc did not improve from 0.80000\n",
            "125/125 [==============================] - 27s 216ms/step - loss: 0.3420 - acc: 0.8935 - val_loss: 0.6178 - val_acc: 0.7500\n",
            "Epoch 20/30\n",
            "20/20 [==============================] - 4s 185ms/step - loss: 0.6580 - acc: 0.7688\n",
            "\n",
            "Epoch 00020: val_acc did not improve from 0.80000\n",
            "125/125 [==============================] - 27s 216ms/step - loss: 0.3715 - acc: 0.8653 - val_loss: 0.6580 - val_acc: 0.7688\n",
            "Epoch 21/30\n",
            "20/20 [==============================] - 4s 185ms/step - loss: 0.6130 - acc: 0.7625\n",
            "\n",
            "Epoch 00021: val_acc did not improve from 0.80000\n",
            "\n",
            "Epoch 00021: ReduceLROnPlateau reducing learning rate to 4.999999873689376e-05.\n",
            "125/125 [==============================] - 27s 216ms/step - loss: 0.3370 - acc: 0.8724 - val_loss: 0.6130 - val_acc: 0.7625\n",
            "Epoch 22/30\n",
            "20/20 [==============================] - 4s 188ms/step - loss: 0.6043 - acc: 0.7625\n",
            "\n",
            "Epoch 00022: val_acc did not improve from 0.80000\n",
            "125/125 [==============================] - 27s 216ms/step - loss: 0.3232 - acc: 0.8864 - val_loss: 0.6043 - val_acc: 0.7625\n",
            "Epoch 23/30\n",
            "20/20 [==============================] - 4s 188ms/step - loss: 0.6234 - acc: 0.7500\n",
            "\n",
            "Epoch 00023: val_acc did not improve from 0.80000\n",
            "125/125 [==============================] - 27s 216ms/step - loss: 0.3192 - acc: 0.8915 - val_loss: 0.6234 - val_acc: 0.7500\n",
            "Epoch 24/30\n",
            "20/20 [==============================] - 4s 187ms/step - loss: 0.6213 - acc: 0.7563\n",
            "\n",
            "Epoch 00024: val_acc did not improve from 0.80000\n",
            "125/125 [==============================] - 27s 216ms/step - loss: 0.3426 - acc: 0.8784 - val_loss: 0.6213 - val_acc: 0.7563\n",
            "Epoch 25/30\n",
            "20/20 [==============================] - 4s 187ms/step - loss: 0.6141 - acc: 0.7812\n",
            "\n",
            "Epoch 00025: val_acc did not improve from 0.80000\n",
            "125/125 [==============================] - 27s 216ms/step - loss: 0.3464 - acc: 0.8774 - val_loss: 0.6141 - val_acc: 0.7812\n",
            "Epoch 26/30\n",
            "20/20 [==============================] - 4s 186ms/step - loss: 0.5878 - acc: 0.7875\n",
            "\n",
            "Epoch 00026: val_acc did not improve from 0.80000\n",
            "\n",
            "Epoch 00026: ReduceLROnPlateau reducing learning rate to 2.499999936844688e-05.\n",
            "125/125 [==============================] - 27s 216ms/step - loss: 0.3269 - acc: 0.8945 - val_loss: 0.5878 - val_acc: 0.7875\n",
            "Epoch 27/30\n",
            "20/20 [==============================] - 4s 185ms/step - loss: 0.6357 - acc: 0.7625\n",
            "\n",
            "Epoch 00027: val_acc did not improve from 0.80000\n",
            "125/125 [==============================] - 27s 216ms/step - loss: 0.3279 - acc: 0.8965 - val_loss: 0.6357 - val_acc: 0.7625\n",
            "Epoch 28/30\n",
            "20/20 [==============================] - 4s 186ms/step - loss: 0.6136 - acc: 0.7500\n",
            "\n",
            "Epoch 00028: val_acc did not improve from 0.80000\n",
            "125/125 [==============================] - 27s 217ms/step - loss: 0.3115 - acc: 0.8975 - val_loss: 0.6136 - val_acc: 0.7500\n",
            "Epoch 29/30\n",
            "20/20 [==============================] - 4s 187ms/step - loss: 0.6157 - acc: 0.7625\n",
            "\n",
            "Epoch 00029: val_acc did not improve from 0.80000\n",
            "125/125 [==============================] - 27s 217ms/step - loss: 0.2924 - acc: 0.9005 - val_loss: 0.6157 - val_acc: 0.7625\n",
            "Epoch 30/30\n",
            "20/20 [==============================] - 4s 187ms/step - loss: 0.6462 - acc: 0.7437\n",
            "\n",
            "Epoch 00030: val_acc did not improve from 0.80000\n",
            "125/125 [==============================] - 27s 217ms/step - loss: 0.3030 - acc: 0.8955 - val_loss: 0.6462 - val_acc: 0.7437\n"
          ],
          "name": "stdout"
        },
        {
          "output_type": "display_data",
          "data": {
            "image/png": "[encoded data removed]",
            "text/plain": [
              "<Figure size 432x288 with 1 Axes>"
            ]
          },
          "metadata": {
            "tags": []
          }
        }
      ]
    },
    {
      "metadata": {
        "id": "gpu3F7-hOFAO",
        "colab_type": "text"
      },
      "cell_type": "markdown",
      "source": [
        "# Демонстрация распознавания"
      ]
    },
    {
      "metadata": {
        "id": "g5czXYi0WT3s",
        "colab_type": "text"
      },
      "cell_type": "markdown",
      "source": [
        "## Утилиты"
      ]
    },
    {
      "metadata": {
        "id": "pDzvLP9TOIAX",
        "colab_type": "code",
        "colab": {}
      },
      "cell_type": "code",
      "source": [
        "def evaluate_folder(folder):\n",
        "  datagen = ImageDataGenerator(rescale=1./255)\n",
        "  generator = datagen.flow_from_directory(\n",
        "    folder,\n",
        "    target_size = target_size,\n",
        "    batch_size = batch_size,\n",
        "    shuffle = False,\n",
        "    class_mode = 'categorical')\n",
        "  generator.reset()\n",
        "  print(\"Train classes\", generator.class_indices)\n",
        "  return model.evaluate_generator(\n",
        "      generator, \n",
        "      steps = generator.samples // batch_size,\n",
        "      verbose = 1)\n",
        "\n",
        "def read_image(filename):\n",
        "    return imageio.imread(filename)\n",
        "\n",
        "def predict_single_image(content):\n",
        "    x = content\n",
        "    x = x / 255\n",
        "    x = np.expand_dims(x, axis=0)\n",
        "    \n",
        "    prediction = model.predict(x)\n",
        "    predicted = np.argmax(prediction, axis=-1)\n",
        "    return predicted"
      ],
      "execution_count": 0,
      "outputs": []
    },
    {
      "metadata": {
        "id": "iywJ1pqB-Yyi",
        "colab_type": "text"
      },
      "cell_type": "markdown",
      "source": [
        "## Загрузка наилучшей версии сети"
      ]
    },
    {
      "metadata": {
        "id": "_8Co72Vf-ds2",
        "colab_type": "code",
        "colab": {
          "base_uri": "https://localhost:8080/",
          "height": 68
        },
        "outputId": "5b3296ed-dcc1-4365-d8b4-58bb791e27a4"
      },
      "cell_type": "code",
      "source": [
        "print(\"Loading model from %s\" % weights_file)\n",
        "model = load_trained_model(weights_file)\n",
        "model.compile(loss='categorical_crossentropy',\n",
        "            optimizer=optimizer, \n",
        "            metrics=['accuracy'])"
      ],
      "execution_count": 128,
      "outputs": [
        {
          "output_type": "stream",
          "text": [
            "Loading model from shipnet.adam_2E-04.batch_8.20190323-2306.h5\n",
            "Loading Inception\n",
            "Inception loaded\n"
          ],
          "name": "stdout"
        }
      ]
    },
    {
      "metadata": {
        "id": "LvNllnQPQBXg",
        "colab_type": "text"
      },
      "cell_type": "markdown",
      "source": [
        "## Распознавание размеченной выборки"
      ]
    },
    {
      "metadata": {
        "id": "c4aH665FOLwq",
        "colab_type": "code",
        "colab": {
          "base_uri": "https://localhost:8080/",
          "height": 204
        },
        "outputId": "d304a39c-9c02-42b9-fea6-46042860194e"
      },
      "cell_type": "code",
      "source": [
        "print(\"---- Test ----\\n\")\n",
        "train_eval = evaluate_folder(train_folder)\n",
        "\n",
        "print(\"\\n---- Validation ----\\n\")\n",
        "val_eval = evaluate_folder(val_folder)\n"
      ],
      "execution_count": 129,
      "outputs": [
        {
          "output_type": "stream",
          "text": [
            "---- Test ----\n",
            "\n",
            "Found 995 images belonging to 5 classes.\n",
            "Train classes {'cargo': 0, 'coast guard': 1, 'ferry': 2, 'fishing': 3, 'tug': 4}\n",
            "125/125 [==============================] - 27s 218ms/step - loss: 0.5254 - acc: 0.8101\n",
            "\n",
            "---- Validation ----\n",
            "\n",
            "Found 160 images belonging to 5 classes.\n",
            "Train classes {'cargo': 0, 'coast_guard': 1, 'ferry': 2, 'fishing': 3, 'tug': 4}\n",
            "20/20 [==============================] - 4s 181ms/step - loss: 0.5721 - acc: 0.8000\n"
          ],
          "name": "stdout"
        }
      ]
    },
    {
      "metadata": {
        "id": "bMh-1NvvQFfk",
        "colab_type": "text"
      },
      "cell_type": "markdown",
      "source": [
        "## Демонстрация"
      ]
    },
    {
      "metadata": {
        "id": "ZoHOR6_lQRZu",
        "colab_type": "code",
        "colab": {
          "base_uri": "https://localhost:8080/",
          "height": 442
        },
        "outputId": "34ffebac-95fd-44c3-c08d-e0acc68b483c"
      },
      "cell_type": "code",
      "source": [
        "test_files = glob.glob(test_folder + \"/*.jpg\")\n",
        "test_files.sort()\n",
        "\n",
        "for filename in test_files:\n",
        "    content = read_image(filename)\n",
        "    cl = predict_single_image(content)[0]\n",
        "    print(\"%s -> %s\" % (filename, classes[cl]))\n"
      ],
      "execution_count": 130,
      "outputs": [
        {
          "output_type": "stream",
          "text": [
            "boatset/test/cargo_test_1.jpg -> Контейнеровоз\n",
            "boatset/test/cargo_test_2.jpg -> Контейнеровоз\n",
            "boatset/test/cargo_test_3.jpg -> Контейнеровоз\n",
            "boatset/test/cargo_test_4.jpg -> Контейнеровоз\n",
            "boatset/test/cargo_test_5.jpg -> Контейнеровоз\n",
            "boatset/test/coast_guard_test_1.jpg -> Береговая охрана\n",
            "boatset/test/coast_guard_test_2.jpg -> Буксир\n",
            "boatset/test/coast_guard_test_3.jpg -> Береговая охрана\n",
            "boatset/test/coast_guard_test_4.jpg -> Береговая охрана\n",
            "boatset/test/coast_guard_test_5.jpg -> Буксир\n",
            "boatset/test/ferry_test_1.jpg -> Паром\n",
            "boatset/test/ferry_test_2.jpg -> Паром\n",
            "boatset/test/ferry_test_3.jpg -> Паром\n",
            "boatset/test/ferry_test_4.jpg -> Паром\n",
            "boatset/test/ferry_test_5.jpg -> Паром\n",
            "boatset/test/fishing_test_1.jpg -> Рыболовецкое судно\n",
            "boatset/test/fishing_test_2.jpg -> Рыболовецкое судно\n",
            "boatset/test/fishing_test_3.jpg -> Рыболовецкое судно\n",
            "boatset/test/fishing_test_4.jpg -> Буксир\n",
            "boatset/test/fishing_test_5.jpg -> Береговая охрана\n",
            "boatset/test/tug_test_1.jpg -> Буксир\n",
            "boatset/test/tug_test_2.jpg -> Буксир\n",
            "boatset/test/tug_test_3.jpg -> Буксир\n",
            "boatset/test/tug_test_4.jpg -> Буксир\n",
            "boatset/test/tug_test_5.jpg -> Буксир\n"
          ],
          "name": "stdout"
        }
      ]
    }
  ]
}