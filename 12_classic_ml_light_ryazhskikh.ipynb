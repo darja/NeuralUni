{
  "nbformat": 4,
  "nbformat_minor": 0,
  "metadata": {
    "colab": {
      "name": "12_classic_ml_light_ryazhskikh.ipynb",
      "version": "0.3.2",
      "provenance": [],
      "collapsed_sections": [
        "Ef3QZR75yKRQ",
        "7Yjvzt5f8Da3",
        "s1NToKkgmTHZ",
        "CNVfNmuwyeGM"
      ],
      "include_colab_link": true
    },
    "kernelspec": {
      "name": "python3",
      "display_name": "Python 3"
    }
  },
  "cells": [
    {
      "cell_type": "markdown",
      "metadata": {
        "id": "view-in-github",
        "colab_type": "text"
      },
      "source": [
        "<a href=\"https://colab.research.google.com/github/darja/NeuralUni/blob/master/12_classic_ml_light_ryazhskikh.ipynb\" target=\"_parent\"><img src=\"https://colab.research.google.com/assets/colab-badge.svg\" alt=\"Open In Colab\"/></a>"
      ]
    },
    {
      "metadata": {
        "id": "ut3A_5LVxVml",
        "colab_type": "text"
      },
      "cell_type": "markdown",
      "source": [
        "# Классическое машинное обучение: алгоритмы и этапы обработки данных\n",
        "\n",
        "Для базы sklearn breast_cancer\n",
        "1. Сделать классификацию с помощью SVM с rbf kernel, поварьировать параметр gamma. Можно в логарифмическом маcштабе, например от 0.00001 до 0.5. Использовать признаки как исходные, так и преобразованные после нормировки и метода главных компонент. Поварьировать количество компонент.\n",
        "2. Сделать классификацию с помощью AdaBoostClassifier из sklearn.ensemble. Поварьировать параметр n_estimators. Можно использовать только исходные признаки. Разбивку на обучающую и тестовую выборки сохранять от модели к модели, как сделано в этом ноутбуке.\n",
        "В отчете указать Accuracy и ошибки первого и второго рода для всех вариантов. Получился ли результат, лучший, чем в ноубтуке?\n",
        "3. (Опционально) На базе sklearn diabetes сделать регрессию с помощью LASSO. Поварьировать alpha. В отчет - RMSE и какие какие признаки использовались (ненулевые coef_)"
      ]
    },
    {
      "metadata": {
        "id": "uyTUTWE3xpJL",
        "colab_type": "text"
      },
      "cell_type": "markdown",
      "source": [
        "# Подготовка окружения"
      ]
    },
    {
      "metadata": {
        "id": "HzGf7ZoALa-r",
        "colab_type": "code",
        "colab": {}
      },
      "cell_type": "code",
      "source": [
        "from sklearn import datasets\n",
        "from sklearn.model_selection import train_test_split\n",
        "from sklearn import metrics\n",
        "\n",
        "from sklearn.ensemble import AdaBoostClassifier\n",
        "from sklearn.tree import DecisionTreeClassifier\n",
        "\n",
        "from sklearn.svm import SVC\n",
        "\n",
        "import matplotlib.pyplot as plt\n",
        "import numpy as np\n",
        "import pandas as pd\n",
        "\n",
        "import random\n",
        "import numpy\n",
        "import itertools\n",
        "\n",
        "numpy.random.seed(2)"
      ],
      "execution_count": 0,
      "outputs": []
    },
    {
      "metadata": {
        "id": "UWliNNS5xt1_",
        "colab_type": "text"
      },
      "cell_type": "markdown",
      "source": [
        "## Загрузка исходных данных"
      ]
    },
    {
      "metadata": {
        "id": "gEx1Vpp8MJVg",
        "colab_type": "code",
        "colab": {}
      },
      "cell_type": "code",
      "source": [
        "data = datasets.load_breast_cancer()\n",
        "\n",
        "target = data.target\n",
        "# меняем индексы классификации:\n",
        "# 0 - доброкачественная\n",
        "# 1 - злокачественная\n",
        "target = 1 - target"
      ],
      "execution_count": 0,
      "outputs": []
    },
    {
      "metadata": {
        "id": "Ef3QZR75yKRQ",
        "colab_type": "text"
      },
      "cell_type": "markdown",
      "source": [
        "### Демонстрация исходных данных"
      ]
    },
    {
      "metadata": {
        "id": "GlqrAcVgyNyy",
        "colab_type": "code",
        "colab": {}
      },
      "cell_type": "code",
      "source": [
        "# print(\"Features: \", data.feature_names)\n",
        "# print(\"Labels: \", data.target_names)\n",
        "print(data.data.shape)\n",
        "print(data.data[10:14,:])\n",
        "print(data.target)"
      ],
      "execution_count": 0,
      "outputs": []
    },
    {
      "metadata": {
        "id": "uvMYJh8yx-Hw",
        "colab_type": "text"
      },
      "cell_type": "markdown",
      "source": [
        "### Разбиение на обучающую и тестовую выборки"
      ]
    },
    {
      "metadata": {
        "id": "XD_WHM9CMBdI",
        "colab_type": "code",
        "colab": {}
      },
      "cell_type": "code",
      "source": [
        "features_train, features_test, labels_train, labels_test = train_test_split(data.data, target, test_size=0.3)"
      ],
      "execution_count": 0,
      "outputs": []
    },
    {
      "metadata": {
        "id": "7Yjvzt5f8Da3",
        "colab_type": "text"
      },
      "cell_type": "markdown",
      "source": [
        "### Нормирование"
      ]
    },
    {
      "metadata": {
        "id": "2fQa2x2A8E2N",
        "colab_type": "code",
        "colab": {
          "base_uri": "https://localhost:8080/",
          "height": 51
        },
        "outputId": "60120c14-190e-493a-cd96-e6ec3231bd13"
      },
      "cell_type": "code",
      "source": [
        "print(\"Features shape: \", features_train.shape)\n",
        "mean = features_train.mean(0)\n",
        "std = features_train.std(0)\n",
        "print(\"Mean shape: \", mean.shape)\n",
        "\n",
        "#нормируем обучающую выборку\n",
        "features_train_prepared = np.zeros_like(features_train)\n",
        "for i in range(0, features_train.shape[0]):\n",
        "    features_train_prepared[i,:]= (features_train[i,:]-mean)/std\n",
        "    \n",
        "# нормируем тестовую выборку\n",
        "features_test_prepared  = np.zeros_like(features_test)\n",
        "for i in range(0,features_test.shape[0]):\n",
        "    features_test_prepared[i,:]= (features_test[i,:]-mean)/std\n"
      ],
      "execution_count": 7,
      "outputs": [
        {
          "output_type": "stream",
          "text": [
            "Features shape:  (398, 30)\n",
            "Mean shape:  (30,)\n"
          ],
          "name": "stdout"
        }
      ]
    },
    {
      "metadata": {
        "id": "64KhalWXybxj",
        "colab_type": "text"
      },
      "cell_type": "markdown",
      "source": [
        "# Классификация"
      ]
    },
    {
      "metadata": {
        "id": "pec5RnW_yyaM",
        "colab_type": "text"
      },
      "cell_type": "markdown",
      "source": [
        "## Утилиты"
      ]
    },
    {
      "metadata": {
        "id": "1M2EZTQRy0eh",
        "colab_type": "code",
        "colab": {}
      },
      "cell_type": "code",
      "source": [
        "#вычисление ошибок первого и второго рода\n",
        "def calculate_errors(expected, predicted):    \n",
        "    acc = metrics.accuracy_score(expected, predicted)\n",
        "    FP = sum((expected == 0) & (predicted == 1))\n",
        "    FN = sum((expected == 1) & (predicted == 0))\n",
        "    TP = sum((expected == 1) & (predicted == 1))\n",
        "    TN = sum((expected == 0) & (predicted == 0))\n",
        "    FPR = FP / (FP + TN)\n",
        "    FNR = FN / (TP + FN)\n",
        "    return (FPR, FNR, acc)\n",
        "\n",
        "def print_errors(expected, predicted):    \n",
        "    FPR, FNR, acc = calculate_errors(expected, predicted)\n",
        "    print(\"Accuracy:\", acc)\n",
        "    print('ERR1 ', FPR)\n",
        "    print('ERR2 ', FNR)\n",
        "    return (FPR, FNR, acc)\n",
        "    \n",
        "def fit_and_classify(clf, normalized = False):\n",
        "    train_features = features_train_prepared if normalized else features_train\n",
        "    test_features = features_test_prepared if normalized else features_test\n",
        "    \n",
        "    clf.fit(train_features, labels_train)\n",
        "    labels_test_predicted = clf.predict(test_features)\n",
        "    print_errors(labels_test, labels_test_predicted)\n",
        "    "
      ],
      "execution_count": 0,
      "outputs": []
    },
    {
      "metadata": {
        "id": "s1NToKkgmTHZ",
        "colab_type": "text"
      },
      "cell_type": "markdown",
      "source": [
        "## Классификация методом опорных векторов"
      ]
    },
    {
      "metadata": {
        "id": "CNVfNmuwyeGM",
        "colab_type": "text"
      },
      "cell_type": "markdown",
      "source": [
        "### Базовая классификация"
      ]
    },
    {
      "metadata": {
        "id": "N7UlJa2FMBqZ",
        "colab_type": "code",
        "outputId": "c540310e-3701-4838-8687-da6f35caf7e1",
        "colab": {
          "base_uri": "https://localhost:8080/",
          "height": 445
        }
      },
      "cell_type": "code",
      "source": [
        "print(\"--- Kernel: Linear\")\n",
        "clf = SVC(kernel = 'linear')\n",
        "\n",
        "print(\"Raw\")\n",
        "fit_and_classify(clf)\n",
        "\n",
        "print(\"\\nNormalized\")\n",
        "fit_and_classify(clf, normalized = True)\n",
        "\n",
        "print(\"\\n\\n--- Kernel: RBF\")\n",
        "clf = SVC()\n",
        "\n",
        "print(\"Raw\")\n",
        "fit_and_classify(clf)\n",
        "\n",
        "print(\"\\nNormalized\")\n",
        "fit_and_classify(clf, normalized = True)"
      ],
      "execution_count": 20,
      "outputs": [
        {
          "output_type": "stream",
          "text": [
            "--- Kernel: Linear\n",
            "Raw\n",
            "Accuracy: 0.9532163742690059\n",
            "ERR1  0.028846153846153848\n",
            "ERR2  0.07462686567164178\n",
            "\n",
            "Normalized\n",
            "Accuracy: 0.9707602339181286\n",
            "ERR1  0.038461538461538464\n",
            "ERR2  0.014925373134328358\n",
            "\n",
            "\n",
            "--- Kernel: RBF\n",
            "Raw\n",
            "Accuracy: 0.6081871345029239\n",
            "ERR1  0.0\n",
            "ERR2  1.0\n",
            "\n",
            "Normalized\n",
            "Accuracy: 0.9766081871345029\n",
            "ERR1  0.028846153846153848\n",
            "ERR2  0.014925373134328358\n"
          ],
          "name": "stdout"
        },
        {
          "output_type": "stream",
          "text": [
            "/usr/local/lib/python3.6/dist-packages/sklearn/svm/base.py:196: FutureWarning: The default value of gamma will change from 'auto' to 'scale' in version 0.22 to account better for unscaled features. Set gamma explicitly to 'auto' or 'scale' to avoid this warning.\n",
            "  \"avoid this warning.\", FutureWarning)\n"
          ],
          "name": "stderr"
        }
      ]
    },
    {
      "metadata": {
        "id": "z8AubMyy18kH",
        "colab_type": "text"
      },
      "cell_type": "markdown",
      "source": [
        "### Подбор параметров RBF kernel"
      ]
    },
    {
      "metadata": {
        "id": "dMlbJHth2Beq",
        "colab_type": "code",
        "colab": {
          "base_uri": "https://localhost:8080/",
          "height": 629
        },
        "outputId": "31db122f-c915-4a09-98d3-35495c9519bb"
      },
      "cell_type": "code",
      "source": [
        "def rbfBruteForce(normalized = False):\n",
        "    train_features = features_train_prepared if normalized else features_train\n",
        "    test_features = features_test_prepared if normalized else features_test\n",
        "    \n",
        "#     gamma_range = np.linspace(1e-6, 0.5, num = 25)\n",
        "    gamma_range = np.logspace(-6, 0, num = 50)\n",
        "    C_range = np.linspace(1e-1, 1e+1, num = 50)\n",
        "    \n",
        "    # FPR - False Positive Rate\n",
        "    # FNR - False Negative Rate\n",
        "    # TFR - Total False Rate\n",
        "    result = pd.DataFrame(columns=['C', 'Gamma', 'FPR', 'FNR', 'TFR', \"Accuracy\"])\n",
        "    \n",
        "    for gamma in gamma_range:\n",
        "        for C in C_range:\n",
        "            clf = SVC(C = C, gamma = gamma)\n",
        "            clf.fit(train_features, labels_train)\n",
        "\n",
        "            labels_test_predicted = clf.predict(test_features)\n",
        "            FPR, FNR, acc = calculate_errors(labels_test, labels_test_predicted)\n",
        "            \n",
        "            result = result.append({'C': C, 'Gamma': gamma, 'FPR': FPR, 'FNR': FNR, 'TFR': FPR + FNR, 'Accuracy': acc}, ignore_index=True)\n",
        "            \n",
        "    print(\"\\nBest values sorted by Total + False Positive\")\n",
        "    print(result.sort_values(by=['TFR', 'FPR']).head())\n",
        "\n",
        "    print(\"\\nBest values sorted by Total + False Negative\")\n",
        "    print(result.sort_values(by=['TFR', 'FNR']).head())\n",
        "    \n",
        "print(\"Raw\")\n",
        "rbfBruteForce(normalized = False)\n",
        "\n",
        "print(\"\\n\\nNormalized\")\n",
        "rbfBruteForce(normalized = True)"
      ],
      "execution_count": 26,
      "outputs": [
        {
          "output_type": "stream",
          "text": [
            "Raw\n",
            "\n",
            "Best values sorted by Total + False Positive\n",
            "             C     Gamma       FPR       FNR       TFR  Accuracy\n",
            "801   0.302041  0.000091  0.038462  0.089552  0.128014  0.941520\n",
            "1050  0.100000  0.000373  0.038462  0.089552  0.128014  0.941520\n",
            "800   0.100000  0.000091  0.048077  0.089552  0.137629  0.935673\n",
            "802   0.504082  0.000091  0.048077  0.089552  0.137629  0.935673\n",
            "803   0.706122  0.000091  0.048077  0.089552  0.137629  0.935673\n",
            "\n",
            "Best values sorted by Total + False Negative\n",
            "             C     Gamma       FPR       FNR       TFR  Accuracy\n",
            "801   0.302041  0.000091  0.038462  0.089552  0.128014  0.941520\n",
            "1050  0.100000  0.000373  0.038462  0.089552  0.128014  0.941520\n",
            "800   0.100000  0.000091  0.048077  0.089552  0.137629  0.935673\n",
            "802   0.504082  0.000091  0.048077  0.089552  0.137629  0.935673\n",
            "803   0.706122  0.000091  0.048077  0.089552  0.137629  0.935673\n",
            "\n",
            "\n",
            "Normalized\n",
            "\n",
            "Best values sorted by Total + False Positive\n",
            "              C     Gamma  FPR       FNR       TFR  Accuracy\n",
            "1446   9.393878  0.002683  0.0  0.014925  0.014925  0.994152\n",
            "1447   9.595918  0.002683  0.0  0.014925  0.014925  0.994152\n",
            "1448   9.797959  0.002683  0.0  0.014925  0.014925  0.994152\n",
            "1449  10.000000  0.002683  0.0  0.014925  0.014925  0.994152\n",
            "1488   7.777551  0.003556  0.0  0.014925  0.014925  0.994152\n",
            "\n",
            "Best values sorted by Total + False Negative\n",
            "              C     Gamma  FPR       FNR       TFR  Accuracy\n",
            "1446   9.393878  0.002683  0.0  0.014925  0.014925  0.994152\n",
            "1447   9.595918  0.002683  0.0  0.014925  0.014925  0.994152\n",
            "1448   9.797959  0.002683  0.0  0.014925  0.014925  0.994152\n",
            "1449  10.000000  0.002683  0.0  0.014925  0.014925  0.994152\n",
            "1488   7.777551  0.003556  0.0  0.014925  0.014925  0.994152\n"
          ],
          "name": "stdout"
        }
      ]
    },
    {
      "metadata": {
        "id": "GH5czQ8vaq-Z",
        "colab_type": "text"
      },
      "cell_type": "markdown",
      "source": [
        "## Классификация с помощью AdaBoostClassifier"
      ]
    },
    {
      "metadata": {
        "id": "IywSiIPInYuI",
        "colab_type": "text"
      },
      "cell_type": "markdown",
      "source": [
        "### Базовая классификация"
      ]
    },
    {
      "metadata": {
        "id": "k2JvoIVhlxKB",
        "colab_type": "code",
        "colab": {
          "base_uri": "https://localhost:8080/",
          "height": 68
        },
        "outputId": "45559046-035b-4b48-b5c2-49b602a30435"
      },
      "cell_type": "code",
      "source": [
        "bdt = AdaBoostClassifier(DecisionTreeClassifier(max_depth=1), n_estimators=50)\n",
        "fit_and_classify(bdt)"
      ],
      "execution_count": 41,
      "outputs": [
        {
          "output_type": "stream",
          "text": [
            "Accuracy: 0.9532163742690059\n",
            "ERR1  0.038461538461538464\n",
            "ERR2  0.05970149253731343\n"
          ],
          "name": "stdout"
        }
      ]
    },
    {
      "metadata": {
        "id": "T4hz6heanbwr",
        "colab_type": "text"
      },
      "cell_type": "markdown",
      "source": [
        "### Подбор параметров"
      ]
    },
    {
      "metadata": {
        "id": "VwPUDKMSne1b",
        "colab_type": "code",
        "colab": {
          "base_uri": "https://localhost:8080/",
          "height": 629
        },
        "outputId": "42142ef8-ee5e-48a6-88ef-2cfe128cebf2"
      },
      "cell_type": "code",
      "source": [
        "def adaBoostBruteForce(normalized = False):\n",
        "    train_features = features_train_prepared if normalized else features_train\n",
        "    test_features = features_test_prepared if normalized else features_test\n",
        "    \n",
        "    depth_range = range(1, 5, 1)\n",
        "    algorithms = ['SAMME', 'SAMME.R']\n",
        "    n_estimators = [10, 50, 100, 200, 250, 500]\n",
        "\n",
        "    combinations = list(itertools.product(depth_range, algorithms, n_estimators))\n",
        "\n",
        "    # FPR - False Positive Rate\n",
        "    # FNR - False Negative Rate\n",
        "    # TFR - Total False Rate\n",
        "    result = pd.DataFrame(columns=['Depth', 'Algorithm', 'n_estimators', 'FPR', 'FNR', 'TFR', \"Accuracy\"])\n",
        "    \n",
        "    for config in combinations:\n",
        "        depth = config[0]\n",
        "        alg = config[1]\n",
        "        n_est = config[2]\n",
        "        \n",
        "        bdt = AdaBoostClassifier(DecisionTreeClassifier(max_depth=depth), algorithm=alg, n_estimators=n_est)\n",
        "        bdt.fit(train_features, labels_train)\n",
        "        \n",
        "        labels_test_predicted = bdt.predict(test_features)\n",
        "        FPR, FNR, acc = calculate_errors(labels_test, labels_test_predicted)\n",
        "        \n",
        "        result = result.append({'Depth': depth, 'Algorithm': alg, 'n_estimators': n_est, 'FPR': FPR, 'FNR': FNR, 'TFR': FPR + FNR, 'Accuracy': acc}, ignore_index=True)\n",
        "            \n",
        "    print(\"\\nBest values sorted by Total + False Positive\")\n",
        "    print(result.sort_values(by=['TFR', 'FPR']).head())\n",
        "\n",
        "    print(\"\\nBest values sorted by Total + False Negative\")\n",
        "    print(result.sort_values(by=['TFR', 'FNR']).head())\n",
        "\n",
        "print(\"Raw\")\n",
        "adaBoostBruteForce(normalized = False)\n",
        "\n",
        "print(\"\\n\\nNormalized\")\n",
        "adaBoostBruteForce(normalized = True)"
      ],
      "execution_count": 44,
      "outputs": [
        {
          "output_type": "stream",
          "text": [
            "Raw\n",
            "\n",
            "Best values sorted by Total + False Positive\n",
            "   Depth Algorithm n_estimators       FPR       FNR       TFR  Accuracy\n",
            "4      1     SAMME          250  0.009615  0.029851  0.039466  0.982456\n",
            "5      1     SAMME          500  0.009615  0.029851  0.039466  0.982456\n",
            "3      1     SAMME          200  0.019231  0.029851  0.049082  0.976608\n",
            "11     1   SAMME.R          500  0.019231  0.029851  0.049082  0.976608\n",
            "25     3     SAMME           50  0.028846  0.029851  0.058697  0.970760\n",
            "\n",
            "Best values sorted by Total + False Negative\n",
            "   Depth Algorithm n_estimators       FPR       FNR       TFR  Accuracy\n",
            "4      1     SAMME          250  0.009615  0.029851  0.039466  0.982456\n",
            "5      1     SAMME          500  0.009615  0.029851  0.039466  0.982456\n",
            "3      1     SAMME          200  0.019231  0.029851  0.049082  0.976608\n",
            "11     1   SAMME.R          500  0.019231  0.029851  0.049082  0.976608\n",
            "25     3     SAMME           50  0.028846  0.029851  0.058697  0.970760\n",
            "\n",
            "\n",
            "Normalized\n",
            "\n",
            "Best values sorted by Total + False Positive\n",
            "   Depth Algorithm n_estimators       FPR       FNR       TFR  Accuracy\n",
            "4      1     SAMME          250  0.009615  0.029851  0.039466  0.982456\n",
            "5      1     SAMME          500  0.009615  0.029851  0.039466  0.982456\n",
            "3      1     SAMME          200  0.019231  0.029851  0.049082  0.976608\n",
            "11     1   SAMME.R          500  0.019231  0.029851  0.049082  0.976608\n",
            "20     2   SAMME.R          100  0.028846  0.029851  0.058697  0.970760\n",
            "\n",
            "Best values sorted by Total + False Negative\n",
            "   Depth Algorithm n_estimators       FPR       FNR       TFR  Accuracy\n",
            "4      1     SAMME          250  0.009615  0.029851  0.039466  0.982456\n",
            "5      1     SAMME          500  0.009615  0.029851  0.039466  0.982456\n",
            "3      1     SAMME          200  0.019231  0.029851  0.049082  0.976608\n",
            "11     1   SAMME.R          500  0.019231  0.029851  0.049082  0.976608\n",
            "20     2   SAMME.R          100  0.028846  0.029851  0.058697  0.970760\n"
          ],
          "name": "stdout"
        }
      ]
    }
  ]
}