{
  "nbformat": 4,
  "nbformat_minor": 0,
  "metadata": {
    "colab": {
      "name": "12_classic_ml_light_ryazhskikh.ipynb",
      "version": "0.3.2",
      "provenance": [],
      "collapsed_sections": [
        "Ef3QZR75yKRQ",
        "tdyhzKPzykkA",
        "SBAz_IY0y4Zw",
        "gngXq9WBzAWC",
        "NXGfrBM6zDxJ",
        "mnaVcFuwzfJY",
        "cxJ5XtEczju1"
      ],
      "include_colab_link": true
    },
    "kernelspec": {
      "name": "python3",
      "display_name": "Python 3"
    }
  },
  "cells": [
    {
      "cell_type": "markdown",
      "metadata": {
        "id": "view-in-github",
        "colab_type": "text"
      },
      "source": [
        "<a href=\"https://colab.research.google.com/github/darja/NeuralUni/blob/master/12_classic_ml_light_ryazhskikh.ipynb\" target=\"_parent\"><img src=\"https://colab.research.google.com/assets/colab-badge.svg\" alt=\"Open In Colab\"/></a>"
      ]
    },
    {
      "metadata": {
        "id": "ut3A_5LVxVml",
        "colab_type": "text"
      },
      "cell_type": "markdown",
      "source": [
        "# Классическое машинное обучение: алгоритмы и этапы обработки данных\n",
        "\n",
        "Для базы sklearn breast_cancer\n",
        "1. Сделать классификацию с помощью SVM с rbf kernel, поварьировать параметр gamma. Можно в логарифмическом маcштабе, например от 0.00001 до 0.5. Использовать признаки как исходные, так и преобразованные после нормировки и метода главных компонент. Поварьировать количество компонент.\n",
        "2. Сделать классификацию с помощью AdaBoostClassifier из sklearn.ensemble. Поварьировать параметр n_estimators. Можно использовать только исходные признаки. Разбивку на обучающую и тестовую выборки сохранять от модели к модели, как сделано в этом ноутбуке.\n",
        "В отчете указать Accuracy и ошибки первого и второго рода для всех вариантов. Получился ли результат, лучший, чем в ноубтуке?\n",
        "3. (Опционально) На базе sklearn diabetes сделать регрессию с помощью LASSO. Поварьировать alpha. В отчет - RMSE и какие какие признаки использовались (ненулевые coef_)"
      ]
    },
    {
      "metadata": {
        "id": "uyTUTWE3xpJL",
        "colab_type": "text"
      },
      "cell_type": "markdown",
      "source": [
        "# Подготовка окружения"
      ]
    },
    {
      "metadata": {
        "id": "HzGf7ZoALa-r",
        "colab_type": "code",
        "colab": {}
      },
      "cell_type": "code",
      "source": [
        "from sklearn import datasets\n",
        "from sklearn.model_selection import train_test_split\n",
        "from sklearn import metrics\n",
        "\n",
        "from sklearn.svm import SVC\n",
        "\n",
        "import matplotlib.pyplot as plt\n",
        "import numpy as np\n",
        "\n",
        "import random\n",
        "import numpy\n",
        "numpy.random.seed(2)"
      ],
      "execution_count": 0,
      "outputs": []
    },
    {
      "metadata": {
        "id": "UWliNNS5xt1_",
        "colab_type": "text"
      },
      "cell_type": "markdown",
      "source": [
        "## Загрузка исходных данных"
      ]
    },
    {
      "metadata": {
        "id": "gEx1Vpp8MJVg",
        "colab_type": "code",
        "colab": {}
      },
      "cell_type": "code",
      "source": [
        "data = datasets.load_breast_cancer()\n",
        "\n",
        "target = data.target\n",
        "# меняем индексы классификации:\n",
        "# 0 - доброкачественная\n",
        "# 1 - злокачественная\n",
        "target = 1 - target"
      ],
      "execution_count": 0,
      "outputs": []
    },
    {
      "metadata": {
        "id": "Ef3QZR75yKRQ",
        "colab_type": "text"
      },
      "cell_type": "markdown",
      "source": [
        "### Демонстрация исходных данных"
      ]
    },
    {
      "metadata": {
        "id": "GlqrAcVgyNyy",
        "colab_type": "code",
        "colab": {}
      },
      "cell_type": "code",
      "source": [
        "# print(\"Features: \", data.feature_names)\n",
        "# print(\"Labels: \", data.target_names)\n",
        "print(data.data.shape)\n",
        "print(data.data[10:14,:])\n",
        "print(data.target)"
      ],
      "execution_count": 0,
      "outputs": []
    },
    {
      "metadata": {
        "id": "uvMYJh8yx-Hw",
        "colab_type": "text"
      },
      "cell_type": "markdown",
      "source": [
        "### Разбиение на обучающую и тестовую выборки"
      ]
    },
    {
      "metadata": {
        "id": "XD_WHM9CMBdI",
        "colab_type": "code",
        "colab": {}
      },
      "cell_type": "code",
      "source": [
        "features_train, features_test, labels_train, labels_test = train_test_split(data.data, target, test_size=0.3)"
      ],
      "execution_count": 0,
      "outputs": []
    },
    {
      "metadata": {
        "id": "7Yjvzt5f8Da3",
        "colab_type": "text"
      },
      "cell_type": "markdown",
      "source": [
        "### Нормирование"
      ]
    },
    {
      "metadata": {
        "id": "2fQa2x2A8E2N",
        "colab_type": "code",
        "colab": {
          "base_uri": "https://localhost:8080/",
          "height": 51
        },
        "outputId": "e3f55ce0-1d5e-4d46-8e08-2efaf7a42660"
      },
      "cell_type": "code",
      "source": [
        "print(\"Features shape: \", features_train.shape)\n",
        "mean = features_train.mean(0)\n",
        "std = features_train.std(0)\n",
        "print(\"Mean shape: \", mean.shape)\n",
        "\n",
        "#нормируем обучающую выборку\n",
        "features_train_prepared = np.zeros_like(features_train)\n",
        "for i in range(0, features_train.shape[0]):\n",
        "    features_train_prepared[i,:]= (features_train[i,:]-mean)/std\n",
        "    \n",
        "# нормируем тестовую выборку\n",
        "features_test_prepared  = np.zeros_like(features_test)\n",
        "for i in range(0,features_test.shape[0]):\n",
        "    features_test_prepared[i,:]= (features_test[i,:]-mean)/std\n"
      ],
      "execution_count": 11,
      "outputs": [
        {
          "output_type": "stream",
          "text": [
            "Features shape:  (398, 30)\n",
            "Mean shape:  (30,)\n"
          ],
          "name": "stdout"
        }
      ]
    },
    {
      "metadata": {
        "id": "64KhalWXybxj",
        "colab_type": "text"
      },
      "cell_type": "markdown",
      "source": [
        "# Классификация"
      ]
    },
    {
      "metadata": {
        "id": "pec5RnW_yyaM",
        "colab_type": "text"
      },
      "cell_type": "markdown",
      "source": [
        "## Утилиты"
      ]
    },
    {
      "metadata": {
        "id": "1M2EZTQRy0eh",
        "colab_type": "code",
        "colab": {}
      },
      "cell_type": "code",
      "source": [
        "#вычисление ошибок первого и второго рода\n",
        "def calculate_errors(expected, predicted):    \n",
        "    FP = sum((expected == 0) & (predicted == 1))\n",
        "    FN = sum((expected == 1) & (predicted == 0))\n",
        "    TP = sum((expected == 1) & (predicted == 1))\n",
        "    TN = sum((expected == 0) & (predicted == 0))\n",
        "    FPR = FP / (FP + TN)\n",
        "    FNR = FN / (TP + FN)\n",
        "    return (FPR, FNR)\n",
        "\n",
        "def print_errors(expected, predicted):\n",
        "    print(\"Accuracy:\", metrics.accuracy_score(expected, predicted))\n",
        "    \n",
        "    FPR, FNR = calculate_errors(expected, predicted)\n",
        "    print('ERR1 ', FPR)\n",
        "    print('ERR2 ', FNR)\n",
        "    return (FPR, FNR)\n",
        "    \n",
        "def fit_and_classify(clf, normalized = False):\n",
        "    train_features = features_train_prepared if normalized else features_train\n",
        "    test_features = features_test_prepared if normalized else features_test\n",
        "    \n",
        "    clf.fit(train_features, labels_train)\n",
        "    labels_test_predicted = clf.predict(test_features)\n",
        "    print_errors(labels_test, labels_test_predicted)\n",
        "    "
      ],
      "execution_count": 0,
      "outputs": []
    },
    {
      "metadata": {
        "id": "CNVfNmuwyeGM",
        "colab_type": "text"
      },
      "cell_type": "markdown",
      "source": [
        "## Базовая классификация методом опорных векторов"
      ]
    },
    {
      "metadata": {
        "id": "N7UlJa2FMBqZ",
        "colab_type": "code",
        "outputId": "095f5c37-ea46-44c2-d32c-551af2b80698",
        "colab": {
          "base_uri": "https://localhost:8080/",
          "height": 170
        }
      },
      "cell_type": "code",
      "source": [
        "clf = SVC(kernel = 'linear')\n",
        "\n",
        "print(\"Raw\")\n",
        "fit_and_classify(clf)\n",
        "\n",
        "print(\"\\nNormalized\")\n",
        "fit_and_classify(clf, normalized = True)"
      ],
      "execution_count": 25,
      "outputs": [
        {
          "output_type": "stream",
          "text": [
            "Raw\n",
            "Accuracy: 0.9532163742690059\n",
            "ERR1  0.028846153846153848\n",
            "ERR2  0.07462686567164178\n",
            "\n",
            "Normalized\n",
            "Accuracy: 0.9707602339181286\n",
            "ERR1  0.038461538461538464\n",
            "ERR2  0.014925373134328358\n"
          ],
          "name": "stdout"
        }
      ]
    },
    {
      "metadata": {
        "id": "z8AubMyy18kH",
        "colab_type": "text"
      },
      "cell_type": "markdown",
      "source": [
        "## Подбор параметров SVM с RBF kernel"
      ]
    },
    {
      "metadata": {
        "id": "dMlbJHth2Beq",
        "colab_type": "code",
        "colab": {
          "base_uri": "https://localhost:8080/",
          "height": 1122
        },
        "outputId": "71567c21-65e2-4ad8-a835-facef50e1b9c"
      },
      "cell_type": "code",
      "source": [
        "def rbfBruteForce(normalized = False):\n",
        "    train_features = features_train_prepared if normalized else features_train\n",
        "    test_features = features_test_prepared if normalized else features_test\n",
        "    \n",
        "    results = []\n",
        "\n",
        "    gamma_range = np.logspace(-6, 0, num = 10)\n",
        "    best_result = []\n",
        "#     gamma_range = np.linspace(1e-6, 0.5, num = 25)\n",
        "\n",
        "    print(\"Gamma\\t\\tFalse Positive Rate\\tFalse Negative Rate\")\n",
        "    for gamma in gamma_range:\n",
        "        clf = SVC(gamma = gamma)\n",
        "        clf.fit(train_features, labels_train)\n",
        "\n",
        "        labels_test_predicted = clf.predict(test_features)\n",
        "        FPR, FNR = calculate_errors(labels_test, labels_test_predicted)\n",
        "        results.append([gamma, FPR, FNR])\n",
        "        print(\"%.09f\\t%.09f\\t\\t%.09f\" % (gamma, FPR, FNR))\n",
        "        \n",
        "    res_columns = list(zip(*results))\n",
        "    gamma_col = res_columns[0]\n",
        "    fpr_col = list(res_columns[1])\n",
        "    fnr_col = res_columns[2]\n",
        "    \n",
        "    fpr_min_index = np.argmin(fpr_col)\n",
        "    fnr_min_index = np.argmin(fnr_col)\n",
        "\n",
        "    print(\"Best FPR: %.09f at Gamma = %.09f\" % (fpr_col[fpr_min_index], \n",
        "                                               gamma_col[fpr_min_index]))\n",
        "    \n",
        "    print(\"Best FNR: %.09f at Gamma = %.09f\" % (fnr_col[fnr_min_index], \n",
        "                                               gamma_col[fnr_min_index]))\n",
        "\n",
        "    \n",
        "    plt.figure(figsize=(10,5))\n",
        "    plt.plot(gamma_col, fpr_col, label=\"False Positive Rate\")\n",
        "    plt.plot(gamma_col, fnr_col, label=\"False Negative Rate\")\n",
        "    plt.legend()\n",
        "    plt.show()\n",
        "    \n",
        "print(\"Raw\")\n",
        "rbfBruteForce(normalized = False)\n",
        "\n",
        "print(\"\\nNormalized\")\n",
        "rbfBruteForce(normalized = True)"
      ],
      "execution_count": 57,
      "outputs": [
        {
          "output_type": "stream",
          "text": [
            "Raw\n",
            "Gamma\t\tFalse Positive Rate\tFalse Negative Rate\n",
            "0.000001000\t0.038461538\t\t0.149253731\n",
            "0.000004642\t0.048076923\t\t0.119402985\n",
            "0.000021544\t0.048076923\t\t0.104477612\n",
            "0.000100000\t0.057692308\t\t0.089552239\n",
            "0.000464159\t0.057692308\t\t0.104477612\n",
            "0.002154435\t0.134615385\t\t0.074626866\n",
            "0.010000000\t0.000000000\t\t1.000000000\n",
            "0.046415888\t0.000000000\t\t1.000000000\n",
            "0.215443469\t0.000000000\t\t1.000000000\n",
            "1.000000000\t0.000000000\t\t1.000000000\n",
            "Best FPR: 0.000000000 at Gamma = 0.010000000\n",
            "Best FNR: 0.074626866 at Gamma = 0.002154435\n"
          ],
          "name": "stdout"
        },
        {
          "output_type": "display_data",
          "data": {
            "image/png": "[encoded data removed]",
            "text/plain": [
              "<Figure size 720x360 with 1 Axes>"
            ]
          },
          "metadata": {
            "tags": []
          }
        },
        {
          "output_type": "stream",
          "text": [
            "\n",
            "Normalized\n",
            "Gamma\t\tFalse Positive Rate\tFalse Negative Rate\n",
            "0.000001000\t0.000000000\t\t1.000000000\n",
            "0.000004642\t0.000000000\t\t1.000000000\n",
            "0.000021544\t0.000000000\t\t1.000000000\n",
            "0.000100000\t0.000000000\t\t0.567164179\n",
            "0.000464159\t0.000000000\t\t0.119402985\n",
            "0.002154435\t0.000000000\t\t0.104477612\n",
            "0.010000000\t0.000000000\t\t0.044776119\n",
            "0.046415888\t0.038461538\t\t0.014925373\n",
            "0.215443469\t0.134615385\t\t0.029850746\n",
            "1.000000000\t0.000000000\t\t1.000000000\n",
            "Best FPR: 0.000000000 at Gamma = 0.000001000\n",
            "Best FNR: 0.014925373 at Gamma = 0.046415888\n"
          ],
          "name": "stdout"
        },
        {
          "output_type": "display_data",
          "data": {
            "image/png": "[encoded data removed]",
            "text/plain": [
              "<Figure size 720x360 with 1 Axes>"
            ]
          },
          "metadata": {
            "tags": []
          }
        }
      ]
    },
    {
      "metadata": {
        "id": "Ffku_i-A3tP4",
        "colab_type": "text"
      },
      "cell_type": "markdown",
      "source": [
        "## Другие базовые решения"
      ]
    },
    {
      "metadata": {
        "id": "tdyhzKPzykkA",
        "colab_type": "text"
      },
      "cell_type": "markdown",
      "source": [
        "### Логистическая регрессия"
      ]
    },
    {
      "metadata": {
        "id": "azwTWnYlNvim",
        "colab_type": "code",
        "outputId": "ca6b01db-4181-46dd-dac3-c2403a67deab",
        "colab": {
          "base_uri": "https://localhost:8080/",
          "height": 102
        }
      },
      "cell_type": "code",
      "source": [
        "from sklearn.linear_model import LogisticRegression\n",
        "clf = LogisticRegression(penalty='l1')\n",
        "\n",
        "fit_and_classify(clf)"
      ],
      "execution_count": 24,
      "outputs": [
        {
          "output_type": "stream",
          "text": [
            "/usr/local/lib/python3.6/dist-packages/sklearn/linear_model/logistic.py:433: FutureWarning: Default solver will be changed to 'lbfgs' in 0.22. Specify a solver to silence this warning.\n",
            "  FutureWarning)\n"
          ],
          "name": "stderr"
        },
        {
          "output_type": "stream",
          "text": [
            "Accuracy: 0.935672514619883\n",
            "ERR1  0.04807692307692308\n",
            "ERR2  0.08955223880597014\n"
          ],
          "name": "stdout"
        }
      ]
    },
    {
      "metadata": {
        "id": "SBAz_IY0y4Zw",
        "colab_type": "text"
      },
      "cell_type": "markdown",
      "source": [
        "### Метод K ближайших соседей"
      ]
    },
    {
      "metadata": {
        "id": "29qcrkCaN1I0",
        "colab_type": "code",
        "outputId": "9eac5863-05b5-4913-d2e8-b8eda9014ac4",
        "colab": {
          "base_uri": "https://localhost:8080/",
          "height": 68
        }
      },
      "cell_type": "code",
      "source": [
        "# Метод k-ближайших соседей \n",
        "from sklearn.neighbors import  KNeighborsClassifier\n",
        "clf = KNeighborsClassifier(n_neighbors=5)\n",
        "fit_and_classify(clf)"
      ],
      "execution_count": 25,
      "outputs": [
        {
          "output_type": "stream",
          "text": [
            "Accuracy: 0.9181286549707602\n",
            "ERR1  0.057692307692307696\n",
            "ERR2  0.11940298507462686\n"
          ],
          "name": "stdout"
        }
      ]
    },
    {
      "metadata": {
        "id": "gngXq9WBzAWC",
        "colab_type": "text"
      },
      "cell_type": "markdown",
      "source": [
        "### Деревья решений"
      ]
    },
    {
      "metadata": {
        "id": "iZ2aWWcBN1Tc",
        "colab_type": "code",
        "outputId": "4cb5ac8d-accb-491b-ddd9-e480de0c75e7",
        "colab": {
          "base_uri": "https://localhost:8080/",
          "height": 68
        }
      },
      "cell_type": "code",
      "source": [
        "# деревья решений\n",
        "from sklearn.tree import DecisionTreeClassifier\n",
        "clf = DecisionTreeClassifier(criterion=\"entropy\", max_depth = 10000)\n",
        "fit_and_classify(clf)"
      ],
      "execution_count": 26,
      "outputs": [
        {
          "output_type": "stream",
          "text": [
            "Accuracy: 0.9298245614035088\n",
            "ERR1  0.09615384615384616\n",
            "ERR2  0.029850746268656716\n"
          ],
          "name": "stdout"
        }
      ]
    },
    {
      "metadata": {
        "id": "QrFl7sL6N1Z8",
        "colab_type": "code",
        "outputId": "a263ee2e-3a4d-4694-f864-1e0d355123cf",
        "colab": {
          "base_uri": "https://localhost:8080/",
          "height": 51
        }
      },
      "cell_type": "code",
      "source": [
        "#нормировка - стандартизация\n",
        "print(featuresTrainInit.shape)\n",
        "mean = featuresTrainInit.mean(0)\n",
        "std = featuresTrainInit.std(0)\n",
        "print(mean.shape)\n",
        "#нормируем обучающую выборку\n",
        "featuresTrain = np.zeros_like(featuresTrainInit)\n",
        "for i in range(0,featuresTrainInit.shape[0]):\n",
        "    featuresTrain[i,:]= (featuresTrainInit[i,:]-mean)/std"
      ],
      "execution_count": 0,
      "outputs": [
        {
          "output_type": "stream",
          "text": [
            "(398, 30)\n",
            "(30,)\n"
          ],
          "name": "stdout"
        }
      ]
    },
    {
      "metadata": {
        "id": "NXGfrBM6zDxJ",
        "colab_type": "text"
      },
      "cell_type": "markdown",
      "source": [
        "### Метод главных компонент"
      ]
    },
    {
      "metadata": {
        "id": "g3uEmt4cN1c-",
        "colab_type": "code",
        "outputId": "71d0d2f2-af68-4393-d531-eea79d2c3939",
        "colab": {
          "base_uri": "https://localhost:8080/",
          "height": 387
        }
      },
      "cell_type": "code",
      "source": [
        "#метод главных компонент\n",
        "from sklearn.decomposition import PCA\n",
        "flen = featuresTrain.shape[1]\n",
        "pca = PCA(n_components=flen)\n",
        "pca.fit(featuresTrain)\n",
        "plt.figure(figsize=(20,5))\n",
        "plt.bar(np.arange(1,flen+1), pca.explained_variance_ratio_ ,tick_label=np.arange(1,flen+1))\n",
        "plt.ylabel(\"Variance ratio\")\n",
        "plt.xlabel(\"PC number\")\n",
        "plt.title(\"PCA all data\")\n",
        "pca = PCA(n_components=14)\n",
        "pca.fit(featuresTrain)\n",
        "#преобразуем обучающую выборку\n",
        "featuresTrain = pca.transform(featuresTrain)\n",
        "print(featuresTrain.shape)"
      ],
      "execution_count": 0,
      "outputs": [
        {
          "output_type": "stream",
          "text": [
            "(398, 14)\n"
          ],
          "name": "stdout"
        },
        {
          "output_type": "display_data",
          "data": {
            "image/png": "[encoded data removed]",
            "text/plain": [
              "<Figure size 1440x360 with 1 Axes>"
            ]
          },
          "metadata": {
            "tags": []
          }
        }
      ]
    },
    {
      "metadata": {
        "id": "dTnJ4OdMfH0T",
        "colab_type": "code",
        "outputId": "3a96c33d-5888-4dd1-b08f-fdc5ae3c72a7",
        "colab": {
          "base_uri": "https://localhost:8080/",
          "height": 51
        }
      },
      "cell_type": "code",
      "source": [
        "#нормируем и преобразуем с помощью PCA тестовую выборку на основе сохраненный mean, std, pca\n",
        "print(featuresTestInit.shape)\n",
        "featuresTest  =np.zeros_like(featuresTestInit)\n",
        "for i in range(0,featuresTestInit.shape[0]):\n",
        "    featuresTest[i,:]= (featuresTestInit[i,:]-mean)/std\n",
        "print(featuresTest.shape)\n",
        "featuresTest = pca.transform(featuresTest)"
      ],
      "execution_count": 0,
      "outputs": [
        {
          "output_type": "stream",
          "text": [
            "(171, 30)\n",
            "(171, 30)\n"
          ],
          "name": "stdout"
        }
      ]
    },
    {
      "metadata": {
        "id": "9C64lWvZYOKA",
        "colab_type": "code",
        "outputId": "878749bd-f130-4534-a14d-7a468df8f5fc",
        "colab": {
          "base_uri": "https://localhost:8080/",
          "height": 34
        }
      },
      "cell_type": "code",
      "source": [
        "print(featuresTest.shape)"
      ],
      "execution_count": 0,
      "outputs": [
        {
          "output_type": "stream",
          "text": [
            "(171, 14)\n"
          ],
          "name": "stdout"
        }
      ]
    },
    {
      "metadata": {
        "id": "AXvwE6OpzSTq",
        "colab_type": "text"
      },
      "cell_type": "markdown",
      "source": [
        "### SVM на нормированных признаках"
      ]
    },
    {
      "metadata": {
        "id": "xQBKD9y5N1g6",
        "colab_type": "code",
        "outputId": "df1256e7-fb70-4d3c-9547-30703ca01a56",
        "colab": {
          "base_uri": "https://localhost:8080/",
          "height": 85
        }
      },
      "cell_type": "code",
      "source": [
        "clf = svm.SVC(kernel = 'linear')\n",
        "clf.fit(features_train_prepared, labelsTrain)\n",
        "labels_test_predicted = clf.predict(features_test)\n",
        "print_errors(labels_test, labels_test_predicted)"
      ],
      "execution_count": 30,
      "outputs": [
        {
          "output_type": "stream",
          "text": [
            "Accuracy: 0.391812865497076\n",
            "ERR1  1.0\n",
            "ERR2  0.0\n"
          ],
          "name": "stdout"
        },
        {
          "output_type": "execute_result",
          "data": {
            "text/plain": [
              "(1.0, 0.0)"
            ]
          },
          "metadata": {
            "tags": []
          },
          "execution_count": 30
        }
      ]
    },
    {
      "metadata": {
        "id": "MjTSjke9zXFx",
        "colab_type": "text"
      },
      "cell_type": "markdown",
      "source": [
        "### Случайный лес на исходных и нормированных признаках"
      ]
    },
    {
      "metadata": {
        "id": "NO6BZO9bOQe0",
        "colab_type": "code",
        "outputId": "b02ec376-5672-420b-a72c-b545bbcafb09",
        "colab": {
          "base_uri": "https://localhost:8080/",
          "height": 187
        }
      },
      "cell_type": "code",
      "source": [
        "from sklearn.ensemble import RandomForestClassifier\n",
        "clf = RandomForestClassifier(n_estimators=200, max_depth=8, random_state=0)\n",
        "print(\"Normalized\")\n",
        "clf.fit(features_train_prepared, labelsTrain)\n",
        "labels_test_predicted = clf.predict(features_test)\n",
        "print_errors(labels_test, labels_test_predicted)\n",
        "\n",
        "print(\"\\nRaw\")\n",
        "clf.fit(features_train, labelsTrain)\n",
        "labels_test_predicted = clf.predict(features_test)\n",
        "print_errors(labels_test, labels_test_predicted)"
      ],
      "execution_count": 31,
      "outputs": [
        {
          "output_type": "stream",
          "text": [
            "Normalized\n",
            "Accuracy: 0.391812865497076\n",
            "ERR1  1.0\n",
            "ERR2  0.0\n",
            "\n",
            "Raw\n",
            "Accuracy: 0.9532163742690059\n",
            "ERR1  0.038461538461538464\n",
            "ERR2  0.05970149253731343\n"
          ],
          "name": "stdout"
        },
        {
          "output_type": "execute_result",
          "data": {
            "text/plain": [
              "(0.038461538461538464, 0.05970149253731343)"
            ]
          },
          "metadata": {
            "tags": []
          },
          "execution_count": 31
        }
      ]
    },
    {
      "metadata": {
        "id": "mnaVcFuwzfJY",
        "colab_type": "text"
      },
      "cell_type": "markdown",
      "source": [
        "### LASSO с выбором признаков "
      ]
    },
    {
      "metadata": {
        "colab_type": "code",
        "outputId": "217832dd-e8b3-453b-d691-36d23c9869ed",
        "id": "snsltHfCTGRu",
        "colab": {
          "base_uri": "https://localhost:8080/",
          "height": 419
        }
      },
      "cell_type": "code",
      "source": [
        "# LASSO с выбором признаков \n",
        "from sklearn.linear_model import Lasso\n",
        "clf = Lasso(alpha=0.01)\n",
        "clf.fit(featuresTrainInit, labelsTrain)\n",
        "print(clf.coef_)\n",
        "\n",
        "labelsPredict = clf.predict(featuresTestInit)\n",
        "\n",
        "plt.figure()\n",
        "plt.hist(labelsPredict[labelsTest==0],20, color='aqua', alpha=0.5, label='0')\n",
        "plt.hist(labelsPredict[labelsTest==1],20, color='purple', alpha=0.5, label='1')\n",
        "plt.xlabel('res')\n",
        "plt.ylabel('count')\n",
        "# plt.show()\n",
        "labelAfterThresh = labelsPredict.copy()\n",
        "labelAfterThresh[labelAfterThresh<0.3] = 0\n",
        "labelAfterThresh[labelAfterThresh>=0.3] = 1\n",
        "printErrlabelsTest(labelsTest,labelAfterThresh)\n"
      ],
      "execution_count": 0,
      "outputs": [
        {
          "output_type": "stream",
          "text": [
            "[-0.         -0.00694104  0.         -0.00050193  0.          0.\n",
            "  0.          0.          0.          0.          0.          0.\n",
            "  0.0131634   0.          0.          0.          0.          0.\n",
            "  0.          0.          0.06721442  0.01740661  0.0137029  -0.00048583\n",
            "  0.          0.          0.01657663  0.          0.          0.        ]\n",
            "Accuracy: 0.8947368421052632\n",
            "ERR1  0.15384615384615385\n",
            "ERR2  0.029850746268656716\n"
          ],
          "name": "stdout"
        },
        {
          "output_type": "display_data",
          "data": {
            "image/png": "[encoded data removed]",
            "text/plain": [
              "<Figure size 432x288 with 1 Axes>"
            ]
          },
          "metadata": {
            "tags": []
          }
        }
      ]
    },
    {
      "metadata": {
        "id": "cxJ5XtEczju1",
        "colab_type": "text"
      },
      "cell_type": "markdown",
      "source": [
        "### SVM с kernel на синтетических линейно неразделимых данных"
      ]
    },
    {
      "metadata": {
        "id": "ax_zjAn-R5iW",
        "colab_type": "code",
        "outputId": "c244d836-c836-4b68-feca-d6d7a87f5731",
        "colab": {
          "base_uri": "https://localhost:8080/",
          "height": 360
        }
      },
      "cell_type": "code",
      "source": [
        "#SVM с kernel на синтетических линейно неразделимых данных\n",
        "np.random.seed(0)\n",
        "xx, yy = np.meshgrid(np.linspace(-3, 3, 500),\n",
        "                     np.linspace(-3, 3, 500))\n",
        "\n",
        "X = np.random.randn(300, 2)\n",
        "Y = np.logical_xor(X[:, 0] > 0, X[:, 1] > 0)\n",
        "\n",
        "# clf = svm.SVC(kernel = 'linear')\n",
        "# clf = svm.SVC(kernel = 'rbf', gamma=0.4)\n",
        "clf = svm.SVC(kernel = 'sigmoid', coef0=1.1)\n",
        "clf.fit(X, Y)\n",
        "\n",
        "Z = clf.decision_function(np.c_[xx.ravel(), yy.ravel()])\n",
        "Z = Z.reshape(xx.shape)\n",
        "\n",
        "plt.imshow(Z, interpolation='nearest',\n",
        "           extent=(xx.min(), xx.max(), yy.min(), yy.max()), aspect='auto',\n",
        "           origin='lower', cmap=plt.cm.PuOr_r)\n",
        "contours = plt.contour(xx, yy, Z, levels=[0], linewidths=2,\n",
        "                       linetypes='--')\n",
        "plt.scatter(X[:, 0], X[:, 1], s=30, c=Y, cmap=plt.cm.Paired,\n",
        "            edgecolors='k')\n",
        "plt.xticks(())\n",
        "plt.yticks(())\n",
        "plt.axis([-3, 3, -3, 3])"
      ],
      "execution_count": 0,
      "outputs": [
        {
          "output_type": "stream",
          "text": [
            "/usr/local/lib/python3.6/dist-packages/sklearn/svm/base.py:196: FutureWarning: The default value of gamma will change from 'auto' to 'scale' in version 0.22 to account better for unscaled features. Set gamma explicitly to 'auto' or 'scale' to avoid this warning.\n",
            "  \"avoid this warning.\", FutureWarning)\n",
            "/usr/local/lib/python3.6/dist-packages/matplotlib/contour.py:1000: UserWarning: The following kwargs were not used by contour: 'linetypes'\n",
            "  s)\n"
          ],
          "name": "stderr"
        },
        {
          "output_type": "execute_result",
          "data": {
            "text/plain": [
              "[-3, 3, -3, 3]"
            ]
          },
          "metadata": {
            "tags": []
          },
          "execution_count": 17
        },
        {
          "output_type": "display_data",
          "data": {
            "image/png": "[encoded data removed]",
            "text/plain": [
              "<Figure size 432x288 with 1 Axes>"
            ]
          },
          "metadata": {
            "tags": []
          }
        }
      ]
    }
  ]
}