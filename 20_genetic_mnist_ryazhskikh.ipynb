{
  "nbformat": 4,
  "nbformat_minor": 0,
  "metadata": {
    "colab": {
      "name": "20_genetic_mnist_ryazhskikh.ipynb",
      "version": "0.3.2",
      "provenance": [],
      "collapsed_sections": [],
      "include_colab_link": true
    },
    "kernelspec": {
      "name": "python3",
      "display_name": "Python 3"
    },
    "accelerator": "GPU"
  },
  "cells": [
    {
      "cell_type": "markdown",
      "metadata": {
        "id": "view-in-github",
        "colab_type": "text"
      },
      "source": [
        "<a href=\"https://colab.research.google.com/github/darja/NeuralUni/blob/master/20_genetic_mnist_ryazhskikh.ipynb\" target=\"_parent\"><img src=\"https://colab.research.google.com/assets/colab-badge.svg\" alt=\"Open In Colab\"/></a>"
      ]
    },
    {
      "cell_type": "code",
      "metadata": {
        "id": "JxbgbFyD-UiA",
        "colab_type": "code",
        "outputId": "080b2af8-17f7-4cec-ece3-a77b218b20fc",
        "colab": {
          "base_uri": "https://localhost:8080/",
          "height": 34
        }
      },
      "source": [
        "from tensorflow.keras.datasets import mnist\n",
        "import numpy as np\n",
        "from numpy.random import randint\n",
        "from random import sample\n",
        "from keras.utils import to_categorical\n",
        "import gc\n",
        "\n",
        "from tensorflow.keras.models import Sequential\n",
        "from tensorflow.keras.layers import Dense, Conv2D, Reshape, MaxPooling2D, Dropout, Flatten"
      ],
      "execution_count": 1,
      "outputs": [
        {
          "output_type": "stream",
          "text": [
            "Using TensorFlow backend.\n"
          ],
          "name": "stderr"
        }
      ]
    },
    {
      "cell_type": "code",
      "metadata": {
        "id": "x-opvFsH0GKE",
        "colab_type": "code",
        "colab": {
          "base_uri": "https://localhost:8080/",
          "height": 51
        },
        "outputId": "64eba985-cd59-4d56-8aa0-6a40f232cb9e"
      },
      "source": [
        "a = [[1, 11, 111], [2, 22, 222]]\n",
        "b = [[1111, 11111], [2222, 22222]]\n",
        "np.append(a, b, axis=1)"
      ],
      "execution_count": 34,
      "outputs": [
        {
          "output_type": "execute_result",
          "data": {
            "text/plain": [
              "array([[    1,    11,   111,  1111, 11111],\n",
              "       [    2,    22,   222,  2222, 22222]])"
            ]
          },
          "metadata": {
            "tags": []
          },
          "execution_count": 34
        }
      ]
    },
    {
      "cell_type": "markdown",
      "metadata": {
        "id": "XQuHZcne-qWG",
        "colab_type": "text"
      },
      "source": [
        "Загрузка данных"
      ]
    },
    {
      "cell_type": "code",
      "metadata": {
        "id": "XAla8XJU-pBO",
        "colab_type": "code",
        "colab": {}
      },
      "source": [
        "# В Keras встроены средства работы с популярными наборами данных\n",
        "(x_train_org, y_train_org), (x_test_org, y_test_org) = mnist.load_data()\n",
        "\n",
        "x_train = x_train_org.reshape(60000, 784)\n",
        "# x_test = x_test_org.reshape(10000, 784)\n",
        "\n",
        "# Векторизованные операции\n",
        "# Применяются к каждому элементу массива отдельно\n",
        "x_train = x_train.astype('float32')\n",
        "x_train = x_train / 255 \n",
        "\n",
        "# Преобразуем метки в формат one hot encoding\n",
        "y_train = to_categorical(y_train_org, 10)"
      ],
      "execution_count": 0,
      "outputs": []
    },
    {
      "cell_type": "code",
      "metadata": {
        "id": "0U3cGHFEEHHz",
        "colab_type": "code",
        "colab": {}
      },
      "source": [
        "x_train = x_train[:100]\n",
        "y_train = y_train[:100]\n",
        "\n",
        "# del x_test_org\n",
        "# del y_test_org\n",
        "del x_train_org\n",
        "del y_train_org"
      ],
      "execution_count": 0,
      "outputs": []
    },
    {
      "cell_type": "code",
      "metadata": {
        "id": "f5WwKxefVL3k",
        "colab_type": "code",
        "colab": {}
      },
      "source": [
        "del x_test"
      ],
      "execution_count": 0,
      "outputs": []
    },
    {
      "cell_type": "markdown",
      "metadata": {
        "id": "Je5J6aTI-qZq",
        "colab_type": "text"
      },
      "source": [
        "Бот и сопутствующее"
      ]
    },
    {
      "cell_type": "code",
      "metadata": {
        "id": "xzJXXJdv-bEz",
        "colab_type": "code",
        "colab": {}
      },
      "source": [
        "bot_functions = [\n",
        "    lambda vec: np.mean(vec), # 0 – среднее\n",
        "    lambda vec: np.max(vec)   # 1 – минимум\n",
        "]\n",
        "\n",
        "img_size = 28 * 28\n",
        "target_size = (42, 42, 1)\n",
        "features_count = target_size[0] * target_size[1] - img_size # число добавляемых к основному датасету признаков\n",
        "feature_size = 10 # число элементов, участвующих в формировании признака\n",
        "bot_item_size = feature_size + 1 # размер компонента бота (индексы элементов + операция)\n",
        "bot_size = features_count * bot_item_size # итоговый размер массива-представления бота\n",
        "\n",
        "model = Sequential()\n",
        "x_train_extended = []\n",
        "\n",
        "def train_neural_network(x_train, y_train):\n",
        "    model = Sequential()\n",
        "\n",
        "    model.add(Reshape(target_size, input_shape=(img_size + features_count,)))\n",
        "    model.add(Conv2D(32, kernel_size=(3, 3), activation='relu'))\n",
        "    model.add(MaxPooling2D(pool_size=(2, 2)))\n",
        "    model.add(Dropout(0.1))\n",
        "    model.add(Conv2D(64, kernel_size=(3, 3), activation='relu'))\n",
        "    model.add(MaxPooling2D(pool_size=(2, 2)))\n",
        "    model.add(Dropout(0.1))\n",
        "    model.add(Flatten())\n",
        "    model.add(Dense(2000, activation='relu'))\n",
        "    model.add(Dropout(0.1))\n",
        "    model.add(Dense(10, activation='softmax'))\n",
        "\n",
        "    model.compile(loss=\"categorical_crossentropy\", optimizer=\"adam\", metrics=[\"accuracy\"])\n",
        "    \n",
        "    history = model.fit(x_train, y_train, epochs=3, batch_size=200, validation_split=0.05, verbose=0)\n",
        "    acc = history.history[\"val_acc\"][-1]\n",
        "    print(acc)\n",
        "    return acc\n",
        "\n",
        "class Bot:\n",
        "    def __init__(self, parents=[], mutation_rate=0):\n",
        "        self.score = 0\n",
        "\n",
        "        if len(parents) == 0:\n",
        "            # Создание случайного бота\n",
        "            self.cells = np.zeros(bot_size, dtype=\"uint8\")\n",
        "            for i in range(features_count):\n",
        "                self.add_feature(i)\n",
        "        else:\n",
        "            # Создание бота-потомка\n",
        "            produce_cells = np.vectorize(lambda i: self.inherit_cell(parents, mutation_rate, i))\n",
        "\n",
        "            self.cells = produce_cells(np.arange(bot_size))\n",
        "\n",
        "    def add_feature(self, conv_index):\n",
        "        conv_start = conv_index * bot_item_size\n",
        "        self.cells[conv_start] = randint(0, len(bot_functions))  # операция над элементами\n",
        "        conv_content = sample(range(img_size), feature_size)\n",
        "        for i in range(feature_size):\n",
        "            self.cells[conv_start + i + 1] = int(conv_content[i])  # индексы элементов\n",
        "\n",
        "    def __str__(self):\n",
        "        return f\"{self.score} | {self.cells}\"\n",
        "\n",
        "    # наследование одной ячейки\n",
        "    def inherit_cell(self, parents, mutation_rate, cell_index):\n",
        "        mutate = np.random.rand()\n",
        "        if mutate > mutation_rate:\n",
        "            rnd = randint(len(parents))\n",
        "            return parents[rnd].cells[cell_index]\n",
        "        else:\n",
        "            if cell_index % bot_item_size == 0:\n",
        "                return randint(0, len(bot_functions))  # операция над элементами\n",
        "            else:\n",
        "                return randint(img_size)\n",
        "\n",
        "    def extend_image(self, img):\n",
        "        extension = []\n",
        "        for i in range(features_count):\n",
        "            func_index = self.cells[i * bot_item_size]\n",
        "            if func_index > 1:\n",
        "                print(self.cells.shape)\n",
        "            func = bot_functions[func_index]\n",
        "            vec = img[self.cells[i * bot_item_size + 1: (i + 1) * bot_item_size]]\n",
        "            value = func(vec)\n",
        "            extension.append(value)\n",
        "        return extension\n",
        "\n",
        "    def calculate_score(self):\n",
        "        x_train_extended = []\n",
        "\n",
        "        # запуск нейросети\n",
        "        for i in range(len(x_train)):\n",
        "            ext = self.extend_image(x_train[i])\n",
        "            x_train_extended_i = np.append(x_train[i], ext)\n",
        "            x_train_extended.append(x_train_extended_i)\n",
        "\n",
        "        x_train_extended = np.array(x_train_extended)\n",
        "        self.score = train_neural_network(x_train_extended, y_train)\n",
        "        del x_train_extended\n"
      ],
      "execution_count": 0,
      "outputs": []
    },
    {
      "cell_type": "markdown",
      "metadata": {
        "id": "pwm38COi-4AT",
        "colab_type": "text"
      },
      "source": [
        "Эволюция"
      ]
    },
    {
      "cell_type": "code",
      "metadata": {
        "id": "h47MkxHlULyI",
        "colab_type": "code",
        "colab": {
          "base_uri": "https://localhost:8080/",
          "height": 249
        },
        "outputId": "8cf26674-23ed-419b-c10d-3b2f3cd4b276"
      },
      "source": [
        "import gc\n",
        "import resource\n",
        "\n",
        "def mem():\n",
        "    print('Memory usage         : % 2.2f MB' % round(\n",
        "        resource.getrusage(resource.RUSAGE_SELF).ru_maxrss/1024.0/1024.0,1)\n",
        "    )\n",
        "\n",
        "mem()\n",
        "del model\n",
        "\n",
        "print('GC collected objects : %d' % gc.collect())\n",
        "\n",
        "mem()"
      ],
      "execution_count": 15,
      "outputs": [
        {
          "output_type": "stream",
          "text": [
            "Memory usage         :  2.90 MB\n"
          ],
          "name": "stdout"
        },
        {
          "output_type": "error",
          "ename": "NameError",
          "evalue": "ignored",
          "traceback": [
            "\u001b[0;31m---------------------------------------------------------------------------\u001b[0m",
            "\u001b[0;31mNameError\u001b[0m                                 Traceback (most recent call last)",
            "\u001b[0;32m<ipython-input-15-19680c86fdf0>\u001b[0m in \u001b[0;36m<module>\u001b[0;34m()\u001b[0m\n\u001b[1;32m      8\u001b[0m \u001b[0;34m\u001b[0m\u001b[0m\n\u001b[1;32m      9\u001b[0m \u001b[0mmem\u001b[0m\u001b[0;34m(\u001b[0m\u001b[0;34m)\u001b[0m\u001b[0;34m\u001b[0m\u001b[0;34m\u001b[0m\u001b[0m\n\u001b[0;32m---> 10\u001b[0;31m \u001b[0;32mdel\u001b[0m \u001b[0mmodel\u001b[0m\u001b[0;34m\u001b[0m\u001b[0;34m\u001b[0m\u001b[0m\n\u001b[0m\u001b[1;32m     11\u001b[0m \u001b[0;34m\u001b[0m\u001b[0m\n\u001b[1;32m     12\u001b[0m \u001b[0mprint\u001b[0m\u001b[0;34m(\u001b[0m\u001b[0;34m'GC collected objects : %d'\u001b[0m \u001b[0;34m%\u001b[0m \u001b[0mgc\u001b[0m\u001b[0;34m.\u001b[0m\u001b[0mcollect\u001b[0m\u001b[0;34m(\u001b[0m\u001b[0;34m)\u001b[0m\u001b[0;34m)\u001b[0m\u001b[0;34m\u001b[0m\u001b[0;34m\u001b[0m\u001b[0m\n",
            "\u001b[0;31mNameError\u001b[0m: name 'model' is not defined"
          ]
        }
      ]
    },
    {
      "cell_type": "code",
      "metadata": {
        "id": "SkocHFh8V0t8",
        "colab_type": "code",
        "colab": {}
      },
      "source": [
        "import sys\n",
        "\n",
        "def get_size(obj, seen=None):\n",
        "    \"\"\"Recursively finds size of objects\"\"\"\n",
        "    size = sys.getsizeof(obj)\n",
        "    if seen is None:\n",
        "        seen = set()\n",
        "    obj_id = id(obj)\n",
        "    if obj_id in seen:\n",
        "        return 0\n",
        "    # Important mark as seen *before* entering recursion to gracefully handle\n",
        "    # self-referential objects\n",
        "    seen.add(obj_id)\n",
        "    if isinstance(obj, dict):\n",
        "        size += sum([get_size(v, seen) for v in obj.values()])\n",
        "        size += sum([get_size(k, seen) for k in obj.keys()])\n",
        "    elif hasattr(obj, '__dict__'):\n",
        "        size += get_size(obj.__dict__, seen)\n",
        "    elif hasattr(obj, '__iter__') and not isinstance(obj, (str, bytes, bytearray)):\n",
        "        size += sum([get_size(i, seen) for i in obj])\n",
        "    return size"
      ],
      "execution_count": 0,
      "outputs": []
    },
    {
      "cell_type": "code",
      "metadata": {
        "id": "mrb2HjwtV312",
        "colab_type": "code",
        "colab": {
          "base_uri": "https://localhost:8080/",
          "height": 34
        },
        "outputId": "b9c965f4-4bff-488d-c0e4-37e230b259a4"
      },
      "source": [
        "get_size(x_train_extended)"
      ],
      "execution_count": 26,
      "outputs": [
        {
          "output_type": "execute_result",
          "data": {
            "text/plain": [
              "64"
            ]
          },
          "metadata": {
            "tags": []
          },
          "execution_count": 26
        }
      ]
    },
    {
      "cell_type": "code",
      "metadata": {
        "id": "BW-FerlCU3Eu",
        "colab_type": "code",
        "colab": {
          "base_uri": "https://localhost:8080/",
          "height": 629
        },
        "outputId": "a261a2fd-a27d-4589-cf6f-92007d08fda7"
      },
      "source": [
        "whos"
      ],
      "execution_count": 21,
      "outputs": [
        {
          "output_type": "stream",
          "text": [
            "Variable               Type                          Data/Info\n",
            "--------------------------------------------------------------\n",
            "Bot                    type                          <class '__main__.Bot'>\n",
            "Conv2D                 type                          <class 'tensorflow.python<...>rs.convolutional.Conv2D'>\n",
            "Dense                  type                          <class 'tensorflow.python<...>keras.layers.core.Dense'>\n",
            "Dropout                type                          <class 'tensorflow.python<...>ras.layers.core.Dropout'>\n",
            "Evolution              type                          <class '__main__.Evolution'>\n",
            "Flatten                type                          <class 'tensorflow.python<...>ras.layers.core.Flatten'>\n",
            "MaxPooling2D           type                          <class 'tensorflow.python<...>rs.pooling.MaxPooling2D'>\n",
            "Reshape                type                          <class 'tensorflow.python<...>ras.layers.core.Reshape'>\n",
            "Sequential             type                          <class 'tensorflow.python<...>e.sequential.Sequential'>\n",
            "bot_functions          list                          n=2\n",
            "bot_item_size          int                           11\n",
            "bot_size               int                           10780\n",
            "epoch                  int                           4\n",
            "epoch_max              float32                       0.6\n",
            "epoch_mean             float64                       0.40000001192092893\n",
            "evo                    Evolution                     <__main__.Evolution object at 0x7fc525b5d668>\n",
            "feature_size           int                           10\n",
            "features_count         int                           980\n",
            "gc                     module                        <module 'gc' (built-in)>\n",
            "img_size               int                           784\n",
            "l                      list                          n=0\n",
            "mem                    function                      <function mem at 0x7fc4c0db48c8>\n",
            "mnist                  DeprecationWrapper            <module 'tensorflow.pytho<...>asets/mnist/__init__.py'>\n",
            "n                      int                           10000\n",
            "np                     module                        <module 'numpy' from '/us<...>kages/numpy/__init__.py'>\n",
            "randint                builtin_function_or_method    <built-in method randint <...>object at 0x7fc55be4fa20>\n",
            "resource               module                        <module 'resource' from '<...>36m-x86_64-linux-gnu.so'>\n",
            "sample                 method                        <bound method Random.samp<...>dom object at 0x33c0a18>>\n",
            "target_size            tuple                         n=3\n",
            "to_categorical         function                      <function to_categorical at 0x7fc525d741e0>\n",
            "train_neural_network   function                      <function train_neural_network at 0x7fc525bb01e0>\n",
            "x_train                ndarray                       100x784: 78400 elems, type `float32`, 313600 bytes (306.25 kb)\n",
            "x_train_extended       list                          n=0\n",
            "y_train                ndarray                       100x10: 1000 elems, type `float32`, 4000 bytes\n"
          ],
          "name": "stdout"
        }
      ]
    },
    {
      "cell_type": "code",
      "metadata": {
        "id": "tlMtqtIN-5SR",
        "colab_type": "code",
        "colab": {}
      },
      "source": [
        "class Evolution:\n",
        "    calculate_score = np.vectorize(lambda bot: bot.calculate_score())\n",
        "    get_scores = np.vectorize(lambda bot: bot.score)\n",
        "\n",
        "    def __init__(self, size=100, survivors=50, mutation=0.5, parents_count=2):\n",
        "        # размер популяции\n",
        "        self.size = size\n",
        "\n",
        "        # сколько выживает на каждом шаге\n",
        "        self.survivors = survivors\n",
        "\n",
        "        # сколько создаётся на каждом шаге\n",
        "        self.new = self.size - self.survivors\n",
        "\n",
        "        # доля мутации\n",
        "        self.mutation = mutation\n",
        "\n",
        "        # от скольки родителей будут наследоваться новые боты\n",
        "        self.parents_count = parents_count\n",
        "\n",
        "        # популяция ботов: случайное распределение\n",
        "        self.generation = np.vectorize(lambda i: Bot())(np.arange(0, self.size))\n",
        "        Evolution.calculate_score(self.generation)\n",
        "        \n",
        "\n",
        "    def stat(self):\n",
        "        total_score = np.vectorize(lambda bot: bot.score)(self.generation)\n",
        "        mean_val = sum(total_score) / self.size\n",
        "        max_val = np.max(total_score)\n",
        "\n",
        "        return mean_val, max_val\n",
        "\n",
        "    def sorted_scores(self):\n",
        "        scores = Evolution.get_scores(self.generation)\n",
        "        return sorted(scores)\n",
        "\n",
        "    def next_generation(self):\n",
        "        sorted_bots = sorted(self.generation, key=lambda b: -b.score)\n",
        "        new_gen = np.array(sorted_bots[:self.survivors])\n",
        "#         np.random.shuffle(new_gen)\n",
        "        for i in range(self.new):\n",
        "            # родителями могут быть только выжившие на текущей итерации\n",
        "            parent_ids = sample(range(self.survivors), self.parents_count)\n",
        "            parents = new_gen[parent_ids]\n",
        "            bot = Bot(parents, self.mutation)\n",
        "            new_gen = np.append(new_gen, bot)\n",
        "\n",
        "        self.generation = new_gen\n",
        "        \n",
        "\n",
        "    def best_bot(self):\n",
        "        return sorted(self.generation, key=lambda b: -b.score)[0]\n",
        "\n",
        "evo = Evolution(size=10, survivors=5, mutation=0.1, parents_count=2)\n",
        "\n",
        "for epoch in range(10):\n",
        "    print(f\"Epoch {epoch}\")\n",
        "    epoch_mean, epoch_max = evo.stat()\n",
        "    print(f\"{epoch}\\t Mean {epoch_mean}, max {epoch_max}\\t{evo.sorted_scores()}\")\n",
        "    evo.next_generation()\n",
        "#     for bot in evo.generation:\n",
        "#         print(bot.cells)\n",
        "    Evolution.calculate_score(evo.generation)\n",
        "    gc.collect()"
      ],
      "execution_count": 0,
      "outputs": []
    },
    {
      "cell_type": "code",
      "metadata": {
        "id": "z0rEsO_dPs-l",
        "colab_type": "code",
        "colab": {
          "base_uri": "https://localhost:8080/",
          "height": 102
        },
        "outputId": "ee7d8702-ef7d-4366-c940-bbd81b9b8b55"
      },
      "source": [
        "for bot in evo.generation:\n",
        "    print(bot.score)\n",
        "#     print(bot.cells[np.array(range(features_count)) * bot_item_size])\n",
        "#     print(bot.cells[10])\n"
      ],
      "execution_count": 105,
      "outputs": [
        {
          "output_type": "stream",
          "text": [
            "0\n",
            "0\n",
            "0\n",
            "0\n",
            "0\n"
          ],
          "name": "stdout"
        }
      ]
    },
    {
      "cell_type": "code",
      "metadata": {
        "id": "QJCQ2MtGP8A6",
        "colab_type": "code",
        "colab": {}
      },
      "source": [
        "evo.bot"
      ],
      "execution_count": 0,
      "outputs": []
    },
    {
      "cell_type": "code",
      "metadata": {
        "id": "HiXvH9dGBOC_",
        "colab_type": "code",
        "outputId": "af17c79a-c58e-455f-e1b3-d5bdfd89d2e7",
        "colab": {
          "base_uri": "https://localhost:8080/",
          "height": 68
        }
      },
      "source": [
        "bt1 = Bot()\n",
        "bt2 = Bot()\n",
        "\n",
        "print(bt1.cells.shape)\n",
        "print(bt2.cells.shape)\n",
        "bt3 = Bot([bt1, bt2])\n",
        "print(bt3.cells.shape)"
      ],
      "execution_count": 113,
      "outputs": [
        {
          "output_type": "stream",
          "text": [
            "(10780,)\n",
            "(10780,)\n",
            "(10780,)\n"
          ],
          "name": "stdout"
        }
      ]
    },
    {
      "cell_type": "code",
      "metadata": {
        "id": "tlpQxjwqQxE2",
        "colab_type": "code",
        "colab": {}
      },
      "source": [
        ""
      ],
      "execution_count": 0,
      "outputs": []
    },
    {
      "cell_type": "code",
      "metadata": {
        "id": "X89QdaxKEnVa",
        "colab_type": "code",
        "colab": {
          "base_uri": "https://localhost:8080/",
          "height": 969
        },
        "outputId": "f1138976-d61e-4c98-a0ef-af895101c41b"
      },
      "source": [
        "bt3 = Bot([bt3, bt2], 0.1)\n",
        "print(bt3.cells[np.array(range(features_count)) * bot_item_size])"
      ],
      "execution_count": 95,
      "outputs": [
        {
          "output_type": "stream",
          "text": [
            "[  1   1   1   0   0   0   0   0 184   1   0   0   0   1   0   1   1 200\n",
            "   0   0   1   0   1 203   1   1   1   1   1   1   1   1   1   0   1   1\n",
            "   1   1   0 556   0   1   0 342 393   1   0   1 313   0   1 680   1   0\n",
            "   1   1   0   1   0   0   0   1   0   1   0 138   0  82   1   0   1   0\n",
            "   1   1   0   0   1   0   0   0   1  48   1   0   1   0   0   0   1   0\n",
            "   1   0   0   1   0   1   1   1   1   1   0   1   0   1   1   0   0   1\n",
            "   1   1   0   0   1   0   0   1   1   0   0 419   1 541   0   1   0   1\n",
            " 519   1   1   0   0   0   1  14   1   0 544   0   0   1   0   0  37   1\n",
            "   1  60   1   1   0   0   1   0   1   0   0   1   0   1   0   0   0   1\n",
            "   0   0   0   0   1   1   0   0   0 194   0   1   1   0   1 260   0   0\n",
            "   1   1   1   0   0   0   1   0   0   0   1   0   0   0   0 207   1   1\n",
            "   0   1   1   1   0   0   0 206   1   0   1 625   1   1   0   0 416   1\n",
            "   1   1 181   1   0   0   0   0  94   1   1   1   0   1   1   0 762   0\n",
            "   0   0   1   0   0   0   1   1 450   0   1   1   0 621   1   1   0   1\n",
            "   0   0   0 216   0   1   0   1   0   1   1 204   1   0   0   0 153   1\n",
            "   0   1   1   1   1   1 145   1   0   1   1   1   1   0   0   1 688   1\n",
            "   1   0   1   1   0  42   0   0   1  26   0   1   1   1 242   0   0 462\n",
            "   1   0   0   1   1   1 232   0   1   1   0   1   0  78   0   0 591 217\n",
            "   0 481   1 409   1   1   0   1   1   0   0   1   1   1   1   1   0   1\n",
            "   1 194   1   1   1   0   1   1   0   0   1   1 310   0   0   0   1   0\n",
            "   0   0   1   1   1   0   1 490   0   0   0   0 222   1   0   0 533   0\n",
            "   0   1   0   0   0 167   1 208   1   0   0 503   1   1   0   0   0   0\n",
            "   0   0   1   1   0   1   0   0   1   0   0   1   0   1   1   0 315   0\n",
            " 728   1   0   1   0   1   0   0 744   1   1   0 319   0 258   1   0   0\n",
            "   1   0   1   1   0  92   1 596   0   1   1   0   1   1   0   1   1   0\n",
            "   1   0   0   0   1   1   1   1   0   0   1   0   1   0   0   1 738   1\n",
            "   1   0   1   0   1   1   1   1  37 783   0 108   1   0   0   0   1   0\n",
            "   1   0   1   1   1   0   1   0   1  59   0   0   1   0   1   0   1   1\n",
            "   1 159   1   0   0   1   1 646   1   0 141   1   1   1   1   1   0   1\n",
            "   0   0 189   0   0   1   1   1   0   0   1   0 575 640   1   1  29   0\n",
            "   0   1   1   1   0   1   0 331 226   1   0   1   1   1  72   1  33 465\n",
            " 242   0   0   0   0   0   0 569   1   0   0   1   0   1   0   1   1   1\n",
            "   0   1 403 142   1  16   1   0   0 173   0   0   0   0   0   1 132   1\n",
            "   0   1   0   0 108   0   1   0 119   0   1   0   1   0 280   1   1   0\n",
            "   1   1   0   1   0   0   1   0   0   0   0   1   0   1   1   0   1   0\n",
            "   0   0   0 412   1   0   1 589   0   0   0   0 146   1   1   0   1   1\n",
            "   1   1   1   1   1   1 244   0   0 454 190   0   1   0   1   1   0   1\n",
            " 346   1   1 152   0   1   1   0   1   0   1   1 225   0   1   1   0   0\n",
            "   1 478   0   0   1   0   1 557   0   1   0   0 109   1   0   0   1   1\n",
            "   0   0   1 109   1   0   1   0   0   1   1   1 511   1   0 157   0   0\n",
            "   1 172   1   0   0   0   0 302   0   0   0 144   0   0   0   0   0   0\n",
            "   0   1   1   1   0 322 424   1   1   0   0   0   1   0   1   1   0   0\n",
            "   0   1   1   1   1   0   1   0 130   0   1 376   1   0   1   0   1  93\n",
            "   1   0 388   1   0   0   1   1   0   0 682   1   1   0   0   1   0   0\n",
            "   1   0   0   0   1   1   0   1   1   0   1   0  60 680   1   0 314   0\n",
            "   0   0   1   1   1   1   1   0   1 185   1   0   1   0   0   0   1   0\n",
            "   1   1   0   1   0   0   0   0   0   0   0   0   1 414   0   1   1   1\n",
            "   1   0 205   1   1   1 506   0   0   0   0   1   1   1   1  31   1   0\n",
            "   0  22   0   0   1   0   0   0   0   0   0   1   1  41 667   0   1   0\n",
            "   1   1   0   0  46   0   0   1   1 240   0 341   1 367   1 471   1   0\n",
            "   0   0   0   1   0   0   0   0   1   1   1   0   1   3   0   1   1 136\n",
            "   1   0   1   0   1   0   0   0   0   0   1   0   0   1   0 698   1   0\n",
            "   1   0   0   1   1   1   0 197 328   1   1   0   1   1   0   1   0   1\n",
            "   1   1 325   0  64   1   0   1   0   0   0   1   1   0   0   1   1   1\n",
            "   0   1   1   1   1   1   0   1   1   0   1   1 152   1   0   1   0   0\n",
            "   0   1  17   0  80 109   1   0   1   1]\n"
          ],
          "name": "stdout"
        }
      ]
    }
  ]
}