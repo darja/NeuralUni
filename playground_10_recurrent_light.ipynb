{
  "nbformat": 4,
  "nbformat_minor": 0,
  "metadata": {
    "colab": {
      "name": "playground_10_recurrent_light.ipynb",
      "version": "0.3.2",
      "provenance": [],
      "collapsed_sections": [],
      "toc_visible": true,
      "include_colab_link": true
    },
    "kernelspec": {
      "name": "python3",
      "display_name": "Python 3"
    },
    "accelerator": "GPU"
  },
  "cells": [
    {
      "cell_type": "markdown",
      "metadata": {
        "id": "view-in-github",
        "colab_type": "text"
      },
      "source": [
        "<a href=\"https://colab.research.google.com/github/darja/NeuralUni/blob/master/playground_10_recurrent_light.ipynb\" target=\"_parent\"><img src=\"https://colab.research.google.com/assets/colab-badge.svg\" alt=\"Open In Colab\"/></a>"
      ]
    },
    {
      "metadata": {
        "id": "cJrkB3Zmv1rc",
        "colab_type": "text"
      },
      "cell_type": "markdown",
      "source": [
        "# Определение тональности отзывов на фильмы с сайта IMDB\n",
        "\n",
        "* Замените полносвязную сеть на рекуррентную. Попробуйте три архитектуры сети:\n",
        "    * SimpleRNN\n",
        "    * GRU\n",
        "    * LSTM\n",
        "*  Используйте DropOut, чтобы снизить переобучение:\n",
        "    * Попробуйте вставить слой SpatialDropout1D после слоя Embedding\n",
        "    * Используйте параметры dropout и recurrent_dropout для рекуррентных слоев\n",
        "* Меняйте архитектуру сети и гиперпараметры обучения, чтобы повысить качество распознавания тональности:\n",
        "    * Измените длину вектора в слое Embedding\n",
        "    * Изменяйте количество нейронов в рекуррентном слое\n",
        "    * Попробуйте использовать двунаправленные рекуррентные слои (Bidirectional)\n",
        "    * Попробуйте использовать несколько рекуррентных слоев в сети\n",
        "    * Изменяйте размер мини-выборки для обучения\n",
        "    * Попробуйте применить предварительно обученные векторы (GloVe, Word2Vec и т.п.)\n",
        "* После подбора лучших гиперпараметров, обучите сеть еще раз на полном объеме данных без разделения на обучающий и проверочный наборы.\n",
        "\n",
        "Составьте отчет, который включает:\n",
        "\n",
        "* Место в соревновании, которое вам удалось достичь\n",
        "* Описание архитектуры нейронной сети и гиперпараметров обучения\n",
        "* Ссылку на ноутбук с кодом обучения\n",
        "* График качества обучения на обучающем и проверочном наборах данных"
      ]
    },
    {
      "metadata": {
        "id": "BanK632ZwX8K",
        "colab_type": "text"
      },
      "cell_type": "markdown",
      "source": [
        "# Подготовка окружения"
      ]
    },
    {
      "metadata": {
        "id": "V3Yus6d7vDWR",
        "colab_type": "code",
        "colab": {}
      },
      "cell_type": "code",
      "source": [
        "from tensorflow.keras.models import Sequential\n",
        "from tensorflow.keras.layers import Dense, Flatten, Embedding, Dropout, SpatialDropout1D, SpatialDropout2D, LSTM, SimpleRNN, GRU\n",
        "from tensorflow.keras.layers import CuDNNGRU, CuDNNLSTM\n",
        "from tensorflow.keras.optimizers import SGD\n",
        "from tensorflow.keras import utils\n",
        "from keras.preprocessing.text import Tokenizer\n",
        "from tensorflow.keras.preprocessing.sequence import pad_sequences\n",
        "from google.colab import files\n",
        "import numpy as np\n",
        "import matplotlib.pyplot as plt\n",
        "%matplotlib inline "
      ],
      "execution_count": 0,
      "outputs": []
    },
    {
      "metadata": {
        "id": "465OE0IvDBb-",
        "colab_type": "code",
        "colab": {}
      },
      "cell_type": "code",
      "source": [
        "embedding_dim = 200\n",
        "batch_size = 32\n",
        "maxlen = 100\n",
        "num_words=20000"
      ],
      "execution_count": 0,
      "outputs": []
    },
    {
      "metadata": {
        "id": "qEXhLdkxwdfw",
        "colab_type": "text"
      },
      "cell_type": "markdown",
      "source": [
        "## Загрузка данных с Kaggle"
      ]
    },
    {
      "metadata": {
        "id": "gftsTedzwnm-",
        "colab_type": "text"
      },
      "cell_type": "markdown",
      "source": [
        "### Подключение Kaggle"
      ]
    },
    {
      "metadata": {
        "id": "ywRUgD-ZwgZG",
        "colab_type": "code",
        "outputId": "36403056-f69d-4424-cbe5-d36791c95771",
        "colab": {
          "resources": {
            "http://localhost:8080/nbextensions/google.colab/files.js": {
              "data": "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",
              "ok": true,
              "headers": [
                [
                  "content-type",
                  "application/javascript"
                ]
              ],
              "status": 200,
              "status_text": ""
            }
          },
          "base_uri": "https://localhost:8080/",
          "height": 88
        }
      },
      "cell_type": "code",
      "source": [
        "file = files.upload()\n",
        "!mkdir ~/.kaggle\n",
        "!mv kaggle.json ~/.kaggle"
      ],
      "execution_count": 0,
      "outputs": [
        {
          "output_type": "display_data",
          "data": {
            "text/html": [
              "\n",
              "     <input type=\"file\" id=\"files-8e9d73cd-dbcd-457d-a015-b8683d75b12a\" name=\"files[]\" multiple disabled />\n",
              "     <output id=\"result-8e9d73cd-dbcd-457d-a015-b8683d75b12a\">\n",
              "      Upload widget is only available when the cell has been executed in the\n",
              "      current browser session. Please rerun this cell to enable.\n",
              "      </output>\n",
              "      <script src=\"/nbextensions/google.colab/files.js\"></script> "
            ],
            "text/plain": [
              "<IPython.core.display.HTML object>"
            ]
          },
          "metadata": {
            "tags": []
          }
        },
        {
          "output_type": "stream",
          "text": [
            "Saving kaggle.json to kaggle.json\n",
            "mkdir: cannot create directory ‘/root/.kaggle’: File exists\n"
          ],
          "name": "stdout"
        }
      ]
    },
    {
      "metadata": {
        "id": "OYyPQk_twqkV",
        "colab_type": "text"
      },
      "cell_type": "markdown",
      "source": [
        "### Загрузка обучающего набора"
      ]
    },
    {
      "metadata": {
        "id": "qKrMzQnWws4P",
        "colab_type": "code",
        "outputId": "35c5f258-2bbf-437e-858d-469f8ca65751",
        "colab": {
          "base_uri": "https://localhost:8080/",
          "height": 255
        }
      },
      "cell_type": "code",
      "source": [
        "!kaggle competitions download -c neural-university-imdb-spring2019\n",
        "!unzip imdb_train.npz.zip\n",
        "!unzip imdb_test.npy.zip"
      ],
      "execution_count": 0,
      "outputs": [
        {
          "output_type": "stream",
          "text": [
            "Warning: Your Kaggle API key is readable by other users on this system! To fix this, you can run 'chmod 600 /root/.kaggle/kaggle.json'\n",
            "Downloading imdb_sample_submission.csv to /content\n",
            "  0% 0.00/77.1k [00:00<?, ?B/s]\n",
            "100% 77.1k/77.1k [00:00<00:00, 72.7MB/s]\n",
            "Downloading imdb_test.npy.zip to /content\n",
            "  0% 0.00/3.31M [00:00<?, ?B/s]\n",
            "100% 3.31M/3.31M [00:00<00:00, 54.2MB/s]\n",
            "Downloading imdb_train.npz.zip to /content\n",
            " 38% 5.00M/13.3M [00:00<00:00, 29.9MB/s]\n",
            "100% 13.3M/13.3M [00:00<00:00, 52.7MB/s]\n",
            "Archive:  imdb_train.npz.zip\n",
            "  inflating: imdb_train.npz          \n",
            "Archive:  imdb_test.npy.zip\n",
            "  inflating: imdb_test.npy           \n"
          ],
          "name": "stdout"
        }
      ]
    },
    {
      "metadata": {
        "id": "UCwSyc5rxbY3",
        "colab_type": "text"
      },
      "cell_type": "markdown",
      "source": [
        "## Загрузка наборов данных"
      ]
    },
    {
      "metadata": {
        "id": "j55MK93axgq2",
        "colab_type": "code",
        "colab": {}
      },
      "cell_type": "code",
      "source": [
        "# обучающий набор\n",
        "data = np.load('imdb_train.npz') \n",
        "x_train = data['x'] \n",
        "y_train = data['y'] \n",
        "\n",
        "# тестовый набор\n",
        "x_test = np.load('imdb_test.npy')"
      ],
      "execution_count": 0,
      "outputs": []
    },
    {
      "metadata": {
        "id": "bTYubvBL00j0",
        "colab_type": "code",
        "colab": {}
      },
      "cell_type": "code",
      "source": [
        "# IMDB from Keras for adjusting architecture\n",
        "from keras.datasets import imdb\n",
        "\n",
        "(ix_train, iy_train), (ix_test, iy_test) = imdb.load_data(path=\"imdb.npz\")\n",
        "\n",
        "lx_test = np.append(ix_train, ix_test)\n",
        "ly_test = np.append(iy_train, iy_test)\n",
        "\n",
        "lx_test = pad_sequences(lx_test, maxlen=maxlen)\n",
        "# ix_test = pad_sequences(ix_test, maxlen=maxlen)\n",
        "\n",
        "# print(\"Test on %s, %s\" % (lx_test.shape, ly_test.shape))"
      ],
      "execution_count": 0,
      "outputs": []
    },
    {
      "metadata": {
        "id": "kYWrKmttxvy1",
        "colab_type": "text"
      },
      "cell_type": "markdown",
      "source": [
        "## Подготовка данных для нейронной сети"
      ]
    },
    {
      "metadata": {
        "id": "XxeoTZ2-xyhY",
        "colab_type": "code",
        "colab": {}
      },
      "cell_type": "code",
      "source": [
        "x_train = pad_sequences(x_train, maxlen=maxlen)\n",
        "x_test = pad_sequences(x_test, maxlen=maxlen)\n"
      ],
      "execution_count": 0,
      "outputs": []
    },
    {
      "metadata": {
        "id": "_GYZEADvLY1E",
        "colab_type": "code",
        "outputId": "56febda3-cc04-46fd-d195-d6d93a94a2ec",
        "colab": {
          "base_uri": "https://localhost:8080/",
          "height": 51
        }
      },
      "cell_type": "code",
      "source": [
        "print(\"Train on %s, %s\" % (x_train.shape, y_train.shape))\n",
        "print(\"Test on %s, %s\" % (lx_test.shape, ly_test.shape))"
      ],
      "execution_count": 0,
      "outputs": [
        {
          "output_type": "stream",
          "text": [
            "Train on (40000, 100), (40000,)\n",
            "Test on (50000, 100), (50000,)\n"
          ],
          "name": "stdout"
        }
      ]
    },
    {
      "metadata": {
        "id": "ZYqc-dj54OD1",
        "colab_type": "code",
        "outputId": "e0060887-0b49-41ca-b2b9-87574db7e0ef",
        "colab": {
          "base_uri": "https://localhost:8080/",
          "height": 34
        }
      },
      "cell_type": "code",
      "source": [
        "# tmp_x_test = []\n",
        "# tmp_y_test = []\n",
        "\n",
        "# for i in range(len(lx_test)):\n",
        "#     if (lx_test[i] not in x_train):\n",
        "#         tmp_x_test.append(lx_test[i])\n",
        "#         tmp_y_test.append(ly_test[i])\n",
        "        \n",
        "print(len(tmp_x_test))"
      ],
      "execution_count": 0,
      "outputs": [
        {
          "output_type": "stream",
          "text": [
            "0\n"
          ],
          "name": "stdout"
        }
      ]
    },
    {
      "metadata": {
        "id": "xqJckHaa-7db",
        "colab_type": "text"
      },
      "cell_type": "markdown",
      "source": [
        "## Загрузка векторных представлений"
      ]
    },
    {
      "metadata": {
        "id": "gv3sYxh8_CK8",
        "colab_type": "code",
        "outputId": "1751147f-1de7-4432-cb0a-eb1499b77c1b",
        "colab": {
          "base_uri": "https://localhost:8080/",
          "height": 357
        }
      },
      "cell_type": "code",
      "source": [
        "!wget http://nlp.stanford.edu/data/glove.6B.zip\n",
        "!unzip glove.6B.zip"
      ],
      "execution_count": 0,
      "outputs": [
        {
          "output_type": "stream",
          "text": [
            "--2019-04-07 16:46:12--  http://nlp.stanford.edu/data/glove.6B.zip\n",
            "Resolving nlp.stanford.edu (nlp.stanford.edu)... 171.64.67.140\n",
            "Connecting to nlp.stanford.edu (nlp.stanford.edu)|171.64.67.140|:80... connected.\n",
            "HTTP request sent, awaiting response... 302 Found\n",
            "Location: https://nlp.stanford.edu/data/glove.6B.zip [following]\n",
            "--2019-04-07 16:46:12--  https://nlp.stanford.edu/data/glove.6B.zip\n",
            "Connecting to nlp.stanford.edu (nlp.stanford.edu)|171.64.67.140|:443... connected.\n",
            "HTTP request sent, awaiting response... 200 OK\n",
            "Length: 862182613 (822M) [application/zip]\n",
            "Saving to: ‘glove.6B.zip’\n",
            "\n",
            "glove.6B.zip        100%[===================>] 822.24M  20.9MB/s    in 45s     \n",
            "\n",
            "2019-04-07 16:46:58 (18.5 MB/s) - ‘glove.6B.zip’ saved [862182613/862182613]\n",
            "\n",
            "Archive:  glove.6B.zip\n",
            "  inflating: glove.6B.50d.txt        \n",
            "  inflating: glove.6B.100d.txt       \n",
            "  inflating: glove.6B.200d.txt       \n",
            "  inflating: glove.6B.300d.txt       \n"
          ],
          "name": "stdout"
        }
      ]
    },
    {
      "metadata": {
        "id": "0TqXJmXLDYvf",
        "colab_type": "code",
        "colab": {}
      },
      "cell_type": "code",
      "source": [
        "from keras.datasets import imdb\n",
        "word_index = imdb.get_word_index()"
      ],
      "execution_count": 0,
      "outputs": []
    },
    {
      "metadata": {
        "id": "BLH_JyAj_llZ",
        "colab_type": "code",
        "colab": {}
      },
      "cell_type": "code",
      "source": [
        "embeddings_index = dict()\n",
        "with open('glove.6B.%dd.txt' % embedding_dim, 'r') as f:\n",
        "    for line in f:\n",
        "        values = line.split()\n",
        "        word = values[0]\n",
        "        word_vector = np.asarray(values[1:], dtype='float32')\n",
        "        embeddings_index[word] = word_vector\n",
        "        \n",
        "embedding_matrix = np.zeros((num_words, embedding_dim))\n",
        "for word, i in word_index.items():\n",
        "    if i < num_words - 3:\n",
        "        embedding_vector = embeddings_index.get(word)\n",
        "        if embedding_vector is not None:\n",
        "            embedding_matrix[i + 3] = embedding_vector"
      ],
      "execution_count": 0,
      "outputs": []
    },
    {
      "metadata": {
        "id": "MNCkcWiEyHGl",
        "colab_type": "text"
      },
      "cell_type": "markdown",
      "source": [
        "# Подготовка нейронной сети"
      ]
    },
    {
      "metadata": {
        "id": "0tIVZg4OeEfX",
        "colab_type": "code",
        "colab": {}
      },
      "cell_type": "code",
      "source": [
        "def plot_training(acc, val_acc):\n",
        "    plt.plot(acc, label='Train')\n",
        "    plt.plot(val_acc, label='Val')\n",
        "    plt.legend()\n",
        "    plt.show()"
      ],
      "execution_count": 0,
      "outputs": []
    },
    {
      "metadata": {
        "id": "nOBG7FgByPlp",
        "colab_type": "code",
        "outputId": "91fe529d-3107-4236-b31a-0d3b4cc0e1c9",
        "colab": {
          "base_uri": "https://localhost:8080/",
          "height": 643
        }
      },
      "cell_type": "code",
      "source": [
        "#del model\n",
        "\n",
        "acc = []\n",
        "val_acc = []\n",
        "\n",
        "# Создание нейронной сети\n",
        "model = Sequential()\n",
        "model.add(Embedding(num_words, embedding_dim, input_length=maxlen))\n",
        "model.add(SpatialDropout1D(0.5))\n",
        "model.add(CuDNNGRU(200))\n",
        "model.add(Dense(1, activation='sigmoid'))\n",
        "\n",
        "# Загрузка векторных представлений\n",
        "model.layers[0].set_weights([embedding_matrix])\n",
        "model.layers[0].trainable = False\n",
        "\n",
        "model.summary()\n",
        "\n",
        "# Сборка\n",
        "model.compile(optimizer='rmsprop', \n",
        "              loss='binary_crossentropy', \n",
        "              metrics=['accuracy'])\n",
        "\n",
        "# Обучение\n",
        "history = model.fit(x_train, \n",
        "                    y_train, \n",
        "                    epochs=2,\n",
        "                    batch_size=batch_size,\n",
        "                    validation_split=0.1)\n",
        "\n",
        "# График\n",
        "acc.extend(history.history['acc'])\n",
        "val_acc.extend(history.history['val_acc'])\n",
        "plot_training(acc, val_acc)\n",
        "\n",
        "# Оценка качества\n",
        "model.evaluate(lx_test, ly_test, verbose = 1)"
      ],
      "execution_count": 0,
      "outputs": [
        {
          "output_type": "stream",
          "text": [
            "_________________________________________________________________\n",
            "Layer (type)                 Output Shape              Param #   \n",
            "=================================================================\n",
            "embedding_31 (Embedding)     (None, 100, 200)          4000000   \n",
            "_________________________________________________________________\n",
            "spatial_dropout1d_31 (Spatia (None, 100, 200)          0         \n",
            "_________________________________________________________________\n",
            "cu_dnngru_23 (CuDNNGRU)      (None, 200)               241200    \n",
            "_________________________________________________________________\n",
            "dense_31 (Dense)             (None, 1)                 201       \n",
            "=================================================================\n",
            "Total params: 4,241,401\n",
            "Trainable params: 241,401\n",
            "Non-trainable params: 4,000,000\n",
            "_________________________________________________________________\n",
            "Train on 36000 samples, validate on 4000 samples\n",
            "Epoch 1/2\n",
            "36000/36000 [==============================] - 19s 520us/sample - loss: 0.5961 - acc: 0.6719 - val_loss: 0.4192 - val_acc: 0.8085\n",
            "Epoch 2/2\n",
            "36000/36000 [==============================] - 15s 418us/sample - loss: 0.4617 - acc: 0.7800 - val_loss: 0.3723 - val_acc: 0.8322\n"
          ],
          "name": "stdout"
        },
        {
          "output_type": "display_data",
          "data": {
            "image/png": "[encoded data removed]",
            "text/plain": [
              "<Figure size 432x288 with 1 Axes>"
            ]
          },
          "metadata": {
            "tags": []
          }
        },
        {
          "output_type": "stream",
          "text": [
            "50000/50000 [==============================] - 15s 300us/sample - loss: 0.3750 - acc: 0.8335\n"
          ],
          "name": "stdout"
        },
        {
          "output_type": "execute_result",
          "data": {
            "text/plain": [
              "[0.37498897178649904, 0.83354]"
            ]
          },
          "metadata": {
            "tags": []
          },
          "execution_count": 102
        }
      ]
    },
    {
      "metadata": {
        "id": "xR56qMYIehHx",
        "colab_type": "text"
      },
      "cell_type": "markdown",
      "source": [
        "## Обучение с размороженными весами"
      ]
    },
    {
      "metadata": {
        "id": "glrTrCWReglC",
        "colab_type": "code",
        "outputId": "993e2246-b664-4d20-924f-9a7b3f8effd0",
        "colab": {
          "base_uri": "https://localhost:8080/",
          "height": 775
        }
      },
      "cell_type": "code",
      "source": [
        "model.layers[0].trainable = True\n",
        "\n",
        "model.compile(optimizer='rmsprop', \n",
        "              loss='binary_crossentropy', \n",
        "              metrics=['accuracy'])\n",
        "model.summary()\n",
        "\n",
        "# Обучение\n",
        "history = model.fit(x_train, \n",
        "                    y_train, \n",
        "                    epochs=6,\n",
        "                    batch_size=batch_size,\n",
        "                    validation_split=0.1)\n",
        "\n",
        "# График\n",
        "acc.extend(history.history['acc'])\n",
        "val_acc.extend(history.history['val_acc'])\n",
        "plot_training(acc, val_acc)\n",
        "\n",
        "# Оценка качества\n",
        "model.evaluate(lx_test, ly_test, verbose = 1)"
      ],
      "execution_count": 0,
      "outputs": [
        {
          "output_type": "stream",
          "text": [
            "_________________________________________________________________\n",
            "Layer (type)                 Output Shape              Param #   \n",
            "=================================================================\n",
            "embedding_31 (Embedding)     (None, 100, 200)          4000000   \n",
            "_________________________________________________________________\n",
            "spatial_dropout1d_31 (Spatia (None, 100, 200)          0         \n",
            "_________________________________________________________________\n",
            "cu_dnngru_23 (CuDNNGRU)      (None, 200)               241200    \n",
            "_________________________________________________________________\n",
            "dense_31 (Dense)             (None, 1)                 201       \n",
            "=================================================================\n",
            "Total params: 4,241,401\n",
            "Trainable params: 4,241,401\n",
            "Non-trainable params: 0\n",
            "_________________________________________________________________\n",
            "Train on 36000 samples, validate on 4000 samples\n",
            "Epoch 1/6\n",
            "36000/36000 [==============================] - 13s 350us/sample - loss: 0.3807 - acc: 0.8272 - val_loss: 0.3027 - val_acc: 0.8650\n",
            "Epoch 2/6\n",
            "36000/36000 [==============================] - 11s 293us/sample - loss: 0.3189 - acc: 0.8602 - val_loss: 0.2806 - val_acc: 0.8755\n",
            "Epoch 3/6\n",
            "36000/36000 [==============================] - 14s 401us/sample - loss: 0.2778 - acc: 0.8811 - val_loss: 0.2947 - val_acc: 0.8765\n",
            "Epoch 4/6\n",
            "36000/36000 [==============================] - 19s 528us/sample - loss: 0.2524 - acc: 0.8945 - val_loss: 0.2681 - val_acc: 0.8810\n",
            "Epoch 5/6\n",
            "36000/36000 [==============================] - 19s 533us/sample - loss: 0.2294 - acc: 0.9049 - val_loss: 0.2640 - val_acc: 0.8910\n",
            "Epoch 6/6\n",
            "36000/36000 [==============================] - 19s 530us/sample - loss: 0.2082 - acc: 0.9148 - val_loss: 0.2571 - val_acc: 0.8900\n"
          ],
          "name": "stdout"
        },
        {
          "output_type": "display_data",
          "data": {
            "image/png": "[encoded data removed]",
            "text/plain": [
              "<Figure size 432x288 with 1 Axes>"
            ]
          },
          "metadata": {
            "tags": []
          }
        },
        {
          "output_type": "stream",
          "text": [
            "50000/50000 [==============================] - 27s 536us/sample - loss: 0.1867 - acc: 0.9265\n"
          ],
          "name": "stdout"
        },
        {
          "output_type": "execute_result",
          "data": {
            "text/plain": [
              "[0.186725788718462, 0.92648]"
            ]
          },
          "metadata": {
            "tags": []
          },
          "execution_count": 103
        }
      ]
    },
    {
      "metadata": {
        "id": "wGYiEkiuhiPE",
        "colab_type": "text"
      },
      "cell_type": "markdown",
      "source": [
        "## Дообучение SGD"
      ]
    },
    {
      "metadata": {
        "id": "3BL4XyJyKMnK",
        "colab_type": "code",
        "outputId": "1814365e-132f-479f-935c-71e2850c7cd3",
        "colab": {
          "base_uri": "https://localhost:8080/",
          "height": 707
        }
      },
      "cell_type": "code",
      "source": [
        "# model.layers[0].trainable = False\n",
        "\n",
        "opt = SGD(lr=0.0001)\n",
        "model.compile(loss=\"binary_crossentropy\", optimizer=opt, metrics=[\"accuracy\"])\n",
        "model.summary()\n",
        "\n",
        "history = model.fit(x_train, \n",
        "                    y_train, \n",
        "                    epochs=4,\n",
        "                    batch_size=16,\n",
        "                    validation_split=0.1)\n",
        "\n",
        "acc.extend(history.history['acc'])\n",
        "val_acc.extend(history.history['val_acc'])\n",
        "plot_training(acc, val_acc)\n",
        "\n",
        "model.evaluate(lx_test, ly_test, verbose = 1)"
      ],
      "execution_count": 0,
      "outputs": [
        {
          "output_type": "stream",
          "text": [
            "_________________________________________________________________\n",
            "Layer (type)                 Output Shape              Param #   \n",
            "=================================================================\n",
            "embedding_31 (Embedding)     (None, 100, 200)          4000000   \n",
            "_________________________________________________________________\n",
            "spatial_dropout1d_31 (Spatia (None, 100, 200)          0         \n",
            "_________________________________________________________________\n",
            "cu_dnngru_23 (CuDNNGRU)      (None, 200)               241200    \n",
            "_________________________________________________________________\n",
            "dense_31 (Dense)             (None, 1)                 201       \n",
            "=================================================================\n",
            "Total params: 4,241,401\n",
            "Trainable params: 241,401\n",
            "Non-trainable params: 4,000,000\n",
            "_________________________________________________________________\n",
            "Train on 36000 samples, validate on 4000 samples\n",
            "Epoch 1/4\n",
            "36000/36000 [==============================] - 97s 3ms/sample - loss: 0.1858 - acc: 0.9271 - val_loss: 0.2571 - val_acc: 0.8917\n",
            "Epoch 2/4\n",
            "36000/36000 [==============================] - 58s 2ms/sample - loss: 0.1849 - acc: 0.9275 - val_loss: 0.2574 - val_acc: 0.8913\n",
            "Epoch 3/4\n",
            "36000/36000 [==============================] - 48s 1ms/sample - loss: 0.1853 - acc: 0.9264 - val_loss: 0.2578 - val_acc: 0.8907\n",
            "Epoch 4/4\n",
            "36000/36000 [==============================] - 48s 1ms/sample - loss: 0.1855 - acc: 0.9265 - val_loss: 0.2581 - val_acc: 0.8905\n"
          ],
          "name": "stdout"
        },
        {
          "output_type": "display_data",
          "data": {
            "image/png": "[encoded data removed]",
            "text/plain": [
              "<Figure size 432x288 with 1 Axes>"
            ]
          },
          "metadata": {
            "tags": []
          }
        },
        {
          "output_type": "stream",
          "text": [
            "50000/50000 [==============================] - 23s 465us/sample - loss: 0.1849 - acc: 0.9282\n"
          ],
          "name": "stdout"
        },
        {
          "output_type": "execute_result",
          "data": {
            "text/plain": [
              "[0.18488824370741844, 0.9282]"
            ]
          },
          "metadata": {
            "tags": []
          },
          "execution_count": 105
        }
      ]
    },
    {
      "metadata": {
        "id": "ZJE0aUOMOmUO",
        "colab_type": "code",
        "colab": {}
      },
      "cell_type": "code",
      "source": [
        "plot_training(acc, val_acc)\n",
        "model.evaluate(lx_test, ly_test, verbose = 1)\n"
      ],
      "execution_count": 0,
      "outputs": []
    },
    {
      "metadata": {
        "id": "v6sYUe16yJ9B",
        "colab_type": "text"
      },
      "cell_type": "markdown",
      "source": [
        "## Проверка на тестовом наборе"
      ]
    },
    {
      "metadata": {
        "id": "bESrUJht1H6u",
        "colab_type": "code",
        "outputId": "0ea347b1-89f7-4670-a8c7-9d28ed3d2e7b",
        "colab": {
          "base_uri": "https://localhost:8080/",
          "height": 51
        }
      },
      "cell_type": "code",
      "source": [
        "model.evaluate(lx_test, ly_test, verbose = 1)"
      ],
      "execution_count": 0,
      "outputs": [
        {
          "output_type": "stream",
          "text": [
            "50000/50000 [==============================] - 12s 241us/sample - loss: 0.1841 - acc: 0.9288\n"
          ],
          "name": "stdout"
        },
        {
          "output_type": "execute_result",
          "data": {
            "text/plain": [
              "[0.1840726106572151, 0.9288]"
            ]
          },
          "metadata": {
            "tags": []
          },
          "execution_count": 56
        }
      ]
    }
  ]
}