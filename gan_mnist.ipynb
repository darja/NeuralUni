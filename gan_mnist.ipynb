{
  "nbformat": 4,
  "nbformat_minor": 0,
  "metadata": {
    "colab": {
      "name": "gan_mnist.ipynb",
      "version": "0.3.2",
      "provenance": [],
      "collapsed_sections": [],
      "toc_visible": true,
      "include_colab_link": true
    },
    "kernelspec": {
      "name": "python3",
      "display_name": "Python 3"
    },
    "accelerator": "GPU"
  },
  "cells": [
    {
      "cell_type": "markdown",
      "metadata": {
        "id": "view-in-github",
        "colab_type": "text"
      },
      "source": [
        "<a href=\"https://colab.research.google.com/github/darja/NeuralUni/blob/master/gan_mnist.ipynb\" target=\"_parent\"><img src=\"https://colab.research.google.com/assets/colab-badge.svg\" alt=\"Open In Colab\"/></a>"
      ]
    },
    {
      "metadata": {
        "id": "F-Q50NYhqtbO",
        "colab_type": "text"
      },
      "cell_type": "markdown",
      "source": [
        "# Генерация чисел на основе базы MNIST"
      ]
    },
    {
      "metadata": {
        "id": "ky3lh94EAmFg",
        "colab_type": "text"
      },
      "cell_type": "markdown",
      "source": [
        "[Есть код](http://s6957389.stat-pulse.com/go/ec/a21e199f15c6b8797d6383824bc052e1/ci/OTA4ODc0Mw==/ui/Njk1NzM4OQ==/li/MjA4MDQzNTQx/re/aWZuZGVmQHlhbmRleC5ydQ==/l/aHR0cHMlM0ElMkYlMkZ3d3cuZHJvcGJveC5jb20lMkZzJTJGMmV5cmg3YmNqbXVuY2pjJTJGZ2VuZXJhdGl2ZTEuemlwJTNGZGwlM0Qw/) обычной генеративной сети. Сделать на основе него генерацию с условием на той же базе MNIST. Значит, для генерации мы подаем не только вектор шума, но и число от 0 до 9 (one-hot вектор) – на вход и генератору, и дискриминатору. \n",
        " "
      ]
    },
    {
      "metadata": {
        "id": "uqEaVY8DArMj",
        "colab_type": "text"
      },
      "cell_type": "markdown",
      "source": [
        "## Подготовка окружения"
      ]
    },
    {
      "metadata": {
        "id": "nQI5ks7Qq4VH",
        "colab_type": "code",
        "colab": {}
      },
      "cell_type": "code",
      "source": [
        "from __future__ import print_function, division\n",
        "\n",
        "from keras.datasets import mnist\n",
        "from keras.layers import Input, Dense, Reshape, Flatten, Dropout, Concatenate\n",
        "from keras.layers import BatchNormalization, Activation, ZeroPadding2D\n",
        "from keras.layers.merge import Concatenate\n",
        "from keras.layers.advanced_activations import LeakyReLU\n",
        "from keras.layers.convolutional import UpSampling2D, Conv2D\n",
        "from keras.models import Sequential, Model\n",
        "from keras.optimizers import Adam\n",
        "from keras.utils import to_categorical\n",
        "import matplotlib.pyplot as plt\n",
        "from IPython.display import Image\n",
        "\n",
        "import sys\n",
        "import datetime\n",
        "import imageio\n",
        "\n",
        "import numpy as np"
      ],
      "execution_count": 0,
      "outputs": []
    },
    {
      "metadata": {
        "id": "hw8kEcXEXo-P",
        "colab_type": "text"
      },
      "cell_type": "markdown",
      "source": [
        "### Входные данные"
      ]
    },
    {
      "metadata": {
        "id": "eH1G5x-ED7Pk",
        "colab_type": "code",
        "colab": {}
      },
      "cell_type": "code",
      "source": [
        "num_classes = 10\n",
        "target_number = 8\n",
        "target_vector = to_categorical(target_number, num_classes = num_classes)\n",
        "\n",
        "epochs = 10000\n",
        "sample_interval = 200\n",
        "log_interval = 100\n",
        "latent_dim = 10"
      ],
      "execution_count": 0,
      "outputs": []
    },
    {
      "metadata": {
        "id": "PFp6fJFLXusV",
        "colab_type": "text"
      },
      "cell_type": "markdown",
      "source": [
        "### Папка для выходных данных"
      ]
    },
    {
      "metadata": {
        "id": "15O27ydiW2A9",
        "colab_type": "code",
        "outputId": "697c6242-7abc-473c-e3fc-6ed389174888",
        "colab": {
          "base_uri": "https://localhost:8080/",
          "height": 34
        }
      },
      "cell_type": "code",
      "source": [
        "folder_name = \"gen_%s\" % target_number\n",
        "print(folder_name)\n",
        "!rm -fr {folder_name}\n",
        "!mkdir {folder_name}"
      ],
      "execution_count": 96,
      "outputs": [
        {
          "output_type": "stream",
          "text": [
            "gen_8\n"
          ],
          "name": "stdout"
        }
      ]
    },
    {
      "metadata": {
        "id": "OzCh1LUWq2ol",
        "colab_type": "text"
      },
      "cell_type": "markdown",
      "source": [
        " ## Создание и обучение генеративной нейросети"
      ]
    },
    {
      "metadata": {
        "id": "QEnVnmKYBFsn",
        "colab_type": "code",
        "outputId": "e29f2450-0b76-415c-f00d-97c1cb73a384",
        "colab": {
          "base_uri": "https://localhost:8080/",
          "height": 1890
        }
      },
      "cell_type": "code",
      "source": [
        "class GAN():\n",
        "  def __init__(self):\n",
        "    self.img_rows = 28\n",
        "    self.img_cols = 28\n",
        "    self.channels = 1\n",
        "    self.img_shape = (self.img_rows, self.img_cols, self.channels)\n",
        "    self.latent_dim = 100\n",
        "\n",
        "    self.noise_shape = (self.latent_dim,)\n",
        "    self.labels_shape = (num_classes,)\n",
        "\n",
        "    optimizer = Adam(0.0002, 0.5)\n",
        "\n",
        "#   Build and compile the discriminator\n",
        "    self.discriminator = self.build_discriminator()\n",
        "    self.discriminator.compile(loss='binary_crossentropy',\n",
        "      optimizer=optimizer,\n",
        "      metrics=['accuracy'])\n",
        "\n",
        "    # Build the generator\n",
        "    self.generator = self.build_generator()\n",
        "\n",
        "    # The generator takes noise as input and generates imgs\n",
        "    noise_input = Input(self.noise_shape)\n",
        "    label_input = Input(self.labels_shape)\n",
        "    img = self.generator([noise_input, label_input])\n",
        "\n",
        "    # For the combined model we will only train the generator\n",
        "    self.discriminator.trainable = False\n",
        "\n",
        "    # The discriminator takes generated images as input and determines validity\n",
        "    validity = self.discriminator([img, label_input])\n",
        "\n",
        "    # The combined model  (stacked generator and discriminator)\n",
        "    # Trains the generator to fool the discriminator\n",
        "    self.combined = Model([noise_input, label_input], validity)\n",
        "    self.combined.compile(loss='binary_crossentropy', optimizer=optimizer)\n",
        "\n",
        "  def build_generator(self):\n",
        "    print(\"\\n----- Creating Generator -----\\n\")\n",
        "\n",
        "    # Input\n",
        "    noise_input = Input(self.noise_shape)\n",
        "    label_input = Input(self.labels_shape)\n",
        "    concat_layer= Concatenate()([noise_input, label_input])\n",
        "    \n",
        "    # Layers\n",
        "    x = Dense(256, input_dim=self.latent_dim + 10)(concat_layer)\n",
        "    x = LeakyReLU(alpha=0.2)(x)\n",
        "    x = BatchNormalization(momentum=0.8)(x)\n",
        "\n",
        "    x = Dense(512)(x)\n",
        "    x = LeakyReLU(alpha=0.2)(x)\n",
        "    x = BatchNormalization(momentum=0.8)(x)\n",
        "\n",
        "    x = Dense(1024)(x)\n",
        "    x = LeakyReLU(alpha=0.2)(x)\n",
        "    x = BatchNormalization(momentum=0.8)(x)\n",
        "\n",
        "    x = Dense(np.prod(self.img_shape), activation='tanh')(x)\n",
        "    x = Reshape(self.img_shape)(x)\n",
        "    \n",
        "    generator = Model(inputs = [noise_input, label_input], outputs = x, name='generator')\n",
        "#     generator.summary()\n",
        "    return generator\n",
        "    \n",
        "  def build_discriminator(self):\n",
        "    print(\"\\n----- Creating Discriminator -----\\n\")\n",
        "\n",
        "    # Input\n",
        "    image_input = Input(self.img_shape)\n",
        "    label_input = Input(self.labels_shape)\n",
        "    \n",
        "    # Layers\n",
        "    x = Flatten(input_shape=self.img_shape)(image_input)\n",
        "    x = Dense(512)(x)\n",
        "    x = LeakyReLU(alpha=0.2)(x)\n",
        "    x = Concatenate()([x, label_input])\n",
        "    x = Dense(256)(x)\n",
        "    x = LeakyReLU(alpha=0.2)(x)\n",
        "    x = Dense(1, activation='sigmoid')(x)\n",
        "    \n",
        "    discriminator = Model(inputs = [image_input, label_input], outputs = x, name=\"discriminator\")\n",
        "#     discriminator.summary()\n",
        "    return discriminator\n",
        "  \n",
        "  def train(self, target, epochs, batch_size=128, sample_interval=50):\n",
        "    target_vector = to_categorical(target, num_classes=10)\n",
        "    \n",
        "    # Load the dataset\n",
        "    (X_train, Y_train), (_, _) = mnist.load_data()\n",
        "\n",
        "    # Rescale -1 to 1\n",
        "    X_train = X_train / 127.5 - 1.\n",
        "    X_train = np.expand_dims(X_train, axis=3)\n",
        "\n",
        "    # Adversarial ground truths\n",
        "    valid = np.ones((batch_size, 1))\n",
        "    fake = np.zeros((batch_size, 1))\n",
        "    fake_labels = np.stack([target_vector for _ in range(batch_size)])\n",
        "\n",
        "    for epoch in range(epochs):\n",
        "\n",
        "      # ---------------------\n",
        "      #  Train Discriminator\n",
        "      # ---------------------\n",
        "\n",
        "      # Select a random batch of images\n",
        "      idx = np.random.randint(0, X_train.shape[0], batch_size)\n",
        "      imgs = X_train[idx]\n",
        "      labels = to_categorical(Y_train[idx], num_classes=10)\n",
        "\n",
        "      noise = np.random.normal(0, 1, (batch_size, self.latent_dim))\n",
        "\n",
        "      # Generate a batch of new images\n",
        "      gen_imgs = self.generator.predict([noise, fake_labels])\n",
        "\n",
        "      # Train the discriminator\n",
        "      d_loss_real = self.discriminator.train_on_batch([imgs, labels], valid)\n",
        "      d_loss_fake = self.discriminator.train_on_batch([gen_imgs, fake_labels], fake)\n",
        "      d_loss = 0.5 * np.add(d_loss_real, d_loss_fake)\n",
        "\n",
        "      # ---------------------\n",
        "      #  Train Generator\n",
        "      # ---------------------\n",
        "\n",
        "      noise = np.random.normal(0, 1, (batch_size, self.latent_dim))\n",
        "\n",
        "      # Train the generator (to have the discriminator label samples as valid)\n",
        "      g_loss = self.combined.train_on_batch([noise, fake_labels], valid)\n",
        "\n",
        "      # Plot the progress\n",
        "      if epoch % log_interval == 0:\n",
        "        print (\"%d [D loss: %f, acc.: %.2f%%] [G loss: %f]\" % (epoch, d_loss[0], 100*d_loss[1], g_loss))\n",
        "\n",
        "      # If at save interval => save generated image samples\n",
        "      if epoch % sample_interval == 0:\n",
        "          self.sample_images(epoch, target_vector)\n",
        "\n",
        "  def sample_images(self, epoch, target_vector):\n",
        "    r, c = 5, 5\n",
        "    noise = np.random.normal(0, 1, (r * c, self.latent_dim))\n",
        "    labels = np.stack([target_vector for _ in range(r * c)])\n",
        "    \n",
        "    gen_imgs = self.generator.predict([noise, labels])\n",
        "\n",
        "    # Rescale images 0 - 1\n",
        "    gen_imgs = 0.5 * gen_imgs + 0.5\n",
        "\n",
        "    fig, axs = plt.subplots(r, c)\n",
        "    cnt = 0\n",
        "    for i in range(r):\n",
        "      for j in range(c):\n",
        "        axs[i,j].imshow(gen_imgs[cnt, :,:,0], cmap='gray')\n",
        "        axs[i,j].axis('off')\n",
        "        cnt += 1\n",
        "    fig.savefig(\"%s/%d.png\" % (folder_name, epoch))\n",
        "    plt.close()\n",
        "    \n",
        "gan = GAN()\n",
        "gan.train(epochs=epochs + 1, target=2, batch_size=32, sample_interval=sample_interval)\n"
      ],
      "execution_count": 97,
      "outputs": [
        {
          "output_type": "stream",
          "text": [
            "\n",
            "----- Creating Discriminator -----\n",
            "\n",
            "\n",
            "----- Creating Generator -----\n",
            "\n"
          ],
          "name": "stdout"
        },
        {
          "output_type": "stream",
          "text": [
            "/usr/local/lib/python3.6/dist-packages/keras/engine/training.py:490: UserWarning: Discrepancy between trainable weights and collected trainable weights, did you set `model.trainable` without calling `model.compile` after ?\n",
            "  'Discrepancy between trainable weights and collected trainable'\n"
          ],
          "name": "stderr"
        },
        {
          "output_type": "stream",
          "text": [
            "0 [D loss: 0.887384, acc.: 37.50%] [G loss: 0.672079]\n",
            "100 [D loss: 0.007951, acc.: 100.00%] [G loss: 4.530915]\n",
            "200 [D loss: 0.167689, acc.: 96.88%] [G loss: 3.214188]\n",
            "300 [D loss: 0.244459, acc.: 95.31%] [G loss: 1.944726]\n",
            "400 [D loss: 0.225228, acc.: 93.75%] [G loss: 2.008129]\n",
            "500 [D loss: 0.245911, acc.: 92.19%] [G loss: 2.031672]\n",
            "600 [D loss: 0.217570, acc.: 93.75%] [G loss: 2.264829]\n",
            "700 [D loss: 0.291443, acc.: 90.62%] [G loss: 2.079942]\n",
            "800 [D loss: 0.181726, acc.: 95.31%] [G loss: 2.376843]\n",
            "900 [D loss: 0.217326, acc.: 93.75%] [G loss: 2.548512]\n",
            "1000 [D loss: 0.131555, acc.: 96.88%] [G loss: 2.563831]\n",
            "1100 [D loss: 0.162834, acc.: 95.31%] [G loss: 2.490284]\n",
            "1200 [D loss: 0.222299, acc.: 93.75%] [G loss: 2.297794]\n",
            "1300 [D loss: 0.157487, acc.: 95.31%] [G loss: 2.673288]\n",
            "1400 [D loss: 0.379227, acc.: 87.50%] [G loss: 2.121438]\n",
            "1500 [D loss: 0.120836, acc.: 96.88%] [G loss: 2.624972]\n",
            "1600 [D loss: 0.152424, acc.: 95.31%] [G loss: 2.539981]\n",
            "1700 [D loss: 0.130790, acc.: 96.88%] [G loss: 2.574160]\n",
            "1800 [D loss: 0.050505, acc.: 100.00%] [G loss: 2.773083]\n",
            "1900 [D loss: 0.278008, acc.: 92.19%] [G loss: 2.499414]\n",
            "2000 [D loss: 0.124358, acc.: 96.88%] [G loss: 3.080815]\n",
            "2100 [D loss: 0.209035, acc.: 93.75%] [G loss: 2.504186]\n",
            "2200 [D loss: 0.165787, acc.: 95.31%] [G loss: 2.544368]\n",
            "2300 [D loss: 0.155121, acc.: 95.31%] [G loss: 2.678944]\n",
            "2400 [D loss: 0.119460, acc.: 96.88%] [G loss: 2.853995]\n",
            "2500 [D loss: 0.128705, acc.: 96.88%] [G loss: 2.954714]\n",
            "2600 [D loss: 0.191751, acc.: 93.75%] [G loss: 2.633588]\n",
            "2700 [D loss: 0.237283, acc.: 92.19%] [G loss: 2.364023]\n",
            "2800 [D loss: 0.034714, acc.: 100.00%] [G loss: 3.104453]\n",
            "2900 [D loss: 0.122444, acc.: 96.88%] [G loss: 2.641999]\n",
            "3000 [D loss: 0.102209, acc.: 96.88%] [G loss: 2.808826]\n",
            "3100 [D loss: 0.212132, acc.: 93.75%] [G loss: 2.610792]\n",
            "3200 [D loss: 0.161010, acc.: 95.31%] [G loss: 2.487206]\n",
            "3300 [D loss: 0.255568, acc.: 92.19%] [G loss: 2.643267]\n",
            "3400 [D loss: 0.231475, acc.: 92.19%] [G loss: 2.436246]\n",
            "3500 [D loss: 0.298397, acc.: 90.62%] [G loss: 2.436744]\n",
            "3600 [D loss: 0.134900, acc.: 96.88%] [G loss: 2.909142]\n",
            "3700 [D loss: 0.114625, acc.: 96.88%] [G loss: 2.920656]\n",
            "3800 [D loss: 0.203157, acc.: 92.19%] [G loss: 2.430081]\n",
            "3900 [D loss: 0.154980, acc.: 95.31%] [G loss: 2.653272]\n",
            "4000 [D loss: 0.170356, acc.: 95.31%] [G loss: 2.717784]\n",
            "4100 [D loss: 0.205893, acc.: 93.75%] [G loss: 2.794559]\n",
            "4200 [D loss: 0.108656, acc.: 96.88%] [G loss: 2.564946]\n",
            "4300 [D loss: 0.078603, acc.: 98.44%] [G loss: 2.671596]\n",
            "4400 [D loss: 0.115783, acc.: 96.88%] [G loss: 2.817978]\n",
            "4500 [D loss: 0.191690, acc.: 95.31%] [G loss: 2.741480]\n",
            "4600 [D loss: 0.126223, acc.: 96.88%] [G loss: 2.609321]\n",
            "4700 [D loss: 0.101876, acc.: 96.88%] [G loss: 2.648877]\n",
            "4800 [D loss: 0.122159, acc.: 96.88%] [G loss: 2.427230]\n",
            "4900 [D loss: 0.138118, acc.: 96.88%] [G loss: 2.720608]\n",
            "5000 [D loss: 0.121351, acc.: 96.88%] [G loss: 2.774395]\n",
            "5100 [D loss: 0.092638, acc.: 98.44%] [G loss: 2.800157]\n",
            "5200 [D loss: 0.219386, acc.: 92.19%] [G loss: 2.577775]\n",
            "5300 [D loss: 0.099483, acc.: 98.44%] [G loss: 2.500623]\n",
            "5400 [D loss: 0.133397, acc.: 96.88%] [G loss: 2.624925]\n",
            "5500 [D loss: 0.153791, acc.: 95.31%] [G loss: 2.753143]\n",
            "5600 [D loss: 0.211670, acc.: 93.75%] [G loss: 2.914453]\n",
            "5700 [D loss: 0.254290, acc.: 92.19%] [G loss: 2.646015]\n",
            "5800 [D loss: 0.143784, acc.: 95.31%] [G loss: 2.587655]\n",
            "5900 [D loss: 0.037389, acc.: 100.00%] [G loss: 2.978538]\n",
            "6000 [D loss: 0.076798, acc.: 98.44%] [G loss: 2.889112]\n",
            "6100 [D loss: 0.260284, acc.: 92.19%] [G loss: 2.551628]\n",
            "6200 [D loss: 0.161853, acc.: 95.31%] [G loss: 2.813526]\n",
            "6300 [D loss: 0.218192, acc.: 93.75%] [G loss: 2.804517]\n",
            "6400 [D loss: 0.245040, acc.: 92.19%] [G loss: 2.459686]\n",
            "6500 [D loss: 0.029703, acc.: 100.00%] [G loss: 3.201021]\n",
            "6600 [D loss: 0.233209, acc.: 92.19%] [G loss: 2.307462]\n",
            "6700 [D loss: 0.160441, acc.: 95.31%] [G loss: 2.544552]\n",
            "6800 [D loss: 0.126460, acc.: 96.88%] [G loss: 2.802807]\n",
            "6900 [D loss: 0.203892, acc.: 93.75%] [G loss: 2.461404]\n",
            "7000 [D loss: 0.220107, acc.: 93.75%] [G loss: 2.799892]\n",
            "7100 [D loss: 0.110041, acc.: 96.88%] [G loss: 2.761271]\n",
            "7200 [D loss: 0.179640, acc.: 95.31%] [G loss: 2.846995]\n",
            "7300 [D loss: 0.171167, acc.: 95.31%] [G loss: 2.969950]\n",
            "7400 [D loss: 0.245629, acc.: 92.19%] [G loss: 2.332114]\n",
            "7500 [D loss: 0.135792, acc.: 96.88%] [G loss: 2.766963]\n",
            "7600 [D loss: 0.104322, acc.: 96.88%] [G loss: 2.985873]\n",
            "7700 [D loss: 0.198146, acc.: 93.75%] [G loss: 2.551037]\n",
            "7800 [D loss: 0.167879, acc.: 95.31%] [G loss: 2.424135]\n",
            "7900 [D loss: 0.113462, acc.: 96.88%] [G loss: 2.829425]\n",
            "8000 [D loss: 0.217807, acc.: 93.75%] [G loss: 2.637686]\n",
            "8100 [D loss: 0.203801, acc.: 93.75%] [G loss: 2.222094]\n",
            "8200 [D loss: 0.123311, acc.: 96.88%] [G loss: 2.791981]\n",
            "8300 [D loss: 0.286095, acc.: 90.62%] [G loss: 2.716403]\n",
            "8400 [D loss: 0.144396, acc.: 96.88%] [G loss: 2.532799]\n",
            "8500 [D loss: 0.223847, acc.: 93.75%] [G loss: 2.479868]\n",
            "8600 [D loss: 0.225220, acc.: 93.75%] [G loss: 2.512904]\n",
            "8700 [D loss: 0.217715, acc.: 93.75%] [G loss: 2.503086]\n",
            "8800 [D loss: 0.256358, acc.: 92.19%] [G loss: 2.452154]\n",
            "8900 [D loss: 0.205703, acc.: 93.75%] [G loss: 2.526292]\n",
            "9000 [D loss: 0.172333, acc.: 93.75%] [G loss: 2.513075]\n",
            "9100 [D loss: 0.131156, acc.: 96.88%] [G loss: 2.798336]\n",
            "9200 [D loss: 0.232781, acc.: 92.19%] [G loss: 2.435444]\n",
            "9300 [D loss: 0.197444, acc.: 93.75%] [G loss: 2.463598]\n",
            "9400 [D loss: 0.052236, acc.: 98.44%] [G loss: 2.768216]\n",
            "9500 [D loss: 0.223487, acc.: 92.19%] [G loss: 2.337728]\n",
            "9600 [D loss: 0.215164, acc.: 93.75%] [G loss: 2.294816]\n",
            "9700 [D loss: 0.165962, acc.: 95.31%] [G loss: 2.490019]\n",
            "9800 [D loss: 0.177066, acc.: 95.31%] [G loss: 2.554523]\n",
            "9900 [D loss: 0.108493, acc.: 96.88%] [G loss: 2.751198]\n",
            "10000 [D loss: 0.216268, acc.: 93.75%] [G loss: 2.589070]\n"
          ],
          "name": "stdout"
        }
      ]
    },
    {
      "metadata": {
        "id": "aW1bsmdJYNhf",
        "colab_type": "text"
      },
      "cell_type": "markdown",
      "source": [
        "## Визуализация результата"
      ]
    },
    {
      "metadata": {
        "id": "EnaoBwpupLyQ",
        "colab_type": "text"
      },
      "cell_type": "markdown",
      "source": [
        "### Генерация GIF"
      ]
    },
    {
      "metadata": {
        "id": "tWfjNsdHYP9H",
        "colab_type": "code",
        "colab": {}
      },
      "cell_type": "code",
      "source": [
        "def folder_to_gif(folder, output_file):\n",
        "  images = []\n",
        "  for index in np.arange(0, epochs, sample_interval):\n",
        "    images.append(imageio.imread(\"%s/%s.png\" % (folder, index)))\n",
        "  \n",
        "  imageio.mimsave(output_file, images)"
      ],
      "execution_count": 0,
      "outputs": []
    },
    {
      "metadata": {
        "id": "VLLFZpAPbFJR",
        "colab_type": "code",
        "colab": {}
      },
      "cell_type": "code",
      "source": [
        "# print(np.arange(0, epochs, sample_interval))\n",
        "output_file = 'training-%s-%s.gif' % (target_number, datetime.datetime.now().strftime('%Y-%M-%d-%H-%M-%S'))\n",
        "folder_to_gif(folder_name, output_file)"
      ],
      "execution_count": 0,
      "outputs": []
    },
    {
      "metadata": {
        "id": "p-oZNzuqpSfr",
        "colab_type": "text"
      },
      "cell_type": "markdown",
      "source": [
        "### Результат работы генератора"
      ]
    },
    {
      "metadata": {
        "id": "5l7oGukRe28v",
        "colab_type": "code",
        "outputId": "60d0962c-1663-4de6-a7f3-b00a49897d4a",
        "colab": {
          "base_uri": "https://localhost:8080/",
          "height": 430
        }
      },
      "cell_type": "code",
      "source": [
        "last_file = \"%s/%s.png\" % (folder_name, epochs)\n",
        "print(last_file)\n",
        "\n",
        "with open(last_file,'rb') as f:\n",
        "    display(Image(data=f.read(), format='png'))"
      ],
      "execution_count": 100,
      "outputs": [
        {
          "output_type": "stream",
          "text": [
            "gen_8/10000.png\n"
          ],
          "name": "stdout"
        },
        {
          "output_type": "display_data",
          "data": {
            "image/png": "[encoded data removed]",
            "text/plain": [
              "<IPython.core.display.Image object>"
            ]
          },
          "metadata": {
            "tags": []
          }
        }
      ]
    }
  ]
}