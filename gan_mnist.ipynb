{
  "nbformat": 4,
  "nbformat_minor": 0,
  "metadata": {
    "colab": {
      "name": "gan_mnist.ipynb",
      "version": "0.3.2",
      "provenance": [],
      "collapsed_sections": [
        "aW1bsmdJYNhf"
      ],
      "toc_visible": true,
      "include_colab_link": true
    },
    "kernelspec": {
      "name": "python3",
      "display_name": "Python 3"
    },
    "accelerator": "GPU"
  },
  "cells": [
    {
      "cell_type": "markdown",
      "metadata": {
        "id": "view-in-github",
        "colab_type": "text"
      },
      "source": [
        "<a href=\"https://colab.research.google.com/github/darja/NeuralUni/blob/master/gan_mnist.ipynb\" target=\"_parent\"><img src=\"https://colab.research.google.com/assets/colab-badge.svg\" alt=\"Open In Colab\"/></a>"
      ]
    },
    {
      "metadata": {
        "id": "F-Q50NYhqtbO",
        "colab_type": "text"
      },
      "cell_type": "markdown",
      "source": [
        "# Генерация чисел на основе базы MNIST"
      ]
    },
    {
      "metadata": {
        "id": "ky3lh94EAmFg",
        "colab_type": "text"
      },
      "cell_type": "markdown",
      "source": [
        "[Есть код](http://s6957389.stat-pulse.com/go/ec/a21e199f15c6b8797d6383824bc052e1/ci/OTA4ODc0Mw==/ui/Njk1NzM4OQ==/li/MjA4MDQzNTQx/re/aWZuZGVmQHlhbmRleC5ydQ==/l/aHR0cHMlM0ElMkYlMkZ3d3cuZHJvcGJveC5jb20lMkZzJTJGMmV5cmg3YmNqbXVuY2pjJTJGZ2VuZXJhdGl2ZTEuemlwJTNGZGwlM0Qw/) обычной генеративной сети. Сделать на основе него генерацию с условием на той же базе MNIST. Значит, для генерации мы подаем не только вектор шума, но и число от 0 до 9 (one-hot вектор) – на вход и генератору, и дискриминатору. \n",
        " "
      ]
    },
    {
      "metadata": {
        "id": "uqEaVY8DArMj",
        "colab_type": "text"
      },
      "cell_type": "markdown",
      "source": [
        "## Подготовка окружения"
      ]
    },
    {
      "metadata": {
        "id": "nQI5ks7Qq4VH",
        "colab_type": "code",
        "colab": {}
      },
      "cell_type": "code",
      "source": [
        "from __future__ import print_function, division\n",
        "\n",
        "from keras.datasets import mnist\n",
        "from keras.layers import Input, Dense, Reshape, Flatten, Dropout, Concatenate\n",
        "from keras.layers import BatchNormalization, Activation, ZeroPadding2D\n",
        "from keras.layers.advanced_activations import LeakyReLU\n",
        "from keras.layers.convolutional import UpSampling2D, Conv2D\n",
        "from keras.models import Sequential, Model\n",
        "from keras.optimizers import Adam\n",
        "from keras.utils import to_categorical\n",
        "import matplotlib.pyplot as plt\n",
        "\n",
        "import sys\n",
        "import datetime\n",
        "import imageio\n",
        "\n",
        "import numpy as np"
      ],
      "execution_count": 0,
      "outputs": []
    },
    {
      "metadata": {
        "id": "hw8kEcXEXo-P",
        "colab_type": "text"
      },
      "cell_type": "markdown",
      "source": [
        "### Входные данные"
      ]
    },
    {
      "metadata": {
        "id": "eH1G5x-ED7Pk",
        "colab_type": "code",
        "colab": {}
      },
      "cell_type": "code",
      "source": [
        "num_classes = 10\n",
        "target_number = 4\n",
        "target_vector = to_categorical(target_number, num_classes = num_classes)\n",
        "\n",
        "epochs = 1000\n",
        "sample_interval = 200\n",
        "log_interval = 100\n",
        "latent_dim = 10"
      ],
      "execution_count": 0,
      "outputs": []
    },
    {
      "metadata": {
        "id": "PFp6fJFLXusV",
        "colab_type": "text"
      },
      "cell_type": "markdown",
      "source": [
        "### Папка для выходных данных"
      ]
    },
    {
      "metadata": {
        "id": "15O27ydiW2A9",
        "colab_type": "code",
        "outputId": "e99bdeaa-f7a4-4a4e-d399-b3915984636b",
        "colab": {
          "base_uri": "https://localhost:8080/",
          "height": 34
        }
      },
      "cell_type": "code",
      "source": [
        "folder_name = \"gen_%s\" % target_number\n",
        "print(folder_name)\n",
        "!rm -fr {folder_name}\n",
        "!mkdir {folder_name}"
      ],
      "execution_count": 0,
      "outputs": [
        {
          "output_type": "stream",
          "text": [
            "images\n"
          ],
          "name": "stdout"
        }
      ]
    },
    {
      "metadata": {
        "id": "qCVQHd6T3THG",
        "colab_type": "code",
        "colab": {
          "base_uri": "https://localhost:8080/",
          "height": 68
        },
        "outputId": "c3d78c86-99f8-4651-a869-6f9fcf346e5d"
      },
      "cell_type": "code",
      "source": [
        "batch_size = 128\n",
        "a = [1, 5, 3]\n",
        "b = to_categorical(a)\n",
        "print(b)"
      ],
      "execution_count": 43,
      "outputs": [
        {
          "output_type": "stream",
          "text": [
            "[[0. 1. 0. 0. 0. 0.]\n",
            " [0. 0. 0. 0. 0. 1.]\n",
            " [0. 0. 0. 1. 0. 0.]]\n"
          ],
          "name": "stdout"
        }
      ]
    },
    {
      "metadata": {
        "id": "OzCh1LUWq2ol",
        "colab_type": "text"
      },
      "cell_type": "markdown",
      "source": [
        " ## Генеративная нейросеть"
      ]
    },
    {
      "metadata": {
        "id": "beCqkKdRnzQM",
        "colab_type": "code",
        "colab": {}
      },
      "cell_type": "code",
      "source": [
        "class GAN():\n",
        "    def __init__(self):\n",
        "        self.img_rows = 28\n",
        "        self.img_cols = 28\n",
        "        self.channels = 1\n",
        "        self.img_shape = (self.img_rows, self.img_cols, self.channels)\n",
        "        self.latent_dim = 100\n",
        "        \n",
        "        self.noise_shape = (self.latent_dim,)\n",
        "        self.labels_shape = (num_classes,)\n",
        "\n",
        "        optimizer = Adam(0.0002, 0.5)\n",
        "\n",
        "        # Build and compile the discriminator\n",
        "#         self.discriminator = self.build_discriminator()\n",
        "#         self.discriminator.compile(loss='binary_crossentropy',\n",
        "#             optimizer=optimizer,\n",
        "#             metrics=['accuracy'])\n",
        "\n",
        "        # Build the generator\n",
        "        self.generator = self.build_generator()\n",
        "\n",
        "#         # The generator takes noise as input and generates imgs\n",
        "#         z = Input(shape=(self.latent_dim,))\n",
        "#         img = self.generator(z)\n",
        "\n",
        "#         # For the combined model we will only train the generator\n",
        "#         self.discriminator.trainable = False\n",
        "\n",
        "#         # The discriminator takes generated images as input and determines validity\n",
        "#         validity = self.discriminator(img)\n",
        "\n",
        "#         # The combined model  (stacked generator and discriminator)\n",
        "#         # Trains the generator to fool the discriminator\n",
        "#         self.combined = Model(z, validity)\n",
        "#         self.combined.compile(loss='binary_crossentropy', optimizer=optimizer)\n",
        "\n",
        "\n",
        "    def build_generator(self):\n",
        "        print(\"\\n----- Generator -----\\n\")\n",
        "\n",
        "        model = Sequential()\n",
        "\n",
        "        model.add(Dense(256, input_dim=self.latent_dim))        \n",
        "        model.add(LeakyReLU(alpha=0.2))\n",
        "        model.add(BatchNormalization(momentum=0.8))\n",
        "        model.add(Dense(512))\n",
        "        model.add(LeakyReLU(alpha=0.2))\n",
        "        model.add(BatchNormalization(momentum=0.8))\n",
        "        model.add(Dense(1024))\n",
        "        model.add(LeakyReLU(alpha=0.2))\n",
        "        model.add(BatchNormalization(momentum=0.8))\n",
        "        model.add(Dense(np.prod(self.img_shape), activation='tanh'))\n",
        "        model.add(Reshape(self.img_shape))\n",
        "\n",
        "        model.summary()\n",
        "\n",
        "        noise = Input(shape=(self.input_dim,))\n",
        "        labels = Input(shape=label_shape, name='class_labels')\n",
        "\n",
        "        img = model(noise, labels)\n",
        "\n",
        "        return Model(noise, img)\n",
        "\n",
        "    def build_discriminator(self):\n",
        "        print(\"\\n----- Discriminator -----\\n\")\n",
        "\n",
        "        model = Sequential()\n",
        "\n",
        "        model.add(Flatten(input_shape=self.img_shape))\n",
        "        model.add(Concatenate([noise_shape, labels_shape], axis=1))\n",
        "        model.add(Dense(512))\n",
        "        model.add(LeakyReLU(alpha=0.2))\n",
        "        model.add(Dense(256))\n",
        "        model.add(LeakyReLU(alpha=0.2))\n",
        "        model.add(Dense(1, activation='sigmoid'))\n",
        "        model.summary()\n",
        "\n",
        "        img = Input(shape=self.img_shape)\n",
        "        validity = model(img)\n",
        "\n",
        "        return Model(img, validity)\n",
        "\n",
        "    def train(self, epochs, batch_size=128, sample_interval=50):\n",
        "\n",
        "        # Load the dataset\n",
        "        (X_train, _), (_, _) = mnist.load_data()\n",
        "\n",
        "        # Rescale -1 to 1\n",
        "        X_train = X_train / 127.5 - 1.\n",
        "        X_train = np.expand_dims(X_train, axis=3)\n",
        "\n",
        "        # Adversarial ground truths\n",
        "        valid = np.ones((batch_size, 1))\n",
        "        fake = np.zeros((batch_size, 1))\n",
        "\n",
        "        for epoch in range(epochs):\n",
        "\n",
        "            # ---------------------\n",
        "            #  Train Discriminator\n",
        "            # ---------------------\n",
        "\n",
        "            # Select a random batch of images\n",
        "            idx = np.random.randint(0, X_train.shape[0], batch_size)\n",
        "            imgs = X_train[idx]\n",
        "\n",
        "            noise = np.random.normal(0, 1, (batch_size, self.latent_dim))\n",
        "\n",
        "            # Generate a batch of new images\n",
        "            gen_imgs = self.generator.predict(noise)\n",
        "\n",
        "            # Train the discriminator\n",
        "            d_loss_real = self.discriminator.train_on_batch(imgs, valid)\n",
        "            d_loss_fake = self.discriminator.train_on_batch(gen_imgs, fake)\n",
        "            d_loss = 0.5 * np.add(d_loss_real, d_loss_fake)\n",
        "\n",
        "            # ---------------------\n",
        "            #  Train Generator\n",
        "            # ---------------------\n",
        "\n",
        "            noise = np.random.normal(0, 1, (batch_size, self.latent_dim))\n",
        "\n",
        "            # Train the generator (to have the discriminator label samples as valid)\n",
        "            g_loss = self.combined.train_on_batch(noise, valid)\n",
        "\n",
        "            # Plot the progress\n",
        "            print (\"%d [D loss: %f, acc.: %.2f%%] [G loss: %f]\" % (epoch, d_loss[0], 100*d_loss[1], g_loss))\n",
        "\n",
        "            # If at save interval => save generated image samples\n",
        "            if epoch % sample_interval == 0:\n",
        "                self.sample_images(epoch)\n",
        "\n",
        "    def sample_images(self, epoch):\n",
        "        r, c = 5, 5\n",
        "        noise = np.random.normal(0, 1, (r * c, self.latent_dim))\n",
        "        gen_imgs = self.generator.predict(noise)\n",
        "\n",
        "        # Rescale images 0 - 1\n",
        "        gen_imgs = 0.5 * gen_imgs + 0.5\n",
        "\n",
        "        fig, axs = plt.subplots(r, c)\n",
        "        cnt = 0\n",
        "        for i in range(r):\n",
        "            for j in range(c):\n",
        "                axs[i,j].imshow(gen_imgs[cnt, :,:,0], cmap='gray')\n",
        "                axs[i,j].axis('off')\n",
        "                cnt += 1\n",
        "        fig.savefig(\"images/%d.png\" % epoch)\n",
        "        plt.close()\n"
      ],
      "execution_count": 0,
      "outputs": []
    },
    {
      "metadata": {
        "id": "QEnVnmKYBFsn",
        "colab_type": "code",
        "outputId": "72fa1e40-500e-4469-a8e4-5cd0774eab0a",
        "colab": {
          "base_uri": "https://localhost:8080/",
          "height": 1615
        }
      },
      "cell_type": "code",
      "source": [
        "from keras.layers.merge import Concatenate\n",
        "\n",
        "class GAN():\n",
        "  def __init__(self):\n",
        "    self.img_rows = 28\n",
        "    self.img_cols = 28\n",
        "    self.channels = 1\n",
        "    self.img_shape = (self.img_rows, self.img_cols, self.channels)\n",
        "    self.latent_dim = 100\n",
        "\n",
        "    self.noise_shape = (self.latent_dim,)\n",
        "    self.labels_shape = (num_classes,)\n",
        "\n",
        "    optimizer = Adam(0.0002, 0.5)\n",
        "\n",
        "#   Build and compile the discriminator\n",
        "    self.discriminator = self.build_discriminator()\n",
        "    self.discriminator.compile(loss='binary_crossentropy',\n",
        "      optimizer=optimizer,\n",
        "      metrics=['accuracy'])\n",
        "\n",
        "    # Build the generator\n",
        "    self.generator = self.build_generator()\n",
        "\n",
        "#         # The generator takes noise as input and generates imgs\n",
        "#         z = Input(shape=(self.latent_dim,))\n",
        "#         img = self.generator(z)\n",
        "\n",
        "#         # For the combined model we will only train the generator\n",
        "#         self.discriminator.trainable = False\n",
        "\n",
        "#         # The discriminator takes generated images as input and determines validity\n",
        "#         validity = self.discriminator(img)\n",
        "\n",
        "#         # The combined model  (stacked generator and discriminator)\n",
        "#         # Trains the generator to fool the discriminator\n",
        "#         self.combined = Model(z, validity)\n",
        "#         self.combined.compile(loss='binary_crossentropy', optimizer=optimizer)\n",
        "\n",
        "\n",
        "  def build_generator(self):\n",
        "    print(\"\\n----- Generator -----\\n\")\n",
        "\n",
        "    # Input\n",
        "    noise_input = Input(self.noise_shape)\n",
        "    label_input = Input(self.labels_shape)\n",
        "    concat_layer= Concatenate()([noise_input, label_input])\n",
        "    \n",
        "    # Layers\n",
        "    x = Dense(256, input_dim=self.latent_dim + 10)(concat_layer)\n",
        "    x = LeakyReLU(alpha=0.2)(x)\n",
        "    x = BatchNormalization(momentum=0.8)(x)\n",
        "\n",
        "    x = Dense(512)(x)\n",
        "    x = LeakyReLU(alpha=0.2)(x)\n",
        "    x = BatchNormalization(momentum=0.8)(x)\n",
        "\n",
        "    x = Dense(1024)(x)\n",
        "    x = LeakyReLU(alpha=0.2)(x)\n",
        "    x = BatchNormalization(momentum=0.8)(x)\n",
        "\n",
        "    x = Dense(np.prod(self.img_shape), activation='tanh')(x)\n",
        "    x = Reshape(self.img_shape)(x)\n",
        "    \n",
        "    generator = Model(inputs = [noise_input, label_input], outputs = x, name='generator')\n",
        "    generator.summary()\n",
        "    return generator\n",
        "    \n",
        "  def build_discriminator(self):\n",
        "    print(\"\\n----- Discriminator -----\\n\")\n",
        "\n",
        "    # Input\n",
        "    image_input = Input(self.img_shape)\n",
        "    label_input = Input(self.labels_shape)\n",
        "    \n",
        "    # Layers\n",
        "    x = Flatten(input_shape=self.img_shape)(image_input)\n",
        "    x = Dense(512)(x)\n",
        "    x = LeakyReLU(alpha=0.2)(x)\n",
        "    x = Concatenate()([x, label_input])\n",
        "    x = Dense(256)(x)\n",
        "    x = LeakyReLU(alpha=0.2)(x)\n",
        "    x = Dense(1, activation='sigmoid')(x)\n",
        "    \n",
        "    discriminator = Model(inputs = [image_input, label_input], outputs = x, name=\"discriminator\")\n",
        "    discriminator.summary()\n",
        "    return discriminator\n",
        "  \n",
        "  def train(self, target, epochs, batch_size=128, sample_interval=50):\n",
        "    target = to_categorical(target)\n",
        "    \n",
        "    # Load the dataset\n",
        "    (X_train, Y_train), (_, _) = mnist.load_data()\n",
        "\n",
        "    # Rescale -1 to 1\n",
        "    X_train = X_train / 127.5 - 1.\n",
        "    X_train = np.expand_dims(X_train, axis=3)\n",
        "\n",
        "    # Adversarial ground truths\n",
        "    valid = np.ones((batch_size, 1))\n",
        "    fake = np.zeros((batch_size, 1))\n",
        "    fake_labels = np.repeat((batch_size, target_vector))\n",
        "\n",
        "    for epoch in range(epochs):\n",
        "\n",
        "      # ---------------------\n",
        "      #  Train Discriminator\n",
        "      # ---------------------\n",
        "\n",
        "      # Select a random batch of images\n",
        "      idx = np.random.randint(0, X_train.shape[0], batch_size)\n",
        "      imgs = X_train[idx]\n",
        "      labels = to_categorical(Y_train[idx])\n",
        "\n",
        "      noise = np.random.normal(0, 1, (batch_size, self.latent_dim))\n",
        "\n",
        "      # Generate a batch of new images\n",
        "      gen_imgs = self.generator.predict([noise, target_vector])\n",
        "\n",
        "      # Train the discriminator\n",
        "      d_loss_real = self.discriminator.train_on_batch([imgs, labels], valid)\n",
        "      d_loss_fake = self.discriminator.train_on_batch([gen_imgs, fake_labels], fake)\n",
        "      d_loss = 0.5 * np.add(d_loss_real, d_loss_fake)\n",
        "\n",
        "      # ---------------------\n",
        "      #  Train Generator\n",
        "      # ---------------------\n",
        "\n",
        "      noise = np.random.normal(0, 1, (batch_size, self.latent_dim))\n",
        "\n",
        "      # Train the generator (to have the discriminator label samples as valid)\n",
        "      g_loss = self.combined.train_on_batch(noise, valid)\n",
        "\n",
        "      # Plot the progress\n",
        "      print (\"%d [D loss: %f, acc.: %.2f%%] [G loss: %f]\" % (epoch, d_loss[0], 100*d_loss[1], g_loss))\n",
        "\n",
        "      # If at save interval => save generated image samples\n",
        "      if epoch % sample_interval == 0:\n",
        "          self.sample_images(epoch, target_vector)\n",
        "\n",
        "  def sample_images(self, epoch, target_vector):\n",
        "    r, c = 5, 5\n",
        "    noise = np.random.normal(0, 1, (r * c, self.latent_dim))\n",
        "    gen_imgs = self.generator.predict([noise, target_vector])\n",
        "\n",
        "    # Rescale images 0 - 1\n",
        "    gen_imgs = 0.5 * gen_imgs + 0.5\n",
        "\n",
        "    fig, axs = plt.subplots(r, c)\n",
        "    cnt = 0\n",
        "    for i in range(r):\n",
        "      for j in range(c):\n",
        "        axs[i,j].imshow(gen_imgs[cnt, :,:,0], cmap='gray')\n",
        "        axs[i,j].axis('off')\n",
        "        cnt += 1\n",
        "    fig.savefig(\"images/%d.png\" % epoch)\n",
        "    plt.close()\n",
        "\n",
        "\n",
        "gan = GAN()\n",
        "gan.discriminator.summary()"
      ],
      "execution_count": 49,
      "outputs": [
        {
          "output_type": "stream",
          "text": [
            "\n",
            "----- Discriminator -----\n",
            "\n",
            "__________________________________________________________________________________________________\n",
            "Layer (type)                    Output Shape         Param #     Connected to                     \n",
            "==================================================================================================\n",
            "input_28 (InputLayer)           (None, 28, 28, 1)    0                                            \n",
            "__________________________________________________________________________________________________\n",
            "flatten_7 (Flatten)             (None, 784)          0           input_28[0][0]                   \n",
            "__________________________________________________________________________________________________\n",
            "dense_44 (Dense)                (None, 512)          401920      flatten_7[0][0]                  \n",
            "__________________________________________________________________________________________________\n",
            "leaky_re_lu_31 (LeakyReLU)      (None, 512)          0           dense_44[0][0]                   \n",
            "__________________________________________________________________________________________________\n",
            "input_29 (InputLayer)           (None, 10)           0                                            \n",
            "__________________________________________________________________________________________________\n",
            "concatenate_11 (Concatenate)    (None, 522)          0           leaky_re_lu_31[0][0]             \n",
            "                                                                 input_29[0][0]                   \n",
            "__________________________________________________________________________________________________\n",
            "dense_45 (Dense)                (None, 256)          133888      concatenate_11[0][0]             \n",
            "__________________________________________________________________________________________________\n",
            "leaky_re_lu_32 (LeakyReLU)      (None, 256)          0           dense_45[0][0]                   \n",
            "__________________________________________________________________________________________________\n",
            "dense_46 (Dense)                (None, 1)            257         leaky_re_lu_32[0][0]             \n",
            "==================================================================================================\n",
            "Total params: 536,065\n",
            "Trainable params: 536,065\n",
            "Non-trainable params: 0\n",
            "__________________________________________________________________________________________________\n",
            "\n",
            "----- Generator -----\n",
            "\n",
            "__________________________________________________________________________________________________\n",
            "Layer (type)                    Output Shape         Param #     Connected to                     \n",
            "==================================================================================================\n",
            "input_30 (InputLayer)           (None, 100)          0                                            \n",
            "__________________________________________________________________________________________________\n",
            "input_31 (InputLayer)           (None, 10)           0                                            \n",
            "__________________________________________________________________________________________________\n",
            "concatenate_12 (Concatenate)    (None, 110)          0           input_30[0][0]                   \n",
            "                                                                 input_31[0][0]                   \n",
            "__________________________________________________________________________________________________\n",
            "dense_47 (Dense)                (None, 256)          28416       concatenate_12[0][0]             \n",
            "__________________________________________________________________________________________________\n",
            "leaky_re_lu_33 (LeakyReLU)      (None, 256)          0           dense_47[0][0]                   \n",
            "__________________________________________________________________________________________________\n",
            "batch_normalization_19 (BatchNo (None, 256)          1024        leaky_re_lu_33[0][0]             \n",
            "__________________________________________________________________________________________________\n",
            "dense_48 (Dense)                (None, 512)          131584      batch_normalization_19[0][0]     \n",
            "__________________________________________________________________________________________________\n",
            "leaky_re_lu_34 (LeakyReLU)      (None, 512)          0           dense_48[0][0]                   \n",
            "__________________________________________________________________________________________________\n",
            "batch_normalization_20 (BatchNo (None, 512)          2048        leaky_re_lu_34[0][0]             \n",
            "__________________________________________________________________________________________________\n",
            "dense_49 (Dense)                (None, 1024)         525312      batch_normalization_20[0][0]     \n",
            "__________________________________________________________________________________________________\n",
            "leaky_re_lu_35 (LeakyReLU)      (None, 1024)         0           dense_49[0][0]                   \n",
            "__________________________________________________________________________________________________\n",
            "batch_normalization_21 (BatchNo (None, 1024)         4096        leaky_re_lu_35[0][0]             \n",
            "__________________________________________________________________________________________________\n",
            "dense_50 (Dense)                (None, 784)          803600      batch_normalization_21[0][0]     \n",
            "__________________________________________________________________________________________________\n",
            "reshape_11 (Reshape)            (None, 28, 28, 1)    0           dense_50[0][0]                   \n",
            "==================================================================================================\n",
            "Total params: 1,496,080\n",
            "Trainable params: 1,492,496\n",
            "Non-trainable params: 3,584\n",
            "__________________________________________________________________________________________________\n",
            "__________________________________________________________________________________________________\n",
            "Layer (type)                    Output Shape         Param #     Connected to                     \n",
            "==================================================================================================\n",
            "input_28 (InputLayer)           (None, 28, 28, 1)    0                                            \n",
            "__________________________________________________________________________________________________\n",
            "flatten_7 (Flatten)             (None, 784)          0           input_28[0][0]                   \n",
            "__________________________________________________________________________________________________\n",
            "dense_44 (Dense)                (None, 512)          401920      flatten_7[0][0]                  \n",
            "__________________________________________________________________________________________________\n",
            "leaky_re_lu_31 (LeakyReLU)      (None, 512)          0           dense_44[0][0]                   \n",
            "__________________________________________________________________________________________________\n",
            "input_29 (InputLayer)           (None, 10)           0                                            \n",
            "__________________________________________________________________________________________________\n",
            "concatenate_11 (Concatenate)    (None, 522)          0           leaky_re_lu_31[0][0]             \n",
            "                                                                 input_29[0][0]                   \n",
            "__________________________________________________________________________________________________\n",
            "dense_45 (Dense)                (None, 256)          133888      concatenate_11[0][0]             \n",
            "__________________________________________________________________________________________________\n",
            "leaky_re_lu_32 (LeakyReLU)      (None, 256)          0           dense_45[0][0]                   \n",
            "__________________________________________________________________________________________________\n",
            "dense_46 (Dense)                (None, 1)            257         leaky_re_lu_32[0][0]             \n",
            "==================================================================================================\n",
            "Total params: 536,065\n",
            "Trainable params: 536,065\n",
            "Non-trainable params: 0\n",
            "__________________________________________________________________________________________________\n"
          ],
          "name": "stdout"
        }
      ]
    },
    {
      "metadata": {
        "id": "tTCJgu8MWfOd",
        "colab_type": "code",
        "colab": {}
      },
      "cell_type": "code",
      "source": [
        ""
      ],
      "execution_count": 0,
      "outputs": []
    },
    {
      "metadata": {
        "id": "YiPOv7Qysg7G",
        "colab_type": "text"
      },
      "cell_type": "markdown",
      "source": [
        "## Обучение сети"
      ]
    },
    {
      "metadata": {
        "id": "oPlrjzf1scSw",
        "colab_type": "code",
        "colab": {
          "base_uri": "https://localhost:8080/",
          "height": 470
        },
        "outputId": "e42832db-a9da-4c80-a604-b633dcfbd305"
      },
      "cell_type": "code",
      "source": [
        "gan = GAN()\n",
        "# gan.train(epochs=epochs, batch_size=32, sample_interval=sample_interval)\n"
      ],
      "execution_count": 24,
      "outputs": [
        {
          "output_type": "stream",
          "text": [
            "\n",
            "----- Generator -----\n",
            "\n"
          ],
          "name": "stdout"
        },
        {
          "output_type": "error",
          "ename": "NameError",
          "evalue": "ignored",
          "traceback": [
            "\u001b[0;31m---------------------------------------------------------------------------\u001b[0m",
            "\u001b[0;31mNameError\u001b[0m                                 Traceback (most recent call last)",
            "\u001b[0;32m<ipython-input-24-e83e9f98e393>\u001b[0m in \u001b[0;36m<module>\u001b[0;34m()\u001b[0m\n\u001b[0;32m----> 1\u001b[0;31m \u001b[0mgan\u001b[0m \u001b[0;34m=\u001b[0m \u001b[0mGAN\u001b[0m\u001b[0;34m(\u001b[0m\u001b[0;34m)\u001b[0m\u001b[0;34m\u001b[0m\u001b[0;34m\u001b[0m\u001b[0m\n\u001b[0m\u001b[1;32m      2\u001b[0m \u001b[0;31m# gan.train(epochs=epochs, batch_size=32, sample_interval=sample_interval)\u001b[0m\u001b[0;34m\u001b[0m\u001b[0;34m\u001b[0m\u001b[0;34m\u001b[0m\u001b[0m\n",
            "\u001b[0;32m<ipython-input-23-84ee72780eeb>\u001b[0m in \u001b[0;36m__init__\u001b[0;34m(self)\u001b[0m\n\u001b[1;32m     19\u001b[0m \u001b[0;34m\u001b[0m\u001b[0m\n\u001b[1;32m     20\u001b[0m         \u001b[0;31m# Build the generator\u001b[0m\u001b[0;34m\u001b[0m\u001b[0;34m\u001b[0m\u001b[0;34m\u001b[0m\u001b[0m\n\u001b[0;32m---> 21\u001b[0;31m         \u001b[0mself\u001b[0m\u001b[0;34m.\u001b[0m\u001b[0mgenerator\u001b[0m \u001b[0;34m=\u001b[0m \u001b[0mself\u001b[0m\u001b[0;34m.\u001b[0m\u001b[0mbuild_generator\u001b[0m\u001b[0;34m(\u001b[0m\u001b[0;34m)\u001b[0m\u001b[0;34m\u001b[0m\u001b[0;34m\u001b[0m\u001b[0m\n\u001b[0m\u001b[1;32m     22\u001b[0m \u001b[0;34m\u001b[0m\u001b[0m\n\u001b[1;32m     23\u001b[0m \u001b[0;31m#         # The generator takes noise as input and generates imgs\u001b[0m\u001b[0;34m\u001b[0m\u001b[0;34m\u001b[0m\u001b[0;34m\u001b[0m\u001b[0m\n",
            "\u001b[0;32m<ipython-input-23-84ee72780eeb>\u001b[0m in \u001b[0;36mbuild_generator\u001b[0;34m(self)\u001b[0m\n\u001b[1;32m     42\u001b[0m         \u001b[0mmodel\u001b[0m \u001b[0;34m=\u001b[0m \u001b[0mSequential\u001b[0m\u001b[0;34m(\u001b[0m\u001b[0;34m)\u001b[0m\u001b[0;34m\u001b[0m\u001b[0;34m\u001b[0m\u001b[0m\n\u001b[1;32m     43\u001b[0m \u001b[0;34m\u001b[0m\u001b[0m\n\u001b[0;32m---> 44\u001b[0;31m         \u001b[0mmodel\u001b[0m\u001b[0;34m.\u001b[0m\u001b[0madd\u001b[0m\u001b[0;34m(\u001b[0m\u001b[0mConcatenate\u001b[0m\u001b[0;34m(\u001b[0m\u001b[0;34m[\u001b[0m\u001b[0mnoise_shape\u001b[0m\u001b[0;34m,\u001b[0m \u001b[0mlabels_shape\u001b[0m\u001b[0;34m]\u001b[0m\u001b[0;34m,\u001b[0m \u001b[0maxis\u001b[0m\u001b[0;34m=\u001b[0m\u001b[0;36m1\u001b[0m\u001b[0;34m)\u001b[0m\u001b[0;34m)\u001b[0m\u001b[0;34m\u001b[0m\u001b[0;34m\u001b[0m\u001b[0m\n\u001b[0m\u001b[1;32m     45\u001b[0m         \u001b[0mmodel\u001b[0m\u001b[0;34m.\u001b[0m\u001b[0madd\u001b[0m\u001b[0;34m(\u001b[0m\u001b[0mDense\u001b[0m\u001b[0;34m(\u001b[0m\u001b[0;36m256\u001b[0m\u001b[0;34m)\u001b[0m\u001b[0;34m)\u001b[0m\u001b[0;34m\u001b[0m\u001b[0;34m\u001b[0m\u001b[0m\n\u001b[1;32m     46\u001b[0m         \u001b[0mmodel\u001b[0m\u001b[0;34m.\u001b[0m\u001b[0madd\u001b[0m\u001b[0;34m(\u001b[0m\u001b[0mLeakyReLU\u001b[0m\u001b[0;34m(\u001b[0m\u001b[0malpha\u001b[0m\u001b[0;34m=\u001b[0m\u001b[0;36m0.2\u001b[0m\u001b[0;34m)\u001b[0m\u001b[0;34m)\u001b[0m\u001b[0;34m\u001b[0m\u001b[0;34m\u001b[0m\u001b[0m\n",
            "\u001b[0;31mNameError\u001b[0m: name 'noise_shape' is not defined"
          ]
        }
      ]
    },
    {
      "metadata": {
        "id": "aW1bsmdJYNhf",
        "colab_type": "text"
      },
      "cell_type": "markdown",
      "source": [
        "## Визуализация результата"
      ]
    },
    {
      "metadata": {
        "id": "EnaoBwpupLyQ",
        "colab_type": "text"
      },
      "cell_type": "markdown",
      "source": [
        "### Генерация GIF"
      ]
    },
    {
      "metadata": {
        "id": "tWfjNsdHYP9H",
        "colab_type": "code",
        "colab": {}
      },
      "cell_type": "code",
      "source": [
        "def folder_to_gif(folder, output_file):\n",
        "  images = []\n",
        "  for index in np.arange(0, epochs, sample_interval):\n",
        "    images.append(imageio.imread(\"%s/%s.png\" % (folder, index)))\n",
        "  \n",
        "  imageio.mimsave(output_file, images)"
      ],
      "execution_count": 0,
      "outputs": []
    },
    {
      "metadata": {
        "id": "VLLFZpAPbFJR",
        "colab_type": "code",
        "colab": {}
      },
      "cell_type": "code",
      "source": [
        "# print(np.arange(0, epochs, sample_interval))\n",
        "output_file = 'training-%s-%s.gif' % (target_number, datetime.datetime.now().strftime('%Y-%M-%d-%H-%M-%S'))\n",
        "folder_to_gif(folder_name, output_file)"
      ],
      "execution_count": 0,
      "outputs": []
    },
    {
      "metadata": {
        "id": "p-oZNzuqpSfr",
        "colab_type": "text"
      },
      "cell_type": "markdown",
      "source": [
        "### Результат работы генератора"
      ]
    },
    {
      "metadata": {
        "id": "5l7oGukRe28v",
        "colab_type": "code",
        "outputId": "b69dc4ee-4607-488d-906f-956a996b814d",
        "colab": {
          "base_uri": "https://localhost:8080/",
          "height": 430
        }
      },
      "cell_type": "code",
      "source": [
        "last_file = \"%s/%s.png\" % (folder_name, epochs)\n",
        "print(last_file)\n",
        "\n",
        "with open(last_file,'rb') as f:\n",
        "    display(Image(data=f.read(), format='png'))"
      ],
      "execution_count": 0,
      "outputs": [
        {
          "output_type": "stream",
          "text": [
            "gen_4/10000.png\n"
          ],
          "name": "stdout"
        },
        {
          "output_type": "display_data",
          "data": {
            "image/png": "[encoded data removed]",
            "text/plain": [
              "<IPython.core.display.Image object>"
            ]
          },
          "metadata": {
            "tags": []
          }
        }
      ]
    }
  ]
}