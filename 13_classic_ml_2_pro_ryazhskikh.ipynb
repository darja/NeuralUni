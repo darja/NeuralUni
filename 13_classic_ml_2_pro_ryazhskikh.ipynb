{
  "nbformat": 4,
  "nbformat_minor": 0,
  "metadata": {
    "colab": {
      "name": "13_classic_ml_2_pro_ryazhskikh.ipynb",
      "version": "0.3.2",
      "provenance": [],
      "collapsed_sections": [
        "AmFrcOVp4wIb"
      ],
      "toc_visible": true,
      "include_colab_link": true
    },
    "kernelspec": {
      "name": "python3",
      "display_name": "Python 3"
    },
    "accelerator": "GPU"
  },
  "cells": [
    {
      "cell_type": "markdown",
      "metadata": {
        "id": "view-in-github",
        "colab_type": "text"
      },
      "source": [
        "<a href=\"https://colab.research.google.com/github/darja/NeuralUni/blob/master/13_classic_ml_2_pro_ryazhskikh.ipynb\" target=\"_parent\"><img src=\"https://colab.research.google.com/assets/colab-badge.svg\" alt=\"Open In Colab\"/></a>"
      ]
    },
    {
      "cell_type": "markdown",
      "metadata": {
        "id": "d8QOOlzOMFxc",
        "colab_type": "text"
      },
      "source": [
        "# Классическое машинное обучение: признаки для разных типов данных\n",
        "\n",
        "* Сделать классификатор открытый - закрытый глаз с помощью признаков для изображения. \n",
        "* Для зарузки файлов eyes_test.npz и eyes_train.npz использовать копию ноутбука dz_ml2_eyes.ipynb \n",
        "* [База](https://www.dropbox.com/s/bm1u6lkx6owy2fk/eyes.zip?dl=0)\n",
        "* [Ноутбук](https://colab.research.google.com/drive/1AVbY3qihYa79B4O_jSg8xRBMjWhP6T43)\n",
        "* В качестве признаков рекомендуется использовать одновременно HoG и LBP.\n",
        "* Сам алгоритм может быть такой же, как в предыдущем домашнем задании для классического машинного обучения про классификатор лицо-не лицо. Только вместо интенсивностей используются признаки. Для одновременного использования признаков HoG и LBP можно сделать отдельно методы главных компонент для каждого типа признаков, сконкатенировать преобразованные признаки в один вектор и затем запускать классификатор, например SVM.\n",
        "* В отчет - описание построенного классификатора и ошибки первого и второго рода, accuracy.\n",
        "* Опционально - прогнать полученный алгоритм на базе лицо-не лицо\n",
        "* Опционально - обучить сверточную сеть классифицировать открытый - закрытый глаз, лицо - не лицо."
      ]
    },
    {
      "cell_type": "markdown",
      "metadata": {
        "id": "8amut6iPMPCa",
        "colab_type": "text"
      },
      "source": [
        "# Подготовка окружения"
      ]
    },
    {
      "cell_type": "code",
      "metadata": {
        "id": "1esaRMNLMgyi",
        "colab_type": "code",
        "colab": {}
      },
      "source": [
        "import numpy as np\n",
        "import matplotlib.pyplot as plt\n",
        "\n",
        "from skimage.feature import hog, local_binary_pattern\n",
        "from skimage import data, color, exposure\n",
        "\n",
        "from sklearn.svm import SVC\n",
        "from sklearn.decomposition import PCA\n",
        "from sklearn.ensemble import AdaBoostClassifier\n",
        "from sklearn.tree import DecisionTreeClassifier\n",
        "\n",
        "from sklearn import metrics\n",
        "\n",
        "import pandas as pd"
      ],
      "execution_count": 0,
      "outputs": []
    },
    {
      "cell_type": "markdown",
      "metadata": {
        "id": "v2dn2mkNsrHt",
        "colab_type": "text"
      },
      "source": [
        "## Чтение базы"
      ]
    },
    {
      "cell_type": "markdown",
      "metadata": {
        "id": "kzcLUTSVtI7P",
        "colab_type": "text"
      },
      "source": [
        "### Подключение Google Drive"
      ]
    },
    {
      "cell_type": "code",
      "metadata": {
        "id": "ZgOHWoU3tAkD",
        "colab_type": "code",
        "outputId": "19d8e7bf-dc4a-4eaf-daa3-6aebefc336a1",
        "colab": {
          "base_uri": "https://localhost:8080/",
          "height": 122
        }
      },
      "source": [
        "from google.colab import drive\n",
        "drive.mount('/content/gdrive')"
      ],
      "execution_count": 0,
      "outputs": [
        {
          "output_type": "stream",
          "text": [
            "Go to this URL in a browser: https://accounts.google.com/o/oauth2/auth?client_id=947318989803-6bn6qk8qdgf4n4g3pfee6491hc0brc4i.apps.googleusercontent.com&redirect_uri=urn%3Aietf%3Awg%3Aoauth%3A2.0%3Aoob&scope=email%20https%3A%2F%2Fwww.googleapis.com%2Fauth%2Fdocs.test%20https%3A%2F%2Fwww.googleapis.com%2Fauth%2Fdrive%20https%3A%2F%2Fwww.googleapis.com%2Fauth%2Fdrive.photos.readonly%20https%3A%2F%2Fwww.googleapis.com%2Fauth%2Fpeopleapi.readonly&response_type=code\n",
            "\n",
            "Enter your authorization code:\n",
            "··········\n",
            "Mounted at /content/gdrive\n"
          ],
          "name": "stdout"
        }
      ]
    },
    {
      "cell_type": "markdown",
      "metadata": {
        "id": "DobEk2y1tMx2",
        "colab_type": "text"
      },
      "source": [
        "### Распаковка базы"
      ]
    },
    {
      "cell_type": "code",
      "metadata": {
        "id": "jXW4Ywl6tTHl",
        "colab_type": "code",
        "outputId": "3efbc2be-2b9c-40e7-d536-e26d4e4f8f5b",
        "colab": {
          "base_uri": "https://localhost:8080/",
          "height": 68
        }
      },
      "source": [
        "!cp /content/gdrive/'My Drive'/neural/eyes.zip eyes.zip\n",
        "!unzip eyes.zip"
      ],
      "execution_count": 0,
      "outputs": [
        {
          "output_type": "stream",
          "text": [
            "Archive:  eyes.zip\n",
            "  inflating: eyes_test.npz           \n",
            "  inflating: eyes_train.npz          \n"
          ],
          "name": "stdout"
        }
      ]
    },
    {
      "cell_type": "markdown",
      "metadata": {
        "id": "05PQtQJ3toAM",
        "colab_type": "text"
      },
      "source": [
        "### Чтение файлов"
      ]
    },
    {
      "cell_type": "code",
      "metadata": {
        "id": "6_YN5n2gtp-m",
        "colab_type": "code",
        "colab": {}
      },
      "source": [
        "data = np.load('eyes_train.npz')\n",
        "train_images = data[\"images\"]\n",
        "train_labels = data[\"labels\"]\n",
        "\n",
        "data = np.load('eyes_test.npz')\n",
        "test_images = data[\"images\"]\n",
        "test_labels = data[\"labels\"]"
      ],
      "execution_count": 0,
      "outputs": []
    },
    {
      "cell_type": "code",
      "metadata": {
        "id": "PfkBCm1guvKQ",
        "colab_type": "code",
        "outputId": "dc8e755d-c319-4b9b-cb41-f66d35a8b2c3",
        "colab": {
          "base_uri": "https://localhost:8080/",
          "height": 102
        }
      },
      "source": [
        "print(\"Train set: %s, labels: %s\" % (train_images.shape, train_labels.shape))\n",
        "print(\"Train labels: %s open, %s closed\" % (sum(train_labels==1), sum(train_labels==0)))\n",
        "print(\"\\nTest set: %s, labels: %s\" % (test_images.shape, test_labels.shape))\n",
        "print(\"Test labels: %s open, %s closed\" % (sum(test_labels==1), sum(test_labels==0)))\n"
      ],
      "execution_count": 0,
      "outputs": [
        {
          "output_type": "stream",
          "text": [
            "Train set: (3200, 24, 24), labels: (3200,)\n",
            "Train labels: 1629 open, 1571 closed\n",
            "\n",
            "Test set: (800, 24, 24), labels: (800,)\n",
            "Test labels: 409 open, 391 closed\n"
          ],
          "name": "stdout"
        }
      ]
    },
    {
      "cell_type": "markdown",
      "metadata": {
        "id": "u4cl_VSuHJAd",
        "colab_type": "text"
      },
      "source": [
        "# Подготовка данных для классификатора"
      ]
    },
    {
      "cell_type": "markdown",
      "metadata": {
        "id": "Dnsb2bcwPJeX",
        "colab_type": "text"
      },
      "source": [
        "## Подготовка HOG-дескрипторов"
      ]
    },
    {
      "cell_type": "markdown",
      "metadata": {
        "id": "sonuVZyh_ylv",
        "colab_type": "text"
      },
      "source": [
        "### Чтение HoG-дескрипторов"
      ]
    },
    {
      "cell_type": "code",
      "metadata": {
        "id": "x7ieY2_lys9W",
        "colab_type": "code",
        "outputId": "e3d3ae01-a8dc-45e8-cfb1-6680506f5be3",
        "colab": {
          "base_uri": "https://localhost:8080/",
          "height": 51
        }
      },
      "source": [
        "to_hog = lambda image: hog(image, orientations=8, pixels_per_cell=(3, 3), cells_per_block=(1, 1), block_norm=\"L1\", visualize=False)\n",
        "\n",
        "# Train set\n",
        "train_hog_raw = []\n",
        "for img in train_images:\n",
        "    train_hog_raw.append(to_hog(img))\n",
        "train_hog_raw = np.array(train_hog_raw)\n",
        "print(\"Train set hog descriptors: \", train_hog_raw.shape)\n",
        "\n",
        "test_hog_raw = []\n",
        "for img in test_images:\n",
        "    test_hog_raw.append(to_hog(img))\n",
        "test_hog_raw = np.array(test_hog_raw)\n",
        "print(\"Test set hog descriptors: \", test_hog_raw.shape)\n"
      ],
      "execution_count": 0,
      "outputs": [
        {
          "output_type": "stream",
          "text": [
            "Train set hog descriptors:  (3200, 512)\n",
            "Test set hog descriptors:  (800, 512)\n"
          ],
          "name": "stdout"
        }
      ]
    },
    {
      "cell_type": "markdown",
      "metadata": {
        "id": "AmFrcOVp4wIb",
        "colab_type": "text"
      },
      "source": [
        "#### Что не так с этим np.vectorize?"
      ]
    },
    {
      "cell_type": "code",
      "metadata": {
        "id": "DbhX8fyicqfO",
        "colab_type": "code",
        "colab": {}
      },
      "source": [
        "# почему не работает через vectorize?\n",
        "hog_vec = np.vectorize(lambda image: hog(image, orientations=8, pixels_per_cell=(3, 3), cells_per_block=(1, 1), block_norm=\"L1\", visualize=False), otypes=[np.ndarray])\n",
        "\n",
        "test_images_hog = hog_vec(test_images)"
      ],
      "execution_count": 0,
      "outputs": []
    },
    {
      "cell_type": "code",
      "metadata": {
        "id": "Yw5zqHRc1Fcd",
        "colab_type": "code",
        "outputId": "ba5936da-b782-47ab-86f8-92ae27ccada9",
        "colab": {
          "base_uri": "https://localhost:8080/",
          "height": 34
        }
      },
      "source": [
        "test_images_hog.shape"
      ],
      "execution_count": 0,
      "outputs": [
        {
          "output_type": "execute_result",
          "data": {
            "text/plain": [
              "(800, 24, 24)"
            ]
          },
          "metadata": {
            "tags": []
          },
          "execution_count": 41
        }
      ]
    },
    {
      "cell_type": "code",
      "metadata": {
        "id": "W0zxxGxt0qno",
        "colab_type": "code",
        "outputId": "bf1631c3-8bc8-4d69-a273-f9417cce2793",
        "colab": {
          "base_uri": "https://localhost:8080/",
          "height": 2091
        }
      },
      "source": [
        "test_images_hog"
      ],
      "execution_count": 0,
      "outputs": [
        {
          "output_type": "execute_result",
          "data": {
            "text/plain": [
              "array([[[array([], dtype=float64), array([], dtype=float64),\n",
              "         array([], dtype=float64), ..., array([], dtype=float64),\n",
              "         array([], dtype=float64), array([], dtype=float64)],\n",
              "        [array([], dtype=float64), array([], dtype=float64),\n",
              "         array([], dtype=float64), ..., array([], dtype=float64),\n",
              "         array([], dtype=float64), array([], dtype=float64)],\n",
              "        [array([], dtype=float64), array([], dtype=float64),\n",
              "         array([], dtype=float64), ..., array([], dtype=float64),\n",
              "         array([], dtype=float64), array([], dtype=float64)],\n",
              "        ...,\n",
              "        [array([], dtype=float64), array([], dtype=float64),\n",
              "         array([], dtype=float64), ..., array([], dtype=float64),\n",
              "         array([], dtype=float64), array([], dtype=float64)],\n",
              "        [array([], dtype=float64), array([], dtype=float64),\n",
              "         array([], dtype=float64), ..., array([], dtype=float64),\n",
              "         array([], dtype=float64), array([], dtype=float64)],\n",
              "        [array([], dtype=float64), array([], dtype=float64),\n",
              "         array([], dtype=float64), ..., array([], dtype=float64),\n",
              "         array([], dtype=float64), array([], dtype=float64)]],\n",
              "\n",
              "       [[array([], dtype=float64), array([], dtype=float64),\n",
              "         array([], dtype=float64), ..., array([], dtype=float64),\n",
              "         array([], dtype=float64), array([], dtype=float64)],\n",
              "        [array([], dtype=float64), array([], dtype=float64),\n",
              "         array([], dtype=float64), ..., array([], dtype=float64),\n",
              "         array([], dtype=float64), array([], dtype=float64)],\n",
              "        [array([], dtype=float64), array([], dtype=float64),\n",
              "         array([], dtype=float64), ..., array([], dtype=float64),\n",
              "         array([], dtype=float64), array([], dtype=float64)],\n",
              "        ...,\n",
              "        [array([], dtype=float64), array([], dtype=float64),\n",
              "         array([], dtype=float64), ..., array([], dtype=float64),\n",
              "         array([], dtype=float64), array([], dtype=float64)],\n",
              "        [array([], dtype=float64), array([], dtype=float64),\n",
              "         array([], dtype=float64), ..., array([], dtype=float64),\n",
              "         array([], dtype=float64), array([], dtype=float64)],\n",
              "        [array([], dtype=float64), array([], dtype=float64),\n",
              "         array([], dtype=float64), ..., array([], dtype=float64),\n",
              "         array([], dtype=float64), array([], dtype=float64)]],\n",
              "\n",
              "       [[array([], dtype=float64), array([], dtype=float64),\n",
              "         array([], dtype=float64), ..., array([], dtype=float64),\n",
              "         array([], dtype=float64), array([], dtype=float64)],\n",
              "        [array([], dtype=float64), array([], dtype=float64),\n",
              "         array([], dtype=float64), ..., array([], dtype=float64),\n",
              "         array([], dtype=float64), array([], dtype=float64)],\n",
              "        [array([], dtype=float64), array([], dtype=float64),\n",
              "         array([], dtype=float64), ..., array([], dtype=float64),\n",
              "         array([], dtype=float64), array([], dtype=float64)],\n",
              "        ...,\n",
              "        [array([], dtype=float64), array([], dtype=float64),\n",
              "         array([], dtype=float64), ..., array([], dtype=float64),\n",
              "         array([], dtype=float64), array([], dtype=float64)],\n",
              "        [array([], dtype=float64), array([], dtype=float64),\n",
              "         array([], dtype=float64), ..., array([], dtype=float64),\n",
              "         array([], dtype=float64), array([], dtype=float64)],\n",
              "        [array([], dtype=float64), array([], dtype=float64),\n",
              "         array([], dtype=float64), ..., array([], dtype=float64),\n",
              "         array([], dtype=float64), array([], dtype=float64)]],\n",
              "\n",
              "       ...,\n",
              "\n",
              "       [[array([], dtype=float64), array([], dtype=float64),\n",
              "         array([], dtype=float64), ..., array([], dtype=float64),\n",
              "         array([], dtype=float64), array([], dtype=float64)],\n",
              "        [array([], dtype=float64), array([], dtype=float64),\n",
              "         array([], dtype=float64), ..., array([], dtype=float64),\n",
              "         array([], dtype=float64), array([], dtype=float64)],\n",
              "        [array([], dtype=float64), array([], dtype=float64),\n",
              "         array([], dtype=float64), ..., array([], dtype=float64),\n",
              "         array([], dtype=float64), array([], dtype=float64)],\n",
              "        ...,\n",
              "        [array([], dtype=float64), array([], dtype=float64),\n",
              "         array([], dtype=float64), ..., array([], dtype=float64),\n",
              "         array([], dtype=float64), array([], dtype=float64)],\n",
              "        [array([], dtype=float64), array([], dtype=float64),\n",
              "         array([], dtype=float64), ..., array([], dtype=float64),\n",
              "         array([], dtype=float64), array([], dtype=float64)],\n",
              "        [array([], dtype=float64), array([], dtype=float64),\n",
              "         array([], dtype=float64), ..., array([], dtype=float64),\n",
              "         array([], dtype=float64), array([], dtype=float64)]],\n",
              "\n",
              "       [[array([], dtype=float64), array([], dtype=float64),\n",
              "         array([], dtype=float64), ..., array([], dtype=float64),\n",
              "         array([], dtype=float64), array([], dtype=float64)],\n",
              "        [array([], dtype=float64), array([], dtype=float64),\n",
              "         array([], dtype=float64), ..., array([], dtype=float64),\n",
              "         array([], dtype=float64), array([], dtype=float64)],\n",
              "        [array([], dtype=float64), array([], dtype=float64),\n",
              "         array([], dtype=float64), ..., array([], dtype=float64),\n",
              "         array([], dtype=float64), array([], dtype=float64)],\n",
              "        ...,\n",
              "        [array([], dtype=float64), array([], dtype=float64),\n",
              "         array([], dtype=float64), ..., array([], dtype=float64),\n",
              "         array([], dtype=float64), array([], dtype=float64)],\n",
              "        [array([], dtype=float64), array([], dtype=float64),\n",
              "         array([], dtype=float64), ..., array([], dtype=float64),\n",
              "         array([], dtype=float64), array([], dtype=float64)],\n",
              "        [array([], dtype=float64), array([], dtype=float64),\n",
              "         array([], dtype=float64), ..., array([], dtype=float64),\n",
              "         array([], dtype=float64), array([], dtype=float64)]],\n",
              "\n",
              "       [[array([], dtype=float64), array([], dtype=float64),\n",
              "         array([], dtype=float64), ..., array([], dtype=float64),\n",
              "         array([], dtype=float64), array([], dtype=float64)],\n",
              "        [array([], dtype=float64), array([], dtype=float64),\n",
              "         array([], dtype=float64), ..., array([], dtype=float64),\n",
              "         array([], dtype=float64), array([], dtype=float64)],\n",
              "        [array([], dtype=float64), array([], dtype=float64),\n",
              "         array([], dtype=float64), ..., array([], dtype=float64),\n",
              "         array([], dtype=float64), array([], dtype=float64)],\n",
              "        ...,\n",
              "        [array([], dtype=float64), array([], dtype=float64),\n",
              "         array([], dtype=float64), ..., array([], dtype=float64),\n",
              "         array([], dtype=float64), array([], dtype=float64)],\n",
              "        [array([], dtype=float64), array([], dtype=float64),\n",
              "         array([], dtype=float64), ..., array([], dtype=float64),\n",
              "         array([], dtype=float64), array([], dtype=float64)],\n",
              "        [array([], dtype=float64), array([], dtype=float64),\n",
              "         array([], dtype=float64), ..., array([], dtype=float64),\n",
              "         array([], dtype=float64), array([], dtype=float64)]]],\n",
              "      dtype=object)"
            ]
          },
          "metadata": {
            "tags": []
          },
          "execution_count": 40
        }
      ]
    },
    {
      "cell_type": "markdown",
      "metadata": {
        "id": "wAvW3gyvOQtq",
        "colab_type": "text"
      },
      "source": [
        "### Нормализация"
      ]
    },
    {
      "cell_type": "code",
      "metadata": {
        "id": "RlhqizGjOaJR",
        "colab_type": "code",
        "outputId": "e4ca7487-4a66-46cf-b649-03ff1093b8f1",
        "colab": {
          "base_uri": "https://localhost:8080/",
          "height": 34
        }
      },
      "source": [
        "hog_mean = train_hog_raw.mean(0)\n",
        "hog_std = train_hog_raw.std(0)\n",
        "train_hog = np.zeros_like(train_hog_raw)\n",
        "for i in range(0, train_hog_raw.shape[0]):\n",
        "    train_hog[i,:]= (train_hog_raw[i,:] - hog_mean) / hog_std\n",
        "print(\"Normalized hog descriptors: \", train_hog.shape)\n"
      ],
      "execution_count": 0,
      "outputs": [
        {
          "output_type": "stream",
          "text": [
            "Normalized hog descriptors:  (3200, 512)\n"
          ],
          "name": "stdout"
        }
      ]
    },
    {
      "cell_type": "markdown",
      "metadata": {
        "id": "lXPJAzCL_tyn",
        "colab_type": "text"
      },
      "source": [
        "### Выделение главных компонентов"
      ]
    },
    {
      "cell_type": "code",
      "metadata": {
        "id": "CMPTVDkiACR1",
        "colab_type": "code",
        "outputId": "8672575e-e88c-412c-aaa3-00f411f6393b",
        "colab": {
          "base_uri": "https://localhost:8080/",
          "height": 401
        }
      },
      "source": [
        "flen = train_hog.shape[1]\n",
        "print(flen)\n",
        "\n",
        "pca = PCA(n_components=flen)\n",
        "pca.fit(train_hog)\n",
        "\n",
        "plt.figure(figsize=(20, 5))\n",
        "plt.bar(np.arange(1,flen+1), pca.explained_variance_ratio_)\n",
        "plt.ylabel(\"Variance ratio\")\n",
        "plt.xlabel(\"PC number\")\n",
        "plt.title(\"PCA all data\")\n",
        "\n",
        "pca = PCA(n_components=450)\n",
        "pca.fit(train_hog)\n",
        "\n",
        "#преобразуем обучающую выборку\n",
        "print(\"Original train set:\", train_hog.shape)\n",
        "train_hog_pca = pca.transform(train_hog)\n",
        "print(\"Transformed train set:\", train_hog_pca.shape)"
      ],
      "execution_count": 0,
      "outputs": [
        {
          "output_type": "stream",
          "text": [
            "512\n",
            "Original train set: (3200, 512)\n",
            "Transformed train set: (3200, 450)\n"
          ],
          "name": "stdout"
        },
        {
          "output_type": "display_data",
          "data": {
            "image/png": "[encoded data removed]",
            "text/plain": [
              "<Figure size 1440x360 with 1 Axes>"
            ]
          },
          "metadata": {
            "tags": []
          }
        }
      ]
    },
    {
      "cell_type": "markdown",
      "metadata": {
        "id": "hFH7z0kJPoGA",
        "colab_type": "text"
      },
      "source": [
        "### Преобразование тестового набора"
      ]
    },
    {
      "cell_type": "code",
      "metadata": {
        "id": "DFImlbRJPyEu",
        "colab_type": "code",
        "outputId": "7cbce77e-aee4-4db4-ff02-e50e2d180f7e",
        "colab": {
          "base_uri": "https://localhost:8080/",
          "height": 68
        }
      },
      "source": [
        "test_hog = np.zeros_like(test_hog_raw)\n",
        "for i in range(0, test_hog_raw.shape[0]):\n",
        "    test_hog[i,:]= (test_hog_raw[i,:] - hog_mean) / hog_std\n",
        "print(test_hog.shape)\n",
        "\n",
        "print(\"Original test set:\", test_hog.shape)\n",
        "test_hog_pca = pca.transform(test_hog)\n",
        "print(\"Transformed test set:\", test_hog_pca.shape)"
      ],
      "execution_count": 0,
      "outputs": [
        {
          "output_type": "stream",
          "text": [
            "(800, 512)\n",
            "Original test set: (800, 512)\n",
            "Transformed test set: (800, 450)\n"
          ],
          "name": "stdout"
        }
      ]
    },
    {
      "cell_type": "markdown",
      "metadata": {
        "id": "b8qjyrBE7i91",
        "colab_type": "text"
      },
      "source": [
        "## Подготовка LBP"
      ]
    },
    {
      "cell_type": "markdown",
      "metadata": {
        "id": "g-JPzC1RFDWS",
        "colab_type": "text"
      },
      "source": [
        "### Чтение LBP"
      ]
    },
    {
      "cell_type": "code",
      "metadata": {
        "id": "jAACQAyvFHCO",
        "colab_type": "code",
        "outputId": "c0cebc87-006c-4244-cb3e-8ae01910bfee",
        "colab": {
          "base_uri": "https://localhost:8080/",
          "height": 51
        }
      },
      "source": [
        "radius = 3\n",
        "n_points = 8 * radius\n",
        "\n",
        "lbp = lambda image: local_binary_pattern(image, n_points, radius)\n",
        "\n",
        "# Train set\n",
        "train_lbp_raw = []\n",
        "for img in train_images:\n",
        "    train_lbp_raw.append(lbp(img).ravel())\n",
        "train_lbp_raw = np.array(train_lbp_raw)\n",
        "print(\"Train set lbp: \", train_lbp_raw.shape)\n",
        "\n",
        "test_lbp_raw = []\n",
        "for img in test_images:\n",
        "    test_lbp_raw.append(lbp(img).ravel())\n",
        "test_lbp_raw = np.array(test_lbp_raw)\n",
        "print(\"Test set lbp: \", test_lbp_raw.shape)\n"
      ],
      "execution_count": 0,
      "outputs": [
        {
          "output_type": "stream",
          "text": [
            "Train set lbp:  (3200, 576)\n",
            "Test set lbp:  (800, 576)\n"
          ],
          "name": "stdout"
        }
      ]
    },
    {
      "cell_type": "markdown",
      "metadata": {
        "id": "j3PBNqBbMVZx",
        "colab_type": "text"
      },
      "source": [
        "### Нормализация"
      ]
    },
    {
      "cell_type": "code",
      "metadata": {
        "id": "vKBVxi6nMY51",
        "colab_type": "code",
        "colab": {}
      },
      "source": [
        "lbp_mean = train_lbp_raw.mean(0)\n",
        "lbp_std = train_lbp_raw.std(0)\n",
        "train_lbp = np.zeros_like(train_lbp_raw)\n",
        "for i in range(0,train_lbp_raw.shape[0]):\n",
        "    train_lbp[i,:]= (train_lbp_raw[i,:] - lbp_mean) / lbp_std"
      ],
      "execution_count": 0,
      "outputs": []
    },
    {
      "cell_type": "markdown",
      "metadata": {
        "id": "cRZstvynF1ss",
        "colab_type": "text"
      },
      "source": [
        "### Выделение главных компонентов"
      ]
    },
    {
      "cell_type": "code",
      "metadata": {
        "id": "yHFv2glaF20b",
        "colab_type": "code",
        "outputId": "29458665-08fb-44af-d1ed-e878310e5eb4",
        "colab": {
          "base_uri": "https://localhost:8080/",
          "height": 367
        }
      },
      "source": [
        "flen = train_lbp.shape[1]\n",
        "\n",
        "pca = PCA(n_components=flen)\n",
        "pca.fit(train_lbp)\n",
        "\n",
        "plt.figure(figsize=(20, 5))\n",
        "plt.bar(np.arange(1, flen+1), pca.explained_variance_ratio_)\n",
        "plt.ylabel(\"Variance ratio\")\n",
        "plt.xlabel(\"PC number\")\n",
        "plt.title(\"PCA all data\")\n",
        "\n",
        "pca = PCA(n_components=200)\n",
        "pca.fit(train_lbp)\n",
        "\n",
        "#преобразуем обучающую выборку\n",
        "train_lbp_pca = pca.transform(train_lbp)\n",
        "print(\"Transformed train set:\", train_lbp_pca.shape)"
      ],
      "execution_count": 0,
      "outputs": [
        {
          "output_type": "stream",
          "text": [
            "Transformed train set: (3200, 200)\n"
          ],
          "name": "stdout"
        },
        {
          "output_type": "display_data",
          "data": {
            "image/png": "[encoded data removed]",
            "text/plain": [
              "<Figure size 1440x360 with 1 Axes>"
            ]
          },
          "metadata": {
            "tags": []
          }
        }
      ]
    },
    {
      "cell_type": "markdown",
      "metadata": {
        "id": "3QxldIrBNZTf",
        "colab_type": "text"
      },
      "source": [
        "#### Преобразование тестового набора"
      ]
    },
    {
      "cell_type": "code",
      "metadata": {
        "id": "BwFS4CG3NeW8",
        "colab_type": "code",
        "outputId": "1a116d82-69e8-4cfe-b224-b9424f65cff5",
        "colab": {
          "base_uri": "https://localhost:8080/",
          "height": 51
        }
      },
      "source": [
        "test_lbp = np.zeros_like(test_lbp_raw)\n",
        "for i in range(0, test_lbp_raw.shape[0]):\n",
        "    test_lbp[i,:]= (test_lbp_raw[i,:] - lbp_mean) / lbp_std\n",
        "\n",
        "print(\"Original test set:\", test_lbp.shape)\n",
        "test_lbp_pca = pca.transform(test_lbp)\n",
        "print(\"Transformed test set:\", test_lbp_pca.shape)"
      ],
      "execution_count": 0,
      "outputs": [
        {
          "output_type": "stream",
          "text": [
            "Original test set: (800, 576)\n",
            "Transformed test set: (800, 200)\n"
          ],
          "name": "stdout"
        }
      ]
    },
    {
      "cell_type": "markdown",
      "metadata": {
        "id": "8ko4m09kHaQ_",
        "colab_type": "text"
      },
      "source": [
        "## Объединение HoG- и LBP-компонентов"
      ]
    },
    {
      "cell_type": "code",
      "metadata": {
        "id": "RU0q3m5EHmp-",
        "colab_type": "code",
        "outputId": "f5791533-9579-4121-e19a-9d035fa9c4f0",
        "colab": {
          "base_uri": "https://localhost:8080/",
          "height": 187
        }
      },
      "source": [
        "def union_features(im_hog, im_lbp):\n",
        "    train_set = []\n",
        "    for i in range(0, im_hog.shape[0]):\n",
        "        train_set.append(np.append(im_hog[i], im_lbp[i]))\n",
        "    train_set = np.array(train_set)\n",
        "    return train_set\n",
        "    \n",
        "\n",
        "train_combined_pca = union_features(train_hog_pca, train_lbp_pca)\n",
        "print(\"Train data\\n\\tHoG: %s\\n\\tLBP: %s\\n\\tCombined: %s\" % (train_hog_pca.shape, train_lbp_pca.shape, train_combined_pca.shape))\n",
        "\n",
        "test_combined_pca = union_features(test_hog_pca, test_lbp_pca)\n",
        "print(\"\\n\\nTrain data\\n\\tHoG: %s\\n\\tLBP: %s\\n\\tCombined: %s\" % (test_hog_pca.shape, test_lbp_pca.shape, test_combined_pca.shape))\n"
      ],
      "execution_count": 0,
      "outputs": [
        {
          "output_type": "stream",
          "text": [
            "Train data\n",
            "\tHoG: (3200, 450)\n",
            "\tLBP: (3200, 200)\n",
            "\tCombined: (3200, 650)\n",
            "\n",
            "\n",
            "Train data\n",
            "\tHoG: (800, 450)\n",
            "\tLBP: (800, 200)\n",
            "\tCombined: (800, 650)\n"
          ],
          "name": "stdout"
        }
      ]
    },
    {
      "cell_type": "markdown",
      "metadata": {
        "id": "Lwf55t5p0BAO",
        "colab_type": "text"
      },
      "source": [
        "# Классификация"
      ]
    },
    {
      "cell_type": "markdown",
      "metadata": {
        "id": "9ASxSLX_0Tr2",
        "colab_type": "text"
      },
      "source": [
        "## Утилиты"
      ]
    },
    {
      "cell_type": "code",
      "metadata": {
        "id": "aTSYMJ7c0V_D",
        "colab_type": "code",
        "colab": {}
      },
      "source": [
        "#вычисление ошибок первого и второго рода\n",
        "def calculate_errors(expected, predicted):    \n",
        "    acc = metrics.accuracy_score(expected, predicted)\n",
        "    FP = sum((expected == 0) & (predicted == 1))\n",
        "    FN = sum((expected == 1) & (predicted == 0))\n",
        "    TP = sum((expected == 1) & (predicted == 1))\n",
        "    TN = sum((expected == 0) & (predicted == 0))\n",
        "    FPR = FP / (FP + TN)\n",
        "    FNR = FN / (TP + FN)\n",
        "    return (FPR, FNR, acc)\n",
        "\n",
        "def print_errors(expected, predicted):    \n",
        "    FPR, FNR, acc = calculate_errors(expected, predicted)\n",
        "    print(\"Accuracy:\", acc)\n",
        "    print('ERR1 ', FPR)\n",
        "    print('ERR2 ', FNR)\n",
        "    return (FPR, FNR, acc)\n",
        "\n",
        "def fit_and_predict(classifier, classifier_name, dataset_name, train_set, test_set, result_accum):\n",
        "    classifier.fit(train_set, train_labels)\n",
        "\n",
        "    predicted = classifier.predict(test_set)\n",
        "    FPR, FNR, acc = calculate_errors(test_labels, predicted)    \n",
        "    result_accum = result_accum.append({\"Classifier\": classifier_name, \"Dataset\": dataset_name, \"FPR\": FPR, \"FNR\": FNR, \"TFR\": FPR + FNR, \"Accuracy\": acc}, ignore_index=True)\n",
        "    return result_accum\n",
        "    \n",
        "def fit_and_predict_all_datasets(create_classifier, classifier_string, result_accum, verbose = False):\n",
        "    if verbose:\n",
        "        print(\"Performing HoG classification\")\n",
        "    result_accum = fit_and_predict(create_classifier(), classifier_string, \"HoG only\", train_hog, test_hog, result_accum)\n",
        "\n",
        "    if verbose:\n",
        "        print(\"Performing HoG PCA classification\")\n",
        "    result_accum = fit_and_predict(create_classifier(), classifier_string, \"HoG PCA\", train_hog_pca, test_hog_pca, result_accum)\n",
        "\n",
        "    if verbose:\n",
        "        print(\"Performing LBP classification\")\n",
        "    result_accum = fit_and_predict(create_classifier(), classifier_string, \"LBP only\", train_lbp, test_lbp, result_accum)\n",
        "\n",
        "    if verbose:\n",
        "        print(\"Performing LBP PCA classification\")\n",
        "    result_accum = fit_and_predict(create_classifier(), classifier_string, \"LBP PCA\", train_lbp_pca, test_lbp_pca, result_accum)\n",
        "    \n",
        "    if verbose:\n",
        "        print(\"Performing Combined HoG + LBP PCA classification\")\n",
        "    result_accum = fit_and_predict(create_classifier(), classifier_string, \"HoG PCA + LBP PCA\", train_combined_pca, test_combined_pca, result_accum)\n",
        "    return result_accum\n"
      ],
      "execution_count": 0,
      "outputs": []
    },
    {
      "cell_type": "markdown",
      "metadata": {
        "id": "yQN4lOmZ0Hk3",
        "colab_type": "text"
      },
      "source": [
        "## Классификация с помощью SVC"
      ]
    },
    {
      "cell_type": "code",
      "metadata": {
        "id": "nMWLeUl1CyNV",
        "colab_type": "code",
        "outputId": "b29e44dd-a6a8-42a1-97b1-b48de8fb70ff",
        "colab": {
          "base_uri": "https://localhost:8080/",
          "height": 102
        }
      },
      "source": [
        "result = pd.DataFrame(columns=['Classifier', 'Dataset', 'FPR', 'FNR', 'TFR', \"Accuracy\"])\n",
        "\n",
        "result = fit_and_predict_all_datasets(lambda: SVC(gamma=\"auto\"), \"Auto\", result, True)"
      ],
      "execution_count": 0,
      "outputs": [
        {
          "output_type": "stream",
          "text": [
            "Performing HoG classification\n",
            "Performing HoG PCA classification\n",
            "Performing LBP classification\n",
            "Performing LBP PCA classification\n",
            "Performing Combined HoG + LBP PCA classification\n"
          ],
          "name": "stdout"
        }
      ]
    },
    {
      "cell_type": "code",
      "metadata": {
        "id": "WmdmL2Y07HOV",
        "colab_type": "code",
        "outputId": "fa51f665-293a-4abf-b5e1-cb6d58192a12",
        "colab": {
          "base_uri": "https://localhost:8080/",
          "height": 204
        }
      },
      "source": [
        "result"
      ],
      "execution_count": 0,
      "outputs": [
        {
          "output_type": "execute_result",
          "data": {
            "text/html": [
              "<div>\n",
              "<style scoped>\n",
              "    .dataframe tbody tr th:only-of-type {\n",
              "        vertical-align: middle;\n",
              "    }\n",
              "\n",
              "    .dataframe tbody tr th {\n",
              "        vertical-align: top;\n",
              "    }\n",
              "\n",
              "    .dataframe thead th {\n",
              "        text-align: right;\n",
              "    }\n",
              "</style>\n",
              "<table border=\"1\" class=\"dataframe\">\n",
              "  <thead>\n",
              "    <tr style=\"text-align: right;\">\n",
              "      <th></th>\n",
              "      <th>Classifier</th>\n",
              "      <th>Dataset</th>\n",
              "      <th>FPR</th>\n",
              "      <th>FNR</th>\n",
              "      <th>TFR</th>\n",
              "      <th>Accuracy</th>\n",
              "    </tr>\n",
              "  </thead>\n",
              "  <tbody>\n",
              "    <tr>\n",
              "      <th>0</th>\n",
              "      <td>Auto</td>\n",
              "      <td>HoG only</td>\n",
              "      <td>0.056266</td>\n",
              "      <td>0.075795</td>\n",
              "      <td>0.132061</td>\n",
              "      <td>0.93375</td>\n",
              "    </tr>\n",
              "    <tr>\n",
              "      <th>1</th>\n",
              "      <td>Auto</td>\n",
              "      <td>HoG PCA</td>\n",
              "      <td>0.056266</td>\n",
              "      <td>0.075795</td>\n",
              "      <td>0.132061</td>\n",
              "      <td>0.93375</td>\n",
              "    </tr>\n",
              "    <tr>\n",
              "      <th>2</th>\n",
              "      <td>Auto</td>\n",
              "      <td>LBP only</td>\n",
              "      <td>0.058824</td>\n",
              "      <td>0.058680</td>\n",
              "      <td>0.117503</td>\n",
              "      <td>0.94125</td>\n",
              "    </tr>\n",
              "    <tr>\n",
              "      <th>3</th>\n",
              "      <td>Auto</td>\n",
              "      <td>LBP PCA</td>\n",
              "      <td>0.063939</td>\n",
              "      <td>0.056235</td>\n",
              "      <td>0.120173</td>\n",
              "      <td>0.94000</td>\n",
              "    </tr>\n",
              "    <tr>\n",
              "      <th>4</th>\n",
              "      <td>Auto</td>\n",
              "      <td>HoG PCA + LBP PCA</td>\n",
              "      <td>0.028133</td>\n",
              "      <td>0.051345</td>\n",
              "      <td>0.079478</td>\n",
              "      <td>0.96000</td>\n",
              "    </tr>\n",
              "  </tbody>\n",
              "</table>\n",
              "</div>"
            ],
            "text/plain": [
              "  Classifier            Dataset       FPR       FNR       TFR  Accuracy\n",
              "0       Auto           HoG only  0.056266  0.075795  0.132061   0.93375\n",
              "1       Auto            HoG PCA  0.056266  0.075795  0.132061   0.93375\n",
              "2       Auto           LBP only  0.058824  0.058680  0.117503   0.94125\n",
              "3       Auto            LBP PCA  0.063939  0.056235  0.120173   0.94000\n",
              "4       Auto  HoG PCA + LBP PCA  0.028133  0.051345  0.079478   0.96000"
            ]
          },
          "metadata": {
            "tags": []
          },
          "execution_count": 19
        }
      ]
    },
    {
      "cell_type": "markdown",
      "metadata": {
        "id": "mW7tmQDGAxJT",
        "colab_type": "text"
      },
      "source": [
        "## Подбор параметров"
      ]
    },
    {
      "cell_type": "code",
      "metadata": {
        "id": "RxLeq_v5F5hw",
        "colab_type": "code",
        "outputId": "260f1ddf-204d-4a67-fac0-de256fadb13c",
        "colab": {
          "base_uri": "https://localhost:8080/",
          "height": 34
        }
      },
      "source": [
        "gamma_range =  np.arange(1, 10)\n",
        "gamma_range"
      ],
      "execution_count": 0,
      "outputs": [
        {
          "output_type": "execute_result",
          "data": {
            "text/plain": [
              "array([1, 2, 3, 4, 5, 6, 7, 8, 9])"
            ]
          },
          "metadata": {
            "tags": []
          },
          "execution_count": 25
        }
      ]
    },
    {
      "cell_type": "code",
      "metadata": {
        "id": "NyxkCPFnbii3",
        "colab_type": "code",
        "outputId": "eca2a0bb-19d7-4577-a19a-689dd32c96d8",
        "colab": {
          "base_uri": "https://localhost:8080/",
          "height": 765
        }
      },
      "source": [
        "gamma_range = [1e-4, 5e-4, 1e-3, 5e-3, 1e-2, 5e-2, 0.5, 1, 1,5, 2]\n",
        "C_range = np.arange(1, 5)\n",
        "\n",
        "n_exp = len(gamma_range) * len(C_range)\n",
        "# FPR - False Positive Rate\n",
        "# FNR - False Negative Rate\n",
        "# TFR - Total False Rate\n",
        "result = pd.DataFrame(columns=['Classifier', 'Dataset', 'FPR', 'FNR', 'TFR', \"Accuracy\"])\n",
        "\n",
        "i = 1\n",
        "for gamma in gamma_range:\n",
        "    for C in C_range:\n",
        "        classifier_name = \"C=%s, gamma=%s\" % (C, gamma)\n",
        "        print(\"%s of %s: %s\" % (i, n_exp, classifier_name))\n",
        "        i += 1\n",
        "        result = fit_and_predict_all_datasets(lambda: SVC(C = C, gamma = gamma), classifier_name, result)\n"
      ],
      "execution_count": 0,
      "outputs": [
        {
          "output_type": "stream",
          "text": [
            "1 of 44: C=1, gamma=0.0001\n",
            "2 of 44: C=2, gamma=0.0001\n",
            "3 of 44: C=3, gamma=0.0001\n",
            "4 of 44: C=4, gamma=0.0001\n",
            "5 of 44: C=1, gamma=0.0005\n",
            "6 of 44: C=2, gamma=0.0005\n",
            "7 of 44: C=3, gamma=0.0005\n",
            "8 of 44: C=4, gamma=0.0005\n",
            "9 of 44: C=1, gamma=0.001\n",
            "10 of 44: C=2, gamma=0.001\n",
            "11 of 44: C=3, gamma=0.001\n",
            "12 of 44: C=4, gamma=0.001\n",
            "13 of 44: C=1, gamma=0.005\n",
            "14 of 44: C=2, gamma=0.005\n",
            "15 of 44: C=3, gamma=0.005\n",
            "16 of 44: C=4, gamma=0.005\n",
            "17 of 44: C=1, gamma=0.01\n",
            "18 of 44: C=2, gamma=0.01\n",
            "19 of 44: C=3, gamma=0.01\n",
            "20 of 44: C=4, gamma=0.01\n",
            "21 of 44: C=1, gamma=0.05\n",
            "22 of 44: C=2, gamma=0.05\n",
            "23 of 44: C=3, gamma=0.05\n",
            "24 of 44: C=4, gamma=0.05\n",
            "25 of 44: C=1, gamma=0.5\n",
            "26 of 44: C=2, gamma=0.5\n",
            "27 of 44: C=3, gamma=0.5\n",
            "28 of 44: C=4, gamma=0.5\n",
            "29 of 44: C=1, gamma=1\n",
            "30 of 44: C=2, gamma=1\n",
            "31 of 44: C=3, gamma=1\n",
            "32 of 44: C=4, gamma=1\n",
            "33 of 44: C=1, gamma=1\n",
            "34 of 44: C=2, gamma=1\n",
            "35 of 44: C=3, gamma=1\n",
            "36 of 44: C=4, gamma=1\n",
            "37 of 44: C=1, gamma=5\n",
            "38 of 44: C=2, gamma=5\n",
            "39 of 44: C=3, gamma=5\n",
            "40 of 44: C=4, gamma=5\n",
            "41 of 44: C=1, gamma=2\n",
            "42 of 44: C=2, gamma=2\n",
            "43 of 44: C=3, gamma=2\n",
            "44 of 44: C=4, gamma=2\n"
          ],
          "name": "stdout"
        }
      ]
    },
    {
      "cell_type": "markdown",
      "metadata": {
        "id": "rlt9mi8Y5Gfe",
        "colab_type": "text"
      },
      "source": [
        "### Gamma = Auto"
      ]
    },
    {
      "cell_type": "code",
      "metadata": {
        "id": "F_G8CKf85Atw",
        "colab_type": "code",
        "outputId": "e8ae004e-d797-4fb9-9ff2-f95e8154f918",
        "colab": {
          "base_uri": "https://localhost:8080/",
          "height": 85
        }
      },
      "source": [
        "i = 0\n",
        "n_auto = len(C_range)\n",
        "for C in C_range:\n",
        "    classifier_name = \"C=%s, gamma=Auto\" % C\n",
        "    print(\"%s of %s: %s\" % (i, n_auto, classifier_name))\n",
        "    i += 1\n",
        "    result = fit_and_predict_all_datasets(lambda: SVC(C = C, gamma = \"auto\"), classifier_name, result)\n"
      ],
      "execution_count": 0,
      "outputs": [
        {
          "output_type": "stream",
          "text": [
            "0 of 4: C=1, gamma=Auto\n",
            "1 of 4: C=2, gamma=Auto\n",
            "2 of 4: C=3, gamma=Auto\n",
            "3 of 4: C=4, gamma=Auto\n"
          ],
          "name": "stdout"
        }
      ]
    },
    {
      "cell_type": "markdown",
      "metadata": {
        "id": "10hX5Ev5GVpi",
        "colab_type": "text"
      },
      "source": [
        "### Лучшие результаты подбора"
      ]
    },
    {
      "cell_type": "code",
      "metadata": {
        "id": "hqBK2O2BxcZO",
        "colab_type": "code",
        "outputId": "7946b3cf-e023-4454-ba11-376e03686014",
        "colab": {
          "base_uri": "https://localhost:8080/",
          "height": 1969
        }
      },
      "source": [
        "result.sort_values(by=['TFR', 'FNR'])"
      ],
      "execution_count": 0,
      "outputs": [
        {
          "output_type": "execute_result",
          "data": {
            "text/html": [
              "<div>\n",
              "<style scoped>\n",
              "    .dataframe tbody tr th:only-of-type {\n",
              "        vertical-align: middle;\n",
              "    }\n",
              "\n",
              "    .dataframe tbody tr th {\n",
              "        vertical-align: top;\n",
              "    }\n",
              "\n",
              "    .dataframe thead th {\n",
              "        text-align: right;\n",
              "    }\n",
              "</style>\n",
              "<table border=\"1\" class=\"dataframe\">\n",
              "  <thead>\n",
              "    <tr style=\"text-align: right;\">\n",
              "      <th></th>\n",
              "      <th>Classifier</th>\n",
              "      <th>Dataset</th>\n",
              "      <th>FPR</th>\n",
              "      <th>FNR</th>\n",
              "      <th>TFR</th>\n",
              "      <th>Accuracy</th>\n",
              "    </tr>\n",
              "  </thead>\n",
              "  <tbody>\n",
              "    <tr>\n",
              "      <th>224</th>\n",
              "      <td>C=1, gamma=Auto</td>\n",
              "      <td>HoG PCA + LBP PCA</td>\n",
              "      <td>0.028133</td>\n",
              "      <td>0.051345</td>\n",
              "      <td>0.079478</td>\n",
              "      <td>0.96000</td>\n",
              "    </tr>\n",
              "    <tr>\n",
              "      <th>229</th>\n",
              "      <td>C=2, gamma=Auto</td>\n",
              "      <td>HoG PCA + LBP PCA</td>\n",
              "      <td>0.030691</td>\n",
              "      <td>0.051345</td>\n",
              "      <td>0.082035</td>\n",
              "      <td>0.95875</td>\n",
              "    </tr>\n",
              "    <tr>\n",
              "      <th>234</th>\n",
              "      <td>C=3, gamma=Auto</td>\n",
              "      <td>HoG PCA + LBP PCA</td>\n",
              "      <td>0.030691</td>\n",
              "      <td>0.053790</td>\n",
              "      <td>0.084480</td>\n",
              "      <td>0.95750</td>\n",
              "    </tr>\n",
              "    <tr>\n",
              "      <th>239</th>\n",
              "      <td>C=4, gamma=Auto</td>\n",
              "      <td>HoG PCA + LBP PCA</td>\n",
              "      <td>0.030691</td>\n",
              "      <td>0.053790</td>\n",
              "      <td>0.084480</td>\n",
              "      <td>0.95750</td>\n",
              "    </tr>\n",
              "    <tr>\n",
              "      <th>44</th>\n",
              "      <td>C=1, gamma=0.001</td>\n",
              "      <td>HoG PCA + LBP PCA</td>\n",
              "      <td>0.038363</td>\n",
              "      <td>0.046455</td>\n",
              "      <td>0.084818</td>\n",
              "      <td>0.95750</td>\n",
              "    </tr>\n",
              "    <tr>\n",
              "      <th>59</th>\n",
              "      <td>C=4, gamma=0.001</td>\n",
              "      <td>HoG PCA + LBP PCA</td>\n",
              "      <td>0.046036</td>\n",
              "      <td>0.041565</td>\n",
              "      <td>0.087601</td>\n",
              "      <td>0.95625</td>\n",
              "    </tr>\n",
              "    <tr>\n",
              "      <th>54</th>\n",
              "      <td>C=3, gamma=0.001</td>\n",
              "      <td>HoG PCA + LBP PCA</td>\n",
              "      <td>0.046036</td>\n",
              "      <td>0.044010</td>\n",
              "      <td>0.090046</td>\n",
              "      <td>0.95500</td>\n",
              "    </tr>\n",
              "    <tr>\n",
              "      <th>49</th>\n",
              "      <td>C=2, gamma=0.001</td>\n",
              "      <td>HoG PCA + LBP PCA</td>\n",
              "      <td>0.046036</td>\n",
              "      <td>0.048900</td>\n",
              "      <td>0.094936</td>\n",
              "      <td>0.95250</td>\n",
              "    </tr>\n",
              "    <tr>\n",
              "      <th>9</th>\n",
              "      <td>C=2, gamma=0.0001</td>\n",
              "      <td>HoG PCA + LBP PCA</td>\n",
              "      <td>0.040921</td>\n",
              "      <td>0.056235</td>\n",
              "      <td>0.097155</td>\n",
              "      <td>0.95125</td>\n",
              "    </tr>\n",
              "    <tr>\n",
              "      <th>24</th>\n",
              "      <td>C=1, gamma=0.0005</td>\n",
              "      <td>HoG PCA + LBP PCA</td>\n",
              "      <td>0.040921</td>\n",
              "      <td>0.056235</td>\n",
              "      <td>0.097155</td>\n",
              "      <td>0.95125</td>\n",
              "    </tr>\n",
              "    <tr>\n",
              "      <th>4</th>\n",
              "      <td>C=1, gamma=0.0001</td>\n",
              "      <td>HoG PCA + LBP PCA</td>\n",
              "      <td>0.043478</td>\n",
              "      <td>0.053790</td>\n",
              "      <td>0.097268</td>\n",
              "      <td>0.95125</td>\n",
              "    </tr>\n",
              "    <tr>\n",
              "      <th>14</th>\n",
              "      <td>C=3, gamma=0.0001</td>\n",
              "      <td>HoG PCA + LBP PCA</td>\n",
              "      <td>0.043478</td>\n",
              "      <td>0.056235</td>\n",
              "      <td>0.099713</td>\n",
              "      <td>0.95000</td>\n",
              "    </tr>\n",
              "    <tr>\n",
              "      <th>19</th>\n",
              "      <td>C=4, gamma=0.0001</td>\n",
              "      <td>HoG PCA + LBP PCA</td>\n",
              "      <td>0.046036</td>\n",
              "      <td>0.058680</td>\n",
              "      <td>0.104716</td>\n",
              "      <td>0.94750</td>\n",
              "    </tr>\n",
              "    <tr>\n",
              "      <th>34</th>\n",
              "      <td>C=3, gamma=0.0005</td>\n",
              "      <td>HoG PCA + LBP PCA</td>\n",
              "      <td>0.053708</td>\n",
              "      <td>0.051345</td>\n",
              "      <td>0.105053</td>\n",
              "      <td>0.94750</td>\n",
              "    </tr>\n",
              "    <tr>\n",
              "      <th>39</th>\n",
              "      <td>C=4, gamma=0.0005</td>\n",
              "      <td>HoG PCA + LBP PCA</td>\n",
              "      <td>0.053708</td>\n",
              "      <td>0.051345</td>\n",
              "      <td>0.105053</td>\n",
              "      <td>0.94750</td>\n",
              "    </tr>\n",
              "    <tr>\n",
              "      <th>232</th>\n",
              "      <td>C=3, gamma=Auto</td>\n",
              "      <td>LBP only</td>\n",
              "      <td>0.058824</td>\n",
              "      <td>0.046455</td>\n",
              "      <td>0.105278</td>\n",
              "      <td>0.94750</td>\n",
              "    </tr>\n",
              "    <tr>\n",
              "      <th>29</th>\n",
              "      <td>C=2, gamma=0.0005</td>\n",
              "      <td>HoG PCA + LBP PCA</td>\n",
              "      <td>0.048593</td>\n",
              "      <td>0.058680</td>\n",
              "      <td>0.107273</td>\n",
              "      <td>0.94625</td>\n",
              "    </tr>\n",
              "    <tr>\n",
              "      <th>227</th>\n",
              "      <td>C=2, gamma=Auto</td>\n",
              "      <td>LBP only</td>\n",
              "      <td>0.058824</td>\n",
              "      <td>0.048900</td>\n",
              "      <td>0.107723</td>\n",
              "      <td>0.94625</td>\n",
              "    </tr>\n",
              "    <tr>\n",
              "      <th>237</th>\n",
              "      <td>C=4, gamma=Auto</td>\n",
              "      <td>LBP only</td>\n",
              "      <td>0.061381</td>\n",
              "      <td>0.046455</td>\n",
              "      <td>0.107836</td>\n",
              "      <td>0.94625</td>\n",
              "    </tr>\n",
              "    <tr>\n",
              "      <th>57</th>\n",
              "      <td>C=4, gamma=0.001</td>\n",
              "      <td>LBP only</td>\n",
              "      <td>0.061381</td>\n",
              "      <td>0.048900</td>\n",
              "      <td>0.110281</td>\n",
              "      <td>0.94500</td>\n",
              "    </tr>\n",
              "    <tr>\n",
              "      <th>222</th>\n",
              "      <td>C=1, gamma=Auto</td>\n",
              "      <td>LBP only</td>\n",
              "      <td>0.058824</td>\n",
              "      <td>0.058680</td>\n",
              "      <td>0.117503</td>\n",
              "      <td>0.94125</td>\n",
              "    </tr>\n",
              "    <tr>\n",
              "      <th>68</th>\n",
              "      <td>C=2, gamma=0.005</td>\n",
              "      <td>LBP PCA</td>\n",
              "      <td>0.061381</td>\n",
              "      <td>0.058680</td>\n",
              "      <td>0.120061</td>\n",
              "      <td>0.94000</td>\n",
              "    </tr>\n",
              "    <tr>\n",
              "      <th>73</th>\n",
              "      <td>C=3, gamma=0.005</td>\n",
              "      <td>LBP PCA</td>\n",
              "      <td>0.061381</td>\n",
              "      <td>0.058680</td>\n",
              "      <td>0.120061</td>\n",
              "      <td>0.94000</td>\n",
              "    </tr>\n",
              "    <tr>\n",
              "      <th>78</th>\n",
              "      <td>C=4, gamma=0.005</td>\n",
              "      <td>LBP PCA</td>\n",
              "      <td>0.061381</td>\n",
              "      <td>0.058680</td>\n",
              "      <td>0.120061</td>\n",
              "      <td>0.94000</td>\n",
              "    </tr>\n",
              "    <tr>\n",
              "      <th>228</th>\n",
              "      <td>C=2, gamma=Auto</td>\n",
              "      <td>LBP PCA</td>\n",
              "      <td>0.061381</td>\n",
              "      <td>0.058680</td>\n",
              "      <td>0.120061</td>\n",
              "      <td>0.94000</td>\n",
              "    </tr>\n",
              "    <tr>\n",
              "      <th>233</th>\n",
              "      <td>C=3, gamma=Auto</td>\n",
              "      <td>LBP PCA</td>\n",
              "      <td>0.061381</td>\n",
              "      <td>0.058680</td>\n",
              "      <td>0.120061</td>\n",
              "      <td>0.94000</td>\n",
              "    </tr>\n",
              "    <tr>\n",
              "      <th>238</th>\n",
              "      <td>C=4, gamma=Auto</td>\n",
              "      <td>LBP PCA</td>\n",
              "      <td>0.061381</td>\n",
              "      <td>0.058680</td>\n",
              "      <td>0.120061</td>\n",
              "      <td>0.94000</td>\n",
              "    </tr>\n",
              "    <tr>\n",
              "      <th>63</th>\n",
              "      <td>C=1, gamma=0.005</td>\n",
              "      <td>LBP PCA</td>\n",
              "      <td>0.063939</td>\n",
              "      <td>0.056235</td>\n",
              "      <td>0.120173</td>\n",
              "      <td>0.94000</td>\n",
              "    </tr>\n",
              "    <tr>\n",
              "      <th>223</th>\n",
              "      <td>C=1, gamma=Auto</td>\n",
              "      <td>LBP PCA</td>\n",
              "      <td>0.063939</td>\n",
              "      <td>0.056235</td>\n",
              "      <td>0.120173</td>\n",
              "      <td>0.94000</td>\n",
              "    </tr>\n",
              "    <tr>\n",
              "      <th>52</th>\n",
              "      <td>C=3, gamma=0.001</td>\n",
              "      <td>LBP only</td>\n",
              "      <td>0.066496</td>\n",
              "      <td>0.053790</td>\n",
              "      <td>0.120286</td>\n",
              "      <td>0.94000</td>\n",
              "    </tr>\n",
              "    <tr>\n",
              "      <th>...</th>\n",
              "      <td>...</td>\n",
              "      <td>...</td>\n",
              "      <td>...</td>\n",
              "      <td>...</td>\n",
              "      <td>...</td>\n",
              "      <td>...</td>\n",
              "    </tr>\n",
              "    <tr>\n",
              "      <th>190</th>\n",
              "      <td>C=3, gamma=5</td>\n",
              "      <td>HoG only</td>\n",
              "      <td>1.000000</td>\n",
              "      <td>0.000000</td>\n",
              "      <td>1.000000</td>\n",
              "      <td>0.51125</td>\n",
              "    </tr>\n",
              "    <tr>\n",
              "      <th>191</th>\n",
              "      <td>C=3, gamma=5</td>\n",
              "      <td>HoG PCA</td>\n",
              "      <td>1.000000</td>\n",
              "      <td>0.000000</td>\n",
              "      <td>1.000000</td>\n",
              "      <td>0.51125</td>\n",
              "    </tr>\n",
              "    <tr>\n",
              "      <th>192</th>\n",
              "      <td>C=3, gamma=5</td>\n",
              "      <td>LBP only</td>\n",
              "      <td>1.000000</td>\n",
              "      <td>0.000000</td>\n",
              "      <td>1.000000</td>\n",
              "      <td>0.51125</td>\n",
              "    </tr>\n",
              "    <tr>\n",
              "      <th>193</th>\n",
              "      <td>C=3, gamma=5</td>\n",
              "      <td>LBP PCA</td>\n",
              "      <td>1.000000</td>\n",
              "      <td>0.000000</td>\n",
              "      <td>1.000000</td>\n",
              "      <td>0.51125</td>\n",
              "    </tr>\n",
              "    <tr>\n",
              "      <th>194</th>\n",
              "      <td>C=3, gamma=5</td>\n",
              "      <td>HoG PCA + LBP PCA</td>\n",
              "      <td>1.000000</td>\n",
              "      <td>0.000000</td>\n",
              "      <td>1.000000</td>\n",
              "      <td>0.51125</td>\n",
              "    </tr>\n",
              "    <tr>\n",
              "      <th>195</th>\n",
              "      <td>C=4, gamma=5</td>\n",
              "      <td>HoG only</td>\n",
              "      <td>1.000000</td>\n",
              "      <td>0.000000</td>\n",
              "      <td>1.000000</td>\n",
              "      <td>0.51125</td>\n",
              "    </tr>\n",
              "    <tr>\n",
              "      <th>196</th>\n",
              "      <td>C=4, gamma=5</td>\n",
              "      <td>HoG PCA</td>\n",
              "      <td>1.000000</td>\n",
              "      <td>0.000000</td>\n",
              "      <td>1.000000</td>\n",
              "      <td>0.51125</td>\n",
              "    </tr>\n",
              "    <tr>\n",
              "      <th>197</th>\n",
              "      <td>C=4, gamma=5</td>\n",
              "      <td>LBP only</td>\n",
              "      <td>1.000000</td>\n",
              "      <td>0.000000</td>\n",
              "      <td>1.000000</td>\n",
              "      <td>0.51125</td>\n",
              "    </tr>\n",
              "    <tr>\n",
              "      <th>198</th>\n",
              "      <td>C=4, gamma=5</td>\n",
              "      <td>LBP PCA</td>\n",
              "      <td>1.000000</td>\n",
              "      <td>0.000000</td>\n",
              "      <td>1.000000</td>\n",
              "      <td>0.51125</td>\n",
              "    </tr>\n",
              "    <tr>\n",
              "      <th>199</th>\n",
              "      <td>C=4, gamma=5</td>\n",
              "      <td>HoG PCA + LBP PCA</td>\n",
              "      <td>1.000000</td>\n",
              "      <td>0.000000</td>\n",
              "      <td>1.000000</td>\n",
              "      <td>0.51125</td>\n",
              "    </tr>\n",
              "    <tr>\n",
              "      <th>200</th>\n",
              "      <td>C=1, gamma=2</td>\n",
              "      <td>HoG only</td>\n",
              "      <td>1.000000</td>\n",
              "      <td>0.000000</td>\n",
              "      <td>1.000000</td>\n",
              "      <td>0.51125</td>\n",
              "    </tr>\n",
              "    <tr>\n",
              "      <th>201</th>\n",
              "      <td>C=1, gamma=2</td>\n",
              "      <td>HoG PCA</td>\n",
              "      <td>1.000000</td>\n",
              "      <td>0.000000</td>\n",
              "      <td>1.000000</td>\n",
              "      <td>0.51125</td>\n",
              "    </tr>\n",
              "    <tr>\n",
              "      <th>202</th>\n",
              "      <td>C=1, gamma=2</td>\n",
              "      <td>LBP only</td>\n",
              "      <td>1.000000</td>\n",
              "      <td>0.000000</td>\n",
              "      <td>1.000000</td>\n",
              "      <td>0.51125</td>\n",
              "    </tr>\n",
              "    <tr>\n",
              "      <th>203</th>\n",
              "      <td>C=1, gamma=2</td>\n",
              "      <td>LBP PCA</td>\n",
              "      <td>1.000000</td>\n",
              "      <td>0.000000</td>\n",
              "      <td>1.000000</td>\n",
              "      <td>0.51125</td>\n",
              "    </tr>\n",
              "    <tr>\n",
              "      <th>204</th>\n",
              "      <td>C=1, gamma=2</td>\n",
              "      <td>HoG PCA + LBP PCA</td>\n",
              "      <td>1.000000</td>\n",
              "      <td>0.000000</td>\n",
              "      <td>1.000000</td>\n",
              "      <td>0.51125</td>\n",
              "    </tr>\n",
              "    <tr>\n",
              "      <th>205</th>\n",
              "      <td>C=2, gamma=2</td>\n",
              "      <td>HoG only</td>\n",
              "      <td>1.000000</td>\n",
              "      <td>0.000000</td>\n",
              "      <td>1.000000</td>\n",
              "      <td>0.51125</td>\n",
              "    </tr>\n",
              "    <tr>\n",
              "      <th>206</th>\n",
              "      <td>C=2, gamma=2</td>\n",
              "      <td>HoG PCA</td>\n",
              "      <td>1.000000</td>\n",
              "      <td>0.000000</td>\n",
              "      <td>1.000000</td>\n",
              "      <td>0.51125</td>\n",
              "    </tr>\n",
              "    <tr>\n",
              "      <th>207</th>\n",
              "      <td>C=2, gamma=2</td>\n",
              "      <td>LBP only</td>\n",
              "      <td>1.000000</td>\n",
              "      <td>0.000000</td>\n",
              "      <td>1.000000</td>\n",
              "      <td>0.51125</td>\n",
              "    </tr>\n",
              "    <tr>\n",
              "      <th>208</th>\n",
              "      <td>C=2, gamma=2</td>\n",
              "      <td>LBP PCA</td>\n",
              "      <td>1.000000</td>\n",
              "      <td>0.000000</td>\n",
              "      <td>1.000000</td>\n",
              "      <td>0.51125</td>\n",
              "    </tr>\n",
              "    <tr>\n",
              "      <th>209</th>\n",
              "      <td>C=2, gamma=2</td>\n",
              "      <td>HoG PCA + LBP PCA</td>\n",
              "      <td>1.000000</td>\n",
              "      <td>0.000000</td>\n",
              "      <td>1.000000</td>\n",
              "      <td>0.51125</td>\n",
              "    </tr>\n",
              "    <tr>\n",
              "      <th>210</th>\n",
              "      <td>C=3, gamma=2</td>\n",
              "      <td>HoG only</td>\n",
              "      <td>1.000000</td>\n",
              "      <td>0.000000</td>\n",
              "      <td>1.000000</td>\n",
              "      <td>0.51125</td>\n",
              "    </tr>\n",
              "    <tr>\n",
              "      <th>211</th>\n",
              "      <td>C=3, gamma=2</td>\n",
              "      <td>HoG PCA</td>\n",
              "      <td>1.000000</td>\n",
              "      <td>0.000000</td>\n",
              "      <td>1.000000</td>\n",
              "      <td>0.51125</td>\n",
              "    </tr>\n",
              "    <tr>\n",
              "      <th>212</th>\n",
              "      <td>C=3, gamma=2</td>\n",
              "      <td>LBP only</td>\n",
              "      <td>1.000000</td>\n",
              "      <td>0.000000</td>\n",
              "      <td>1.000000</td>\n",
              "      <td>0.51125</td>\n",
              "    </tr>\n",
              "    <tr>\n",
              "      <th>213</th>\n",
              "      <td>C=3, gamma=2</td>\n",
              "      <td>LBP PCA</td>\n",
              "      <td>1.000000</td>\n",
              "      <td>0.000000</td>\n",
              "      <td>1.000000</td>\n",
              "      <td>0.51125</td>\n",
              "    </tr>\n",
              "    <tr>\n",
              "      <th>214</th>\n",
              "      <td>C=3, gamma=2</td>\n",
              "      <td>HoG PCA + LBP PCA</td>\n",
              "      <td>1.000000</td>\n",
              "      <td>0.000000</td>\n",
              "      <td>1.000000</td>\n",
              "      <td>0.51125</td>\n",
              "    </tr>\n",
              "    <tr>\n",
              "      <th>215</th>\n",
              "      <td>C=4, gamma=2</td>\n",
              "      <td>HoG only</td>\n",
              "      <td>1.000000</td>\n",
              "      <td>0.000000</td>\n",
              "      <td>1.000000</td>\n",
              "      <td>0.51125</td>\n",
              "    </tr>\n",
              "    <tr>\n",
              "      <th>216</th>\n",
              "      <td>C=4, gamma=2</td>\n",
              "      <td>HoG PCA</td>\n",
              "      <td>1.000000</td>\n",
              "      <td>0.000000</td>\n",
              "      <td>1.000000</td>\n",
              "      <td>0.51125</td>\n",
              "    </tr>\n",
              "    <tr>\n",
              "      <th>217</th>\n",
              "      <td>C=4, gamma=2</td>\n",
              "      <td>LBP only</td>\n",
              "      <td>1.000000</td>\n",
              "      <td>0.000000</td>\n",
              "      <td>1.000000</td>\n",
              "      <td>0.51125</td>\n",
              "    </tr>\n",
              "    <tr>\n",
              "      <th>218</th>\n",
              "      <td>C=4, gamma=2</td>\n",
              "      <td>LBP PCA</td>\n",
              "      <td>1.000000</td>\n",
              "      <td>0.000000</td>\n",
              "      <td>1.000000</td>\n",
              "      <td>0.51125</td>\n",
              "    </tr>\n",
              "    <tr>\n",
              "      <th>219</th>\n",
              "      <td>C=4, gamma=2</td>\n",
              "      <td>HoG PCA + LBP PCA</td>\n",
              "      <td>1.000000</td>\n",
              "      <td>0.000000</td>\n",
              "      <td>1.000000</td>\n",
              "      <td>0.51125</td>\n",
              "    </tr>\n",
              "  </tbody>\n",
              "</table>\n",
              "<p>240 rows × 6 columns</p>\n",
              "</div>"
            ],
            "text/plain": [
              "            Classifier            Dataset       FPR       FNR       TFR  \\\n",
              "224    C=1, gamma=Auto  HoG PCA + LBP PCA  0.028133  0.051345  0.079478   \n",
              "229    C=2, gamma=Auto  HoG PCA + LBP PCA  0.030691  0.051345  0.082035   \n",
              "234    C=3, gamma=Auto  HoG PCA + LBP PCA  0.030691  0.053790  0.084480   \n",
              "239    C=4, gamma=Auto  HoG PCA + LBP PCA  0.030691  0.053790  0.084480   \n",
              "44    C=1, gamma=0.001  HoG PCA + LBP PCA  0.038363  0.046455  0.084818   \n",
              "59    C=4, gamma=0.001  HoG PCA + LBP PCA  0.046036  0.041565  0.087601   \n",
              "54    C=3, gamma=0.001  HoG PCA + LBP PCA  0.046036  0.044010  0.090046   \n",
              "49    C=2, gamma=0.001  HoG PCA + LBP PCA  0.046036  0.048900  0.094936   \n",
              "9    C=2, gamma=0.0001  HoG PCA + LBP PCA  0.040921  0.056235  0.097155   \n",
              "24   C=1, gamma=0.0005  HoG PCA + LBP PCA  0.040921  0.056235  0.097155   \n",
              "4    C=1, gamma=0.0001  HoG PCA + LBP PCA  0.043478  0.053790  0.097268   \n",
              "14   C=3, gamma=0.0001  HoG PCA + LBP PCA  0.043478  0.056235  0.099713   \n",
              "19   C=4, gamma=0.0001  HoG PCA + LBP PCA  0.046036  0.058680  0.104716   \n",
              "34   C=3, gamma=0.0005  HoG PCA + LBP PCA  0.053708  0.051345  0.105053   \n",
              "39   C=4, gamma=0.0005  HoG PCA + LBP PCA  0.053708  0.051345  0.105053   \n",
              "232    C=3, gamma=Auto           LBP only  0.058824  0.046455  0.105278   \n",
              "29   C=2, gamma=0.0005  HoG PCA + LBP PCA  0.048593  0.058680  0.107273   \n",
              "227    C=2, gamma=Auto           LBP only  0.058824  0.048900  0.107723   \n",
              "237    C=4, gamma=Auto           LBP only  0.061381  0.046455  0.107836   \n",
              "57    C=4, gamma=0.001           LBP only  0.061381  0.048900  0.110281   \n",
              "222    C=1, gamma=Auto           LBP only  0.058824  0.058680  0.117503   \n",
              "68    C=2, gamma=0.005            LBP PCA  0.061381  0.058680  0.120061   \n",
              "73    C=3, gamma=0.005            LBP PCA  0.061381  0.058680  0.120061   \n",
              "78    C=4, gamma=0.005            LBP PCA  0.061381  0.058680  0.120061   \n",
              "228    C=2, gamma=Auto            LBP PCA  0.061381  0.058680  0.120061   \n",
              "233    C=3, gamma=Auto            LBP PCA  0.061381  0.058680  0.120061   \n",
              "238    C=4, gamma=Auto            LBP PCA  0.061381  0.058680  0.120061   \n",
              "63    C=1, gamma=0.005            LBP PCA  0.063939  0.056235  0.120173   \n",
              "223    C=1, gamma=Auto            LBP PCA  0.063939  0.056235  0.120173   \n",
              "52    C=3, gamma=0.001           LBP only  0.066496  0.053790  0.120286   \n",
              "..                 ...                ...       ...       ...       ...   \n",
              "190       C=3, gamma=5           HoG only  1.000000  0.000000  1.000000   \n",
              "191       C=3, gamma=5            HoG PCA  1.000000  0.000000  1.000000   \n",
              "192       C=3, gamma=5           LBP only  1.000000  0.000000  1.000000   \n",
              "193       C=3, gamma=5            LBP PCA  1.000000  0.000000  1.000000   \n",
              "194       C=3, gamma=5  HoG PCA + LBP PCA  1.000000  0.000000  1.000000   \n",
              "195       C=4, gamma=5           HoG only  1.000000  0.000000  1.000000   \n",
              "196       C=4, gamma=5            HoG PCA  1.000000  0.000000  1.000000   \n",
              "197       C=4, gamma=5           LBP only  1.000000  0.000000  1.000000   \n",
              "198       C=4, gamma=5            LBP PCA  1.000000  0.000000  1.000000   \n",
              "199       C=4, gamma=5  HoG PCA + LBP PCA  1.000000  0.000000  1.000000   \n",
              "200       C=1, gamma=2           HoG only  1.000000  0.000000  1.000000   \n",
              "201       C=1, gamma=2            HoG PCA  1.000000  0.000000  1.000000   \n",
              "202       C=1, gamma=2           LBP only  1.000000  0.000000  1.000000   \n",
              "203       C=1, gamma=2            LBP PCA  1.000000  0.000000  1.000000   \n",
              "204       C=1, gamma=2  HoG PCA + LBP PCA  1.000000  0.000000  1.000000   \n",
              "205       C=2, gamma=2           HoG only  1.000000  0.000000  1.000000   \n",
              "206       C=2, gamma=2            HoG PCA  1.000000  0.000000  1.000000   \n",
              "207       C=2, gamma=2           LBP only  1.000000  0.000000  1.000000   \n",
              "208       C=2, gamma=2            LBP PCA  1.000000  0.000000  1.000000   \n",
              "209       C=2, gamma=2  HoG PCA + LBP PCA  1.000000  0.000000  1.000000   \n",
              "210       C=3, gamma=2           HoG only  1.000000  0.000000  1.000000   \n",
              "211       C=3, gamma=2            HoG PCA  1.000000  0.000000  1.000000   \n",
              "212       C=3, gamma=2           LBP only  1.000000  0.000000  1.000000   \n",
              "213       C=3, gamma=2            LBP PCA  1.000000  0.000000  1.000000   \n",
              "214       C=3, gamma=2  HoG PCA + LBP PCA  1.000000  0.000000  1.000000   \n",
              "215       C=4, gamma=2           HoG only  1.000000  0.000000  1.000000   \n",
              "216       C=4, gamma=2            HoG PCA  1.000000  0.000000  1.000000   \n",
              "217       C=4, gamma=2           LBP only  1.000000  0.000000  1.000000   \n",
              "218       C=4, gamma=2            LBP PCA  1.000000  0.000000  1.000000   \n",
              "219       C=4, gamma=2  HoG PCA + LBP PCA  1.000000  0.000000  1.000000   \n",
              "\n",
              "     Accuracy  \n",
              "224   0.96000  \n",
              "229   0.95875  \n",
              "234   0.95750  \n",
              "239   0.95750  \n",
              "44    0.95750  \n",
              "59    0.95625  \n",
              "54    0.95500  \n",
              "49    0.95250  \n",
              "9     0.95125  \n",
              "24    0.95125  \n",
              "4     0.95125  \n",
              "14    0.95000  \n",
              "19    0.94750  \n",
              "34    0.94750  \n",
              "39    0.94750  \n",
              "232   0.94750  \n",
              "29    0.94625  \n",
              "227   0.94625  \n",
              "237   0.94625  \n",
              "57    0.94500  \n",
              "222   0.94125  \n",
              "68    0.94000  \n",
              "73    0.94000  \n",
              "78    0.94000  \n",
              "228   0.94000  \n",
              "233   0.94000  \n",
              "238   0.94000  \n",
              "63    0.94000  \n",
              "223   0.94000  \n",
              "52    0.94000  \n",
              "..        ...  \n",
              "190   0.51125  \n",
              "191   0.51125  \n",
              "192   0.51125  \n",
              "193   0.51125  \n",
              "194   0.51125  \n",
              "195   0.51125  \n",
              "196   0.51125  \n",
              "197   0.51125  \n",
              "198   0.51125  \n",
              "199   0.51125  \n",
              "200   0.51125  \n",
              "201   0.51125  \n",
              "202   0.51125  \n",
              "203   0.51125  \n",
              "204   0.51125  \n",
              "205   0.51125  \n",
              "206   0.51125  \n",
              "207   0.51125  \n",
              "208   0.51125  \n",
              "209   0.51125  \n",
              "210   0.51125  \n",
              "211   0.51125  \n",
              "212   0.51125  \n",
              "213   0.51125  \n",
              "214   0.51125  \n",
              "215   0.51125  \n",
              "216   0.51125  \n",
              "217   0.51125  \n",
              "218   0.51125  \n",
              "219   0.51125  \n",
              "\n",
              "[240 rows x 6 columns]"
            ]
          },
          "metadata": {
            "tags": []
          },
          "execution_count": 44
        }
      ]
    }
  ]
}